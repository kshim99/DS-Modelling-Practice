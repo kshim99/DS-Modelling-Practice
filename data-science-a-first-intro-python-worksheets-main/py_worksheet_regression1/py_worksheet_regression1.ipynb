{
 "cells": [
  {
   "cell_type": "markdown",
   "metadata": {
    "deletable": false,
    "editable": false,
    "nbgrader": {
     "cell_type": "markdown",
     "checksum": "287c943b3b3c791644f34632e4018ee8",
     "grade": false,
     "grade_id": "cell-6093d584be2ad9ed",
     "locked": true,
     "schema_version": 3,
     "solution": false
    }
   },
   "source": [
    "# Worksheet 8 - Regression\n",
    "\n",
    "### Lecture and Tutorial Learning Goals:\n",
    "\n",
    "After completing this week's lecture and tutorial work, you will be able to:\n",
    "- Recognize situations where a simple regression analysis would be appropriate for making predictions.\n",
    "- Explain the k-nearest neighbour ($k$-nn) regression algorithm and describe how it differs from $k$-nn classification.\n",
    "- Interpret the output of a $k$-nn regression.\n",
    "- In a dataset with two variables, perform k-nearest neighbour regression in Python using `scikit-learn` to predict the values for a test dataset.\n",
    "- Using Python, execute hyperparameter tuning in Python to choose the number of neighbours.\n",
    "- Using Python, evaluate $k$-nn regression prediction accuracy using a test data set and an appropriate metric (root mean squared error).\n",
    "- In the context of $k$-nn regression, compare and contrast goodness of fit and prediction properties (RMSE versus RMSPE).\n",
    "- Describe advantages and disadvantages of the $k$-nearest neighbour regression approach.\n",
    "\n",
    "This tutorial covers parts of [Chapter 7](https://python.datasciencebook.ca/regression1) of the online textbook. You should read this chapter before attempting this assignment. Any place you see `___`, you must fill in the function, variable, or data to complete the code. Substitute the `raise NotImplementedError` with your completed code and answers then proceed to run the cell."
   ]
  },
  {
   "cell_type": "code",
   "execution_count": null,
   "metadata": {
    "deletable": false,
    "editable": false,
    "nbgrader": {
     "cell_type": "code",
     "checksum": "557f03fa20fc0ebcf8983518d3f404b1",
     "grade": false,
     "grade_id": "cell-53085d5554f9dcc8",
     "locked": true,
     "schema_version": 3,
     "solution": false,
     "task": false
    }
   },
   "outputs": [],
   "source": [
    "### Run this cell before continuing.\n",
    "import altair as alt\n",
    "import numpy as np\n",
    "import pandas as pd\n",
    "from sklearn import set_config\n",
    "from sklearn.model_selection import GridSearchCV, cross_validate, train_test_split\n",
    "from sklearn.neighbors import KNeighborsRegressor\n",
    "from sklearn.pipeline import make_pipeline\n",
    "from sklearn.preprocessing import StandardScaler\n",
    "from sklearn.metrics import mean_squared_error\n",
    "\n",
    "# Simplify working with large datasets in Altair\n",
    "alt.data_transformers.disable_max_rows()\n",
    "\n",
    "# Output dataframes instead of arrays\n",
    "set_config(transform_output=\"pandas\")"
   ]
  },
  {
   "cell_type": "markdown",
   "metadata": {
    "deletable": false,
    "editable": false,
    "nbgrader": {
     "cell_type": "markdown",
     "checksum": "761fe69db4e2a0df7d566bcba24a6c5d",
     "grade": false,
     "grade_id": "cell-8e40e06455324a19",
     "locked": true,
     "schema_version": 3,
     "solution": false
    }
   },
   "source": [
    "**Question 0.0** \n",
    "<br> {points: 1}\n",
    "\n",
    "To predict a value of $Y$ for a new observation using $k$-nn **regression**, we identify the $k$-nearest neighbours and then:\n",
    "\n",
    "A. Assign it the median of the $k$-nearest neighbours as the predicted value\n",
    "\n",
    "B. Assign it the mean of the $k$-nearest neighbours as the predicted value\n",
    "\n",
    "C. Assign it the mode of the $k$-nearest neighbours as the predicted value\n",
    "\n",
    "D. Assign it the majority vote of the $k$-nearest neighbours as the predicted value\n",
    "\n",
    "*Save the letter of the answer you think is correct to a variable named `answer0_0`. Make sure your answer is an uppercase letter and is surrounded by quotation marks (e.g. `\"F\"`).*"
   ]
  },
  {
   "cell_type": "code",
   "execution_count": null,
   "metadata": {
    "deletable": false,
    "nbgrader": {
     "cell_type": "code",
     "checksum": "be09c84e9423c2fde7de7f9a7ff062d0",
     "grade": false,
     "grade_id": "cell-108236d99368cc44",
     "locked": false,
     "schema_version": 3,
     "solution": true
    }
   },
   "outputs": [],
   "source": [
    "# your code here\n",
    "raise NotImplementedError"
   ]
  },
  {
   "cell_type": "code",
   "execution_count": null,
   "metadata": {
    "deletable": false,
    "editable": false,
    "nbgrader": {
     "cell_type": "code",
     "checksum": "49ce12ef43ce88719799735d6309b0b7",
     "grade": true,
     "grade_id": "cell-7d5938e33a38edeb",
     "locked": true,
     "points": 1,
     "schema_version": 3,
     "solution": false
    }
   },
   "outputs": [],
   "source": [
    "from hashlib import sha1\n",
    "assert sha1(str(type(answer0_0)).encode(\"utf-8\")+b\"000fe37c656a089d\").hexdigest() == \"4ef40b011eae2943dde4af579c11052330f8975e\", \"type of answer0_0 is not str. answer0_0 should be an str\"\n",
    "assert sha1(str(len(answer0_0)).encode(\"utf-8\")+b\"000fe37c656a089d\").hexdigest() == \"74cfa2f7d057abd57674b615856dc85dde0a8db4\", \"length of answer0_0 is not correct\"\n",
    "assert sha1(str(answer0_0.lower()).encode(\"utf-8\")+b\"000fe37c656a089d\").hexdigest() == \"39edf08564fb5d6cec1f60ef9af1cf704c109a81\", \"value of answer0_0 is not correct\"\n",
    "assert sha1(str(answer0_0).encode(\"utf-8\")+b\"000fe37c656a089d\").hexdigest() == \"b0e5393b90fac11d85c9df0a5bd7c174814e22f8\", \"correct string value of answer0_0 but incorrect case of letters\"\n",
    "\n",
    "print('Success!')"
   ]
  },
  {
   "cell_type": "markdown",
   "metadata": {
    "deletable": false,
    "editable": false,
    "nbgrader": {
     "cell_type": "markdown",
     "checksum": "cb44f1b9b4de90f4fc22579922dfb503",
     "grade": false,
     "grade_id": "cell-b0f4fa2237ef0429",
     "locked": true,
     "schema_version": 3,
     "solution": false,
     "task": false
    }
   },
   "source": [
    "**Question 0.1**\n",
    "<br> {points: 1}\n",
    "\n",
    "Of those shown below, which is the correct formula for root mean squared error (RMSE)?\n",
    "\n",
    "\n",
    "A. $\\text{RMSE} = \\sqrt{\\frac{\\frac{1}{n}\\sum\\limits_{i=1}^{n}(y_i - \\hat{y_i})^2}{1 - n}}$\n",
    "\n",
    "B. $\\text{RMSE} = \\sqrt{\\frac{1}{n - 1}\\sum\\limits_{i=1}^{n}(y_i - \\hat{y_i})^2}$\n",
    "\n",
    "C. $\\text{RMSE} = \\sqrt{\\frac{1}{n}\\sum\\limits_{i=1}^{n}(y_i - \\hat{y_i})^2}$\n",
    "\n",
    "D. $\\text{RMSE} = \\sqrt{\\frac{1}{n}\\sum\\limits_{i=1}^{n}(y_i - \\hat{y_i})}$ \n",
    "\n",
    "*Save the letter of your answer to a variable named `answer0_1`. Make sure you put quotations around the letter and pay attention to case.*"
   ]
  },
  {
   "cell_type": "code",
   "execution_count": null,
   "metadata": {
    "deletable": false,
    "nbgrader": {
     "cell_type": "code",
     "checksum": "3fa947ab2ac171de2a28b1fcf66500d4",
     "grade": false,
     "grade_id": "cell-93c565d6974de38f",
     "locked": false,
     "schema_version": 3,
     "solution": true,
     "task": false
    }
   },
   "outputs": [],
   "source": [
    "# your code here\n",
    "raise NotImplementedError"
   ]
  },
  {
   "cell_type": "code",
   "execution_count": null,
   "metadata": {
    "deletable": false,
    "editable": false,
    "nbgrader": {
     "cell_type": "code",
     "checksum": "d029428bbc4cba2fbe83c8fd4bb77b38",
     "grade": true,
     "grade_id": "cell-b1e66491132c1e30",
     "locked": true,
     "points": 1,
     "schema_version": 3,
     "solution": false,
     "task": false
    }
   },
   "outputs": [],
   "source": [
    "from hashlib import sha1\n",
    "assert sha1(str(type(answer0_1)).encode(\"utf-8\")+b\"c9539f92543de733\").hexdigest() == \"249009c8158b32e5876258783807211c708e1784\", \"type of answer0_1 is not str. answer0_1 should be an str\"\n",
    "assert sha1(str(len(answer0_1)).encode(\"utf-8\")+b\"c9539f92543de733\").hexdigest() == \"aa660f809675ec4518170b0c9fce1cc746b3996e\", \"length of answer0_1 is not correct\"\n",
    "assert sha1(str(answer0_1.lower()).encode(\"utf-8\")+b\"c9539f92543de733\").hexdigest() == \"30a2ae027bdc80b2331d1b896163ff05c0ad6107\", \"value of answer0_1 is not correct\"\n",
    "assert sha1(str(answer0_1).encode(\"utf-8\")+b\"c9539f92543de733\").hexdigest() == \"553ab8a6a5889ff6064103174de6aa4208722512\", \"correct string value of answer0_1 but incorrect case of letters\"\n",
    "\n",
    "print('Success!')"
   ]
  },
  {
   "cell_type": "markdown",
   "metadata": {
    "deletable": false,
    "editable": false,
    "nbgrader": {
     "cell_type": "markdown",
     "checksum": "247617d4518ef89461e9e157503fac43",
     "grade": false,
     "grade_id": "cell-ded5f8fa4e621b81",
     "locked": true,
     "schema_version": 3,
     "solution": false
    }
   },
   "source": [
    "**Question 0.2**\n",
    "<br> {points: 1}\n",
    "\n",
    "The plot below is a very simple k-nn regression example, where the black dots are the data observations and the blue line is the predictions from a $k$-nn regression model created from this data where $k=2$.\n",
    "\n",
    "Using the formula for root mean squared error (given in the reading), and the graph below, by hand (pen and paper or use Python as a calculator) calculate the RMSE for this model. **Use one decimal place of precision when inputting the heights of the black dots and blue line.** \n",
    "\n",
    "*Save your answer to a variable named `answer0_2`*\n",
    "\n",
    "<img align=\"left\" src=\"img/k-nn_RMSE.jpeg\" />"
   ]
  },
  {
   "cell_type": "code",
   "execution_count": null,
   "metadata": {
    "deletable": false,
    "nbgrader": {
     "cell_type": "code",
     "checksum": "712a52037eb11184818103e9f607d13f",
     "grade": false,
     "grade_id": "cell-8dc7cc6f35de80cb",
     "locked": false,
     "schema_version": 3,
     "solution": true
    }
   },
   "outputs": [],
   "source": [
    "# your code here\n",
    "raise NotImplementedError\n",
    "answer0_2"
   ]
  },
  {
   "cell_type": "code",
   "execution_count": null,
   "metadata": {
    "deletable": false,
    "editable": false,
    "nbgrader": {
     "cell_type": "code",
     "checksum": "5c2152571b3c671efcbf7fdc597d1982",
     "grade": true,
     "grade_id": "cell-d90b3e7b890ce86b",
     "locked": true,
     "points": 1,
     "schema_version": 3,
     "solution": false
    }
   },
   "outputs": [],
   "source": [
    "from hashlib import sha1\n",
    "assert sha1(str(type(answer0_2)).encode(\"utf-8\")+b\"e739e4624f5284ce\").hexdigest() == \"33ccdcf4ed3f9e76d04abd4e9affb8ad83ae2c47\", \"type of answer0_2 is not float. Please make sure it is float and not np.float64, etc. You can cast your value into a float using float()\"\n",
    "assert sha1(str(round(answer0_2, 2)).encode(\"utf-8\")+b\"e739e4624f5284ce\").hexdigest() == \"2e9204b0e0cfb5bacccf9156962f6450a55c317e\", \"value of answer0_2 is not correct (rounded to 2 decimal places)\"\n",
    "\n",
    "print('Success!')"
   ]
  },
  {
   "cell_type": "markdown",
   "metadata": {
    "deletable": false,
    "editable": false,
    "nbgrader": {
     "cell_type": "markdown",
     "checksum": "7d5cd1229dfed0d018c205a39336ef31",
     "grade": false,
     "grade_id": "cell-73d7913554df0781",
     "locked": true,
     "schema_version": 3,
     "solution": false,
     "task": false
    }
   },
   "source": [
    "### RMSPE Definition\n",
    "\n",
    "**Question 0.3** \n",
    "<br> {points: 1}\n",
    "\n",
    "What does RMSPE stand for?\n",
    "\n",
    "\n",
    "A. root mean squared prediction error\n",
    "\n",
    "B. root mean squared percentage error \n",
    "\n",
    "C. root mean squared performance error \n",
    "\n",
    "D. root mean squared preference error \n",
    "\n",
    "*Save the letter of your answer to a variable named `answer0_3`. Make sure you put quotations around the letter and pay attention to case.*"
   ]
  },
  {
   "cell_type": "code",
   "execution_count": null,
   "metadata": {
    "deletable": false,
    "nbgrader": {
     "cell_type": "code",
     "checksum": "1c552fb5d4f17448f4ef16ff47bfd1de",
     "grade": false,
     "grade_id": "cell-81be027da315cb3f",
     "locked": false,
     "schema_version": 3,
     "solution": true,
     "task": false
    }
   },
   "outputs": [],
   "source": [
    "# your code here\n",
    "raise NotImplementedError"
   ]
  },
  {
   "cell_type": "code",
   "execution_count": null,
   "metadata": {
    "deletable": false,
    "editable": false,
    "nbgrader": {
     "cell_type": "code",
     "checksum": "e36604cab773ed2889ba58e461e649b2",
     "grade": true,
     "grade_id": "cell-db93265fd197f97f",
     "locked": true,
     "points": 1,
     "schema_version": 3,
     "solution": false,
     "task": false
    }
   },
   "outputs": [],
   "source": [
    "from hashlib import sha1\n",
    "assert sha1(str(type(answer0_3)).encode(\"utf-8\")+b\"66be2edc460026da\").hexdigest() == \"61df880b0f8bd6b01b691a056a276b4ec9828765\", \"type of answer0_3 is not str. answer0_3 should be an str\"\n",
    "assert sha1(str(len(answer0_3)).encode(\"utf-8\")+b\"66be2edc460026da\").hexdigest() == \"2677389896ac9ccd2952e1735a76b1a02d85d520\", \"length of answer0_3 is not correct\"\n",
    "assert sha1(str(answer0_3.lower()).encode(\"utf-8\")+b\"66be2edc460026da\").hexdigest() == \"12505f13f5bfc96d8763d530aa72cdcf88fc09bc\", \"value of answer0_3 is not correct\"\n",
    "assert sha1(str(answer0_3).encode(\"utf-8\")+b\"66be2edc460026da\").hexdigest() == \"6f6b45e5bcda1d549a6756c7c4c3cd163912868e\", \"correct string value of answer0_3 but incorrect case of letters\"\n",
    "\n",
    "print('Success!')"
   ]
  },
  {
   "cell_type": "markdown",
   "metadata": {
    "deletable": false,
    "editable": false,
    "nbgrader": {
     "cell_type": "markdown",
     "checksum": "4d69f891ae2b08cee7906ae7f104890d",
     "grade": false,
     "grade_id": "cell-e612110169987c7b",
     "locked": true,
     "schema_version": 3,
     "solution": false,
     "task": false
    }
   },
   "source": [
    "## Marathon Training\n",
    "\n",
    "<img src='https://media.giphy.com/media/nUN6InE2CodRm/giphy.gif' width='400'>\n",
    "\n",
    "Source: https://media.giphy.com/media/nUN6InE2CodRm/giphy.gif\n",
    "\n",
    "What predicts which athletes will perform better than others? Specifically, we are interested in marathon runners, and looking at how the maximum distance ran per week (in miles) during race training predicts the time it takes a runner to finish the race. For this, we will be looking at the `marathon.csv` file in the `data/` folder."
   ]
  },
  {
   "cell_type": "markdown",
   "metadata": {
    "deletable": false,
    "editable": false,
    "nbgrader": {
     "cell_type": "markdown",
     "checksum": "9ea30c1434a67e3876226cd543d43d4c",
     "grade": false,
     "grade_id": "cell-16d7d432c49c9e53",
     "locked": true,
     "schema_version": 3,
     "solution": false
    }
   },
   "source": [
    "**Question 1.0** \n",
    "<br> {points: 1}\n",
    "\n",
    "Load the data and assign it to an object called `marathon`. "
   ]
  },
  {
   "cell_type": "code",
   "execution_count": null,
   "metadata": {
    "deletable": false,
    "nbgrader": {
     "cell_type": "code",
     "checksum": "75aa40b2dc5eadc254c56f3ec9d4a9b5",
     "grade": false,
     "grade_id": "cell-5376dc2c39983258",
     "locked": false,
     "schema_version": 3,
     "solution": true
    }
   },
   "outputs": [],
   "source": [
    "# your code here\n",
    "raise NotImplementedError\n",
    "marathon"
   ]
  },
  {
   "cell_type": "code",
   "execution_count": null,
   "metadata": {
    "deletable": false,
    "editable": false,
    "nbgrader": {
     "cell_type": "code",
     "checksum": "4502e5093a9f244f6f405deebacdcc68",
     "grade": true,
     "grade_id": "cell-60554f6f6a56a16c",
     "locked": true,
     "points": 1,
     "schema_version": 3,
     "solution": false
    }
   },
   "outputs": [],
   "source": [
    "from hashlib import sha1\n",
    "assert sha1(str(type(marathon is None)).encode(\"utf-8\")+b\"08f714ec6f5861d0\").hexdigest() == \"1cc73d67cc3754aaf3e63d54c066a532a4736700\", \"type of marathon is None is not bool. marathon is None should be a bool\"\n",
    "assert sha1(str(marathon is None).encode(\"utf-8\")+b\"08f714ec6f5861d0\").hexdigest() == \"4cb62ecbc15ee743adb1e27e8fec664345b24493\", \"boolean value of marathon is None is not correct\"\n",
    "\n",
    "assert sha1(str(type(marathon)).encode(\"utf-8\")+b\"ecfd4bd23ee64744\").hexdigest() == \"5c787c34ad3db1bae186885e8c0453a0e8604629\", \"type of type(marathon) is not correct\"\n",
    "\n",
    "assert sha1(str(type(marathon.shape)).encode(\"utf-8\")+b\"c3dfc35551ec0ce8\").hexdigest() == \"f51d3965fbce50d6aed44071b56c39b32c80d4de\", \"type of marathon.shape is not tuple. marathon.shape should be a tuple\"\n",
    "assert sha1(str(len(marathon.shape)).encode(\"utf-8\")+b\"c3dfc35551ec0ce8\").hexdigest() == \"094fb40a11241a4539047513e63cc6b47d150edb\", \"length of marathon.shape is not correct\"\n",
    "assert sha1(str(sorted(map(str, marathon.shape))).encode(\"utf-8\")+b\"c3dfc35551ec0ce8\").hexdigest() == \"8ff98b1bb34dc461a808ba49deb40a42e057a020\", \"values of marathon.shape are not correct\"\n",
    "assert sha1(str(marathon.shape).encode(\"utf-8\")+b\"c3dfc35551ec0ce8\").hexdigest() == \"d936b02c7d4d0f39d922cada6d655f92ae8e541d\", \"order of elements of marathon.shape is not correct\"\n",
    "\n",
    "assert sha1(str(type(\"time_hrs\" in marathon.columns)).encode(\"utf-8\")+b\"8a2922763e0b52ca\").hexdigest() == \"05da76da8c32cd5127a741150c6491cd378cd3aa\", \"type of \\\"time_hrs\\\" in marathon.columns is not bool. \\\"time_hrs\\\" in marathon.columns should be a bool\"\n",
    "assert sha1(str(\"time_hrs\" in marathon.columns).encode(\"utf-8\")+b\"8a2922763e0b52ca\").hexdigest() == \"30ecd9e8c383a586a25caa9bcf7eb4477c1bfed2\", \"boolean value of \\\"time_hrs\\\" in marathon.columns is not correct\"\n",
    "\n",
    "assert sha1(str(type(\"max\" in marathon.columns)).encode(\"utf-8\")+b\"5add66b461a5ce23\").hexdigest() == \"f273e6e1c6dbbfb6f6aef38f41aed32fcfd2c33d\", \"type of \\\"max\\\" in marathon.columns is not bool. \\\"max\\\" in marathon.columns should be a bool\"\n",
    "assert sha1(str(\"max\" in marathon.columns).encode(\"utf-8\")+b\"5add66b461a5ce23\").hexdigest() == \"e77d766d081789c852115bd0caf7027bbc99b387\", \"boolean value of \\\"max\\\" in marathon.columns is not correct\"\n",
    "\n",
    "print('Success!')"
   ]
  },
  {
   "cell_type": "markdown",
   "metadata": {
    "deletable": false,
    "editable": false,
    "nbgrader": {
     "cell_type": "markdown",
     "checksum": "cf74db2f57c49f8935ab34dc3fcb8ea4",
     "grade": false,
     "grade_id": "cell-26802c14f46a4d8e",
     "locked": true,
     "schema_version": 3,
     "solution": false
    }
   },
   "source": [
    "**Question 2.0**\n",
    "<br> {points: 1}\n",
    "\n",
    "We want to predict race time (in hours) (`time_hrs`) given a particular value of maximum distance ran per week (in miles) during race training (`max`). Let's take a subset of size 50 individuals of our marathon data and assign it to an object called `marathon_50`. With this subset, plot a scatterplot (using `mark_circle`) to assess the relationship between these two variables. Put `time_hrs` on the y-axis and `max` on the x-axis.  Discuss, with a classmate, the relationship between race time and maximum distance ran per week during training based on the scatterplot you create below. \n",
    "\n",
    "*Hint: To take a subset of your data you can use the `sample` function*\n",
    "\n",
    "*Assign your plot to an object called `answer2`.*"
   ]
  },
  {
   "cell_type": "code",
   "execution_count": null,
   "metadata": {
    "deletable": false,
    "nbgrader": {
     "cell_type": "code",
     "checksum": "f6927f52ae154d8e6ea639d7893551b5",
     "grade": false,
     "grade_id": "cell-6fcfc6ca32883f4d",
     "locked": false,
     "schema_version": 3,
     "solution": true
    }
   },
   "outputs": [],
   "source": [
    "# ___ = ___.sample(___, random_state=300) # Do not change the random_state\n",
    "\n",
    "\n",
    "# your code here\n",
    "raise NotImplementedError\n",
    "answer2"
   ]
  },
  {
   "cell_type": "code",
   "execution_count": null,
   "metadata": {
    "deletable": false,
    "editable": false,
    "nbgrader": {
     "cell_type": "code",
     "checksum": "2c2cd1604e6cc646dcf5b0d3f8a16275",
     "grade": true,
     "grade_id": "cell-78ac50fb41cd9a86",
     "locked": true,
     "points": 1,
     "schema_version": 3,
     "solution": false
    }
   },
   "outputs": [],
   "source": [
    "from hashlib import sha1\n",
    "assert sha1(str(type(answer2 is None)).encode(\"utf-8\")+b\"f3a5bc6fde71a86a\").hexdigest() == \"eac15e2ee19ab5794c8269e8e062f037e46c6eff\", \"type of answer2 is None is not bool. answer2 is None should be a bool\"\n",
    "assert sha1(str(answer2 is None).encode(\"utf-8\")+b\"f3a5bc6fde71a86a\").hexdigest() == \"c413d4fd2637c6f31094e6dd7b5275b577f65e90\", \"boolean value of answer2 is None is not correct\"\n",
    "\n",
    "assert sha1(str(type(marathon_50.shape)).encode(\"utf-8\")+b\"d2d8ccf9ff4f5b21\").hexdigest() == \"edce1d16caa874d5a4bafec6156b6982d31ffd72\", \"type of marathon_50.shape is not tuple. marathon_50.shape should be a tuple\"\n",
    "assert sha1(str(len(marathon_50.shape)).encode(\"utf-8\")+b\"d2d8ccf9ff4f5b21\").hexdigest() == \"88b27e0fc87b5336463717b71f9185381cac53a2\", \"length of marathon_50.shape is not correct\"\n",
    "assert sha1(str(sorted(map(str, marathon_50.shape))).encode(\"utf-8\")+b\"d2d8ccf9ff4f5b21\").hexdigest() == \"8f54c0dfee4241318e6db39e02a85617aebe3640\", \"values of marathon_50.shape are not correct\"\n",
    "assert sha1(str(marathon_50.shape).encode(\"utf-8\")+b\"d2d8ccf9ff4f5b21\").hexdigest() == \"9ee21a21e3d7ccce52a95415254407818f283f71\", \"order of elements of marathon_50.shape is not correct\"\n",
    "\n",
    "assert sha1(str(type(answer2.data.equals(marathon_50))).encode(\"utf-8\")+b\"9b74e1087a7b7ee5\").hexdigest() == \"2b240a1f9fefa7b71905150985fe92b4dd097a54\", \"type of answer2.data.equals(marathon_50) is not bool. answer2.data.equals(marathon_50) should be a bool\"\n",
    "assert sha1(str(answer2.data.equals(marathon_50)).encode(\"utf-8\")+b\"9b74e1087a7b7ee5\").hexdigest() == \"9e3e2febfa900fde5a6f1d2615d77d52a3d26b26\", \"boolean value of answer2.data.equals(marathon_50) is not correct\"\n",
    "\n",
    "assert sha1(str(type(answer2.encoding.x['shorthand'])).encode(\"utf-8\")+b\"f10c62c19bcacbb4\").hexdigest() == \"ef821bda7ba0b3cb447118d1279543e7d0c53f1d\", \"type of answer2.encoding.x['shorthand'] is not str. answer2.encoding.x['shorthand'] should be an str\"\n",
    "assert sha1(str(len(answer2.encoding.x['shorthand'])).encode(\"utf-8\")+b\"f10c62c19bcacbb4\").hexdigest() == \"19a3cb5d63380d78c248e1cbd75ff568d49eaddc\", \"length of answer2.encoding.x['shorthand'] is not correct\"\n",
    "assert sha1(str(answer2.encoding.x['shorthand'].lower()).encode(\"utf-8\")+b\"f10c62c19bcacbb4\").hexdigest() == \"391588c5165f9f7fbd8631ec44b5bc26bca10711\", \"value of answer2.encoding.x['shorthand'] is not correct\"\n",
    "assert sha1(str(answer2.encoding.x['shorthand']).encode(\"utf-8\")+b\"f10c62c19bcacbb4\").hexdigest() == \"391588c5165f9f7fbd8631ec44b5bc26bca10711\", \"correct string value of answer2.encoding.x['shorthand'] but incorrect case of letters\"\n",
    "\n",
    "assert sha1(str(type(answer2.encoding.y['shorthand'])).encode(\"utf-8\")+b\"1982c8a0a0982153\").hexdigest() == \"c97a6ba0a013f443f8d1fd12ca0b6159d13277f9\", \"type of answer2.encoding.y['shorthand'] is not str. answer2.encoding.y['shorthand'] should be an str\"\n",
    "assert sha1(str(len(answer2.encoding.y['shorthand'])).encode(\"utf-8\")+b\"1982c8a0a0982153\").hexdigest() == \"708767b33fd8cf0107b58f2425ac85f73ca4276a\", \"length of answer2.encoding.y['shorthand'] is not correct\"\n",
    "assert sha1(str(answer2.encoding.y['shorthand'].lower()).encode(\"utf-8\")+b\"1982c8a0a0982153\").hexdigest() == \"016ab813313a0264a315b11da45507b9676b0032\", \"value of answer2.encoding.y['shorthand'] is not correct\"\n",
    "assert sha1(str(answer2.encoding.y['shorthand']).encode(\"utf-8\")+b\"1982c8a0a0982153\").hexdigest() == \"016ab813313a0264a315b11da45507b9676b0032\", \"correct string value of answer2.encoding.y['shorthand'] but incorrect case of letters\"\n",
    "\n",
    "assert sha1(str(type(answer2.mark)).encode(\"utf-8\")+b\"18faa48683c998d5\").hexdigest() == \"a0ed4ff836e0f8d803c210833a35777361149274\", \"type of answer2.mark is not str. answer2.mark should be an str\"\n",
    "assert sha1(str(len(answer2.mark)).encode(\"utf-8\")+b\"18faa48683c998d5\").hexdigest() == \"5c9ce4237670c85231001049bdf9f2afb4846892\", \"length of answer2.mark is not correct\"\n",
    "assert sha1(str(answer2.mark.lower()).encode(\"utf-8\")+b\"18faa48683c998d5\").hexdigest() == \"9a63790eb2670b930fef7b6532f09d3c753d3460\", \"value of answer2.mark is not correct\"\n",
    "assert sha1(str(answer2.mark).encode(\"utf-8\")+b\"18faa48683c998d5\").hexdigest() == \"9a63790eb2670b930fef7b6532f09d3c753d3460\", \"correct string value of answer2.mark but incorrect case of letters\"\n",
    "\n",
    "assert sha1(str(type(isinstance(answer2.encoding.x['title'], str))).encode(\"utf-8\")+b\"8cfd259a5280707a\").hexdigest() == \"7b8a30fe8adf816364998d88193d36d54dda8b64\", \"type of isinstance(answer2.encoding.x['title'], str) is not bool. isinstance(answer2.encoding.x['title'], str) should be a bool\"\n",
    "assert sha1(str(isinstance(answer2.encoding.x['title'], str)).encode(\"utf-8\")+b\"8cfd259a5280707a\").hexdigest() == \"9f0d9d0d9722b9d038df3009a316fd59f9223395\", \"boolean value of isinstance(answer2.encoding.x['title'], str) is not correct\"\n",
    "\n",
    "assert sha1(str(type(isinstance(answer2.encoding.y['title'], str))).encode(\"utf-8\")+b\"951e6bd6b17c211e\").hexdigest() == \"7fcdf0f506472aa9991788be87295e877ffa1bc1\", \"type of isinstance(answer2.encoding.y['title'], str) is not bool. isinstance(answer2.encoding.y['title'], str) should be a bool\"\n",
    "assert sha1(str(isinstance(answer2.encoding.y['title'], str)).encode(\"utf-8\")+b\"951e6bd6b17c211e\").hexdigest() == \"b2a70e0d9856292f0096c111194d4302e66ee707\", \"boolean value of isinstance(answer2.encoding.y['title'], str) is not correct\"\n",
    "\n",
    "print('Success!')"
   ]
  },
  {
   "cell_type": "markdown",
   "metadata": {
    "deletable": false,
    "editable": false,
    "nbgrader": {
     "cell_type": "markdown",
     "checksum": "14adf10f016a98d409cb390184406bf1",
     "grade": false,
     "grade_id": "cell-cbe9f9a5c4b7c264",
     "locked": true,
     "schema_version": 3,
     "solution": false
    }
   },
   "source": [
    "**Question 3.0**\n",
    "<br> {points: 1}\n",
    "\n",
    "Suppose we want to predict the race time for someone who ran a maximum distance of 100 miles per week during training. In the chart we created in the previous question, we can see that no one has run a maximum distance of exactly 100 miles per week. How can we predict with this data? We can use $k$-nn regression! To do this we get the $Y$ values (target/response variable) of the nearest $k$ values and then take their average and use that as the prediction. \n",
    "\n",
    "For this question perform $k$-nn regression manually to predict the race time based on the average value of the 4 runners (\"neighbors\") closest to running 100 miles per week during training.\n",
    "\n",
    "*Fill in the scaffolding below and assign your answer to an object named `answer3`.*"
   ]
  },
  {
   "cell_type": "code",
   "execution_count": null,
   "metadata": {
    "deletable": false,
    "editable": false,
    "nbgrader": {
     "cell_type": "code",
     "checksum": "1b7ba4c5feb2b757a6defcb9e3d57969",
     "grade": false,
     "grade_id": "cell-51d4b16bee915d31",
     "locked": true,
     "schema_version": 3,
     "solution": false,
     "task": false
    }
   },
   "outputs": [],
   "source": [
    "# Run this cell to see a visualization of the 4 nearest neighbours to 100 miles / week\n",
    "\n",
    "rule = alt.Chart().mark_rule().encode(x=alt.datum(100))\n",
    "\n",
    "lines = alt.Chart(\n",
    "    pd.DataFrame({\n",
    "        \"x\": [110, 104, 90, 86],\n",
    "        \"y\": [2.63, 2.8, 3.27, 2.44]\n",
    "    })\n",
    ").mark_line(color=\"orange\", size=2).encode(\n",
    "    x=\"x\",\n",
    "    x2=alt.datum(100),  # we use `x2` to set a constant second x-coordinate at 100 for all the lines\n",
    "    y=\"y\",\n",
    ")\n",
    "\n",
    "lines + rule + answer2"
   ]
  },
  {
   "cell_type": "code",
   "execution_count": null,
   "metadata": {
    "deletable": false,
    "nbgrader": {
     "cell_type": "code",
     "checksum": "86d5852fe651b81170219fd15540a341",
     "grade": false,
     "grade_id": "cell-a8d1b15c312d9c3d",
     "locked": false,
     "schema_version": 3,
     "solution": true
    }
   },
   "outputs": [],
   "source": [
    "# ___ = (\n",
    "#     marathon_50\n",
    "#     .___(diff=(100 - ___).abs())  # Compute the absolute distance to 100 miles for each runner\n",
    "#     .___(4, ___)\n",
    "#     [___]\n",
    "#     .mean()\n",
    "# )\n",
    "\n",
    "# your code here\n",
    "raise NotImplementedError\n",
    "answer3"
   ]
  },
  {
   "cell_type": "code",
   "execution_count": null,
   "metadata": {
    "deletable": false,
    "editable": false,
    "nbgrader": {
     "cell_type": "code",
     "checksum": "158633fb70974524660c86ca85f55a92",
     "grade": true,
     "grade_id": "cell-af7afd4794001c7b",
     "locked": true,
     "points": 1,
     "schema_version": 3,
     "solution": false
    }
   },
   "outputs": [],
   "source": [
    "from hashlib import sha1\n",
    "assert sha1(str(type(answer3)).encode(\"utf-8\")+b\"a1fb374bdafc28a4\").hexdigest() == \"af2f8a9130b82e185f6893204b4b8c6195ea7dc8\", \"type of answer3 is not correct\"\n",
    "assert sha1(str(answer3).encode(\"utf-8\")+b\"a1fb374bdafc28a4\").hexdigest() == \"bcdda14ae6d5615a8b5213e3d212a9eb83afcf0b\", \"value of answer3 is not correct\"\n",
    "\n",
    "print('Success!')"
   ]
  },
  {
   "cell_type": "markdown",
   "metadata": {
    "deletable": false,
    "editable": false,
    "nbgrader": {
     "cell_type": "markdown",
     "checksum": "b1f9aa206f133969fcff7bf2009bbd0e",
     "grade": false,
     "grade_id": "cell-0c2107e7f52efb3d",
     "locked": true,
     "schema_version": 3,
     "solution": false,
     "task": false
    }
   },
   "source": [
    "**Question 4.0**\n",
    "<br> {points: 1}\n",
    "\n",
    "For this question, let's instead predict the race time based on the 2 closest neighbors to the 100 miles per week during training.\n",
    "\n",
    "*Assign your answer to an object named `answer4`.*"
   ]
  },
  {
   "cell_type": "code",
   "execution_count": null,
   "metadata": {
    "deletable": false,
    "nbgrader": {
     "cell_type": "code",
     "checksum": "ddca56a9ac218b2e4309e74065c8a0f6",
     "grade": false,
     "grade_id": "cell-44994bbd299ff0d0",
     "locked": false,
     "schema_version": 3,
     "solution": true
    }
   },
   "outputs": [],
   "source": [
    "# your code here\n",
    "raise NotImplementedError\n",
    "answer4"
   ]
  },
  {
   "cell_type": "code",
   "execution_count": null,
   "metadata": {
    "deletable": false,
    "editable": false,
    "nbgrader": {
     "cell_type": "code",
     "checksum": "f3d3e903f874f8a057a802b974bb1edf",
     "grade": true,
     "grade_id": "cell-690e322810064165",
     "locked": true,
     "points": 1,
     "schema_version": 3,
     "solution": false
    }
   },
   "outputs": [],
   "source": [
    "from hashlib import sha1\n",
    "assert sha1(str(type(answer4)).encode(\"utf-8\")+b\"cea2ef6c8d5a04a4\").hexdigest() == \"24554dcc83ff55a59d8f9f504587479b7c4fd1fc\", \"type of answer4 is not correct\"\n",
    "assert sha1(str(answer4).encode(\"utf-8\")+b\"cea2ef6c8d5a04a4\").hexdigest() == \"58ad176e249e423c5aed115d86f9bb944458abd6\", \"value of answer4 is not correct\"\n",
    "\n",
    "print('Success!')"
   ]
  },
  {
   "cell_type": "markdown",
   "metadata": {
    "deletable": false,
    "editable": false,
    "nbgrader": {
     "cell_type": "markdown",
     "checksum": "a5edd599a336ceeb48bfe12280c7e05b",
     "grade": false,
     "grade_id": "cell-3311ba44befa3767",
     "locked": true,
     "schema_version": 3,
     "solution": false
    }
   },
   "source": [
    "**Question 5.0**\n",
    "<br> {points: 1}\n",
    "\n",
    "So far you have calculated the $k$ nearest neighbors predictions manually based on values of $k$ we have told you to use. However, last week we learned how to use a better method to choose the best $k$ for classification. \n",
    "\n",
    "Based on what you learned last week and what you have learned about $k$-nn regression so far this week, which method would you use to choose the $k$ (in the situation where we don't tell you which $k$ to use)?\n",
    "\n",
    "- A) Choose the $k$ that excludes most outliers\n",
    "- B) Choose the $k$ with the lowest training error\n",
    "- C) Choose the $k$ with the lowest cross-validation error\n",
    "- D) Choose the $k$ that includes the most data points\n",
    "- E) Choose the $k$ with the lowest testing error\n",
    "\n",
    "*Assign your answer to an object called `answer5`.  Make sure your answer is an uppercase letter and is surrounded by quotation marks (e.g. `\"F\"`).*"
   ]
  },
  {
   "cell_type": "code",
   "execution_count": null,
   "metadata": {
    "deletable": false,
    "nbgrader": {
     "cell_type": "code",
     "checksum": "a11647b32fa9749c8e9821e17be507a0",
     "grade": false,
     "grade_id": "cell-01b498d6b1415bf5",
     "locked": false,
     "schema_version": 3,
     "solution": true
    }
   },
   "outputs": [],
   "source": [
    "# your code here\n",
    "raise NotImplementedError\n",
    "answer5"
   ]
  },
  {
   "cell_type": "code",
   "execution_count": null,
   "metadata": {
    "deletable": false,
    "editable": false,
    "nbgrader": {
     "cell_type": "code",
     "checksum": "cbc314d9ad644dcd1161c6c83eca510c",
     "grade": true,
     "grade_id": "cell-7cbe965dbdb7228d",
     "locked": true,
     "points": 1,
     "schema_version": 3,
     "solution": false
    }
   },
   "outputs": [],
   "source": [
    "from hashlib import sha1\n",
    "assert sha1(str(type(answer5)).encode(\"utf-8\")+b\"b40ce0dc2e9ae460\").hexdigest() == \"ad766dbb58986dfd35dd537c877e5842fb617292\", \"type of answer5 is not str. answer5 should be an str\"\n",
    "assert sha1(str(len(answer5)).encode(\"utf-8\")+b\"b40ce0dc2e9ae460\").hexdigest() == \"9eccd00c77a5eedf50012b722dad1ad43bfc3045\", \"length of answer5 is not correct\"\n",
    "assert sha1(str(answer5.lower()).encode(\"utf-8\")+b\"b40ce0dc2e9ae460\").hexdigest() == \"0730e104414f6866efc763d36851e3f796be71a1\", \"value of answer5 is not correct\"\n",
    "assert sha1(str(answer5).encode(\"utf-8\")+b\"b40ce0dc2e9ae460\").hexdigest() == \"e0b3fd377c932932a6a3a5114a6f6dbc7ef835dc\", \"correct string value of answer5 but incorrect case of letters\"\n",
    "\n",
    "print('Success!')"
   ]
  },
  {
   "cell_type": "markdown",
   "metadata": {
    "deletable": false,
    "editable": false,
    "nbgrader": {
     "cell_type": "markdown",
     "checksum": "47f01e223f004b1f3c8ad26a8226b640",
     "grade": false,
     "grade_id": "cell-b3b34499fe540e49",
     "locked": true,
     "schema_version": 3,
     "solution": false
    }
   },
   "source": [
    "**Question 6.0**\n",
    "<br> {points: 1}\n",
    "\n",
    "We have just seen how to perform k-nn regression manually, now we will apply it to the whole dataset using the `scikit-learn` package. To do so, we will first need to create the training and test datasets. Split the data to use *75%* as your training set. Store the training data as `marathon_training` and the test set as `marathon_testing`. Remember we won't touch the test dataset until the end. \n",
    "\n",
    "Next, set the `time_hrs` column as the target (y) and `max` column as the input feature (X). Store the features as `X_train` and `X_test` and targets as `y_train` and `y_test` respectively for the `marathon_training` and `marathon_testing`. Remember that it is easier to work with input features as a data frame rather than a series, so make sure to extract the single input feature as a data frame by passing the column name inside a list.\n",
    "\n",
    "*Assign your answers to objects named `marathon_training`, `marathon_testing`, `X_train`, `y_train`, `X_test`, and `y_test`.*"
   ]
  },
  {
   "cell_type": "code",
   "execution_count": null,
   "metadata": {
    "deletable": false,
    "nbgrader": {
     "cell_type": "code",
     "checksum": "a8490ade5d5c9723dbb01fbd6c3d9114",
     "grade": false,
     "grade_id": "cell-8257a9338314019e",
     "locked": false,
     "schema_version": 3,
     "solution": true
    }
   },
   "outputs": [],
   "source": [
    "# ___, ___ = train_test_split(\n",
    "#     ___,\n",
    "#     test_size=___,\n",
    "#     random_state=2000,  # Do not change the random_state\n",
    "# )\n",
    "# X_train = ___[___]  # A single column data frame\n",
    "# y_train = ___[___]  # A series\n",
    "\n",
    "# X_test = ___[___]  # A single column data frame\n",
    "# y_test = ___[___]  # A series\n",
    "\n",
    "# your code here\n",
    "raise NotImplementedError"
   ]
  },
  {
   "cell_type": "code",
   "execution_count": null,
   "metadata": {
    "deletable": false,
    "editable": false,
    "nbgrader": {
     "cell_type": "code",
     "checksum": "8e77ddaa4d7799a21a4157529690460a",
     "grade": true,
     "grade_id": "cell-381c8aeacf15fd35",
     "locked": true,
     "points": 1,
     "schema_version": 3,
     "solution": false
    }
   },
   "outputs": [],
   "source": [
    "from hashlib import sha1\n",
    "assert sha1(str(type(marathon_training is None)).encode(\"utf-8\")+b\"af18d0c62f86b811\").hexdigest() == \"5d8ea43ead56737238575fd35f7f71a4a5955867\", \"type of marathon_training is None is not bool. marathon_training is None should be a bool\"\n",
    "assert sha1(str(marathon_training is None).encode(\"utf-8\")+b\"af18d0c62f86b811\").hexdigest() == \"129d3a54a0c638ffb00782d5fde4f3f0f907ab48\", \"boolean value of marathon_training is None is not correct\"\n",
    "\n",
    "assert sha1(str(type(marathon_training.shape)).encode(\"utf-8\")+b\"5afe8f5f2eeab4c7\").hexdigest() == \"629612c609ef298a46ff3e481b987e32818a2274\", \"type of marathon_training.shape is not tuple. marathon_training.shape should be a tuple\"\n",
    "assert sha1(str(len(marathon_training.shape)).encode(\"utf-8\")+b\"5afe8f5f2eeab4c7\").hexdigest() == \"b60a5650503ddbb6b935be0b0121b27abfe207e4\", \"length of marathon_training.shape is not correct\"\n",
    "assert sha1(str(sorted(map(str, marathon_training.shape))).encode(\"utf-8\")+b\"5afe8f5f2eeab4c7\").hexdigest() == \"e5608429d8ff0f0fac44e7dadf5f2005ab82417a\", \"values of marathon_training.shape are not correct\"\n",
    "assert sha1(str(marathon_training.shape).encode(\"utf-8\")+b\"5afe8f5f2eeab4c7\").hexdigest() == \"62c5c8d619ff2be7326ffa1be45978a224539855\", \"order of elements of marathon_training.shape is not correct\"\n",
    "\n",
    "assert sha1(str(type(sum(marathon_training.age))).encode(\"utf-8\")+b\"61e1f014b6822ac8\").hexdigest() == \"bdb7eda2d309151432a1d93302315f53eb7fb012\", \"type of sum(marathon_training.age) is not int. Please make sure it is int and not np.int64, etc. You can cast your value into an int using int()\"\n",
    "assert sha1(str(sum(marathon_training.age)).encode(\"utf-8\")+b\"61e1f014b6822ac8\").hexdigest() == \"b978b8fa684e54a6d6a7caeaabcf8228b52c0eef\", \"value of sum(marathon_training.age) is not correct\"\n",
    "\n",
    "assert sha1(str(type(marathon_testing is None)).encode(\"utf-8\")+b\"49e68407b4491542\").hexdigest() == \"ce7b7c8ee7bee653b2392d71d20b6daf814e373f\", \"type of marathon_testing is None is not bool. marathon_testing is None should be a bool\"\n",
    "assert sha1(str(marathon_testing is None).encode(\"utf-8\")+b\"49e68407b4491542\").hexdigest() == \"858260e24fc46dda4608a5cbd2a5c622f5deb90a\", \"boolean value of marathon_testing is None is not correct\"\n",
    "\n",
    "assert sha1(str(type(marathon_testing.shape)).encode(\"utf-8\")+b\"aa3c241a84a8d69d\").hexdigest() == \"5b264355de4b96fbcc795dcbdbb6edb3c210b705\", \"type of marathon_testing.shape is not tuple. marathon_testing.shape should be a tuple\"\n",
    "assert sha1(str(len(marathon_testing.shape)).encode(\"utf-8\")+b\"aa3c241a84a8d69d\").hexdigest() == \"89b300c65719a0c2d33e91660a5085edc3ca23ac\", \"length of marathon_testing.shape is not correct\"\n",
    "assert sha1(str(sorted(map(str, marathon_testing.shape))).encode(\"utf-8\")+b\"aa3c241a84a8d69d\").hexdigest() == \"1e6f6ea6902617cb0403dfa5af3f439625494799\", \"values of marathon_testing.shape are not correct\"\n",
    "assert sha1(str(marathon_testing.shape).encode(\"utf-8\")+b\"aa3c241a84a8d69d\").hexdigest() == \"8a8a52fbdee24b5190957b7d4c1fa042b19fdddf\", \"order of elements of marathon_testing.shape is not correct\"\n",
    "\n",
    "assert sha1(str(type(sum(marathon_testing.age))).encode(\"utf-8\")+b\"2f571476ef5fa802\").hexdigest() == \"d0256bcb6824cefcfd8b57e3227efe5bd3baab0f\", \"type of sum(marathon_testing.age) is not int. Please make sure it is int and not np.int64, etc. You can cast your value into an int using int()\"\n",
    "assert sha1(str(sum(marathon_testing.age)).encode(\"utf-8\")+b\"2f571476ef5fa802\").hexdigest() == \"34e617b85c82c976013a449b51b0b8d3516aef2a\", \"value of sum(marathon_testing.age) is not correct\"\n",
    "\n",
    "assert sha1(str(type(X_train.columns.values)).encode(\"utf-8\")+b\"26317290a50c4b2f\").hexdigest() == \"fab433f0d4c36b15c9608e22504cee8a6c81ac23\", \"type of X_train.columns.values is not correct\"\n",
    "assert sha1(str(X_train.columns.values).encode(\"utf-8\")+b\"26317290a50c4b2f\").hexdigest() == \"b1f58caa31be3fed471aaf60a5fa6ce3b5593f1d\", \"value of X_train.columns.values is not correct\"\n",
    "\n",
    "assert sha1(str(type(X_train.shape)).encode(\"utf-8\")+b\"cea11337f5dd1061\").hexdigest() == \"e5b8e701193d22c7db4e02d370535c53edd74f70\", \"type of X_train.shape is not tuple. X_train.shape should be a tuple\"\n",
    "assert sha1(str(len(X_train.shape)).encode(\"utf-8\")+b\"cea11337f5dd1061\").hexdigest() == \"cdc8212b23cf967ee3425f0d9c322c2fc06dde37\", \"length of X_train.shape is not correct\"\n",
    "assert sha1(str(sorted(map(str, X_train.shape))).encode(\"utf-8\")+b\"cea11337f5dd1061\").hexdigest() == \"735eeee4e5b97e7bf9f60afe0ff6a92bd135d192\", \"values of X_train.shape are not correct\"\n",
    "assert sha1(str(X_train.shape).encode(\"utf-8\")+b\"cea11337f5dd1061\").hexdigest() == \"9a4447158db9063667748fe95f6eec326e4e2407\", \"order of elements of X_train.shape is not correct\"\n",
    "\n",
    "assert sha1(str(type(y_train.name)).encode(\"utf-8\")+b\"dab51e7c48c2ca41\").hexdigest() == \"e05e742ebc874826e36cefe0da09611decc5a036\", \"type of y_train.name is not str. y_train.name should be an str\"\n",
    "assert sha1(str(len(y_train.name)).encode(\"utf-8\")+b\"dab51e7c48c2ca41\").hexdigest() == \"3097ea3d6601c0a1ffb8f778a65fafe585811d99\", \"length of y_train.name is not correct\"\n",
    "assert sha1(str(y_train.name.lower()).encode(\"utf-8\")+b\"dab51e7c48c2ca41\").hexdigest() == \"5c8607a8e00d8a314c3c03f4726b4a5057298051\", \"value of y_train.name is not correct\"\n",
    "assert sha1(str(y_train.name).encode(\"utf-8\")+b\"dab51e7c48c2ca41\").hexdigest() == \"5c8607a8e00d8a314c3c03f4726b4a5057298051\", \"correct string value of y_train.name but incorrect case of letters\"\n",
    "\n",
    "assert sha1(str(type(y_train.shape)).encode(\"utf-8\")+b\"e54bce6d0b9fbdeb\").hexdigest() == \"ddef55c027c8bf9f82e97dea437eae799e897830\", \"type of y_train.shape is not tuple. y_train.shape should be a tuple\"\n",
    "assert sha1(str(len(y_train.shape)).encode(\"utf-8\")+b\"e54bce6d0b9fbdeb\").hexdigest() == \"37cb536b1ba6d7c369630629e98e58a9294db29c\", \"length of y_train.shape is not correct\"\n",
    "assert sha1(str(sorted(map(str, y_train.shape))).encode(\"utf-8\")+b\"e54bce6d0b9fbdeb\").hexdigest() == \"47e6dd467615ec579df9de01f02a172e137636ae\", \"values of y_train.shape are not correct\"\n",
    "assert sha1(str(y_train.shape).encode(\"utf-8\")+b\"e54bce6d0b9fbdeb\").hexdigest() == \"de86ce3cadbe02ccb22205da4a43f8dfc10e1093\", \"order of elements of y_train.shape is not correct\"\n",
    "\n",
    "assert sha1(str(type(X_test.columns.values)).encode(\"utf-8\")+b\"5f542f50ad06df82\").hexdigest() == \"bb12318ff0702b78c9d64800c4e43f2384f4eda4\", \"type of X_test.columns.values is not correct\"\n",
    "assert sha1(str(X_test.columns.values).encode(\"utf-8\")+b\"5f542f50ad06df82\").hexdigest() == \"a49ebfc7d1f689e22c9c577a1ac084291ca168ee\", \"value of X_test.columns.values is not correct\"\n",
    "\n",
    "assert sha1(str(type(X_test.shape)).encode(\"utf-8\")+b\"b6a3c2b67e6bbd79\").hexdigest() == \"b73f213c20480266630318411bc26f16896e9dfa\", \"type of X_test.shape is not tuple. X_test.shape should be a tuple\"\n",
    "assert sha1(str(len(X_test.shape)).encode(\"utf-8\")+b\"b6a3c2b67e6bbd79\").hexdigest() == \"fc7d4ad37fef0f784a7e474d60e8ee9a561ce0e2\", \"length of X_test.shape is not correct\"\n",
    "assert sha1(str(sorted(map(str, X_test.shape))).encode(\"utf-8\")+b\"b6a3c2b67e6bbd79\").hexdigest() == \"e7254b8fc7b765154afcb7a941113d884642371c\", \"values of X_test.shape are not correct\"\n",
    "assert sha1(str(X_test.shape).encode(\"utf-8\")+b\"b6a3c2b67e6bbd79\").hexdigest() == \"b5513c6503c4ec70b681e162ab3833cb77d81859\", \"order of elements of X_test.shape is not correct\"\n",
    "\n",
    "assert sha1(str(type(y_test.name)).encode(\"utf-8\")+b\"0eef6da483996d40\").hexdigest() == \"ab67aa2780c0f8498487bf8bb82f349c85cef3d4\", \"type of y_test.name is not str. y_test.name should be an str\"\n",
    "assert sha1(str(len(y_test.name)).encode(\"utf-8\")+b\"0eef6da483996d40\").hexdigest() == \"f5b29e465042e94a48db8cfbd459d97b460a5022\", \"length of y_test.name is not correct\"\n",
    "assert sha1(str(y_test.name.lower()).encode(\"utf-8\")+b\"0eef6da483996d40\").hexdigest() == \"1ee8b6bae71149213dfaea2e5487a40ec4a685e5\", \"value of y_test.name is not correct\"\n",
    "assert sha1(str(y_test.name).encode(\"utf-8\")+b\"0eef6da483996d40\").hexdigest() == \"1ee8b6bae71149213dfaea2e5487a40ec4a685e5\", \"correct string value of y_test.name but incorrect case of letters\"\n",
    "\n",
    "assert sha1(str(type(y_test.shape)).encode(\"utf-8\")+b\"735e01f4827fe1ad\").hexdigest() == \"3472197d616d585e3ab1ec364fefb7981274d394\", \"type of y_test.shape is not tuple. y_test.shape should be a tuple\"\n",
    "assert sha1(str(len(y_test.shape)).encode(\"utf-8\")+b\"735e01f4827fe1ad\").hexdigest() == \"284e24d5da77574b2b2eb808dce2d3a850da14ec\", \"length of y_test.shape is not correct\"\n",
    "assert sha1(str(sorted(map(str, y_test.shape))).encode(\"utf-8\")+b\"735e01f4827fe1ad\").hexdigest() == \"68f766bbdc8146613c8ab31e98ae8bde2e4d9ec6\", \"values of y_test.shape are not correct\"\n",
    "assert sha1(str(y_test.shape).encode(\"utf-8\")+b\"735e01f4827fe1ad\").hexdigest() == \"676fe5f5237185e0f9a3f93b459c92c94a4387bb\", \"order of elements of y_test.shape is not correct\"\n",
    "\n",
    "print('Success!')"
   ]
  },
  {
   "cell_type": "markdown",
   "metadata": {
    "deletable": false,
    "editable": false,
    "nbgrader": {
     "cell_type": "markdown",
     "checksum": "4fd00f6a0b76b2844119efa7bd675c38",
     "grade": false,
     "grade_id": "cell-0c01c0b6cf4d8e91",
     "locked": true,
     "schema_version": 3,
     "solution": false,
     "task": false
    }
   },
   "source": [
    "**Question 7.0**\n",
    "<br> {points: 1}\n",
    "\n",
    "Next, we’ll use cross-validation on our **training data** to choose $k$. In $k$-nn classification, we used accuracy to see how well our predictions matched the true labels. In the context of $k$-nn *regression*, we will use RMSPE as the scoring instead. Interpreting the RMSPE value can be tricky but generally speaking, if the prediction values are very close to the true values, the RMSPE will be small. Conversely, if the prediction values are *not* very close to the true values, the RMSPE will be quite large. \n",
    "\n",
    "Let's perform a cross-validation and choose the optimal $k$!\n",
    "\n",
    "First, create a pipeline for $k$-nn. We are still using the $k$-nearest neighbours algorithm, and we will also use the `StandardScaler` to standardize the numerical values. Store your pipeline in an object called `marathon_pipe`. Finally, perform a cross-validation with 5 folds using the `cross_validate` function. Remember that since the `cross_validate` function always maximizes its \"score\", and here we're using RMSPE (lower is better!), we need to specify that we're using the *negative* RMSPE (`\"neg_root_mean_squared_error\"`).\n",
    "\n",
    "*Store the output of the cross validation as a data frame in an object called `marathon_cv`.*"
   ]
  },
  {
   "cell_type": "code",
   "execution_count": null,
   "metadata": {
    "deletable": false,
    "nbgrader": {
     "cell_type": "code",
     "checksum": "19be30edec8b71b3601d0b24ada2cbb2",
     "grade": false,
     "grade_id": "cell-766f1e094dd32efc",
     "locked": false,
     "schema_version": 3,
     "solution": true
    }
   },
   "outputs": [],
   "source": [
    "# ___ = make_pipeline(\n",
    "#     ___,\n",
    "#     ___,\n",
    "# )\n",
    "#\n",
    "# marathon_cv = pd.___(\n",
    "#     cross_validate(\n",
    "#         ___,\n",
    "#         ___,\n",
    "#         ___,\n",
    "#         scoring=___,\n",
    "#         return_train_score=True,\n",
    "#     )\n",
    "# )\n",
    "\n",
    "# your code here\n",
    "raise NotImplementedError\n",
    "marathon_cv"
   ]
  },
  {
   "cell_type": "code",
   "execution_count": null,
   "metadata": {
    "deletable": false,
    "editable": false,
    "nbgrader": {
     "cell_type": "code",
     "checksum": "a0a46b56ff2efa83f43c3b58d1f5ca2d",
     "grade": true,
     "grade_id": "cell-289bc7a299c4f482",
     "locked": true,
     "points": 1,
     "schema_version": 3,
     "solution": false
    }
   },
   "outputs": [],
   "source": [
    "from hashlib import sha1\n",
    "assert sha1(str(type(marathon_pipe is None)).encode(\"utf-8\")+b\"c0a1e8920cc4216e\").hexdigest() == \"b213152a68ff01dbcbb48f4575c7c280d5ddcdbb\", \"type of marathon_pipe is None is not bool. marathon_pipe is None should be a bool\"\n",
    "assert sha1(str(marathon_pipe is None).encode(\"utf-8\")+b\"c0a1e8920cc4216e\").hexdigest() == \"2904611834080e51ffc4e81ee9e68b7d200eee25\", \"boolean value of marathon_pipe is None is not correct\"\n",
    "\n",
    "assert sha1(str(type(marathon_pipe.steps[1][1].n_neighbors)).encode(\"utf-8\")+b\"ea4a67cadc5558fc\").hexdigest() == \"56d2d60213b17a0a1201ff29f9b076430e7bbabe\", \"type of marathon_pipe.steps[1][1].n_neighbors is not int. Please make sure it is int and not np.int64, etc. You can cast your value into an int using int()\"\n",
    "assert sha1(str(marathon_pipe.steps[1][1].n_neighbors).encode(\"utf-8\")+b\"ea4a67cadc5558fc\").hexdigest() == \"2fdb2ecc6b1468440e52a836efdf3d88446ec229\", \"value of marathon_pipe.steps[1][1].n_neighbors is not correct\"\n",
    "\n",
    "assert sha1(str(type(marathon_pipe.steps[1][1].weights)).encode(\"utf-8\")+b\"11821377b634e9d0\").hexdigest() == \"bb586a5910d13036f32acadbd9a37ed5961460c4\", \"type of marathon_pipe.steps[1][1].weights is not str. marathon_pipe.steps[1][1].weights should be an str\"\n",
    "assert sha1(str(len(marathon_pipe.steps[1][1].weights)).encode(\"utf-8\")+b\"11821377b634e9d0\").hexdigest() == \"7822dbddfcb1115fb8bed702b4b75409d20a3813\", \"length of marathon_pipe.steps[1][1].weights is not correct\"\n",
    "assert sha1(str(marathon_pipe.steps[1][1].weights.lower()).encode(\"utf-8\")+b\"11821377b634e9d0\").hexdigest() == \"b69b0d3f99d9955615aee9ec18c771b924094d03\", \"value of marathon_pipe.steps[1][1].weights is not correct\"\n",
    "assert sha1(str(marathon_pipe.steps[1][1].weights).encode(\"utf-8\")+b\"11821377b634e9d0\").hexdigest() == \"b69b0d3f99d9955615aee9ec18c771b924094d03\", \"correct string value of marathon_pipe.steps[1][1].weights but incorrect case of letters\"\n",
    "\n",
    "assert sha1(str(type(marathon_pipe.steps[0][1])).encode(\"utf-8\")+b\"4070ea8e3283e801\").hexdigest() == \"01c28ef1e91b64a2022bb4fba2092d037d86b46f\", \"type of marathon_pipe.steps[0][1] is not correct\"\n",
    "assert sha1(str(marathon_pipe.steps[0][1]).encode(\"utf-8\")+b\"4070ea8e3283e801\").hexdigest() == \"3e0e5e27c5bac0128991971723449e397ada7447\", \"value of marathon_pipe.steps[0][1] is not correct\"\n",
    "\n",
    "assert sha1(str(type(marathon_cv is None)).encode(\"utf-8\")+b\"efad54b030c58618\").hexdigest() == \"41bd7d745dcfad23d437fb16c0adfaca8d833231\", \"type of marathon_cv is None is not bool. marathon_cv is None should be a bool\"\n",
    "assert sha1(str(marathon_cv is None).encode(\"utf-8\")+b\"efad54b030c58618\").hexdigest() == \"0b3ad7b6e3ab11366c2c7f529895159ca295576c\", \"boolean value of marathon_cv is None is not correct\"\n",
    "\n",
    "assert sha1(str(type(len(marathon_cv['train_score']))).encode(\"utf-8\")+b\"9566330d287cd569\").hexdigest() == \"bd78fc2f20adc6419cf08c8e84fba4ad55b4a663\", \"type of len(marathon_cv['train_score']) is not int. Please make sure it is int and not np.int64, etc. You can cast your value into an int using int()\"\n",
    "assert sha1(str(len(marathon_cv['train_score'])).encode(\"utf-8\")+b\"9566330d287cd569\").hexdigest() == \"fcff4997c75f4c6f3ae5cdde55f00a39e661f6a0\", \"value of len(marathon_cv['train_score']) is not correct\"\n",
    "\n",
    "assert sha1(str(type(sum(marathon_cv['train_score']))).encode(\"utf-8\")+b\"d4649bec815f91b4\").hexdigest() == \"39c23d4212cff6a0631b50bc40fcdbca86c4edc6\", \"type of sum(marathon_cv['train_score']) is not float. Please make sure it is float and not np.float64, etc. You can cast your value into a float using float()\"\n",
    "assert sha1(str(round(sum(marathon_cv['train_score']), 2)).encode(\"utf-8\")+b\"d4649bec815f91b4\").hexdigest() == \"60d3105867ac5bbce203791587d14601497e3176\", \"value of sum(marathon_cv['train_score']) is not correct (rounded to 2 decimal places)\"\n",
    "\n",
    "assert sha1(str(type(sum(marathon_cv['test_score']))).encode(\"utf-8\")+b\"51699378e42a05e6\").hexdigest() == \"835fa6142365ab534cca7f6fa693c16d3b4cde12\", \"type of sum(marathon_cv['test_score']) is not float. Please make sure it is float and not np.float64, etc. You can cast your value into a float using float()\"\n",
    "assert sha1(str(round(sum(marathon_cv['test_score']), 2)).encode(\"utf-8\")+b\"51699378e42a05e6\").hexdigest() == \"4a5603c65170510c2965a0e5f6dd7daab4666471\", \"value of sum(marathon_cv['test_score']) is not correct (rounded to 2 decimal places)\"\n",
    "\n",
    "print('Success!')"
   ]
  },
  {
   "cell_type": "markdown",
   "metadata": {
    "deletable": false,
    "editable": false,
    "nbgrader": {
     "cell_type": "markdown",
     "checksum": "26a0c5f4ee389ac76334c430fb49d6ab",
     "grade": false,
     "grade_id": "cell-7cd5193eecc27c30",
     "locked": true,
     "schema_version": 3,
     "solution": false
    }
   },
   "source": [
    "**Question 8.0**\n",
    "<br> {points: 1}\n",
    "\n",
    "The major difference compared to other models from Chapters 6 and 7 is that we are running a *regression* rather than a *classification*. Using `KNeighborsRegressor` essentially tells `scikit-learn` that we need to use different metrics (`neg_root_mean_squared_error` rather than accuracy) for tuning and evaluation. \n",
    "\n",
    "Now, let's use the `neg_root_mean_squared_error` to find the best setting for $k$ from our model. Let's test 200 values of $k$. \n",
    "\n",
    "First, create a parameter grid called `param_grid` that contains values of range 1 to 200. \n",
    "\n",
    "Next, tune your model such that it tests all the values in `range(1, 201, 1)` using `GridSearchCV` function with `cv=5` and `n_jobs=-1` and save the tuned model as `marathon_tuned`. Finally, fit the tuned model to the training dataset and save the `cv_results_` in a dataframe. \n",
    "\n",
    "*Assign your answer to an object called `marathon_results`.*"
   ]
  },
  {
   "cell_type": "code",
   "execution_count": null,
   "metadata": {
    "deletable": false,
    "nbgrader": {
     "cell_type": "code",
     "checksum": "c31d761e4100b98b50b69cbec445cad9",
     "grade": false,
     "grade_id": "cell-8c7e7ded673d28ec",
     "locked": false,
     "schema_version": 3,
     "solution": true
    }
   },
   "outputs": [],
   "source": [
    "np.random.seed(2019) # DO NOT CHANGE\n",
    "\n",
    "# param_grid = _____\n",
    "# marathon_tuned = GridSearchCV(___, ___, ___, ___, ___)\n",
    "# marathon_results = pd.DataFrame(____.fit(____, ____).____) \n",
    "\n",
    "# your code here\n",
    "raise NotImplementedError\n",
    "marathon_results"
   ]
  },
  {
   "cell_type": "code",
   "execution_count": null,
   "metadata": {
    "deletable": false,
    "editable": false,
    "nbgrader": {
     "cell_type": "code",
     "checksum": "2106a2a1921c57bfbfb5cf921b6201c5",
     "grade": true,
     "grade_id": "cell-29d608ebfdd11366",
     "locked": true,
     "points": 1,
     "schema_version": 3,
     "solution": false
    }
   },
   "outputs": [],
   "source": [
    "from hashlib import sha1\n",
    "assert sha1(str(type(param_grid is None)).encode(\"utf-8\")+b\"ac51286e19dfadc1\").hexdigest() == \"c75547708c756e5e4a7c0554c4facbabee671c29\", \"type of param_grid is None is not bool. param_grid is None should be a bool\"\n",
    "assert sha1(str(param_grid is None).encode(\"utf-8\")+b\"ac51286e19dfadc1\").hexdigest() == \"cb4afa17e7e937d41b41bcf8a823e1f95b85e305\", \"boolean value of param_grid is None is not correct\"\n",
    "\n",
    "assert sha1(str(type(param_grid)).encode(\"utf-8\")+b\"3685f8732990f683\").hexdigest() == \"c4e0c196a58a0e35b041733185b71c31d6608840\", \"type of type(param_grid) is not correct\"\n",
    "\n",
    "assert sha1(str(type(\"kneighborsregressor__n_neighbors\" in param_grid)).encode(\"utf-8\")+b\"39bdfa935747a1a3\").hexdigest() == \"6f4dd532b3d2e32d8af0401f4d4b877442714ee2\", \"type of \\\"kneighborsregressor__n_neighbors\\\" in param_grid is not bool. \\\"kneighborsregressor__n_neighbors\\\" in param_grid should be a bool\"\n",
    "assert sha1(str(\"kneighborsregressor__n_neighbors\" in param_grid).encode(\"utf-8\")+b\"39bdfa935747a1a3\").hexdigest() == \"c5982e38e4d65db3ebc57354f910665967620951\", \"boolean value of \\\"kneighborsregressor__n_neighbors\\\" in param_grid is not correct\"\n",
    "\n",
    "assert sha1(str(type(sum(i for i in param_grid['kneighborsregressor__n_neighbors']))).encode(\"utf-8\")+b\"32656a1260913b34\").hexdigest() == \"1792a67828219634c7a9952fb25283f681d6561f\", \"type of sum(i for i in param_grid['kneighborsregressor__n_neighbors']) is not int. Please make sure it is int and not np.int64, etc. You can cast your value into an int using int()\"\n",
    "assert sha1(str(sum(i for i in param_grid['kneighborsregressor__n_neighbors'])).encode(\"utf-8\")+b\"32656a1260913b34\").hexdigest() == \"c36fcb72cfed53e1a374aee87e875cb269d52c9a\", \"value of sum(i for i in param_grid['kneighborsregressor__n_neighbors']) is not correct\"\n",
    "\n",
    "assert sha1(str(type(marathon_tuned is None)).encode(\"utf-8\")+b\"b15d8509c42b05a1\").hexdigest() == \"22c7c6ba8b6de8a095c372d7dfe548d1a8b07bc2\", \"type of marathon_tuned is None is not bool. marathon_tuned is None should be a bool\"\n",
    "assert sha1(str(marathon_tuned is None).encode(\"utf-8\")+b\"b15d8509c42b05a1\").hexdigest() == \"bc597e7561737785b0be92eb7814f85672fb98da\", \"boolean value of marathon_tuned is None is not correct\"\n",
    "\n",
    "assert sha1(str(type(marathon_tuned.n_splits_)).encode(\"utf-8\")+b\"0a4922ed6a735d4e\").hexdigest() == \"fd051862bc09e7239a11b789859472678da4e1c4\", \"type of marathon_tuned.n_splits_ is not int. Please make sure it is int and not np.int64, etc. You can cast your value into an int using int()\"\n",
    "assert sha1(str(marathon_tuned.n_splits_).encode(\"utf-8\")+b\"0a4922ed6a735d4e\").hexdigest() == \"966625e5e2db49319e145e56b062587c1d0b5390\", \"value of marathon_tuned.n_splits_ is not correct\"\n",
    "\n",
    "assert sha1(str(type(marathon_tuned.estimator[0])).encode(\"utf-8\")+b\"6f318874183a5c00\").hexdigest() == \"f7cbaefb43c9622b2f0102f6c8c1b7cb29521e3f\", \"type of marathon_tuned.estimator[0] is not correct\"\n",
    "assert sha1(str(marathon_tuned.estimator[0]).encode(\"utf-8\")+b\"6f318874183a5c00\").hexdigest() == \"efa0fe91c27b6470ce5bb9c17ece4dae82efdd2e\", \"value of marathon_tuned.estimator[0] is not correct\"\n",
    "\n",
    "assert sha1(str(type(marathon_tuned.estimator[1])).encode(\"utf-8\")+b\"4b37341c63501016\").hexdigest() == \"b83a6a4ffe44e45c1ec964529e55ae28058d98ba\", \"type of marathon_tuned.estimator[1] is not correct\"\n",
    "assert sha1(str(marathon_tuned.estimator[1]).encode(\"utf-8\")+b\"4b37341c63501016\").hexdigest() == \"1062f9594fb905e1563e90653942d92720af2e9e\", \"value of marathon_tuned.estimator[1] is not correct\"\n",
    "\n",
    "assert sha1(str(type(marathon_tuned.param_grid == param_grid)).encode(\"utf-8\")+b\"0b3416cc2958b588\").hexdigest() == \"201fb7aa21d9cb4eeab2df5c3b4ff3bd1636685d\", \"type of marathon_tuned.param_grid == param_grid is not bool. marathon_tuned.param_grid == param_grid should be a bool\"\n",
    "assert sha1(str(marathon_tuned.param_grid == param_grid).encode(\"utf-8\")+b\"0b3416cc2958b588\").hexdigest() == \"7d9ea5410c6c8698cef7b487a29aa52f25895de7\", \"boolean value of marathon_tuned.param_grid == param_grid is not correct\"\n",
    "\n",
    "assert sha1(str(type(marathon_results is None)).encode(\"utf-8\")+b\"e311b9057da7fb98\").hexdigest() == \"101e537de7dcd3c1dad10f8bd8bd212bf9a5db74\", \"type of marathon_results is None is not bool. marathon_results is None should be a bool\"\n",
    "assert sha1(str(marathon_results is None).encode(\"utf-8\")+b\"e311b9057da7fb98\").hexdigest() == \"ede451510952a7435f489ccbc90ce510743a0978\", \"boolean value of marathon_results is None is not correct\"\n",
    "\n",
    "assert sha1(str(type(marathon_results)).encode(\"utf-8\")+b\"3c42a6367aa82a2d\").hexdigest() == \"02884f9ba3ad6b5c34541471384fb6a4b0569ed8\", \"type of type(marathon_results) is not correct\"\n",
    "\n",
    "assert sha1(str(type(marathon_results.shape)).encode(\"utf-8\")+b\"3fd56339c29fba9a\").hexdigest() == \"831812d6bbc84b23f6a8d3acfc4516f3ffbfeb41\", \"type of marathon_results.shape is not tuple. marathon_results.shape should be a tuple\"\n",
    "assert sha1(str(len(marathon_results.shape)).encode(\"utf-8\")+b\"3fd56339c29fba9a\").hexdigest() == \"ecc3093014a7a1e6456f8a7e82a75ce45f292d9e\", \"length of marathon_results.shape is not correct\"\n",
    "assert sha1(str(sorted(map(str, marathon_results.shape))).encode(\"utf-8\")+b\"3fd56339c29fba9a\").hexdigest() == \"fc8f2b23279bdb3a97d4d0f0a9cfab858087c1eb\", \"values of marathon_results.shape are not correct\"\n",
    "assert sha1(str(marathon_results.shape).encode(\"utf-8\")+b\"3fd56339c29fba9a\").hexdigest() == \"4dc4d7562f5619289cbb21bb399c6392711ffe28\", \"order of elements of marathon_results.shape is not correct\"\n",
    "\n",
    "assert sha1(str(type(sum(marathon_results.param_kneighborsregressor__n_neighbors))).encode(\"utf-8\")+b\"6f27844a5b8fd6d4\").hexdigest() == \"7daf1e97bc22b3b676e746182e0305d5695713cf\", \"type of sum(marathon_results.param_kneighborsregressor__n_neighbors) is not int. Please make sure it is int and not np.int64, etc. You can cast your value into an int using int()\"\n",
    "assert sha1(str(sum(marathon_results.param_kneighborsregressor__n_neighbors)).encode(\"utf-8\")+b\"6f27844a5b8fd6d4\").hexdigest() == \"6ed42f09c4594af38d15e130cabf237b00ad1fd6\", \"value of sum(marathon_results.param_kneighborsregressor__n_neighbors) is not correct\"\n",
    "\n",
    "assert sha1(str(type(sum(marathon_results.mean_test_score))).encode(\"utf-8\")+b\"8a0bca084171c989\").hexdigest() == \"3ea34c800a7fdeec378b60fdb01cac7a77699d93\", \"type of sum(marathon_results.mean_test_score) is not float. Please make sure it is float and not np.float64, etc. You can cast your value into a float using float()\"\n",
    "assert sha1(str(round(sum(marathon_results.mean_test_score), 2)).encode(\"utf-8\")+b\"8a0bca084171c989\").hexdigest() == \"4fa1a009e7bd6d3e7d7a1187077bff22b60b1378\", \"value of sum(marathon_results.mean_test_score) is not correct (rounded to 2 decimal places)\"\n",
    "\n",
    "assert sha1(str(type(sum(marathon_results.std_test_score))).encode(\"utf-8\")+b\"da945fe25b2f0cd8\").hexdigest() == \"d56b089353bb904affce8efd8d3987e51cb93e2d\", \"type of sum(marathon_results.std_test_score) is not float. Please make sure it is float and not np.float64, etc. You can cast your value into a float using float()\"\n",
    "assert sha1(str(round(sum(marathon_results.std_test_score), 2)).encode(\"utf-8\")+b\"da945fe25b2f0cd8\").hexdigest() == \"2b41312bdc40a9d69a3a1f4fb4f52b48f88a9451\", \"value of sum(marathon_results.std_test_score) is not correct (rounded to 2 decimal places)\"\n",
    "\n",
    "print('Success!')"
   ]
  },
  {
   "cell_type": "markdown",
   "metadata": {
    "deletable": false,
    "editable": false,
    "nbgrader": {
     "cell_type": "markdown",
     "checksum": "c7741d04bb74dbf6c518c14d4f9bccb0",
     "grade": false,
     "grade_id": "cell-35eaea9c384c5f6c",
     "locked": true,
     "schema_version": 3,
     "solution": false
    }
   },
   "source": [
    "**Question 8.1**\n",
    "<br> {points: 1}\n",
    "\n",
    "Great! Now find the number of neighbors that will serve as our best $k$ value by calling the `best_params_` attribute of the model `marathon_tuned`. Your answer should simply be a dictionary with one key-value pair. \n",
    "\n",
    "Also, find the score for the best model by calling the `best_score_` attribute of the model `marathon_tuned`. Make sure to convert the negative RMSPE score we used for cross-validation into a positive RMSPE score for reporting by using a `-` sign.\n",
    "\n",
    "*Assign your best parameters to an object called `marathon_min`, and assign your best RMSPE to an object called `marathon_best_RMSPE`.* \n"
   ]
  },
  {
   "cell_type": "code",
   "execution_count": null,
   "metadata": {
    "deletable": false,
    "nbgrader": {
     "cell_type": "code",
     "checksum": "d86b5cdee75a41caa88010256f2c42ef",
     "grade": false,
     "grade_id": "cell-f9738d45da9e8a77",
     "locked": false,
     "schema_version": 3,
     "solution": true
    }
   },
   "outputs": [],
   "source": [
    "# ___ = ___.best_params_\n",
    "# ___ = -___.best_score_\n",
    "\n",
    "# your code here\n",
    "raise NotImplementedError\n",
    "marathon_min"
   ]
  },
  {
   "cell_type": "code",
   "execution_count": null,
   "metadata": {
    "deletable": false,
    "editable": false,
    "nbgrader": {
     "cell_type": "code",
     "checksum": "17e17fc4f3ff2afda441dfc373e22a4e",
     "grade": false,
     "grade_id": "cell-b0dd9e2eb4743bab",
     "locked": true,
     "schema_version": 3,
     "solution": false,
     "task": false
    }
   },
   "outputs": [],
   "source": [
    "marathon_best_RMSPE"
   ]
  },
  {
   "cell_type": "code",
   "execution_count": null,
   "metadata": {
    "deletable": false,
    "editable": false,
    "nbgrader": {
     "cell_type": "code",
     "checksum": "30cfc280b4f07044bbe7e16d15087842",
     "grade": true,
     "grade_id": "cell-a1e34e1fb62d79f5",
     "locked": true,
     "points": 1,
     "schema_version": 3,
     "solution": false
    }
   },
   "outputs": [],
   "source": [
    "from hashlib import sha1\n",
    "assert sha1(str(type(marathon_min is None)).encode(\"utf-8\")+b\"89b74409ace81fc1\").hexdigest() == \"d68add97b9ee9eb34fda33bb03edad6d45cc25b9\", \"type of marathon_min is None is not bool. marathon_min is None should be a bool\"\n",
    "assert sha1(str(marathon_min is None).encode(\"utf-8\")+b\"89b74409ace81fc1\").hexdigest() == \"98eb48c3bf41d6c22a76d79b5c021e778e9844df\", \"boolean value of marathon_min is None is not correct\"\n",
    "\n",
    "assert sha1(str(type(marathon_min)).encode(\"utf-8\")+b\"c43a67f94d04c65e\").hexdigest() == \"c95a31666411c4f119f22b8df834144224b07395\", \"type of type(marathon_min) is not correct\"\n",
    "\n",
    "assert sha1(str(type(marathon_min)).encode(\"utf-8\")+b\"3d452c863f05d7e2\").hexdigest() == \"27f9671075a526fc12a32c005a809374a589cc05\", \"type of marathon_min is not dict. marathon_min should be a dict\"\n",
    "assert sha1(str(len(list(marathon_min.keys()))).encode(\"utf-8\")+b\"3d452c863f05d7e2\").hexdigest() == \"27fb62619f72d6a1fd339fd9954888a19d01c752\", \"number of keys of marathon_min is not correct\"\n",
    "assert sha1(str(sorted(map(str, marathon_min.keys()))).encode(\"utf-8\")+b\"3d452c863f05d7e2\").hexdigest() == \"e1a675a00ac8fa521eade33871e333af17f11fb0\", \"keys of marathon_min are not correct\"\n",
    "assert sha1(str(sorted(map(str, marathon_min.values()))).encode(\"utf-8\")+b\"3d452c863f05d7e2\").hexdigest() == \"1457d3ff2325b1f760e19a6eb0e822d3d027d21d\", \"correct keys, but values of marathon_min are not correct\"\n",
    "assert sha1(str(marathon_min).encode(\"utf-8\")+b\"3d452c863f05d7e2\").hexdigest() == \"f2a9e45c1a079d4c49d5720d73b684a30aae8bff\", \"correct keys and values, but incorrect correspondence in keys and values of marathon_min\"\n",
    "\n",
    "assert sha1(str(type(marathon_best_RMSPE is None)).encode(\"utf-8\")+b\"13428f06297d25a4\").hexdigest() == \"4728fad6cbe1f6f326397a9e8b4050096be938cc\", \"type of marathon_best_RMSPE is None is not bool. marathon_best_RMSPE is None should be a bool\"\n",
    "assert sha1(str(marathon_best_RMSPE is None).encode(\"utf-8\")+b\"13428f06297d25a4\").hexdigest() == \"1fb8a127b78a8b44e8dc3e552c1afa9649707d3e\", \"boolean value of marathon_best_RMSPE is None is not correct\"\n",
    "\n",
    "assert sha1(str(type(marathon_best_RMSPE)).encode(\"utf-8\")+b\"f842434daa959f65\").hexdigest() == \"a5b322bf227e8991e989db9f95a83ae327b507cc\", \"type of marathon_best_RMSPE is not correct\"\n",
    "assert sha1(str(marathon_best_RMSPE).encode(\"utf-8\")+b\"f842434daa959f65\").hexdigest() == \"8409095d99ddba9f268ca8ec975dab1b3098a395\", \"value of marathon_best_RMSPE is not correct\"\n",
    "\n",
    "print('Success!')"
   ]
  },
  {
   "cell_type": "markdown",
   "metadata": {
    "deletable": false,
    "editable": false,
    "nbgrader": {
     "cell_type": "markdown",
     "checksum": "aa8abd5ef20ec9ab38ae4d8705bd15c7",
     "grade": false,
     "grade_id": "cell-28a414eb59f5ae20",
     "locked": true,
     "schema_version": 3,
     "solution": false
    }
   },
   "source": [
    "**Question 8.2**\n",
    "<br> {points: 1}\n",
    "\n",
    "To assess how well our model might do at predicting on unseen data, we will assess its RMSPE on the test data.\n",
    "\n",
    "We will use the predict function to make predictions on the test data and store the predictions `marathon_prediction`. Remember that `GridSearchCV` automatically refits the model with the best found parameters, so you can use the `predict` method of the `marathon_tuned` variable for this step.\n",
    "\n",
    "Finally, we will compute the RMSPE on the test data using the `mean_squared_error` function. Don't forget to take the square root to obtain the RMSPE!\n",
    "\n",
    "*Note: `scikit-learn` also has a `score` function for the `KNeighborsRegressor`. The `score` function returns the coefficient of determination (often called $R^2$) of the fit, not the RMSPE.*\n",
    "\n",
    "\n",
    "*Assign your answer in an object called `marathon_summary`.*\n"
   ]
  },
  {
   "cell_type": "code",
   "execution_count": null,
   "metadata": {
    "deletable": false,
    "nbgrader": {
     "cell_type": "code",
     "checksum": "231e9a9aad23a5fac955ed2a8287ebbf",
     "grade": false,
     "grade_id": "cell-a4de6046a0bd5f96",
     "locked": false,
     "schema_version": 3,
     "solution": true
    }
   },
   "outputs": [],
   "source": [
    "np.random.seed(1234) # DO NOT CHANGE\n",
    "\n",
    "# ___ = ___.___(___)\n",
    "# ___ = mean_squared_error(___, ___)**(1/2)\n",
    "\n",
    "\n",
    "# your code here\n",
    "raise NotImplementedError\n",
    "marathon_summary"
   ]
  },
  {
   "cell_type": "code",
   "execution_count": null,
   "metadata": {
    "deletable": false,
    "editable": false,
    "nbgrader": {
     "cell_type": "code",
     "checksum": "c2a42113336860a444490474daa038b3",
     "grade": true,
     "grade_id": "cell-94fab75dca459b65",
     "locked": true,
     "points": 1,
     "schema_version": 3,
     "solution": false
    }
   },
   "outputs": [],
   "source": [
    "from hashlib import sha1\n",
    "assert sha1(str(type(marathon_prediction is None)).encode(\"utf-8\")+b\"66c5d2362cc12aa8\").hexdigest() == \"69771114ed329624b3c0a61e7a2097e31e5d9443\", \"type of marathon_prediction is None is not bool. marathon_prediction is None should be a bool\"\n",
    "assert sha1(str(marathon_prediction is None).encode(\"utf-8\")+b\"66c5d2362cc12aa8\").hexdigest() == \"e64f50d11939c6632c04b3d09e7c8c26b46c8305\", \"boolean value of marathon_prediction is None is not correct\"\n",
    "\n",
    "assert sha1(str(type(marathon_prediction)).encode(\"utf-8\")+b\"70d61d653715010d\").hexdigest() == \"a22cad4a6723c3ac3f356075210ce28da7bdd9e3\", \"type of type(marathon_prediction) is not correct\"\n",
    "\n",
    "assert sha1(str(type(marathon_prediction.sum())).encode(\"utf-8\")+b\"a48c0a042ee411dc\").hexdigest() == \"b7b5e303d5e3e6713cc317d1621d3a1b9fa2192b\", \"type of marathon_prediction.sum() is not correct\"\n",
    "assert sha1(str(marathon_prediction.sum()).encode(\"utf-8\")+b\"a48c0a042ee411dc\").hexdigest() == \"baad84c0d593bbd3905236eb410081108f3653d7\", \"value of marathon_prediction.sum() is not correct\"\n",
    "\n",
    "assert sha1(str(type(marathon_summary is None)).encode(\"utf-8\")+b\"e65da5319128d53d\").hexdigest() == \"471affe75d523d447a8cd8b184b6de4dde317bb7\", \"type of marathon_summary is None is not bool. marathon_summary is None should be a bool\"\n",
    "assert sha1(str(marathon_summary is None).encode(\"utf-8\")+b\"e65da5319128d53d\").hexdigest() == \"a2a4a4cbb7d59628c4d9f4fb2b5212cf8b5a75c7\", \"boolean value of marathon_summary is None is not correct\"\n",
    "\n",
    "assert sha1(str(type(marathon_summary)).encode(\"utf-8\")+b\"1d53380f977eb377\").hexdigest() == \"d82544a55069068f75a49d3e717d7713b00b7158\", \"type of marathon_summary is not correct\"\n",
    "assert sha1(str(marathon_summary).encode(\"utf-8\")+b\"1d53380f977eb377\").hexdigest() == \"a72662cfe3d6c64eb7babdc26f98733d460ac513\", \"value of marathon_summary is not correct\"\n",
    "\n",
    "print('Success!')"
   ]
  },
  {
   "cell_type": "markdown",
   "metadata": {
    "deletable": false,
    "editable": false,
    "nbgrader": {
     "cell_type": "markdown",
     "checksum": "916cfae57b2ffacb39d11610af802680",
     "grade": false,
     "grade_id": "cell-dffef3173aff9b72",
     "locked": true,
     "schema_version": 3,
     "solution": false,
     "task": false
    }
   },
   "source": [
    "What does this RMSPE mean? RMSPE is measured in the units of the target/response variable, so it can sometimes be a bit hard to interpret. In this case, we have a helpful reference to compare against: we know that a typical marathon race time is somewhere between 3 - 5 hours. So this model allows us to predict a runner's race time up to about +/-0.6 of an hour, or +/- 36 minutes. Relative the total race time, this margin of error is not *fantastic*, but not *terrible* either. We can certainly use the model to determine roughly whether an athlete will have a bad, good, or excellent race time, but probably cannot reliably distinguish between athletes of a similar caliber.\n",
    "\n",
    "For now, let’s consider this approach to thinking about RMSPE from our testing data set: as long as it's not significantly worse than the cross-validation RMSPE of our best model (**Question 8.1**), then we can say that we’re not doing too much worse on the test data than we did on the training data. In future courses on statistical/machine learning, you will learn more about how to interpret RMSPE from testing data and other ways to assess models.  "
   ]
  },
  {
   "cell_type": "markdown",
   "metadata": {
    "deletable": false,
    "editable": false,
    "nbgrader": {
     "cell_type": "markdown",
     "checksum": "7a897402fd703010fe30e1523087aac7",
     "grade": false,
     "grade_id": "cell-ed97bb769cc923e5",
     "locked": true,
     "schema_version": 3,
     "solution": false,
     "task": false
    }
   },
   "source": [
    "**Question 8.3**\n",
    "<br>{points: 1}\n",
    "\n",
    "The RMSPE from our testing data set is *much worse* than the cross-validation RMSPE of our best model. \n",
    "\n",
    "*Assign your answer to an object named `answer8_3`. Make sure your answer is either `True` or `False`.*"
   ]
  },
  {
   "cell_type": "code",
   "execution_count": null,
   "metadata": {
    "deletable": false,
    "nbgrader": {
     "cell_type": "code",
     "checksum": "26215e2be064314a108b179eedbf1505",
     "grade": false,
     "grade_id": "cell-24ccc13552b0fff1",
     "locked": false,
     "schema_version": 3,
     "solution": true,
     "task": false
    }
   },
   "outputs": [],
   "source": [
    "# your code here\n",
    "raise NotImplementedError"
   ]
  },
  {
   "cell_type": "code",
   "execution_count": null,
   "metadata": {
    "deletable": false,
    "editable": false,
    "nbgrader": {
     "cell_type": "code",
     "checksum": "a544eeae18b92e27ab4ee7de95c793bf",
     "grade": true,
     "grade_id": "cell-f39ed1223c189ec6",
     "locked": true,
     "points": 1,
     "schema_version": 3,
     "solution": false,
     "task": false
    }
   },
   "outputs": [],
   "source": [
    "from hashlib import sha1\n",
    "assert sha1(str(type(answer8_3)).encode(\"utf-8\")+b\"619d7675bb1cda0a\").hexdigest() == \"a9ccb5d8c47a5fb3f9ba27ab226d82e6b7fd263a\", \"type of answer8_3 is not bool. answer8_3 should be a bool\"\n",
    "assert sha1(str(answer8_3).encode(\"utf-8\")+b\"619d7675bb1cda0a\").hexdigest() == \"af0fb4c3014dc077ee4ab63e0d3b8039bd9bfd2a\", \"boolean value of answer8_3 is not correct\"\n",
    "\n",
    "print('Success!')"
   ]
  },
  {
   "cell_type": "markdown",
   "metadata": {
    "deletable": false,
    "editable": false,
    "nbgrader": {
     "cell_type": "markdown",
     "checksum": "91c371815f8521c3f43e3f0bfe407f84",
     "grade": false,
     "grade_id": "cell-f527fba0cc1ca89d",
     "locked": true,
     "schema_version": 3,
     "solution": false
    }
   },
   "source": [
    "**Question 9.0**\n",
    "<br> {points: 1}\n",
    "\n",
    "Let's visualize what the relationship between `max` and `time_hrs` looks like with our best $k$ value to ultimately explore how the $k$ value affects $k$-nn regression.\n",
    "\n",
    "To do so, use the `predict` function on `marathon_tuned` to use the model with the best $K$ value to create predictions for the `marathon_training` data. Then, add the column of predictions to the `marathon_training` data frame using the `assign` function. Name the resulting data frame `marathon_preds` and the new column `predictions`.\n",
    "\n",
    "Next, create a scatterplot with the marathon time (y-axis) against the maximum distance run per week (x-axis) from `marathon_preds`. Use `mark_circle` with an opacity of 0.4 to avoid overplotting. Assign your plot to a variable called `marathon_plot`. **Plot the predictions as a black line over the data points.** Remember the fundamentals of effective visualizations such as having a human-readable axes titles. \n",
    "\n",
    "*Assign the data frame from the first part to a variable called `marathon_preds`, and the plot to a variable called `marathon_plot`.*"
   ]
  },
  {
   "cell_type": "code",
   "execution_count": null,
   "metadata": {
    "deletable": false,
    "nbgrader": {
     "cell_type": "code",
     "checksum": "e740adac0cff3905a99f571b55640aee",
     "grade": false,
     "grade_id": "cell-e623a65f902a7e98",
     "locked": false,
     "schema_version": 3,
     "solution": true
    }
   },
   "outputs": [],
   "source": [
    "np.random.seed(2019) # DO NOT CHANGE\n",
    "\n",
    "# marathon_preds = ____.assign(\n",
    "#     predictions= _____.predict(____)\n",
    "# )\n",
    "# marathon_plot = ___\n",
    "\n",
    "# your code here\n",
    "raise NotImplementedError\n",
    "marathon_plot"
   ]
  },
  {
   "cell_type": "code",
   "execution_count": null,
   "metadata": {
    "deletable": false,
    "editable": false,
    "nbgrader": {
     "cell_type": "code",
     "checksum": "9f0ddf3900639f940123875be5a35cfa",
     "grade": true,
     "grade_id": "cell-5eff9c974a058bdf",
     "locked": true,
     "points": 1,
     "schema_version": 3,
     "solution": false
    }
   },
   "outputs": [],
   "source": [
    "from hashlib import sha1\n",
    "assert sha1(str(type(marathon_preds is None)).encode(\"utf-8\")+b\"05085d961712d31b\").hexdigest() == \"bd39760a1f92929743ecb251e02b11ba2c53fabb\", \"type of marathon_preds is None is not bool. marathon_preds is None should be a bool\"\n",
    "assert sha1(str(marathon_preds is None).encode(\"utf-8\")+b\"05085d961712d31b\").hexdigest() == \"7d7ac96fa84e242233b9b1e6ca6fee7ecb41f88c\", \"boolean value of marathon_preds is None is not correct\"\n",
    "\n",
    "assert sha1(str(type(marathon_preds)).encode(\"utf-8\")+b\"ce4f604ca1c1c3a9\").hexdigest() == \"88cf744a262d6844942cb13f98386828326e99a0\", \"type of type(marathon_preds) is not correct\"\n",
    "\n",
    "assert sha1(str(type(marathon_preds.shape)).encode(\"utf-8\")+b\"4fef9ebba6858504\").hexdigest() == \"3c08c1c00d24a06f196bbd26ec81dda5f37fda10\", \"type of marathon_preds.shape is not tuple. marathon_preds.shape should be a tuple\"\n",
    "assert sha1(str(len(marathon_preds.shape)).encode(\"utf-8\")+b\"4fef9ebba6858504\").hexdigest() == \"20dbd56051d97d20c8d997d6ccca3ac5418f4532\", \"length of marathon_preds.shape is not correct\"\n",
    "assert sha1(str(sorted(map(str, marathon_preds.shape))).encode(\"utf-8\")+b\"4fef9ebba6858504\").hexdigest() == \"0f05dec25dd46b0107bf3bb2476b920487a7c5d2\", \"values of marathon_preds.shape are not correct\"\n",
    "assert sha1(str(marathon_preds.shape).encode(\"utf-8\")+b\"4fef9ebba6858504\").hexdigest() == \"79743436ef1e01f5cb76293c4cfb01b2d4de902f\", \"order of elements of marathon_preds.shape is not correct\"\n",
    "\n",
    "assert sha1(str(type(\"predictions\" in marathon_preds.columns)).encode(\"utf-8\")+b\"f1a2d3a788b55fef\").hexdigest() == \"0c4a2d3c7dd5537bfce228364dc0f9d51c873d54\", \"type of \\\"predictions\\\" in marathon_preds.columns is not bool. \\\"predictions\\\" in marathon_preds.columns should be a bool\"\n",
    "assert sha1(str(\"predictions\" in marathon_preds.columns).encode(\"utf-8\")+b\"f1a2d3a788b55fef\").hexdigest() == \"78accb0f50744a4c06a13c104524bde5fe021967\", \"boolean value of \\\"predictions\\\" in marathon_preds.columns is not correct\"\n",
    "\n",
    "assert sha1(str(type(sum(marathon_preds.predictions))).encode(\"utf-8\")+b\"2e8721b7959b5a68\").hexdigest() == \"4b4636a694779233317dc27fea45d778c054c819\", \"type of sum(marathon_preds.predictions) is not float. Please make sure it is float and not np.float64, etc. You can cast your value into a float using float()\"\n",
    "assert sha1(str(round(sum(marathon_preds.predictions), 2)).encode(\"utf-8\")+b\"2e8721b7959b5a68\").hexdigest() == \"91639de6a16f4870f45ca229eb8555ead27ddb27\", \"value of sum(marathon_preds.predictions) is not correct (rounded to 2 decimal places)\"\n",
    "\n",
    "assert sha1(str(type(sum(marathon_preds.time_hrs))).encode(\"utf-8\")+b\"2656f4a74b893014\").hexdigest() == \"765b036888255343788fed59aae59efaaf9c80fb\", \"type of sum(marathon_preds.time_hrs) is not float. Please make sure it is float and not np.float64, etc. You can cast your value into a float using float()\"\n",
    "assert sha1(str(round(sum(marathon_preds.time_hrs), 2)).encode(\"utf-8\")+b\"2656f4a74b893014\").hexdigest() == \"e27609be0a42ec27a1f43f27616626d6d078b3f5\", \"value of sum(marathon_preds.time_hrs) is not correct (rounded to 2 decimal places)\"\n",
    "\n",
    "assert sha1(str(type(marathon_plot is None)).encode(\"utf-8\")+b\"c44cf005cf1ed940\").hexdigest() == \"f3b26f1ab3c362168ae1be2c62bb924b024d864c\", \"type of marathon_plot is None is not bool. marathon_plot is None should be a bool\"\n",
    "assert sha1(str(marathon_plot is None).encode(\"utf-8\")+b\"c44cf005cf1ed940\").hexdigest() == \"0b21f2e018c67dd98debebc711e58c68775a29f9\", \"boolean value of marathon_plot is None is not correct\"\n",
    "\n",
    "assert sha1(str(type(len(marathon_plot.layer))).encode(\"utf-8\")+b\"ff6f7119123bdfb0\").hexdigest() == \"768519d551d4d277a2010f09ae3426fade0629d2\", \"type of len(marathon_plot.layer) is not int. Please make sure it is int and not np.int64, etc. You can cast your value into an int using int()\"\n",
    "assert sha1(str(len(marathon_plot.layer)).encode(\"utf-8\")+b\"ff6f7119123bdfb0\").hexdigest() == \"4f777334178a1c82994cad1a2a80568591a95649\", \"value of len(marathon_plot.layer) is not correct\"\n",
    "\n",
    "assert sha1(str(type(marathon_plot.layer[0].mark)).encode(\"utf-8\")+b\"b2a55c960bee3cc6\").hexdigest() == \"4fa9863dba3a580b19bc3e7bcc5b272d7380451e\", \"type of marathon_plot.layer[0].mark is not correct\"\n",
    "assert sha1(str(marathon_plot.layer[0].mark).encode(\"utf-8\")+b\"b2a55c960bee3cc6\").hexdigest() == \"7ac5cbf2237e00fff9624838472f2dc24bf35824\", \"value of marathon_plot.layer[0].mark is not correct\"\n",
    "\n",
    "assert sha1(str(type(marathon_plot.layer[1].mark)).encode(\"utf-8\")+b\"41200213682f5854\").hexdigest() == \"19ae0ffecb9aa350898fd144ec8dc5a4e7a0971d\", \"type of marathon_plot.layer[1].mark is not correct\"\n",
    "assert sha1(str(marathon_plot.layer[1].mark).encode(\"utf-8\")+b\"41200213682f5854\").hexdigest() == \"51e32ae148e4684abe3aed6ee32d8b90a3796ebe\", \"value of marathon_plot.layer[1].mark is not correct\"\n",
    "\n",
    "assert sha1(str(type(marathon_plot.layer[0].encoding.x['shorthand'])).encode(\"utf-8\")+b\"965b9e5c5b2fbb27\").hexdigest() == \"a29fd88b18432decf31abdde2d22b7b53804622f\", \"type of marathon_plot.layer[0].encoding.x['shorthand'] is not str. marathon_plot.layer[0].encoding.x['shorthand'] should be an str\"\n",
    "assert sha1(str(len(marathon_plot.layer[0].encoding.x['shorthand'])).encode(\"utf-8\")+b\"965b9e5c5b2fbb27\").hexdigest() == \"b3b8f5673574bab4c844264cb1d13b94a9b19723\", \"length of marathon_plot.layer[0].encoding.x['shorthand'] is not correct\"\n",
    "assert sha1(str(marathon_plot.layer[0].encoding.x['shorthand'].lower()).encode(\"utf-8\")+b\"965b9e5c5b2fbb27\").hexdigest() == \"711e0896df5faff39bf1c2c93039cffd5cc52e50\", \"value of marathon_plot.layer[0].encoding.x['shorthand'] is not correct\"\n",
    "assert sha1(str(marathon_plot.layer[0].encoding.x['shorthand']).encode(\"utf-8\")+b\"965b9e5c5b2fbb27\").hexdigest() == \"711e0896df5faff39bf1c2c93039cffd5cc52e50\", \"correct string value of marathon_plot.layer[0].encoding.x['shorthand'] but incorrect case of letters\"\n",
    "\n",
    "assert sha1(str(type(marathon_plot.layer[0].encoding.y['shorthand'])).encode(\"utf-8\")+b\"f2063af07de18610\").hexdigest() == \"7556444824b84fdd8b3e623eba3f222b3324fc35\", \"type of marathon_plot.layer[0].encoding.y['shorthand'] is not str. marathon_plot.layer[0].encoding.y['shorthand'] should be an str\"\n",
    "assert sha1(str(len(marathon_plot.layer[0].encoding.y['shorthand'])).encode(\"utf-8\")+b\"f2063af07de18610\").hexdigest() == \"df261a255260d92bb0042084036d48ab68b5ef5d\", \"length of marathon_plot.layer[0].encoding.y['shorthand'] is not correct\"\n",
    "assert sha1(str(marathon_plot.layer[0].encoding.y['shorthand'].lower()).encode(\"utf-8\")+b\"f2063af07de18610\").hexdigest() == \"2b1a0c036763e1382a95a248e33691bae45d7d41\", \"value of marathon_plot.layer[0].encoding.y['shorthand'] is not correct\"\n",
    "assert sha1(str(marathon_plot.layer[0].encoding.y['shorthand']).encode(\"utf-8\")+b\"f2063af07de18610\").hexdigest() == \"2b1a0c036763e1382a95a248e33691bae45d7d41\", \"correct string value of marathon_plot.layer[0].encoding.y['shorthand'] but incorrect case of letters\"\n",
    "\n",
    "assert sha1(str(type(marathon_plot.layer[1].encoding.y['shorthand'])).encode(\"utf-8\")+b\"506b85e4f2c80277\").hexdigest() == \"e21cb67daf0484d808bcd96e484219b9c52609a0\", \"type of marathon_plot.layer[1].encoding.y['shorthand'] is not str. marathon_plot.layer[1].encoding.y['shorthand'] should be an str\"\n",
    "assert sha1(str(len(marathon_plot.layer[1].encoding.y['shorthand'])).encode(\"utf-8\")+b\"506b85e4f2c80277\").hexdigest() == \"bd6ec2fb1acd67dd460b722f3a6df2901541b626\", \"length of marathon_plot.layer[1].encoding.y['shorthand'] is not correct\"\n",
    "assert sha1(str(marathon_plot.layer[1].encoding.y['shorthand'].lower()).encode(\"utf-8\")+b\"506b85e4f2c80277\").hexdigest() == \"b5b8ecf9e544c48cb07521d1ee741ecd79d889cb\", \"value of marathon_plot.layer[1].encoding.y['shorthand'] is not correct\"\n",
    "assert sha1(str(marathon_plot.layer[1].encoding.y['shorthand']).encode(\"utf-8\")+b\"506b85e4f2c80277\").hexdigest() == \"b5b8ecf9e544c48cb07521d1ee741ecd79d889cb\", \"correct string value of marathon_plot.layer[1].encoding.y['shorthand'] but incorrect case of letters\"\n",
    "\n",
    "assert sha1(str(type(isinstance(marathon_plot.layer[0].encoding.x['title'], str))).encode(\"utf-8\")+b\"208ec2f0eed679de\").hexdigest() == \"c7bdf3ffce9586ba72f2064f0a719dc0ff8cfdd0\", \"type of isinstance(marathon_plot.layer[0].encoding.x['title'], str) is not bool. isinstance(marathon_plot.layer[0].encoding.x['title'], str) should be a bool\"\n",
    "assert sha1(str(isinstance(marathon_plot.layer[0].encoding.x['title'], str)).encode(\"utf-8\")+b\"208ec2f0eed679de\").hexdigest() == \"fe0463a763e68da26c6525aacc9aa23f72ced326\", \"boolean value of isinstance(marathon_plot.layer[0].encoding.x['title'], str) is not correct\"\n",
    "\n",
    "assert sha1(str(type(isinstance(marathon_plot.layer[0].encoding.y['title'], str))).encode(\"utf-8\")+b\"f9f86f1c52781a38\").hexdigest() == \"f355c84390c17d7b84cb39b7628de501a06dae8c\", \"type of isinstance(marathon_plot.layer[0].encoding.y['title'], str) is not bool. isinstance(marathon_plot.layer[0].encoding.y['title'], str) should be a bool\"\n",
    "assert sha1(str(isinstance(marathon_plot.layer[0].encoding.y['title'], str)).encode(\"utf-8\")+b\"f9f86f1c52781a38\").hexdigest() == \"858f7f03240585cf8fc3670f84a14be67d611491\", \"boolean value of isinstance(marathon_plot.layer[0].encoding.y['title'], str) is not correct\"\n",
    "\n",
    "print('Success!')"
   ]
  }
 ],
 "metadata": {
  "jupytext": {
   "encoding": "# -*- coding: utf-8 -*-"
  },
  "kernelspec": {
   "display_name": "Python 3 (ipykernel)",
   "language": "python",
   "name": "python3"
  },
  "language_info": {
   "codemirror_mode": {
    "name": "ipython",
    "version": 3
   },
   "file_extension": ".py",
   "mimetype": "text/x-python",
   "name": "python",
   "nbconvert_exporter": "python",
   "pygments_lexer": "ipython3",
   "version": "3.11.4"
  }
 },
 "nbformat": 4,
 "nbformat_minor": 4
}
