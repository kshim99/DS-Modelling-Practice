{
 "cells": [
  {
   "cell_type": "markdown",
   "metadata": {
    "deletable": false,
    "editable": false,
    "nbgrader": {
     "cell_type": "markdown",
     "checksum": "287c943b3b3c791644f34632e4018ee8",
     "grade": false,
     "grade_id": "cell-6093d584be2ad9ed",
     "locked": true,
     "schema_version": 3,
     "solution": false
    }
   },
   "source": [
    "# Worksheet 8 - Regression\n",
    "\n",
    "### Lecture and Tutorial Learning Goals:\n",
    "\n",
    "After completing this week's lecture and tutorial work, you will be able to:\n",
    "- Recognize situations where a simple regression analysis would be appropriate for making predictions.\n",
    "- Explain the k-nearest neighbour ($k$-nn) regression algorithm and describe how it differs from $k$-nn classification.\n",
    "- Interpret the output of a $k$-nn regression.\n",
    "- In a dataset with two variables, perform k-nearest neighbour regression in Python using `scikit-learn` to predict the values for a test dataset.\n",
    "- Using Python, execute hyperparameter tuning in Python to choose the number of neighbours.\n",
    "- Using Python, evaluate $k$-nn regression prediction accuracy using a test data set and an appropriate metric (root mean squared error).\n",
    "- In the context of $k$-nn regression, compare and contrast goodness of fit and prediction properties (RMSE versus RMSPE).\n",
    "- Describe advantages and disadvantages of the $k$-nearest neighbour regression approach.\n",
    "\n",
    "This tutorial covers parts of [Chapter 7](https://python.datasciencebook.ca/regression1) of the online textbook. You should read this chapter before attempting this assignment. Any place you see `___`, you must fill in the function, variable, or data to complete the code. Substitute the `raise NotImplementedError` with your completed code and answers then proceed to run the cell."
   ]
  },
  {
   "cell_type": "code",
   "execution_count": 1,
   "metadata": {
    "deletable": false,
    "editable": false,
    "nbgrader": {
     "cell_type": "code",
     "checksum": "557f03fa20fc0ebcf8983518d3f404b1",
     "grade": false,
     "grade_id": "cell-53085d5554f9dcc8",
     "locked": true,
     "schema_version": 3,
     "solution": false,
     "task": false
    }
   },
   "outputs": [],
   "source": [
    "### Run this cell before continuing.\n",
    "import altair as alt\n",
    "import numpy as np\n",
    "import pandas as pd\n",
    "from sklearn import set_config\n",
    "from sklearn.model_selection import GridSearchCV, cross_validate, train_test_split\n",
    "from sklearn.neighbors import KNeighborsRegressor\n",
    "from sklearn.pipeline import make_pipeline\n",
    "from sklearn.preprocessing import StandardScaler\n",
    "from sklearn.metrics import mean_squared_error\n",
    "\n",
    "# Simplify working with large datasets in Altair\n",
    "alt.data_transformers.disable_max_rows()\n",
    "\n",
    "# Output dataframes instead of arrays\n",
    "set_config(transform_output=\"pandas\")"
   ]
  },
  {
   "cell_type": "markdown",
   "metadata": {
    "deletable": false,
    "editable": false,
    "nbgrader": {
     "cell_type": "markdown",
     "checksum": "761fe69db4e2a0df7d566bcba24a6c5d",
     "grade": false,
     "grade_id": "cell-8e40e06455324a19",
     "locked": true,
     "schema_version": 3,
     "solution": false
    }
   },
   "source": [
    "**Question 0.0** \n",
    "<br> {points: 1}\n",
    "\n",
    "To predict a value of $Y$ for a new observation using $k$-nn **regression**, we identify the $k$-nearest neighbours and then:\n",
    "\n",
    "A. Assign it the median of the $k$-nearest neighbours as the predicted value\n",
    "\n",
    "B. Assign it the mean of the $k$-nearest neighbours as the predicted value\n",
    "\n",
    "C. Assign it the mode of the $k$-nearest neighbours as the predicted value\n",
    "\n",
    "D. Assign it the majority vote of the $k$-nearest neighbours as the predicted value\n",
    "\n",
    "*Save the letter of the answer you think is correct to a variable named `answer0_0`. Make sure your answer is an uppercase letter and is surrounded by quotation marks (e.g. `\"F\"`).*"
   ]
  },
  {
   "cell_type": "code",
   "execution_count": 2,
   "metadata": {
    "deletable": false,
    "nbgrader": {
     "cell_type": "code",
     "checksum": "be09c84e9423c2fde7de7f9a7ff062d0",
     "grade": false,
     "grade_id": "cell-108236d99368cc44",
     "locked": false,
     "schema_version": 3,
     "solution": true
    }
   },
   "outputs": [],
   "source": [
    "# your code here\n",
    "answer0_0 = 'B'"
   ]
  },
  {
   "cell_type": "code",
   "execution_count": 3,
   "metadata": {
    "deletable": false,
    "editable": false,
    "nbgrader": {
     "cell_type": "code",
     "checksum": "49ce12ef43ce88719799735d6309b0b7",
     "grade": true,
     "grade_id": "cell-7d5938e33a38edeb",
     "locked": true,
     "points": 1,
     "schema_version": 3,
     "solution": false
    }
   },
   "outputs": [
    {
     "name": "stdout",
     "output_type": "stream",
     "text": [
      "Success!\n"
     ]
    }
   ],
   "source": [
    "from hashlib import sha1\n",
    "assert sha1(str(type(answer0_0)).encode(\"utf-8\")+b\"000fe37c656a089d\").hexdigest() == \"4ef40b011eae2943dde4af579c11052330f8975e\", \"type of answer0_0 is not str. answer0_0 should be an str\"\n",
    "assert sha1(str(len(answer0_0)).encode(\"utf-8\")+b\"000fe37c656a089d\").hexdigest() == \"74cfa2f7d057abd57674b615856dc85dde0a8db4\", \"length of answer0_0 is not correct\"\n",
    "assert sha1(str(answer0_0.lower()).encode(\"utf-8\")+b\"000fe37c656a089d\").hexdigest() == \"39edf08564fb5d6cec1f60ef9af1cf704c109a81\", \"value of answer0_0 is not correct\"\n",
    "assert sha1(str(answer0_0).encode(\"utf-8\")+b\"000fe37c656a089d\").hexdigest() == \"b0e5393b90fac11d85c9df0a5bd7c174814e22f8\", \"correct string value of answer0_0 but incorrect case of letters\"\n",
    "\n",
    "print('Success!')"
   ]
  },
  {
   "cell_type": "markdown",
   "metadata": {
    "deletable": false,
    "editable": false,
    "nbgrader": {
     "cell_type": "markdown",
     "checksum": "cb44f1b9b4de90f4fc22579922dfb503",
     "grade": false,
     "grade_id": "cell-b0f4fa2237ef0429",
     "locked": true,
     "schema_version": 3,
     "solution": false,
     "task": false
    }
   },
   "source": [
    "**Question 0.1**\n",
    "<br> {points: 1}\n",
    "\n",
    "Of those shown below, which is the correct formula for root mean squared error (RMSE)?\n",
    "\n",
    "\n",
    "A. $\\text{RMSE} = \\sqrt{\\frac{\\frac{1}{n}\\sum\\limits_{i=1}^{n}(y_i - \\hat{y_i})^2}{1 - n}}$\n",
    "\n",
    "B. $\\text{RMSE} = \\sqrt{\\frac{1}{n - 1}\\sum\\limits_{i=1}^{n}(y_i - \\hat{y_i})^2}$\n",
    "\n",
    "C. $\\text{RMSE} = \\sqrt{\\frac{1}{n}\\sum\\limits_{i=1}^{n}(y_i - \\hat{y_i})^2}$\n",
    "\n",
    "D. $\\text{RMSE} = \\sqrt{\\frac{1}{n}\\sum\\limits_{i=1}^{n}(y_i - \\hat{y_i})}$ \n",
    "\n",
    "*Save the letter of your answer to a variable named `answer0_1`. Make sure you put quotations around the letter and pay attention to case.*"
   ]
  },
  {
   "cell_type": "code",
   "execution_count": 4,
   "metadata": {
    "deletable": false,
    "nbgrader": {
     "cell_type": "code",
     "checksum": "3fa947ab2ac171de2a28b1fcf66500d4",
     "grade": false,
     "grade_id": "cell-93c565d6974de38f",
     "locked": false,
     "schema_version": 3,
     "solution": true,
     "task": false
    }
   },
   "outputs": [],
   "source": [
    "# your code here\n",
    "answer0_1 = 'C'"
   ]
  },
  {
   "cell_type": "code",
   "execution_count": 5,
   "metadata": {
    "deletable": false,
    "editable": false,
    "nbgrader": {
     "cell_type": "code",
     "checksum": "d029428bbc4cba2fbe83c8fd4bb77b38",
     "grade": true,
     "grade_id": "cell-b1e66491132c1e30",
     "locked": true,
     "points": 1,
     "schema_version": 3,
     "solution": false,
     "task": false
    }
   },
   "outputs": [
    {
     "name": "stdout",
     "output_type": "stream",
     "text": [
      "Success!\n"
     ]
    }
   ],
   "source": [
    "from hashlib import sha1\n",
    "assert sha1(str(type(answer0_1)).encode(\"utf-8\")+b\"c9539f92543de733\").hexdigest() == \"249009c8158b32e5876258783807211c708e1784\", \"type of answer0_1 is not str. answer0_1 should be an str\"\n",
    "assert sha1(str(len(answer0_1)).encode(\"utf-8\")+b\"c9539f92543de733\").hexdigest() == \"aa660f809675ec4518170b0c9fce1cc746b3996e\", \"length of answer0_1 is not correct\"\n",
    "assert sha1(str(answer0_1.lower()).encode(\"utf-8\")+b\"c9539f92543de733\").hexdigest() == \"30a2ae027bdc80b2331d1b896163ff05c0ad6107\", \"value of answer0_1 is not correct\"\n",
    "assert sha1(str(answer0_1).encode(\"utf-8\")+b\"c9539f92543de733\").hexdigest() == \"553ab8a6a5889ff6064103174de6aa4208722512\", \"correct string value of answer0_1 but incorrect case of letters\"\n",
    "\n",
    "print('Success!')"
   ]
  },
  {
   "cell_type": "markdown",
   "metadata": {
    "deletable": false,
    "editable": false,
    "nbgrader": {
     "cell_type": "markdown",
     "checksum": "247617d4518ef89461e9e157503fac43",
     "grade": false,
     "grade_id": "cell-ded5f8fa4e621b81",
     "locked": true,
     "schema_version": 3,
     "solution": false
    }
   },
   "source": [
    "**Question 0.2**\n",
    "<br> {points: 1}\n",
    "\n",
    "The plot below is a very simple k-nn regression example, where the black dots are the data observations and the blue line is the predictions from a $k$-nn regression model created from this data where $k=2$.\n",
    "\n",
    "Using the formula for root mean squared error (given in the reading), and the graph below, by hand (pen and paper or use Python as a calculator) calculate the RMSE for this model. **Use one decimal place of precision when inputting the heights of the black dots and blue line.** \n",
    "\n",
    "*Save your answer to a variable named `answer0_2`*\n",
    "\n",
    "<img align=\"left\" src=\"img/k-nn_RMSE.jpeg\" />"
   ]
  },
  {
   "cell_type": "code",
   "execution_count": 9,
   "metadata": {
    "deletable": false,
    "nbgrader": {
     "cell_type": "code",
     "checksum": "712a52037eb11184818103e9f607d13f",
     "grade": false,
     "grade_id": "cell-8dc7cc6f35de80cb",
     "locked": false,
     "schema_version": 3,
     "solution": true
    }
   },
   "outputs": [],
   "source": [
    "# your code here\n",
    "obs = np.array([1,1,2,3,5,7])\n",
    "preds = np.array([1.3, 1.5, 1.5, 2, 6, 6])\n",
    "answer0_2 = float((np.mean((preds - obs)**2))**0.5)"
   ]
  },
  {
   "cell_type": "code",
   "execution_count": 10,
   "metadata": {
    "deletable": false,
    "editable": false,
    "nbgrader": {
     "cell_type": "code",
     "checksum": "5c2152571b3c671efcbf7fdc597d1982",
     "grade": true,
     "grade_id": "cell-d90b3e7b890ce86b",
     "locked": true,
     "points": 1,
     "schema_version": 3,
     "solution": false
    }
   },
   "outputs": [
    {
     "name": "stdout",
     "output_type": "stream",
     "text": [
      "Success!\n"
     ]
    }
   ],
   "source": [
    "from hashlib import sha1\n",
    "assert sha1(str(type(answer0_2)).encode(\"utf-8\")+b\"e739e4624f5284ce\").hexdigest() == \"33ccdcf4ed3f9e76d04abd4e9affb8ad83ae2c47\", \"type of answer0_2 is not float. Please make sure it is float and not np.float64, etc. You can cast your value into a float using float()\"\n",
    "assert sha1(str(round(answer0_2, 2)).encode(\"utf-8\")+b\"e739e4624f5284ce\").hexdigest() == \"2e9204b0e0cfb5bacccf9156962f6450a55c317e\", \"value of answer0_2 is not correct (rounded to 2 decimal places)\"\n",
    "\n",
    "print('Success!')"
   ]
  },
  {
   "cell_type": "markdown",
   "metadata": {
    "deletable": false,
    "editable": false,
    "nbgrader": {
     "cell_type": "markdown",
     "checksum": "7d5cd1229dfed0d018c205a39336ef31",
     "grade": false,
     "grade_id": "cell-73d7913554df0781",
     "locked": true,
     "schema_version": 3,
     "solution": false,
     "task": false
    }
   },
   "source": [
    "### RMSPE Definition\n",
    "\n",
    "**Question 0.3** \n",
    "<br> {points: 1}\n",
    "\n",
    "What does RMSPE stand for?\n",
    "\n",
    "\n",
    "A. root mean squared prediction error\n",
    "\n",
    "B. root mean squared percentage error \n",
    "\n",
    "C. root mean squared performance error \n",
    "\n",
    "D. root mean squared preference error \n",
    "\n",
    "*Save the letter of your answer to a variable named `answer0_3`. Make sure you put quotations around the letter and pay attention to case.*"
   ]
  },
  {
   "cell_type": "code",
   "execution_count": 11,
   "metadata": {
    "deletable": false,
    "nbgrader": {
     "cell_type": "code",
     "checksum": "1c552fb5d4f17448f4ef16ff47bfd1de",
     "grade": false,
     "grade_id": "cell-81be027da315cb3f",
     "locked": false,
     "schema_version": 3,
     "solution": true,
     "task": false
    }
   },
   "outputs": [],
   "source": [
    "# your code here\n",
    "answer0_3 = 'A'"
   ]
  },
  {
   "cell_type": "code",
   "execution_count": 12,
   "metadata": {
    "deletable": false,
    "editable": false,
    "nbgrader": {
     "cell_type": "code",
     "checksum": "e36604cab773ed2889ba58e461e649b2",
     "grade": true,
     "grade_id": "cell-db93265fd197f97f",
     "locked": true,
     "points": 1,
     "schema_version": 3,
     "solution": false,
     "task": false
    }
   },
   "outputs": [
    {
     "name": "stdout",
     "output_type": "stream",
     "text": [
      "Success!\n"
     ]
    }
   ],
   "source": [
    "from hashlib import sha1\n",
    "assert sha1(str(type(answer0_3)).encode(\"utf-8\")+b\"66be2edc460026da\").hexdigest() == \"61df880b0f8bd6b01b691a056a276b4ec9828765\", \"type of answer0_3 is not str. answer0_3 should be an str\"\n",
    "assert sha1(str(len(answer0_3)).encode(\"utf-8\")+b\"66be2edc460026da\").hexdigest() == \"2677389896ac9ccd2952e1735a76b1a02d85d520\", \"length of answer0_3 is not correct\"\n",
    "assert sha1(str(answer0_3.lower()).encode(\"utf-8\")+b\"66be2edc460026da\").hexdigest() == \"12505f13f5bfc96d8763d530aa72cdcf88fc09bc\", \"value of answer0_3 is not correct\"\n",
    "assert sha1(str(answer0_3).encode(\"utf-8\")+b\"66be2edc460026da\").hexdigest() == \"6f6b45e5bcda1d549a6756c7c4c3cd163912868e\", \"correct string value of answer0_3 but incorrect case of letters\"\n",
    "\n",
    "print('Success!')"
   ]
  },
  {
   "cell_type": "markdown",
   "metadata": {
    "deletable": false,
    "editable": false,
    "nbgrader": {
     "cell_type": "markdown",
     "checksum": "4d69f891ae2b08cee7906ae7f104890d",
     "grade": false,
     "grade_id": "cell-e612110169987c7b",
     "locked": true,
     "schema_version": 3,
     "solution": false,
     "task": false
    }
   },
   "source": [
    "## Marathon Training\n",
    "\n",
    "<img src='https://media.giphy.com/media/nUN6InE2CodRm/giphy.gif' width='400'>\n",
    "\n",
    "Source: https://media.giphy.com/media/nUN6InE2CodRm/giphy.gif\n",
    "\n",
    "What predicts which athletes will perform better than others? Specifically, we are interested in marathon runners, and looking at how the maximum distance ran per week (in miles) during race training predicts the time it takes a runner to finish the race. For this, we will be looking at the `marathon.csv` file in the `data/` folder."
   ]
  },
  {
   "cell_type": "markdown",
   "metadata": {
    "deletable": false,
    "editable": false,
    "nbgrader": {
     "cell_type": "markdown",
     "checksum": "9ea30c1434a67e3876226cd543d43d4c",
     "grade": false,
     "grade_id": "cell-16d7d432c49c9e53",
     "locked": true,
     "schema_version": 3,
     "solution": false
    }
   },
   "source": [
    "**Question 1.0** \n",
    "<br> {points: 1}\n",
    "\n",
    "Load the data and assign it to an object called `marathon`. "
   ]
  },
  {
   "cell_type": "code",
   "execution_count": 14,
   "metadata": {
    "deletable": false,
    "nbgrader": {
     "cell_type": "code",
     "checksum": "75aa40b2dc5eadc254c56f3ec9d4a9b5",
     "grade": false,
     "grade_id": "cell-5376dc2c39983258",
     "locked": false,
     "schema_version": 3,
     "solution": true
    }
   },
   "outputs": [],
   "source": [
    "# your code here\n",
    "\n",
    "marathon = pd.read_csv('data/marathon.csv')"
   ]
  },
  {
   "cell_type": "code",
   "execution_count": 15,
   "metadata": {
    "deletable": false,
    "editable": false,
    "nbgrader": {
     "cell_type": "code",
     "checksum": "4502e5093a9f244f6f405deebacdcc68",
     "grade": true,
     "grade_id": "cell-60554f6f6a56a16c",
     "locked": true,
     "points": 1,
     "schema_version": 3,
     "solution": false
    }
   },
   "outputs": [
    {
     "name": "stdout",
     "output_type": "stream",
     "text": [
      "Success!\n"
     ]
    }
   ],
   "source": [
    "from hashlib import sha1\n",
    "assert sha1(str(type(marathon is None)).encode(\"utf-8\")+b\"08f714ec6f5861d0\").hexdigest() == \"1cc73d67cc3754aaf3e63d54c066a532a4736700\", \"type of marathon is None is not bool. marathon is None should be a bool\"\n",
    "assert sha1(str(marathon is None).encode(\"utf-8\")+b\"08f714ec6f5861d0\").hexdigest() == \"4cb62ecbc15ee743adb1e27e8fec664345b24493\", \"boolean value of marathon is None is not correct\"\n",
    "\n",
    "assert sha1(str(type(marathon)).encode(\"utf-8\")+b\"ecfd4bd23ee64744\").hexdigest() == \"5c787c34ad3db1bae186885e8c0453a0e8604629\", \"type of type(marathon) is not correct\"\n",
    "\n",
    "assert sha1(str(type(marathon.shape)).encode(\"utf-8\")+b\"c3dfc35551ec0ce8\").hexdigest() == \"f51d3965fbce50d6aed44071b56c39b32c80d4de\", \"type of marathon.shape is not tuple. marathon.shape should be a tuple\"\n",
    "assert sha1(str(len(marathon.shape)).encode(\"utf-8\")+b\"c3dfc35551ec0ce8\").hexdigest() == \"094fb40a11241a4539047513e63cc6b47d150edb\", \"length of marathon.shape is not correct\"\n",
    "assert sha1(str(sorted(map(str, marathon.shape))).encode(\"utf-8\")+b\"c3dfc35551ec0ce8\").hexdigest() == \"8ff98b1bb34dc461a808ba49deb40a42e057a020\", \"values of marathon.shape are not correct\"\n",
    "assert sha1(str(marathon.shape).encode(\"utf-8\")+b\"c3dfc35551ec0ce8\").hexdigest() == \"d936b02c7d4d0f39d922cada6d655f92ae8e541d\", \"order of elements of marathon.shape is not correct\"\n",
    "\n",
    "assert sha1(str(type(\"time_hrs\" in marathon.columns)).encode(\"utf-8\")+b\"8a2922763e0b52ca\").hexdigest() == \"05da76da8c32cd5127a741150c6491cd378cd3aa\", \"type of \\\"time_hrs\\\" in marathon.columns is not bool. \\\"time_hrs\\\" in marathon.columns should be a bool\"\n",
    "assert sha1(str(\"time_hrs\" in marathon.columns).encode(\"utf-8\")+b\"8a2922763e0b52ca\").hexdigest() == \"30ecd9e8c383a586a25caa9bcf7eb4477c1bfed2\", \"boolean value of \\\"time_hrs\\\" in marathon.columns is not correct\"\n",
    "\n",
    "assert sha1(str(type(\"max\" in marathon.columns)).encode(\"utf-8\")+b\"5add66b461a5ce23\").hexdigest() == \"f273e6e1c6dbbfb6f6aef38f41aed32fcfd2c33d\", \"type of \\\"max\\\" in marathon.columns is not bool. \\\"max\\\" in marathon.columns should be a bool\"\n",
    "assert sha1(str(\"max\" in marathon.columns).encode(\"utf-8\")+b\"5add66b461a5ce23\").hexdigest() == \"e77d766d081789c852115bd0caf7027bbc99b387\", \"boolean value of \\\"max\\\" in marathon.columns is not correct\"\n",
    "\n",
    "print('Success!')"
   ]
  },
  {
   "cell_type": "markdown",
   "metadata": {
    "deletable": false,
    "editable": false,
    "nbgrader": {
     "cell_type": "markdown",
     "checksum": "cf74db2f57c49f8935ab34dc3fcb8ea4",
     "grade": false,
     "grade_id": "cell-26802c14f46a4d8e",
     "locked": true,
     "schema_version": 3,
     "solution": false
    }
   },
   "source": [
    "**Question 2.0**\n",
    "<br> {points: 1}\n",
    "\n",
    "We want to predict race time (in hours) (`time_hrs`) given a particular value of maximum distance ran per week (in miles) during race training (`max`). Let's take a subset of size 50 individuals of our marathon data and assign it to an object called `marathon_50`. With this subset, plot a scatterplot (using `mark_circle`) to assess the relationship between these two variables. Put `time_hrs` on the y-axis and `max` on the x-axis.  Discuss, with a classmate, the relationship between race time and maximum distance ran per week during training based on the scatterplot you create below. \n",
    "\n",
    "*Hint: To take a subset of your data you can use the `sample` function*\n",
    "\n",
    "*Assign your plot to an object called `answer2`.*"
   ]
  },
  {
   "cell_type": "code",
   "execution_count": 22,
   "metadata": {
    "deletable": false,
    "nbgrader": {
     "cell_type": "code",
     "checksum": "f6927f52ae154d8e6ea639d7893551b5",
     "grade": false,
     "grade_id": "cell-6fcfc6ca32883f4d",
     "locked": false,
     "schema_version": 3,
     "solution": true
    }
   },
   "outputs": [
    {
     "data": {
      "text/html": [
       "\n",
       "<style>\n",
       "  #altair-viz-4719a578837e4ce88c96a5f8963e9b91.vega-embed {\n",
       "    width: 100%;\n",
       "    display: flex;\n",
       "  }\n",
       "\n",
       "  #altair-viz-4719a578837e4ce88c96a5f8963e9b91.vega-embed details,\n",
       "  #altair-viz-4719a578837e4ce88c96a5f8963e9b91.vega-embed details summary {\n",
       "    position: relative;\n",
       "  }\n",
       "</style>\n",
       "<div id=\"altair-viz-4719a578837e4ce88c96a5f8963e9b91\"></div>\n",
       "<script type=\"text/javascript\">\n",
       "  var VEGA_DEBUG = (typeof VEGA_DEBUG == \"undefined\") ? {} : VEGA_DEBUG;\n",
       "  (function(spec, embedOpt){\n",
       "    let outputDiv = document.currentScript.previousElementSibling;\n",
       "    if (outputDiv.id !== \"altair-viz-4719a578837e4ce88c96a5f8963e9b91\") {\n",
       "      outputDiv = document.getElementById(\"altair-viz-4719a578837e4ce88c96a5f8963e9b91\");\n",
       "    }\n",
       "    const paths = {\n",
       "      \"vega\": \"https://cdn.jsdelivr.net/npm/vega@5?noext\",\n",
       "      \"vega-lib\": \"https://cdn.jsdelivr.net/npm/vega-lib?noext\",\n",
       "      \"vega-lite\": \"https://cdn.jsdelivr.net/npm/vega-lite@5.8.0?noext\",\n",
       "      \"vega-embed\": \"https://cdn.jsdelivr.net/npm/vega-embed@6?noext\",\n",
       "    };\n",
       "\n",
       "    function maybeLoadScript(lib, version) {\n",
       "      var key = `${lib.replace(\"-\", \"\")}_version`;\n",
       "      return (VEGA_DEBUG[key] == version) ?\n",
       "        Promise.resolve(paths[lib]) :\n",
       "        new Promise(function(resolve, reject) {\n",
       "          var s = document.createElement('script');\n",
       "          document.getElementsByTagName(\"head\")[0].appendChild(s);\n",
       "          s.async = true;\n",
       "          s.onload = () => {\n",
       "            VEGA_DEBUG[key] = version;\n",
       "            return resolve(paths[lib]);\n",
       "          };\n",
       "          s.onerror = () => reject(`Error loading script: ${paths[lib]}`);\n",
       "          s.src = paths[lib];\n",
       "        });\n",
       "    }\n",
       "\n",
       "    function showError(err) {\n",
       "      outputDiv.innerHTML = `<div class=\"error\" style=\"color:red;\">${err}</div>`;\n",
       "      throw err;\n",
       "    }\n",
       "\n",
       "    function displayChart(vegaEmbed) {\n",
       "      vegaEmbed(outputDiv, spec, embedOpt)\n",
       "        .catch(err => showError(`Javascript Error: ${err.message}<br>This usually means there's a typo in your chart specification. See the javascript console for the full traceback.`));\n",
       "    }\n",
       "\n",
       "    if(typeof define === \"function\" && define.amd) {\n",
       "      requirejs.config({paths});\n",
       "      require([\"vega-embed\"], displayChart, err => showError(`Error loading script: ${err.message}`));\n",
       "    } else {\n",
       "      maybeLoadScript(\"vega\", \"5\")\n",
       "        .then(() => maybeLoadScript(\"vega-lite\", \"5.8.0\"))\n",
       "        .then(() => maybeLoadScript(\"vega-embed\", \"6\"))\n",
       "        .catch(showError)\n",
       "        .then(() => displayChart(vegaEmbed));\n",
       "    }\n",
       "  })({\"config\": {\"view\": {\"continuousWidth\": 300, \"continuousHeight\": 300}}, \"data\": {\"name\": \"data-7f80f73dbfe34ec7bc9e83d876313f2d\"}, \"mark\": {\"type\": \"circle\"}, \"encoding\": {\"x\": {\"field\": \"max\", \"title\": \"Maximum Distance\", \"type\": \"quantitative\"}, \"y\": {\"field\": \"time_hrs\", \"title\": \"Race Time (hours)\", \"type\": \"quantitative\"}}, \"$schema\": \"https://vega.github.io/schema/vega-lite/v5.8.0.json\", \"datasets\": {\"data-7f80f73dbfe34ec7bc9e83d876313f2d\": [{\"age\": 25, \"bmi\": 23.08238602, \"female\": 1, \"footwear\": 2, \"group\": 2, \"injury\": 1, \"mf_d\": 42195, \"mf_di\": 2, \"mf_ti\": 12048, \"max\": 60.0, \"sprint\": 0, \"mf_s\": 3.502241035856574, \"time_hrs\": 3.3466666666666667}, {\"age\": 31, \"bmi\": 22.53840446, \"female\": 0, \"footwear\": 1, \"group\": 2, \"injury\": 2, \"mf_d\": 42195, \"mf_di\": 3, \"mf_ti\": 12323, \"max\": 45.0, \"sprint\": 1, \"mf_s\": 3.424085044226244, \"time_hrs\": 3.4230555555555555}, {\"age\": 44, \"bmi\": 18.87354088, \"female\": 1, \"footwear\": 1, \"group\": 1, \"injury\": 1, \"mf_d\": 42195, \"mf_di\": 2, \"mf_ti\": 10077, \"max\": 104.0, \"sprint\": 1, \"mf_s\": 4.187258112533492, \"time_hrs\": 2.7991666666666664}, {\"age\": 42, \"bmi\": 28.2599144, \"female\": 0, \"footwear\": 2, \"group\": 3, \"injury\": 1, \"mf_d\": 42195, \"mf_di\": 2, \"mf_ti\": 21180, \"max\": 40.0, \"sprint\": 0, \"mf_s\": 1.992209631728045, \"time_hrs\": 5.883333333333334}, {\"age\": 36, \"bmi\": 26.61252975, \"female\": 0, \"footwear\": 1, \"group\": 2, \"injury\": 1, \"mf_d\": 42195, \"mf_di\": 2, \"mf_ti\": 13560, \"max\": 20.0, \"sprint\": 0, \"mf_s\": 3.1117256637168142, \"time_hrs\": 3.7666666666666666}, {\"age\": 37, \"bmi\": 19.55280685, \"female\": 0, \"footwear\": 2, \"group\": 3, \"injury\": 1, \"mf_d\": 42195, \"mf_di\": 4, \"mf_ti\": 10834, \"max\": 84.0, \"sprint\": 1, \"mf_s\": 3.894683404098209, \"time_hrs\": 3.0094444444444446}, {\"age\": 27, \"bmi\": 21.38561058, \"female\": 0, \"footwear\": 2, \"group\": 2, \"injury\": 1, \"mf_d\": 42195, \"mf_di\": 2, \"mf_ti\": 9475, \"max\": 110.0, \"sprint\": 1, \"mf_s\": 4.453298153034301, \"time_hrs\": 2.631944444444444}, {\"age\": 34, \"bmi\": 24.23761749, \"female\": 0, \"footwear\": 2, \"group\": 2, \"injury\": 2, \"mf_d\": 42195, \"mf_di\": 4, \"mf_ti\": 15610, \"max\": 44.0, \"sprint\": 0, \"mf_s\": 2.703074951953876, \"time_hrs\": 4.336111111111111}, {\"age\": 35, \"bmi\": 19.64085388, \"female\": 0, \"footwear\": 2, \"group\": 2, \"injury\": 1, \"mf_d\": 42195, \"mf_di\": 3, \"mf_ti\": 13111, \"max\": 52.0, \"sprint\": 1, \"mf_s\": 3.218289985508352, \"time_hrs\": 3.641944444444445}, {\"age\": 36, \"bmi\": 32.05936813, \"female\": 0, \"footwear\": 1, \"group\": 1, \"injury\": 3, \"mf_d\": 42195, \"mf_di\": 3, \"mf_ti\": 15600, \"max\": 45.0, \"sprint\": 1, \"mf_s\": 2.704807692307692, \"time_hrs\": 4.333333333333333}, {\"age\": 28, \"bmi\": 24.85058212, \"female\": 0, \"footwear\": 1, \"group\": 2, \"injury\": 1, \"mf_d\": 42195, \"mf_di\": 3, \"mf_ti\": 14161, \"max\": 50.0, \"sprint\": 1, \"mf_s\": 2.979662453216581, \"time_hrs\": 3.933611111111112}, {\"age\": 32, \"bmi\": 20.03710556, \"female\": 0, \"footwear\": 2, \"group\": 1, \"injury\": 1, \"mf_d\": 42195, \"mf_di\": 4, \"mf_ti\": 11031, \"max\": 30.0, \"sprint\": 0, \"mf_s\": 3.8251291813978794, \"time_hrs\": 3.0641666666666665}, {\"age\": 40, \"bmi\": 22.26345062, \"female\": 0, \"footwear\": 1, \"group\": 3, \"injury\": 1, \"mf_d\": 42195, \"mf_di\": 3, \"mf_ti\": 8657, \"max\": 125.0, \"sprint\": 1, \"mf_s\": 4.874090331523623, \"time_hrs\": 2.404722222222222}, {\"age\": 30, \"bmi\": 23.64960861, \"female\": 1, \"footwear\": 2, \"group\": 3, \"injury\": 1, \"mf_d\": 42195, \"mf_di\": 2, \"mf_ti\": 15601, \"max\": 35.0, \"sprint\": 1, \"mf_s\": 2.7046343183129284, \"time_hrs\": 4.333611111111111}, {\"age\": 38, \"bmi\": 27.41159058, \"female\": 0, \"footwear\": 2, \"group\": 2, \"injury\": 3, \"mf_d\": 42195, \"mf_di\": 4, \"mf_ti\": 18026, \"max\": 18.0, \"sprint\": 0, \"mf_s\": 2.34078553200932, \"time_hrs\": 5.007222222222223}, {\"age\": 26, \"bmi\": 23.27775955, \"female\": 0, \"footwear\": 2, \"group\": 3, \"injury\": 1, \"mf_d\": 42195, \"mf_di\": 2, \"mf_ti\": 9904, \"max\": 76.0, \"sprint\": 1, \"mf_s\": 4.260399838449112, \"time_hrs\": 2.751111111111111}, {\"age\": 31, \"bmi\": 25.75936508, \"female\": 0, \"footwear\": 2, \"group\": 2, \"injury\": 1, \"mf_d\": 42195, \"mf_di\": 4, \"mf_ti\": 13025, \"max\": 50.0, \"sprint\": 1, \"mf_s\": 3.239539347408829, \"time_hrs\": 3.618055555555556}, {\"age\": 39, \"bmi\": 21.37291145, \"female\": 0, \"footwear\": 2, \"group\": 1, \"injury\": 2, \"mf_d\": 42195, \"mf_di\": 3, \"mf_ti\": 9601, \"max\": 130.0, \"sprint\": 1, \"mf_s\": 4.394854702635143, \"time_hrs\": 2.666944444444445}, {\"age\": 30, \"bmi\": 21.37924576, \"female\": 1, \"footwear\": 1, \"group\": 3, \"injury\": 1, \"mf_d\": 42195, \"mf_di\": 2, \"mf_ti\": 12180, \"max\": 63.0, \"sprint\": 1, \"mf_s\": 3.4642857142857144, \"time_hrs\": 3.3833333333333333}, {\"age\": 50, \"bmi\": 25.04382706, \"female\": 0, \"footwear\": 2, \"group\": 1, \"injury\": 2, \"mf_d\": 42195, \"mf_di\": 3, \"mf_ti\": 11961, \"max\": 47.0, \"sprint\": 1, \"mf_s\": 3.527715073990469, \"time_hrs\": 3.3225}, {\"age\": 27, \"bmi\": 24.09897804, \"female\": 1, \"footwear\": 1, \"group\": 2, \"injury\": 2, \"mf_d\": 42195, \"mf_di\": 3, \"mf_ti\": 13860, \"max\": 45.0, \"sprint\": 0, \"mf_s\": 3.044372294372294, \"time_hrs\": 3.85}, {\"age\": 54, \"bmi\": 23.00556564, \"female\": 0, \"footwear\": 2, \"group\": 3, \"injury\": 1, \"mf_d\": 42195, \"mf_di\": 3, \"mf_ti\": 11580, \"max\": 70.0, \"sprint\": 0, \"mf_s\": 3.643782383419689, \"time_hrs\": 3.216666666666667}, {\"age\": 33, \"bmi\": 25.52073479, \"female\": 0, \"footwear\": 2, \"group\": 1, \"injury\": 3, \"mf_d\": 42195, \"mf_di\": 2, \"mf_ti\": 20714, \"max\": 15.0, \"sprint\": 0, \"mf_s\": 2.037028096939268, \"time_hrs\": 5.7538888888888895}, {\"age\": 40, \"bmi\": 25.37774658, \"female\": 0, \"footwear\": 2, \"group\": 2, \"injury\": 1, \"mf_d\": 42195, \"mf_di\": 4, \"mf_ti\": 11691, \"max\": 55.0, \"sprint\": 1, \"mf_s\": 3.609186553759302, \"time_hrs\": 3.2475}, {\"age\": 26, \"bmi\": 26.37949944, \"female\": 1, \"footwear\": 2, \"group\": 1, \"injury\": 1, \"mf_d\": 42195, \"mf_di\": 3, \"mf_ti\": 13874, \"max\": 50.0, \"sprint\": 0, \"mf_s\": 3.041300273893614, \"time_hrs\": 3.8538888888888887}, {\"age\": 47, \"bmi\": 23.49176788, \"female\": 0, \"footwear\": 2, \"group\": 3, \"injury\": 1, \"mf_d\": 42195, \"mf_di\": 4, \"mf_ti\": 10588, \"max\": 55.0, \"sprint\": 0, \"mf_s\": 3.985171892708727, \"time_hrs\": 2.9411111111111112}, {\"age\": 25, \"bmi\": 21.5213356, \"female\": 0, \"footwear\": 1, \"group\": 3, \"injury\": 1, \"mf_d\": 42195, \"mf_di\": 2, \"mf_ti\": 12300, \"max\": 70.0, \"sprint\": 1, \"mf_s\": 3.430487804878049, \"time_hrs\": 3.4166666666666665}, {\"age\": 50, \"bmi\": 23.00573349, \"female\": 0, \"footwear\": 1, \"group\": 2, \"injury\": 2, \"mf_d\": 42195, \"mf_di\": 3, \"mf_ti\": 10563, \"max\": 62.0, \"sprint\": 1, \"mf_s\": 3.994603805737007, \"time_hrs\": 2.934166666666667}, {\"age\": 36, \"bmi\": 25.25252724, \"female\": 0, \"footwear\": 1, \"group\": 3, \"injury\": 1, \"mf_d\": 42195, \"mf_di\": 2, \"mf_ti\": 15060, \"max\": 28.0, \"sprint\": 0, \"mf_s\": 2.801792828685259, \"time_hrs\": 4.183333333333334}, {\"age\": 45, \"bmi\": 24.55106735, \"female\": 0, \"footwear\": 2, \"group\": 2, \"injury\": 1, \"mf_d\": 42195, \"mf_di\": 2, \"mf_ti\": 13392, \"max\": 42.0, \"sprint\": 0, \"mf_s\": 3.15076164874552, \"time_hrs\": 3.72}, {\"age\": 60, \"bmi\": 22.44668961, \"female\": 0, \"footwear\": 2, \"group\": 1, \"injury\": 1, \"mf_d\": 42195, \"mf_di\": 2, \"mf_ti\": 13890, \"max\": 40.0, \"sprint\": 1, \"mf_s\": 3.037796976241901, \"time_hrs\": 3.858333333333333}, {\"age\": 36, \"bmi\": 22.33406639, \"female\": 0, \"footwear\": 2, \"group\": 3, \"injury\": 1, \"mf_d\": 42195, \"mf_di\": 4, \"mf_ti\": 8777, \"max\": 86.0, \"sprint\": 1, \"mf_s\": 4.807451293152558, \"time_hrs\": 2.438055555555556}, {\"age\": 32, \"bmi\": 24.64646339, \"female\": 1, \"footwear\": 2, \"group\": 3, \"injury\": 1, \"mf_d\": 42195, \"mf_di\": 4, \"mf_ti\": 17149, \"max\": 40.0, \"sprint\": 0, \"mf_s\": 2.460493323225844, \"time_hrs\": 4.763611111111112}, {\"age\": 32, \"bmi\": 22.0347538, \"female\": 0, \"footwear\": 2, \"group\": 1, \"injury\": 1, \"mf_d\": 42195, \"mf_di\": 4, \"mf_ti\": 14460, \"max\": 35.0, \"sprint\": 0, \"mf_s\": 2.91804979253112, \"time_hrs\": 4.016666666666667}, {\"age\": 43, \"bmi\": 24.57002449, \"female\": 0, \"footwear\": 2, \"group\": 3, \"injury\": 1, \"mf_d\": 42195, \"mf_di\": 3, \"mf_ti\": 11762, \"max\": 90.0, \"sprint\": 1, \"mf_s\": 3.5874001020234654, \"time_hrs\": 3.2672222222222222}, {\"age\": 38, \"bmi\": 22.65063095, \"female\": 0, \"footwear\": 2, \"group\": 2, \"injury\": 1, \"mf_d\": 42195, \"mf_di\": 2, \"mf_ti\": 12485, \"max\": 67.0, \"sprint\": 1, \"mf_s\": 3.379655586704045, \"time_hrs\": 3.468055555555556}, {\"age\": 42, \"bmi\": 21.23312569, \"female\": 0, \"footwear\": 2, \"group\": 2, \"injury\": 1, \"mf_d\": 42195, \"mf_di\": 3, \"mf_ti\": 10850, \"max\": 45.0, \"sprint\": 0, \"mf_s\": 3.8889400921658983, \"time_hrs\": 3.013888888888889}, {\"age\": 37, \"bmi\": 19.86567116, \"female\": 1, \"footwear\": 1, \"group\": 1, \"injury\": 1, \"mf_d\": 42195, \"mf_di\": 3, \"mf_ti\": 11426, \"max\": 60.0, \"sprint\": 1, \"mf_s\": 3.692893401015228, \"time_hrs\": 3.173888888888889}, {\"age\": 34, \"bmi\": 20.89263725, \"female\": 1, \"footwear\": 1, \"group\": 2, \"injury\": 1, \"mf_d\": 42195, \"mf_di\": 4, \"mf_ti\": 11880, \"max\": 45.0, \"sprint\": 0, \"mf_s\": 3.551767676767677, \"time_hrs\": 3.3}, {\"age\": 28, \"bmi\": 23.64960861, \"female\": 1, \"footwear\": 2, \"group\": 1, \"injury\": 1, \"mf_d\": 42195, \"mf_di\": 4, \"mf_ti\": 16586, \"max\": 45.0, \"sprint\": 0, \"mf_s\": 2.5440130230314724, \"time_hrs\": 4.607222222222222}, {\"age\": 31, \"bmi\": 21.07240105, \"female\": 1, \"footwear\": 2, \"group\": 3, \"injury\": 1, \"mf_d\": 42195, \"mf_di\": 4, \"mf_ti\": 12500, \"max\": 60.0, \"sprint\": 1, \"mf_s\": 3.3756, \"time_hrs\": 3.4722222222222223}, {\"age\": 28, \"bmi\": 20.24406624, \"female\": 1, \"footwear\": 2, \"group\": 1, \"injury\": 1, \"mf_d\": 42195, \"mf_di\": 3, \"mf_ti\": 12851, \"max\": 60.0, \"sprint\": 1, \"mf_s\": 3.2834020698778303, \"time_hrs\": 3.5697222222222225}, {\"age\": 42, \"bmi\": 21.87164688, \"female\": 1, \"footwear\": 2, \"group\": 3, \"injury\": 1, \"mf_d\": 42195, \"mf_di\": 2, \"mf_ti\": 12399, \"max\": 65.0, \"sprint\": 1, \"mf_s\": 3.4030970239535447, \"time_hrs\": 3.444166666666667}, {\"age\": 45, \"bmi\": 28.55020332, \"female\": 0, \"footwear\": 2, \"group\": 2, \"injury\": 3, \"mf_d\": 42195, \"mf_di\": 3, \"mf_ti\": 19740, \"max\": 55.0, \"sprint\": 0, \"mf_s\": 2.1375379939209727, \"time_hrs\": 5.483333333333333}, {\"age\": 41, \"bmi\": 19.47665596, \"female\": 0, \"footwear\": 1, \"group\": 2, \"injury\": 2, \"mf_d\": 42195, \"mf_di\": 2, \"mf_ti\": 10579, \"max\": 61.0, \"sprint\": 0, \"mf_s\": 3.9885622459589753, \"time_hrs\": 2.938611111111111}, {\"age\": 33, \"bmi\": 20.58569527, \"female\": 0, \"footwear\": 2, \"group\": 3, \"injury\": 1, \"mf_d\": 42195, \"mf_di\": 2, \"mf_ti\": 10491, \"max\": 50.0, \"sprint\": 1, \"mf_s\": 4.022018873319989, \"time_hrs\": 2.9141666666666666}, {\"age\": 59, \"bmi\": 23.24191475, \"female\": 0, \"footwear\": 2, \"group\": 2, \"injury\": 1, \"mf_d\": 42195, \"mf_di\": 3, \"mf_ti\": 14785, \"max\": 56.0, \"sprint\": 1, \"mf_s\": 2.8539059857964157, \"time_hrs\": 4.106944444444444}, {\"age\": 54, \"bmi\": 20.44668007, \"female\": 1, \"footwear\": 2, \"group\": 2, \"injury\": 3, \"mf_d\": 42195, \"mf_di\": 2, \"mf_ti\": 14708, \"max\": 42.0, \"sprint\": 1, \"mf_s\": 2.868846886048409, \"time_hrs\": 4.085555555555556}, {\"age\": 43, \"bmi\": 25.95398712, \"female\": 0, \"footwear\": 2, \"group\": 1, \"injury\": 1, \"mf_d\": 42195, \"mf_di\": 3, \"mf_ti\": 14820, \"max\": 65.0, \"sprint\": 0, \"mf_s\": 2.847165991902834, \"time_hrs\": 4.116666666666666}, {\"age\": 28, \"bmi\": 23.74768066, \"female\": 1, \"footwear\": 2, \"group\": 2, \"injury\": 3, \"mf_d\": 42195, \"mf_di\": 4, \"mf_ti\": 22623, \"max\": 40.0, \"sprint\": 0, \"mf_s\": 1.865137249701631, \"time_hrs\": 6.284166666666667}]}}, {\"mode\": \"vega-lite\"});\n",
       "</script>"
      ],
      "text/plain": [
       "alt.Chart(...)"
      ]
     },
     "execution_count": 22,
     "metadata": {},
     "output_type": "execute_result"
    }
   ],
   "source": [
    "# ___ = ___.sample(___, random_state=300) # Do not change the random_state\n",
    "\n",
    "\n",
    "# your code here\n",
    "marathon_50 = marathon.sample(50, random_state=300)\n",
    "answer2 = alt.Chart(marathon_50).mark_circle().encode(\n",
    "    x = alt.X(\"max\").title(\"Maximum Distance\"),\n",
    "    y = alt.Y(\"time_hrs\").title(\"Race Time (hours)\")\n",
    ")\n",
    "answer2"
   ]
  },
  {
   "cell_type": "code",
   "execution_count": 23,
   "metadata": {
    "deletable": false,
    "editable": false,
    "nbgrader": {
     "cell_type": "code",
     "checksum": "2c2cd1604e6cc646dcf5b0d3f8a16275",
     "grade": true,
     "grade_id": "cell-78ac50fb41cd9a86",
     "locked": true,
     "points": 1,
     "schema_version": 3,
     "solution": false
    }
   },
   "outputs": [
    {
     "name": "stdout",
     "output_type": "stream",
     "text": [
      "Success!\n"
     ]
    }
   ],
   "source": [
    "from hashlib import sha1\n",
    "assert sha1(str(type(answer2 is None)).encode(\"utf-8\")+b\"f3a5bc6fde71a86a\").hexdigest() == \"eac15e2ee19ab5794c8269e8e062f037e46c6eff\", \"type of answer2 is None is not bool. answer2 is None should be a bool\"\n",
    "assert sha1(str(answer2 is None).encode(\"utf-8\")+b\"f3a5bc6fde71a86a\").hexdigest() == \"c413d4fd2637c6f31094e6dd7b5275b577f65e90\", \"boolean value of answer2 is None is not correct\"\n",
    "\n",
    "assert sha1(str(type(marathon_50.shape)).encode(\"utf-8\")+b\"d2d8ccf9ff4f5b21\").hexdigest() == \"edce1d16caa874d5a4bafec6156b6982d31ffd72\", \"type of marathon_50.shape is not tuple. marathon_50.shape should be a tuple\"\n",
    "assert sha1(str(len(marathon_50.shape)).encode(\"utf-8\")+b\"d2d8ccf9ff4f5b21\").hexdigest() == \"88b27e0fc87b5336463717b71f9185381cac53a2\", \"length of marathon_50.shape is not correct\"\n",
    "assert sha1(str(sorted(map(str, marathon_50.shape))).encode(\"utf-8\")+b\"d2d8ccf9ff4f5b21\").hexdigest() == \"8f54c0dfee4241318e6db39e02a85617aebe3640\", \"values of marathon_50.shape are not correct\"\n",
    "assert sha1(str(marathon_50.shape).encode(\"utf-8\")+b\"d2d8ccf9ff4f5b21\").hexdigest() == \"9ee21a21e3d7ccce52a95415254407818f283f71\", \"order of elements of marathon_50.shape is not correct\"\n",
    "\n",
    "assert sha1(str(type(answer2.data.equals(marathon_50))).encode(\"utf-8\")+b\"9b74e1087a7b7ee5\").hexdigest() == \"2b240a1f9fefa7b71905150985fe92b4dd097a54\", \"type of answer2.data.equals(marathon_50) is not bool. answer2.data.equals(marathon_50) should be a bool\"\n",
    "assert sha1(str(answer2.data.equals(marathon_50)).encode(\"utf-8\")+b\"9b74e1087a7b7ee5\").hexdigest() == \"9e3e2febfa900fde5a6f1d2615d77d52a3d26b26\", \"boolean value of answer2.data.equals(marathon_50) is not correct\"\n",
    "\n",
    "assert sha1(str(type(answer2.encoding.x['shorthand'])).encode(\"utf-8\")+b\"f10c62c19bcacbb4\").hexdigest() == \"ef821bda7ba0b3cb447118d1279543e7d0c53f1d\", \"type of answer2.encoding.x['shorthand'] is not str. answer2.encoding.x['shorthand'] should be an str\"\n",
    "assert sha1(str(len(answer2.encoding.x['shorthand'])).encode(\"utf-8\")+b\"f10c62c19bcacbb4\").hexdigest() == \"19a3cb5d63380d78c248e1cbd75ff568d49eaddc\", \"length of answer2.encoding.x['shorthand'] is not correct\"\n",
    "assert sha1(str(answer2.encoding.x['shorthand'].lower()).encode(\"utf-8\")+b\"f10c62c19bcacbb4\").hexdigest() == \"391588c5165f9f7fbd8631ec44b5bc26bca10711\", \"value of answer2.encoding.x['shorthand'] is not correct\"\n",
    "assert sha1(str(answer2.encoding.x['shorthand']).encode(\"utf-8\")+b\"f10c62c19bcacbb4\").hexdigest() == \"391588c5165f9f7fbd8631ec44b5bc26bca10711\", \"correct string value of answer2.encoding.x['shorthand'] but incorrect case of letters\"\n",
    "\n",
    "assert sha1(str(type(answer2.encoding.y['shorthand'])).encode(\"utf-8\")+b\"1982c8a0a0982153\").hexdigest() == \"c97a6ba0a013f443f8d1fd12ca0b6159d13277f9\", \"type of answer2.encoding.y['shorthand'] is not str. answer2.encoding.y['shorthand'] should be an str\"\n",
    "assert sha1(str(len(answer2.encoding.y['shorthand'])).encode(\"utf-8\")+b\"1982c8a0a0982153\").hexdigest() == \"708767b33fd8cf0107b58f2425ac85f73ca4276a\", \"length of answer2.encoding.y['shorthand'] is not correct\"\n",
    "assert sha1(str(answer2.encoding.y['shorthand'].lower()).encode(\"utf-8\")+b\"1982c8a0a0982153\").hexdigest() == \"016ab813313a0264a315b11da45507b9676b0032\", \"value of answer2.encoding.y['shorthand'] is not correct\"\n",
    "assert sha1(str(answer2.encoding.y['shorthand']).encode(\"utf-8\")+b\"1982c8a0a0982153\").hexdigest() == \"016ab813313a0264a315b11da45507b9676b0032\", \"correct string value of answer2.encoding.y['shorthand'] but incorrect case of letters\"\n",
    "\n",
    "assert sha1(str(type(answer2.mark)).encode(\"utf-8\")+b\"18faa48683c998d5\").hexdigest() == \"a0ed4ff836e0f8d803c210833a35777361149274\", \"type of answer2.mark is not str. answer2.mark should be an str\"\n",
    "assert sha1(str(len(answer2.mark)).encode(\"utf-8\")+b\"18faa48683c998d5\").hexdigest() == \"5c9ce4237670c85231001049bdf9f2afb4846892\", \"length of answer2.mark is not correct\"\n",
    "assert sha1(str(answer2.mark.lower()).encode(\"utf-8\")+b\"18faa48683c998d5\").hexdigest() == \"9a63790eb2670b930fef7b6532f09d3c753d3460\", \"value of answer2.mark is not correct\"\n",
    "assert sha1(str(answer2.mark).encode(\"utf-8\")+b\"18faa48683c998d5\").hexdigest() == \"9a63790eb2670b930fef7b6532f09d3c753d3460\", \"correct string value of answer2.mark but incorrect case of letters\"\n",
    "\n",
    "assert sha1(str(type(isinstance(answer2.encoding.x['title'], str))).encode(\"utf-8\")+b\"8cfd259a5280707a\").hexdigest() == \"7b8a30fe8adf816364998d88193d36d54dda8b64\", \"type of isinstance(answer2.encoding.x['title'], str) is not bool. isinstance(answer2.encoding.x['title'], str) should be a bool\"\n",
    "assert sha1(str(isinstance(answer2.encoding.x['title'], str)).encode(\"utf-8\")+b\"8cfd259a5280707a\").hexdigest() == \"9f0d9d0d9722b9d038df3009a316fd59f9223395\", \"boolean value of isinstance(answer2.encoding.x['title'], str) is not correct\"\n",
    "\n",
    "assert sha1(str(type(isinstance(answer2.encoding.y['title'], str))).encode(\"utf-8\")+b\"951e6bd6b17c211e\").hexdigest() == \"7fcdf0f506472aa9991788be87295e877ffa1bc1\", \"type of isinstance(answer2.encoding.y['title'], str) is not bool. isinstance(answer2.encoding.y['title'], str) should be a bool\"\n",
    "assert sha1(str(isinstance(answer2.encoding.y['title'], str)).encode(\"utf-8\")+b\"951e6bd6b17c211e\").hexdigest() == \"b2a70e0d9856292f0096c111194d4302e66ee707\", \"boolean value of isinstance(answer2.encoding.y['title'], str) is not correct\"\n",
    "\n",
    "print('Success!')"
   ]
  },
  {
   "cell_type": "markdown",
   "metadata": {
    "deletable": false,
    "editable": false,
    "nbgrader": {
     "cell_type": "markdown",
     "checksum": "14adf10f016a98d409cb390184406bf1",
     "grade": false,
     "grade_id": "cell-cbe9f9a5c4b7c264",
     "locked": true,
     "schema_version": 3,
     "solution": false
    }
   },
   "source": [
    "**Question 3.0**\n",
    "<br> {points: 1}\n",
    "\n",
    "Suppose we want to predict the race time for someone who ran a maximum distance of 100 miles per week during training. In the chart we created in the previous question, we can see that no one has run a maximum distance of exactly 100 miles per week. How can we predict with this data? We can use $k$-nn regression! To do this we get the $Y$ values (target/response variable) of the nearest $k$ values and then take their average and use that as the prediction. \n",
    "\n",
    "For this question perform $k$-nn regression manually to predict the race time based on the average value of the 4 runners (\"neighbors\") closest to running 100 miles per week during training.\n",
    "\n",
    "*Fill in the scaffolding below and assign your answer to an object named `answer3`.*"
   ]
  },
  {
   "cell_type": "code",
   "execution_count": 25,
   "metadata": {
    "deletable": false,
    "editable": false,
    "nbgrader": {
     "cell_type": "code",
     "checksum": "1b7ba4c5feb2b757a6defcb9e3d57969",
     "grade": false,
     "grade_id": "cell-51d4b16bee915d31",
     "locked": true,
     "schema_version": 3,
     "solution": false,
     "task": false
    }
   },
   "outputs": [
    {
     "data": {
      "text/html": [
       "\n",
       "<style>\n",
       "  #altair-viz-9831d533c35b4ac9b6efc9d6aa73e462.vega-embed {\n",
       "    width: 100%;\n",
       "    display: flex;\n",
       "  }\n",
       "\n",
       "  #altair-viz-9831d533c35b4ac9b6efc9d6aa73e462.vega-embed details,\n",
       "  #altair-viz-9831d533c35b4ac9b6efc9d6aa73e462.vega-embed details summary {\n",
       "    position: relative;\n",
       "  }\n",
       "</style>\n",
       "<div id=\"altair-viz-9831d533c35b4ac9b6efc9d6aa73e462\"></div>\n",
       "<script type=\"text/javascript\">\n",
       "  var VEGA_DEBUG = (typeof VEGA_DEBUG == \"undefined\") ? {} : VEGA_DEBUG;\n",
       "  (function(spec, embedOpt){\n",
       "    let outputDiv = document.currentScript.previousElementSibling;\n",
       "    if (outputDiv.id !== \"altair-viz-9831d533c35b4ac9b6efc9d6aa73e462\") {\n",
       "      outputDiv = document.getElementById(\"altair-viz-9831d533c35b4ac9b6efc9d6aa73e462\");\n",
       "    }\n",
       "    const paths = {\n",
       "      \"vega\": \"https://cdn.jsdelivr.net/npm/vega@5?noext\",\n",
       "      \"vega-lib\": \"https://cdn.jsdelivr.net/npm/vega-lib?noext\",\n",
       "      \"vega-lite\": \"https://cdn.jsdelivr.net/npm/vega-lite@5.8.0?noext\",\n",
       "      \"vega-embed\": \"https://cdn.jsdelivr.net/npm/vega-embed@6?noext\",\n",
       "    };\n",
       "\n",
       "    function maybeLoadScript(lib, version) {\n",
       "      var key = `${lib.replace(\"-\", \"\")}_version`;\n",
       "      return (VEGA_DEBUG[key] == version) ?\n",
       "        Promise.resolve(paths[lib]) :\n",
       "        new Promise(function(resolve, reject) {\n",
       "          var s = document.createElement('script');\n",
       "          document.getElementsByTagName(\"head\")[0].appendChild(s);\n",
       "          s.async = true;\n",
       "          s.onload = () => {\n",
       "            VEGA_DEBUG[key] = version;\n",
       "            return resolve(paths[lib]);\n",
       "          };\n",
       "          s.onerror = () => reject(`Error loading script: ${paths[lib]}`);\n",
       "          s.src = paths[lib];\n",
       "        });\n",
       "    }\n",
       "\n",
       "    function showError(err) {\n",
       "      outputDiv.innerHTML = `<div class=\"error\" style=\"color:red;\">${err}</div>`;\n",
       "      throw err;\n",
       "    }\n",
       "\n",
       "    function displayChart(vegaEmbed) {\n",
       "      vegaEmbed(outputDiv, spec, embedOpt)\n",
       "        .catch(err => showError(`Javascript Error: ${err.message}<br>This usually means there's a typo in your chart specification. See the javascript console for the full traceback.`));\n",
       "    }\n",
       "\n",
       "    if(typeof define === \"function\" && define.amd) {\n",
       "      requirejs.config({paths});\n",
       "      require([\"vega-embed\"], displayChart, err => showError(`Error loading script: ${err.message}`));\n",
       "    } else {\n",
       "      maybeLoadScript(\"vega\", \"5\")\n",
       "        .then(() => maybeLoadScript(\"vega-lite\", \"5.8.0\"))\n",
       "        .then(() => maybeLoadScript(\"vega-embed\", \"6\"))\n",
       "        .catch(showError)\n",
       "        .then(() => displayChart(vegaEmbed));\n",
       "    }\n",
       "  })({\"config\": {\"view\": {\"continuousWidth\": 300, \"continuousHeight\": 300}}, \"layer\": [{\"data\": {\"name\": \"data-1579a5b549efa1f586a6e0127d56e080\"}, \"mark\": {\"type\": \"line\", \"color\": \"orange\", \"size\": 2}, \"encoding\": {\"x\": {\"field\": \"x\", \"type\": \"quantitative\"}, \"x2\": {\"datum\": 100}, \"y\": {\"field\": \"y\", \"type\": \"quantitative\"}}}, {\"data\": {\"name\": \"empty\"}, \"mark\": {\"type\": \"rule\"}, \"encoding\": {\"x\": {\"datum\": 100}}}, {\"data\": {\"name\": \"data-7f80f73dbfe34ec7bc9e83d876313f2d\"}, \"mark\": {\"type\": \"circle\"}, \"encoding\": {\"x\": {\"field\": \"max\", \"title\": \"Maximum Distance\", \"type\": \"quantitative\"}, \"y\": {\"field\": \"time_hrs\", \"title\": \"Race Time (hours)\", \"type\": \"quantitative\"}}}], \"$schema\": \"https://vega.github.io/schema/vega-lite/v5.8.0.json\", \"datasets\": {\"data-1579a5b549efa1f586a6e0127d56e080\": [{\"x\": 110, \"y\": 2.63}, {\"x\": 104, \"y\": 2.8}, {\"x\": 90, \"y\": 3.27}, {\"x\": 86, \"y\": 2.44}], \"empty\": [{}], \"data-7f80f73dbfe34ec7bc9e83d876313f2d\": [{\"age\": 25, \"bmi\": 23.08238602, \"female\": 1, \"footwear\": 2, \"group\": 2, \"injury\": 1, \"mf_d\": 42195, \"mf_di\": 2, \"mf_ti\": 12048, \"max\": 60.0, \"sprint\": 0, \"mf_s\": 3.502241035856574, \"time_hrs\": 3.3466666666666667}, {\"age\": 31, \"bmi\": 22.53840446, \"female\": 0, \"footwear\": 1, \"group\": 2, \"injury\": 2, \"mf_d\": 42195, \"mf_di\": 3, \"mf_ti\": 12323, \"max\": 45.0, \"sprint\": 1, \"mf_s\": 3.424085044226244, \"time_hrs\": 3.4230555555555555}, {\"age\": 44, \"bmi\": 18.87354088, \"female\": 1, \"footwear\": 1, \"group\": 1, \"injury\": 1, \"mf_d\": 42195, \"mf_di\": 2, \"mf_ti\": 10077, \"max\": 104.0, \"sprint\": 1, \"mf_s\": 4.187258112533492, \"time_hrs\": 2.7991666666666664}, {\"age\": 42, \"bmi\": 28.2599144, \"female\": 0, \"footwear\": 2, \"group\": 3, \"injury\": 1, \"mf_d\": 42195, \"mf_di\": 2, \"mf_ti\": 21180, \"max\": 40.0, \"sprint\": 0, \"mf_s\": 1.992209631728045, \"time_hrs\": 5.883333333333334}, {\"age\": 36, \"bmi\": 26.61252975, \"female\": 0, \"footwear\": 1, \"group\": 2, \"injury\": 1, \"mf_d\": 42195, \"mf_di\": 2, \"mf_ti\": 13560, \"max\": 20.0, \"sprint\": 0, \"mf_s\": 3.1117256637168142, \"time_hrs\": 3.7666666666666666}, {\"age\": 37, \"bmi\": 19.55280685, \"female\": 0, \"footwear\": 2, \"group\": 3, \"injury\": 1, \"mf_d\": 42195, \"mf_di\": 4, \"mf_ti\": 10834, \"max\": 84.0, \"sprint\": 1, \"mf_s\": 3.894683404098209, \"time_hrs\": 3.0094444444444446}, {\"age\": 27, \"bmi\": 21.38561058, \"female\": 0, \"footwear\": 2, \"group\": 2, \"injury\": 1, \"mf_d\": 42195, \"mf_di\": 2, \"mf_ti\": 9475, \"max\": 110.0, \"sprint\": 1, \"mf_s\": 4.453298153034301, \"time_hrs\": 2.631944444444444}, {\"age\": 34, \"bmi\": 24.23761749, \"female\": 0, \"footwear\": 2, \"group\": 2, \"injury\": 2, \"mf_d\": 42195, \"mf_di\": 4, \"mf_ti\": 15610, \"max\": 44.0, \"sprint\": 0, \"mf_s\": 2.703074951953876, \"time_hrs\": 4.336111111111111}, {\"age\": 35, \"bmi\": 19.64085388, \"female\": 0, \"footwear\": 2, \"group\": 2, \"injury\": 1, \"mf_d\": 42195, \"mf_di\": 3, \"mf_ti\": 13111, \"max\": 52.0, \"sprint\": 1, \"mf_s\": 3.218289985508352, \"time_hrs\": 3.641944444444445}, {\"age\": 36, \"bmi\": 32.05936813, \"female\": 0, \"footwear\": 1, \"group\": 1, \"injury\": 3, \"mf_d\": 42195, \"mf_di\": 3, \"mf_ti\": 15600, \"max\": 45.0, \"sprint\": 1, \"mf_s\": 2.704807692307692, \"time_hrs\": 4.333333333333333}, {\"age\": 28, \"bmi\": 24.85058212, \"female\": 0, \"footwear\": 1, \"group\": 2, \"injury\": 1, \"mf_d\": 42195, \"mf_di\": 3, \"mf_ti\": 14161, \"max\": 50.0, \"sprint\": 1, \"mf_s\": 2.979662453216581, \"time_hrs\": 3.933611111111112}, {\"age\": 32, \"bmi\": 20.03710556, \"female\": 0, \"footwear\": 2, \"group\": 1, \"injury\": 1, \"mf_d\": 42195, \"mf_di\": 4, \"mf_ti\": 11031, \"max\": 30.0, \"sprint\": 0, \"mf_s\": 3.8251291813978794, \"time_hrs\": 3.0641666666666665}, {\"age\": 40, \"bmi\": 22.26345062, \"female\": 0, \"footwear\": 1, \"group\": 3, \"injury\": 1, \"mf_d\": 42195, \"mf_di\": 3, \"mf_ti\": 8657, \"max\": 125.0, \"sprint\": 1, \"mf_s\": 4.874090331523623, \"time_hrs\": 2.404722222222222}, {\"age\": 30, \"bmi\": 23.64960861, \"female\": 1, \"footwear\": 2, \"group\": 3, \"injury\": 1, \"mf_d\": 42195, \"mf_di\": 2, \"mf_ti\": 15601, \"max\": 35.0, \"sprint\": 1, \"mf_s\": 2.7046343183129284, \"time_hrs\": 4.333611111111111}, {\"age\": 38, \"bmi\": 27.41159058, \"female\": 0, \"footwear\": 2, \"group\": 2, \"injury\": 3, \"mf_d\": 42195, \"mf_di\": 4, \"mf_ti\": 18026, \"max\": 18.0, \"sprint\": 0, \"mf_s\": 2.34078553200932, \"time_hrs\": 5.007222222222223}, {\"age\": 26, \"bmi\": 23.27775955, \"female\": 0, \"footwear\": 2, \"group\": 3, \"injury\": 1, \"mf_d\": 42195, \"mf_di\": 2, \"mf_ti\": 9904, \"max\": 76.0, \"sprint\": 1, \"mf_s\": 4.260399838449112, \"time_hrs\": 2.751111111111111}, {\"age\": 31, \"bmi\": 25.75936508, \"female\": 0, \"footwear\": 2, \"group\": 2, \"injury\": 1, \"mf_d\": 42195, \"mf_di\": 4, \"mf_ti\": 13025, \"max\": 50.0, \"sprint\": 1, \"mf_s\": 3.239539347408829, \"time_hrs\": 3.618055555555556}, {\"age\": 39, \"bmi\": 21.37291145, \"female\": 0, \"footwear\": 2, \"group\": 1, \"injury\": 2, \"mf_d\": 42195, \"mf_di\": 3, \"mf_ti\": 9601, \"max\": 130.0, \"sprint\": 1, \"mf_s\": 4.394854702635143, \"time_hrs\": 2.666944444444445}, {\"age\": 30, \"bmi\": 21.37924576, \"female\": 1, \"footwear\": 1, \"group\": 3, \"injury\": 1, \"mf_d\": 42195, \"mf_di\": 2, \"mf_ti\": 12180, \"max\": 63.0, \"sprint\": 1, \"mf_s\": 3.4642857142857144, \"time_hrs\": 3.3833333333333333}, {\"age\": 50, \"bmi\": 25.04382706, \"female\": 0, \"footwear\": 2, \"group\": 1, \"injury\": 2, \"mf_d\": 42195, \"mf_di\": 3, \"mf_ti\": 11961, \"max\": 47.0, \"sprint\": 1, \"mf_s\": 3.527715073990469, \"time_hrs\": 3.3225}, {\"age\": 27, \"bmi\": 24.09897804, \"female\": 1, \"footwear\": 1, \"group\": 2, \"injury\": 2, \"mf_d\": 42195, \"mf_di\": 3, \"mf_ti\": 13860, \"max\": 45.0, \"sprint\": 0, \"mf_s\": 3.044372294372294, \"time_hrs\": 3.85}, {\"age\": 54, \"bmi\": 23.00556564, \"female\": 0, \"footwear\": 2, \"group\": 3, \"injury\": 1, \"mf_d\": 42195, \"mf_di\": 3, \"mf_ti\": 11580, \"max\": 70.0, \"sprint\": 0, \"mf_s\": 3.643782383419689, \"time_hrs\": 3.216666666666667}, {\"age\": 33, \"bmi\": 25.52073479, \"female\": 0, \"footwear\": 2, \"group\": 1, \"injury\": 3, \"mf_d\": 42195, \"mf_di\": 2, \"mf_ti\": 20714, \"max\": 15.0, \"sprint\": 0, \"mf_s\": 2.037028096939268, \"time_hrs\": 5.7538888888888895}, {\"age\": 40, \"bmi\": 25.37774658, \"female\": 0, \"footwear\": 2, \"group\": 2, \"injury\": 1, \"mf_d\": 42195, \"mf_di\": 4, \"mf_ti\": 11691, \"max\": 55.0, \"sprint\": 1, \"mf_s\": 3.609186553759302, \"time_hrs\": 3.2475}, {\"age\": 26, \"bmi\": 26.37949944, \"female\": 1, \"footwear\": 2, \"group\": 1, \"injury\": 1, \"mf_d\": 42195, \"mf_di\": 3, \"mf_ti\": 13874, \"max\": 50.0, \"sprint\": 0, \"mf_s\": 3.041300273893614, \"time_hrs\": 3.8538888888888887}, {\"age\": 47, \"bmi\": 23.49176788, \"female\": 0, \"footwear\": 2, \"group\": 3, \"injury\": 1, \"mf_d\": 42195, \"mf_di\": 4, \"mf_ti\": 10588, \"max\": 55.0, \"sprint\": 0, \"mf_s\": 3.985171892708727, \"time_hrs\": 2.9411111111111112}, {\"age\": 25, \"bmi\": 21.5213356, \"female\": 0, \"footwear\": 1, \"group\": 3, \"injury\": 1, \"mf_d\": 42195, \"mf_di\": 2, \"mf_ti\": 12300, \"max\": 70.0, \"sprint\": 1, \"mf_s\": 3.430487804878049, \"time_hrs\": 3.4166666666666665}, {\"age\": 50, \"bmi\": 23.00573349, \"female\": 0, \"footwear\": 1, \"group\": 2, \"injury\": 2, \"mf_d\": 42195, \"mf_di\": 3, \"mf_ti\": 10563, \"max\": 62.0, \"sprint\": 1, \"mf_s\": 3.994603805737007, \"time_hrs\": 2.934166666666667}, {\"age\": 36, \"bmi\": 25.25252724, \"female\": 0, \"footwear\": 1, \"group\": 3, \"injury\": 1, \"mf_d\": 42195, \"mf_di\": 2, \"mf_ti\": 15060, \"max\": 28.0, \"sprint\": 0, \"mf_s\": 2.801792828685259, \"time_hrs\": 4.183333333333334}, {\"age\": 45, \"bmi\": 24.55106735, \"female\": 0, \"footwear\": 2, \"group\": 2, \"injury\": 1, \"mf_d\": 42195, \"mf_di\": 2, \"mf_ti\": 13392, \"max\": 42.0, \"sprint\": 0, \"mf_s\": 3.15076164874552, \"time_hrs\": 3.72}, {\"age\": 60, \"bmi\": 22.44668961, \"female\": 0, \"footwear\": 2, \"group\": 1, \"injury\": 1, \"mf_d\": 42195, \"mf_di\": 2, \"mf_ti\": 13890, \"max\": 40.0, \"sprint\": 1, \"mf_s\": 3.037796976241901, \"time_hrs\": 3.858333333333333}, {\"age\": 36, \"bmi\": 22.33406639, \"female\": 0, \"footwear\": 2, \"group\": 3, \"injury\": 1, \"mf_d\": 42195, \"mf_di\": 4, \"mf_ti\": 8777, \"max\": 86.0, \"sprint\": 1, \"mf_s\": 4.807451293152558, \"time_hrs\": 2.438055555555556}, {\"age\": 32, \"bmi\": 24.64646339, \"female\": 1, \"footwear\": 2, \"group\": 3, \"injury\": 1, \"mf_d\": 42195, \"mf_di\": 4, \"mf_ti\": 17149, \"max\": 40.0, \"sprint\": 0, \"mf_s\": 2.460493323225844, \"time_hrs\": 4.763611111111112}, {\"age\": 32, \"bmi\": 22.0347538, \"female\": 0, \"footwear\": 2, \"group\": 1, \"injury\": 1, \"mf_d\": 42195, \"mf_di\": 4, \"mf_ti\": 14460, \"max\": 35.0, \"sprint\": 0, \"mf_s\": 2.91804979253112, \"time_hrs\": 4.016666666666667}, {\"age\": 43, \"bmi\": 24.57002449, \"female\": 0, \"footwear\": 2, \"group\": 3, \"injury\": 1, \"mf_d\": 42195, \"mf_di\": 3, \"mf_ti\": 11762, \"max\": 90.0, \"sprint\": 1, \"mf_s\": 3.5874001020234654, \"time_hrs\": 3.2672222222222222}, {\"age\": 38, \"bmi\": 22.65063095, \"female\": 0, \"footwear\": 2, \"group\": 2, \"injury\": 1, \"mf_d\": 42195, \"mf_di\": 2, \"mf_ti\": 12485, \"max\": 67.0, \"sprint\": 1, \"mf_s\": 3.379655586704045, \"time_hrs\": 3.468055555555556}, {\"age\": 42, \"bmi\": 21.23312569, \"female\": 0, \"footwear\": 2, \"group\": 2, \"injury\": 1, \"mf_d\": 42195, \"mf_di\": 3, \"mf_ti\": 10850, \"max\": 45.0, \"sprint\": 0, \"mf_s\": 3.8889400921658983, \"time_hrs\": 3.013888888888889}, {\"age\": 37, \"bmi\": 19.86567116, \"female\": 1, \"footwear\": 1, \"group\": 1, \"injury\": 1, \"mf_d\": 42195, \"mf_di\": 3, \"mf_ti\": 11426, \"max\": 60.0, \"sprint\": 1, \"mf_s\": 3.692893401015228, \"time_hrs\": 3.173888888888889}, {\"age\": 34, \"bmi\": 20.89263725, \"female\": 1, \"footwear\": 1, \"group\": 2, \"injury\": 1, \"mf_d\": 42195, \"mf_di\": 4, \"mf_ti\": 11880, \"max\": 45.0, \"sprint\": 0, \"mf_s\": 3.551767676767677, \"time_hrs\": 3.3}, {\"age\": 28, \"bmi\": 23.64960861, \"female\": 1, \"footwear\": 2, \"group\": 1, \"injury\": 1, \"mf_d\": 42195, \"mf_di\": 4, \"mf_ti\": 16586, \"max\": 45.0, \"sprint\": 0, \"mf_s\": 2.5440130230314724, \"time_hrs\": 4.607222222222222}, {\"age\": 31, \"bmi\": 21.07240105, \"female\": 1, \"footwear\": 2, \"group\": 3, \"injury\": 1, \"mf_d\": 42195, \"mf_di\": 4, \"mf_ti\": 12500, \"max\": 60.0, \"sprint\": 1, \"mf_s\": 3.3756, \"time_hrs\": 3.4722222222222223}, {\"age\": 28, \"bmi\": 20.24406624, \"female\": 1, \"footwear\": 2, \"group\": 1, \"injury\": 1, \"mf_d\": 42195, \"mf_di\": 3, \"mf_ti\": 12851, \"max\": 60.0, \"sprint\": 1, \"mf_s\": 3.2834020698778303, \"time_hrs\": 3.5697222222222225}, {\"age\": 42, \"bmi\": 21.87164688, \"female\": 1, \"footwear\": 2, \"group\": 3, \"injury\": 1, \"mf_d\": 42195, \"mf_di\": 2, \"mf_ti\": 12399, \"max\": 65.0, \"sprint\": 1, \"mf_s\": 3.4030970239535447, \"time_hrs\": 3.444166666666667}, {\"age\": 45, \"bmi\": 28.55020332, \"female\": 0, \"footwear\": 2, \"group\": 2, \"injury\": 3, \"mf_d\": 42195, \"mf_di\": 3, \"mf_ti\": 19740, \"max\": 55.0, \"sprint\": 0, \"mf_s\": 2.1375379939209727, \"time_hrs\": 5.483333333333333}, {\"age\": 41, \"bmi\": 19.47665596, \"female\": 0, \"footwear\": 1, \"group\": 2, \"injury\": 2, \"mf_d\": 42195, \"mf_di\": 2, \"mf_ti\": 10579, \"max\": 61.0, \"sprint\": 0, \"mf_s\": 3.9885622459589753, \"time_hrs\": 2.938611111111111}, {\"age\": 33, \"bmi\": 20.58569527, \"female\": 0, \"footwear\": 2, \"group\": 3, \"injury\": 1, \"mf_d\": 42195, \"mf_di\": 2, \"mf_ti\": 10491, \"max\": 50.0, \"sprint\": 1, \"mf_s\": 4.022018873319989, \"time_hrs\": 2.9141666666666666}, {\"age\": 59, \"bmi\": 23.24191475, \"female\": 0, \"footwear\": 2, \"group\": 2, \"injury\": 1, \"mf_d\": 42195, \"mf_di\": 3, \"mf_ti\": 14785, \"max\": 56.0, \"sprint\": 1, \"mf_s\": 2.8539059857964157, \"time_hrs\": 4.106944444444444}, {\"age\": 54, \"bmi\": 20.44668007, \"female\": 1, \"footwear\": 2, \"group\": 2, \"injury\": 3, \"mf_d\": 42195, \"mf_di\": 2, \"mf_ti\": 14708, \"max\": 42.0, \"sprint\": 1, \"mf_s\": 2.868846886048409, \"time_hrs\": 4.085555555555556}, {\"age\": 43, \"bmi\": 25.95398712, \"female\": 0, \"footwear\": 2, \"group\": 1, \"injury\": 1, \"mf_d\": 42195, \"mf_di\": 3, \"mf_ti\": 14820, \"max\": 65.0, \"sprint\": 0, \"mf_s\": 2.847165991902834, \"time_hrs\": 4.116666666666666}, {\"age\": 28, \"bmi\": 23.74768066, \"female\": 1, \"footwear\": 2, \"group\": 2, \"injury\": 3, \"mf_d\": 42195, \"mf_di\": 4, \"mf_ti\": 22623, \"max\": 40.0, \"sprint\": 0, \"mf_s\": 1.865137249701631, \"time_hrs\": 6.284166666666667}]}}, {\"mode\": \"vega-lite\"});\n",
       "</script>"
      ],
      "text/plain": [
       "alt.LayerChart(...)"
      ]
     },
     "execution_count": 25,
     "metadata": {},
     "output_type": "execute_result"
    }
   ],
   "source": [
    "# Run this cell to see a visualization of the 4 nearest neighbours to 100 miles / week\n",
    "\n",
    "rule = alt.Chart().mark_rule().encode(x=alt.datum(100))\n",
    "\n",
    "lines = alt.Chart(\n",
    "    pd.DataFrame({\n",
    "        \"x\": [110, 104, 90, 86],\n",
    "        \"y\": [2.63, 2.8, 3.27, 2.44]\n",
    "    })\n",
    ").mark_line(color=\"orange\", size=2).encode(\n",
    "    x=\"x\",\n",
    "    x2=alt.datum(100),  # we use `x2` to set a constant second x-coordinate at 100 for all the lines\n",
    "    y=\"y\",\n",
    ")\n",
    "\n",
    "lines + rule + answer2"
   ]
  },
  {
   "cell_type": "code",
   "execution_count": 26,
   "metadata": {
    "deletable": false,
    "nbgrader": {
     "cell_type": "code",
     "checksum": "86d5852fe651b81170219fd15540a341",
     "grade": false,
     "grade_id": "cell-a8d1b15c312d9c3d",
     "locked": false,
     "schema_version": 3,
     "solution": true
    }
   },
   "outputs": [],
   "source": [
    "# ___ = (\n",
    "#     marathon_50\n",
    "#     .___(diff=(100 - ___).abs())  # Compute the absolute distance to 100 miles for each runner\n",
    "#     .___(4, ___)\n",
    "#     [___]\n",
    "#     .mean()\n",
    "# )\n",
    "\n",
    "# your code here\n",
    "answer3 = (\n",
    "    marathon_50\n",
    "    .assign(diff=(100 - marathon_50[\"max\"]).abs())  # Compute the absolute distance to 100 miles for each runner\n",
    "    .nsmallest(4, \"diff\")\n",
    "    [\"time_hrs\"]\n",
    "    .mean()\n",
    ")"
   ]
  },
  {
   "cell_type": "code",
   "execution_count": 27,
   "metadata": {
    "deletable": false,
    "editable": false,
    "nbgrader": {
     "cell_type": "code",
     "checksum": "158633fb70974524660c86ca85f55a92",
     "grade": true,
     "grade_id": "cell-af7afd4794001c7b",
     "locked": true,
     "points": 1,
     "schema_version": 3,
     "solution": false
    }
   },
   "outputs": [
    {
     "name": "stdout",
     "output_type": "stream",
     "text": [
      "Success!\n"
     ]
    }
   ],
   "source": [
    "from hashlib import sha1\n",
    "assert sha1(str(type(answer3)).encode(\"utf-8\")+b\"a1fb374bdafc28a4\").hexdigest() == \"af2f8a9130b82e185f6893204b4b8c6195ea7dc8\", \"type of answer3 is not correct\"\n",
    "assert sha1(str(answer3).encode(\"utf-8\")+b\"a1fb374bdafc28a4\").hexdigest() == \"bcdda14ae6d5615a8b5213e3d212a9eb83afcf0b\", \"value of answer3 is not correct\"\n",
    "\n",
    "print('Success!')"
   ]
  },
  {
   "cell_type": "markdown",
   "metadata": {
    "deletable": false,
    "editable": false,
    "nbgrader": {
     "cell_type": "markdown",
     "checksum": "b1f9aa206f133969fcff7bf2009bbd0e",
     "grade": false,
     "grade_id": "cell-0c2107e7f52efb3d",
     "locked": true,
     "schema_version": 3,
     "solution": false,
     "task": false
    }
   },
   "source": [
    "**Question 4.0**\n",
    "<br> {points: 1}\n",
    "\n",
    "For this question, let's instead predict the race time based on the 2 closest neighbors to the 100 miles per week during training.\n",
    "\n",
    "*Assign your answer to an object named `answer4`.*"
   ]
  },
  {
   "cell_type": "code",
   "execution_count": 28,
   "metadata": {
    "deletable": false,
    "nbgrader": {
     "cell_type": "code",
     "checksum": "ddca56a9ac218b2e4309e74065c8a0f6",
     "grade": false,
     "grade_id": "cell-44994bbd299ff0d0",
     "locked": false,
     "schema_version": 3,
     "solution": true
    }
   },
   "outputs": [],
   "source": [
    "# your code here\n",
    "answer4 = (\n",
    "    marathon_50\n",
    "    .assign(diff = (100 - marathon_50['max']).abs())\n",
    "    .nsmallest(2, 'diff')\n",
    "    [\"time_hrs\"]\n",
    "    .mean()\n",
    ")"
   ]
  },
  {
   "cell_type": "code",
   "execution_count": 29,
   "metadata": {
    "deletable": false,
    "editable": false,
    "nbgrader": {
     "cell_type": "code",
     "checksum": "f3d3e903f874f8a057a802b974bb1edf",
     "grade": true,
     "grade_id": "cell-690e322810064165",
     "locked": true,
     "points": 1,
     "schema_version": 3,
     "solution": false
    }
   },
   "outputs": [
    {
     "name": "stdout",
     "output_type": "stream",
     "text": [
      "Success!\n"
     ]
    }
   ],
   "source": [
    "from hashlib import sha1\n",
    "assert sha1(str(type(answer4)).encode(\"utf-8\")+b\"cea2ef6c8d5a04a4\").hexdigest() == \"24554dcc83ff55a59d8f9f504587479b7c4fd1fc\", \"type of answer4 is not correct\"\n",
    "assert sha1(str(answer4).encode(\"utf-8\")+b\"cea2ef6c8d5a04a4\").hexdigest() == \"58ad176e249e423c5aed115d86f9bb944458abd6\", \"value of answer4 is not correct\"\n",
    "\n",
    "print('Success!')"
   ]
  },
  {
   "cell_type": "markdown",
   "metadata": {
    "deletable": false,
    "editable": false,
    "nbgrader": {
     "cell_type": "markdown",
     "checksum": "a5edd599a336ceeb48bfe12280c7e05b",
     "grade": false,
     "grade_id": "cell-3311ba44befa3767",
     "locked": true,
     "schema_version": 3,
     "solution": false
    }
   },
   "source": [
    "**Question 5.0**\n",
    "<br> {points: 1}\n",
    "\n",
    "So far you have calculated the $k$ nearest neighbors predictions manually based on values of $k$ we have told you to use. However, last week we learned how to use a better method to choose the best $k$ for classification. \n",
    "\n",
    "Based on what you learned last week and what you have learned about $k$-nn regression so far this week, which method would you use to choose the $k$ (in the situation where we don't tell you which $k$ to use)?\n",
    "\n",
    "- A) Choose the $k$ that excludes most outliers\n",
    "- B) Choose the $k$ with the lowest training error\n",
    "- C) Choose the $k$ with the lowest cross-validation error\n",
    "- D) Choose the $k$ that includes the most data points\n",
    "- E) Choose the $k$ with the lowest testing error\n",
    "\n",
    "*Assign your answer to an object called `answer5`.  Make sure your answer is an uppercase letter and is surrounded by quotation marks (e.g. `\"F\"`).*"
   ]
  },
  {
   "cell_type": "code",
   "execution_count": 30,
   "metadata": {
    "deletable": false,
    "nbgrader": {
     "cell_type": "code",
     "checksum": "a11647b32fa9749c8e9821e17be507a0",
     "grade": false,
     "grade_id": "cell-01b498d6b1415bf5",
     "locked": false,
     "schema_version": 3,
     "solution": true
    }
   },
   "outputs": [],
   "source": [
    "# your code here\n",
    "answer5 = \"C\""
   ]
  },
  {
   "cell_type": "code",
   "execution_count": 31,
   "metadata": {
    "deletable": false,
    "editable": false,
    "nbgrader": {
     "cell_type": "code",
     "checksum": "cbc314d9ad644dcd1161c6c83eca510c",
     "grade": true,
     "grade_id": "cell-7cbe965dbdb7228d",
     "locked": true,
     "points": 1,
     "schema_version": 3,
     "solution": false
    }
   },
   "outputs": [
    {
     "name": "stdout",
     "output_type": "stream",
     "text": [
      "Success!\n"
     ]
    }
   ],
   "source": [
    "from hashlib import sha1\n",
    "assert sha1(str(type(answer5)).encode(\"utf-8\")+b\"b40ce0dc2e9ae460\").hexdigest() == \"ad766dbb58986dfd35dd537c877e5842fb617292\", \"type of answer5 is not str. answer5 should be an str\"\n",
    "assert sha1(str(len(answer5)).encode(\"utf-8\")+b\"b40ce0dc2e9ae460\").hexdigest() == \"9eccd00c77a5eedf50012b722dad1ad43bfc3045\", \"length of answer5 is not correct\"\n",
    "assert sha1(str(answer5.lower()).encode(\"utf-8\")+b\"b40ce0dc2e9ae460\").hexdigest() == \"0730e104414f6866efc763d36851e3f796be71a1\", \"value of answer5 is not correct\"\n",
    "assert sha1(str(answer5).encode(\"utf-8\")+b\"b40ce0dc2e9ae460\").hexdigest() == \"e0b3fd377c932932a6a3a5114a6f6dbc7ef835dc\", \"correct string value of answer5 but incorrect case of letters\"\n",
    "\n",
    "print('Success!')"
   ]
  },
  {
   "cell_type": "markdown",
   "metadata": {
    "deletable": false,
    "editable": false,
    "nbgrader": {
     "cell_type": "markdown",
     "checksum": "47f01e223f004b1f3c8ad26a8226b640",
     "grade": false,
     "grade_id": "cell-b3b34499fe540e49",
     "locked": true,
     "schema_version": 3,
     "solution": false
    }
   },
   "source": [
    "**Question 6.0**\n",
    "<br> {points: 1}\n",
    "\n",
    "We have just seen how to perform k-nn regression manually, now we will apply it to the whole dataset using the `scikit-learn` package. To do so, we will first need to create the training and test datasets. Split the data to use *75%* as your training set. Store the training data as `marathon_training` and the test set as `marathon_testing`. Remember we won't touch the test dataset until the end. \n",
    "\n",
    "Next, set the `time_hrs` column as the target (y) and `max` column as the input feature (X). Store the features as `X_train` and `X_test` and targets as `y_train` and `y_test` respectively for the `marathon_training` and `marathon_testing`. Remember that it is easier to work with input features as a data frame rather than a series, so make sure to extract the single input feature as a data frame by passing the column name inside a list.\n",
    "\n",
    "*Assign your answers to objects named `marathon_training`, `marathon_testing`, `X_train`, `y_train`, `X_test`, and `y_test`.*"
   ]
  },
  {
   "cell_type": "code",
   "execution_count": 58,
   "metadata": {
    "deletable": false,
    "nbgrader": {
     "cell_type": "code",
     "checksum": "a8490ade5d5c9723dbb01fbd6c3d9114",
     "grade": false,
     "grade_id": "cell-8257a9338314019e",
     "locked": false,
     "schema_version": 3,
     "solution": true
    }
   },
   "outputs": [],
   "source": [
    "# ___, ___ = train_test_split(\n",
    "#     ___,\n",
    "#     test_size=___,\n",
    "#     random_state=2000,  # Do not change the random_state\n",
    "# )\n",
    "# X_train = ___[___]  # A single column data frame\n",
    "# y_train = ___[___]  # A series\n",
    "\n",
    "# X_test = ___[___]  # A single column data frame\n",
    "# y_test = ___[___]  # A series\n",
    "\n",
    "# your code here\n",
    "\n",
    "marathon_training, marathon_testing = train_test_split(\n",
    "    marathon,\n",
    "    test_size = 0.25,\n",
    "    random_state = 2000\n",
    ")\n",
    "X_train = marathon_training[[\"max\"]]\n",
    "y_train = marathon_training[\"time_hrs\"]\n",
    "\n",
    "X_test = marathon_testing[[\"max\"]]\n",
    "y_test = marathon_testing[\"time_hrs\"]\n",
    "\n"
   ]
  },
  {
   "cell_type": "code",
   "execution_count": 59,
   "metadata": {
    "deletable": false,
    "editable": false,
    "nbgrader": {
     "cell_type": "code",
     "checksum": "8e77ddaa4d7799a21a4157529690460a",
     "grade": true,
     "grade_id": "cell-381c8aeacf15fd35",
     "locked": true,
     "points": 1,
     "schema_version": 3,
     "solution": false
    }
   },
   "outputs": [
    {
     "name": "stdout",
     "output_type": "stream",
     "text": [
      "Success!\n"
     ]
    }
   ],
   "source": [
    "from hashlib import sha1\n",
    "assert sha1(str(type(marathon_training is None)).encode(\"utf-8\")+b\"af18d0c62f86b811\").hexdigest() == \"5d8ea43ead56737238575fd35f7f71a4a5955867\", \"type of marathon_training is None is not bool. marathon_training is None should be a bool\"\n",
    "assert sha1(str(marathon_training is None).encode(\"utf-8\")+b\"af18d0c62f86b811\").hexdigest() == \"129d3a54a0c638ffb00782d5fde4f3f0f907ab48\", \"boolean value of marathon_training is None is not correct\"\n",
    "\n",
    "assert sha1(str(type(marathon_training.shape)).encode(\"utf-8\")+b\"5afe8f5f2eeab4c7\").hexdigest() == \"629612c609ef298a46ff3e481b987e32818a2274\", \"type of marathon_training.shape is not tuple. marathon_training.shape should be a tuple\"\n",
    "assert sha1(str(len(marathon_training.shape)).encode(\"utf-8\")+b\"5afe8f5f2eeab4c7\").hexdigest() == \"b60a5650503ddbb6b935be0b0121b27abfe207e4\", \"length of marathon_training.shape is not correct\"\n",
    "assert sha1(str(sorted(map(str, marathon_training.shape))).encode(\"utf-8\")+b\"5afe8f5f2eeab4c7\").hexdigest() == \"e5608429d8ff0f0fac44e7dadf5f2005ab82417a\", \"values of marathon_training.shape are not correct\"\n",
    "assert sha1(str(marathon_training.shape).encode(\"utf-8\")+b\"5afe8f5f2eeab4c7\").hexdigest() == \"62c5c8d619ff2be7326ffa1be45978a224539855\", \"order of elements of marathon_training.shape is not correct\"\n",
    "\n",
    "assert sha1(str(type(sum(marathon_training.age))).encode(\"utf-8\")+b\"61e1f014b6822ac8\").hexdigest() == \"bdb7eda2d309151432a1d93302315f53eb7fb012\", \"type of sum(marathon_training.age) is not int. Please make sure it is int and not np.int64, etc. You can cast your value into an int using int()\"\n",
    "assert sha1(str(sum(marathon_training.age)).encode(\"utf-8\")+b\"61e1f014b6822ac8\").hexdigest() == \"b978b8fa684e54a6d6a7caeaabcf8228b52c0eef\", \"value of sum(marathon_training.age) is not correct\"\n",
    "\n",
    "assert sha1(str(type(marathon_testing is None)).encode(\"utf-8\")+b\"49e68407b4491542\").hexdigest() == \"ce7b7c8ee7bee653b2392d71d20b6daf814e373f\", \"type of marathon_testing is None is not bool. marathon_testing is None should be a bool\"\n",
    "assert sha1(str(marathon_testing is None).encode(\"utf-8\")+b\"49e68407b4491542\").hexdigest() == \"858260e24fc46dda4608a5cbd2a5c622f5deb90a\", \"boolean value of marathon_testing is None is not correct\"\n",
    "\n",
    "assert sha1(str(type(marathon_testing.shape)).encode(\"utf-8\")+b\"aa3c241a84a8d69d\").hexdigest() == \"5b264355de4b96fbcc795dcbdbb6edb3c210b705\", \"type of marathon_testing.shape is not tuple. marathon_testing.shape should be a tuple\"\n",
    "assert sha1(str(len(marathon_testing.shape)).encode(\"utf-8\")+b\"aa3c241a84a8d69d\").hexdigest() == \"89b300c65719a0c2d33e91660a5085edc3ca23ac\", \"length of marathon_testing.shape is not correct\"\n",
    "assert sha1(str(sorted(map(str, marathon_testing.shape))).encode(\"utf-8\")+b\"aa3c241a84a8d69d\").hexdigest() == \"1e6f6ea6902617cb0403dfa5af3f439625494799\", \"values of marathon_testing.shape are not correct\"\n",
    "assert sha1(str(marathon_testing.shape).encode(\"utf-8\")+b\"aa3c241a84a8d69d\").hexdigest() == \"8a8a52fbdee24b5190957b7d4c1fa042b19fdddf\", \"order of elements of marathon_testing.shape is not correct\"\n",
    "\n",
    "assert sha1(str(type(sum(marathon_testing.age))).encode(\"utf-8\")+b\"2f571476ef5fa802\").hexdigest() == \"d0256bcb6824cefcfd8b57e3227efe5bd3baab0f\", \"type of sum(marathon_testing.age) is not int. Please make sure it is int and not np.int64, etc. You can cast your value into an int using int()\"\n",
    "assert sha1(str(sum(marathon_testing.age)).encode(\"utf-8\")+b\"2f571476ef5fa802\").hexdigest() == \"34e617b85c82c976013a449b51b0b8d3516aef2a\", \"value of sum(marathon_testing.age) is not correct\"\n",
    "\n",
    "assert sha1(str(type(X_train.columns.values)).encode(\"utf-8\")+b\"26317290a50c4b2f\").hexdigest() == \"fab433f0d4c36b15c9608e22504cee8a6c81ac23\", \"type of X_train.columns.values is not correct\"\n",
    "assert sha1(str(X_train.columns.values).encode(\"utf-8\")+b\"26317290a50c4b2f\").hexdigest() == \"b1f58caa31be3fed471aaf60a5fa6ce3b5593f1d\", \"value of X_train.columns.values is not correct\"\n",
    "\n",
    "assert sha1(str(type(X_train.shape)).encode(\"utf-8\")+b\"cea11337f5dd1061\").hexdigest() == \"e5b8e701193d22c7db4e02d370535c53edd74f70\", \"type of X_train.shape is not tuple. X_train.shape should be a tuple\"\n",
    "assert sha1(str(len(X_train.shape)).encode(\"utf-8\")+b\"cea11337f5dd1061\").hexdigest() == \"cdc8212b23cf967ee3425f0d9c322c2fc06dde37\", \"length of X_train.shape is not correct\"\n",
    "assert sha1(str(sorted(map(str, X_train.shape))).encode(\"utf-8\")+b\"cea11337f5dd1061\").hexdigest() == \"735eeee4e5b97e7bf9f60afe0ff6a92bd135d192\", \"values of X_train.shape are not correct\"\n",
    "assert sha1(str(X_train.shape).encode(\"utf-8\")+b\"cea11337f5dd1061\").hexdigest() == \"9a4447158db9063667748fe95f6eec326e4e2407\", \"order of elements of X_train.shape is not correct\"\n",
    "\n",
    "assert sha1(str(type(y_train.name)).encode(\"utf-8\")+b\"dab51e7c48c2ca41\").hexdigest() == \"e05e742ebc874826e36cefe0da09611decc5a036\", \"type of y_train.name is not str. y_train.name should be an str\"\n",
    "assert sha1(str(len(y_train.name)).encode(\"utf-8\")+b\"dab51e7c48c2ca41\").hexdigest() == \"3097ea3d6601c0a1ffb8f778a65fafe585811d99\", \"length of y_train.name is not correct\"\n",
    "assert sha1(str(y_train.name.lower()).encode(\"utf-8\")+b\"dab51e7c48c2ca41\").hexdigest() == \"5c8607a8e00d8a314c3c03f4726b4a5057298051\", \"value of y_train.name is not correct\"\n",
    "assert sha1(str(y_train.name).encode(\"utf-8\")+b\"dab51e7c48c2ca41\").hexdigest() == \"5c8607a8e00d8a314c3c03f4726b4a5057298051\", \"correct string value of y_train.name but incorrect case of letters\"\n",
    "\n",
    "assert sha1(str(type(y_train.shape)).encode(\"utf-8\")+b\"e54bce6d0b9fbdeb\").hexdigest() == \"ddef55c027c8bf9f82e97dea437eae799e897830\", \"type of y_train.shape is not tuple. y_train.shape should be a tuple\"\n",
    "assert sha1(str(len(y_train.shape)).encode(\"utf-8\")+b\"e54bce6d0b9fbdeb\").hexdigest() == \"37cb536b1ba6d7c369630629e98e58a9294db29c\", \"length of y_train.shape is not correct\"\n",
    "assert sha1(str(sorted(map(str, y_train.shape))).encode(\"utf-8\")+b\"e54bce6d0b9fbdeb\").hexdigest() == \"47e6dd467615ec579df9de01f02a172e137636ae\", \"values of y_train.shape are not correct\"\n",
    "assert sha1(str(y_train.shape).encode(\"utf-8\")+b\"e54bce6d0b9fbdeb\").hexdigest() == \"de86ce3cadbe02ccb22205da4a43f8dfc10e1093\", \"order of elements of y_train.shape is not correct\"\n",
    "\n",
    "assert sha1(str(type(X_test.columns.values)).encode(\"utf-8\")+b\"5f542f50ad06df82\").hexdigest() == \"bb12318ff0702b78c9d64800c4e43f2384f4eda4\", \"type of X_test.columns.values is not correct\"\n",
    "assert sha1(str(X_test.columns.values).encode(\"utf-8\")+b\"5f542f50ad06df82\").hexdigest() == \"a49ebfc7d1f689e22c9c577a1ac084291ca168ee\", \"value of X_test.columns.values is not correct\"\n",
    "\n",
    "assert sha1(str(type(X_test.shape)).encode(\"utf-8\")+b\"b6a3c2b67e6bbd79\").hexdigest() == \"b73f213c20480266630318411bc26f16896e9dfa\", \"type of X_test.shape is not tuple. X_test.shape should be a tuple\"\n",
    "assert sha1(str(len(X_test.shape)).encode(\"utf-8\")+b\"b6a3c2b67e6bbd79\").hexdigest() == \"fc7d4ad37fef0f784a7e474d60e8ee9a561ce0e2\", \"length of X_test.shape is not correct\"\n",
    "assert sha1(str(sorted(map(str, X_test.shape))).encode(\"utf-8\")+b\"b6a3c2b67e6bbd79\").hexdigest() == \"e7254b8fc7b765154afcb7a941113d884642371c\", \"values of X_test.shape are not correct\"\n",
    "assert sha1(str(X_test.shape).encode(\"utf-8\")+b\"b6a3c2b67e6bbd79\").hexdigest() == \"b5513c6503c4ec70b681e162ab3833cb77d81859\", \"order of elements of X_test.shape is not correct\"\n",
    "\n",
    "assert sha1(str(type(y_test.name)).encode(\"utf-8\")+b\"0eef6da483996d40\").hexdigest() == \"ab67aa2780c0f8498487bf8bb82f349c85cef3d4\", \"type of y_test.name is not str. y_test.name should be an str\"\n",
    "assert sha1(str(len(y_test.name)).encode(\"utf-8\")+b\"0eef6da483996d40\").hexdigest() == \"f5b29e465042e94a48db8cfbd459d97b460a5022\", \"length of y_test.name is not correct\"\n",
    "assert sha1(str(y_test.name.lower()).encode(\"utf-8\")+b\"0eef6da483996d40\").hexdigest() == \"1ee8b6bae71149213dfaea2e5487a40ec4a685e5\", \"value of y_test.name is not correct\"\n",
    "assert sha1(str(y_test.name).encode(\"utf-8\")+b\"0eef6da483996d40\").hexdigest() == \"1ee8b6bae71149213dfaea2e5487a40ec4a685e5\", \"correct string value of y_test.name but incorrect case of letters\"\n",
    "\n",
    "assert sha1(str(type(y_test.shape)).encode(\"utf-8\")+b\"735e01f4827fe1ad\").hexdigest() == \"3472197d616d585e3ab1ec364fefb7981274d394\", \"type of y_test.shape is not tuple. y_test.shape should be a tuple\"\n",
    "assert sha1(str(len(y_test.shape)).encode(\"utf-8\")+b\"735e01f4827fe1ad\").hexdigest() == \"284e24d5da77574b2b2eb808dce2d3a850da14ec\", \"length of y_test.shape is not correct\"\n",
    "assert sha1(str(sorted(map(str, y_test.shape))).encode(\"utf-8\")+b\"735e01f4827fe1ad\").hexdigest() == \"68f766bbdc8146613c8ab31e98ae8bde2e4d9ec6\", \"values of y_test.shape are not correct\"\n",
    "assert sha1(str(y_test.shape).encode(\"utf-8\")+b\"735e01f4827fe1ad\").hexdigest() == \"676fe5f5237185e0f9a3f93b459c92c94a4387bb\", \"order of elements of y_test.shape is not correct\"\n",
    "\n",
    "print('Success!')"
   ]
  },
  {
   "cell_type": "markdown",
   "metadata": {
    "deletable": false,
    "editable": false,
    "nbgrader": {
     "cell_type": "markdown",
     "checksum": "4fd00f6a0b76b2844119efa7bd675c38",
     "grade": false,
     "grade_id": "cell-0c01c0b6cf4d8e91",
     "locked": true,
     "schema_version": 3,
     "solution": false,
     "task": false
    }
   },
   "source": [
    "**Question 7.0**\n",
    "<br> {points: 1}\n",
    "\n",
    "Next, we’ll use cross-validation on our **training data** to choose $k$. In $k$-nn classification, we used accuracy to see how well our predictions matched the true labels. In the context of $k$-nn *regression*, we will use RMSPE as the scoring instead. Interpreting the RMSPE value can be tricky but generally speaking, if the prediction values are very close to the true values, the RMSPE will be small. Conversely, if the prediction values are *not* very close to the true values, the RMSPE will be quite large. \n",
    "\n",
    "Let's perform a cross-validation and choose the optimal $k$!\n",
    "\n",
    "First, create a pipeline for $k$-nn. We are still using the $k$-nearest neighbours algorithm, and we will also use the `StandardScaler` to standardize the numerical values. Store your pipeline in an object called `marathon_pipe`. Finally, perform a cross-validation with 5 folds using the `cross_validate` function. Remember that since the `cross_validate` function always maximizes its \"score\", and here we're using RMSPE (lower is better!), we need to specify that we're using the *negative* RMSPE (`\"neg_root_mean_squared_error\"`).\n",
    "\n",
    "*Store the output of the cross validation as a data frame in an object called `marathon_cv`.*"
   ]
  },
  {
   "cell_type": "code",
   "execution_count": 62,
   "metadata": {
    "deletable": false,
    "nbgrader": {
     "cell_type": "code",
     "checksum": "19be30edec8b71b3601d0b24ada2cbb2",
     "grade": false,
     "grade_id": "cell-766f1e094dd32efc",
     "locked": false,
     "schema_version": 3,
     "solution": true
    }
   },
   "outputs": [
    {
     "data": {
      "text/html": [
       "<div>\n",
       "<style scoped>\n",
       "    .dataframe tbody tr th:only-of-type {\n",
       "        vertical-align: middle;\n",
       "    }\n",
       "\n",
       "    .dataframe tbody tr th {\n",
       "        vertical-align: top;\n",
       "    }\n",
       "\n",
       "    .dataframe thead th {\n",
       "        text-align: right;\n",
       "    }\n",
       "</style>\n",
       "<table border=\"1\" class=\"dataframe\">\n",
       "  <thead>\n",
       "    <tr style=\"text-align: right;\">\n",
       "      <th></th>\n",
       "      <th>fit_time</th>\n",
       "      <th>score_time</th>\n",
       "      <th>test_score</th>\n",
       "      <th>train_score</th>\n",
       "    </tr>\n",
       "  </thead>\n",
       "  <tbody>\n",
       "    <tr>\n",
       "      <th>0</th>\n",
       "      <td>0.007623</td>\n",
       "      <td>0.003114</td>\n",
       "      <td>-0.595685</td>\n",
       "      <td>-0.587330</td>\n",
       "    </tr>\n",
       "    <tr>\n",
       "      <th>1</th>\n",
       "      <td>0.005522</td>\n",
       "      <td>0.003000</td>\n",
       "      <td>-0.639402</td>\n",
       "      <td>-0.560640</td>\n",
       "    </tr>\n",
       "    <tr>\n",
       "      <th>2</th>\n",
       "      <td>0.006518</td>\n",
       "      <td>0.005003</td>\n",
       "      <td>-0.459905</td>\n",
       "      <td>-0.612991</td>\n",
       "    </tr>\n",
       "    <tr>\n",
       "      <th>3</th>\n",
       "      <td>0.007561</td>\n",
       "      <td>0.004003</td>\n",
       "      <td>-0.733519</td>\n",
       "      <td>-0.562895</td>\n",
       "    </tr>\n",
       "    <tr>\n",
       "      <th>4</th>\n",
       "      <td>0.004998</td>\n",
       "      <td>0.003525</td>\n",
       "      <td>-0.710124</td>\n",
       "      <td>-0.569392</td>\n",
       "    </tr>\n",
       "  </tbody>\n",
       "</table>\n",
       "</div>"
      ],
      "text/plain": [
       "   fit_time  score_time  test_score  train_score\n",
       "0  0.007623    0.003114   -0.595685    -0.587330\n",
       "1  0.005522    0.003000   -0.639402    -0.560640\n",
       "2  0.006518    0.005003   -0.459905    -0.612991\n",
       "3  0.007561    0.004003   -0.733519    -0.562895\n",
       "4  0.004998    0.003525   -0.710124    -0.569392"
      ]
     },
     "execution_count": 62,
     "metadata": {},
     "output_type": "execute_result"
    }
   ],
   "source": [
    "# ___ = make_pipeline(\n",
    "#     ___,\n",
    "#     ___,\n",
    "# )\n",
    "#\n",
    "# marathon_cv = pd.___(\n",
    "#     cross_validate(\n",
    "#         ___,\n",
    "#         ___,\n",
    "#         ___,\n",
    "#         scoring=___,\n",
    "#         return_train_score=True,\n",
    "#     )\n",
    "# )\n",
    "\n",
    "# your code here\n",
    "marathon_pipe = make_pipeline(\n",
    "    StandardScaler(),\n",
    "    KNeighborsRegressor()\n",
    ")\n",
    "marathon_cv = pd.DataFrame(\n",
    "    cross_validate(\n",
    "        marathon_pipe,\n",
    "        X_train,\n",
    "        y_train,\n",
    "        scoring='neg_root_mean_squared_error',\n",
    "        return_train_score=True,\n",
    "        cv = 5\n",
    "    )\n",
    ")\n",
    "marathon_cv\n",
    "\n",
    "# Success on binder, but not locally when not using Docker"
   ]
  },
  {
   "cell_type": "code",
   "execution_count": 63,
   "metadata": {
    "deletable": false,
    "editable": false,
    "nbgrader": {
     "cell_type": "code",
     "checksum": "a0a46b56ff2efa83f43c3b58d1f5ca2d",
     "grade": true,
     "grade_id": "cell-289bc7a299c4f482",
     "locked": true,
     "points": 1,
     "schema_version": 3,
     "solution": false
    }
   },
   "outputs": [
    {
     "ename": "AssertionError",
     "evalue": "value of sum(marathon_cv['train_score']) is not correct (rounded to 2 decimal places)",
     "output_type": "error",
     "traceback": [
      "\u001b[1;31m---------------------------------------------------------------------------\u001b[0m",
      "\u001b[1;31mAssertionError\u001b[0m                            Traceback (most recent call last)",
      "Cell \u001b[1;32mIn[63], line 23\u001b[0m\n\u001b[0;32m     20\u001b[0m \u001b[38;5;28;01massert\u001b[39;00m sha1(\u001b[38;5;28mstr\u001b[39m(\u001b[38;5;28mlen\u001b[39m(marathon_cv[\u001b[38;5;124m'\u001b[39m\u001b[38;5;124mtrain_score\u001b[39m\u001b[38;5;124m'\u001b[39m]))\u001b[38;5;241m.\u001b[39mencode(\u001b[38;5;124m\"\u001b[39m\u001b[38;5;124mutf-8\u001b[39m\u001b[38;5;124m\"\u001b[39m)\u001b[38;5;241m+\u001b[39m\u001b[38;5;124mb\u001b[39m\u001b[38;5;124m\"\u001b[39m\u001b[38;5;124m9566330d287cd569\u001b[39m\u001b[38;5;124m\"\u001b[39m)\u001b[38;5;241m.\u001b[39mhexdigest() \u001b[38;5;241m==\u001b[39m \u001b[38;5;124m\"\u001b[39m\u001b[38;5;124mfcff4997c75f4c6f3ae5cdde55f00a39e661f6a0\u001b[39m\u001b[38;5;124m\"\u001b[39m, \u001b[38;5;124m\"\u001b[39m\u001b[38;5;124mvalue of len(marathon_cv[\u001b[39m\u001b[38;5;124m'\u001b[39m\u001b[38;5;124mtrain_score\u001b[39m\u001b[38;5;124m'\u001b[39m\u001b[38;5;124m]) is not correct\u001b[39m\u001b[38;5;124m\"\u001b[39m\n\u001b[0;32m     22\u001b[0m \u001b[38;5;28;01massert\u001b[39;00m sha1(\u001b[38;5;28mstr\u001b[39m(\u001b[38;5;28mtype\u001b[39m(\u001b[38;5;28msum\u001b[39m(marathon_cv[\u001b[38;5;124m'\u001b[39m\u001b[38;5;124mtrain_score\u001b[39m\u001b[38;5;124m'\u001b[39m])))\u001b[38;5;241m.\u001b[39mencode(\u001b[38;5;124m\"\u001b[39m\u001b[38;5;124mutf-8\u001b[39m\u001b[38;5;124m\"\u001b[39m)\u001b[38;5;241m+\u001b[39m\u001b[38;5;124mb\u001b[39m\u001b[38;5;124m\"\u001b[39m\u001b[38;5;124md4649bec815f91b4\u001b[39m\u001b[38;5;124m\"\u001b[39m)\u001b[38;5;241m.\u001b[39mhexdigest() \u001b[38;5;241m==\u001b[39m \u001b[38;5;124m\"\u001b[39m\u001b[38;5;124m39c23d4212cff6a0631b50bc40fcdbca86c4edc6\u001b[39m\u001b[38;5;124m\"\u001b[39m, \u001b[38;5;124m\"\u001b[39m\u001b[38;5;124mtype of sum(marathon_cv[\u001b[39m\u001b[38;5;124m'\u001b[39m\u001b[38;5;124mtrain_score\u001b[39m\u001b[38;5;124m'\u001b[39m\u001b[38;5;124m]) is not float. Please make sure it is float and not np.float64, etc. You can cast your value into a float using float()\u001b[39m\u001b[38;5;124m\"\u001b[39m\n\u001b[1;32m---> 23\u001b[0m \u001b[38;5;28;01massert\u001b[39;00m sha1(\u001b[38;5;28mstr\u001b[39m(\u001b[38;5;28mround\u001b[39m(\u001b[38;5;28msum\u001b[39m(marathon_cv[\u001b[38;5;124m'\u001b[39m\u001b[38;5;124mtrain_score\u001b[39m\u001b[38;5;124m'\u001b[39m]), \u001b[38;5;241m2\u001b[39m))\u001b[38;5;241m.\u001b[39mencode(\u001b[38;5;124m\"\u001b[39m\u001b[38;5;124mutf-8\u001b[39m\u001b[38;5;124m\"\u001b[39m)\u001b[38;5;241m+\u001b[39m\u001b[38;5;124mb\u001b[39m\u001b[38;5;124m\"\u001b[39m\u001b[38;5;124md4649bec815f91b4\u001b[39m\u001b[38;5;124m\"\u001b[39m)\u001b[38;5;241m.\u001b[39mhexdigest() \u001b[38;5;241m==\u001b[39m \u001b[38;5;124m\"\u001b[39m\u001b[38;5;124m60d3105867ac5bbce203791587d14601497e3176\u001b[39m\u001b[38;5;124m\"\u001b[39m, \u001b[38;5;124m\"\u001b[39m\u001b[38;5;124mvalue of sum(marathon_cv[\u001b[39m\u001b[38;5;124m'\u001b[39m\u001b[38;5;124mtrain_score\u001b[39m\u001b[38;5;124m'\u001b[39m\u001b[38;5;124m]) is not correct (rounded to 2 decimal places)\u001b[39m\u001b[38;5;124m\"\u001b[39m\n\u001b[0;32m     25\u001b[0m \u001b[38;5;28;01massert\u001b[39;00m sha1(\u001b[38;5;28mstr\u001b[39m(\u001b[38;5;28mtype\u001b[39m(\u001b[38;5;28msum\u001b[39m(marathon_cv[\u001b[38;5;124m'\u001b[39m\u001b[38;5;124mtest_score\u001b[39m\u001b[38;5;124m'\u001b[39m])))\u001b[38;5;241m.\u001b[39mencode(\u001b[38;5;124m\"\u001b[39m\u001b[38;5;124mutf-8\u001b[39m\u001b[38;5;124m\"\u001b[39m)\u001b[38;5;241m+\u001b[39m\u001b[38;5;124mb\u001b[39m\u001b[38;5;124m\"\u001b[39m\u001b[38;5;124m51699378e42a05e6\u001b[39m\u001b[38;5;124m\"\u001b[39m)\u001b[38;5;241m.\u001b[39mhexdigest() \u001b[38;5;241m==\u001b[39m \u001b[38;5;124m\"\u001b[39m\u001b[38;5;124m835fa6142365ab534cca7f6fa693c16d3b4cde12\u001b[39m\u001b[38;5;124m\"\u001b[39m, \u001b[38;5;124m\"\u001b[39m\u001b[38;5;124mtype of sum(marathon_cv[\u001b[39m\u001b[38;5;124m'\u001b[39m\u001b[38;5;124mtest_score\u001b[39m\u001b[38;5;124m'\u001b[39m\u001b[38;5;124m]) is not float. Please make sure it is float and not np.float64, etc. You can cast your value into a float using float()\u001b[39m\u001b[38;5;124m\"\u001b[39m\n\u001b[0;32m     26\u001b[0m \u001b[38;5;28;01massert\u001b[39;00m sha1(\u001b[38;5;28mstr\u001b[39m(\u001b[38;5;28mround\u001b[39m(\u001b[38;5;28msum\u001b[39m(marathon_cv[\u001b[38;5;124m'\u001b[39m\u001b[38;5;124mtest_score\u001b[39m\u001b[38;5;124m'\u001b[39m]), \u001b[38;5;241m2\u001b[39m))\u001b[38;5;241m.\u001b[39mencode(\u001b[38;5;124m\"\u001b[39m\u001b[38;5;124mutf-8\u001b[39m\u001b[38;5;124m\"\u001b[39m)\u001b[38;5;241m+\u001b[39m\u001b[38;5;124mb\u001b[39m\u001b[38;5;124m\"\u001b[39m\u001b[38;5;124m51699378e42a05e6\u001b[39m\u001b[38;5;124m\"\u001b[39m)\u001b[38;5;241m.\u001b[39mhexdigest() \u001b[38;5;241m==\u001b[39m \u001b[38;5;124m\"\u001b[39m\u001b[38;5;124m4a5603c65170510c2965a0e5f6dd7daab4666471\u001b[39m\u001b[38;5;124m\"\u001b[39m, \u001b[38;5;124m\"\u001b[39m\u001b[38;5;124mvalue of sum(marathon_cv[\u001b[39m\u001b[38;5;124m'\u001b[39m\u001b[38;5;124mtest_score\u001b[39m\u001b[38;5;124m'\u001b[39m\u001b[38;5;124m]) is not correct (rounded to 2 decimal places)\u001b[39m\u001b[38;5;124m\"\u001b[39m\n",
      "\u001b[1;31mAssertionError\u001b[0m: value of sum(marathon_cv['train_score']) is not correct (rounded to 2 decimal places)"
     ]
    }
   ],
   "source": [
    "from hashlib import sha1\n",
    "assert sha1(str(type(marathon_pipe is None)).encode(\"utf-8\")+b\"c0a1e8920cc4216e\").hexdigest() == \"b213152a68ff01dbcbb48f4575c7c280d5ddcdbb\", \"type of marathon_pipe is None is not bool. marathon_pipe is None should be a bool\"\n",
    "assert sha1(str(marathon_pipe is None).encode(\"utf-8\")+b\"c0a1e8920cc4216e\").hexdigest() == \"2904611834080e51ffc4e81ee9e68b7d200eee25\", \"boolean value of marathon_pipe is None is not correct\"\n",
    "\n",
    "assert sha1(str(type(marathon_pipe.steps[1][1].n_neighbors)).encode(\"utf-8\")+b\"ea4a67cadc5558fc\").hexdigest() == \"56d2d60213b17a0a1201ff29f9b076430e7bbabe\", \"type of marathon_pipe.steps[1][1].n_neighbors is not int. Please make sure it is int and not np.int64, etc. You can cast your value into an int using int()\"\n",
    "assert sha1(str(marathon_pipe.steps[1][1].n_neighbors).encode(\"utf-8\")+b\"ea4a67cadc5558fc\").hexdigest() == \"2fdb2ecc6b1468440e52a836efdf3d88446ec229\", \"value of marathon_pipe.steps[1][1].n_neighbors is not correct\"\n",
    "\n",
    "assert sha1(str(type(marathon_pipe.steps[1][1].weights)).encode(\"utf-8\")+b\"11821377b634e9d0\").hexdigest() == \"bb586a5910d13036f32acadbd9a37ed5961460c4\", \"type of marathon_pipe.steps[1][1].weights is not str. marathon_pipe.steps[1][1].weights should be an str\"\n",
    "assert sha1(str(len(marathon_pipe.steps[1][1].weights)).encode(\"utf-8\")+b\"11821377b634e9d0\").hexdigest() == \"7822dbddfcb1115fb8bed702b4b75409d20a3813\", \"length of marathon_pipe.steps[1][1].weights is not correct\"\n",
    "assert sha1(str(marathon_pipe.steps[1][1].weights.lower()).encode(\"utf-8\")+b\"11821377b634e9d0\").hexdigest() == \"b69b0d3f99d9955615aee9ec18c771b924094d03\", \"value of marathon_pipe.steps[1][1].weights is not correct\"\n",
    "assert sha1(str(marathon_pipe.steps[1][1].weights).encode(\"utf-8\")+b\"11821377b634e9d0\").hexdigest() == \"b69b0d3f99d9955615aee9ec18c771b924094d03\", \"correct string value of marathon_pipe.steps[1][1].weights but incorrect case of letters\"\n",
    "\n",
    "assert sha1(str(type(marathon_pipe.steps[0][1])).encode(\"utf-8\")+b\"4070ea8e3283e801\").hexdigest() == \"01c28ef1e91b64a2022bb4fba2092d037d86b46f\", \"type of marathon_pipe.steps[0][1] is not correct\"\n",
    "assert sha1(str(marathon_pipe.steps[0][1]).encode(\"utf-8\")+b\"4070ea8e3283e801\").hexdigest() == \"3e0e5e27c5bac0128991971723449e397ada7447\", \"value of marathon_pipe.steps[0][1] is not correct\"\n",
    "\n",
    "assert sha1(str(type(marathon_cv is None)).encode(\"utf-8\")+b\"efad54b030c58618\").hexdigest() == \"41bd7d745dcfad23d437fb16c0adfaca8d833231\", \"type of marathon_cv is None is not bool. marathon_cv is None should be a bool\"\n",
    "assert sha1(str(marathon_cv is None).encode(\"utf-8\")+b\"efad54b030c58618\").hexdigest() == \"0b3ad7b6e3ab11366c2c7f529895159ca295576c\", \"boolean value of marathon_cv is None is not correct\"\n",
    "\n",
    "assert sha1(str(type(len(marathon_cv['train_score']))).encode(\"utf-8\")+b\"9566330d287cd569\").hexdigest() == \"bd78fc2f20adc6419cf08c8e84fba4ad55b4a663\", \"type of len(marathon_cv['train_score']) is not int. Please make sure it is int and not np.int64, etc. You can cast your value into an int using int()\"\n",
    "assert sha1(str(len(marathon_cv['train_score'])).encode(\"utf-8\")+b\"9566330d287cd569\").hexdigest() == \"fcff4997c75f4c6f3ae5cdde55f00a39e661f6a0\", \"value of len(marathon_cv['train_score']) is not correct\"\n",
    "\n",
    "assert sha1(str(type(sum(marathon_cv['train_score']))).encode(\"utf-8\")+b\"d4649bec815f91b4\").hexdigest() == \"39c23d4212cff6a0631b50bc40fcdbca86c4edc6\", \"type of sum(marathon_cv['train_score']) is not float. Please make sure it is float and not np.float64, etc. You can cast your value into a float using float()\"\n",
    "assert sha1(str(round(sum(marathon_cv['train_score']), 2)).encode(\"utf-8\")+b\"d4649bec815f91b4\").hexdigest() == \"60d3105867ac5bbce203791587d14601497e3176\", \"value of sum(marathon_cv['train_score']) is not correct (rounded to 2 decimal places)\"\n",
    "\n",
    "assert sha1(str(type(sum(marathon_cv['test_score']))).encode(\"utf-8\")+b\"51699378e42a05e6\").hexdigest() == \"835fa6142365ab534cca7f6fa693c16d3b4cde12\", \"type of sum(marathon_cv['test_score']) is not float. Please make sure it is float and not np.float64, etc. You can cast your value into a float using float()\"\n",
    "assert sha1(str(round(sum(marathon_cv['test_score']), 2)).encode(\"utf-8\")+b\"51699378e42a05e6\").hexdigest() == \"4a5603c65170510c2965a0e5f6dd7daab4666471\", \"value of sum(marathon_cv['test_score']) is not correct (rounded to 2 decimal places)\"\n",
    "\n",
    "print('Success!')"
   ]
  },
  {
   "cell_type": "markdown",
   "metadata": {
    "deletable": false,
    "editable": false,
    "nbgrader": {
     "cell_type": "markdown",
     "checksum": "26a0c5f4ee389ac76334c430fb49d6ab",
     "grade": false,
     "grade_id": "cell-7cd5193eecc27c30",
     "locked": true,
     "schema_version": 3,
     "solution": false
    }
   },
   "source": [
    "**Question 8.0**\n",
    "<br> {points: 1}\n",
    "\n",
    "The major difference compared to other models from Chapters 6 and 7 is that we are running a *regression* rather than a *classification*. Using `KNeighborsRegressor` essentially tells `scikit-learn` that we need to use different metrics (`neg_root_mean_squared_error` rather than accuracy) for tuning and evaluation. \n",
    "\n",
    "Now, let's use the `neg_root_mean_squared_error` to find the best setting for $k$ from our model. Let's test 200 values of $k$. \n",
    "\n",
    "First, create a parameter grid called `param_grid` that contains values of range 1 to 200. \n",
    "\n",
    "Next, tune your model such that it tests all the values in `range(1, 201, 1)` using `GridSearchCV` function with `cv=5` and `n_jobs=-1` and save the tuned model as `marathon_tuned`. Finally, fit the tuned model to the training dataset and save the `cv_results_` in a dataframe. \n",
    "\n",
    "*Assign your answer to an object called `marathon_results`.*"
   ]
  },
  {
   "cell_type": "code",
   "execution_count": 64,
   "metadata": {
    "deletable": false,
    "nbgrader": {
     "cell_type": "code",
     "checksum": "c31d761e4100b98b50b69cbec445cad9",
     "grade": false,
     "grade_id": "cell-8c7e7ded673d28ec",
     "locked": false,
     "schema_version": 3,
     "solution": true
    }
   },
   "outputs": [
    {
     "data": {
      "text/html": [
       "<div>\n",
       "<style scoped>\n",
       "    .dataframe tbody tr th:only-of-type {\n",
       "        vertical-align: middle;\n",
       "    }\n",
       "\n",
       "    .dataframe tbody tr th {\n",
       "        vertical-align: top;\n",
       "    }\n",
       "\n",
       "    .dataframe thead th {\n",
       "        text-align: right;\n",
       "    }\n",
       "</style>\n",
       "<table border=\"1\" class=\"dataframe\">\n",
       "  <thead>\n",
       "    <tr style=\"text-align: right;\">\n",
       "      <th></th>\n",
       "      <th>mean_fit_time</th>\n",
       "      <th>std_fit_time</th>\n",
       "      <th>mean_score_time</th>\n",
       "      <th>std_score_time</th>\n",
       "      <th>param_kneighborsregressor__n_neighbors</th>\n",
       "      <th>params</th>\n",
       "      <th>split0_test_score</th>\n",
       "      <th>split1_test_score</th>\n",
       "      <th>split2_test_score</th>\n",
       "      <th>split3_test_score</th>\n",
       "      <th>split4_test_score</th>\n",
       "      <th>mean_test_score</th>\n",
       "      <th>std_test_score</th>\n",
       "      <th>rank_test_score</th>\n",
       "    </tr>\n",
       "  </thead>\n",
       "  <tbody>\n",
       "    <tr>\n",
       "      <th>0</th>\n",
       "      <td>0.012587</td>\n",
       "      <td>0.003617</td>\n",
       "      <td>0.007865</td>\n",
       "      <td>0.003683</td>\n",
       "      <td>1</td>\n",
       "      <td>{'kneighborsregressor__n_neighbors': 1}</td>\n",
       "      <td>-0.913491</td>\n",
       "      <td>-0.785553</td>\n",
       "      <td>-0.643826</td>\n",
       "      <td>-0.916655</td>\n",
       "      <td>-0.839021</td>\n",
       "      <td>-0.819709</td>\n",
       "      <td>0.100666</td>\n",
       "      <td>200</td>\n",
       "    </tr>\n",
       "    <tr>\n",
       "      <th>1</th>\n",
       "      <td>0.011089</td>\n",
       "      <td>0.001389</td>\n",
       "      <td>0.008052</td>\n",
       "      <td>0.002835</td>\n",
       "      <td>2</td>\n",
       "      <td>{'kneighborsregressor__n_neighbors': 2}</td>\n",
       "      <td>-0.873380</td>\n",
       "      <td>-0.694137</td>\n",
       "      <td>-0.540398</td>\n",
       "      <td>-0.782090</td>\n",
       "      <td>-0.786062</td>\n",
       "      <td>-0.735213</td>\n",
       "      <td>0.112706</td>\n",
       "      <td>199</td>\n",
       "    </tr>\n",
       "    <tr>\n",
       "      <th>2</th>\n",
       "      <td>0.015263</td>\n",
       "      <td>0.008271</td>\n",
       "      <td>0.006952</td>\n",
       "      <td>0.001725</td>\n",
       "      <td>3</td>\n",
       "      <td>{'kneighborsregressor__n_neighbors': 3}</td>\n",
       "      <td>-0.720554</td>\n",
       "      <td>-0.671778</td>\n",
       "      <td>-0.529758</td>\n",
       "      <td>-0.783678</td>\n",
       "      <td>-0.747863</td>\n",
       "      <td>-0.690726</td>\n",
       "      <td>0.088390</td>\n",
       "      <td>198</td>\n",
       "    </tr>\n",
       "    <tr>\n",
       "      <th>3</th>\n",
       "      <td>0.009236</td>\n",
       "      <td>0.001040</td>\n",
       "      <td>0.005645</td>\n",
       "      <td>0.001029</td>\n",
       "      <td>4</td>\n",
       "      <td>{'kneighborsregressor__n_neighbors': 4}</td>\n",
       "      <td>-0.610210</td>\n",
       "      <td>-0.656911</td>\n",
       "      <td>-0.478623</td>\n",
       "      <td>-0.740616</td>\n",
       "      <td>-0.697762</td>\n",
       "      <td>-0.636824</td>\n",
       "      <td>0.090139</td>\n",
       "      <td>197</td>\n",
       "    </tr>\n",
       "    <tr>\n",
       "      <th>4</th>\n",
       "      <td>0.007269</td>\n",
       "      <td>0.000889</td>\n",
       "      <td>0.006471</td>\n",
       "      <td>0.001507</td>\n",
       "      <td>5</td>\n",
       "      <td>{'kneighborsregressor__n_neighbors': 5}</td>\n",
       "      <td>-0.595685</td>\n",
       "      <td>-0.639402</td>\n",
       "      <td>-0.459905</td>\n",
       "      <td>-0.733519</td>\n",
       "      <td>-0.710124</td>\n",
       "      <td>-0.627727</td>\n",
       "      <td>0.097271</td>\n",
       "      <td>196</td>\n",
       "    </tr>\n",
       "    <tr>\n",
       "      <th>...</th>\n",
       "      <td>...</td>\n",
       "      <td>...</td>\n",
       "      <td>...</td>\n",
       "      <td>...</td>\n",
       "      <td>...</td>\n",
       "      <td>...</td>\n",
       "      <td>...</td>\n",
       "      <td>...</td>\n",
       "      <td>...</td>\n",
       "      <td>...</td>\n",
       "      <td>...</td>\n",
       "      <td>...</td>\n",
       "      <td>...</td>\n",
       "      <td>...</td>\n",
       "    </tr>\n",
       "    <tr>\n",
       "      <th>195</th>\n",
       "      <td>0.007632</td>\n",
       "      <td>0.000370</td>\n",
       "      <td>0.008455</td>\n",
       "      <td>0.000208</td>\n",
       "      <td>196</td>\n",
       "      <td>{'kneighborsregressor__n_neighbors': 196}</td>\n",
       "      <td>-0.562834</td>\n",
       "      <td>-0.623740</td>\n",
       "      <td>-0.441452</td>\n",
       "      <td>-0.640269</td>\n",
       "      <td>-0.621551</td>\n",
       "      <td>-0.577969</td>\n",
       "      <td>0.073132</td>\n",
       "      <td>179</td>\n",
       "    </tr>\n",
       "    <tr>\n",
       "      <th>196</th>\n",
       "      <td>0.007048</td>\n",
       "      <td>0.000633</td>\n",
       "      <td>0.008864</td>\n",
       "      <td>0.000311</td>\n",
       "      <td>197</td>\n",
       "      <td>{'kneighborsregressor__n_neighbors': 197}</td>\n",
       "      <td>-0.563653</td>\n",
       "      <td>-0.623636</td>\n",
       "      <td>-0.441786</td>\n",
       "      <td>-0.640973</td>\n",
       "      <td>-0.621321</td>\n",
       "      <td>-0.578274</td>\n",
       "      <td>0.073054</td>\n",
       "      <td>181</td>\n",
       "    </tr>\n",
       "    <tr>\n",
       "      <th>197</th>\n",
       "      <td>0.007884</td>\n",
       "      <td>0.000509</td>\n",
       "      <td>0.008316</td>\n",
       "      <td>0.000506</td>\n",
       "      <td>198</td>\n",
       "      <td>{'kneighborsregressor__n_neighbors': 198}</td>\n",
       "      <td>-0.563650</td>\n",
       "      <td>-0.623744</td>\n",
       "      <td>-0.442442</td>\n",
       "      <td>-0.640850</td>\n",
       "      <td>-0.621608</td>\n",
       "      <td>-0.578459</td>\n",
       "      <td>0.072836</td>\n",
       "      <td>182</td>\n",
       "    </tr>\n",
       "    <tr>\n",
       "      <th>198</th>\n",
       "      <td>0.007610</td>\n",
       "      <td>0.000319</td>\n",
       "      <td>0.009363</td>\n",
       "      <td>0.000622</td>\n",
       "      <td>199</td>\n",
       "      <td>{'kneighborsregressor__n_neighbors': 199}</td>\n",
       "      <td>-0.563959</td>\n",
       "      <td>-0.623933</td>\n",
       "      <td>-0.443257</td>\n",
       "      <td>-0.641027</td>\n",
       "      <td>-0.621623</td>\n",
       "      <td>-0.578760</td>\n",
       "      <td>0.072574</td>\n",
       "      <td>184</td>\n",
       "    </tr>\n",
       "    <tr>\n",
       "      <th>199</th>\n",
       "      <td>0.007952</td>\n",
       "      <td>0.000874</td>\n",
       "      <td>0.007829</td>\n",
       "      <td>0.000682</td>\n",
       "      <td>200</td>\n",
       "      <td>{'kneighborsregressor__n_neighbors': 200}</td>\n",
       "      <td>-0.563914</td>\n",
       "      <td>-0.623877</td>\n",
       "      <td>-0.443132</td>\n",
       "      <td>-0.641250</td>\n",
       "      <td>-0.621873</td>\n",
       "      <td>-0.578809</td>\n",
       "      <td>0.072684</td>\n",
       "      <td>185</td>\n",
       "    </tr>\n",
       "  </tbody>\n",
       "</table>\n",
       "<p>200 rows × 14 columns</p>\n",
       "</div>"
      ],
      "text/plain": [
       "     mean_fit_time  std_fit_time  mean_score_time  std_score_time  \\\n",
       "0         0.012587      0.003617         0.007865        0.003683   \n",
       "1         0.011089      0.001389         0.008052        0.002835   \n",
       "2         0.015263      0.008271         0.006952        0.001725   \n",
       "3         0.009236      0.001040         0.005645        0.001029   \n",
       "4         0.007269      0.000889         0.006471        0.001507   \n",
       "..             ...           ...              ...             ...   \n",
       "195       0.007632      0.000370         0.008455        0.000208   \n",
       "196       0.007048      0.000633         0.008864        0.000311   \n",
       "197       0.007884      0.000509         0.008316        0.000506   \n",
       "198       0.007610      0.000319         0.009363        0.000622   \n",
       "199       0.007952      0.000874         0.007829        0.000682   \n",
       "\n",
       "    param_kneighborsregressor__n_neighbors  \\\n",
       "0                                        1   \n",
       "1                                        2   \n",
       "2                                        3   \n",
       "3                                        4   \n",
       "4                                        5   \n",
       "..                                     ...   \n",
       "195                                    196   \n",
       "196                                    197   \n",
       "197                                    198   \n",
       "198                                    199   \n",
       "199                                    200   \n",
       "\n",
       "                                        params  split0_test_score  \\\n",
       "0      {'kneighborsregressor__n_neighbors': 1}          -0.913491   \n",
       "1      {'kneighborsregressor__n_neighbors': 2}          -0.873380   \n",
       "2      {'kneighborsregressor__n_neighbors': 3}          -0.720554   \n",
       "3      {'kneighborsregressor__n_neighbors': 4}          -0.610210   \n",
       "4      {'kneighborsregressor__n_neighbors': 5}          -0.595685   \n",
       "..                                         ...                ...   \n",
       "195  {'kneighborsregressor__n_neighbors': 196}          -0.562834   \n",
       "196  {'kneighborsregressor__n_neighbors': 197}          -0.563653   \n",
       "197  {'kneighborsregressor__n_neighbors': 198}          -0.563650   \n",
       "198  {'kneighborsregressor__n_neighbors': 199}          -0.563959   \n",
       "199  {'kneighborsregressor__n_neighbors': 200}          -0.563914   \n",
       "\n",
       "     split1_test_score  split2_test_score  split3_test_score  \\\n",
       "0            -0.785553          -0.643826          -0.916655   \n",
       "1            -0.694137          -0.540398          -0.782090   \n",
       "2            -0.671778          -0.529758          -0.783678   \n",
       "3            -0.656911          -0.478623          -0.740616   \n",
       "4            -0.639402          -0.459905          -0.733519   \n",
       "..                 ...                ...                ...   \n",
       "195          -0.623740          -0.441452          -0.640269   \n",
       "196          -0.623636          -0.441786          -0.640973   \n",
       "197          -0.623744          -0.442442          -0.640850   \n",
       "198          -0.623933          -0.443257          -0.641027   \n",
       "199          -0.623877          -0.443132          -0.641250   \n",
       "\n",
       "     split4_test_score  mean_test_score  std_test_score  rank_test_score  \n",
       "0            -0.839021        -0.819709        0.100666              200  \n",
       "1            -0.786062        -0.735213        0.112706              199  \n",
       "2            -0.747863        -0.690726        0.088390              198  \n",
       "3            -0.697762        -0.636824        0.090139              197  \n",
       "4            -0.710124        -0.627727        0.097271              196  \n",
       "..                 ...              ...             ...              ...  \n",
       "195          -0.621551        -0.577969        0.073132              179  \n",
       "196          -0.621321        -0.578274        0.073054              181  \n",
       "197          -0.621608        -0.578459        0.072836              182  \n",
       "198          -0.621623        -0.578760        0.072574              184  \n",
       "199          -0.621873        -0.578809        0.072684              185  \n",
       "\n",
       "[200 rows x 14 columns]"
      ]
     },
     "execution_count": 64,
     "metadata": {},
     "output_type": "execute_result"
    }
   ],
   "source": [
    "np.random.seed(2019) # DO NOT CHANGE\n",
    "\n",
    "# param_grid = _____\n",
    "# marathon_tuned = GridSearchCV(___, ___, ___, ___, ___)\n",
    "# marathon_results = pd.DataFrame(____.fit(____, ____).____) \n",
    "\n",
    "# your code here\n",
    "param_grid = {\n",
    "    'kneighborsregressor__n_neighbors': range(1, 201, 1)\n",
    "}\n",
    "marathon_tuned = GridSearchCV(\n",
    "    estimator=marathon_pipe,\n",
    "    param_grid=param_grid,\n",
    "    cv=5,\n",
    "    n_jobs=-1,\n",
    "    scoring='neg_root_mean_squared_error'\n",
    ")\n",
    "marathon_results=pd.DataFrame(marathon_tuned.fit(X_train, y_train).cv_results_)\n",
    "marathon_results\n",
    "\n",
    "# Success on binder, but not locally when not using Docker"
   ]
  },
  {
   "cell_type": "code",
   "execution_count": 65,
   "metadata": {
    "deletable": false,
    "editable": false,
    "nbgrader": {
     "cell_type": "code",
     "checksum": "2106a2a1921c57bfbfb5cf921b6201c5",
     "grade": true,
     "grade_id": "cell-29d608ebfdd11366",
     "locked": true,
     "points": 1,
     "schema_version": 3,
     "solution": false
    }
   },
   "outputs": [
    {
     "ename": "AssertionError",
     "evalue": "value of sum(marathon_results.mean_test_score) is not correct (rounded to 2 decimal places)",
     "output_type": "error",
     "traceback": [
      "\u001b[1;31m---------------------------------------------------------------------------\u001b[0m",
      "\u001b[1;31mAssertionError\u001b[0m                            Traceback (most recent call last)",
      "Cell \u001b[1;32mIn[65], line 42\u001b[0m\n\u001b[0;32m     39\u001b[0m \u001b[38;5;28;01massert\u001b[39;00m sha1(\u001b[38;5;28mstr\u001b[39m(\u001b[38;5;28msum\u001b[39m(marathon_results\u001b[38;5;241m.\u001b[39mparam_kneighborsregressor__n_neighbors))\u001b[38;5;241m.\u001b[39mencode(\u001b[38;5;124m\"\u001b[39m\u001b[38;5;124mutf-8\u001b[39m\u001b[38;5;124m\"\u001b[39m)\u001b[38;5;241m+\u001b[39m\u001b[38;5;124mb\u001b[39m\u001b[38;5;124m\"\u001b[39m\u001b[38;5;124m6f27844a5b8fd6d4\u001b[39m\u001b[38;5;124m\"\u001b[39m)\u001b[38;5;241m.\u001b[39mhexdigest() \u001b[38;5;241m==\u001b[39m \u001b[38;5;124m\"\u001b[39m\u001b[38;5;124m6ed42f09c4594af38d15e130cabf237b00ad1fd6\u001b[39m\u001b[38;5;124m\"\u001b[39m, \u001b[38;5;124m\"\u001b[39m\u001b[38;5;124mvalue of sum(marathon_results.param_kneighborsregressor__n_neighbors) is not correct\u001b[39m\u001b[38;5;124m\"\u001b[39m\n\u001b[0;32m     41\u001b[0m \u001b[38;5;28;01massert\u001b[39;00m sha1(\u001b[38;5;28mstr\u001b[39m(\u001b[38;5;28mtype\u001b[39m(\u001b[38;5;28msum\u001b[39m(marathon_results\u001b[38;5;241m.\u001b[39mmean_test_score)))\u001b[38;5;241m.\u001b[39mencode(\u001b[38;5;124m\"\u001b[39m\u001b[38;5;124mutf-8\u001b[39m\u001b[38;5;124m\"\u001b[39m)\u001b[38;5;241m+\u001b[39m\u001b[38;5;124mb\u001b[39m\u001b[38;5;124m\"\u001b[39m\u001b[38;5;124m8a0bca084171c989\u001b[39m\u001b[38;5;124m\"\u001b[39m)\u001b[38;5;241m.\u001b[39mhexdigest() \u001b[38;5;241m==\u001b[39m \u001b[38;5;124m\"\u001b[39m\u001b[38;5;124m3ea34c800a7fdeec378b60fdb01cac7a77699d93\u001b[39m\u001b[38;5;124m\"\u001b[39m, \u001b[38;5;124m\"\u001b[39m\u001b[38;5;124mtype of sum(marathon_results.mean_test_score) is not float. Please make sure it is float and not np.float64, etc. You can cast your value into a float using float()\u001b[39m\u001b[38;5;124m\"\u001b[39m\n\u001b[1;32m---> 42\u001b[0m \u001b[38;5;28;01massert\u001b[39;00m sha1(\u001b[38;5;28mstr\u001b[39m(\u001b[38;5;28mround\u001b[39m(\u001b[38;5;28msum\u001b[39m(marathon_results\u001b[38;5;241m.\u001b[39mmean_test_score), \u001b[38;5;241m2\u001b[39m))\u001b[38;5;241m.\u001b[39mencode(\u001b[38;5;124m\"\u001b[39m\u001b[38;5;124mutf-8\u001b[39m\u001b[38;5;124m\"\u001b[39m)\u001b[38;5;241m+\u001b[39m\u001b[38;5;124mb\u001b[39m\u001b[38;5;124m\"\u001b[39m\u001b[38;5;124m8a0bca084171c989\u001b[39m\u001b[38;5;124m\"\u001b[39m)\u001b[38;5;241m.\u001b[39mhexdigest() \u001b[38;5;241m==\u001b[39m \u001b[38;5;124m\"\u001b[39m\u001b[38;5;124m4fa1a009e7bd6d3e7d7a1187077bff22b60b1378\u001b[39m\u001b[38;5;124m\"\u001b[39m, \u001b[38;5;124m\"\u001b[39m\u001b[38;5;124mvalue of sum(marathon_results.mean_test_score) is not correct (rounded to 2 decimal places)\u001b[39m\u001b[38;5;124m\"\u001b[39m\n\u001b[0;32m     44\u001b[0m \u001b[38;5;28;01massert\u001b[39;00m sha1(\u001b[38;5;28mstr\u001b[39m(\u001b[38;5;28mtype\u001b[39m(\u001b[38;5;28msum\u001b[39m(marathon_results\u001b[38;5;241m.\u001b[39mstd_test_score)))\u001b[38;5;241m.\u001b[39mencode(\u001b[38;5;124m\"\u001b[39m\u001b[38;5;124mutf-8\u001b[39m\u001b[38;5;124m\"\u001b[39m)\u001b[38;5;241m+\u001b[39m\u001b[38;5;124mb\u001b[39m\u001b[38;5;124m\"\u001b[39m\u001b[38;5;124mda945fe25b2f0cd8\u001b[39m\u001b[38;5;124m\"\u001b[39m)\u001b[38;5;241m.\u001b[39mhexdigest() \u001b[38;5;241m==\u001b[39m \u001b[38;5;124m\"\u001b[39m\u001b[38;5;124md56b089353bb904affce8efd8d3987e51cb93e2d\u001b[39m\u001b[38;5;124m\"\u001b[39m, \u001b[38;5;124m\"\u001b[39m\u001b[38;5;124mtype of sum(marathon_results.std_test_score) is not float. Please make sure it is float and not np.float64, etc. You can cast your value into a float using float()\u001b[39m\u001b[38;5;124m\"\u001b[39m\n\u001b[0;32m     45\u001b[0m \u001b[38;5;28;01massert\u001b[39;00m sha1(\u001b[38;5;28mstr\u001b[39m(\u001b[38;5;28mround\u001b[39m(\u001b[38;5;28msum\u001b[39m(marathon_results\u001b[38;5;241m.\u001b[39mstd_test_score), \u001b[38;5;241m2\u001b[39m))\u001b[38;5;241m.\u001b[39mencode(\u001b[38;5;124m\"\u001b[39m\u001b[38;5;124mutf-8\u001b[39m\u001b[38;5;124m\"\u001b[39m)\u001b[38;5;241m+\u001b[39m\u001b[38;5;124mb\u001b[39m\u001b[38;5;124m\"\u001b[39m\u001b[38;5;124mda945fe25b2f0cd8\u001b[39m\u001b[38;5;124m\"\u001b[39m)\u001b[38;5;241m.\u001b[39mhexdigest() \u001b[38;5;241m==\u001b[39m \u001b[38;5;124m\"\u001b[39m\u001b[38;5;124m2b41312bdc40a9d69a3a1f4fb4f52b48f88a9451\u001b[39m\u001b[38;5;124m\"\u001b[39m, \u001b[38;5;124m\"\u001b[39m\u001b[38;5;124mvalue of sum(marathon_results.std_test_score) is not correct (rounded to 2 decimal places)\u001b[39m\u001b[38;5;124m\"\u001b[39m\n",
      "\u001b[1;31mAssertionError\u001b[0m: value of sum(marathon_results.mean_test_score) is not correct (rounded to 2 decimal places)"
     ]
    }
   ],
   "source": [
    "from hashlib import sha1\n",
    "assert sha1(str(type(param_grid is None)).encode(\"utf-8\")+b\"ac51286e19dfadc1\").hexdigest() == \"c75547708c756e5e4a7c0554c4facbabee671c29\", \"type of param_grid is None is not bool. param_grid is None should be a bool\"\n",
    "assert sha1(str(param_grid is None).encode(\"utf-8\")+b\"ac51286e19dfadc1\").hexdigest() == \"cb4afa17e7e937d41b41bcf8a823e1f95b85e305\", \"boolean value of param_grid is None is not correct\"\n",
    "\n",
    "assert sha1(str(type(param_grid)).encode(\"utf-8\")+b\"3685f8732990f683\").hexdigest() == \"c4e0c196a58a0e35b041733185b71c31d6608840\", \"type of type(param_grid) is not correct\"\n",
    "\n",
    "assert sha1(str(type(\"kneighborsregressor__n_neighbors\" in param_grid)).encode(\"utf-8\")+b\"39bdfa935747a1a3\").hexdigest() == \"6f4dd532b3d2e32d8af0401f4d4b877442714ee2\", \"type of \\\"kneighborsregressor__n_neighbors\\\" in param_grid is not bool. \\\"kneighborsregressor__n_neighbors\\\" in param_grid should be a bool\"\n",
    "assert sha1(str(\"kneighborsregressor__n_neighbors\" in param_grid).encode(\"utf-8\")+b\"39bdfa935747a1a3\").hexdigest() == \"c5982e38e4d65db3ebc57354f910665967620951\", \"boolean value of \\\"kneighborsregressor__n_neighbors\\\" in param_grid is not correct\"\n",
    "\n",
    "assert sha1(str(type(sum(i for i in param_grid['kneighborsregressor__n_neighbors']))).encode(\"utf-8\")+b\"32656a1260913b34\").hexdigest() == \"1792a67828219634c7a9952fb25283f681d6561f\", \"type of sum(i for i in param_grid['kneighborsregressor__n_neighbors']) is not int. Please make sure it is int and not np.int64, etc. You can cast your value into an int using int()\"\n",
    "assert sha1(str(sum(i for i in param_grid['kneighborsregressor__n_neighbors'])).encode(\"utf-8\")+b\"32656a1260913b34\").hexdigest() == \"c36fcb72cfed53e1a374aee87e875cb269d52c9a\", \"value of sum(i for i in param_grid['kneighborsregressor__n_neighbors']) is not correct\"\n",
    "\n",
    "assert sha1(str(type(marathon_tuned is None)).encode(\"utf-8\")+b\"b15d8509c42b05a1\").hexdigest() == \"22c7c6ba8b6de8a095c372d7dfe548d1a8b07bc2\", \"type of marathon_tuned is None is not bool. marathon_tuned is None should be a bool\"\n",
    "assert sha1(str(marathon_tuned is None).encode(\"utf-8\")+b\"b15d8509c42b05a1\").hexdigest() == \"bc597e7561737785b0be92eb7814f85672fb98da\", \"boolean value of marathon_tuned is None is not correct\"\n",
    "\n",
    "assert sha1(str(type(marathon_tuned.n_splits_)).encode(\"utf-8\")+b\"0a4922ed6a735d4e\").hexdigest() == \"fd051862bc09e7239a11b789859472678da4e1c4\", \"type of marathon_tuned.n_splits_ is not int. Please make sure it is int and not np.int64, etc. You can cast your value into an int using int()\"\n",
    "assert sha1(str(marathon_tuned.n_splits_).encode(\"utf-8\")+b\"0a4922ed6a735d4e\").hexdigest() == \"966625e5e2db49319e145e56b062587c1d0b5390\", \"value of marathon_tuned.n_splits_ is not correct\"\n",
    "\n",
    "assert sha1(str(type(marathon_tuned.estimator[0])).encode(\"utf-8\")+b\"6f318874183a5c00\").hexdigest() == \"f7cbaefb43c9622b2f0102f6c8c1b7cb29521e3f\", \"type of marathon_tuned.estimator[0] is not correct\"\n",
    "assert sha1(str(marathon_tuned.estimator[0]).encode(\"utf-8\")+b\"6f318874183a5c00\").hexdigest() == \"efa0fe91c27b6470ce5bb9c17ece4dae82efdd2e\", \"value of marathon_tuned.estimator[0] is not correct\"\n",
    "\n",
    "assert sha1(str(type(marathon_tuned.estimator[1])).encode(\"utf-8\")+b\"4b37341c63501016\").hexdigest() == \"b83a6a4ffe44e45c1ec964529e55ae28058d98ba\", \"type of marathon_tuned.estimator[1] is not correct\"\n",
    "assert sha1(str(marathon_tuned.estimator[1]).encode(\"utf-8\")+b\"4b37341c63501016\").hexdigest() == \"1062f9594fb905e1563e90653942d92720af2e9e\", \"value of marathon_tuned.estimator[1] is not correct\"\n",
    "\n",
    "assert sha1(str(type(marathon_tuned.param_grid == param_grid)).encode(\"utf-8\")+b\"0b3416cc2958b588\").hexdigest() == \"201fb7aa21d9cb4eeab2df5c3b4ff3bd1636685d\", \"type of marathon_tuned.param_grid == param_grid is not bool. marathon_tuned.param_grid == param_grid should be a bool\"\n",
    "assert sha1(str(marathon_tuned.param_grid == param_grid).encode(\"utf-8\")+b\"0b3416cc2958b588\").hexdigest() == \"7d9ea5410c6c8698cef7b487a29aa52f25895de7\", \"boolean value of marathon_tuned.param_grid == param_grid is not correct\"\n",
    "\n",
    "assert sha1(str(type(marathon_results is None)).encode(\"utf-8\")+b\"e311b9057da7fb98\").hexdigest() == \"101e537de7dcd3c1dad10f8bd8bd212bf9a5db74\", \"type of marathon_results is None is not bool. marathon_results is None should be a bool\"\n",
    "assert sha1(str(marathon_results is None).encode(\"utf-8\")+b\"e311b9057da7fb98\").hexdigest() == \"ede451510952a7435f489ccbc90ce510743a0978\", \"boolean value of marathon_results is None is not correct\"\n",
    "\n",
    "assert sha1(str(type(marathon_results)).encode(\"utf-8\")+b\"3c42a6367aa82a2d\").hexdigest() == \"02884f9ba3ad6b5c34541471384fb6a4b0569ed8\", \"type of type(marathon_results) is not correct\"\n",
    "\n",
    "assert sha1(str(type(marathon_results.shape)).encode(\"utf-8\")+b\"3fd56339c29fba9a\").hexdigest() == \"831812d6bbc84b23f6a8d3acfc4516f3ffbfeb41\", \"type of marathon_results.shape is not tuple. marathon_results.shape should be a tuple\"\n",
    "assert sha1(str(len(marathon_results.shape)).encode(\"utf-8\")+b\"3fd56339c29fba9a\").hexdigest() == \"ecc3093014a7a1e6456f8a7e82a75ce45f292d9e\", \"length of marathon_results.shape is not correct\"\n",
    "assert sha1(str(sorted(map(str, marathon_results.shape))).encode(\"utf-8\")+b\"3fd56339c29fba9a\").hexdigest() == \"fc8f2b23279bdb3a97d4d0f0a9cfab858087c1eb\", \"values of marathon_results.shape are not correct\"\n",
    "assert sha1(str(marathon_results.shape).encode(\"utf-8\")+b\"3fd56339c29fba9a\").hexdigest() == \"4dc4d7562f5619289cbb21bb399c6392711ffe28\", \"order of elements of marathon_results.shape is not correct\"\n",
    "\n",
    "assert sha1(str(type(sum(marathon_results.param_kneighborsregressor__n_neighbors))).encode(\"utf-8\")+b\"6f27844a5b8fd6d4\").hexdigest() == \"7daf1e97bc22b3b676e746182e0305d5695713cf\", \"type of sum(marathon_results.param_kneighborsregressor__n_neighbors) is not int. Please make sure it is int and not np.int64, etc. You can cast your value into an int using int()\"\n",
    "assert sha1(str(sum(marathon_results.param_kneighborsregressor__n_neighbors)).encode(\"utf-8\")+b\"6f27844a5b8fd6d4\").hexdigest() == \"6ed42f09c4594af38d15e130cabf237b00ad1fd6\", \"value of sum(marathon_results.param_kneighborsregressor__n_neighbors) is not correct\"\n",
    "\n",
    "assert sha1(str(type(sum(marathon_results.mean_test_score))).encode(\"utf-8\")+b\"8a0bca084171c989\").hexdigest() == \"3ea34c800a7fdeec378b60fdb01cac7a77699d93\", \"type of sum(marathon_results.mean_test_score) is not float. Please make sure it is float and not np.float64, etc. You can cast your value into a float using float()\"\n",
    "assert sha1(str(round(sum(marathon_results.mean_test_score), 2)).encode(\"utf-8\")+b\"8a0bca084171c989\").hexdigest() == \"4fa1a009e7bd6d3e7d7a1187077bff22b60b1378\", \"value of sum(marathon_results.mean_test_score) is not correct (rounded to 2 decimal places)\"\n",
    "\n",
    "assert sha1(str(type(sum(marathon_results.std_test_score))).encode(\"utf-8\")+b\"da945fe25b2f0cd8\").hexdigest() == \"d56b089353bb904affce8efd8d3987e51cb93e2d\", \"type of sum(marathon_results.std_test_score) is not float. Please make sure it is float and not np.float64, etc. You can cast your value into a float using float()\"\n",
    "assert sha1(str(round(sum(marathon_results.std_test_score), 2)).encode(\"utf-8\")+b\"da945fe25b2f0cd8\").hexdigest() == \"2b41312bdc40a9d69a3a1f4fb4f52b48f88a9451\", \"value of sum(marathon_results.std_test_score) is not correct (rounded to 2 decimal places)\"\n",
    "\n",
    "print('Success!')"
   ]
  },
  {
   "cell_type": "markdown",
   "metadata": {
    "deletable": false,
    "editable": false,
    "nbgrader": {
     "cell_type": "markdown",
     "checksum": "c7741d04bb74dbf6c518c14d4f9bccb0",
     "grade": false,
     "grade_id": "cell-35eaea9c384c5f6c",
     "locked": true,
     "schema_version": 3,
     "solution": false
    }
   },
   "source": [
    "**Question 8.1**\n",
    "<br> {points: 1}\n",
    "\n",
    "Great! Now find the number of neighbors that will serve as our best $k$ value by calling the `best_params_` attribute of the model `marathon_tuned`. Your answer should simply be a dictionary with one key-value pair. \n",
    "\n",
    "Also, find the score for the best model by calling the `best_score_` attribute of the model `marathon_tuned`. Make sure to convert the negative RMSPE score we used for cross-validation into a positive RMSPE score for reporting by using a `-` sign.\n",
    "\n",
    "*Assign your best parameters to an object called `marathon_min`, and assign your best RMSPE to an object called `marathon_best_RMSPE`.* \n"
   ]
  },
  {
   "cell_type": "code",
   "execution_count": 66,
   "metadata": {
    "deletable": false,
    "nbgrader": {
     "cell_type": "code",
     "checksum": "d86b5cdee75a41caa88010256f2c42ef",
     "grade": false,
     "grade_id": "cell-f9738d45da9e8a77",
     "locked": false,
     "schema_version": 3,
     "solution": true
    }
   },
   "outputs": [],
   "source": [
    "# ___ = ___.best_params_\n",
    "# ___ = -___.best_score_\n",
    "\n",
    "# your code here\n",
    "\n",
    "marathon_min = marathon_tuned.best_params_\n",
    "marathon_best_RMSPE = -marathon_tuned.best_score_"
   ]
  },
  {
   "cell_type": "code",
   "execution_count": 67,
   "metadata": {
    "deletable": false,
    "editable": false,
    "nbgrader": {
     "cell_type": "code",
     "checksum": "17e17fc4f3ff2afda441dfc373e22a4e",
     "grade": false,
     "grade_id": "cell-b0dd9e2eb4743bab",
     "locked": true,
     "schema_version": 3,
     "solution": false,
     "task": false
    }
   },
   "outputs": [
    {
     "data": {
      "text/plain": [
       "0.5671297177446317"
      ]
     },
     "execution_count": 67,
     "metadata": {},
     "output_type": "execute_result"
    }
   ],
   "source": [
    "marathon_best_RMSPE\n",
    "# differ from binder solution at 4th decimal place, but same code"
   ]
  },
  {
   "cell_type": "code",
   "execution_count": 56,
   "metadata": {
    "deletable": false,
    "editable": false,
    "nbgrader": {
     "cell_type": "code",
     "checksum": "30cfc280b4f07044bbe7e16d15087842",
     "grade": true,
     "grade_id": "cell-a1e34e1fb62d79f5",
     "locked": true,
     "points": 1,
     "schema_version": 3,
     "solution": false
    }
   },
   "outputs": [
    {
     "ename": "AssertionError",
     "evalue": "correct keys, but values of marathon_min are not correct",
     "output_type": "error",
     "traceback": [
      "\u001b[1;31m---------------------------------------------------------------------------\u001b[0m",
      "\u001b[1;31mAssertionError\u001b[0m                            Traceback (most recent call last)",
      "Cell \u001b[1;32mIn[56], line 10\u001b[0m\n\u001b[0;32m      8\u001b[0m \u001b[38;5;28;01massert\u001b[39;00m sha1(\u001b[38;5;28mstr\u001b[39m(\u001b[38;5;28mlen\u001b[39m(\u001b[38;5;28mlist\u001b[39m(marathon_min\u001b[38;5;241m.\u001b[39mkeys())))\u001b[38;5;241m.\u001b[39mencode(\u001b[38;5;124m\"\u001b[39m\u001b[38;5;124mutf-8\u001b[39m\u001b[38;5;124m\"\u001b[39m)\u001b[38;5;241m+\u001b[39m\u001b[38;5;124mb\u001b[39m\u001b[38;5;124m\"\u001b[39m\u001b[38;5;124m3d452c863f05d7e2\u001b[39m\u001b[38;5;124m\"\u001b[39m)\u001b[38;5;241m.\u001b[39mhexdigest() \u001b[38;5;241m==\u001b[39m \u001b[38;5;124m\"\u001b[39m\u001b[38;5;124m27fb62619f72d6a1fd339fd9954888a19d01c752\u001b[39m\u001b[38;5;124m\"\u001b[39m, \u001b[38;5;124m\"\u001b[39m\u001b[38;5;124mnumber of keys of marathon_min is not correct\u001b[39m\u001b[38;5;124m\"\u001b[39m\n\u001b[0;32m      9\u001b[0m \u001b[38;5;28;01massert\u001b[39;00m sha1(\u001b[38;5;28mstr\u001b[39m(\u001b[38;5;28msorted\u001b[39m(\u001b[38;5;28mmap\u001b[39m(\u001b[38;5;28mstr\u001b[39m, marathon_min\u001b[38;5;241m.\u001b[39mkeys())))\u001b[38;5;241m.\u001b[39mencode(\u001b[38;5;124m\"\u001b[39m\u001b[38;5;124mutf-8\u001b[39m\u001b[38;5;124m\"\u001b[39m)\u001b[38;5;241m+\u001b[39m\u001b[38;5;124mb\u001b[39m\u001b[38;5;124m\"\u001b[39m\u001b[38;5;124m3d452c863f05d7e2\u001b[39m\u001b[38;5;124m\"\u001b[39m)\u001b[38;5;241m.\u001b[39mhexdigest() \u001b[38;5;241m==\u001b[39m \u001b[38;5;124m\"\u001b[39m\u001b[38;5;124me1a675a00ac8fa521eade33871e333af17f11fb0\u001b[39m\u001b[38;5;124m\"\u001b[39m, \u001b[38;5;124m\"\u001b[39m\u001b[38;5;124mkeys of marathon_min are not correct\u001b[39m\u001b[38;5;124m\"\u001b[39m\n\u001b[1;32m---> 10\u001b[0m \u001b[38;5;28;01massert\u001b[39;00m sha1(\u001b[38;5;28mstr\u001b[39m(\u001b[38;5;28msorted\u001b[39m(\u001b[38;5;28mmap\u001b[39m(\u001b[38;5;28mstr\u001b[39m, marathon_min\u001b[38;5;241m.\u001b[39mvalues())))\u001b[38;5;241m.\u001b[39mencode(\u001b[38;5;124m\"\u001b[39m\u001b[38;5;124mutf-8\u001b[39m\u001b[38;5;124m\"\u001b[39m)\u001b[38;5;241m+\u001b[39m\u001b[38;5;124mb\u001b[39m\u001b[38;5;124m\"\u001b[39m\u001b[38;5;124m3d452c863f05d7e2\u001b[39m\u001b[38;5;124m\"\u001b[39m)\u001b[38;5;241m.\u001b[39mhexdigest() \u001b[38;5;241m==\u001b[39m \u001b[38;5;124m\"\u001b[39m\u001b[38;5;124m1457d3ff2325b1f760e19a6eb0e822d3d027d21d\u001b[39m\u001b[38;5;124m\"\u001b[39m, \u001b[38;5;124m\"\u001b[39m\u001b[38;5;124mcorrect keys, but values of marathon_min are not correct\u001b[39m\u001b[38;5;124m\"\u001b[39m\n\u001b[0;32m     11\u001b[0m \u001b[38;5;28;01massert\u001b[39;00m sha1(\u001b[38;5;28mstr\u001b[39m(marathon_min)\u001b[38;5;241m.\u001b[39mencode(\u001b[38;5;124m\"\u001b[39m\u001b[38;5;124mutf-8\u001b[39m\u001b[38;5;124m\"\u001b[39m)\u001b[38;5;241m+\u001b[39m\u001b[38;5;124mb\u001b[39m\u001b[38;5;124m\"\u001b[39m\u001b[38;5;124m3d452c863f05d7e2\u001b[39m\u001b[38;5;124m\"\u001b[39m)\u001b[38;5;241m.\u001b[39mhexdigest() \u001b[38;5;241m==\u001b[39m \u001b[38;5;124m\"\u001b[39m\u001b[38;5;124mf2a9e45c1a079d4c49d5720d73b684a30aae8bff\u001b[39m\u001b[38;5;124m\"\u001b[39m, \u001b[38;5;124m\"\u001b[39m\u001b[38;5;124mcorrect keys and values, but incorrect correspondence in keys and values of marathon_min\u001b[39m\u001b[38;5;124m\"\u001b[39m\n\u001b[0;32m     13\u001b[0m \u001b[38;5;28;01massert\u001b[39;00m sha1(\u001b[38;5;28mstr\u001b[39m(\u001b[38;5;28mtype\u001b[39m(marathon_best_RMSPE \u001b[38;5;129;01mis\u001b[39;00m \u001b[38;5;28;01mNone\u001b[39;00m))\u001b[38;5;241m.\u001b[39mencode(\u001b[38;5;124m\"\u001b[39m\u001b[38;5;124mutf-8\u001b[39m\u001b[38;5;124m\"\u001b[39m)\u001b[38;5;241m+\u001b[39m\u001b[38;5;124mb\u001b[39m\u001b[38;5;124m\"\u001b[39m\u001b[38;5;124m13428f06297d25a4\u001b[39m\u001b[38;5;124m\"\u001b[39m)\u001b[38;5;241m.\u001b[39mhexdigest() \u001b[38;5;241m==\u001b[39m \u001b[38;5;124m\"\u001b[39m\u001b[38;5;124m4728fad6cbe1f6f326397a9e8b4050096be938cc\u001b[39m\u001b[38;5;124m\"\u001b[39m, \u001b[38;5;124m\"\u001b[39m\u001b[38;5;124mtype of marathon_best_RMSPE is None is not bool. marathon_best_RMSPE is None should be a bool\u001b[39m\u001b[38;5;124m\"\u001b[39m\n",
      "\u001b[1;31mAssertionError\u001b[0m: correct keys, but values of marathon_min are not correct"
     ]
    }
   ],
   "source": [
    "from hashlib import sha1\n",
    "assert sha1(str(type(marathon_min is None)).encode(\"utf-8\")+b\"89b74409ace81fc1\").hexdigest() == \"d68add97b9ee9eb34fda33bb03edad6d45cc25b9\", \"type of marathon_min is None is not bool. marathon_min is None should be a bool\"\n",
    "assert sha1(str(marathon_min is None).encode(\"utf-8\")+b\"89b74409ace81fc1\").hexdigest() == \"98eb48c3bf41d6c22a76d79b5c021e778e9844df\", \"boolean value of marathon_min is None is not correct\"\n",
    "\n",
    "assert sha1(str(type(marathon_min)).encode(\"utf-8\")+b\"c43a67f94d04c65e\").hexdigest() == \"c95a31666411c4f119f22b8df834144224b07395\", \"type of type(marathon_min) is not correct\"\n",
    "\n",
    "assert sha1(str(type(marathon_min)).encode(\"utf-8\")+b\"3d452c863f05d7e2\").hexdigest() == \"27f9671075a526fc12a32c005a809374a589cc05\", \"type of marathon_min is not dict. marathon_min should be a dict\"\n",
    "assert sha1(str(len(list(marathon_min.keys()))).encode(\"utf-8\")+b\"3d452c863f05d7e2\").hexdigest() == \"27fb62619f72d6a1fd339fd9954888a19d01c752\", \"number of keys of marathon_min is not correct\"\n",
    "assert sha1(str(sorted(map(str, marathon_min.keys()))).encode(\"utf-8\")+b\"3d452c863f05d7e2\").hexdigest() == \"e1a675a00ac8fa521eade33871e333af17f11fb0\", \"keys of marathon_min are not correct\"\n",
    "assert sha1(str(sorted(map(str, marathon_min.values()))).encode(\"utf-8\")+b\"3d452c863f05d7e2\").hexdigest() == \"1457d3ff2325b1f760e19a6eb0e822d3d027d21d\", \"correct keys, but values of marathon_min are not correct\"\n",
    "assert sha1(str(marathon_min).encode(\"utf-8\")+b\"3d452c863f05d7e2\").hexdigest() == \"f2a9e45c1a079d4c49d5720d73b684a30aae8bff\", \"correct keys and values, but incorrect correspondence in keys and values of marathon_min\"\n",
    "\n",
    "assert sha1(str(type(marathon_best_RMSPE is None)).encode(\"utf-8\")+b\"13428f06297d25a4\").hexdigest() == \"4728fad6cbe1f6f326397a9e8b4050096be938cc\", \"type of marathon_best_RMSPE is None is not bool. marathon_best_RMSPE is None should be a bool\"\n",
    "assert sha1(str(marathon_best_RMSPE is None).encode(\"utf-8\")+b\"13428f06297d25a4\").hexdigest() == \"1fb8a127b78a8b44e8dc3e552c1afa9649707d3e\", \"boolean value of marathon_best_RMSPE is None is not correct\"\n",
    "\n",
    "assert sha1(str(type(marathon_best_RMSPE)).encode(\"utf-8\")+b\"f842434daa959f65\").hexdigest() == \"a5b322bf227e8991e989db9f95a83ae327b507cc\", \"type of marathon_best_RMSPE is not correct\"\n",
    "assert sha1(str(marathon_best_RMSPE).encode(\"utf-8\")+b\"f842434daa959f65\").hexdigest() == \"8409095d99ddba9f268ca8ec975dab1b3098a395\", \"value of marathon_best_RMSPE is not correct\"\n",
    "\n",
    "print('Success!')"
   ]
  },
  {
   "cell_type": "markdown",
   "metadata": {
    "deletable": false,
    "editable": false,
    "nbgrader": {
     "cell_type": "markdown",
     "checksum": "aa8abd5ef20ec9ab38ae4d8705bd15c7",
     "grade": false,
     "grade_id": "cell-28a414eb59f5ae20",
     "locked": true,
     "schema_version": 3,
     "solution": false
    }
   },
   "source": [
    "**Question 8.2**\n",
    "<br> {points: 1}\n",
    "\n",
    "To assess how well our model might do at predicting on unseen data, we will assess its RMSPE on the test data.\n",
    "\n",
    "We will use the predict function to make predictions on the test data and store the predictions `marathon_prediction`. Remember that `GridSearchCV` automatically refits the model with the best found parameters, so you can use the `predict` method of the `marathon_tuned` variable for this step.\n",
    "\n",
    "Finally, we will compute the RMSPE on the test data using the `mean_squared_error` function. Don't forget to take the square root to obtain the RMSPE!\n",
    "\n",
    "*Note: `scikit-learn` also has a `score` function for the `KNeighborsRegressor`. The `score` function returns the coefficient of determination (often called $R^2$) of the fit, not the RMSPE.*\n",
    "\n",
    "\n",
    "*Assign your answer in an object called `marathon_summary`.*\n"
   ]
  },
  {
   "cell_type": "code",
   "execution_count": 74,
   "metadata": {
    "deletable": false,
    "nbgrader": {
     "cell_type": "code",
     "checksum": "231e9a9aad23a5fac955ed2a8287ebbf",
     "grade": false,
     "grade_id": "cell-a4de6046a0bd5f96",
     "locked": false,
     "schema_version": 3,
     "solution": true
    }
   },
   "outputs": [
    {
     "data": {
      "text/plain": [
       "0.6121005415694545"
      ]
     },
     "execution_count": 74,
     "metadata": {},
     "output_type": "execute_result"
    }
   ],
   "source": [
    "np.random.seed(1234) # DO NOT CHANGE\n",
    "\n",
    "# ___ = ___.___(___)\n",
    "# ___ = mean_squared_error(___, ___)**(1/2)\n",
    "\n",
    "\n",
    "# your code here\n",
    "marathon_prediction = marathon_tuned.predict(X_test)\n",
    "marathon_summary = mean_squared_error(y_test, marathon_prediction)**(1/2)\n",
    "\n",
    "# Success on binder, but not locally when not using Docker\n",
    "marathon_summary # value differ from binder by ~0.001"
   ]
  },
  {
   "cell_type": "code",
   "execution_count": 73,
   "metadata": {
    "deletable": false,
    "editable": false,
    "nbgrader": {
     "cell_type": "code",
     "checksum": "c2a42113336860a444490474daa038b3",
     "grade": true,
     "grade_id": "cell-94fab75dca459b65",
     "locked": true,
     "points": 1,
     "schema_version": 3,
     "solution": false
    }
   },
   "outputs": [
    {
     "ename": "AssertionError",
     "evalue": "value of marathon_prediction.sum() is not correct",
     "output_type": "error",
     "traceback": [
      "\u001b[1;31m---------------------------------------------------------------------------\u001b[0m",
      "\u001b[1;31mAssertionError\u001b[0m                            Traceback (most recent call last)",
      "Cell \u001b[1;32mIn[73], line 8\u001b[0m\n\u001b[0;32m      5\u001b[0m \u001b[38;5;28;01massert\u001b[39;00m sha1(\u001b[38;5;28mstr\u001b[39m(\u001b[38;5;28mtype\u001b[39m(marathon_prediction))\u001b[38;5;241m.\u001b[39mencode(\u001b[38;5;124m\"\u001b[39m\u001b[38;5;124mutf-8\u001b[39m\u001b[38;5;124m\"\u001b[39m)\u001b[38;5;241m+\u001b[39m\u001b[38;5;124mb\u001b[39m\u001b[38;5;124m\"\u001b[39m\u001b[38;5;124m70d61d653715010d\u001b[39m\u001b[38;5;124m\"\u001b[39m)\u001b[38;5;241m.\u001b[39mhexdigest() \u001b[38;5;241m==\u001b[39m \u001b[38;5;124m\"\u001b[39m\u001b[38;5;124ma22cad4a6723c3ac3f356075210ce28da7bdd9e3\u001b[39m\u001b[38;5;124m\"\u001b[39m, \u001b[38;5;124m\"\u001b[39m\u001b[38;5;124mtype of type(marathon_prediction) is not correct\u001b[39m\u001b[38;5;124m\"\u001b[39m\n\u001b[0;32m      7\u001b[0m \u001b[38;5;28;01massert\u001b[39;00m sha1(\u001b[38;5;28mstr\u001b[39m(\u001b[38;5;28mtype\u001b[39m(marathon_prediction\u001b[38;5;241m.\u001b[39msum()))\u001b[38;5;241m.\u001b[39mencode(\u001b[38;5;124m\"\u001b[39m\u001b[38;5;124mutf-8\u001b[39m\u001b[38;5;124m\"\u001b[39m)\u001b[38;5;241m+\u001b[39m\u001b[38;5;124mb\u001b[39m\u001b[38;5;124m\"\u001b[39m\u001b[38;5;124ma48c0a042ee411dc\u001b[39m\u001b[38;5;124m\"\u001b[39m)\u001b[38;5;241m.\u001b[39mhexdigest() \u001b[38;5;241m==\u001b[39m \u001b[38;5;124m\"\u001b[39m\u001b[38;5;124mb7b5e303d5e3e6713cc317d1621d3a1b9fa2192b\u001b[39m\u001b[38;5;124m\"\u001b[39m, \u001b[38;5;124m\"\u001b[39m\u001b[38;5;124mtype of marathon_prediction.sum() is not correct\u001b[39m\u001b[38;5;124m\"\u001b[39m\n\u001b[1;32m----> 8\u001b[0m \u001b[38;5;28;01massert\u001b[39;00m sha1(\u001b[38;5;28mstr\u001b[39m(marathon_prediction\u001b[38;5;241m.\u001b[39msum())\u001b[38;5;241m.\u001b[39mencode(\u001b[38;5;124m\"\u001b[39m\u001b[38;5;124mutf-8\u001b[39m\u001b[38;5;124m\"\u001b[39m)\u001b[38;5;241m+\u001b[39m\u001b[38;5;124mb\u001b[39m\u001b[38;5;124m\"\u001b[39m\u001b[38;5;124ma48c0a042ee411dc\u001b[39m\u001b[38;5;124m\"\u001b[39m)\u001b[38;5;241m.\u001b[39mhexdigest() \u001b[38;5;241m==\u001b[39m \u001b[38;5;124m\"\u001b[39m\u001b[38;5;124mbaad84c0d593bbd3905236eb410081108f3653d7\u001b[39m\u001b[38;5;124m\"\u001b[39m, \u001b[38;5;124m\"\u001b[39m\u001b[38;5;124mvalue of marathon_prediction.sum() is not correct\u001b[39m\u001b[38;5;124m\"\u001b[39m\n\u001b[0;32m     10\u001b[0m \u001b[38;5;28;01massert\u001b[39;00m sha1(\u001b[38;5;28mstr\u001b[39m(\u001b[38;5;28mtype\u001b[39m(marathon_summary \u001b[38;5;129;01mis\u001b[39;00m \u001b[38;5;28;01mNone\u001b[39;00m))\u001b[38;5;241m.\u001b[39mencode(\u001b[38;5;124m\"\u001b[39m\u001b[38;5;124mutf-8\u001b[39m\u001b[38;5;124m\"\u001b[39m)\u001b[38;5;241m+\u001b[39m\u001b[38;5;124mb\u001b[39m\u001b[38;5;124m\"\u001b[39m\u001b[38;5;124me65da5319128d53d\u001b[39m\u001b[38;5;124m\"\u001b[39m)\u001b[38;5;241m.\u001b[39mhexdigest() \u001b[38;5;241m==\u001b[39m \u001b[38;5;124m\"\u001b[39m\u001b[38;5;124m471affe75d523d447a8cd8b184b6de4dde317bb7\u001b[39m\u001b[38;5;124m\"\u001b[39m, \u001b[38;5;124m\"\u001b[39m\u001b[38;5;124mtype of marathon_summary is None is not bool. marathon_summary is None should be a bool\u001b[39m\u001b[38;5;124m\"\u001b[39m\n\u001b[0;32m     11\u001b[0m \u001b[38;5;28;01massert\u001b[39;00m sha1(\u001b[38;5;28mstr\u001b[39m(marathon_summary \u001b[38;5;129;01mis\u001b[39;00m \u001b[38;5;28;01mNone\u001b[39;00m)\u001b[38;5;241m.\u001b[39mencode(\u001b[38;5;124m\"\u001b[39m\u001b[38;5;124mutf-8\u001b[39m\u001b[38;5;124m\"\u001b[39m)\u001b[38;5;241m+\u001b[39m\u001b[38;5;124mb\u001b[39m\u001b[38;5;124m\"\u001b[39m\u001b[38;5;124me65da5319128d53d\u001b[39m\u001b[38;5;124m\"\u001b[39m)\u001b[38;5;241m.\u001b[39mhexdigest() \u001b[38;5;241m==\u001b[39m \u001b[38;5;124m\"\u001b[39m\u001b[38;5;124ma2a4a4cbb7d59628c4d9f4fb2b5212cf8b5a75c7\u001b[39m\u001b[38;5;124m\"\u001b[39m, \u001b[38;5;124m\"\u001b[39m\u001b[38;5;124mboolean value of marathon_summary is None is not correct\u001b[39m\u001b[38;5;124m\"\u001b[39m\n",
      "\u001b[1;31mAssertionError\u001b[0m: value of marathon_prediction.sum() is not correct"
     ]
    }
   ],
   "source": [
    "from hashlib import sha1\n",
    "assert sha1(str(type(marathon_prediction is None)).encode(\"utf-8\")+b\"66c5d2362cc12aa8\").hexdigest() == \"69771114ed329624b3c0a61e7a2097e31e5d9443\", \"type of marathon_prediction is None is not bool. marathon_prediction is None should be a bool\"\n",
    "assert sha1(str(marathon_prediction is None).encode(\"utf-8\")+b\"66c5d2362cc12aa8\").hexdigest() == \"e64f50d11939c6632c04b3d09e7c8c26b46c8305\", \"boolean value of marathon_prediction is None is not correct\"\n",
    "\n",
    "assert sha1(str(type(marathon_prediction)).encode(\"utf-8\")+b\"70d61d653715010d\").hexdigest() == \"a22cad4a6723c3ac3f356075210ce28da7bdd9e3\", \"type of type(marathon_prediction) is not correct\"\n",
    "\n",
    "assert sha1(str(type(marathon_prediction.sum())).encode(\"utf-8\")+b\"a48c0a042ee411dc\").hexdigest() == \"b7b5e303d5e3e6713cc317d1621d3a1b9fa2192b\", \"type of marathon_prediction.sum() is not correct\"\n",
    "assert sha1(str(marathon_prediction.sum()).encode(\"utf-8\")+b\"a48c0a042ee411dc\").hexdigest() == \"baad84c0d593bbd3905236eb410081108f3653d7\", \"value of marathon_prediction.sum() is not correct\"\n",
    "\n",
    "assert sha1(str(type(marathon_summary is None)).encode(\"utf-8\")+b\"e65da5319128d53d\").hexdigest() == \"471affe75d523d447a8cd8b184b6de4dde317bb7\", \"type of marathon_summary is None is not bool. marathon_summary is None should be a bool\"\n",
    "assert sha1(str(marathon_summary is None).encode(\"utf-8\")+b\"e65da5319128d53d\").hexdigest() == \"a2a4a4cbb7d59628c4d9f4fb2b5212cf8b5a75c7\", \"boolean value of marathon_summary is None is not correct\"\n",
    "\n",
    "assert sha1(str(type(marathon_summary)).encode(\"utf-8\")+b\"1d53380f977eb377\").hexdigest() == \"d82544a55069068f75a49d3e717d7713b00b7158\", \"type of marathon_summary is not correct\"\n",
    "assert sha1(str(marathon_summary).encode(\"utf-8\")+b\"1d53380f977eb377\").hexdigest() == \"a72662cfe3d6c64eb7babdc26f98733d460ac513\", \"value of marathon_summary is not correct\"\n",
    "\n",
    "print('Success!')"
   ]
  },
  {
   "cell_type": "markdown",
   "metadata": {
    "deletable": false,
    "editable": false,
    "nbgrader": {
     "cell_type": "markdown",
     "checksum": "916cfae57b2ffacb39d11610af802680",
     "grade": false,
     "grade_id": "cell-dffef3173aff9b72",
     "locked": true,
     "schema_version": 3,
     "solution": false,
     "task": false
    }
   },
   "source": [
    "What does this RMSPE mean? RMSPE is measured in the units of the target/response variable, so it can sometimes be a bit hard to interpret. In this case, we have a helpful reference to compare against: we know that a typical marathon race time is somewhere between 3 - 5 hours. So this model allows us to predict a runner's race time up to about +/-0.6 of an hour, or +/- 36 minutes. Relative the total race time, this margin of error is not *fantastic*, but not *terrible* either. We can certainly use the model to determine roughly whether an athlete will have a bad, good, or excellent race time, but probably cannot reliably distinguish between athletes of a similar caliber.\n",
    "\n",
    "For now, let’s consider this approach to thinking about RMSPE from our testing data set: as long as it's not significantly worse than the cross-validation RMSPE of our best model (**Question 8.1**), then we can say that we’re not doing too much worse on the test data than we did on the training data. In future courses on statistical/machine learning, you will learn more about how to interpret RMSPE from testing data and other ways to assess models.  "
   ]
  },
  {
   "cell_type": "markdown",
   "metadata": {
    "deletable": false,
    "editable": false,
    "nbgrader": {
     "cell_type": "markdown",
     "checksum": "7a897402fd703010fe30e1523087aac7",
     "grade": false,
     "grade_id": "cell-ed97bb769cc923e5",
     "locked": true,
     "schema_version": 3,
     "solution": false,
     "task": false
    }
   },
   "source": [
    "**Question 8.3**\n",
    "<br>{points: 1}\n",
    "\n",
    "The RMSPE from our testing data set is *much worse* than the cross-validation RMSPE of our best model. \n",
    "\n",
    "*Assign your answer to an object named `answer8_3`. Make sure your answer is either `True` or `False`.*"
   ]
  },
  {
   "cell_type": "code",
   "execution_count": 77,
   "metadata": {
    "deletable": false,
    "nbgrader": {
     "cell_type": "code",
     "checksum": "26215e2be064314a108b179eedbf1505",
     "grade": false,
     "grade_id": "cell-24ccc13552b0fff1",
     "locked": false,
     "schema_version": 3,
     "solution": true,
     "task": false
    }
   },
   "outputs": [],
   "source": [
    "# your code here\n",
    "answer8_3 = False # Subjective how you define much worse... "
   ]
  },
  {
   "cell_type": "code",
   "execution_count": 78,
   "metadata": {
    "deletable": false,
    "editable": false,
    "nbgrader": {
     "cell_type": "code",
     "checksum": "a544eeae18b92e27ab4ee7de95c793bf",
     "grade": true,
     "grade_id": "cell-f39ed1223c189ec6",
     "locked": true,
     "points": 1,
     "schema_version": 3,
     "solution": false,
     "task": false
    }
   },
   "outputs": [
    {
     "name": "stdout",
     "output_type": "stream",
     "text": [
      "Success!\n"
     ]
    }
   ],
   "source": [
    "from hashlib import sha1\n",
    "assert sha1(str(type(answer8_3)).encode(\"utf-8\")+b\"619d7675bb1cda0a\").hexdigest() == \"a9ccb5d8c47a5fb3f9ba27ab226d82e6b7fd263a\", \"type of answer8_3 is not bool. answer8_3 should be a bool\"\n",
    "assert sha1(str(answer8_3).encode(\"utf-8\")+b\"619d7675bb1cda0a\").hexdigest() == \"af0fb4c3014dc077ee4ab63e0d3b8039bd9bfd2a\", \"boolean value of answer8_3 is not correct\"\n",
    "\n",
    "print('Success!')"
   ]
  },
  {
   "cell_type": "markdown",
   "metadata": {
    "deletable": false,
    "editable": false,
    "nbgrader": {
     "cell_type": "markdown",
     "checksum": "91c371815f8521c3f43e3f0bfe407f84",
     "grade": false,
     "grade_id": "cell-f527fba0cc1ca89d",
     "locked": true,
     "schema_version": 3,
     "solution": false
    }
   },
   "source": [
    "**Question 9.0**\n",
    "<br> {points: 1}\n",
    "\n",
    "Let's visualize what the relationship between `max` and `time_hrs` looks like with our best $k$ value to ultimately explore how the $k$ value affects $k$-nn regression.\n",
    "\n",
    "To do so, use the `predict` function on `marathon_tuned` to use the model with the best $K$ value to create predictions for the `marathon_training` data. Then, add the column of predictions to the `marathon_training` data frame using the `assign` function. Name the resulting data frame `marathon_preds` and the new column `predictions`.\n",
    "\n",
    "Next, create a scatterplot with the marathon time (y-axis) against the maximum distance run per week (x-axis) from `marathon_preds`. Use `mark_circle` with an opacity of 0.4 to avoid overplotting. Assign your plot to a variable called `marathon_plot`. **Plot the predictions as a black line over the data points.** Remember the fundamentals of effective visualizations such as having a human-readable axes titles. \n",
    "\n",
    "*Assign the data frame from the first part to a variable called `marathon_preds`, and the plot to a variable called `marathon_plot`.*"
   ]
  },
  {
   "cell_type": "code",
   "execution_count": 84,
   "metadata": {
    "deletable": false,
    "nbgrader": {
     "cell_type": "code",
     "checksum": "e740adac0cff3905a99f571b55640aee",
     "grade": false,
     "grade_id": "cell-e623a65f902a7e98",
     "locked": false,
     "schema_version": 3,
     "solution": true
    }
   },
   "outputs": [
    {
     "data": {
      "text/html": [
       "\n",
       "<style>\n",
       "  #altair-viz-5912bd7c5a8d4626ada3e1567f431a91.vega-embed {\n",
       "    width: 100%;\n",
       "    display: flex;\n",
       "  }\n",
       "\n",
       "  #altair-viz-5912bd7c5a8d4626ada3e1567f431a91.vega-embed details,\n",
       "  #altair-viz-5912bd7c5a8d4626ada3e1567f431a91.vega-embed details summary {\n",
       "    position: relative;\n",
       "  }\n",
       "</style>\n",
       "<div id=\"altair-viz-5912bd7c5a8d4626ada3e1567f431a91\"></div>\n",
       "<script type=\"text/javascript\">\n",
       "  var VEGA_DEBUG = (typeof VEGA_DEBUG == \"undefined\") ? {} : VEGA_DEBUG;\n",
       "  (function(spec, embedOpt){\n",
       "    let outputDiv = document.currentScript.previousElementSibling;\n",
       "    if (outputDiv.id !== \"altair-viz-5912bd7c5a8d4626ada3e1567f431a91\") {\n",
       "      outputDiv = document.getElementById(\"altair-viz-5912bd7c5a8d4626ada3e1567f431a91\");\n",
       "    }\n",
       "    const paths = {\n",
       "      \"vega\": \"https://cdn.jsdelivr.net/npm/vega@5?noext\",\n",
       "      \"vega-lib\": \"https://cdn.jsdelivr.net/npm/vega-lib?noext\",\n",
       "      \"vega-lite\": \"https://cdn.jsdelivr.net/npm/vega-lite@5.8.0?noext\",\n",
       "      \"vega-embed\": \"https://cdn.jsdelivr.net/npm/vega-embed@6?noext\",\n",
       "    };\n",
       "\n",
       "    function maybeLoadScript(lib, version) {\n",
       "      var key = `${lib.replace(\"-\", \"\")}_version`;\n",
       "      return (VEGA_DEBUG[key] == version) ?\n",
       "        Promise.resolve(paths[lib]) :\n",
       "        new Promise(function(resolve, reject) {\n",
       "          var s = document.createElement('script');\n",
       "          document.getElementsByTagName(\"head\")[0].appendChild(s);\n",
       "          s.async = true;\n",
       "          s.onload = () => {\n",
       "            VEGA_DEBUG[key] = version;\n",
       "            return resolve(paths[lib]);\n",
       "          };\n",
       "          s.onerror = () => reject(`Error loading script: ${paths[lib]}`);\n",
       "          s.src = paths[lib];\n",
       "        });\n",
       "    }\n",
       "\n",
       "    function showError(err) {\n",
       "      outputDiv.innerHTML = `<div class=\"error\" style=\"color:red;\">${err}</div>`;\n",
       "      throw err;\n",
       "    }\n",
       "\n",
       "    function displayChart(vegaEmbed) {\n",
       "      vegaEmbed(outputDiv, spec, embedOpt)\n",
       "        .catch(err => showError(`Javascript Error: ${err.message}<br>This usually means there's a typo in your chart specification. See the javascript console for the full traceback.`));\n",
       "    }\n",
       "\n",
       "    if(typeof define === \"function\" && define.amd) {\n",
       "      requirejs.config({paths});\n",
       "      require([\"vega-embed\"], displayChart, err => showError(`Error loading script: ${err.message}`));\n",
       "    } else {\n",
       "      maybeLoadScript(\"vega\", \"5\")\n",
       "        .then(() => maybeLoadScript(\"vega-lite\", \"5.8.0\"))\n",
       "        .then(() => maybeLoadScript(\"vega-embed\", \"6\"))\n",
       "        .catch(showError)\n",
       "        .then(() => displayChart(vegaEmbed));\n",
       "    }\n",
       "  })({\"config\": {\"view\": {\"continuousWidth\": 300, \"continuousHeight\": 300}}, \"layer\": [{\"mark\": {\"type\": \"circle\", \"opacity\": 0.4}, \"encoding\": {\"x\": {\"field\": \"max\", \"title\": \"Max Distance\", \"type\": \"quantitative\"}, \"y\": {\"field\": \"time_hrs\", \"title\": \"Time (hrs)\", \"type\": \"quantitative\"}}}, {\"mark\": {\"type\": \"line\", \"color\": \"black\"}, \"encoding\": {\"x\": {\"field\": \"max\", \"type\": \"quantitative\"}, \"y\": {\"field\": \"predictions\", \"title\": \"Predictions\", \"type\": \"quantitative\"}}}], \"data\": {\"name\": \"data-55c6dc7f3c0d9e02d00529f4c1b9c376\"}, \"$schema\": \"https://vega.github.io/schema/vega-lite/v5.8.0.json\", \"datasets\": {\"data-55c6dc7f3c0d9e02d00529f4c1b9c376\": [{\"age\": 42, \"bmi\": 24.6258564, \"female\": 0, \"footwear\": 2, \"group\": 1, \"injury\": 1, \"mf_d\": 42195, \"mf_di\": 2, \"mf_ti\": 15009, \"max\": 57.0, \"sprint\": 0, \"mf_s\": 2.8113132120727564, \"time_hrs\": 4.1691666666666665, \"predictions\": 3.5725550766283525}, {\"age\": 52, \"bmi\": 26.71614075, \"female\": 0, \"footwear\": 2, \"group\": 3, \"injury\": 2, \"mf_d\": 42195, \"mf_di\": 2, \"mf_ti\": 16055, \"max\": 40.0, \"sprint\": 0, \"mf_s\": 2.628153223294924, \"time_hrs\": 4.459722222222222, \"predictions\": 4.159741379310345}, {\"age\": 51, \"bmi\": 25.74573708, \"female\": 1, \"footwear\": 2, \"group\": 1, \"injury\": 1, \"mf_d\": 42195, \"mf_di\": 3, \"mf_ti\": 16578, \"max\": 40.0, \"sprint\": 0, \"mf_s\": 2.545240680419833, \"time_hrs\": 4.605, \"predictions\": 4.159741379310345}, {\"age\": 52, \"bmi\": 18.95542717, \"female\": 1, \"footwear\": 2, \"group\": 3, \"injury\": 1, \"mf_d\": 42195, \"mf_di\": 3, \"mf_ti\": 17283, \"max\": 55.0, \"sprint\": 0, \"mf_s\": 2.4414164207602846, \"time_hrs\": 4.800833333333333, \"predictions\": 3.686264367816092}, {\"age\": 33, \"bmi\": 23.93687057, \"female\": 0, \"footwear\": 2, \"group\": 1, \"injury\": 2, \"mf_d\": 42195, \"mf_di\": 4, \"mf_ti\": 8797, \"max\": 104.0, \"sprint\": 1, \"mf_s\": 4.79652154143458, \"time_hrs\": 2.443611111111111, \"predictions\": 3.0408333333333335}, {\"age\": 38, \"bmi\": 20.63082695, \"female\": 0, \"footwear\": 2, \"group\": 2, \"injury\": 1, \"mf_d\": 42195, \"mf_di\": 3, \"mf_ti\": 13142, \"max\": 52.0, \"sprint\": 1, \"mf_s\": 3.2106985238167707, \"time_hrs\": 3.650555555555556, \"predictions\": 3.6874545019157092}, {\"age\": 36, \"bmi\": 21.51694489, \"female\": 1, \"footwear\": 2, \"group\": 2, \"injury\": 1, \"mf_d\": 42195, \"mf_di\": 3, \"mf_ti\": 11400, \"max\": 35.0, \"sprint\": 0, \"mf_s\": 3.701315789473684, \"time_hrs\": 3.1666666666666665, \"predictions\": 4.160141283524904}, {\"age\": 28, \"bmi\": 20.24406624, \"female\": 1, \"footwear\": 2, \"group\": 1, \"injury\": 1, \"mf_d\": 42195, \"mf_di\": 3, \"mf_ti\": 12851, \"max\": 60.0, \"sprint\": 1, \"mf_s\": 3.2834020698778303, \"time_hrs\": 3.5697222222222225, \"predictions\": 3.5166403256704983}, {\"age\": 35, \"bmi\": 23.5923233, \"female\": 0, \"footwear\": 2, \"group\": 1, \"injury\": 2, \"mf_d\": 42195, \"mf_di\": 4, \"mf_ti\": 10295, \"max\": 60.0, \"sprint\": 1, \"mf_s\": 4.098591549295775, \"time_hrs\": 2.8597222222222225, \"predictions\": 3.5166403256704983}, {\"age\": 42, \"bmi\": 22.03365898, \"female\": 1, \"footwear\": 2, \"group\": 2, \"injury\": 1, \"mf_d\": 42195, \"mf_di\": 2, \"mf_ti\": 12619, \"max\": 38.0, \"sprint\": 1, \"mf_s\": 3.3437673349710755, \"time_hrs\": 3.5052777777777777, \"predictions\": 4.119810823754789}, {\"age\": 44, \"bmi\": 23.84960938, \"female\": 0, \"footwear\": 1, \"group\": 3, \"injury\": 1, \"mf_d\": 42195, \"mf_di\": 2, \"mf_ti\": 11544, \"max\": 55.0, \"sprint\": 1, \"mf_s\": 3.65514553014553, \"time_hrs\": 3.2066666666666666, \"predictions\": 3.686264367816092}, {\"age\": 44, \"bmi\": 18.87354088, \"female\": 1, \"footwear\": 1, \"group\": 1, \"injury\": 1, \"mf_d\": 42195, \"mf_di\": 2, \"mf_ti\": 10077, \"max\": 104.0, \"sprint\": 1, \"mf_s\": 4.187258112533492, \"time_hrs\": 2.7991666666666664, \"predictions\": 3.0408333333333335}, {\"age\": 31, \"bmi\": 22.47685242, \"female\": 1, \"footwear\": 2, \"group\": 3, \"injury\": 2, \"mf_d\": 42195, \"mf_di\": 3, \"mf_ti\": 13610, \"max\": 42.0, \"sprint\": 0, \"mf_s\": 3.100293901542983, \"time_hrs\": 3.780555555555556, \"predictions\": 4.123378831417624}, {\"age\": 33, \"bmi\": 25.52073479, \"female\": 0, \"footwear\": 2, \"group\": 1, \"injury\": 3, \"mf_d\": 42195, \"mf_di\": 2, \"mf_ti\": 20714, \"max\": 15.0, \"sprint\": 0, \"mf_s\": 2.037028096939268, \"time_hrs\": 5.7538888888888895, \"predictions\": 4.21658764367816}, {\"age\": 28, \"bmi\": 23.98990059, \"female\": 0, \"footwear\": 2, \"group\": 3, \"injury\": 1, \"mf_d\": 42195, \"mf_di\": 4, \"mf_ti\": 11130, \"max\": 53.0, \"sprint\": 1, \"mf_s\": 3.7911051212938007, \"time_hrs\": 3.091666666666667, \"predictions\": 3.691305076628353}, {\"age\": 28, \"bmi\": 20.44668007, \"female\": 0, \"footwear\": 2, \"group\": 1, \"injury\": 1, \"mf_d\": 42195, \"mf_di\": 3, \"mf_ti\": 8966, \"max\": 115.0, \"sprint\": 0, \"mf_s\": 4.706111978585769, \"time_hrs\": 2.4905555555555554, \"predictions\": 3.0299521072796933}, {\"age\": 28, \"bmi\": 19.92750168, \"female\": 1, \"footwear\": 2, \"group\": 3, \"injury\": 3, \"mf_d\": 42195, \"mf_di\": 2, \"mf_ti\": 12151, \"max\": 55.0, \"sprint\": 0, \"mf_s\": 3.4725536992840094, \"time_hrs\": 3.375277777777778, \"predictions\": 3.686264367816092}, {\"age\": 49, \"bmi\": 26.61252975, \"female\": 0, \"footwear\": 2, \"group\": 1, \"injury\": 1, \"mf_d\": 42195, \"mf_di\": 2, \"mf_ti\": 15587, \"max\": 51.0, \"sprint\": 1, \"mf_s\": 2.707063578623212, \"time_hrs\": 4.329722222222222, \"predictions\": 3.717646072796935}, {\"age\": 37, \"bmi\": 23.84960938, \"female\": 0, \"footwear\": 2, \"group\": 3, \"injury\": 1, \"mf_d\": 42195, \"mf_di\": 3, \"mf_ti\": 12566, \"max\": 42.0, \"sprint\": 1, \"mf_s\": 3.357870444055388, \"time_hrs\": 3.4905555555555554, \"predictions\": 4.123378831417624}, {\"age\": 50, \"bmi\": 23.14814949, \"female\": 0, \"footwear\": 2, \"group\": 1, \"injury\": 2, \"mf_d\": 42195, \"mf_di\": 3, \"mf_ti\": 14433, \"max\": 35.0, \"sprint\": 0, \"mf_s\": 2.923508626065267, \"time_hrs\": 4.009166666666667, \"predictions\": 4.160141283524904}, {\"age\": 42, \"bmi\": 29.09090996, \"female\": 0, \"footwear\": 2, \"group\": 1, \"injury\": 1, \"mf_d\": 42195, \"mf_di\": 2, \"mf_ti\": 12613, \"max\": 25.0, \"sprint\": 0, \"mf_s\": 3.3453579640053914, \"time_hrs\": 3.5036111111111112, \"predictions\": 4.241721743295019}, {\"age\": 41, \"bmi\": 23.74960518, \"female\": 0, \"footwear\": 2, \"group\": 3, \"injury\": 1, \"mf_d\": 42195, \"mf_di\": 3, \"mf_ti\": 13680, \"max\": 50.0, \"sprint\": 0, \"mf_s\": 3.084429824561404, \"time_hrs\": 3.8, \"predictions\": 3.724133141762452}, {\"age\": 33, \"bmi\": 19.70556259, \"female\": 0, \"footwear\": 2, \"group\": 2, \"injury\": 1, \"mf_d\": 42195, \"mf_di\": 4, \"mf_ti\": 9279, \"max\": 80.0, \"sprint\": 1, \"mf_s\": 4.547365017782089, \"time_hrs\": 2.5775, \"predictions\": 3.111103927203065}, {\"age\": 25, \"bmi\": 20.47117615, \"female\": 0, \"footwear\": 2, \"group\": 3, \"injury\": 2, \"mf_d\": 42195, \"mf_di\": 3, \"mf_ti\": 10560, \"max\": 105.0, \"sprint\": 1, \"mf_s\": 3.995738636363636, \"time_hrs\": 2.933333333333333, \"predictions\": 3.044475574712644}, {\"age\": 43, \"bmi\": 23.90596962, \"female\": 0, \"footwear\": 1, \"group\": 3, \"injury\": 2, \"mf_d\": 42195, \"mf_di\": 2, \"mf_ti\": 13242, \"max\": 62.0, \"sprint\": 1, \"mf_s\": 3.18645219755324, \"time_hrs\": 3.678333333333333, \"predictions\": 3.3822006704980847}, {\"age\": 32, \"bmi\": 22.51829529, \"female\": 0, \"footwear\": 2, \"group\": 2, \"injury\": 1, \"mf_d\": 42195, \"mf_di\": 3, \"mf_ti\": 10968, \"max\": 82.0, \"sprint\": 1, \"mf_s\": 3.8471006564551424, \"time_hrs\": 3.046666666666667, \"predictions\": 3.1093247126436774}, {\"age\": 26, \"bmi\": 19.44146538, \"female\": 1, \"footwear\": 2, \"group\": 3, \"injury\": 1, \"mf_d\": 42195, \"mf_di\": 2, \"mf_ti\": 16226, \"max\": 30.0, \"sprint\": 0, \"mf_s\": 2.6004560581782323, \"time_hrs\": 4.507222222222223, \"predictions\": 4.217677203065134}, {\"age\": 25, \"bmi\": 22.35768318, \"female\": 0, \"footwear\": 2, \"group\": 2, \"injury\": 2, \"mf_d\": 42195, \"mf_di\": 2, \"mf_ti\": 9301, \"max\": 80.0, \"sprint\": 0, \"mf_s\": 4.536608966777766, \"time_hrs\": 2.5836111111111117, \"predictions\": 3.111103927203065}, {\"age\": 34, \"bmi\": 24.5955925, \"female\": 1, \"footwear\": 2, \"group\": 3, \"injury\": 1, \"mf_d\": 42195, \"mf_di\": 4, \"mf_ti\": 17100, \"max\": 30.0, \"sprint\": 0, \"mf_s\": 2.4675438596491226, \"time_hrs\": 4.75, \"predictions\": 4.217677203065134}, {\"age\": 30, \"bmi\": 22.01950264, \"female\": 0, \"footwear\": 2, \"group\": 1, \"injury\": 1, \"mf_d\": 42195, \"mf_di\": 3, \"mf_ti\": 12315, \"max\": 32.0, \"sprint\": 0, \"mf_s\": 3.4263093788063337, \"time_hrs\": 3.4208333333333334, \"predictions\": 4.216985153256704}, {\"age\": 27, \"bmi\": 23.08238602, \"female\": 1, \"footwear\": 2, \"group\": 2, \"injury\": 3, \"mf_d\": 42195, \"mf_di\": 4, \"mf_ti\": 18514, \"max\": 36.5, \"sprint\": 0, \"mf_s\": 2.27908609700767, \"time_hrs\": 5.142777777777778, \"predictions\": 4.108426724137931}, {\"age\": 41, \"bmi\": 22.02581596, \"female\": 0, \"footwear\": 2, \"group\": 2, \"injury\": 1, \"mf_d\": 42195, \"mf_di\": 2, \"mf_ti\": 11752, \"max\": 44.0, \"sprint\": 1, \"mf_s\": 3.5904526889040165, \"time_hrs\": 3.2644444444444445, \"predictions\": 4.023323754789272}, {\"age\": 37, \"bmi\": 22.80591202, \"female\": 0, \"footwear\": 2, \"group\": 3, \"injury\": 1, \"mf_d\": 42195, \"mf_di\": 3, \"mf_ti\": 10920, \"max\": 50.0, \"sprint\": 1, \"mf_s\": 3.864010989010989, \"time_hrs\": 3.033333333333333, \"predictions\": 3.724133141762452}, {\"age\": 28, \"bmi\": 28.40193176, \"female\": 1, \"footwear\": 2, \"group\": 2, \"injury\": 1, \"mf_d\": 42195, \"mf_di\": 3, \"mf_ti\": 16800, \"max\": 40.0, \"sprint\": 0, \"mf_s\": 2.5116071428571427, \"time_hrs\": 4.666666666666667, \"predictions\": 4.159741379310345}, {\"age\": 38, \"bmi\": 28.11374855, \"female\": 0, \"footwear\": 2, \"group\": 1, \"injury\": 1, \"mf_d\": 42195, \"mf_di\": 3, \"mf_ti\": 16280, \"max\": 55.0, \"sprint\": 0, \"mf_s\": 2.591830466830467, \"time_hrs\": 4.522222222222222, \"predictions\": 3.686264367816092}, {\"age\": 33, \"bmi\": 22.0466156, \"female\": 0, \"footwear\": 2, \"group\": 3, \"injury\": 1, \"mf_d\": 42195, \"mf_di\": 3, \"mf_ti\": 11055, \"max\": 35.0, \"sprint\": 1, \"mf_s\": 3.8168249660786975, \"time_hrs\": 3.0708333333333333, \"predictions\": 4.160141283524904}, {\"age\": 51, \"bmi\": 23.45083618, \"female\": 0, \"footwear\": 2, \"group\": 3, \"injury\": 1, \"mf_d\": 42195, \"mf_di\": 3, \"mf_ti\": 12504, \"max\": 56.0, \"sprint\": 1, \"mf_s\": 3.3745201535508635, \"time_hrs\": 3.4733333333333336, \"predictions\": 3.592777777777778}, {\"age\": 27, \"bmi\": 20.91937065, \"female\": 0, \"footwear\": 2, \"group\": 1, \"injury\": 1, \"mf_d\": 42195, \"mf_di\": 3, \"mf_ti\": 9665, \"max\": 85.0, \"sprint\": 0, \"mf_s\": 4.365752715985515, \"time_hrs\": 2.6847222222222222, \"predictions\": 3.101120689655173}, {\"age\": 49, \"bmi\": 20.91937065, \"female\": 1, \"footwear\": 1, \"group\": 1, \"injury\": 1, \"mf_d\": 42195, \"mf_di\": 3, \"mf_ti\": 17520, \"max\": 38.0, \"sprint\": 0, \"mf_s\": 2.408390410958904, \"time_hrs\": 4.866666666666666, \"predictions\": 4.119810823754789}, {\"age\": 41, \"bmi\": 21.85183334, \"female\": 1, \"footwear\": 1, \"group\": 2, \"injury\": 2, \"mf_d\": 42195, \"mf_di\": 3, \"mf_ti\": 15362, \"max\": 40.0, \"sprint\": 0, \"mf_s\": 2.7467126676214035, \"time_hrs\": 4.267222222222222, \"predictions\": 4.159741379310345}, {\"age\": 38, \"bmi\": 28.2003727, \"female\": 0, \"footwear\": 2, \"group\": 1, \"injury\": 2, \"mf_d\": 42195, \"mf_di\": 4, \"mf_ti\": 11880, \"max\": 45.0, \"sprint\": 0, \"mf_s\": 3.551767676767677, \"time_hrs\": 3.3, \"predictions\": 4.001913314176246}, {\"age\": 37, \"bmi\": 24.52615929, \"female\": 0, \"footwear\": 2, \"group\": 3, \"injury\": 1, \"mf_d\": 42195, \"mf_di\": 3, \"mf_ti\": 11262, \"max\": 75.0, \"sprint\": 0, \"mf_s\": 3.746670218433671, \"time_hrs\": 3.128333333333333, \"predictions\": 3.175766283524904}, {\"age\": 39, \"bmi\": 22.84348106, \"female\": 0, \"footwear\": 2, \"group\": 1, \"injury\": 1, \"mf_d\": 42195, \"mf_di\": 2, \"mf_ti\": 11148, \"max\": 40.0, \"sprint\": 1, \"mf_s\": 3.784983853606028, \"time_hrs\": 3.0966666666666667, \"predictions\": 4.159741379310345}, {\"age\": 39, \"bmi\": 21.37291145, \"female\": 0, \"footwear\": 2, \"group\": 1, \"injury\": 2, \"mf_d\": 42195, \"mf_di\": 3, \"mf_ti\": 9601, \"max\": 130.0, \"sprint\": 1, \"mf_s\": 4.394854702635143, \"time_hrs\": 2.666944444444445, \"predictions\": 3.0299521072796933}, {\"age\": 32, \"bmi\": 24.48979568, \"female\": 0, \"footwear\": 2, \"group\": 3, \"injury\": 1, \"mf_d\": 42195, \"mf_di\": 2, \"mf_ti\": 9787, \"max\": 83.0, \"sprint\": 0, \"mf_s\": 4.311331357923777, \"time_hrs\": 2.718611111111111, \"predictions\": 3.113477011494253}, {\"age\": 34, \"bmi\": 20.58569527, \"female\": 0, \"footwear\": 2, \"group\": 3, \"injury\": 1, \"mf_d\": 42195, \"mf_di\": 2, \"mf_ti\": 14280, \"max\": 45.0, \"sprint\": 0, \"mf_s\": 2.9548319327731094, \"time_hrs\": 3.966666666666667, \"predictions\": 4.001913314176246}, {\"age\": 47, \"bmi\": 21.38588142, \"female\": 0, \"footwear\": 2, \"group\": 2, \"injury\": 2, \"mf_d\": 42195, \"mf_di\": 3, \"mf_ti\": 9827, \"max\": 60.0, \"sprint\": 1, \"mf_s\": 4.293782436145314, \"time_hrs\": 2.729722222222222, \"predictions\": 3.5166403256704983}, {\"age\": 29, \"bmi\": 24.22145271, \"female\": 0, \"footwear\": 2, \"group\": 1, \"injury\": 3, \"mf_d\": 42195, \"mf_di\": 4, \"mf_ti\": 12225, \"max\": 60.0, \"sprint\": 1, \"mf_s\": 3.4515337423312884, \"time_hrs\": 3.395833333333333, \"predictions\": 3.5166403256704983}, {\"age\": 24, \"bmi\": 19.47665596, \"female\": 0, \"footwear\": 2, \"group\": 2, \"injury\": 1, \"mf_d\": 42195, \"mf_di\": 3, \"mf_ti\": 12432, \"max\": 45.0, \"sprint\": 1, \"mf_s\": 3.3940637065637067, \"time_hrs\": 3.453333333333333, \"predictions\": 4.001913314176246}, {\"age\": 34, \"bmi\": 22.60793114, \"female\": 0, \"footwear\": 2, \"group\": 1, \"injury\": 1, \"mf_d\": 42195, \"mf_di\": 3, \"mf_ti\": 10694, \"max\": 88.0, \"sprint\": 1, \"mf_s\": 3.945670469422106, \"time_hrs\": 2.9705555555555554, \"predictions\": 3.0766235632183903}, {\"age\": 35, \"bmi\": 24.04452515, \"female\": 0, \"footwear\": 2, \"group\": 3, \"injury\": 1, \"mf_d\": 42195, \"mf_di\": 3, \"mf_ti\": 10861, \"max\": 74.0, \"sprint\": 0, \"mf_s\": 3.8850013810882977, \"time_hrs\": 3.016944444444445, \"predictions\": 3.1943199233716473}, {\"age\": 61, \"bmi\": 23.4375, \"female\": 0, \"footwear\": 2, \"group\": 2, \"injury\": 1, \"mf_d\": 42195, \"mf_di\": 3, \"mf_ti\": 13811, \"max\": 65.0, \"sprint\": 0, \"mf_s\": 3.0551734124972847, \"time_hrs\": 3.836388888888889, \"predictions\": 3.3246743295019154}, {\"age\": 29, \"bmi\": 23.82097435, \"female\": 1, \"footwear\": 1, \"group\": 3, \"injury\": 2, \"mf_d\": 42195, \"mf_di\": 2, \"mf_ti\": 11646, \"max\": 60.0, \"sprint\": 1, \"mf_s\": 3.623132405976301, \"time_hrs\": 3.235, \"predictions\": 3.5166403256704983}, {\"age\": 32, \"bmi\": 29.38775444, \"female\": 0, \"footwear\": 2, \"group\": 1, \"injury\": 1, \"mf_d\": 42195, \"mf_di\": 4, \"mf_ti\": 15077, \"max\": 45.0, \"sprint\": 0, \"mf_s\": 2.798633680440406, \"time_hrs\": 4.188055555555556, \"predictions\": 4.001913314176246}, {\"age\": 34, \"bmi\": 25.74573708, \"female\": 0, \"footwear\": 2, \"group\": 1, \"injury\": 1, \"mf_d\": 42195, \"mf_di\": 4, \"mf_ti\": 13185, \"max\": 45.0, \"sprint\": 0, \"mf_s\": 3.200227531285552, \"time_hrs\": 3.6625, \"predictions\": 4.001913314176246}, {\"age\": 33, \"bmi\": 18.32382584, \"female\": 1, \"footwear\": 2, \"group\": 3, \"injury\": 1, \"mf_d\": 42195, \"mf_di\": 4, \"mf_ti\": 11966, \"max\": 50.0, \"sprint\": 0, \"mf_s\": 3.5262410162126026, \"time_hrs\": 3.323888888888889, \"predictions\": 3.724133141762452}, {\"age\": 44, \"bmi\": 23.42873192, \"female\": 0, \"footwear\": 2, \"group\": 2, \"injury\": 1, \"mf_d\": 42195, \"mf_di\": 4, \"mf_ti\": 15310, \"max\": 49.0, \"sprint\": 0, \"mf_s\": 2.756041802743305, \"time_hrs\": 4.252777777777777, \"predictions\": 3.7339319923371654}, {\"age\": 28, \"bmi\": 22.93917274, \"female\": 0, \"footwear\": 2, \"group\": 1, \"injury\": 1, \"mf_d\": 42195, \"mf_di\": 3, \"mf_ti\": 15960, \"max\": 40.0, \"sprint\": 0, \"mf_s\": 2.643796992481203, \"time_hrs\": 4.433333333333334, \"predictions\": 4.159741379310345}, {\"age\": 32, \"bmi\": 22.72727203, \"female\": 1, \"footwear\": 2, \"group\": 3, \"injury\": 1, \"mf_d\": 42195, \"mf_di\": 4, \"mf_ti\": 14700, \"max\": 55.0, \"sprint\": 1, \"mf_s\": 2.870408163265306, \"time_hrs\": 4.083333333333333, \"predictions\": 3.686264367816092}, {\"age\": 33, \"bmi\": 29.68460083, \"female\": 0, \"footwear\": 2, \"group\": 2, \"injury\": 2, \"mf_d\": 42195, \"mf_di\": 3, \"mf_ti\": 14872, \"max\": 22.0, \"sprint\": 0, \"mf_s\": 2.83721086605702, \"time_hrs\": 4.131111111111111, \"predictions\": 4.230174808429118}, {\"age\": 46, \"bmi\": 20.86985588, \"female\": 1, \"footwear\": 2, \"group\": 1, \"injury\": 1, \"mf_d\": 42195, \"mf_di\": 2, \"mf_ti\": 15600, \"max\": 50.0, \"sprint\": 1, \"mf_s\": 2.704807692307692, \"time_hrs\": 4.333333333333333, \"predictions\": 3.724133141762452}, {\"age\": 39, \"bmi\": 21.70493698, \"female\": 1, \"footwear\": 2, \"group\": 2, \"injury\": 1, \"mf_d\": 42195, \"mf_di\": 4, \"mf_ti\": 15971, \"max\": 38.0, \"sprint\": 0, \"mf_s\": 2.641976081647987, \"time_hrs\": 4.436388888888889, \"predictions\": 4.119810823754789}, {\"age\": 37, \"bmi\": 19.24729347, \"female\": 1, \"footwear\": 2, \"group\": 2, \"injury\": 1, \"mf_d\": 42195, \"mf_di\": 3, \"mf_ti\": 14820, \"max\": 100.0, \"sprint\": 1, \"mf_s\": 2.847165991902834, \"time_hrs\": 4.116666666666666, \"predictions\": 3.0483524904214554}, {\"age\": 29, \"bmi\": 22.22222137, \"female\": 1, \"footwear\": 2, \"group\": 1, \"injury\": 1, \"mf_d\": 42195, \"mf_di\": 2, \"mf_ti\": 11276, \"max\": 73.0, \"sprint\": 0, \"mf_s\": 3.7420184462575374, \"time_hrs\": 3.1322222222222225, \"predictions\": 3.188261494252874}, {\"age\": 30, \"bmi\": 21.91380501, \"female\": 0, \"footwear\": 2, \"group\": 1, \"injury\": 1, \"mf_d\": 42195, \"mf_di\": 3, \"mf_ti\": 12029, \"max\": 54.0, \"sprint\": 0, \"mf_s\": 3.5077728822013468, \"time_hrs\": 3.3413888888888885, \"predictions\": 3.7049928160919543}, {\"age\": 36, \"bmi\": 23.5923233, \"female\": 0, \"footwear\": 1, \"group\": 1, \"injury\": 2, \"mf_d\": 42195, \"mf_di\": 4, \"mf_ti\": 10050, \"max\": 70.0, \"sprint\": 1, \"mf_s\": 4.198507462686568, \"time_hrs\": 2.7916666666666665, \"predictions\": 3.2448730842911884}, {\"age\": 34, \"bmi\": 23.80480194, \"female\": 1, \"footwear\": 2, \"group\": 2, \"injury\": 1, \"mf_d\": 42195, \"mf_di\": 2, \"mf_ti\": 16050, \"max\": 35.0, \"sprint\": 1, \"mf_s\": 2.628971962616822, \"time_hrs\": 4.458333333333333, \"predictions\": 4.160141283524904}, {\"age\": 41, \"bmi\": 20.73756218, \"female\": 0, \"footwear\": 2, \"group\": 1, \"injury\": 2, \"mf_d\": 42195, \"mf_di\": 3, \"mf_ti\": 9807, \"max\": 95.0, \"sprint\": 0, \"mf_s\": 4.302539002753136, \"time_hrs\": 2.724166666666666, \"predictions\": 3.057856800766283}, {\"age\": 41, \"bmi\": 26.7320137, \"female\": 0, \"footwear\": 2, \"group\": 1, \"injury\": 3, \"mf_d\": 42195, \"mf_di\": 2, \"mf_ti\": 13032, \"max\": 22.0, \"sprint\": 0, \"mf_s\": 3.2377992633517496, \"time_hrs\": 3.62, \"predictions\": 4.230174808429118}, {\"age\": 33, \"bmi\": 20.58569527, \"female\": 0, \"footwear\": 2, \"group\": 3, \"injury\": 1, \"mf_d\": 42195, \"mf_di\": 2, \"mf_ti\": 10491, \"max\": 50.0, \"sprint\": 1, \"mf_s\": 4.022018873319989, \"time_hrs\": 2.9141666666666666, \"predictions\": 3.724133141762452}, {\"age\": 47, \"bmi\": 23.70931816, \"female\": 0, \"footwear\": 2, \"group\": 1, \"injury\": 3, \"mf_d\": 42195, \"mf_di\": 2, \"mf_ti\": 14122, \"max\": 33.0, \"sprint\": 0, \"mf_s\": 2.987891233536326, \"time_hrs\": 3.9227777777777777, \"predictions\": 4.216362547892721}, {\"age\": 30, \"bmi\": 23.88304138, \"female\": 0, \"footwear\": 2, \"group\": 1, \"injury\": 1, \"mf_d\": 42195, \"mf_di\": 3, \"mf_ti\": 11700, \"max\": 32.0, \"sprint\": 0, \"mf_s\": 3.606410256410257, \"time_hrs\": 3.25, \"predictions\": 4.216985153256704}, {\"age\": 43, \"bmi\": 25.24778557, \"female\": 0, \"footwear\": 2, \"group\": 2, \"injury\": 1, \"mf_d\": 42195, \"mf_di\": 3, \"mf_ti\": 17400, \"max\": 36.0, \"sprint\": 0, \"mf_s\": 2.425, \"time_hrs\": 4.833333333333333, \"predictions\": 4.124861111111111}, {\"age\": 32, \"bmi\": 21.37073326, \"female\": 1, \"footwear\": 2, \"group\": 1, \"injury\": 1, \"mf_d\": 42195, \"mf_di\": 4, \"mf_ti\": 12795, \"max\": 74.0, \"sprint\": 1, \"mf_s\": 3.2977725674091443, \"time_hrs\": 3.5541666666666667, \"predictions\": 3.1943199233716473}, {\"age\": 48, \"bmi\": 22.4551754, \"female\": 1, \"footwear\": 2, \"group\": 1, \"injury\": 3, \"mf_d\": 42195, \"mf_di\": 2, \"mf_ti\": 18667, \"max\": 14.0, \"sprint\": 1, \"mf_s\": 2.2604060641774253, \"time_hrs\": 5.185277777777778, \"predictions\": 4.21658764367816}, {\"age\": 34, \"bmi\": 23.97780609, \"female\": 1, \"footwear\": 2, \"group\": 3, \"injury\": 1, \"mf_d\": 42195, \"mf_di\": 3, \"mf_ti\": 15958, \"max\": 45.0, \"sprint\": 0, \"mf_s\": 2.644128336884321, \"time_hrs\": 4.432777777777777, \"predictions\": 4.001913314176246}, {\"age\": 32, \"bmi\": 22.3776226, \"female\": 1, \"footwear\": 2, \"group\": 1, \"injury\": 1, \"mf_d\": 42195, \"mf_di\": 3, \"mf_ti\": 12971, \"max\": 80.0, \"sprint\": 1, \"mf_s\": 3.253025981034616, \"time_hrs\": 3.603055555555556, \"predictions\": 3.111103927203065}, {\"age\": 30, \"bmi\": 23.37472534, \"female\": 0, \"footwear\": 2, \"group\": 2, \"injury\": 3, \"mf_d\": 42195, \"mf_di\": 4, \"mf_ti\": 14136, \"max\": 45.0, \"sprint\": 1, \"mf_s\": 2.984932088285229, \"time_hrs\": 3.9266666666666663, \"predictions\": 4.001913314176246}, {\"age\": 31, \"bmi\": 23.80480194, \"female\": 1, \"footwear\": 2, \"group\": 3, \"injury\": 1, \"mf_d\": 42195, \"mf_di\": 3, \"mf_ti\": 14329, \"max\": 62.0, \"sprint\": 1, \"mf_s\": 2.9447274757484823, \"time_hrs\": 3.980277777777778, \"predictions\": 3.3822006704980847}, {\"age\": 33, \"bmi\": 21.5213356, \"female\": 1, \"footwear\": 2, \"group\": 1, \"injury\": 1, \"mf_d\": 42195, \"mf_di\": 4, \"mf_ti\": 15780, \"max\": 40.0, \"sprint\": 0, \"mf_s\": 2.673954372623574, \"time_hrs\": 4.383333333333334, \"predictions\": 4.159741379310345}, {\"age\": 27, \"bmi\": 20.77414703, \"female\": 1, \"footwear\": 2, \"group\": 2, \"injury\": 1, \"mf_d\": 42195, \"mf_di\": 2, \"mf_ti\": 12095, \"max\": 70.0, \"sprint\": 1, \"mf_s\": 3.488631665977677, \"time_hrs\": 3.3597222222222225, \"predictions\": 3.2448730842911884}, {\"age\": 27, \"bmi\": 20.20201874, \"female\": 1, \"footwear\": 2, \"group\": 2, \"injury\": 2, \"mf_d\": 42195, \"mf_di\": 2, \"mf_ti\": 14100, \"max\": 50.0, \"sprint\": 1, \"mf_s\": 2.9925531914893617, \"time_hrs\": 3.9166666666666665, \"predictions\": 3.724133141762452}, {\"age\": 55, \"bmi\": 26.6554451, \"female\": 0, \"footwear\": 1, \"group\": 3, \"injury\": 3, \"mf_d\": 42195, \"mf_di\": 2, \"mf_ti\": 16410, \"max\": 41.0, \"sprint\": 0, \"mf_s\": 2.5712979890310788, \"time_hrs\": 4.558333333333334, \"predictions\": 4.134236111111111}, {\"age\": 41, \"bmi\": 26.37949944, \"female\": 1, \"footwear\": 1, \"group\": 2, \"injury\": 1, \"mf_d\": 42195, \"mf_di\": 4, \"mf_ti\": 19800, \"max\": 25.0, \"sprint\": 0, \"mf_s\": 2.131060606060606, \"time_hrs\": 5.5, \"predictions\": 4.241721743295019}, {\"age\": 37, \"bmi\": 22.56029701, \"female\": 0, \"footwear\": 1, \"group\": 2, \"injury\": 1, \"mf_d\": 42195, \"mf_di\": 3, \"mf_ti\": 13502, \"max\": 45.0, \"sprint\": 1, \"mf_s\": 3.1250925788772035, \"time_hrs\": 3.750555555555556, \"predictions\": 4.001913314176246}, {\"age\": 35, \"bmi\": 24.56541252, \"female\": 0, \"footwear\": 1, \"group\": 2, \"injury\": 2, \"mf_d\": 42195, \"mf_di\": 3, \"mf_ti\": 10640, \"max\": 60.0, \"sprint\": 1, \"mf_s\": 3.965695488721805, \"time_hrs\": 2.955555555555556, \"predictions\": 3.5166403256704983}, {\"age\": 50, \"bmi\": 26.7323513, \"female\": 0, \"footwear\": 2, \"group\": 3, \"injury\": 2, \"mf_d\": 42195, \"mf_di\": 4, \"mf_ti\": 13444, \"max\": 65.0, \"sprint\": 1, \"mf_s\": 3.1385748289199644, \"time_hrs\": 3.734444444444444, \"predictions\": 3.3246743295019154}, {\"age\": 44, \"bmi\": 20.86985588, \"female\": 1, \"footwear\": 2, \"group\": 1, \"injury\": 1, \"mf_d\": 42195, \"mf_di\": 4, \"mf_ti\": 15458, \"max\": 50.0, \"sprint\": 0, \"mf_s\": 2.7296545478069607, \"time_hrs\": 4.293888888888889, \"predictions\": 3.724133141762452}, {\"age\": 33, \"bmi\": 25.96887398, \"female\": 0, \"footwear\": 2, \"group\": 2, \"injury\": 1, \"mf_d\": 42195, \"mf_di\": 3, \"mf_ti\": 12510, \"max\": 47.0, \"sprint\": 1, \"mf_s\": 3.3729016786570742, \"time_hrs\": 3.475, \"predictions\": 3.7892840038314173}, {\"age\": 27, \"bmi\": 21.83592224, \"female\": 0, \"footwear\": 2, \"group\": 2, \"injury\": 1, \"mf_d\": 42195, \"mf_di\": 2, \"mf_ti\": 13920, \"max\": 60.0, \"sprint\": 1, \"mf_s\": 3.03125, \"time_hrs\": 3.8666666666666663, \"predictions\": 3.5166403256704983}, {\"age\": 31, \"bmi\": 22.31223869, \"female\": 0, \"footwear\": 2, \"group\": 1, \"injury\": 1, \"mf_d\": 42195, \"mf_di\": 4, \"mf_ti\": 12084, \"max\": 59.0, \"sprint\": 1, \"mf_s\": 3.49180734856008, \"time_hrs\": 3.356666666666667, \"predictions\": 3.5429693486590037}, {\"age\": 27, \"bmi\": 24.09897804, \"female\": 1, \"footwear\": 1, \"group\": 2, \"injury\": 2, \"mf_d\": 42195, \"mf_di\": 3, \"mf_ti\": 13860, \"max\": 45.0, \"sprint\": 0, \"mf_s\": 3.044372294372294, \"time_hrs\": 3.85, \"predictions\": 4.001913314176246}, {\"age\": 21, \"bmi\": 21.24975014, \"female\": 0, \"footwear\": 2, \"group\": 3, \"injury\": 2, \"mf_d\": 42195, \"mf_di\": 4, \"mf_ti\": 12300, \"max\": 45.0, \"sprint\": 0, \"mf_s\": 3.430487804878049, \"time_hrs\": 3.4166666666666665, \"predictions\": 4.001913314176246}, {\"age\": 41, \"bmi\": 28.44444466, \"female\": 0, \"footwear\": 2, \"group\": 3, \"injury\": 1, \"mf_d\": 42195, \"mf_di\": 4, \"mf_ti\": 14100, \"max\": 50.0, \"sprint\": 0, \"mf_s\": 2.9925531914893617, \"time_hrs\": 3.9166666666666665, \"predictions\": 3.724133141762452}, {\"age\": 46, \"bmi\": 21.89049911, \"female\": 1, \"footwear\": 2, \"group\": 2, \"injury\": 1, \"mf_d\": 42195, \"mf_di\": 3, \"mf_ti\": 13812, \"max\": 35.0, \"sprint\": 1, \"mf_s\": 3.054952215464813, \"time_hrs\": 3.8366666666666656, \"predictions\": 4.160141283524904}, {\"age\": 36, \"bmi\": 25.25252724, \"female\": 0, \"footwear\": 1, \"group\": 3, \"injury\": 1, \"mf_d\": 42195, \"mf_di\": 2, \"mf_ti\": 15060, \"max\": 28.0, \"sprint\": 0, \"mf_s\": 2.801792828685259, \"time_hrs\": 4.183333333333334, \"predictions\": 4.22896551724138}, {\"age\": 36, \"bmi\": 21.38588142, \"female\": 1, \"footwear\": 1, \"group\": 1, \"injury\": 1, \"mf_d\": 42195, \"mf_di\": 2, \"mf_ti\": 17310, \"max\": 40.0, \"sprint\": 0, \"mf_s\": 2.437608318890814, \"time_hrs\": 4.808333333333334, \"predictions\": 4.159741379310345}, {\"age\": 32, \"bmi\": 21.75764084, \"female\": 1, \"footwear\": 2, \"group\": 2, \"injury\": 2, \"mf_d\": 42195, \"mf_di\": 3, \"mf_ti\": 12338, \"max\": 45.0, \"sprint\": 1, \"mf_s\": 3.419922191603177, \"time_hrs\": 3.427222222222222, \"predictions\": 4.001913314176246}, {\"age\": 28, \"bmi\": 23.94907188, \"female\": 0, \"footwear\": 2, \"group\": 2, \"injury\": 2, \"mf_d\": 42195, \"mf_di\": 3, \"mf_ti\": 12289, \"max\": 34.0, \"sprint\": 1, \"mf_s\": 3.433558466921637, \"time_hrs\": 3.413611111111111, \"predictions\": 4.179231321839081}, {\"age\": 30, \"bmi\": 23.37423897, \"female\": 1, \"footwear\": 2, \"group\": 3, \"injury\": 1, \"mf_d\": 42195, \"mf_di\": 4, \"mf_ti\": 13530, \"max\": 60.0, \"sprint\": 0, \"mf_s\": 3.1186252771618626, \"time_hrs\": 3.758333333333333, \"predictions\": 3.5166403256704983}, {\"age\": 46, \"bmi\": 27.03786278, \"female\": 0, \"footwear\": 2, \"group\": 2, \"injury\": 1, \"mf_d\": 42195, \"mf_di\": 3, \"mf_ti\": 14378, \"max\": 40.0, \"sprint\": 1, \"mf_s\": 2.934691890388093, \"time_hrs\": 3.993888888888889, \"predictions\": 4.159741379310345}, {\"age\": 34, \"bmi\": 25.04382706, \"female\": 0, \"footwear\": 2, \"group\": 3, \"injury\": 1, \"mf_d\": 42195, \"mf_di\": 4, \"mf_ti\": 10780, \"max\": 50.0, \"sprint\": 0, \"mf_s\": 3.914192949907235, \"time_hrs\": 2.9944444444444445, \"predictions\": 3.724133141762452}, {\"age\": 33, \"bmi\": 21.06158638, \"female\": 1, \"footwear\": 2, \"group\": 2, \"injury\": 1, \"mf_d\": 42195, \"mf_di\": 3, \"mf_ti\": 12481, \"max\": 50.0, \"sprint\": 1, \"mf_s\": 3.3807387228587453, \"time_hrs\": 3.4669444444444446, \"predictions\": 3.724133141762452}, {\"age\": 35, \"bmi\": 20.24147606, \"female\": 1, \"footwear\": 2, \"group\": 1, \"injury\": 1, \"mf_d\": 42195, \"mf_di\": 2, \"mf_ti\": 10610, \"max\": 65.0, \"sprint\": 0, \"mf_s\": 3.976908576814326, \"time_hrs\": 2.9472222222222224, \"predictions\": 3.3246743295019154}, {\"age\": 48, \"bmi\": 25.67717934, \"female\": 0, \"footwear\": 2, \"group\": 3, \"injury\": 1, \"mf_d\": 42195, \"mf_di\": 2, \"mf_ti\": 16140, \"max\": 20.0, \"sprint\": 0, \"mf_s\": 2.6143122676579926, \"time_hrs\": 4.483333333333333, \"predictions\": 4.230174808429118}, {\"age\": 23, \"bmi\": 19.17613602, \"female\": 1, \"footwear\": 2, \"group\": 2, \"injury\": 3, \"mf_d\": 42195, \"mf_di\": 3, \"mf_ti\": 15276, \"max\": 45.0, \"sprint\": 0, \"mf_s\": 2.762175962293794, \"time_hrs\": 4.243333333333333, \"predictions\": 4.001913314176246}, {\"age\": 33, \"bmi\": 21.74523163, \"female\": 0, \"footwear\": 1, \"group\": 3, \"injury\": 1, \"mf_d\": 42195, \"mf_di\": 4, \"mf_ti\": 11673, \"max\": 52.0, \"sprint\": 0, \"mf_s\": 3.614751991775893, \"time_hrs\": 3.2425, \"predictions\": 3.6874545019157092}, {\"age\": 53, \"bmi\": 23.37423897, \"female\": 0, \"footwear\": 2, \"group\": 3, \"injury\": 1, \"mf_d\": 42195, \"mf_di\": 2, \"mf_ti\": 13321, \"max\": 47.0, \"sprint\": 0, \"mf_s\": 3.167554988364237, \"time_hrs\": 3.700277777777778, \"predictions\": 3.7892840038314173}, {\"age\": 46, \"bmi\": 24.96845627, \"female\": 0, \"footwear\": 1, \"group\": 3, \"injury\": 1, \"mf_d\": 42195, \"mf_di\": 4, \"mf_ti\": 14199, \"max\": 45.0, \"sprint\": 1, \"mf_s\": 2.971688147052609, \"time_hrs\": 3.944166666666667, \"predictions\": 4.001913314176246}, {\"age\": 34, \"bmi\": 22.26345062, \"female\": 0, \"footwear\": 2, \"group\": 1, \"injury\": 1, \"mf_d\": 42195, \"mf_di\": 3, \"mf_ti\": 10425, \"max\": 60.0, \"sprint\": 0, \"mf_s\": 4.047482014388489, \"time_hrs\": 2.895833333333333, \"predictions\": 3.5166403256704983}, {\"age\": 31, \"bmi\": 22.60793114, \"female\": 0, \"footwear\": 2, \"group\": 1, \"injury\": 1, \"mf_d\": 42195, \"mf_di\": 4, \"mf_ti\": 11426, \"max\": 60.0, \"sprint\": 1, \"mf_s\": 3.692893401015228, \"time_hrs\": 3.173888888888889, \"predictions\": 3.5166403256704983}, {\"age\": 29, \"bmi\": 20.95170403, \"female\": 1, \"footwear\": 2, \"group\": 3, \"injury\": 3, \"mf_d\": 42195, \"mf_di\": 4, \"mf_ti\": 11972, \"max\": 50.0, \"sprint\": 1, \"mf_s\": 3.5244737721349817, \"time_hrs\": 3.325555555555556, \"predictions\": 3.724133141762452}, {\"age\": 32, \"bmi\": 23.30609322, \"female\": 0, \"footwear\": 1, \"group\": 2, \"injury\": 2, \"mf_d\": 42195, \"mf_di\": 3, \"mf_ti\": 15310, \"max\": 48.0, \"sprint\": 1, \"mf_s\": 2.756041802743305, \"time_hrs\": 4.252777777777777, \"predictions\": 3.750289750957854}, {\"age\": 58, \"bmi\": 21.74523163, \"female\": 0, \"footwear\": 1, \"group\": 2, \"injury\": 1, \"mf_d\": 42195, \"mf_di\": 4, \"mf_ti\": 12247, \"max\": 100.0, \"sprint\": 1, \"mf_s\": 3.445333551073732, \"time_hrs\": 3.4019444444444447, \"predictions\": 3.0483524904214554}, {\"age\": 45, \"bmi\": 20.91937065, \"female\": 0, \"footwear\": 2, \"group\": 3, \"injury\": 2, \"mf_d\": 42195, \"mf_di\": 3, \"mf_ti\": 10080, \"max\": 70.0, \"sprint\": 1, \"mf_s\": 4.186011904761905, \"time_hrs\": 2.8, \"predictions\": 3.2448730842911884}, {\"age\": 27, \"bmi\": 21.38561058, \"female\": 0, \"footwear\": 2, \"group\": 2, \"injury\": 1, \"mf_d\": 42195, \"mf_di\": 2, \"mf_ti\": 9475, \"max\": 110.0, \"sprint\": 1, \"mf_s\": 4.453298153034301, \"time_hrs\": 2.631944444444444, \"predictions\": 3.0299521072796933}, {\"age\": 32, \"bmi\": 22.72727203, \"female\": 0, \"footwear\": 3, \"group\": 1, \"injury\": 1, \"mf_d\": 42195, \"mf_di\": 2, \"mf_ti\": 15000, \"max\": 30.0, \"sprint\": 0, \"mf_s\": 2.813, \"time_hrs\": 4.166666666666667, \"predictions\": 4.217677203065134}, {\"age\": 26, \"bmi\": 29.68460083, \"female\": 0, \"footwear\": 2, \"group\": 2, \"injury\": 1, \"mf_d\": 42195, \"mf_di\": 2, \"mf_ti\": 17137, \"max\": 40.0, \"sprint\": 1, \"mf_s\": 2.4622162572212174, \"time_hrs\": 4.760277777777778, \"predictions\": 4.159741379310345}, {\"age\": 37, \"bmi\": 23.00556564, \"female\": 1, \"footwear\": 2, \"group\": 1, \"injury\": 2, \"mf_d\": 42195, \"mf_di\": 2, \"mf_ti\": 16636, \"max\": 60.0, \"sprint\": 1, \"mf_s\": 2.536366915123828, \"time_hrs\": 4.621111111111111, \"predictions\": 3.5166403256704983}, {\"age\": 35, \"bmi\": 20.65626717, \"female\": 1, \"footwear\": 2, \"group\": 2, \"injury\": 3, \"mf_d\": 42195, \"mf_di\": 3, \"mf_ti\": 14465, \"max\": 40.0, \"sprint\": 0, \"mf_s\": 2.917041133771172, \"time_hrs\": 4.018055555555556, \"predictions\": 4.159741379310345}, {\"age\": 39, \"bmi\": 21.34480858, \"female\": 1, \"footwear\": 2, \"group\": 2, \"injury\": 2, \"mf_d\": 42195, \"mf_di\": 2, \"mf_ti\": 17640, \"max\": 37.0, \"sprint\": 0, \"mf_s\": 2.392006802721089, \"time_hrs\": 4.9, \"predictions\": 4.1053041187739465}, {\"age\": 30, \"bmi\": 21.5213356, \"female\": 1, \"footwear\": 2, \"group\": 3, \"injury\": 1, \"mf_d\": 42195, \"mf_di\": 4, \"mf_ti\": 19618, \"max\": 30.0, \"sprint\": 1, \"mf_s\": 2.150830869609542, \"time_hrs\": 5.449444444444444, \"predictions\": 4.217677203065134}, {\"age\": 45, \"bmi\": 22.36208534, \"female\": 0, \"footwear\": 2, \"group\": 3, \"injury\": 2, \"mf_d\": 42195, \"mf_di\": 2, \"mf_ti\": 11970, \"max\": 55.0, \"sprint\": 1, \"mf_s\": 3.525062656641604, \"time_hrs\": 3.325, \"predictions\": 3.686264367816092}, {\"age\": 46, \"bmi\": 25.21212006, \"female\": 0, \"footwear\": 2, \"group\": 2, \"injury\": 2, \"mf_d\": 42195, \"mf_di\": 2, \"mf_ti\": 13320, \"max\": 42.0, \"sprint\": 1, \"mf_s\": 3.1677927927927927, \"time_hrs\": 3.7, \"predictions\": 4.123378831417624}, {\"age\": 45, \"bmi\": 24.81470108, \"female\": 0, \"footwear\": 2, \"group\": 2, \"injury\": 2, \"mf_d\": 42195, \"mf_di\": 4, \"mf_ti\": 12212, \"max\": 40.0, \"sprint\": 0, \"mf_s\": 3.45520799213888, \"time_hrs\": 3.3922222222222222, \"predictions\": 4.159741379310345}, {\"age\": 35, \"bmi\": 22.91344261, \"female\": 0, \"footwear\": 1, \"group\": 2, \"injury\": 2, \"mf_d\": 42195, \"mf_di\": 3, \"mf_ti\": 12900, \"max\": 40.0, \"sprint\": 1, \"mf_s\": 3.27093023255814, \"time_hrs\": 3.583333333333333, \"predictions\": 4.159741379310345}, {\"age\": 42, \"bmi\": 27.4961338, \"female\": 0, \"footwear\": 2, \"group\": 3, \"injury\": 2, \"mf_d\": 42195, \"mf_di\": 3, \"mf_ti\": 13195, \"max\": 42.0, \"sprint\": 1, \"mf_s\": 3.197802197802198, \"time_hrs\": 3.6652777777777774, \"predictions\": 4.123378831417624}, {\"age\": 35, \"bmi\": 23.66053009, \"female\": 0, \"footwear\": 2, \"group\": 3, \"injury\": 2, \"mf_d\": 42195, \"mf_di\": 2, \"mf_ti\": 10467, \"max\": 65.0, \"sprint\": 0, \"mf_s\": 4.031241043278876, \"time_hrs\": 2.9075, \"predictions\": 3.3246743295019154}, {\"age\": 24, \"bmi\": 20.86985588, \"female\": 1, \"footwear\": 2, \"group\": 2, \"injury\": 2, \"mf_d\": 42195, \"mf_di\": 4, \"mf_ti\": 14400, \"max\": 40.0, \"sprint\": 0, \"mf_s\": 2.9302083333333333, \"time_hrs\": 4.0, \"predictions\": 4.159741379310345}, {\"age\": 37, \"bmi\": 22.14966202, \"female\": 0, \"footwear\": 2, \"group\": 3, \"injury\": 1, \"mf_d\": 42195, \"mf_di\": 3, \"mf_ti\": 10576, \"max\": 100.0, \"sprint\": 1, \"mf_s\": 3.989693645990923, \"time_hrs\": 2.937777777777778, \"predictions\": 3.0483524904214554}, {\"age\": 47, \"bmi\": 21.96660423, \"female\": 0, \"footwear\": 1, \"group\": 1, \"injury\": 1, \"mf_d\": 42195, \"mf_di\": 3, \"mf_ti\": 13162, \"max\": 55.0, \"sprint\": 0, \"mf_s\": 3.2058197842273213, \"time_hrs\": 3.656111111111111, \"predictions\": 3.686264367816092}, {\"age\": 32, \"bmi\": 23.70815659, \"female\": 0, \"footwear\": 2, \"group\": 3, \"injury\": 3, \"mf_d\": 42195, \"mf_di\": 3, \"mf_ti\": 10604, \"max\": 40.0, \"sprint\": 1, \"mf_s\": 3.979158807996982, \"time_hrs\": 2.9455555555555555, \"predictions\": 4.159741379310345}, {\"age\": 34, \"bmi\": 23.08344269, \"female\": 0, \"footwear\": 1, \"group\": 3, \"injury\": 1, \"mf_d\": 42195, \"mf_di\": 2, \"mf_ti\": 12484, \"max\": 50.0, \"sprint\": 1, \"mf_s\": 3.379926305671259, \"time_hrs\": 3.4677777777777776, \"predictions\": 3.724133141762452}, {\"age\": 31, \"bmi\": 32.5569725, \"female\": 1, \"footwear\": 2, \"group\": 1, \"injury\": 1, \"mf_d\": 42195, \"mf_di\": 2, \"mf_ti\": 18600, \"max\": 32.0, \"sprint\": 0, \"mf_s\": 2.268548387096774, \"time_hrs\": 5.166666666666667, \"predictions\": 4.216985153256704}, {\"age\": 23, \"bmi\": 20.41903305, \"female\": 1, \"footwear\": 2, \"group\": 3, \"injury\": 1, \"mf_d\": 42195, \"mf_di\": 3, \"mf_ti\": 17153, \"max\": 35.0, \"sprint\": 0, \"mf_s\": 2.459919547601003, \"time_hrs\": 4.764722222222222, \"predictions\": 4.160141283524904}, {\"age\": 49, \"bmi\": 23.27272797, \"female\": 0, \"footwear\": 3, \"group\": 1, \"injury\": 1, \"mf_d\": 42195, \"mf_di\": 3, \"mf_ti\": 15873, \"max\": 20.0, \"sprint\": 1, \"mf_s\": 2.6582876582876582, \"time_hrs\": 4.409166666666667, \"predictions\": 4.230174808429118}, {\"age\": 34, \"bmi\": 21.24975014, \"female\": 0, \"footwear\": 1, \"group\": 2, \"injury\": 1, \"mf_d\": 42195, \"mf_di\": 2, \"mf_ti\": 11047, \"max\": 75.0, \"sprint\": 1, \"mf_s\": 3.8195890286955736, \"time_hrs\": 3.068611111111111, \"predictions\": 3.175766283524904}, {\"age\": 27, \"bmi\": 20.65626717, \"female\": 1, \"footwear\": 2, \"group\": 3, \"injury\": 1, \"mf_d\": 42195, \"mf_di\": 3, \"mf_ti\": 12545, \"max\": 40.0, \"sprint\": 0, \"mf_s\": 3.363491430848944, \"time_hrs\": 3.4847222222222225, \"predictions\": 4.159741379310345}, {\"age\": 38, \"bmi\": 19.6476059, \"female\": 0, \"footwear\": 2, \"group\": 1, \"injury\": 1, \"mf_d\": 42195, \"mf_di\": 4, \"mf_ti\": 9888, \"max\": 65.0, \"sprint\": 1, \"mf_s\": 4.267293689320389, \"time_hrs\": 2.746666666666667, \"predictions\": 3.3246743295019154}, {\"age\": 53, \"bmi\": 22.68170738, \"female\": 0, \"footwear\": 2, \"group\": 2, \"injury\": 1, \"mf_d\": 42195, \"mf_di\": 3, \"mf_ti\": 11507, \"max\": 64.0, \"sprint\": 0, \"mf_s\": 3.666898409663683, \"time_hrs\": 3.196388888888889, \"predictions\": 3.3497461685823757}, {\"age\": 28, \"bmi\": 24.85058212, \"female\": 0, \"footwear\": 1, \"group\": 2, \"injury\": 1, \"mf_d\": 42195, \"mf_di\": 3, \"mf_ti\": 14161, \"max\": 50.0, \"sprint\": 1, \"mf_s\": 2.979662453216581, \"time_hrs\": 3.933611111111112, \"predictions\": 3.724133141762452}, {\"age\": 27, \"bmi\": 27.52437782, \"female\": 0, \"footwear\": 1, \"group\": 1, \"injury\": 2, \"mf_d\": 42195, \"mf_di\": 4, \"mf_ti\": 12426, \"max\": 45.0, \"sprint\": 0, \"mf_s\": 3.395702559150169, \"time_hrs\": 3.4516666666666667, \"predictions\": 4.001913314176246}, {\"age\": 45, \"bmi\": 23.5923233, \"female\": 0, \"footwear\": 2, \"group\": 1, \"injury\": 1, \"mf_d\": 42195, \"mf_di\": 3, \"mf_ti\": 11040, \"max\": 55.0, \"sprint\": 0, \"mf_s\": 3.822010869565217, \"time_hrs\": 3.066666666666667, \"predictions\": 3.686264367816092}, {\"age\": 28, \"bmi\": 24.04452515, \"female\": 0, \"footwear\": 2, \"group\": 1, \"injury\": 1, \"mf_d\": 42195, \"mf_di\": 3, \"mf_ti\": 13378, \"max\": 41.0, \"sprint\": 1, \"mf_s\": 3.1540589026760357, \"time_hrs\": 3.716111111111111, \"predictions\": 4.134236111111111}, {\"age\": 28, \"bmi\": 18.75529671, \"female\": 0, \"footwear\": 1, \"group\": 2, \"injury\": 1, \"mf_d\": 42195, \"mf_di\": 4, \"mf_ti\": 9742, \"max\": 75.0, \"sprint\": 1, \"mf_s\": 4.331246150687744, \"time_hrs\": 2.706111111111112, \"predictions\": 3.175766283524904}, {\"age\": 24, \"bmi\": 21.06158638, \"female\": 1, \"footwear\": 2, \"group\": 1, \"injury\": 3, \"mf_d\": 42195, \"mf_di\": 2, \"mf_ti\": 13530, \"max\": 60.0, \"sprint\": 1, \"mf_s\": 3.1186252771618626, \"time_hrs\": 3.758333333333333, \"predictions\": 3.5166403256704983}, {\"age\": 33, \"bmi\": 25.11223602, \"female\": 0, \"footwear\": 3, \"group\": 1, \"injury\": 1, \"mf_d\": 42195, \"mf_di\": 2, \"mf_ti\": 12555, \"max\": 55.0, \"sprint\": 1, \"mf_s\": 3.3608124253285543, \"time_hrs\": 3.4875, \"predictions\": 3.686264367816092}, {\"age\": 57, \"bmi\": 25.5287571, \"female\": 0, \"footwear\": 1, \"group\": 3, \"injury\": 1, \"mf_d\": 42195, \"mf_di\": 2, \"mf_ti\": 13155, \"max\": 64.0, \"sprint\": 1, \"mf_s\": 3.207525655644241, \"time_hrs\": 3.654166666666667, \"predictions\": 3.3497461685823757}, {\"age\": 34, \"bmi\": 19.44146538, \"female\": 0, \"footwear\": 2, \"group\": 1, \"injury\": 1, \"mf_d\": 42195, \"mf_di\": 3, \"mf_ti\": 10485, \"max\": 44.0, \"sprint\": 1, \"mf_s\": 4.024320457796852, \"time_hrs\": 2.9125, \"predictions\": 4.023323754789272}, {\"age\": 24, \"bmi\": 22.36208534, \"female\": 0, \"footwear\": 2, \"group\": 3, \"injury\": 2, \"mf_d\": 42195, \"mf_di\": 4, \"mf_ti\": 15042, \"max\": 35.0, \"sprint\": 0, \"mf_s\": 2.805145592341444, \"time_hrs\": 4.178333333333333, \"predictions\": 4.160141283524904}, {\"age\": 27, \"bmi\": 27.5420742, \"female\": 1, \"footwear\": 2, \"group\": 1, \"injury\": 3, \"mf_d\": 42195, \"mf_di\": 2, \"mf_ti\": 20967, \"max\": 40.0, \"sprint\": 0, \"mf_s\": 2.012448132780083, \"time_hrs\": 5.824166666666667, \"predictions\": 4.159741379310345}, {\"age\": 31, \"bmi\": 21.15354919, \"female\": 0, \"footwear\": 2, \"group\": 1, \"injury\": 1, \"mf_d\": 42195, \"mf_di\": 3, \"mf_ti\": 10391, \"max\": 85.0, \"sprint\": 1, \"mf_s\": 4.060725627947262, \"time_hrs\": 2.886388888888889, \"predictions\": 3.101120689655173}, {\"age\": 42, \"bmi\": 28.2599144, \"female\": 0, \"footwear\": 2, \"group\": 3, \"injury\": 1, \"mf_d\": 42195, \"mf_di\": 2, \"mf_ti\": 21180, \"max\": 40.0, \"sprint\": 0, \"mf_s\": 1.992209631728045, \"time_hrs\": 5.883333333333334, \"predictions\": 4.159741379310345}, {\"age\": 41, \"bmi\": 24.37873268, \"female\": 0, \"footwear\": 2, \"group\": 1, \"injury\": 1, \"mf_d\": 42195, \"mf_di\": 4, \"mf_ti\": 14130, \"max\": 21.0, \"sprint\": 0, \"mf_s\": 2.98619957537155, \"time_hrs\": 3.925, \"predictions\": 4.230174808429118}, {\"age\": 33, \"bmi\": 21.51694489, \"female\": 1, \"footwear\": 1, \"group\": 3, \"injury\": 2, \"mf_d\": 42195, \"mf_di\": 4, \"mf_ti\": 12510, \"max\": 55.0, \"sprint\": 1, \"mf_s\": 3.3729016786570742, \"time_hrs\": 3.475, \"predictions\": 3.686264367816092}, {\"age\": 34, \"bmi\": 24.0420742, \"female\": 1, \"footwear\": 2, \"group\": 1, \"injury\": 3, \"mf_d\": 42195, \"mf_di\": 3, \"mf_ti\": 17760, \"max\": 51.0, \"sprint\": 0, \"mf_s\": 2.3758445945945947, \"time_hrs\": 4.933333333333334, \"predictions\": 3.717646072796935}, {\"age\": 54, \"bmi\": 21.87164688, \"female\": 1, \"footwear\": 2, \"group\": 2, \"injury\": 1, \"mf_d\": 42195, \"mf_di\": 4, \"mf_ti\": 14306, \"max\": 51.0, \"sprint\": 1, \"mf_s\": 2.9494617642947016, \"time_hrs\": 3.973888888888889, \"predictions\": 3.717646072796935}, {\"age\": 41, \"bmi\": 24.27048302, \"female\": 0, \"footwear\": 2, \"group\": 3, \"injury\": 1, \"mf_d\": 42195, \"mf_di\": 4, \"mf_ti\": 11604, \"max\": 80.0, \"sprint\": 1, \"mf_s\": 3.636246122026887, \"time_hrs\": 3.2233333333333336, \"predictions\": 3.111103927203065}, {\"age\": 37, \"bmi\": 18.83348274, \"female\": 0, \"footwear\": 1, \"group\": 2, \"injury\": 1, \"mf_d\": 42195, \"mf_di\": 2, \"mf_ti\": 8290, \"max\": 140.0, \"sprint\": 1, \"mf_s\": 5.089867310012063, \"time_hrs\": 2.3027777777777776, \"predictions\": 3.0299521072796933}, {\"age\": 29, \"bmi\": 27.19741821, \"female\": 1, \"footwear\": 2, \"group\": 1, \"injury\": 2, \"mf_d\": 42195, \"mf_di\": 3, \"mf_ti\": 17341, \"max\": 44.0, \"sprint\": 0, \"mf_s\": 2.4332506775849145, \"time_hrs\": 4.816944444444444, \"predictions\": 4.023323754789272}, {\"age\": 29, \"bmi\": 27.4961338, \"female\": 1, \"footwear\": 2, \"group\": 1, \"injury\": 1, \"mf_d\": 42195, \"mf_di\": 3, \"mf_ti\": 18180, \"max\": 30.0, \"sprint\": 0, \"mf_s\": 2.320957095709571, \"time_hrs\": 5.05, \"predictions\": 4.217677203065134}, {\"age\": 43, \"bmi\": 25.95398712, \"female\": 0, \"footwear\": 2, \"group\": 1, \"injury\": 1, \"mf_d\": 42195, \"mf_di\": 3, \"mf_ti\": 14820, \"max\": 65.0, \"sprint\": 0, \"mf_s\": 2.847165991902834, \"time_hrs\": 4.116666666666666, \"predictions\": 3.3246743295019154}, {\"age\": 35, \"bmi\": 30.5534687, \"female\": 0, \"footwear\": 2, \"group\": 1, \"injury\": 2, \"mf_d\": 42195, \"mf_di\": 3, \"mf_ti\": 14264, \"max\": 17.0, \"sprint\": 0, \"mf_s\": 2.9581463825014023, \"time_hrs\": 3.962222222222222, \"predictions\": 4.21658764367816}, {\"age\": 31, \"bmi\": 22.68170738, \"female\": 1, \"footwear\": 2, \"group\": 1, \"injury\": 1, \"mf_d\": 42195, \"mf_di\": 2, \"mf_ti\": 12204, \"max\": 60.0, \"sprint\": 0, \"mf_s\": 3.457472959685349, \"time_hrs\": 3.39, \"predictions\": 3.5166403256704983}, {\"age\": 25, \"bmi\": 22.14966202, \"female\": 0, \"footwear\": 2, \"group\": 3, \"injury\": 1, \"mf_d\": 42195, \"mf_di\": 4, \"mf_ti\": 9152, \"max\": 110.0, \"sprint\": 1, \"mf_s\": 4.6104676573426575, \"time_hrs\": 2.542222222222222, \"predictions\": 3.0299521072796933}, {\"age\": 45, \"bmi\": 19.51649475, \"female\": 0, \"footwear\": 2, \"group\": 2, \"injury\": 1, \"mf_d\": 42195, \"mf_di\": 2, \"mf_ti\": 13423, \"max\": 45.0, \"sprint\": 0, \"mf_s\": 3.14348506295165, \"time_hrs\": 3.7286111111111113, \"predictions\": 4.001913314176246}, {\"age\": 46, \"bmi\": 25.85858536, \"female\": 0, \"footwear\": 2, \"group\": 3, \"injury\": 2, \"mf_d\": 42195, \"mf_di\": 2, \"mf_ti\": 16638, \"max\": 37.0, \"sprint\": 0, \"mf_s\": 2.5360620266858995, \"time_hrs\": 4.621666666666667, \"predictions\": 4.1053041187739465}, {\"age\": 24, \"bmi\": 21.51694489, \"female\": 1, \"footwear\": 2, \"group\": 2, \"injury\": 1, \"mf_d\": 42195, \"mf_di\": 3, \"mf_ti\": 12830, \"max\": 50.0, \"sprint\": 0, \"mf_s\": 3.2887763055339048, \"time_hrs\": 3.563888888888889, \"predictions\": 3.724133141762452}, {\"age\": 37, \"bmi\": 27.20981216, \"female\": 0, \"footwear\": 1, \"group\": 3, \"injury\": 2, \"mf_d\": 42195, \"mf_di\": 2, \"mf_ti\": 12424, \"max\": 50.0, \"sprint\": 0, \"mf_s\": 3.396249195106246, \"time_hrs\": 3.451111111111111, \"predictions\": 3.724133141762452}, {\"age\": 36, \"bmi\": 23.00573349, \"female\": 0, \"footwear\": 2, \"group\": 2, \"injury\": 1, \"mf_d\": 42195, \"mf_di\": 2, \"mf_ti\": 10473, \"max\": 75.0, \"sprint\": 0, \"mf_s\": 4.028931538241191, \"time_hrs\": 2.9091666666666667, \"predictions\": 3.175766283524904}, {\"age\": 42, \"bmi\": 19.9094696, \"female\": 0, \"footwear\": 1, \"group\": 2, \"injury\": 1, \"mf_d\": 42195, \"mf_di\": 4, \"mf_ti\": 11311, \"max\": 55.0, \"sprint\": 1, \"mf_s\": 3.730439395278932, \"time_hrs\": 3.141944444444445, \"predictions\": 3.686264367816092}, {\"age\": 48, \"bmi\": 20.20202065, \"female\": 0, \"footwear\": 1, \"group\": 3, \"injury\": 1, \"mf_d\": 42195, \"mf_di\": 3, \"mf_ti\": 10020, \"max\": 70.0, \"sprint\": 1, \"mf_s\": 4.211077844311378, \"time_hrs\": 2.783333333333333, \"predictions\": 3.2448730842911884}, {\"age\": 33, \"bmi\": 27.15151405, \"female\": 0, \"footwear\": 1, \"group\": 3, \"injury\": 1, \"mf_d\": 42195, \"mf_di\": 4, \"mf_ti\": 19825, \"max\": 48.0, \"sprint\": 0, \"mf_s\": 2.128373266078184, \"time_hrs\": 5.506944444444445, \"predictions\": 3.750289750957854}, {\"age\": 46, \"bmi\": 21.22448921, \"female\": 0, \"footwear\": 1, \"group\": 3, \"injury\": 2, \"mf_d\": 42195, \"mf_di\": 2, \"mf_ti\": 10176, \"max\": 55.0, \"sprint\": 1, \"mf_s\": 4.146521226415095, \"time_hrs\": 2.8266666666666667, \"predictions\": 3.686264367816092}, {\"age\": 34, \"bmi\": 25.25252724, \"female\": 0, \"footwear\": 2, \"group\": 2, \"injury\": 1, \"mf_d\": 42195, \"mf_di\": 4, \"mf_ti\": 10550, \"max\": 65.0, \"sprint\": 1, \"mf_s\": 3.999526066350711, \"time_hrs\": 2.930555555555556, \"predictions\": 3.3246743295019154}, {\"age\": 33, \"bmi\": 24.50284004, \"female\": 1, \"footwear\": 2, \"group\": 2, \"injury\": 1, \"mf_d\": 42195, \"mf_di\": 3, \"mf_ti\": 14822, \"max\": 40.0, \"sprint\": 0, \"mf_s\": 2.8467818108217515, \"time_hrs\": 4.117222222222222, \"predictions\": 4.159741379310345}, {\"age\": 37, \"bmi\": 21.83592224, \"female\": 0, \"footwear\": 2, \"group\": 1, \"injury\": 1, \"mf_d\": 42195, \"mf_di\": 4, \"mf_ti\": 14640, \"max\": 45.0, \"sprint\": 1, \"mf_s\": 2.882172131147541, \"time_hrs\": 4.066666666666666, \"predictions\": 4.001913314176246}, {\"age\": 30, \"bmi\": 24.83164978, \"female\": 0, \"footwear\": 2, \"group\": 1, \"injury\": 2, \"mf_d\": 42195, \"mf_di\": 4, \"mf_ti\": 12616, \"max\": 30.0, \"sprint\": 0, \"mf_s\": 3.344562460367787, \"time_hrs\": 3.5044444444444447, \"predictions\": 4.217677203065134}, {\"age\": 55, \"bmi\": 24.37873268, \"female\": 0, \"footwear\": 2, \"group\": 1, \"injury\": 2, \"mf_d\": 42195, \"mf_di\": 3, \"mf_ti\": 12180, \"max\": 33.0, \"sprint\": 0, \"mf_s\": 3.4642857142857144, \"time_hrs\": 3.3833333333333333, \"predictions\": 4.216362547892721}, {\"age\": 44, \"bmi\": 24.32528305, \"female\": 1, \"footwear\": 2, \"group\": 2, \"injury\": 1, \"mf_d\": 42195, \"mf_di\": 2, \"mf_ti\": 12543, \"max\": 60.0, \"sprint\": 1, \"mf_s\": 3.364027744558718, \"time_hrs\": 3.484166666666667, \"predictions\": 3.5166403256704983}, {\"age\": 33, \"bmi\": 25.92195129, \"female\": 0, \"footwear\": 1, \"group\": 3, \"injury\": 2, \"mf_d\": 42195, \"mf_di\": 3, \"mf_ti\": 12989, \"max\": 38.0, \"sprint\": 1, \"mf_s\": 3.2485179767495573, \"time_hrs\": 3.608055555555555, \"predictions\": 4.119810823754789}, {\"age\": 46, \"bmi\": 23.74768066, \"female\": 0, \"footwear\": 1, \"group\": 2, \"injury\": 2, \"mf_d\": 42195, \"mf_di\": 4, \"mf_ti\": 12930, \"max\": 80.0, \"sprint\": 1, \"mf_s\": 3.263341067285382, \"time_hrs\": 3.591666666666667, \"predictions\": 3.111103927203065}, {\"age\": 34, \"bmi\": 23.58257103, \"female\": 1, \"footwear\": 2, \"group\": 2, \"injury\": 1, \"mf_d\": 42195, \"mf_di\": 3, \"mf_ti\": 16580, \"max\": 39.0, \"sprint\": 0, \"mf_s\": 2.5449336550060315, \"time_hrs\": 4.605555555555555, \"predictions\": 4.134796455938697}, {\"age\": 27, \"bmi\": 20.15620995, \"female\": 1, \"footwear\": 2, \"group\": 3, \"injury\": 1, \"mf_d\": 42195, \"mf_di\": 2, \"mf_ti\": 13328, \"max\": 42.0, \"sprint\": 0, \"mf_s\": 3.165891356542617, \"time_hrs\": 3.7022222222222223, \"predictions\": 4.123378831417624}, {\"age\": 43, \"bmi\": 20.86985588, \"female\": 1, \"footwear\": 1, \"group\": 2, \"injury\": 2, \"mf_d\": 42195, \"mf_di\": 2, \"mf_ti\": 17927, \"max\": 38.5, \"sprint\": 1, \"mf_s\": 2.353712277570146, \"time_hrs\": 4.979722222222223, \"predictions\": 4.134796455938697}, {\"age\": 69, \"bmi\": 23.06619835, \"female\": 0, \"footwear\": 2, \"group\": 1, \"injury\": 2, \"mf_d\": 42195, \"mf_di\": 2, \"mf_ti\": 14460, \"max\": 45.0, \"sprint\": 1, \"mf_s\": 2.91804979253112, \"time_hrs\": 4.016666666666667, \"predictions\": 4.001913314176246}, {\"age\": 30, \"bmi\": 21.30681801, \"female\": 1, \"footwear\": 2, \"group\": 2, \"injury\": 2, \"mf_d\": 42195, \"mf_di\": 3, \"mf_ti\": 14043, \"max\": 34.0, \"sprint\": 1, \"mf_s\": 3.0046998504593034, \"time_hrs\": 3.900833333333333, \"predictions\": 4.179231321839081}, {\"age\": 26, \"bmi\": 21.96660423, \"female\": 0, \"footwear\": 2, \"group\": 3, \"injury\": 1, \"mf_d\": 42195, \"mf_di\": 3, \"mf_ti\": 11160, \"max\": 40.0, \"sprint\": 1, \"mf_s\": 3.780913978494624, \"time_hrs\": 3.1, \"predictions\": 4.159741379310345}, {\"age\": 45, \"bmi\": 20.33395195, \"female\": 0, \"footwear\": 2, \"group\": 2, \"injury\": 3, \"mf_d\": 42195, \"mf_di\": 2, \"mf_ti\": 9930, \"max\": 82.0, \"sprint\": 1, \"mf_s\": 4.2492447129909365, \"time_hrs\": 2.7583333333333333, \"predictions\": 3.1093247126436774}, {\"age\": 31, \"bmi\": 23.30241394, \"female\": 1, \"footwear\": 2, \"group\": 3, \"injury\": 3, \"mf_d\": 42195, \"mf_di\": 3, \"mf_ti\": 12123, \"max\": 50.0, \"sprint\": 1, \"mf_s\": 3.4805741153179905, \"time_hrs\": 3.3675, \"predictions\": 3.724133141762452}, {\"age\": 30, \"bmi\": 23.64960861, \"female\": 1, \"footwear\": 2, \"group\": 3, \"injury\": 1, \"mf_d\": 42195, \"mf_di\": 2, \"mf_ti\": 15601, \"max\": 35.0, \"sprint\": 1, \"mf_s\": 2.7046343183129284, \"time_hrs\": 4.333611111111111, \"predictions\": 4.160141283524904}, {\"age\": 44, \"bmi\": 19.62345314, \"female\": 1, \"footwear\": 2, \"group\": 3, \"injury\": 1, \"mf_d\": 42195, \"mf_di\": 2, \"mf_ti\": 9838, \"max\": 22.0, \"sprint\": 1, \"mf_s\": 4.28898150030494, \"time_hrs\": 2.7327777777777778, \"predictions\": 4.230174808429118}, {\"age\": 30, \"bmi\": 20.41903305, \"female\": 1, \"footwear\": 2, \"group\": 2, \"injury\": 1, \"mf_d\": 42195, \"mf_di\": 2, \"mf_ti\": 14760, \"max\": 40.0, \"sprint\": 1, \"mf_s\": 2.858739837398374, \"time_hrs\": 4.1, \"predictions\": 4.159741379310345}, {\"age\": 34, \"bmi\": 22.51829529, \"female\": 0, \"footwear\": 2, \"group\": 2, \"injury\": 1, \"mf_d\": 42195, \"mf_di\": 2, \"mf_ti\": 9533, \"max\": 85.0, \"sprint\": 1, \"mf_s\": 4.426203713416553, \"time_hrs\": 2.648055555555556, \"predictions\": 3.101120689655173}, {\"age\": 41, \"bmi\": 23.79261398, \"female\": 0, \"footwear\": 2, \"group\": 2, \"injury\": 1, \"mf_d\": 42195, \"mf_di\": 4, \"mf_ti\": 9801, \"max\": 80.0, \"sprint\": 1, \"mf_s\": 4.305172941536578, \"time_hrs\": 2.7225, \"predictions\": 3.111103927203065}, {\"age\": 33, \"bmi\": 18.03393936, \"female\": 0, \"footwear\": 2, \"group\": 3, \"injury\": 1, \"mf_d\": 42195, \"mf_di\": 3, \"mf_ti\": 11009, \"max\": 65.0, \"sprint\": 1, \"mf_s\": 3.832773185575438, \"time_hrs\": 3.0580555555555557, \"predictions\": 3.3246743295019154}, {\"age\": 59, \"bmi\": 24.23761749, \"female\": 0, \"footwear\": 2, \"group\": 1, \"injury\": 1, \"mf_d\": 42195, \"mf_di\": 4, \"mf_ti\": 22565, \"max\": 38.0, \"sprint\": 0, \"mf_s\": 1.8699313095501884, \"time_hrs\": 6.268055555555555, \"predictions\": 4.119810823754789}, {\"age\": 60, \"bmi\": 20.92764473, \"female\": 0, \"footwear\": 2, \"group\": 3, \"injury\": 1, \"mf_d\": 42195, \"mf_di\": 2, \"mf_ti\": 17880, \"max\": 40.0, \"sprint\": 0, \"mf_s\": 2.3598993288590604, \"time_hrs\": 4.966666666666667, \"predictions\": 4.159741379310345}, {\"age\": 38, \"bmi\": 25.56031227, \"female\": 0, \"footwear\": 2, \"group\": 3, \"injury\": 1, \"mf_d\": 42195, \"mf_di\": 4, \"mf_ti\": 10980, \"max\": 65.0, \"sprint\": 0, \"mf_s\": 3.842896174863388, \"time_hrs\": 3.05, \"predictions\": 3.3246743295019154}, {\"age\": 35, \"bmi\": 21.89049911, \"female\": 1, \"footwear\": 2, \"group\": 3, \"injury\": 1, \"mf_d\": 42195, \"mf_di\": 4, \"mf_ti\": 14169, \"max\": 57.0, \"sprint\": 1, \"mf_s\": 2.977980097395723, \"time_hrs\": 3.9358333333333335, \"predictions\": 3.5725550766283525}, {\"age\": 39, \"bmi\": 21.86121559, \"female\": 1, \"footwear\": 2, \"group\": 1, \"injury\": 1, \"mf_d\": 42195, \"mf_di\": 2, \"mf_ti\": 14400, \"max\": 40.0, \"sprint\": 0, \"mf_s\": 2.9302083333333333, \"time_hrs\": 4.0, \"predictions\": 4.159741379310345}, {\"age\": 41, \"bmi\": 19.47665596, \"female\": 0, \"footwear\": 1, \"group\": 2, \"injury\": 2, \"mf_d\": 42195, \"mf_di\": 2, \"mf_ti\": 10579, \"max\": 61.0, \"sprint\": 0, \"mf_s\": 3.9885622459589753, \"time_hrs\": 2.938611111111111, \"predictions\": 3.402133620689655}, {\"age\": 47, \"bmi\": 24.57002449, \"female\": 0, \"footwear\": 2, \"group\": 3, \"injury\": 2, \"mf_d\": 42195, \"mf_di\": 4, \"mf_ti\": 12640, \"max\": 55.0, \"sprint\": 0, \"mf_s\": 3.338212025316456, \"time_hrs\": 3.511111111111111, \"predictions\": 3.686264367816092}, {\"age\": 31, \"bmi\": 19.97297096, \"female\": 1, \"footwear\": 2, \"group\": 3, \"injury\": 2, \"mf_d\": 42195, \"mf_di\": 4, \"mf_ti\": 14307, \"max\": 42.0, \"sprint\": 0, \"mf_s\": 2.949255609142378, \"time_hrs\": 3.974166666666666, \"predictions\": 4.123378831417624}, {\"age\": 25, \"bmi\": 22.19460106, \"female\": 1, \"footwear\": 1, \"group\": 2, \"injury\": 1, \"mf_d\": 42195, \"mf_di\": 3, \"mf_ti\": 12495, \"max\": 38.0, \"sprint\": 1, \"mf_s\": 3.376950780312125, \"time_hrs\": 3.470833333333333, \"predictions\": 4.119810823754789}, {\"age\": 29, \"bmi\": 22.03732109, \"female\": 0, \"footwear\": 2, \"group\": 2, \"injury\": 1, \"mf_d\": 42195, \"mf_di\": 3, \"mf_ti\": 9392, \"max\": 40.0, \"sprint\": 1, \"mf_s\": 4.4926533219761495, \"time_hrs\": 2.608888888888889, \"predictions\": 4.159741379310345}, {\"age\": 57, \"bmi\": 21.85050583, \"female\": 0, \"footwear\": 2, \"group\": 1, \"injury\": 2, \"mf_d\": 42195, \"mf_di\": 2, \"mf_ti\": 14282, \"max\": 50.0, \"sprint\": 0, \"mf_s\": 2.9544181487186667, \"time_hrs\": 3.967222222222222, \"predictions\": 3.724133141762452}, {\"age\": 48, \"bmi\": 25.81369209, \"female\": 0, \"footwear\": 2, \"group\": 2, \"injury\": 2, \"mf_d\": 42195, \"mf_di\": 3, \"mf_ti\": 13835, \"max\": 56.0, \"sprint\": 1, \"mf_s\": 3.049873509215757, \"time_hrs\": 3.843055555555556, \"predictions\": 3.592777777777778}, {\"age\": 36, \"bmi\": 28.40909004, \"female\": 1, \"footwear\": 2, \"group\": 3, \"injury\": 2, \"mf_d\": 42195, \"mf_di\": 3, \"mf_ti\": 19827, \"max\": 43.0, \"sprint\": 0, \"mf_s\": 2.128158571644727, \"time_hrs\": 5.507499999999999, \"predictions\": 4.045763888888889}, {\"age\": 51, \"bmi\": 26.56771851, \"female\": 0, \"footwear\": 2, \"group\": 3, \"injury\": 1, \"mf_d\": 42195, \"mf_di\": 3, \"mf_ti\": 14745, \"max\": 43.0, \"sprint\": 0, \"mf_s\": 2.861648016276704, \"time_hrs\": 4.095833333333333, \"predictions\": 4.045763888888889}, {\"age\": 30, \"bmi\": 20.03506279, \"female\": 1, \"footwear\": 2, \"group\": 1, \"injury\": 3, \"mf_d\": 42195, \"mf_di\": 2, \"mf_ti\": 12996, \"max\": 45.0, \"sprint\": 0, \"mf_s\": 3.246768236380425, \"time_hrs\": 3.61, \"predictions\": 4.001913314176246}, {\"age\": 40, \"bmi\": 25.11189079, \"female\": 0, \"footwear\": 2, \"group\": 1, \"injury\": 3, \"mf_d\": 42195, \"mf_di\": 4, \"mf_ti\": 16080, \"max\": 55.0, \"sprint\": 1, \"mf_s\": 2.6240671641791047, \"time_hrs\": 4.466666666666667, \"predictions\": 3.686264367816092}, {\"age\": 38, \"bmi\": 22.14966202, \"female\": 0, \"footwear\": 2, \"group\": 1, \"injury\": 1, \"mf_d\": 42195, \"mf_di\": 4, \"mf_ti\": 10751, \"max\": 60.0, \"sprint\": 1, \"mf_s\": 3.924751185936192, \"time_hrs\": 2.986388888888889, \"predictions\": 3.5166403256704983}, {\"age\": 39, \"bmi\": 23.74768066, \"female\": 0, \"footwear\": 2, \"group\": 2, \"injury\": 1, \"mf_d\": 42195, \"mf_di\": 3, \"mf_ti\": 14400, \"max\": 50.0, \"sprint\": 1, \"mf_s\": 2.9302083333333333, \"time_hrs\": 4.0, \"predictions\": 3.724133141762452}, {\"age\": 42, \"bmi\": 19.47665596, \"female\": 1, \"footwear\": 2, \"group\": 3, \"injury\": 1, \"mf_d\": 42195, \"mf_di\": 3, \"mf_ti\": 13800, \"max\": 50.0, \"sprint\": 0, \"mf_s\": 3.0576086956521737, \"time_hrs\": 3.8333333333333335, \"predictions\": 3.724133141762452}, {\"age\": 52, \"bmi\": 26.16460609, \"female\": 0, \"footwear\": 1, \"group\": 2, \"injury\": 1, \"mf_d\": 42195, \"mf_di\": 3, \"mf_ti\": 14406, \"max\": 45.0, \"sprint\": 0, \"mf_s\": 2.928987921699292, \"time_hrs\": 4.001666666666667, \"predictions\": 4.001913314176246}, {\"age\": 30, \"bmi\": 23.91919327, \"female\": 0, \"footwear\": 1, \"group\": 1, \"injury\": 1, \"mf_d\": 42195, \"mf_di\": 4, \"mf_ti\": 13392, \"max\": 40.0, \"sprint\": 0, \"mf_s\": 3.15076164874552, \"time_hrs\": 3.72, \"predictions\": 4.159741379310345}, {\"age\": 47, \"bmi\": 25.92195129, \"female\": 0, \"footwear\": 1, \"group\": 2, \"injury\": 2, \"mf_d\": 42195, \"mf_di\": 2, \"mf_ti\": 11968, \"max\": 50.0, \"sprint\": 1, \"mf_s\": 3.525651737967914, \"time_hrs\": 3.3244444444444445, \"predictions\": 3.724133141762452}, {\"age\": 44, \"bmi\": 23.56902504, \"female\": 0, \"footwear\": 1, \"group\": 3, \"injury\": 1, \"mf_d\": 42195, \"mf_di\": 3, \"mf_ti\": 13779, \"max\": 55.0, \"sprint\": 1, \"mf_s\": 3.062268669714783, \"time_hrs\": 3.8275, \"predictions\": 3.686264367816092}, {\"age\": 25, \"bmi\": 23.08238602, \"female\": 1, \"footwear\": 2, \"group\": 2, \"injury\": 1, \"mf_d\": 42195, \"mf_di\": 2, \"mf_ti\": 12048, \"max\": 60.0, \"sprint\": 0, \"mf_s\": 3.502241035856574, \"time_hrs\": 3.3466666666666667, \"predictions\": 3.5166403256704983}, {\"age\": 36, \"bmi\": 32.05936813, \"female\": 0, \"footwear\": 1, \"group\": 1, \"injury\": 3, \"mf_d\": 42195, \"mf_di\": 3, \"mf_ti\": 15600, \"max\": 45.0, \"sprint\": 1, \"mf_s\": 2.704807692307692, \"time_hrs\": 4.333333333333333, \"predictions\": 4.001913314176246}, {\"age\": 53, \"bmi\": 23.37171364, \"female\": 0, \"footwear\": 2, \"group\": 1, \"injury\": 1, \"mf_d\": 42195, \"mf_di\": 2, \"mf_ti\": 12430, \"max\": 75.0, \"sprint\": 1, \"mf_s\": 3.3946098149637973, \"time_hrs\": 3.452777777777777, \"predictions\": 3.175766283524904}, {\"age\": 44, \"bmi\": 23.08344269, \"female\": 0, \"footwear\": 1, \"group\": 2, \"injury\": 1, \"mf_d\": 42195, \"mf_di\": 2, \"mf_ti\": 12798, \"max\": 52.0, \"sprint\": 1, \"mf_s\": 3.296999531176746, \"time_hrs\": 3.555, \"predictions\": 3.6874545019157092}, {\"age\": 50, \"bmi\": 23.00573349, \"female\": 0, \"footwear\": 1, \"group\": 2, \"injury\": 2, \"mf_d\": 42195, \"mf_di\": 3, \"mf_ti\": 10563, \"max\": 62.0, \"sprint\": 1, \"mf_s\": 3.994603805737007, \"time_hrs\": 2.934166666666667, \"predictions\": 3.3822006704980847}, {\"age\": 35, \"bmi\": 29.21779823, \"female\": 1, \"footwear\": 2, \"group\": 3, \"injury\": 3, \"mf_d\": 42195, \"mf_di\": 2, \"mf_ti\": 19545, \"max\": 26.0, \"sprint\": 1, \"mf_s\": 2.15886415963162, \"time_hrs\": 5.429166666666666, \"predictions\": 4.223280651340996}, {\"age\": 25, \"bmi\": 22.03365898, \"female\": 1, \"footwear\": 2, \"group\": 1, \"injury\": 1, \"mf_d\": 42195, \"mf_di\": 3, \"mf_ti\": 15301, \"max\": 53.0, \"sprint\": 0, \"mf_s\": 2.757662897849814, \"time_hrs\": 4.250277777777778, \"predictions\": 3.691305076628353}, {\"age\": 56, \"bmi\": 25.04382706, \"female\": 0, \"footwear\": 2, \"group\": 3, \"injury\": 1, \"mf_d\": 42195, \"mf_di\": 3, \"mf_ti\": 17110, \"max\": 48.0, \"sprint\": 1, \"mf_s\": 2.4661016949152543, \"time_hrs\": 4.752777777777778, \"predictions\": 3.750289750957854}, {\"age\": 24, \"bmi\": 20.77922058, \"female\": 0, \"footwear\": 2, \"group\": 3, \"injury\": 2, \"mf_d\": 42195, \"mf_di\": 2, \"mf_ti\": 11951, \"max\": 50.0, \"sprint\": 1, \"mf_s\": 3.530666889800017, \"time_hrs\": 3.3197222222222225, \"predictions\": 3.724133141762452}, {\"age\": 37, \"bmi\": 28.49721718, \"female\": 0, \"footwear\": 2, \"group\": 1, \"injury\": 1, \"mf_d\": 42195, \"mf_di\": 4, \"mf_ti\": 16474, \"max\": 50.0, \"sprint\": 0, \"mf_s\": 2.561308728906156, \"time_hrs\": 4.576111111111112, \"predictions\": 3.724133141762452}, {\"age\": 32, \"bmi\": 22.91344261, \"female\": 0, \"footwear\": 2, \"group\": 1, \"injury\": 1, \"mf_d\": 42195, \"mf_di\": 2, \"mf_ti\": 10349, \"max\": 64.0, \"sprint\": 1, \"mf_s\": 4.077205527104068, \"time_hrs\": 2.874722222222222, \"predictions\": 3.3497461685823757}, {\"age\": 28, \"bmi\": 21.62211609, \"female\": 1, \"footwear\": 2, \"group\": 3, \"injury\": 2, \"mf_d\": 42195, \"mf_di\": 2, \"mf_ti\": 12180, \"max\": 50.0, \"sprint\": 1, \"mf_s\": 3.4642857142857144, \"time_hrs\": 3.3833333333333333, \"predictions\": 3.724133141762452}, {\"age\": 28, \"bmi\": 20.20103264, \"female\": 0, \"footwear\": 2, \"group\": 2, \"injury\": 1, \"mf_d\": 42195, \"mf_di\": 4, \"mf_ti\": 9483, \"max\": 92.0, \"sprint\": 1, \"mf_s\": 4.4495412844036695, \"time_hrs\": 2.6341666666666668, \"predictions\": 3.0541522988505743}, {\"age\": 29, \"bmi\": 21.68908119, \"female\": 1, \"footwear\": 2, \"group\": 2, \"injury\": 1, \"mf_d\": 42195, \"mf_di\": 2, \"mf_ti\": 14004, \"max\": 40.0, \"sprint\": 1, \"mf_s\": 3.0130676949443016, \"time_hrs\": 3.89, \"predictions\": 4.159741379310345}, {\"age\": 32, \"bmi\": 21.23309135, \"female\": 0, \"footwear\": 2, \"group\": 3, \"injury\": 2, \"mf_d\": 42195, \"mf_di\": 2, \"mf_ti\": 12720, \"max\": 35.0, \"sprint\": 0, \"mf_s\": 3.3172169811320757, \"time_hrs\": 3.533333333333333, \"predictions\": 4.160141283524904}, {\"age\": 40, \"bmi\": 24.30183029, \"female\": 1, \"footwear\": 2, \"group\": 3, \"injury\": 2, \"mf_d\": 42195, \"mf_di\": 4, \"mf_ti\": 14750, \"max\": 55.0, \"sprint\": 1, \"mf_s\": 2.860677966101695, \"time_hrs\": 4.097222222222222, \"predictions\": 3.686264367816092}, {\"age\": 40, \"bmi\": 20.03710556, \"female\": 0, \"footwear\": 1, \"group\": 1, \"injury\": 1, \"mf_d\": 42195, \"mf_di\": 3, \"mf_ti\": 10600, \"max\": 80.0, \"sprint\": 0, \"mf_s\": 3.9806603773584905, \"time_hrs\": 2.944444444444444, \"predictions\": 3.111103927203065}, {\"age\": 58, \"bmi\": 19.20026779, \"female\": 1, \"footwear\": 2, \"group\": 3, \"injury\": 1, \"mf_d\": 42195, \"mf_di\": 3, \"mf_ti\": 17421, \"max\": 41.0, \"sprint\": 0, \"mf_s\": 2.4220768038574136, \"time_hrs\": 4.839166666666667, \"predictions\": 4.134236111111111}, {\"age\": 37, \"bmi\": 25.96857071, \"female\": 0, \"footwear\": 2, \"group\": 2, \"injury\": 1, \"mf_d\": 42195, \"mf_di\": 4, \"mf_ti\": 13860, \"max\": 55.0, \"sprint\": 1, \"mf_s\": 3.044372294372294, \"time_hrs\": 3.85, \"predictions\": 3.686264367816092}, {\"age\": 45, \"bmi\": 23.84960938, \"female\": 0, \"footwear\": 2, \"group\": 1, \"injury\": 1, \"mf_d\": 42195, \"mf_di\": 3, \"mf_ti\": 12510, \"max\": 40.0, \"sprint\": 0, \"mf_s\": 3.3729016786570742, \"time_hrs\": 3.475, \"predictions\": 4.159741379310345}, {\"age\": 39, \"bmi\": 19.66026878, \"female\": 1, \"footwear\": 2, \"group\": 2, \"injury\": 1, \"mf_d\": 42195, \"mf_di\": 4, \"mf_ti\": 14940, \"max\": 58.0, \"sprint\": 0, \"mf_s\": 2.82429718875502, \"time_hrs\": 4.15, \"predictions\": 3.56000478927203}, {\"age\": 38, \"bmi\": 21.18406296, \"female\": 0, \"footwear\": 2, \"group\": 2, \"injury\": 2, \"mf_d\": 42195, \"mf_di\": 2, \"mf_ti\": 12005, \"max\": 52.0, \"sprint\": 1, \"mf_s\": 3.5147855060391504, \"time_hrs\": 3.3347222222222226, \"predictions\": 3.6874545019157092}, {\"age\": 30, \"bmi\": 25.97402573, \"female\": 0, \"footwear\": 2, \"group\": 1, \"injury\": 1, \"mf_d\": 42195, \"mf_di\": 3, \"mf_ti\": 11310, \"max\": 45.0, \"sprint\": 0, \"mf_s\": 3.730769230769231, \"time_hrs\": 3.1416666666666666, \"predictions\": 4.001913314176246}, {\"age\": 28, \"bmi\": 17.5306797, \"female\": 1, \"footwear\": 1, \"group\": 1, \"injury\": 2, \"mf_d\": 42195, \"mf_di\": 3, \"mf_ti\": 12180, \"max\": 60.0, \"sprint\": 0, \"mf_s\": 3.4642857142857144, \"time_hrs\": 3.3833333333333333, \"predictions\": 3.5166403256704983}, {\"age\": 70, \"bmi\": 24.30183029, \"female\": 0, \"footwear\": 2, \"group\": 2, \"injury\": 1, \"mf_d\": 42195, \"mf_di\": 2, \"mf_ti\": 17706, \"max\": 42.0, \"sprint\": 1, \"mf_s\": 2.383090477804134, \"time_hrs\": 4.918333333333334, \"predictions\": 4.123378831417624}, {\"age\": 44, \"bmi\": 21.68908119, \"female\": 1, \"footwear\": 2, \"group\": 1, \"injury\": 1, \"mf_d\": 42195, \"mf_di\": 3, \"mf_ti\": 15060, \"max\": 55.0, \"sprint\": 1, \"mf_s\": 2.801792828685259, \"time_hrs\": 4.183333333333334, \"predictions\": 3.686264367816092}, {\"age\": 29, \"bmi\": 21.38588142, \"female\": 0, \"footwear\": 1, \"group\": 1, \"injury\": 3, \"mf_d\": 42195, \"mf_di\": 2, \"mf_ti\": 9877, \"max\": 90.0, \"sprint\": 1, \"mf_s\": 4.272046167864736, \"time_hrs\": 2.7436111111111114, \"predictions\": 3.063972701149425}, {\"age\": 42, \"bmi\": 23.61009026, \"female\": 0, \"footwear\": 2, \"group\": 2, \"injury\": 2, \"mf_d\": 42195, \"mf_di\": 3, \"mf_ti\": 12660, \"max\": 61.0, \"sprint\": 0, \"mf_s\": 3.332938388625593, \"time_hrs\": 3.5166666666666666, \"predictions\": 3.402133620689655}, {\"age\": 39, \"bmi\": 23.49176788, \"female\": 1, \"footwear\": 2, \"group\": 3, \"injury\": 2, \"mf_d\": 42195, \"mf_di\": 2, \"mf_ti\": 17660, \"max\": 55.0, \"sprint\": 0, \"mf_s\": 2.3892978482446208, \"time_hrs\": 4.905555555555555, \"predictions\": 3.686264367816092}, {\"age\": 43, \"bmi\": 24.3044014, \"female\": 0, \"footwear\": 2, \"group\": 2, \"injury\": 1, \"mf_d\": 42195, \"mf_di\": 3, \"mf_ti\": 11593, \"max\": 65.0, \"sprint\": 1, \"mf_s\": 3.639696368498232, \"time_hrs\": 3.220277777777778, \"predictions\": 3.3246743295019154}, {\"age\": 29, \"bmi\": 23.67722511, \"female\": 0, \"footwear\": 1, \"group\": 2, \"injury\": 2, \"mf_d\": 42195, \"mf_di\": 3, \"mf_ti\": 11295, \"max\": 55.0, \"sprint\": 1, \"mf_s\": 3.735723771580345, \"time_hrs\": 3.1375, \"predictions\": 3.686264367816092}, {\"age\": 33, \"bmi\": 25.11189079, \"female\": 0, \"footwear\": 1, \"group\": 3, \"injury\": 1, \"mf_d\": 42195, \"mf_di\": 4, \"mf_ti\": 11056, \"max\": 58.0, \"sprint\": 1, \"mf_s\": 3.81647973950796, \"time_hrs\": 3.071111111111111, \"predictions\": 3.56000478927203}, {\"age\": 54, \"bmi\": 23.00556564, \"female\": 0, \"footwear\": 2, \"group\": 3, \"injury\": 1, \"mf_d\": 42195, \"mf_di\": 3, \"mf_ti\": 11580, \"max\": 70.0, \"sprint\": 0, \"mf_s\": 3.643782383419689, \"time_hrs\": 3.216666666666667, \"predictions\": 3.2448730842911884}, {\"age\": 28, \"bmi\": 23.37423897, \"female\": 1, \"footwear\": 2, \"group\": 3, \"injury\": 2, \"mf_d\": 42195, \"mf_di\": 3, \"mf_ti\": 13719, \"max\": 40.0, \"sprint\": 0, \"mf_s\": 3.0756614913623443, \"time_hrs\": 3.8108333333333335, \"predictions\": 4.159741379310345}, {\"age\": 27, \"bmi\": 22.3776226, \"female\": 1, \"footwear\": 2, \"group\": 3, \"injury\": 1, \"mf_d\": 42195, \"mf_di\": 3, \"mf_ti\": 13496, \"max\": 60.0, \"sprint\": 1, \"mf_s\": 3.126481920569057, \"time_hrs\": 3.748888888888889, \"predictions\": 3.5166403256704983}, {\"age\": 27, \"bmi\": 23.84337807, \"female\": 1, \"footwear\": 1, \"group\": 2, \"injury\": 2, \"mf_d\": 42195, \"mf_di\": 2, \"mf_ti\": 11145, \"max\": 83.0, \"sprint\": 1, \"mf_s\": 3.78600269179004, \"time_hrs\": 3.095833333333333, \"predictions\": 3.113477011494253}, {\"age\": 41, \"bmi\": 21.86121559, \"female\": 1, \"footwear\": 2, \"group\": 1, \"injury\": 1, \"mf_d\": 42195, \"mf_di\": 3, \"mf_ti\": 13322, \"max\": 67.0, \"sprint\": 1, \"mf_s\": 3.167317219636691, \"time_hrs\": 3.7005555555555554, \"predictions\": 3.2708548850574712}, {\"age\": 40, \"bmi\": 20.62209892, \"female\": 1, \"footwear\": 2, \"group\": 2, \"injury\": 1, \"mf_d\": 42195, \"mf_di\": 2, \"mf_ti\": 12549, \"max\": 105.0, \"sprint\": 1, \"mf_s\": 3.3624193162801816, \"time_hrs\": 3.4858333333333333, \"predictions\": 3.044475574712644}, {\"age\": 23, \"bmi\": 22.3776226, \"female\": 1, \"footwear\": 2, \"group\": 2, \"injury\": 1, \"mf_d\": 42195, \"mf_di\": 4, \"mf_ti\": 14460, \"max\": 50.0, \"sprint\": 0, \"mf_s\": 2.91804979253112, \"time_hrs\": 4.016666666666667, \"predictions\": 3.724133141762452}, {\"age\": 25, \"bmi\": 21.04377174, \"female\": 0, \"footwear\": 2, \"group\": 2, \"injury\": 1, \"mf_d\": 42195, \"mf_di\": 2, \"mf_ti\": 11703, \"max\": 51.0, \"sprint\": 1, \"mf_s\": 3.605485772878749, \"time_hrs\": 3.250833333333333, \"predictions\": 3.717646072796935}, {\"age\": 39, \"bmi\": 21.66193008, \"female\": 1, \"footwear\": 2, \"group\": 3, \"injury\": 1, \"mf_d\": 42195, \"mf_di\": 3, \"mf_ti\": 14660, \"max\": 50.0, \"sprint\": 0, \"mf_s\": 2.8782401091405183, \"time_hrs\": 4.072222222222222, \"predictions\": 3.724133141762452}, {\"age\": 55, \"bmi\": 26.7323513, \"female\": 0, \"footwear\": 2, \"group\": 3, \"injury\": 2, \"mf_d\": 42195, \"mf_di\": 3, \"mf_ti\": 13924, \"max\": 42.0, \"sprint\": 0, \"mf_s\": 3.030379201378914, \"time_hrs\": 3.8677777777777775, \"predictions\": 4.123378831417624}, {\"age\": 39, \"bmi\": 22.35768318, \"female\": 0, \"footwear\": 2, \"group\": 3, \"injury\": 2, \"mf_d\": 42195, \"mf_di\": 2, \"mf_ti\": 11334, \"max\": 55.0, \"sprint\": 1, \"mf_s\": 3.722869242985707, \"time_hrs\": 3.148333333333333, \"predictions\": 3.686264367816092}, {\"age\": 42, \"bmi\": 27.4961338, \"female\": 0, \"footwear\": 2, \"group\": 1, \"injury\": 1, \"mf_d\": 42195, \"mf_di\": 2, \"mf_ti\": 16020, \"max\": 30.0, \"sprint\": 0, \"mf_s\": 2.6338951310861423, \"time_hrs\": 4.45, \"predictions\": 4.217677203065134}, {\"age\": 30, \"bmi\": 22.44668961, \"female\": 0, \"footwear\": 2, \"group\": 1, \"injury\": 2, \"mf_d\": 42195, \"mf_di\": 3, \"mf_ti\": 13200, \"max\": 30.0, \"sprint\": 1, \"mf_s\": 3.1965909090909093, \"time_hrs\": 3.6666666666666665, \"predictions\": 4.217677203065134}, {\"age\": 34, \"bmi\": 20.89263725, \"female\": 1, \"footwear\": 1, \"group\": 2, \"injury\": 1, \"mf_d\": 42195, \"mf_di\": 4, \"mf_ti\": 11880, \"max\": 45.0, \"sprint\": 0, \"mf_s\": 3.551767676767677, \"time_hrs\": 3.3, \"predictions\": 4.001913314176246}, {\"age\": 31, \"bmi\": 23.24191475, \"female\": 0, \"footwear\": 2, \"group\": 3, \"injury\": 1, \"mf_d\": 42195, \"mf_di\": 2, \"mf_ti\": 14460, \"max\": 50.0, \"sprint\": 1, \"mf_s\": 2.91804979253112, \"time_hrs\": 4.016666666666667, \"predictions\": 3.724133141762452}, {\"age\": 46, \"bmi\": 24.69135857, \"female\": 0, \"footwear\": 2, \"group\": 1, \"injury\": 3, \"mf_d\": 42195, \"mf_di\": 3, \"mf_ti\": 17820, \"max\": 40.0, \"sprint\": 0, \"mf_s\": 2.3678451178451176, \"time_hrs\": 4.95, \"predictions\": 4.159741379310345}, {\"age\": 22, \"bmi\": 21.87164688, \"female\": 1, \"footwear\": 2, \"group\": 1, \"injury\": 1, \"mf_d\": 42195, \"mf_di\": 4, \"mf_ti\": 12065, \"max\": 62.0, \"sprint\": 1, \"mf_s\": 3.4973062577704104, \"time_hrs\": 3.351388888888889, \"predictions\": 3.3822006704980847}, {\"age\": 31, \"bmi\": 22.0385685, \"female\": 1, \"footwear\": 1, \"group\": 1, \"injury\": 3, \"mf_d\": 42195, \"mf_di\": 4, \"mf_ti\": 12775, \"max\": 51.0, \"sprint\": 1, \"mf_s\": 3.30293542074364, \"time_hrs\": 3.548611111111111, \"predictions\": 3.717646072796935}, {\"age\": 32, \"bmi\": 22.0347538, \"female\": 0, \"footwear\": 2, \"group\": 1, \"injury\": 1, \"mf_d\": 42195, \"mf_di\": 4, \"mf_ti\": 14460, \"max\": 35.0, \"sprint\": 0, \"mf_s\": 2.91804979253112, \"time_hrs\": 4.016666666666667, \"predictions\": 4.160141283524904}, {\"age\": 37, \"bmi\": 23.88304138, \"female\": 0, \"footwear\": 1, \"group\": 1, \"injury\": 1, \"mf_d\": 42195, \"mf_di\": 3, \"mf_ti\": 11987, \"max\": 40.0, \"sprint\": 1, \"mf_s\": 3.5200634020188537, \"time_hrs\": 3.3297222222222222, \"predictions\": 4.159741379310345}, {\"age\": 32, \"bmi\": 24.64646339, \"female\": 1, \"footwear\": 2, \"group\": 3, \"injury\": 1, \"mf_d\": 42195, \"mf_di\": 4, \"mf_ti\": 17149, \"max\": 40.0, \"sprint\": 0, \"mf_s\": 2.460493323225844, \"time_hrs\": 4.763611111111112, \"predictions\": 4.159741379310345}, {\"age\": 33, \"bmi\": 22.08595085, \"female\": 1, \"footwear\": 1, \"group\": 3, \"injury\": 3, \"mf_d\": 42195, \"mf_di\": 3, \"mf_ti\": 12867, \"max\": 40.0, \"sprint\": 0, \"mf_s\": 3.2793191886220563, \"time_hrs\": 3.5741666666666663, \"predictions\": 4.159741379310345}, {\"age\": 53, \"bmi\": 22.41249084, \"female\": 0, \"footwear\": 2, \"group\": 2, \"injury\": 1, \"mf_d\": 42195, \"mf_di\": 3, \"mf_ti\": 13289, \"max\": 48.0, \"sprint\": 1, \"mf_s\": 3.1751824817518246, \"time_hrs\": 3.6913888888888886, \"predictions\": 3.750289750957854}, {\"age\": 31, \"bmi\": 23.00556564, \"female\": 0, \"footwear\": 2, \"group\": 2, \"injury\": 2, \"mf_d\": 42195, \"mf_di\": 2, \"mf_ti\": 14314, \"max\": 55.0, \"sprint\": 1, \"mf_s\": 2.9478133296073774, \"time_hrs\": 3.976111111111111, \"predictions\": 3.686264367816092}, {\"age\": 34, \"bmi\": 20.73756218, \"female\": 1, \"footwear\": 2, \"group\": 3, \"injury\": 1, \"mf_d\": 42195, \"mf_di\": 2, \"mf_ti\": 13693, \"max\": 50.0, \"sprint\": 0, \"mf_s\": 3.0815014971153145, \"time_hrs\": 3.803611111111111, \"predictions\": 3.724133141762452}, {\"age\": 28, \"bmi\": 22.89282227, \"female\": 1, \"footwear\": 2, \"group\": 1, \"injury\": 1, \"mf_d\": 42195, \"mf_di\": 3, \"mf_ti\": 12664, \"max\": 55.0, \"sprint\": 1, \"mf_s\": 3.3318856601389766, \"time_hrs\": 3.517777777777778, \"predictions\": 3.686264367816092}, {\"age\": 46, \"bmi\": 20.41903305, \"female\": 1, \"footwear\": 2, \"group\": 3, \"injury\": 1, \"mf_d\": 42195, \"mf_di\": 4, \"mf_ti\": 12837, \"max\": 84.0, \"sprint\": 1, \"mf_s\": 3.286982939939238, \"time_hrs\": 3.565833333333333, \"predictions\": 3.108074712643678}, {\"age\": 45, \"bmi\": 22.62626266, \"female\": 0, \"footwear\": 2, \"group\": 3, \"injury\": 1, \"mf_d\": 42195, \"mf_di\": 2, \"mf_ti\": 10593, \"max\": 65.0, \"sprint\": 1, \"mf_s\": 3.983290852449731, \"time_hrs\": 2.9425000000000003, \"predictions\": 3.3246743295019154}, {\"age\": 29, \"bmi\": 18.63140297, \"female\": 1, \"footwear\": 2, \"group\": 3, \"injury\": 1, \"mf_d\": 42195, \"mf_di\": 4, \"mf_ti\": 13632, \"max\": 51.0, \"sprint\": 1, \"mf_s\": 3.0952904929577465, \"time_hrs\": 3.786666666666666, \"predictions\": 3.717646072796935}, {\"age\": 33, \"bmi\": 21.89049911, \"female\": 1, \"footwear\": 2, \"group\": 2, \"injury\": 1, \"mf_d\": 42195, \"mf_di\": 2, \"mf_ti\": 12862, \"max\": 61.0, \"sprint\": 1, \"mf_s\": 3.2805939978230447, \"time_hrs\": 3.572777777777778, \"predictions\": 3.402133620689655}, {\"age\": 47, \"bmi\": 25.66305733, \"female\": 0, \"footwear\": 1, \"group\": 3, \"injury\": 1, \"mf_d\": 42195, \"mf_di\": 3, \"mf_ti\": 11898, \"max\": 38.0, \"sprint\": 1, \"mf_s\": 3.5463943519919314, \"time_hrs\": 3.305, \"predictions\": 4.119810823754789}, {\"age\": 40, \"bmi\": 25.04382706, \"female\": 1, \"footwear\": 2, \"group\": 1, \"injury\": 1, \"mf_d\": 42195, \"mf_di\": 2, \"mf_ti\": 18000, \"max\": 55.0, \"sprint\": 0, \"mf_s\": 2.3441666666666667, \"time_hrs\": 5.0, \"predictions\": 3.686264367816092}, {\"age\": 43, \"bmi\": 22.80591202, \"female\": 0, \"footwear\": 2, \"group\": 1, \"injury\": 1, \"mf_d\": 42195, \"mf_di\": 3, \"mf_ti\": 11107, \"max\": 63.0, \"sprint\": 1, \"mf_s\": 3.798955613577024, \"time_hrs\": 3.085277777777778, \"predictions\": 3.366381704980843}, {\"age\": 22, \"bmi\": 25.23191071, \"female\": 0, \"footwear\": 1, \"group\": 1, \"injury\": 1, \"mf_d\": 42195, \"mf_di\": 3, \"mf_ti\": 12132, \"max\": 50.0, \"sprint\": 1, \"mf_s\": 3.4779920870425323, \"time_hrs\": 3.37, \"predictions\": 3.724133141762452}, {\"age\": 30, \"bmi\": 21.37924576, \"female\": 1, \"footwear\": 1, \"group\": 3, \"injury\": 1, \"mf_d\": 42195, \"mf_di\": 2, \"mf_ti\": 12180, \"max\": 63.0, \"sprint\": 1, \"mf_s\": 3.4642857142857144, \"time_hrs\": 3.3833333333333333, \"predictions\": 3.366381704980843}, {\"age\": 28, \"bmi\": 21.49645615, \"female\": 0, \"footwear\": 2, \"group\": 1, \"injury\": 2, \"mf_d\": 42195, \"mf_di\": 3, \"mf_ti\": 9363, \"max\": 71.0, \"sprint\": 1, \"mf_s\": 4.506568407561679, \"time_hrs\": 2.6008333333333336, \"predictions\": 3.212497605363984}, {\"age\": 29, \"bmi\": 31.14186668, \"female\": 0, \"footwear\": 2, \"group\": 3, \"injury\": 1, \"mf_d\": 42195, \"mf_di\": 2, \"mf_ti\": 13560, \"max\": 50.0, \"sprint\": 0, \"mf_s\": 3.1117256637168142, \"time_hrs\": 3.7666666666666666, \"predictions\": 3.724133141762452}, {\"age\": 35, \"bmi\": 22.01950264, \"female\": 1, \"footwear\": 1, \"group\": 1, \"injury\": 1, \"mf_d\": 42195, \"mf_di\": 3, \"mf_ti\": 12546, \"max\": 55.0, \"sprint\": 1, \"mf_s\": 3.363223338115734, \"time_hrs\": 3.485, \"predictions\": 3.686264367816092}, {\"age\": 46, \"bmi\": 19.64085388, \"female\": 0, \"footwear\": 1, \"group\": 1, \"injury\": 1, \"mf_d\": 42195, \"mf_di\": 3, \"mf_ti\": 9838, \"max\": 70.0, \"sprint\": 1, \"mf_s\": 4.28898150030494, \"time_hrs\": 2.7327777777777778, \"predictions\": 3.2448730842911884}, {\"age\": 29, \"bmi\": 23.59925842, \"female\": 0, \"footwear\": 1, \"group\": 2, \"injury\": 1, \"mf_d\": 42195, \"mf_di\": 2, \"mf_ti\": 10782, \"max\": 68.0, \"sprint\": 1, \"mf_s\": 3.913466889259877, \"time_hrs\": 2.995, \"predictions\": 3.2529837164750957}, {\"age\": 37, \"bmi\": 23.84960938, \"female\": 0, \"footwear\": 2, \"group\": 3, \"injury\": 1, \"mf_d\": 42195, \"mf_di\": 3, \"mf_ti\": 10980, \"max\": 60.0, \"sprint\": 1, \"mf_s\": 3.842896174863388, \"time_hrs\": 3.05, \"predictions\": 3.5166403256704983}, {\"age\": 45, \"bmi\": 23.2189579, \"female\": 0, \"footwear\": 2, \"group\": 2, \"injury\": 1, \"mf_d\": 42195, \"mf_di\": 4, \"mf_ti\": 11470, \"max\": 50.0, \"sprint\": 0, \"mf_s\": 3.678727114210985, \"time_hrs\": 3.186111111111111, \"predictions\": 3.724133141762452}, {\"age\": 32, \"bmi\": 19.34570503, \"female\": 0, \"footwear\": 1, \"group\": 1, \"injury\": 1, \"mf_d\": 42195, \"mf_di\": 4, \"mf_ti\": 8152, \"max\": 110.0, \"sprint\": 1, \"mf_s\": 5.176030421982335, \"time_hrs\": 2.2644444444444445, \"predictions\": 3.0299521072796933}, {\"age\": 40, \"bmi\": 20.41903305, \"female\": 1, \"footwear\": 2, \"group\": 3, \"injury\": 1, \"mf_d\": 42195, \"mf_di\": 4, \"mf_ti\": 13110, \"max\": 70.0, \"sprint\": 0, \"mf_s\": 3.218535469107552, \"time_hrs\": 3.6416666666666666, \"predictions\": 3.2448730842911884}, {\"age\": 34, \"bmi\": 23.04032135, \"female\": 0, \"footwear\": 2, \"group\": 2, \"injury\": 2, \"mf_d\": 42195, \"mf_di\": 4, \"mf_ti\": 12197, \"max\": 60.0, \"sprint\": 1, \"mf_s\": 3.459457243584488, \"time_hrs\": 3.388055555555556, \"predictions\": 3.5166403256704983}, {\"age\": 36, \"bmi\": 24.55106735, \"female\": 0, \"footwear\": 2, \"group\": 1, \"injury\": 1, \"mf_d\": 42195, \"mf_di\": 2, \"mf_ti\": 11580, \"max\": 56.0, \"sprint\": 1, \"mf_s\": 3.643782383419689, \"time_hrs\": 3.216666666666667, \"predictions\": 3.592777777777778}, {\"age\": 40, \"bmi\": 25.20478821, \"female\": 0, \"footwear\": 1, \"group\": 3, \"injury\": 1, \"mf_d\": 42195, \"mf_di\": 3, \"mf_ti\": 13585, \"max\": 40.0, \"sprint\": 1, \"mf_s\": 3.1059992638940006, \"time_hrs\": 3.773611111111111, \"predictions\": 4.159741379310345}, {\"age\": 45, \"bmi\": 20.81165504, \"female\": 1, \"footwear\": 2, \"group\": 1, \"injury\": 2, \"mf_d\": 42195, \"mf_di\": 2, \"mf_ti\": 13620, \"max\": 40.0, \"sprint\": 0, \"mf_s\": 3.0980176211453743, \"time_hrs\": 3.783333333333333, \"predictions\": 4.159741379310345}, {\"age\": 29, \"bmi\": 24.48979568, \"female\": 0, \"footwear\": 2, \"group\": 2, \"injury\": 1, \"mf_d\": 42195, \"mf_di\": 3, \"mf_ti\": 11011, \"max\": 55.0, \"sprint\": 1, \"mf_s\": 3.832077013895196, \"time_hrs\": 3.0586111111111114, \"predictions\": 3.686264367816092}, {\"age\": 28, \"bmi\": 22.3776226, \"female\": 1, \"footwear\": 2, \"group\": 1, \"injury\": 2, \"mf_d\": 42195, \"mf_di\": 3, \"mf_ti\": 15430, \"max\": 30.0, \"sprint\": 1, \"mf_s\": 2.734607906675308, \"time_hrs\": 4.286111111111111, \"predictions\": 4.217677203065134}, {\"age\": 41, \"bmi\": 21.38588142, \"female\": 0, \"footwear\": 2, \"group\": 3, \"injury\": 3, \"mf_d\": 42195, \"mf_di\": 3, \"mf_ti\": 15617, \"max\": 48.0, \"sprint\": 0, \"mf_s\": 2.701863354037267, \"time_hrs\": 4.338055555555556, \"predictions\": 3.750289750957854}, {\"age\": 30, \"bmi\": 20.57555008, \"female\": 1, \"footwear\": 2, \"group\": 2, \"injury\": 1, \"mf_d\": 42195, \"mf_di\": 4, \"mf_ti\": 12719, \"max\": 72.0, \"sprint\": 1, \"mf_s\": 3.317477789134366, \"time_hrs\": 3.5330555555555554, \"predictions\": 3.212497605363984}, {\"age\": 41, \"bmi\": 22.47685242, \"female\": 1, \"footwear\": 2, \"group\": 2, \"injury\": 2, \"mf_d\": 42195, \"mf_di\": 4, \"mf_ti\": 17280, \"max\": 40.0, \"sprint\": 0, \"mf_s\": 2.4418402777777777, \"time_hrs\": 4.8, \"predictions\": 4.159741379310345}, {\"age\": 30, \"bmi\": 22.57785988, \"female\": 0, \"footwear\": 1, \"group\": 2, \"injury\": 1, \"mf_d\": 42195, \"mf_di\": 3, \"mf_ti\": 11040, \"max\": 100.0, \"sprint\": 1, \"mf_s\": 3.822010869565217, \"time_hrs\": 3.066666666666667, \"predictions\": 3.0483524904214554}, {\"age\": 43, \"bmi\": 25.97402573, \"female\": 0, \"footwear\": 2, \"group\": 1, \"injury\": 3, \"mf_d\": 42195, \"mf_di\": 3, \"mf_ti\": 14220, \"max\": 36.0, \"sprint\": 0, \"mf_s\": 2.967299578059072, \"time_hrs\": 3.95, \"predictions\": 4.124861111111111}, {\"age\": 34, \"bmi\": 18.36547279, \"female\": 1, \"footwear\": 2, \"group\": 3, \"injury\": 3, \"mf_d\": 42195, \"mf_di\": 3, \"mf_ti\": 11040, \"max\": 70.0, \"sprint\": 1, \"mf_s\": 3.822010869565217, \"time_hrs\": 3.066666666666667, \"predictions\": 3.2448730842911884}, {\"age\": 36, \"bmi\": 25.6369915, \"female\": 0, \"footwear\": 2, \"group\": 2, \"injury\": 2, \"mf_d\": 42195, \"mf_di\": 4, \"mf_ti\": 11580, \"max\": 55.0, \"sprint\": 0, \"mf_s\": 3.643782383419689, \"time_hrs\": 3.216666666666667, \"predictions\": 3.686264367816092}, {\"age\": 32, \"bmi\": 21.87164688, \"female\": 1, \"footwear\": 2, \"group\": 2, \"injury\": 2, \"mf_d\": 42195, \"mf_di\": 2, \"mf_ti\": 12700, \"max\": 70.0, \"sprint\": 1, \"mf_s\": 3.32244094488189, \"time_hrs\": 3.5277777777777777, \"predictions\": 3.2448730842911884}, {\"age\": 47, \"bmi\": 24.70283508, \"female\": 0, \"footwear\": 2, \"group\": 1, \"injury\": 3, \"mf_d\": 42195, \"mf_di\": 3, \"mf_ti\": 12720, \"max\": 70.0, \"sprint\": 1, \"mf_s\": 3.3172169811320757, \"time_hrs\": 3.533333333333333, \"predictions\": 3.2448730842911884}, {\"age\": 39, \"bmi\": 22.70872116, \"female\": 0, \"footwear\": 2, \"group\": 1, \"injury\": 2, \"mf_d\": 42195, \"mf_di\": 3, \"mf_ti\": 12936, \"max\": 51.0, \"sprint\": 0, \"mf_s\": 3.26182745825603, \"time_hrs\": 3.5933333333333333, \"predictions\": 3.717646072796935}, {\"age\": 38, \"bmi\": 24.85058212, \"female\": 1, \"footwear\": 2, \"group\": 2, \"injury\": 2, \"mf_d\": 42195, \"mf_di\": 4, \"mf_ti\": 13210, \"max\": 65.0, \"sprint\": 0, \"mf_s\": 3.194171082513248, \"time_hrs\": 3.669444444444444, \"predictions\": 3.3246743295019154}, {\"age\": 51, \"bmi\": 25.96857071, \"female\": 0, \"footwear\": 2, \"group\": 2, \"injury\": 2, \"mf_d\": 42195, \"mf_di\": 2, \"mf_ti\": 13617, \"max\": 53.0, \"sprint\": 0, \"mf_s\": 3.098700154218991, \"time_hrs\": 3.7825, \"predictions\": 3.691305076628353}, {\"age\": 45, \"bmi\": 21.38588142, \"female\": 0, \"footwear\": 1, \"group\": 2, \"injury\": 1, \"mf_d\": 42195, \"mf_di\": 3, \"mf_ti\": 10875, \"max\": 82.0, \"sprint\": 1, \"mf_s\": 3.88, \"time_hrs\": 3.020833333333333, \"predictions\": 3.1093247126436774}, {\"age\": 33, \"bmi\": 22.51829529, \"female\": 0, \"footwear\": 2, \"group\": 2, \"injury\": 2, \"mf_d\": 42195, \"mf_di\": 3, \"mf_ti\": 12292, \"max\": 50.0, \"sprint\": 0, \"mf_s\": 3.432720468597462, \"time_hrs\": 3.4144444444444444, \"predictions\": 3.724133141762452}, {\"age\": 36, \"bmi\": 20.86985588, \"female\": 1, \"footwear\": 1, \"group\": 2, \"injury\": 3, \"mf_d\": 42195, \"mf_di\": 3, \"mf_ti\": 12115, \"max\": 63.0, \"sprint\": 1, \"mf_s\": 3.4828724721419726, \"time_hrs\": 3.3652777777777776, \"predictions\": 3.366381704980843}, {\"age\": 44, \"bmi\": 22.32523155, \"female\": 1, \"footwear\": 1, \"group\": 2, \"injury\": 1, \"mf_d\": 42195, \"mf_di\": 2, \"mf_ti\": 16973, \"max\": 43.0, \"sprint\": 1, \"mf_s\": 2.4860071878866434, \"time_hrs\": 4.714722222222222, \"predictions\": 4.045763888888889}, {\"age\": 28, \"bmi\": 20.77414703, \"female\": 1, \"footwear\": 3, \"group\": 1, \"injury\": 1, \"mf_d\": 42195, \"mf_di\": 4, \"mf_ti\": 11190, \"max\": 91.0, \"sprint\": 1, \"mf_s\": 3.770777479892762, \"time_hrs\": 3.1083333333333334, \"predictions\": 3.0639727011494244}, {\"age\": 22, \"bmi\": 25.68033028, \"female\": 0, \"footwear\": 2, \"group\": 3, \"injury\": 1, \"mf_d\": 42195, \"mf_di\": 4, \"mf_ti\": 16330, \"max\": 23.0, \"sprint\": 0, \"mf_s\": 2.583894672382119, \"time_hrs\": 4.536111111111111, \"predictions\": 4.2417217432950185}, {\"age\": 43, \"bmi\": 22.60793114, \"female\": 0, \"footwear\": 2, \"group\": 3, \"injury\": 1, \"mf_d\": 42195, \"mf_di\": 2, \"mf_ti\": 16160, \"max\": 20.0, \"sprint\": 0, \"mf_s\": 2.611076732673267, \"time_hrs\": 4.488888888888889, \"predictions\": 4.230174808429118}, {\"age\": 33, \"bmi\": 24.20903206, \"female\": 0, \"footwear\": 2, \"group\": 1, \"injury\": 1, \"mf_d\": 42195, \"mf_di\": 2, \"mf_ti\": 12060, \"max\": 58.0, \"sprint\": 1, \"mf_s\": 3.4987562189054726, \"time_hrs\": 3.35, \"predictions\": 3.56000478927203}, {\"age\": 32, \"bmi\": 22.2054863, \"female\": 1, \"footwear\": 2, \"group\": 2, \"injury\": 1, \"mf_d\": 42195, \"mf_di\": 3, \"mf_ti\": 13149, \"max\": 45.0, \"sprint\": 1, \"mf_s\": 3.208989276751084, \"time_hrs\": 3.6525, \"predictions\": 4.001913314176246}, {\"age\": 37, \"bmi\": 21.07580948, \"female\": 1, \"footwear\": 2, \"group\": 3, \"injury\": 2, \"mf_d\": 42195, \"mf_di\": 3, \"mf_ti\": 13812, \"max\": 48.0, \"sprint\": 1, \"mf_s\": 3.054952215464813, \"time_hrs\": 3.8366666666666656, \"predictions\": 3.750289750957854}, {\"age\": 37, \"bmi\": 27.07126808, \"female\": 0, \"footwear\": 2, \"group\": 3, \"injury\": 2, \"mf_d\": 42195, \"mf_di\": 3, \"mf_ti\": 13412, \"max\": 45.0, \"sprint\": 1, \"mf_s\": 3.1460632269609303, \"time_hrs\": 3.725555555555556, \"predictions\": 4.001913314176246}, {\"age\": 25, \"bmi\": 21.66193008, \"female\": 1, \"footwear\": 2, \"group\": 3, \"injury\": 1, \"mf_d\": 42195, \"mf_di\": 2, \"mf_ti\": 12247, \"max\": 50.0, \"sprint\": 0, \"mf_s\": 3.445333551073732, \"time_hrs\": 3.4019444444444447, \"predictions\": 3.724133141762452}, {\"age\": 34, \"bmi\": 23.67722511, \"female\": 0, \"footwear\": 2, \"group\": 2, \"injury\": 1, \"mf_d\": 42195, \"mf_di\": 3, \"mf_ti\": 13028, \"max\": 55.0, \"sprint\": 0, \"mf_s\": 3.2387933681301813, \"time_hrs\": 3.618888888888889, \"predictions\": 3.686264367816092}, {\"age\": 40, \"bmi\": 24.93506622, \"female\": 0, \"footwear\": 2, \"group\": 2, \"injury\": 1, \"mf_d\": 42195, \"mf_di\": 3, \"mf_ti\": 13405, \"max\": 65.0, \"sprint\": 0, \"mf_s\": 3.147706079820962, \"time_hrs\": 3.723611111111111, \"predictions\": 3.3246743295019154}, {\"age\": 30, \"bmi\": 21.69922447, \"female\": 1, \"footwear\": 2, \"group\": 2, \"injury\": 2, \"mf_d\": 42195, \"mf_di\": 3, \"mf_ti\": 10334, \"max\": 85.0, \"sprint\": 1, \"mf_s\": 4.083123669440681, \"time_hrs\": 2.8705555555555557, \"predictions\": 3.101120689655173}, {\"age\": 29, \"bmi\": 24.1929512, \"female\": 0, \"footwear\": 2, \"group\": 2, \"injury\": 3, \"mf_d\": 42195, \"mf_di\": 4, \"mf_ti\": 12065, \"max\": 55.0, \"sprint\": 1, \"mf_s\": 3.4973062577704104, \"time_hrs\": 3.351388888888889, \"predictions\": 3.686264367816092}, {\"age\": 28, \"bmi\": 21.74523163, \"female\": 0, \"footwear\": 2, \"group\": 3, \"injury\": 2, \"mf_d\": 42195, \"mf_di\": 3, \"mf_ti\": 16513, \"max\": 26.0, \"sprint\": 0, \"mf_s\": 2.555259492521044, \"time_hrs\": 4.586944444444444, \"predictions\": 4.223280651340996}, {\"age\": 44, \"bmi\": 23.74768066, \"female\": 0, \"footwear\": 1, \"group\": 1, \"injury\": 1, \"mf_d\": 42195, \"mf_di\": 4, \"mf_ti\": 11680, \"max\": 50.0, \"sprint\": 1, \"mf_s\": 3.612585616438356, \"time_hrs\": 3.2444444444444445, \"predictions\": 3.724133141762452}, {\"age\": 28, \"bmi\": 21.60493851, \"female\": 0, \"footwear\": 2, \"group\": 1, \"injury\": 1, \"mf_d\": 42195, \"mf_di\": 2, \"mf_ti\": 14392, \"max\": 34.0, \"sprint\": 0, \"mf_s\": 2.9318371317398557, \"time_hrs\": 3.997777777777778, \"predictions\": 4.179231321839081}, {\"age\": 43, \"bmi\": 23.14814949, \"female\": 0, \"footwear\": 2, \"group\": 1, \"injury\": 1, \"mf_d\": 42195, \"mf_di\": 3, \"mf_ti\": 10200, \"max\": 45.0, \"sprint\": 0, \"mf_s\": 4.136764705882353, \"time_hrs\": 2.833333333333333, \"predictions\": 4.001913314176246}, {\"age\": 31, \"bmi\": 25.75936508, \"female\": 0, \"footwear\": 2, \"group\": 2, \"injury\": 1, \"mf_d\": 42195, \"mf_di\": 4, \"mf_ti\": 13025, \"max\": 50.0, \"sprint\": 1, \"mf_s\": 3.239539347408829, \"time_hrs\": 3.618055555555556, \"predictions\": 3.724133141762452}, {\"age\": 33, \"bmi\": 20.321558, \"female\": 0, \"footwear\": 2, \"group\": 1, \"injury\": 1, \"mf_d\": 42195, \"mf_di\": 4, \"mf_ti\": 13450, \"max\": 50.0, \"sprint\": 0, \"mf_s\": 3.137174721189591, \"time_hrs\": 3.736111111111111, \"predictions\": 3.724133141762452}, {\"age\": 47, \"bmi\": 25.04382706, \"female\": 1, \"footwear\": 2, \"group\": 1, \"injury\": 1, \"mf_d\": 42195, \"mf_di\": 3, \"mf_ti\": 15660, \"max\": 40.0, \"sprint\": 0, \"mf_s\": 2.6944444444444446, \"time_hrs\": 4.35, \"predictions\": 4.159741379310345}, {\"age\": 30, \"bmi\": 27.54821014, \"female\": 0, \"footwear\": 2, \"group\": 1, \"injury\": 1, \"mf_d\": 42195, \"mf_di\": 2, \"mf_ti\": 11505, \"max\": 72.0, \"sprint\": 1, \"mf_s\": 3.667535853976532, \"time_hrs\": 3.1958333333333333, \"predictions\": 3.212497605363984}, {\"age\": 47, \"bmi\": 21.83592224, \"female\": 0, \"footwear\": 2, \"group\": 2, \"injury\": 1, \"mf_d\": 42195, \"mf_di\": 4, \"mf_ti\": 10747, \"max\": 86.0, \"sprint\": 1, \"mf_s\": 3.926211966130083, \"time_hrs\": 2.9852777777777777, \"predictions\": 3.093273467432951}, {\"age\": 47, \"bmi\": 25.24751663, \"female\": 0, \"footwear\": 3, \"group\": 1, \"injury\": 1, \"mf_d\": 42195, \"mf_di\": 2, \"mf_ti\": 10757, \"max\": 60.0, \"sprint\": 1, \"mf_s\": 3.9225620526169007, \"time_hrs\": 2.9880555555555555, \"predictions\": 3.5166403256704983}, {\"age\": 47, \"bmi\": 24.55106735, \"female\": 0, \"footwear\": 2, \"group\": 3, \"injury\": 2, \"mf_d\": 42195, \"mf_di\": 2, \"mf_ti\": 14416, \"max\": 52.0, \"sprint\": 1, \"mf_s\": 2.9269561598224194, \"time_hrs\": 4.004444444444444, \"predictions\": 3.6874545019157092}, {\"age\": 28, \"bmi\": 19.66026878, \"female\": 0, \"footwear\": 2, \"group\": 1, \"injury\": 2, \"mf_d\": 42195, \"mf_di\": 4, \"mf_ti\": 10080, \"max\": 70.0, \"sprint\": 0, \"mf_s\": 4.186011904761905, \"time_hrs\": 2.8, \"predictions\": 3.2448730842911884}, {\"age\": 31, \"bmi\": 23.08344269, \"female\": 1, \"footwear\": 1, \"group\": 3, \"injury\": 1, \"mf_d\": 42195, \"mf_di\": 3, \"mf_ti\": 15070, \"max\": 40.0, \"sprint\": 0, \"mf_s\": 2.799933642999336, \"time_hrs\": 4.186111111111111, \"predictions\": 4.159741379310345}, {\"age\": 28, \"bmi\": 21.59191895, \"female\": 0, \"footwear\": 2, \"group\": 3, \"injury\": 1, \"mf_d\": 42195, \"mf_di\": 4, \"mf_ti\": 12180, \"max\": 57.0, \"sprint\": 1, \"mf_s\": 3.4642857142857144, \"time_hrs\": 3.3833333333333333, \"predictions\": 3.5725550766283525}, {\"age\": 56, \"bmi\": 25.47970772, \"female\": 0, \"footwear\": 1, \"group\": 2, \"injury\": 2, \"mf_d\": 42195, \"mf_di\": 3, \"mf_ti\": 14650, \"max\": 40.0, \"sprint\": 0, \"mf_s\": 2.8802047781569966, \"time_hrs\": 4.069444444444445, \"predictions\": 4.159741379310345}, {\"age\": 47, \"bmi\": 24.09060478, \"female\": 0, \"footwear\": 1, \"group\": 2, \"injury\": 1, \"mf_d\": 42195, \"mf_di\": 3, \"mf_ti\": 13170, \"max\": 70.0, \"sprint\": 0, \"mf_s\": 3.203872437357631, \"time_hrs\": 3.658333333333333, \"predictions\": 3.2448730842911884}, {\"age\": 34, \"bmi\": 21.17267418, \"female\": 0, \"footwear\": 1, \"group\": 2, \"injury\": 2, \"mf_d\": 42195, \"mf_di\": 3, \"mf_ti\": 10530, \"max\": 72.0, \"sprint\": 1, \"mf_s\": 4.007122507122507, \"time_hrs\": 2.925, \"predictions\": 3.212497605363984}, {\"age\": 45, \"bmi\": 25.79951668, \"female\": 1, \"footwear\": 2, \"group\": 2, \"injury\": 1, \"mf_d\": 42195, \"mf_di\": 3, \"mf_ti\": 17340, \"max\": 34.0, \"sprint\": 0, \"mf_s\": 2.4333910034602075, \"time_hrs\": 4.816666666666666, \"predictions\": 4.179231321839081}, {\"age\": 27, \"bmi\": 25.89813232, \"female\": 0, \"footwear\": 1, \"group\": 3, \"injury\": 2, \"mf_d\": 42195, \"mf_di\": 4, \"mf_ti\": 14278, \"max\": 45.0, \"sprint\": 0, \"mf_s\": 2.955245832749685, \"time_hrs\": 3.966111111111111, \"predictions\": 4.001913314176246}, {\"age\": 26, \"bmi\": 19.86567116, \"female\": 1, \"footwear\": 2, \"group\": 2, \"injury\": 1, \"mf_d\": 42195, \"mf_di\": 2, \"mf_ti\": 10461, \"max\": 94.0, \"sprint\": 1, \"mf_s\": 4.033553197591052, \"time_hrs\": 2.9058333333333333, \"predictions\": 3.054152298850574}, {\"age\": 42, \"bmi\": 24.04452515, \"female\": 0, \"footwear\": 2, \"group\": 1, \"injury\": 1, \"mf_d\": 42195, \"mf_di\": 3, \"mf_ti\": 13680, \"max\": 100.0, \"sprint\": 0, \"mf_s\": 3.084429824561404, \"time_hrs\": 3.8, \"predictions\": 3.0483524904214554}, {\"age\": 26, \"bmi\": 26.37949944, \"female\": 1, \"footwear\": 2, \"group\": 1, \"injury\": 1, \"mf_d\": 42195, \"mf_di\": 3, \"mf_ti\": 13874, \"max\": 50.0, \"sprint\": 0, \"mf_s\": 3.041300273893614, \"time_hrs\": 3.8538888888888887, \"predictions\": 3.724133141762452}, {\"age\": 43, \"bmi\": 18.28758621, \"female\": 0, \"footwear\": 1, \"group\": 3, \"injury\": 2, \"mf_d\": 42195, \"mf_di\": 2, \"mf_ti\": 15243, \"max\": 49.0, \"sprint\": 0, \"mf_s\": 2.76815587482779, \"time_hrs\": 4.234166666666667, \"predictions\": 3.7339319923371654}, {\"age\": 33, \"bmi\": 23.49176788, \"female\": 1, \"footwear\": 2, \"group\": 3, \"injury\": 2, \"mf_d\": 42195, \"mf_di\": 2, \"mf_ti\": 11580, \"max\": 50.0, \"sprint\": 1, \"mf_s\": 3.643782383419689, \"time_hrs\": 3.216666666666667, \"predictions\": 3.724133141762452}, {\"age\": 32, \"bmi\": 24.96845627, \"female\": 0, \"footwear\": 2, \"group\": 3, \"injury\": 2, \"mf_d\": 42195, \"mf_di\": 2, \"mf_ti\": 13131, \"max\": 50.0, \"sprint\": 1, \"mf_s\": 3.213388165410098, \"time_hrs\": 3.6475, \"predictions\": 3.724133141762452}, {\"age\": 38, \"bmi\": 27.12304497, \"female\": 0, \"footwear\": 2, \"group\": 3, \"injury\": 1, \"mf_d\": 42195, \"mf_di\": 4, \"mf_ti\": 17878, \"max\": 42.0, \"sprint\": 0, \"mf_s\": 2.3601633292314577, \"time_hrs\": 4.96611111111111, \"predictions\": 4.123378831417624}, {\"age\": 41, \"bmi\": 25.20478821, \"female\": 0, \"footwear\": 2, \"group\": 1, \"injury\": 1, \"mf_d\": 42195, \"mf_di\": 2, \"mf_ti\": 13500, \"max\": 20.0, \"sprint\": 1, \"mf_s\": 3.125555555555556, \"time_hrs\": 3.75, \"predictions\": 4.230174808429118}, {\"age\": 42, \"bmi\": 24.34137344, \"female\": 0, \"footwear\": 2, \"group\": 3, \"injury\": 2, \"mf_d\": 42195, \"mf_di\": 4, \"mf_ti\": 13200, \"max\": 40.0, \"sprint\": 1, \"mf_s\": 3.1965909090909093, \"time_hrs\": 3.6666666666666665, \"predictions\": 4.159741379310345}, {\"age\": 37, \"bmi\": 19.55280685, \"female\": 0, \"footwear\": 2, \"group\": 3, \"injury\": 1, \"mf_d\": 42195, \"mf_di\": 4, \"mf_ti\": 10834, \"max\": 84.0, \"sprint\": 1, \"mf_s\": 3.894683404098209, \"time_hrs\": 3.0094444444444446, \"predictions\": 3.108074712643678}, {\"age\": 35, \"bmi\": 25.05203247, \"female\": 0, \"footwear\": 2, \"group\": 3, \"injury\": 2, \"mf_d\": 42195, \"mf_di\": 4, \"mf_ti\": 14399, \"max\": 55.0, \"sprint\": 1, \"mf_s\": 2.9304118341551497, \"time_hrs\": 3.999722222222222, \"predictions\": 3.686264367816092}, {\"age\": 47, \"bmi\": 25.92195129, \"female\": 0, \"footwear\": 2, \"group\": 3, \"injury\": 1, \"mf_d\": 42195, \"mf_di\": 2, \"mf_ti\": 14045, \"max\": 65.0, \"sprint\": 0, \"mf_s\": 3.0042719829120683, \"time_hrs\": 3.901388888888889, \"predictions\": 3.3246743295019154}, {\"age\": 44, \"bmi\": 23.5923233, \"female\": 0, \"footwear\": 2, \"group\": 1, \"injury\": 1, \"mf_d\": 42195, \"mf_di\": 4, \"mf_ti\": 11985, \"max\": 45.0, \"sprint\": 0, \"mf_s\": 3.520650813516896, \"time_hrs\": 3.3291666666666666, \"predictions\": 4.001913314176246}, {\"age\": 31, \"bmi\": 24.37873268, \"female\": 0, \"footwear\": 1, \"group\": 3, \"injury\": 1, \"mf_d\": 42195, \"mf_di\": 3, \"mf_ti\": 15420, \"max\": 34.0, \"sprint\": 1, \"mf_s\": 2.7363813229571985, \"time_hrs\": 4.283333333333333, \"predictions\": 4.179231321839081}, {\"age\": 26, \"bmi\": 25.16318321, \"female\": 1, \"footwear\": 2, \"group\": 1, \"injury\": 2, \"mf_d\": 42195, \"mf_di\": 3, \"mf_ti\": 11744, \"max\": 48.0, \"sprint\": 1, \"mf_s\": 3.5928985013623977, \"time_hrs\": 3.262222222222222, \"predictions\": 3.750289750957854}, {\"age\": 49, \"bmi\": 20.522686, \"female\": 1, \"footwear\": 2, \"group\": 2, \"injury\": 1, \"mf_d\": 42195, \"mf_di\": 4, \"mf_ti\": 13020, \"max\": 65.0, \"sprint\": 0, \"mf_s\": 3.2407834101382487, \"time_hrs\": 3.6166666666666663, \"predictions\": 3.3246743295019154}, {\"age\": 35, \"bmi\": 25.27348328, \"female\": 0, \"footwear\": 2, \"group\": 2, \"injury\": 1, \"mf_d\": 42195, \"mf_di\": 2, \"mf_ti\": 14354, \"max\": 35.0, \"sprint\": 1, \"mf_s\": 2.939598718127351, \"time_hrs\": 3.987222222222222, \"predictions\": 4.160141283524904}, {\"age\": 30, \"bmi\": 20.91937065, \"female\": 0, \"footwear\": 1, \"group\": 2, \"injury\": 1, \"mf_d\": 42195, \"mf_di\": 3, \"mf_ti\": 9081, \"max\": 87.0, \"sprint\": 1, \"mf_s\": 4.646514701024116, \"time_hrs\": 2.5225, \"predictions\": 3.09327346743295}, {\"age\": 42, \"bmi\": 26.40168762, \"female\": 0, \"footwear\": 1, \"group\": 2, \"injury\": 1, \"mf_d\": 42195, \"mf_di\": 3, \"mf_ti\": 12896, \"max\": 55.0, \"sprint\": 0, \"mf_s\": 3.271944789081886, \"time_hrs\": 3.582222222222222, \"predictions\": 3.686264367816092}, {\"age\": 29, \"bmi\": 25.20478821, \"female\": 0, \"footwear\": 2, \"group\": 2, \"injury\": 3, \"mf_d\": 42195, \"mf_di\": 4, \"mf_ti\": 13080, \"max\": 40.0, \"sprint\": 0, \"mf_s\": 3.2259174311926606, \"time_hrs\": 3.633333333333333, \"predictions\": 4.159741379310345}, {\"age\": 44, \"bmi\": 22.79490089, \"female\": 0, \"footwear\": 2, \"group\": 2, \"injury\": 1, \"mf_d\": 42195, \"mf_di\": 3, \"mf_ti\": 13456, \"max\": 70.0, \"sprint\": 1, \"mf_s\": 3.1357758620689653, \"time_hrs\": 3.737777777777778, \"predictions\": 3.2448730842911884}, {\"age\": 26, \"bmi\": 25.25252533, \"female\": 1, \"footwear\": 2, \"group\": 1, \"injury\": 2, \"mf_d\": 42195, \"mf_di\": 2, \"mf_ti\": 16899, \"max\": 34.0, \"sprint\": 1, \"mf_s\": 2.4968933072962898, \"time_hrs\": 4.694166666666666, \"predictions\": 4.179231321839081}, {\"age\": 28, \"bmi\": 25.60000038, \"female\": 0, \"footwear\": 2, \"group\": 2, \"injury\": 1, \"mf_d\": 42195, \"mf_di\": 3, \"mf_ti\": 15324, \"max\": 45.0, \"sprint\": 0, \"mf_s\": 2.753523884103368, \"time_hrs\": 4.256666666666667, \"predictions\": 4.001913314176246}, {\"age\": 38, \"bmi\": 25.8121376, \"female\": 0, \"footwear\": 2, \"group\": 1, \"injury\": 1, \"mf_d\": 42195, \"mf_di\": 4, \"mf_ti\": 14370, \"max\": 40.0, \"sprint\": 1, \"mf_s\": 2.9363256784968685, \"time_hrs\": 3.9916666666666663, \"predictions\": 4.159741379310345}, {\"age\": 43, \"bmi\": 24.57002449, \"female\": 0, \"footwear\": 2, \"group\": 3, \"injury\": 1, \"mf_d\": 42195, \"mf_di\": 3, \"mf_ti\": 11762, \"max\": 90.0, \"sprint\": 1, \"mf_s\": 3.5874001020234654, \"time_hrs\": 3.2672222222222222, \"predictions\": 3.063972701149425}, {\"age\": 27, \"bmi\": 29.88360977, \"female\": 0, \"footwear\": 1, \"group\": 1, \"injury\": 1, \"mf_d\": 42195, \"mf_di\": 4, \"mf_ti\": 14430, \"max\": 28.0, \"sprint\": 1, \"mf_s\": 2.924116424116424, \"time_hrs\": 4.008333333333334, \"predictions\": 4.22896551724138}, {\"age\": 38, \"bmi\": 23.37423897, \"female\": 1, \"footwear\": 2, \"group\": 2, \"injury\": 2, \"mf_d\": 42195, \"mf_di\": 3, \"mf_ti\": 13690, \"max\": 35.0, \"sprint\": 0, \"mf_s\": 3.0821767713659605, \"time_hrs\": 3.8027777777777776, \"predictions\": 4.160141283524904}, {\"age\": 60, \"bmi\": 27.55586243, \"female\": 0, \"footwear\": 1, \"group\": 2, \"injury\": 1, \"mf_d\": 42195, \"mf_di\": 3, \"mf_ti\": 17520, \"max\": 33.0, \"sprint\": 0, \"mf_s\": 2.408390410958904, \"time_hrs\": 4.866666666666666, \"predictions\": 4.216362547892721}, {\"age\": 26, \"bmi\": 21.46464729, \"female\": 0, \"footwear\": 2, \"group\": 2, \"injury\": 1, \"mf_d\": 42195, \"mf_di\": 4, \"mf_ti\": 11301, \"max\": 62.0, \"sprint\": 0, \"mf_s\": 3.7337403769577913, \"time_hrs\": 3.1391666666666667, \"predictions\": 3.3822006704980847}, {\"age\": 39, \"bmi\": 23.00785828, \"female\": 0, \"footwear\": 2, \"group\": 1, \"injury\": 1, \"mf_d\": 42195, \"mf_di\": 2, \"mf_ti\": 11065, \"max\": 70.0, \"sprint\": 1, \"mf_s\": 3.8133755083596927, \"time_hrs\": 3.073611111111111, \"predictions\": 3.2448730842911884}, {\"age\": 48, \"bmi\": 28.05836296, \"female\": 0, \"footwear\": 2, \"group\": 2, \"injury\": 1, \"mf_d\": 42195, \"mf_di\": 3, \"mf_ti\": 18300, \"max\": 30.0, \"sprint\": 0, \"mf_s\": 2.305737704918033, \"time_hrs\": 5.083333333333333, \"predictions\": 4.217677203065134}, {\"age\": 40, \"bmi\": 23.84960938, \"female\": 0, \"footwear\": 1, \"group\": 2, \"injury\": 1, \"mf_d\": 42195, \"mf_di\": 3, \"mf_ti\": 11100, \"max\": 55.0, \"sprint\": 1, \"mf_s\": 3.801351351351352, \"time_hrs\": 3.083333333333333, \"predictions\": 3.686264367816092}, {\"age\": 28, \"bmi\": 23.08344269, \"female\": 0, \"footwear\": 1, \"group\": 3, \"injury\": 1, \"mf_d\": 42195, \"mf_di\": 3, \"mf_ti\": 13320, \"max\": 46.0, \"sprint\": 0, \"mf_s\": 3.1677927927927927, \"time_hrs\": 3.7, \"predictions\": 3.86819683908046}, {\"age\": 31, \"bmi\": 24.55106735, \"female\": 0, \"footwear\": 2, \"group\": 2, \"injury\": 3, \"mf_d\": 42195, \"mf_di\": 4, \"mf_ti\": 13321, \"max\": 50.0, \"sprint\": 0, \"mf_s\": 3.167554988364237, \"time_hrs\": 3.700277777777778, \"predictions\": 3.724133141762452}, {\"age\": 45, \"bmi\": 23.45083618, \"female\": 0, \"footwear\": 1, \"group\": 3, \"injury\": 1, \"mf_d\": 42195, \"mf_di\": 4, \"mf_ti\": 10963, \"max\": 65.0, \"sprint\": 1, \"mf_s\": 3.8488552403539176, \"time_hrs\": 3.0452777777777778, \"predictions\": 3.3246743295019154}, {\"age\": 25, \"bmi\": 24.95965385, \"female\": 1, \"footwear\": 1, \"group\": 2, \"injury\": 1, \"mf_d\": 42195, \"mf_di\": 3, \"mf_ti\": 14985, \"max\": 45.0, \"sprint\": 1, \"mf_s\": 2.815815815815816, \"time_hrs\": 4.1625, \"predictions\": 4.001913314176246}, {\"age\": 24, \"bmi\": 20.19801331, \"female\": 0, \"footwear\": 2, \"group\": 1, \"injury\": 1, \"mf_d\": 42195, \"mf_di\": 4, \"mf_ti\": 9130, \"max\": 86.0, \"sprint\": 1, \"mf_s\": 4.62157721796276, \"time_hrs\": 2.536111111111111, \"predictions\": 3.093273467432951}, {\"age\": 33, \"bmi\": 24.8768692, \"female\": 0, \"footwear\": 1, \"group\": 3, \"injury\": 1, \"mf_d\": 42195, \"mf_di\": 2, \"mf_ti\": 15338, \"max\": 35.0, \"sprint\": 0, \"mf_s\": 2.7510105620028686, \"time_hrs\": 4.260555555555555, \"predictions\": 4.160141283524904}, {\"age\": 30, \"bmi\": 21.86121559, \"female\": 1, \"footwear\": 2, \"group\": 3, \"injury\": 2, \"mf_d\": 42195, \"mf_di\": 2, \"mf_ti\": 14040, \"max\": 38.0, \"sprint\": 0, \"mf_s\": 3.0053418803418803, \"time_hrs\": 3.9, \"predictions\": 4.119810823754789}, {\"age\": 30, \"bmi\": 23.97016907, \"female\": 1, \"footwear\": 2, \"group\": 2, \"injury\": 3, \"mf_d\": 42195, \"mf_di\": 3, \"mf_ti\": 17827, \"max\": 25.0, \"sprint\": 0, \"mf_s\": 2.36691535311606, \"time_hrs\": 4.951944444444445, \"predictions\": 4.241721743295019}, {\"age\": 27, \"bmi\": 23.20066833, \"female\": 0, \"footwear\": 1, \"group\": 2, \"injury\": 1, \"mf_d\": 42195, \"mf_di\": 3, \"mf_ti\": 12960, \"max\": 60.0, \"sprint\": 0, \"mf_s\": 3.255787037037037, \"time_hrs\": 3.6, \"predictions\": 3.5166403256704983}, {\"age\": 28, \"bmi\": 22.68170738, \"female\": 1, \"footwear\": 2, \"group\": 3, \"injury\": 1, \"mf_d\": 42195, \"mf_di\": 2, \"mf_ti\": 12510, \"max\": 65.0, \"sprint\": 1, \"mf_s\": 3.3729016786570742, \"time_hrs\": 3.475, \"predictions\": 3.3246743295019154}, {\"age\": 27, \"bmi\": 23.14814949, \"female\": 0, \"footwear\": 2, \"group\": 2, \"injury\": 2, \"mf_d\": 42195, \"mf_di\": 4, \"mf_ti\": 11971, \"max\": 40.0, \"sprint\": 0, \"mf_s\": 3.524768189791997, \"time_hrs\": 3.325277777777778, \"predictions\": 4.159741379310345}, {\"age\": 26, \"bmi\": 23.2189579, \"female\": 0, \"footwear\": 2, \"group\": 2, \"injury\": 1, \"mf_d\": 42195, \"mf_di\": 2, \"mf_ti\": 10087, \"max\": 105.0, \"sprint\": 1, \"mf_s\": 4.183106969366511, \"time_hrs\": 2.801944444444445, \"predictions\": 3.044475574712644}, {\"age\": 45, \"bmi\": 24.17159081, \"female\": 0, \"footwear\": 1, \"group\": 1, \"injury\": 2, \"mf_d\": 42195, \"mf_di\": 2, \"mf_ti\": 15360, \"max\": 52.0, \"sprint\": 0, \"mf_s\": 2.7470703125, \"time_hrs\": 4.266666666666667, \"predictions\": 3.6874545019157092}, {\"age\": 33, \"bmi\": 22.72154427, \"female\": 1, \"footwear\": 2, \"group\": 3, \"injury\": 1, \"mf_d\": 42195, \"mf_di\": 3, \"mf_ti\": 16877, \"max\": 35.0, \"sprint\": 0, \"mf_s\": 2.50014813059193, \"time_hrs\": 4.688055555555556, \"predictions\": 4.160141283524904}, {\"age\": 56, \"bmi\": 22.41187286, \"female\": 0, \"footwear\": 2, \"group\": 2, \"injury\": 1, \"mf_d\": 42195, \"mf_di\": 3, \"mf_ti\": 10906, \"max\": 80.0, \"sprint\": 1, \"mf_s\": 3.8689712085090777, \"time_hrs\": 3.0294444444444446, \"predictions\": 3.111103927203065}, {\"age\": 32, \"bmi\": 23.14814949, \"female\": 0, \"footwear\": 2, \"group\": 1, \"injury\": 1, \"mf_d\": 42195, \"mf_di\": 3, \"mf_ti\": 12540, \"max\": 45.0, \"sprint\": 0, \"mf_s\": 3.364832535885168, \"time_hrs\": 3.4833333333333334, \"predictions\": 4.001913314176246}, {\"age\": 33, \"bmi\": 25.24751663, \"female\": 0, \"footwear\": 1, \"group\": 3, \"injury\": 1, \"mf_d\": 42195, \"mf_di\": 3, \"mf_ti\": 12344, \"max\": 40.0, \"sprint\": 0, \"mf_s\": 3.4182598833441347, \"time_hrs\": 3.428888888888889, \"predictions\": 4.159741379310345}, {\"age\": 36, \"bmi\": 23.67722511, \"female\": 0, \"footwear\": 1, \"group\": 3, \"injury\": 1, \"mf_d\": 42195, \"mf_di\": 3, \"mf_ti\": 14712, \"max\": 20.60000038, \"sprint\": 1, \"mf_s\": 2.8680668841761827, \"time_hrs\": 4.086666666666667, \"predictions\": 4.230174808429118}, {\"age\": 42, \"bmi\": 24.6258564, \"female\": 0, \"footwear\": 1, \"group\": 3, \"injury\": 1, \"mf_d\": 42195, \"mf_di\": 4, \"mf_ti\": 11043, \"max\": 58.0, \"sprint\": 1, \"mf_s\": 3.8209725618038575, \"time_hrs\": 3.0675000000000003, \"predictions\": 3.56000478927203}, {\"age\": 39, \"bmi\": 21.38588142, \"female\": 0, \"footwear\": 1, \"group\": 1, \"injury\": 2, \"mf_d\": 42195, \"mf_di\": 4, \"mf_ti\": 11462, \"max\": 70.0, \"sprint\": 1, \"mf_s\": 3.6812947129645783, \"time_hrs\": 3.1838888888888888, \"predictions\": 3.2448730842911884}, {\"age\": 33, \"bmi\": 22.44668961, \"female\": 0, \"footwear\": 2, \"group\": 2, \"injury\": 1, \"mf_d\": 42195, \"mf_di\": 4, \"mf_ti\": 12480, \"max\": 52.0, \"sprint\": 0, \"mf_s\": 3.3810096153846154, \"time_hrs\": 3.466666666666667, \"predictions\": 3.6874545019157092}, {\"age\": 39, \"bmi\": 22.36208534, \"female\": 0, \"footwear\": 2, \"group\": 2, \"injury\": 2, \"mf_d\": 42195, \"mf_di\": 4, \"mf_ti\": 11708, \"max\": 20.0, \"sprint\": 1, \"mf_s\": 3.603946019815511, \"time_hrs\": 3.252222222222222, \"predictions\": 4.230174808429118}, {\"age\": 42, \"bmi\": 22.16610718, \"female\": 0, \"footwear\": 2, \"group\": 3, \"injury\": 2, \"mf_d\": 42195, \"mf_di\": 2, \"mf_ti\": 10522, \"max\": 65.0, \"sprint\": 1, \"mf_s\": 4.010169169359437, \"time_hrs\": 2.9227777777777777, \"predictions\": 3.3246743295019154}, {\"age\": 52, \"bmi\": 25.32242584, \"female\": 0, \"footwear\": 2, \"group\": 2, \"injury\": 1, \"mf_d\": 42195, \"mf_di\": 2, \"mf_ti\": 14275, \"max\": 43.0, \"sprint\": 0, \"mf_s\": 2.955866900175131, \"time_hrs\": 3.9652777777777777, \"predictions\": 4.045763888888889}, {\"age\": 40, \"bmi\": 22.35768318, \"female\": 1, \"footwear\": 2, \"group\": 1, \"injury\": 2, \"mf_d\": 42195, \"mf_di\": 3, \"mf_ti\": 15922, \"max\": 55.0, \"sprint\": 1, \"mf_s\": 2.650106770506218, \"time_hrs\": 4.422777777777778, \"predictions\": 3.686264367816092}, {\"age\": 43, \"bmi\": 23.06619835, \"female\": 0, \"footwear\": 1, \"group\": 3, \"injury\": 1, \"mf_d\": 42195, \"mf_di\": 3, \"mf_ti\": 13105, \"max\": 73.0, \"sprint\": 0, \"mf_s\": 3.2197634490652423, \"time_hrs\": 3.6402777777777775, \"predictions\": 3.188261494252874}, {\"age\": 58, \"bmi\": 23.82998085, \"female\": 0, \"footwear\": 2, \"group\": 2, \"injury\": 2, \"mf_d\": 42195, \"mf_di\": 4, \"mf_ti\": 12420, \"max\": 58.0, \"sprint\": 1, \"mf_s\": 3.3973429951690823, \"time_hrs\": 3.45, \"predictions\": 3.56000478927203}, {\"age\": 47, \"bmi\": 21.39037323, \"female\": 1, \"footwear\": 2, \"group\": 3, \"injury\": 1, \"mf_d\": 42195, \"mf_di\": 2, \"mf_ti\": 15000, \"max\": 40.0, \"sprint\": 1, \"mf_s\": 2.813, \"time_hrs\": 4.166666666666667, \"predictions\": 4.159741379310345}, {\"age\": 23, \"bmi\": 23.27775955, \"female\": 1, \"footwear\": 2, \"group\": 2, \"injury\": 1, \"mf_d\": 42195, \"mf_di\": 3, \"mf_ti\": 15660, \"max\": 18.0, \"sprint\": 0, \"mf_s\": 2.6944444444444446, \"time_hrs\": 4.35, \"predictions\": 4.21658764367816}, {\"age\": 33, \"bmi\": 22.35768318, \"female\": 0, \"footwear\": 1, \"group\": 2, \"injury\": 2, \"mf_d\": 42195, \"mf_di\": 3, \"mf_ti\": 11467, \"max\": 78.0, \"sprint\": 0, \"mf_s\": 3.6796895439086073, \"time_hrs\": 3.185277777777778, \"predictions\": 3.1241786398467433}, {\"age\": 44, \"bmi\": 22.20382309, \"female\": 1, \"footwear\": 2, \"group\": 2, \"injury\": 1, \"mf_d\": 42195, \"mf_di\": 2, \"mf_ti\": 16209, \"max\": 50.0, \"sprint\": 1, \"mf_s\": 2.603183416620396, \"time_hrs\": 4.5025, \"predictions\": 3.724133141762452}, {\"age\": 40, \"bmi\": 21.5213356, \"female\": 0, \"footwear\": 2, \"group\": 2, \"injury\": 1, \"mf_d\": 42195, \"mf_di\": 3, \"mf_ti\": 10698, \"max\": 70.0, \"sprint\": 1, \"mf_s\": 3.944195176668536, \"time_hrs\": 2.9716666666666667, \"predictions\": 3.2448730842911884}, {\"age\": 36, \"bmi\": 22.33406639, \"female\": 0, \"footwear\": 2, \"group\": 3, \"injury\": 1, \"mf_d\": 42195, \"mf_di\": 4, \"mf_ti\": 8777, \"max\": 86.0, \"sprint\": 1, \"mf_s\": 4.807451293152558, \"time_hrs\": 2.438055555555556, \"predictions\": 3.093273467432951}, {\"age\": 27, \"bmi\": 23.67722511, \"female\": 1, \"footwear\": 2, \"group\": 3, \"injury\": 2, \"mf_d\": 42195, \"mf_di\": 2, \"mf_ti\": 13143, \"max\": 52.0, \"sprint\": 1, \"mf_s\": 3.2104542341931066, \"time_hrs\": 3.650833333333333, \"predictions\": 3.6874545019157092}, {\"age\": 38, \"bmi\": 33.73579407, \"female\": 1, \"footwear\": 2, \"group\": 1, \"injury\": 1, \"mf_d\": 42195, \"mf_di\": 2, \"mf_ti\": 16258, \"max\": 40.0, \"sprint\": 1, \"mf_s\": 2.5953376799114283, \"time_hrs\": 4.516111111111111, \"predictions\": 4.159741379310345}, {\"age\": 41, \"bmi\": 23.67722511, \"female\": 0, \"footwear\": 2, \"group\": 1, \"injury\": 1, \"mf_d\": 42195, \"mf_di\": 3, \"mf_ti\": 15160, \"max\": 50.0, \"sprint\": 1, \"mf_s\": 2.783311345646438, \"time_hrs\": 4.211111111111111, \"predictions\": 3.724133141762452}, {\"age\": 48, \"bmi\": 25.24778557, \"female\": 0, \"footwear\": 2, \"group\": 2, \"injury\": 1, \"mf_d\": 42195, \"mf_di\": 4, \"mf_ti\": 12059, \"max\": 55.0, \"sprint\": 1, \"mf_s\": 3.499046355419189, \"time_hrs\": 3.349722222222222, \"predictions\": 3.686264367816092}, {\"age\": 30, \"bmi\": 23.74768066, \"female\": 0, \"footwear\": 2, \"group\": 3, \"injury\": 2, \"mf_d\": 42195, \"mf_di\": 3, \"mf_ti\": 10136, \"max\": 90.0, \"sprint\": 1, \"mf_s\": 4.162884767166535, \"time_hrs\": 2.815555555555556, \"predictions\": 3.063972701149425}, {\"age\": 39, \"bmi\": 23.37423897, \"female\": 1, \"footwear\": 2, \"group\": 1, \"injury\": 1, \"mf_d\": 42195, \"mf_di\": 3, \"mf_ti\": 13148, \"max\": 40.0, \"sprint\": 1, \"mf_s\": 3.209233343474293, \"time_hrs\": 3.652222222222222, \"predictions\": 4.159741379310345}, {\"age\": 26, \"bmi\": 25.85858536, \"female\": 0, \"footwear\": 1, \"group\": 2, \"injury\": 2, \"mf_d\": 42195, \"mf_di\": 2, \"mf_ti\": 16506, \"max\": 45.0, \"sprint\": 1, \"mf_s\": 2.556343147946201, \"time_hrs\": 4.585, \"predictions\": 4.001913314176246}, {\"age\": 43, \"bmi\": 20.63079834, \"female\": 0, \"footwear\": 1, \"group\": 1, \"injury\": 1, \"mf_d\": 42195, \"mf_di\": 3, \"mf_ti\": 11363, \"max\": 48.0, \"sprint\": 1, \"mf_s\": 3.713367948605122, \"time_hrs\": 3.156388888888889, \"predictions\": 3.750289750957854}, {\"age\": 60, \"bmi\": 22.14966202, \"female\": 0, \"footwear\": 2, \"group\": 3, \"injury\": 1, \"mf_d\": 42195, \"mf_di\": 4, \"mf_ti\": 14460, \"max\": 56.0, \"sprint\": 0, \"mf_s\": 2.91804979253112, \"time_hrs\": 4.016666666666667, \"predictions\": 3.592777777777778}, {\"age\": 60, \"bmi\": 24.37873268, \"female\": 0, \"footwear\": 2, \"group\": 1, \"injury\": 1, \"mf_d\": 42195, \"mf_di\": 4, \"mf_ti\": 12480, \"max\": 55.0, \"sprint\": 1, \"mf_s\": 3.3810096153846154, \"time_hrs\": 3.466666666666667, \"predictions\": 3.686264367816092}, {\"age\": 35, \"bmi\": 28.25022507, \"female\": 0, \"footwear\": 1, \"group\": 1, \"injury\": 1, \"mf_d\": 42195, \"mf_di\": 4, \"mf_ti\": 13147, \"max\": 52.0, \"sprint\": 0, \"mf_s\": 3.2094774473263863, \"time_hrs\": 3.6519444444444447, \"predictions\": 3.6874545019157092}, {\"age\": 35, \"bmi\": 22.72189331, \"female\": 1, \"footwear\": 2, \"group\": 3, \"injury\": 2, \"mf_d\": 42195, \"mf_di\": 2, \"mf_ti\": 13072, \"max\": 70.0, \"sprint\": 1, \"mf_s\": 3.227891676866585, \"time_hrs\": 3.631111111111111, \"predictions\": 3.2448730842911884}, {\"age\": 33, \"bmi\": 20.92764473, \"female\": 0, \"footwear\": 2, \"group\": 3, \"injury\": 3, \"mf_d\": 42195, \"mf_di\": 3, \"mf_ti\": 10719, \"max\": 80.0, \"sprint\": 0, \"mf_s\": 3.936467954100196, \"time_hrs\": 2.9775, \"predictions\": 3.111103927203065}, {\"age\": 44, \"bmi\": 25.16514397, \"female\": 0, \"footwear\": 2, \"group\": 2, \"injury\": 3, \"mf_d\": 42195, \"mf_di\": 4, \"mf_ti\": 13628, \"max\": 35.0, \"sprint\": 1, \"mf_s\": 3.0961990020545933, \"time_hrs\": 3.7855555555555553, \"predictions\": 4.160141283524904}, {\"age\": 54, \"bmi\": 21.70465088, \"female\": 0, \"footwear\": 2, \"group\": 1, \"injury\": 1, \"mf_d\": 42195, \"mf_di\": 4, \"mf_ti\": 12641, \"max\": 52.0, \"sprint\": 0, \"mf_s\": 3.33794794715608, \"time_hrs\": 3.511388888888889, \"predictions\": 3.6874545019157092}, {\"age\": 33, \"bmi\": 24.38188744, \"female\": 0, \"footwear\": 2, \"group\": 3, \"injury\": 1, \"mf_d\": 42195, \"mf_di\": 3, \"mf_ti\": 12900, \"max\": 45.0, \"sprint\": 1, \"mf_s\": 3.27093023255814, \"time_hrs\": 3.583333333333333, \"predictions\": 4.001913314176246}, {\"age\": 29, \"bmi\": 25.74573708, \"female\": 1, \"footwear\": 2, \"group\": 2, \"injury\": 1, \"mf_d\": 42195, \"mf_di\": 3, \"mf_ti\": 20430, \"max\": 33.0, \"sprint\": 0, \"mf_s\": 2.065345080763583, \"time_hrs\": 5.675, \"predictions\": 4.216362547892721}, {\"age\": 33, \"bmi\": 23.20066833, \"female\": 0, \"footwear\": 2, \"group\": 3, \"injury\": 1, \"mf_d\": 42195, \"mf_di\": 4, \"mf_ti\": 10229, \"max\": 87.0, \"sprint\": 1, \"mf_s\": 4.12503666047512, \"time_hrs\": 2.8413888888888885, \"predictions\": 3.09327346743295}, {\"age\": 45, \"bmi\": 21.0636425, \"female\": 0, \"footwear\": 2, \"group\": 2, \"injury\": 1, \"mf_d\": 42195, \"mf_di\": 2, \"mf_ti\": 11807, \"max\": 90.0, \"sprint\": 1, \"mf_s\": 3.573727449817905, \"time_hrs\": 3.279722222222222, \"predictions\": 3.063972701149425}, {\"age\": 34, \"bmi\": 23.67722511, \"female\": 1, \"footwear\": 2, \"group\": 2, \"injury\": 1, \"mf_d\": 42195, \"mf_di\": 3, \"mf_ti\": 19516, \"max\": 40.0, \"sprint\": 1, \"mf_s\": 2.1620721459315435, \"time_hrs\": 5.421111111111111, \"predictions\": 4.159741379310345}, {\"age\": 54, \"bmi\": 22.33406639, \"female\": 1, \"footwear\": 1, \"group\": 3, \"injury\": 1, \"mf_d\": 42195, \"mf_di\": 3, \"mf_ti\": 12649, \"max\": 65.0, \"sprint\": 0, \"mf_s\": 3.335836825045458, \"time_hrs\": 3.513611111111111, \"predictions\": 3.3246743295019154}, {\"age\": 38, \"bmi\": 19.04384041, \"female\": 0, \"footwear\": 2, \"group\": 1, \"injury\": 1, \"mf_d\": 42195, \"mf_di\": 4, \"mf_ti\": 13069, \"max\": 75.0, \"sprint\": 1, \"mf_s\": 3.228632642130232, \"time_hrs\": 3.6302777777777777, \"predictions\": 3.175766283524904}, {\"age\": 45, \"bmi\": 23.87511635, \"female\": 0, \"footwear\": 2, \"group\": 3, \"injury\": 2, \"mf_d\": 42195, \"mf_di\": 3, \"mf_ti\": 12007, \"max\": 55.0, \"sprint\": 1, \"mf_s\": 3.5142000499708503, \"time_hrs\": 3.335277777777778, \"predictions\": 3.686264367816092}, {\"age\": 31, \"bmi\": 20.3689785, \"female\": 1, \"footwear\": 1, \"group\": 2, \"injury\": 1, \"mf_d\": 42195, \"mf_di\": 3, \"mf_ti\": 15009, \"max\": 41.0, \"sprint\": 0, \"mf_s\": 2.8113132120727564, \"time_hrs\": 4.1691666666666665, \"predictions\": 4.134236111111111}, {\"age\": 27, \"bmi\": 20.92425156, \"female\": 1, \"footwear\": 2, \"group\": 3, \"injury\": 2, \"mf_d\": 42195, \"mf_di\": 3, \"mf_ti\": 13170, \"max\": 50.0, \"sprint\": 0, \"mf_s\": 3.203872437357631, \"time_hrs\": 3.658333333333333, \"predictions\": 3.724133141762452}, {\"age\": 28, \"bmi\": 21.70963478, \"female\": 1, \"footwear\": 2, \"group\": 1, \"injury\": 1, \"mf_d\": 42195, \"mf_di\": 2, \"mf_ti\": 12153, \"max\": 40.0, \"sprint\": 1, \"mf_s\": 3.471982226610713, \"time_hrs\": 3.375833333333333, \"predictions\": 4.159741379310345}, {\"age\": 28, \"bmi\": 20.9185257, \"female\": 0, \"footwear\": 1, \"group\": 1, \"injury\": 2, \"mf_d\": 42195, \"mf_di\": 2, \"mf_ti\": 10717, \"max\": 63.0, \"sprint\": 1, \"mf_s\": 3.9372025753475786, \"time_hrs\": 2.9769444444444444, \"predictions\": 3.366381704980843}, {\"age\": 40, \"bmi\": 23.5923233, \"female\": 0, \"footwear\": 2, \"group\": 3, \"injury\": 3, \"mf_d\": 42195, \"mf_di\": 3, \"mf_ti\": 11970, \"max\": 50.0, \"sprint\": 1, \"mf_s\": 3.525062656641604, \"time_hrs\": 3.325, \"predictions\": 3.724133141762452}, {\"age\": 48, \"bmi\": 20.41903305, \"female\": 1, \"footwear\": 2, \"group\": 3, \"injury\": 3, \"mf_d\": 42195, \"mf_di\": 3, \"mf_ti\": 11777, \"max\": 56.0, \"sprint\": 1, \"mf_s\": 3.582830941665959, \"time_hrs\": 3.2713888888888887, \"predictions\": 3.592777777777778}, {\"age\": 46, \"bmi\": 34.39236832, \"female\": 1, \"footwear\": 2, \"group\": 3, \"injury\": 1, \"mf_d\": 42195, \"mf_di\": 4, \"mf_ti\": 12423, \"max\": 62.0, \"sprint\": 1, \"mf_s\": 3.396522579087177, \"time_hrs\": 3.4508333333333336, \"predictions\": 3.3822006704980847}, {\"age\": 29, \"bmi\": 22.26345062, \"female\": 0, \"footwear\": 2, \"group\": 2, \"injury\": 2, \"mf_d\": 42195, \"mf_di\": 4, \"mf_ti\": 10853, \"max\": 65.0, \"sprint\": 1, \"mf_s\": 3.887865106422188, \"time_hrs\": 3.0147222222222223, \"predictions\": 3.3246743295019154}, {\"age\": 28, \"bmi\": 20.86985588, \"female\": 1, \"footwear\": 1, \"group\": 1, \"injury\": 1, \"mf_d\": 42195, \"mf_di\": 3, \"mf_ti\": 14768, \"max\": 40.0, \"sprint\": 0, \"mf_s\": 2.857191224268689, \"time_hrs\": 4.102222222222222, \"predictions\": 4.159741379310345}, {\"age\": 48, \"bmi\": 21.46464729, \"female\": 0, \"footwear\": 2, \"group\": 1, \"injury\": 1, \"mf_d\": 42195, \"mf_di\": 3, \"mf_ti\": 12477, \"max\": 35.0, \"sprint\": 0, \"mf_s\": 3.381822553498437, \"time_hrs\": 3.4658333333333333, \"predictions\": 4.160141283524904}, {\"age\": 28, \"bmi\": 25.23191071, \"female\": 0, \"footwear\": 1, \"group\": 3, \"injury\": 1, \"mf_d\": 42195, \"mf_di\": 2, \"mf_ti\": 12964, \"max\": 60.0, \"sprint\": 0, \"mf_s\": 3.2547824745448937, \"time_hrs\": 3.601111111111111, \"predictions\": 3.5166403256704983}, {\"age\": 37, \"bmi\": 28.05836296, \"female\": 1, \"footwear\": 3, \"group\": 1, \"injury\": 3, \"mf_d\": 42195, \"mf_di\": 3, \"mf_ti\": 19326, \"max\": 40.0, \"sprint\": 1, \"mf_s\": 2.183328158956846, \"time_hrs\": 5.368333333333334, \"predictions\": 4.159741379310345}, {\"age\": 46, \"bmi\": 31.7002182, \"female\": 0, \"footwear\": 2, \"group\": 3, \"injury\": 1, \"mf_d\": 42195, \"mf_di\": 4, \"mf_ti\": 23100, \"max\": 18.0, \"sprint\": 0, \"mf_s\": 1.8266233766233768, \"time_hrs\": 6.416666666666667, \"predictions\": 4.21658764367816}, {\"age\": 34, \"bmi\": 21.24975014, \"female\": 0, \"footwear\": 2, \"group\": 3, \"injury\": 1, \"mf_d\": 42195, \"mf_di\": 3, \"mf_ti\": 12602, \"max\": 32.0, \"sprint\": 0, \"mf_s\": 3.348278051103, \"time_hrs\": 3.500555555555556, \"predictions\": 4.216985153256704}, {\"age\": 31, \"bmi\": 20.55720139, \"female\": 1, \"footwear\": 2, \"group\": 1, \"injury\": 2, \"mf_d\": 42195, \"mf_di\": 2, \"mf_ti\": 12493, \"max\": 35.0, \"sprint\": 0, \"mf_s\": 3.377491395181301, \"time_hrs\": 3.470277777777778, \"predictions\": 4.160141283524904}, {\"age\": 41, \"bmi\": 19.74053955, \"female\": 1, \"footwear\": 2, \"group\": 3, \"injury\": 1, \"mf_d\": 42195, \"mf_di\": 3, \"mf_ti\": 12713, \"max\": 70.0, \"sprint\": 0, \"mf_s\": 3.3190434987807755, \"time_hrs\": 3.531388888888889, \"predictions\": 3.2448730842911884}, {\"age\": 40, \"bmi\": 28.44444466, \"female\": 0, \"footwear\": 2, \"group\": 1, \"injury\": 1, \"mf_d\": 42195, \"mf_di\": 4, \"mf_ti\": 11611, \"max\": 82.0, \"sprint\": 1, \"mf_s\": 3.634053914391525, \"time_hrs\": 3.225277777777778, \"predictions\": 3.1093247126436774}, {\"age\": 38, \"bmi\": 22.91344261, \"female\": 0, \"footwear\": 2, \"group\": 1, \"injury\": 1, \"mf_d\": 42195, \"mf_di\": 4, \"mf_ti\": 14040, \"max\": 37.0, \"sprint\": 1, \"mf_s\": 3.0053418803418803, \"time_hrs\": 3.9, \"predictions\": 4.1053041187739465}, {\"age\": 39, \"bmi\": 22.36208534, \"female\": 0, \"footwear\": 1, \"group\": 1, \"injury\": 1, \"mf_d\": 42195, \"mf_di\": 3, \"mf_ti\": 10922, \"max\": 54.0, \"sprint\": 0, \"mf_s\": 3.863303424281267, \"time_hrs\": 3.033888888888889, \"predictions\": 3.7049928160919543}, {\"age\": 30, \"bmi\": 25.11189079, \"female\": 0, \"footwear\": 1, \"group\": 2, \"injury\": 1, \"mf_d\": 42195, \"mf_di\": 2, \"mf_ti\": 11280, \"max\": 50.0, \"sprint\": 1, \"mf_s\": 3.7406914893617023, \"time_hrs\": 3.1333333333333333, \"predictions\": 3.724133141762452}, {\"age\": 32, \"bmi\": 18.39954567, \"female\": 0, \"footwear\": 2, \"group\": 2, \"injury\": 3, \"mf_d\": 42195, \"mf_di\": 2, \"mf_ti\": 9848, \"max\": 70.0, \"sprint\": 1, \"mf_s\": 4.284626320064988, \"time_hrs\": 2.7355555555555555, \"predictions\": 3.2448730842911884}, {\"age\": 49, \"bmi\": 20.89957428, \"female\": 1, \"footwear\": 2, \"group\": 3, \"injury\": 2, \"mf_d\": 42195, \"mf_di\": 3, \"mf_ti\": 12363, \"max\": 67.0, \"sprint\": 1, \"mf_s\": 3.413006551807813, \"time_hrs\": 3.434166666666667, \"predictions\": 3.2708548850574712}, {\"age\": 34, \"bmi\": 21.74523163, \"female\": 0, \"footwear\": 2, \"group\": 2, \"injury\": 1, \"mf_d\": 42195, \"mf_di\": 3, \"mf_ti\": 12180, \"max\": 50.0, \"sprint\": 0, \"mf_s\": 3.4642857142857144, \"time_hrs\": 3.3833333333333333, \"predictions\": 3.724133141762452}, {\"age\": 36, \"bmi\": 24.44100571, \"female\": 0, \"footwear\": 2, \"group\": 3, \"injury\": 1, \"mf_d\": 42195, \"mf_di\": 4, \"mf_ti\": 13022, \"max\": 50.0, \"sprint\": 0, \"mf_s\": 3.240285670403932, \"time_hrs\": 3.6172222222222223, \"predictions\": 3.724133141762452}, {\"age\": 32, \"bmi\": 22.02581596, \"female\": 0, \"footwear\": 2, \"group\": 1, \"injury\": 1, \"mf_d\": 42195, \"mf_di\": 4, \"mf_ti\": 11070, \"max\": 51.0, \"sprint\": 1, \"mf_s\": 3.811653116531165, \"time_hrs\": 3.075, \"predictions\": 3.717646072796935}, {\"age\": 30, \"bmi\": 26.71614075, \"female\": 0, \"footwear\": 2, \"group\": 3, \"injury\": 1, \"mf_d\": 42195, \"mf_di\": 4, \"mf_ti\": 11620, \"max\": 30.0, \"sprint\": 0, \"mf_s\": 3.6312392426850257, \"time_hrs\": 3.2277777777777774, \"predictions\": 4.217677203065134}, {\"age\": 41, \"bmi\": 23.67722511, \"female\": 0, \"footwear\": 2, \"group\": 1, \"injury\": 1, \"mf_d\": 42195, \"mf_di\": 4, \"mf_ti\": 11100, \"max\": 60.0, \"sprint\": 1, \"mf_s\": 3.801351351351352, \"time_hrs\": 3.083333333333333, \"predictions\": 3.5166403256704983}, {\"age\": 45, \"bmi\": 24.55106735, \"female\": 0, \"footwear\": 2, \"group\": 2, \"injury\": 1, \"mf_d\": 42195, \"mf_di\": 2, \"mf_ti\": 13392, \"max\": 42.0, \"sprint\": 0, \"mf_s\": 3.15076164874552, \"time_hrs\": 3.72, \"predictions\": 4.123378831417624}, {\"age\": 31, \"bmi\": 24.52615929, \"female\": 0, \"footwear\": 1, \"group\": 3, \"injury\": 1, \"mf_d\": 42195, \"mf_di\": 2, \"mf_ti\": 10778, \"max\": 7.0, \"sprint\": 0, \"mf_s\": 3.914919280014845, \"time_hrs\": 2.993888888888889, \"predictions\": 4.21658764367816}, {\"age\": 25, \"bmi\": 23.08344269, \"female\": 0, \"footwear\": 1, \"group\": 1, \"injury\": 2, \"mf_d\": 42195, \"mf_di\": 3, \"mf_ti\": 14160, \"max\": 50.0, \"sprint\": 1, \"mf_s\": 2.979872881355932, \"time_hrs\": 3.933333333333333, \"predictions\": 3.724133141762452}, {\"age\": 30, \"bmi\": 24.41077614, \"female\": 0, \"footwear\": 2, \"group\": 2, \"injury\": 2, \"mf_d\": 42195, \"mf_di\": 2, \"mf_ti\": 10517, \"max\": 63.0, \"sprint\": 1, \"mf_s\": 4.01207568698298, \"time_hrs\": 2.921388888888889, \"predictions\": 3.366381704980843}, {\"age\": 31, \"bmi\": 21.30681801, \"female\": 1, \"footwear\": 2, \"group\": 1, \"injury\": 1, \"mf_d\": 42195, \"mf_di\": 2, \"mf_ti\": 14401, \"max\": 40.0, \"sprint\": 1, \"mf_s\": 2.9300048607735576, \"time_hrs\": 4.000277777777778, \"predictions\": 4.159741379310345}, {\"age\": 35, \"bmi\": 20.58569527, \"female\": 0, \"footwear\": 2, \"group\": 3, \"injury\": 1, \"mf_d\": 42195, \"mf_di\": 4, \"mf_ti\": 12480, \"max\": 56.0, \"sprint\": 1, \"mf_s\": 3.3810096153846154, \"time_hrs\": 3.466666666666667, \"predictions\": 3.592777777777778}, {\"age\": 35, \"bmi\": 25.16514397, \"female\": 1, \"footwear\": 3, \"group\": 2, \"injury\": 1, \"mf_d\": 42195, \"mf_di\": 4, \"mf_ti\": 14453, \"max\": 35.0, \"sprint\": 1, \"mf_s\": 2.9194630872483223, \"time_hrs\": 4.014722222222222, \"predictions\": 4.160141283524904}, {\"age\": 38, \"bmi\": 25.97402573, \"female\": 0, \"footwear\": 2, \"group\": 1, \"injury\": 1, \"mf_d\": 42195, \"mf_di\": 4, \"mf_ti\": 13201, \"max\": 55.0, \"sprint\": 1, \"mf_s\": 3.196348761457465, \"time_hrs\": 3.666944444444445, \"predictions\": 3.686264367816092}, {\"age\": 24, \"bmi\": 21.30681801, \"female\": 1, \"footwear\": 1, \"group\": 1, \"injury\": 3, \"mf_d\": 42195, \"mf_di\": 4, \"mf_ti\": 13305, \"max\": 40.0, \"sprint\": 1, \"mf_s\": 3.1713641488162345, \"time_hrs\": 3.695833333333333, \"predictions\": 4.159741379310345}, {\"age\": 29, \"bmi\": 22.0333519, \"female\": 1, \"footwear\": 2, \"group\": 1, \"injury\": 1, \"mf_d\": 42195, \"mf_di\": 2, \"mf_ti\": 12352, \"max\": 46.0, \"sprint\": 1, \"mf_s\": 3.4160459844559585, \"time_hrs\": 3.4311111111111114, \"predictions\": 3.86819683908046}, {\"age\": 51, \"bmi\": 23.49176788, \"female\": 1, \"footwear\": 1, \"group\": 3, \"injury\": 2, \"mf_d\": 42195, \"mf_di\": 2, \"mf_ti\": 13504, \"max\": 60.0, \"sprint\": 1, \"mf_s\": 3.124629739336493, \"time_hrs\": 3.751111111111111, \"predictions\": 3.5166403256704983}, {\"age\": 28, \"bmi\": 23.47361565, \"female\": 0, \"footwear\": 2, \"group\": 1, \"injury\": 1, \"mf_d\": 42195, \"mf_di\": 2, \"mf_ti\": 11010, \"max\": 72.0, \"sprint\": 1, \"mf_s\": 3.832425068119891, \"time_hrs\": 3.058333333333333, \"predictions\": 3.212497605363984}, {\"age\": 33, \"bmi\": 21.3521862, \"female\": 0, \"footwear\": 2, \"group\": 1, \"injury\": 1, \"mf_d\": 42195, \"mf_di\": 3, \"mf_ti\": 13040, \"max\": 40.0, \"sprint\": 1, \"mf_s\": 3.235812883435583, \"time_hrs\": 3.6222222222222222, \"predictions\": 4.159741379310345}, {\"age\": 32, \"bmi\": 24.85795403, \"female\": 1, \"footwear\": 2, \"group\": 1, \"injury\": 1, \"mf_d\": 42195, \"mf_di\": 4, \"mf_ti\": 14400, \"max\": 40.0, \"sprint\": 0, \"mf_s\": 2.9302083333333333, \"time_hrs\": 4.0, \"predictions\": 4.159741379310345}, {\"age\": 35, \"bmi\": 24.85795403, \"female\": 1, \"footwear\": 2, \"group\": 1, \"injury\": 3, \"mf_d\": 42195, \"mf_di\": 2, \"mf_ti\": 15527, \"max\": 40.0, \"sprint\": 1, \"mf_s\": 2.7175243124879245, \"time_hrs\": 4.313055555555556, \"predictions\": 4.159741379310345}, {\"age\": 45, \"bmi\": 24.09897804, \"female\": 1, \"footwear\": 2, \"group\": 1, \"injury\": 3, \"mf_d\": 42195, \"mf_di\": 2, \"mf_ti\": 17634, \"max\": 40.0, \"sprint\": 0, \"mf_s\": 2.392820687308608, \"time_hrs\": 4.8983333333333325, \"predictions\": 4.159741379310345}, {\"age\": 31, \"bmi\": 20.15620995, \"female\": 1, \"footwear\": 1, \"group\": 1, \"injury\": 3, \"mf_d\": 42195, \"mf_di\": 3, \"mf_ti\": 11205, \"max\": 42.0, \"sprint\": 0, \"mf_s\": 3.7657295850066936, \"time_hrs\": 3.1125, \"predictions\": 4.123378831417624}, {\"age\": 27, \"bmi\": 24.38188744, \"female\": 0, \"footwear\": 2, \"group\": 2, \"injury\": 2, \"mf_d\": 42195, \"mf_di\": 3, \"mf_ti\": 15120, \"max\": 55.0, \"sprint\": 0, \"mf_s\": 2.7906746031746037, \"time_hrs\": 4.2, \"predictions\": 3.686264367816092}, {\"age\": 30, \"bmi\": 20.98412895, \"female\": 0, \"footwear\": 2, \"group\": 2, \"injury\": 2, \"mf_d\": 42195, \"mf_di\": 3, \"mf_ti\": 13200, \"max\": 31.0, \"sprint\": 1, \"mf_s\": 3.1965909090909093, \"time_hrs\": 3.6666666666666665, \"predictions\": 4.249082854406131}, {\"age\": 23, \"bmi\": 21.40518761, \"female\": 0, \"footwear\": 2, \"group\": 3, \"injury\": 1, \"mf_d\": 42195, \"mf_di\": 4, \"mf_ti\": 11989, \"max\": 60.0, \"sprint\": 1, \"mf_s\": 3.519476186504296, \"time_hrs\": 3.330277777777778, \"predictions\": 3.5166403256704983}, {\"age\": 35, \"bmi\": 27.54821014, \"female\": 1, \"footwear\": 2, \"group\": 2, \"injury\": 1, \"mf_d\": 42195, \"mf_di\": 3, \"mf_ti\": 22186, \"max\": 24.0, \"sprint\": 1, \"mf_s\": 1.9018750563418367, \"time_hrs\": 6.1627777777777775, \"predictions\": 4.2417217432950185}, {\"age\": 32, \"bmi\": 26.16460609, \"female\": 1, \"footwear\": 1, \"group\": 3, \"injury\": 1, \"mf_d\": 42195, \"mf_di\": 3, \"mf_ti\": 19200, \"max\": 45.0, \"sprint\": 1, \"mf_s\": 2.19765625, \"time_hrs\": 5.333333333333333, \"predictions\": 4.001913314176246}, {\"age\": 23, \"bmi\": 22.80591202, \"female\": 0, \"footwear\": 2, \"group\": 2, \"injury\": 1, \"mf_d\": 42195, \"mf_di\": 3, \"mf_ti\": 10353, \"max\": 70.0, \"sprint\": 0, \"mf_s\": 4.07563025210084, \"time_hrs\": 2.875833333333333, \"predictions\": 3.2448730842911884}, {\"age\": 35, \"bmi\": 21.94683647, \"female\": 1, \"footwear\": 2, \"group\": 1, \"injury\": 3, \"mf_d\": 42195, \"mf_di\": 2, \"mf_ti\": 17870, \"max\": 30.0, \"sprint\": 0, \"mf_s\": 2.361219921656408, \"time_hrs\": 4.963888888888889, \"predictions\": 4.217677203065134}, {\"age\": 25, \"bmi\": 19.70114517, \"female\": 1, \"footwear\": 1, \"group\": 3, \"injury\": 1, \"mf_d\": 42195, \"mf_di\": 3, \"mf_ti\": 17940, \"max\": 42.0, \"sprint\": 1, \"mf_s\": 2.3520066889632107, \"time_hrs\": 4.983333333333333, \"predictions\": 4.123378831417624}, {\"age\": 28, \"bmi\": 24.97483635, \"female\": 0, \"footwear\": 2, \"group\": 2, \"injury\": 1, \"mf_d\": 42195, \"mf_di\": 3, \"mf_ti\": 11200, \"max\": 67.0, \"sprint\": 0, \"mf_s\": 3.7674107142857145, \"time_hrs\": 3.111111111111111, \"predictions\": 3.2708548850574712}, {\"age\": 32, \"bmi\": 29.21779823, \"female\": 1, \"footwear\": 2, \"group\": 3, \"injury\": 1, \"mf_d\": 42195, \"mf_di\": 2, \"mf_ti\": 17190, \"max\": 55.0, \"sprint\": 0, \"mf_s\": 2.4546247818499127, \"time_hrs\": 4.775, \"predictions\": 3.686264367816092}, {\"age\": 42, \"bmi\": 25.97402573, \"female\": 0, \"footwear\": 2, \"group\": 3, \"injury\": 3, \"mf_d\": 42195, \"mf_di\": 3, \"mf_ti\": 16500, \"max\": 35.0, \"sprint\": 0, \"mf_s\": 2.557272727272727, \"time_hrs\": 4.583333333333333, \"predictions\": 4.160141283524904}, {\"age\": 60, \"bmi\": 23.87511635, \"female\": 0, \"footwear\": 2, \"group\": 1, \"injury\": 1, \"mf_d\": 42195, \"mf_di\": 3, \"mf_ti\": 13767, \"max\": 42.0, \"sprint\": 0, \"mf_s\": 3.064937894966224, \"time_hrs\": 3.8241666666666654, \"predictions\": 4.123378831417624}, {\"age\": 66, \"bmi\": 21.5213356, \"female\": 0, \"footwear\": 1, \"group\": 2, \"injury\": 1, \"mf_d\": 42195, \"mf_di\": 3, \"mf_ti\": 13332, \"max\": 55.0, \"sprint\": 0, \"mf_s\": 3.164941494149415, \"time_hrs\": 3.703333333333333, \"predictions\": 3.686264367816092}, {\"age\": 42, \"bmi\": 24.18745041, \"female\": 1, \"footwear\": 3, \"group\": 2, \"injury\": 2, \"mf_d\": 42195, \"mf_di\": 2, \"mf_ti\": 17171, \"max\": 44.0, \"sprint\": 0, \"mf_s\": 2.4573408654126143, \"time_hrs\": 4.769722222222223, \"predictions\": 4.023323754789272}, {\"age\": 39, \"bmi\": 23.27121544, \"female\": 1, \"footwear\": 2, \"group\": 1, \"injury\": 1, \"mf_d\": 42195, \"mf_di\": 2, \"mf_ti\": 19920, \"max\": 40.0, \"sprint\": 1, \"mf_s\": 2.118222891566265, \"time_hrs\": 5.533333333333333, \"predictions\": 4.159741379310345}, {\"age\": 42, \"bmi\": 22.50635719, \"female\": 0, \"footwear\": 1, \"group\": 2, \"injury\": 1, \"mf_d\": 42195, \"mf_di\": 2, \"mf_ti\": 11248, \"max\": 89.0, \"sprint\": 0, \"mf_s\": 3.751333570412518, \"time_hrs\": 3.1244444444444444, \"predictions\": 3.063972701149425}, {\"age\": 31, \"bmi\": 22.7912426, \"female\": 0, \"footwear\": 1, \"group\": 2, \"injury\": 1, \"mf_d\": 42195, \"mf_di\": 2, \"mf_ti\": 10395, \"max\": 72.0, \"sprint\": 1, \"mf_s\": 4.059163059163059, \"time_hrs\": 2.8875, \"predictions\": 3.212497605363984}, {\"age\": 35, \"bmi\": 23.24191475, \"female\": 0, \"footwear\": 2, \"group\": 1, \"injury\": 1, \"mf_d\": 42195, \"mf_di\": 4, \"mf_ti\": 13260, \"max\": 50.0, \"sprint\": 0, \"mf_s\": 3.182126696832579, \"time_hrs\": 3.683333333333333, \"predictions\": 3.724133141762452}, {\"age\": 30, \"bmi\": 20.522686, \"female\": 1, \"footwear\": 2, \"group\": 1, \"injury\": 2, \"mf_d\": 42195, \"mf_di\": 2, \"mf_ti\": 13180, \"max\": 35.0, \"sprint\": 1, \"mf_s\": 3.20144157814871, \"time_hrs\": 3.661111111111111, \"predictions\": 4.160141283524904}, {\"age\": 53, \"bmi\": 23.00556564, \"female\": 0, \"footwear\": 1, \"group\": 3, \"injury\": 1, \"mf_d\": 42195, \"mf_di\": 4, \"mf_ti\": 12255, \"max\": 50.0, \"sprint\": 1, \"mf_s\": 3.4430844553243576, \"time_hrs\": 3.404166666666667, \"predictions\": 3.724133141762452}, {\"age\": 31, \"bmi\": 22.80591202, \"female\": 1, \"footwear\": 1, \"group\": 2, \"injury\": 2, \"mf_d\": 42195, \"mf_di\": 3, \"mf_ti\": 15060, \"max\": 35.0, \"sprint\": 0, \"mf_s\": 2.801792828685259, \"time_hrs\": 4.183333333333334, \"predictions\": 4.160141283524904}, {\"age\": 45, \"bmi\": 25.93618584, \"female\": 0, \"footwear\": 1, \"group\": 2, \"injury\": 1, \"mf_d\": 42195, \"mf_di\": 3, \"mf_ti\": 12305, \"max\": 45.0, \"sprint\": 1, \"mf_s\": 3.429093864282812, \"time_hrs\": 3.418055555555556, \"predictions\": 4.001913314176246}, {\"age\": 29, \"bmi\": 25.16514397, \"female\": 0, \"footwear\": 2, \"group\": 2, \"injury\": 2, \"mf_d\": 42195, \"mf_di\": 2, \"mf_ti\": 12508, \"max\": 60.0, \"sprint\": 0, \"mf_s\": 3.3734409977614326, \"time_hrs\": 3.4744444444444444, \"predictions\": 3.5166403256704983}, {\"age\": 24, \"bmi\": 21.74523163, \"female\": 0, \"footwear\": 2, \"group\": 2, \"injury\": 3, \"mf_d\": 42195, \"mf_di\": 2, \"mf_ti\": 11520, \"max\": 45.0, \"sprint\": 1, \"mf_s\": 3.6627604166666665, \"time_hrs\": 3.2, \"predictions\": 4.001913314176246}, {\"age\": 45, \"bmi\": 23.49176788, \"female\": 0, \"footwear\": 2, \"group\": 1, \"injury\": 2, \"mf_d\": 42195, \"mf_di\": 2, \"mf_ti\": 19200, \"max\": 40.0, \"sprint\": 1, \"mf_s\": 2.19765625, \"time_hrs\": 5.333333333333333, \"predictions\": 4.159741379310345}, {\"age\": 43, \"bmi\": 19.88636398, \"female\": 1, \"footwear\": 2, \"group\": 2, \"injury\": 1, \"mf_d\": 42195, \"mf_di\": 3, \"mf_ti\": 12909, \"max\": 50.0, \"sprint\": 1, \"mf_s\": 3.2686497792237974, \"time_hrs\": 3.585833333333333, \"predictions\": 3.724133141762452}, {\"age\": 40, \"bmi\": 28.13294601, \"female\": 0, \"footwear\": 2, \"group\": 3, \"injury\": 1, \"mf_d\": 42195, \"mf_di\": 3, \"mf_ti\": 14355, \"max\": 70.0, \"sprint\": 1, \"mf_s\": 2.9393939393939394, \"time_hrs\": 3.9875, \"predictions\": 3.2448730842911884}, {\"age\": 26, \"bmi\": 22.19460106, \"female\": 1, \"footwear\": 2, \"group\": 2, \"injury\": 1, \"mf_d\": 42195, \"mf_di\": 3, \"mf_ti\": 15600, \"max\": 37.0, \"sprint\": 1, \"mf_s\": 2.704807692307692, \"time_hrs\": 4.333333333333333, \"predictions\": 4.1053041187739465}, {\"age\": 37, \"bmi\": 19.86567116, \"female\": 1, \"footwear\": 1, \"group\": 1, \"injury\": 1, \"mf_d\": 42195, \"mf_di\": 3, \"mf_ti\": 11426, \"max\": 60.0, \"sprint\": 1, \"mf_s\": 3.692893401015228, \"time_hrs\": 3.173888888888889, \"predictions\": 3.5166403256704983}, {\"age\": 37, \"bmi\": 36.75645447, \"female\": 0, \"footwear\": 2, \"group\": 2, \"injury\": 1, \"mf_d\": 42195, \"mf_di\": 3, \"mf_ti\": 21046, \"max\": 22.0, \"sprint\": 0, \"mf_s\": 2.004894041623112, \"time_hrs\": 5.846111111111111, \"predictions\": 4.230174808429118}, {\"age\": 24, \"bmi\": 23.97780609, \"female\": 0, \"footwear\": 2, \"group\": 2, \"injury\": 1, \"mf_d\": 42195, \"mf_di\": 4, \"mf_ti\": 9214, \"max\": 107.0, \"sprint\": 1, \"mf_s\": 4.579444323855003, \"time_hrs\": 2.5594444444444444, \"predictions\": 3.0299521072796933}, {\"age\": 42, \"bmi\": 24.85058212, \"female\": 0, \"footwear\": 2, \"group\": 3, \"injury\": 2, \"mf_d\": 42195, \"mf_di\": 3, \"mf_ti\": 13630, \"max\": 60.0, \"sprint\": 1, \"mf_s\": 3.095744680851064, \"time_hrs\": 3.786111111111111, \"predictions\": 3.5166403256704983}, {\"age\": 42, \"bmi\": 28.05194664, \"female\": 0, \"footwear\": 2, \"group\": 3, \"injury\": 2, \"mf_d\": 42195, \"mf_di\": 3, \"mf_ti\": 14480, \"max\": 35.0, \"sprint\": 0, \"mf_s\": 2.914019337016575, \"time_hrs\": 4.022222222222222, \"predictions\": 4.160141283524904}, {\"age\": 56, \"bmi\": 23.52446938, \"female\": 0, \"footwear\": 1, \"group\": 3, \"injury\": 1, \"mf_d\": 42195, \"mf_di\": 3, \"mf_ti\": 12663, \"max\": 65.0, \"sprint\": 1, \"mf_s\": 3.332148779909974, \"time_hrs\": 3.5175, \"predictions\": 3.3246743295019154}, {\"age\": 24, \"bmi\": 24.30183029, \"female\": 1, \"footwear\": 2, \"group\": 1, \"injury\": 1, \"mf_d\": 42195, \"mf_di\": 3, \"mf_ti\": 16660, \"max\": 34.0, \"sprint\": 1, \"mf_s\": 2.5327130852340938, \"time_hrs\": 4.627777777777778, \"predictions\": 4.179231321839081}, {\"age\": 57, \"bmi\": 23.98273849, \"female\": 0, \"footwear\": 2, \"group\": 2, \"injury\": 1, \"mf_d\": 42195, \"mf_di\": 2, \"mf_ti\": 13067, \"max\": 68.0, \"sprint\": 0, \"mf_s\": 3.229126807989592, \"time_hrs\": 3.629722222222222, \"predictions\": 3.2529837164750957}, {\"age\": 46, \"bmi\": 22.86756706, \"female\": 0, \"footwear\": 2, \"group\": 2, \"injury\": 2, \"mf_d\": 42195, \"mf_di\": 4, \"mf_ti\": 10309, \"max\": 90.0, \"sprint\": 0, \"mf_s\": 4.093025511688816, \"time_hrs\": 2.863611111111111, \"predictions\": 3.063972701149425}, {\"age\": 55, \"bmi\": 21.30681801, \"female\": 1, \"footwear\": 1, \"group\": 1, \"injury\": 2, \"mf_d\": 42195, \"mf_di\": 2, \"mf_ti\": 13506, \"max\": 54.0, \"sprint\": 1, \"mf_s\": 3.124167036872501, \"time_hrs\": 3.7516666666666665, \"predictions\": 3.7049928160919543}, {\"age\": 24, \"bmi\": 20.77922058, \"female\": 0, \"footwear\": 2, \"group\": 3, \"injury\": 1, \"mf_d\": 42195, \"mf_di\": 4, \"mf_ti\": 10448, \"max\": 55.0, \"sprint\": 1, \"mf_s\": 4.038571975497703, \"time_hrs\": 2.902222222222222, \"predictions\": 3.686264367816092}, {\"age\": 47, \"bmi\": 22.16610718, \"female\": 0, \"footwear\": 2, \"group\": 2, \"injury\": 1, \"mf_d\": 42195, \"mf_di\": 3, \"mf_ti\": 12265, \"max\": 55.0, \"sprint\": 1, \"mf_s\": 3.44027721157766, \"time_hrs\": 3.406944444444444, \"predictions\": 3.686264367816092}, {\"age\": 30, \"bmi\": 22.01950264, \"female\": 1, \"footwear\": 2, \"group\": 1, \"injury\": 1, \"mf_d\": 42195, \"mf_di\": 3, \"mf_ti\": 12337, \"max\": 55.0, \"sprint\": 1, \"mf_s\": 3.4201994001783254, \"time_hrs\": 3.426944444444445, \"predictions\": 3.686264367816092}, {\"age\": 36, \"bmi\": 23.16774559, \"female\": 1, \"footwear\": 2, \"group\": 2, \"injury\": 1, \"mf_d\": 42195, \"mf_di\": 2, \"mf_ti\": 17101, \"max\": 60.0, \"sprint\": 1, \"mf_s\": 2.4673995672767672, \"time_hrs\": 4.750277777777778, \"predictions\": 3.5166403256704983}, {\"age\": 44, \"bmi\": 24.44100571, \"female\": 0, \"footwear\": 2, \"group\": 1, \"injury\": 1, \"mf_d\": 42195, \"mf_di\": 4, \"mf_ti\": 9518, \"max\": 108.0, \"sprint\": 1, \"mf_s\": 4.433179239335995, \"time_hrs\": 2.6438888888888887, \"predictions\": 3.0299521072796933}, {\"age\": 23, \"bmi\": 22.91344261, \"female\": 0, \"footwear\": 2, \"group\": 3, \"injury\": 2, \"mf_d\": 42195, \"mf_di\": 2, \"mf_ti\": 17587, \"max\": 20.0, \"sprint\": 0, \"mf_s\": 2.399215329504748, \"time_hrs\": 4.885277777777778, \"predictions\": 4.230174808429118}, {\"age\": 52, \"bmi\": 23.80480194, \"female\": 0, \"footwear\": 1, \"group\": 1, \"injury\": 1, \"mf_d\": 42195, \"mf_di\": 4, \"mf_ti\": 13257, \"max\": 40.0, \"sprint\": 1, \"mf_s\": 3.182846797918081, \"time_hrs\": 3.6825, \"predictions\": 4.159741379310345}, {\"age\": 34, \"bmi\": 24.57002449, \"female\": 0, \"footwear\": 1, \"group\": 3, \"injury\": 1, \"mf_d\": 42195, \"mf_di\": 3, \"mf_ti\": 10747, \"max\": 75.0, \"sprint\": 1, \"mf_s\": 3.926211966130083, \"time_hrs\": 2.9852777777777777, \"predictions\": 3.175766283524904}, {\"age\": 33, \"bmi\": 21.23309135, \"female\": 0, \"footwear\": 3, \"group\": 2, \"injury\": 1, \"mf_d\": 42195, \"mf_di\": 2, \"mf_ti\": 11440, \"max\": 65.0, \"sprint\": 1, \"mf_s\": 3.688374125874126, \"time_hrs\": 3.1777777777777776, \"predictions\": 3.3246743295019154}, {\"age\": 31, \"bmi\": 21.24975014, \"female\": 0, \"footwear\": 1, \"group\": 1, \"injury\": 3, \"mf_d\": 42195, \"mf_di\": 2, \"mf_ti\": 11175, \"max\": 30.0, \"sprint\": 0, \"mf_s\": 3.775838926174497, \"time_hrs\": 3.1041666666666665, \"predictions\": 4.217677203065134}, {\"age\": 40, \"bmi\": 25.37774658, \"female\": 0, \"footwear\": 2, \"group\": 2, \"injury\": 1, \"mf_d\": 42195, \"mf_di\": 4, \"mf_ti\": 11691, \"max\": 55.0, \"sprint\": 1, \"mf_s\": 3.609186553759302, \"time_hrs\": 3.2475, \"predictions\": 3.686264367816092}, {\"age\": 27, \"bmi\": 25.23191071, \"female\": 0, \"footwear\": 1, \"group\": 3, \"injury\": 1, \"mf_d\": 42195, \"mf_di\": 2, \"mf_ti\": 12267, \"max\": 80.0, \"sprint\": 0, \"mf_s\": 3.4397163120567376, \"time_hrs\": 3.4075, \"predictions\": 3.111103927203065}, {\"age\": 43, \"bmi\": 24.55106735, \"female\": 0, \"footwear\": 2, \"group\": 2, \"injury\": 1, \"mf_d\": 42195, \"mf_di\": 2, \"mf_ti\": 12121, \"max\": 70.0, \"sprint\": 1, \"mf_s\": 3.481148420097352, \"time_hrs\": 3.3669444444444445, \"predictions\": 3.2448730842911884}, {\"age\": 35, \"bmi\": 22.19460106, \"female\": 1, \"footwear\": 2, \"group\": 2, \"injury\": 1, \"mf_d\": 42195, \"mf_di\": 3, \"mf_ti\": 13127, \"max\": 50.0, \"sprint\": 1, \"mf_s\": 3.214367334501409, \"time_hrs\": 3.6463888888888887, \"predictions\": 3.724133141762452}, {\"age\": 49, \"bmi\": 20.9185257, \"female\": 1, \"footwear\": 2, \"group\": 2, \"injury\": 2, \"mf_d\": 42195, \"mf_di\": 4, \"mf_ti\": 14506, \"max\": 52.0, \"sprint\": 0, \"mf_s\": 2.908796360126844, \"time_hrs\": 4.029444444444445, \"predictions\": 3.6874545019157092}, {\"age\": 43, \"bmi\": 30.55125809, \"female\": 0, \"footwear\": 2, \"group\": 1, \"injury\": 1, \"mf_d\": 42195, \"mf_di\": 2, \"mf_ti\": 15120, \"max\": 40.0, \"sprint\": 1, \"mf_s\": 2.7906746031746037, \"time_hrs\": 4.2, \"predictions\": 4.159741379310345}, {\"age\": 26, \"bmi\": 22.19460106, \"female\": 1, \"footwear\": 2, \"group\": 1, \"injury\": 2, \"mf_d\": 42195, \"mf_di\": 3, \"mf_ti\": 20355, \"max\": 35.0, \"sprint\": 1, \"mf_s\": 2.072955047899779, \"time_hrs\": 5.654166666666667, \"predictions\": 4.160141283524904}, {\"age\": 36, \"bmi\": 22.91344261, \"female\": 0, \"footwear\": 2, \"group\": 2, \"injury\": 2, \"mf_d\": 42195, \"mf_di\": 2, \"mf_ti\": 12423, \"max\": 55.0, \"sprint\": 0, \"mf_s\": 3.396522579087177, \"time_hrs\": 3.4508333333333336, \"predictions\": 3.686264367816092}, {\"age\": 33, \"bmi\": 22.68170738, \"female\": 1, \"footwear\": 2, \"group\": 3, \"injury\": 3, \"mf_d\": 42195, \"mf_di\": 2, \"mf_ti\": 19307, \"max\": 32.0, \"sprint\": 1, \"mf_s\": 2.185476770083389, \"time_hrs\": 5.363055555555556, \"predictions\": 4.216985153256704}, {\"age\": 37, \"bmi\": 24.1301918, \"female\": 0, \"footwear\": 2, \"group\": 1, \"injury\": 1, \"mf_d\": 42195, \"mf_di\": 3, \"mf_ti\": 14096, \"max\": 30.0, \"sprint\": 0, \"mf_s\": 2.9934023836549377, \"time_hrs\": 3.915555555555556, \"predictions\": 4.217677203065134}, {\"age\": 35, \"bmi\": 22.91344261, \"female\": 0, \"footwear\": 1, \"group\": 1, \"injury\": 1, \"mf_d\": 42195, \"mf_di\": 2, \"mf_ti\": 10137, \"max\": 65.0, \"sprint\": 1, \"mf_s\": 4.162474104764724, \"time_hrs\": 2.815833333333333, \"predictions\": 3.3246743295019154}, {\"age\": 33, \"bmi\": 25.96857071, \"female\": 0, \"footwear\": 2, \"group\": 3, \"injury\": 2, \"mf_d\": 42195, \"mf_di\": 3, \"mf_ti\": 12540, \"max\": 40.0, \"sprint\": 0, \"mf_s\": 3.364832535885168, \"time_hrs\": 3.4833333333333334, \"predictions\": 4.159741379310345}, {\"age\": 31, \"bmi\": 20.86985588, \"female\": 1, \"footwear\": 2, \"group\": 3, \"injury\": 2, \"mf_d\": 42195, \"mf_di\": 4, \"mf_ti\": 11219, \"max\": 60.0, \"sprint\": 1, \"mf_s\": 3.7610303948658528, \"time_hrs\": 3.116388888888889, \"predictions\": 3.5166403256704983}, {\"age\": 34, \"bmi\": 25.74573708, \"female\": 1, \"footwear\": 2, \"group\": 3, \"injury\": 2, \"mf_d\": 42195, \"mf_di\": 2, \"mf_ti\": 18005, \"max\": 45.0, \"sprint\": 0, \"mf_s\": 2.3435156900860874, \"time_hrs\": 5.001388888888888, \"predictions\": 4.001913314176246}, {\"age\": 32, \"bmi\": 25.24751663, \"female\": 0, \"footwear\": 2, \"group\": 1, \"injury\": 2, \"mf_d\": 42195, \"mf_di\": 3, \"mf_ti\": 11593, \"max\": 50.0, \"sprint\": 1, \"mf_s\": 3.639696368498232, \"time_hrs\": 3.220277777777778, \"predictions\": 3.724133141762452}, {\"age\": 39, \"bmi\": 21.91380501, \"female\": 0, \"footwear\": 1, \"group\": 1, \"injury\": 1, \"mf_d\": 42195, \"mf_di\": 4, \"mf_ti\": 12574, \"max\": 60.0, \"sprint\": 0, \"mf_s\": 3.355734054397964, \"time_hrs\": 3.492777777777777, \"predictions\": 3.5166403256704983}, {\"age\": 38, \"bmi\": 20.41903305, \"female\": 1, \"footwear\": 2, \"group\": 3, \"injury\": 2, \"mf_d\": 42195, \"mf_di\": 2, \"mf_ti\": 13120, \"max\": 62.0, \"sprint\": 1, \"mf_s\": 3.216082317073171, \"time_hrs\": 3.644444444444445, \"predictions\": 3.3822006704980847}, {\"age\": 55, \"bmi\": 22.56029701, \"female\": 0, \"footwear\": 2, \"group\": 1, \"injury\": 1, \"mf_d\": 42195, \"mf_di\": 2, \"mf_ti\": 11940, \"max\": 60.0, \"sprint\": 1, \"mf_s\": 3.5339195979899496, \"time_hrs\": 3.316666666666667, \"predictions\": 3.5166403256704983}, {\"age\": 51, \"bmi\": 34.34582138, \"female\": 0, \"footwear\": 2, \"group\": 2, \"injury\": 1, \"mf_d\": 42195, \"mf_di\": 3, \"mf_ti\": 18960, \"max\": 45.0, \"sprint\": 0, \"mf_s\": 2.225474683544304, \"time_hrs\": 5.266666666666667, \"predictions\": 4.001913314176246}, {\"age\": 36, \"bmi\": 22.8571434, \"female\": 0, \"footwear\": 1, \"group\": 1, \"injury\": 2, \"mf_d\": 42195, \"mf_di\": 4, \"mf_ti\": 10652, \"max\": 60.0, \"sprint\": 1, \"mf_s\": 3.961227938415321, \"time_hrs\": 2.9588888888888887, \"predictions\": 3.5166403256704983}, {\"age\": 45, \"bmi\": 27.22624207, \"female\": 0, \"footwear\": 2, \"group\": 3, \"injury\": 2, \"mf_d\": 42195, \"mf_di\": 2, \"mf_ti\": 15600, \"max\": 30.0, \"sprint\": 0, \"mf_s\": 2.704807692307692, \"time_hrs\": 4.333333333333333, \"predictions\": 4.217677203065134}, {\"age\": 25, \"bmi\": 21.5213356, \"female\": 0, \"footwear\": 1, \"group\": 3, \"injury\": 1, \"mf_d\": 42195, \"mf_di\": 2, \"mf_ti\": 12300, \"max\": 70.0, \"sprint\": 1, \"mf_s\": 3.430487804878049, \"time_hrs\": 3.4166666666666665, \"predictions\": 3.2448730842911884}, {\"age\": 48, \"bmi\": 20.76124382, \"female\": 1, \"footwear\": 2, \"group\": 1, \"injury\": 1, \"mf_d\": 42195, \"mf_di\": 2, \"mf_ti\": 12072, \"max\": 55.0, \"sprint\": 1, \"mf_s\": 3.4952783300198806, \"time_hrs\": 3.353333333333333, \"predictions\": 3.686264367816092}, {\"age\": 49, \"bmi\": 26.27408218, \"female\": 0, \"footwear\": 2, \"group\": 2, \"injury\": 1, \"mf_d\": 42195, \"mf_di\": 4, \"mf_ti\": 12516, \"max\": 44.0, \"sprint\": 0, \"mf_s\": 3.3712847555129435, \"time_hrs\": 3.4766666666666666, \"predictions\": 4.023323754789272}, {\"age\": 42, \"bmi\": 21.87164688, \"female\": 1, \"footwear\": 2, \"group\": 3, \"injury\": 1, \"mf_d\": 42195, \"mf_di\": 2, \"mf_ti\": 12399, \"max\": 65.0, \"sprint\": 1, \"mf_s\": 3.4030970239535447, \"time_hrs\": 3.444166666666667, \"predictions\": 3.3246743295019154}, {\"age\": 49, \"bmi\": 19.53418541, \"female\": 1, \"footwear\": 1, \"group\": 3, \"injury\": 1, \"mf_d\": 42195, \"mf_di\": 2, \"mf_ti\": 13767, \"max\": 76.0, \"sprint\": 1, \"mf_s\": 3.064937894966224, \"time_hrs\": 3.8241666666666654, \"predictions\": 3.1570210727969354}, {\"age\": 32, \"bmi\": 26.20307159, \"female\": 1, \"footwear\": 2, \"group\": 1, \"injury\": 2, \"mf_d\": 42195, \"mf_di\": 3, \"mf_ti\": 14313, \"max\": 33.59999847, \"sprint\": 1, \"mf_s\": 2.9480192831691467, \"time_hrs\": 3.9758333333333336, \"predictions\": 4.17923132183908}, {\"age\": 26, \"bmi\": 19.79558945, \"female\": 1, \"footwear\": 2, \"group\": 2, \"injury\": 1, \"mf_d\": 42195, \"mf_di\": 2, \"mf_ti\": 13523, \"max\": 48.0, \"sprint\": 1, \"mf_s\": 3.120239591806552, \"time_hrs\": 3.756388888888889, \"predictions\": 3.750289750957854}, {\"age\": 38, \"bmi\": 23.80480194, \"female\": 0, \"footwear\": 1, \"group\": 3, \"injury\": 1, \"mf_d\": 42195, \"mf_di\": 3, \"mf_ti\": 13860, \"max\": 50.0, \"sprint\": 0, \"mf_s\": 3.044372294372294, \"time_hrs\": 3.85, \"predictions\": 3.724133141762452}, {\"age\": 25, \"bmi\": 23.64960861, \"female\": 1, \"footwear\": 1, \"group\": 2, \"injury\": 1, \"mf_d\": 42195, \"mf_di\": 2, \"mf_ti\": 12355, \"max\": 65.0, \"sprint\": 1, \"mf_s\": 3.415216511533792, \"time_hrs\": 3.4319444444444445, \"predictions\": 3.3246743295019154}, {\"age\": 33, \"bmi\": 25.82033348, \"female\": 0, \"footwear\": 2, \"group\": 3, \"injury\": 1, \"mf_d\": 42195, \"mf_di\": 3, \"mf_ti\": 12581, \"max\": 18.0, \"sprint\": 0, \"mf_s\": 3.3538669422144505, \"time_hrs\": 3.4947222222222223, \"predictions\": 4.21658764367816}, {\"age\": 34, \"bmi\": 19.85831833, \"female\": 1, \"footwear\": 2, \"group\": 1, \"injury\": 1, \"mf_d\": 42195, \"mf_di\": 3, \"mf_ti\": 17700, \"max\": 50.0, \"sprint\": 0, \"mf_s\": 2.3838983050847458, \"time_hrs\": 4.916666666666667, \"predictions\": 3.724133141762452}, {\"age\": 63, \"bmi\": 24.48979568, \"female\": 0, \"footwear\": 2, \"group\": 2, \"injury\": 2, \"mf_d\": 42195, \"mf_di\": 2, \"mf_ti\": 15172, \"max\": 30.0, \"sprint\": 0, \"mf_s\": 2.7811099393619827, \"time_hrs\": 4.214444444444444, \"predictions\": 4.217677203065134}, {\"age\": 20, \"bmi\": 21.23309135, \"female\": 0, \"footwear\": 1, \"group\": 3, \"injury\": 3, \"mf_d\": 42195, \"mf_di\": 2, \"mf_ti\": 12910, \"max\": 35.0, \"sprint\": 0, \"mf_s\": 3.2683965917893105, \"time_hrs\": 3.586111111111111, \"predictions\": 4.160141283524904}, {\"age\": 33, \"bmi\": 24.13549423, \"female\": 0, \"footwear\": 2, \"group\": 2, \"injury\": 1, \"mf_d\": 42195, \"mf_di\": 2, \"mf_ti\": 12720, \"max\": 35.0, \"sprint\": 1, \"mf_s\": 3.3172169811320757, \"time_hrs\": 3.533333333333333, \"predictions\": 4.160141283524904}, {\"age\": 44, \"bmi\": 23.49176788, \"female\": 0, \"footwear\": 2, \"group\": 3, \"injury\": 2, \"mf_d\": 42195, \"mf_di\": 2, \"mf_ti\": 11524, \"max\": 21.0, \"sprint\": 0, \"mf_s\": 3.661489066296425, \"time_hrs\": 3.201111111111111, \"predictions\": 4.230174808429118}, {\"age\": 31, \"bmi\": 26.93602562, \"female\": 1, \"footwear\": 1, \"group\": 3, \"injury\": 1, \"mf_d\": 42195, \"mf_di\": 3, \"mf_ti\": 14109, \"max\": 45.0, \"sprint\": 0, \"mf_s\": 2.990644269615139, \"time_hrs\": 3.919166666666667, \"predictions\": 4.001913314176246}, {\"age\": 24, \"bmi\": 23.5923233, \"female\": 0, \"footwear\": 1, \"group\": 3, \"injury\": 3, \"mf_d\": 42195, \"mf_di\": 2, \"mf_ti\": 9937, \"max\": 74.0, \"sprint\": 1, \"mf_s\": 4.24625138371742, \"time_hrs\": 2.760277777777778, \"predictions\": 3.1943199233716473}, {\"age\": 32, \"bmi\": 23.49176788, \"female\": 0, \"footwear\": 2, \"group\": 3, \"injury\": 1, \"mf_d\": 42195, \"mf_di\": 3, \"mf_ti\": 13087, \"max\": 50.0, \"sprint\": 1, \"mf_s\": 3.2241919462061586, \"time_hrs\": 3.635277777777778, \"predictions\": 3.724133141762452}, {\"age\": 41, \"bmi\": 19.29499054, \"female\": 1, \"footwear\": 2, \"group\": 2, \"injury\": 1, \"mf_d\": 42195, \"mf_di\": 4, \"mf_ti\": 12780, \"max\": 65.0, \"sprint\": 1, \"mf_s\": 3.301643192488263, \"time_hrs\": 3.55, \"predictions\": 3.3246743295019154}, {\"age\": 30, \"bmi\": 21.25563812, \"female\": 1, \"footwear\": 1, \"group\": 1, \"injury\": 1, \"mf_d\": 42195, \"mf_di\": 4, \"mf_ti\": 13020, \"max\": 40.0, \"sprint\": 1, \"mf_s\": 3.2407834101382487, \"time_hrs\": 3.6166666666666663, \"predictions\": 4.159741379310345}, {\"age\": 38, \"bmi\": 21.69139481, \"female\": 0, \"footwear\": 2, \"group\": 2, \"injury\": 2, \"mf_d\": 42195, \"mf_di\": 2, \"mf_ti\": 9627, \"max\": 105.0, \"sprint\": 1, \"mf_s\": 4.382985353692739, \"time_hrs\": 2.6741666666666664, \"predictions\": 3.044475574712644}, {\"age\": 24, \"bmi\": 21.06158638, \"female\": 1, \"footwear\": 2, \"group\": 3, \"injury\": 1, \"mf_d\": 42195, \"mf_di\": 2, \"mf_ti\": 10340, \"max\": 75.0, \"sprint\": 1, \"mf_s\": 4.080754352030948, \"time_hrs\": 2.8722222222222222, \"predictions\": 3.175766283524904}, {\"age\": 34, \"bmi\": 23.16774559, \"female\": 1, \"footwear\": 2, \"group\": 1, \"injury\": 1, \"mf_d\": 42195, \"mf_di\": 4, \"mf_ti\": 14268, \"max\": 44.0, \"sprint\": 0, \"mf_s\": 2.957317073170732, \"time_hrs\": 3.963333333333333, \"predictions\": 4.023323754789272}, {\"age\": 64, \"bmi\": 24.81470108, \"female\": 0, \"footwear\": 2, \"group\": 1, \"injury\": 1, \"mf_d\": 42195, \"mf_di\": 3, \"mf_ti\": 14807, \"max\": 60.0, \"sprint\": 1, \"mf_s\": 2.849665698656041, \"time_hrs\": 4.113055555555556, \"predictions\": 3.5166403256704983}, {\"age\": 27, \"bmi\": 19.44146538, \"female\": 0, \"footwear\": 2, \"group\": 1, \"injury\": 2, \"mf_d\": 42195, \"mf_di\": 3, \"mf_ti\": 9540, \"max\": 90.0, \"sprint\": 1, \"mf_s\": 4.422955974842767, \"time_hrs\": 2.65, \"predictions\": 3.063972701149425}, {\"age\": 35, \"bmi\": 22.60793114, \"female\": 0, \"footwear\": 1, \"group\": 1, \"injury\": 1, \"mf_d\": 42195, \"mf_di\": 4, \"mf_ti\": 9335, \"max\": 72.0, \"sprint\": 1, \"mf_s\": 4.520085698982324, \"time_hrs\": 2.593055555555556, \"predictions\": 3.212497605363984}, {\"age\": 35, \"bmi\": 22.44668961, \"female\": 0, \"footwear\": 2, \"group\": 1, \"injury\": 2, \"mf_d\": 42195, \"mf_di\": 2, \"mf_ti\": 11340, \"max\": 20.0, \"sprint\": 1, \"mf_s\": 3.720899470899471, \"time_hrs\": 3.15, \"predictions\": 4.230174808429118}, {\"age\": 35, \"bmi\": 30.05259323, \"female\": 1, \"footwear\": 2, \"group\": 1, \"injury\": 3, \"mf_d\": 42195, \"mf_di\": 3, \"mf_ti\": 22139, \"max\": 30.0, \"sprint\": 0, \"mf_s\": 1.905912642847464, \"time_hrs\": 6.149722222222223, \"predictions\": 4.217677203065134}, {\"age\": 42, \"bmi\": 21.23312569, \"female\": 0, \"footwear\": 2, \"group\": 2, \"injury\": 1, \"mf_d\": 42195, \"mf_di\": 3, \"mf_ti\": 10850, \"max\": 45.0, \"sprint\": 0, \"mf_s\": 3.8889400921658983, \"time_hrs\": 3.013888888888889, \"predictions\": 4.001913314176246}, {\"age\": 45, \"bmi\": 21.97979736, \"female\": 0, \"footwear\": 2, \"group\": 3, \"injury\": 2, \"mf_d\": 42195, \"mf_di\": 4, \"mf_ti\": 11017, \"max\": 70.0, \"sprint\": 0, \"mf_s\": 3.829990015430698, \"time_hrs\": 3.060277777777778, \"predictions\": 3.2448730842911884}, {\"age\": 38, \"bmi\": 25.23191071, \"female\": 0, \"footwear\": 1, \"group\": 2, \"injury\": 2, \"mf_d\": 42195, \"mf_di\": 4, \"mf_ti\": 11380, \"max\": 61.0, \"sprint\": 0, \"mf_s\": 3.7078207381370825, \"time_hrs\": 3.161111111111111, \"predictions\": 3.402133620689655}, {\"age\": 28, \"bmi\": 22.3776226, \"female\": 1, \"footwear\": 2, \"group\": 3, \"injury\": 1, \"mf_d\": 42195, \"mf_di\": 4, \"mf_ti\": 11835, \"max\": 55.0, \"sprint\": 1, \"mf_s\": 3.565272496831432, \"time_hrs\": 3.2875, \"predictions\": 3.686264367816092}, {\"age\": 36, \"bmi\": 25.54157829, \"female\": 1, \"footwear\": 2, \"group\": 2, \"injury\": 2, \"mf_d\": 42195, \"mf_di\": 3, \"mf_ti\": 15338, \"max\": 60.0, \"sprint\": 0, \"mf_s\": 2.7510105620028686, \"time_hrs\": 4.260555555555555, \"predictions\": 3.5166403256704983}, {\"age\": 31, \"bmi\": 25.87862206, \"female\": 1, \"footwear\": 2, \"group\": 2, \"injury\": 1, \"mf_d\": 42195, \"mf_di\": 2, \"mf_ti\": 15591, \"max\": 50.0, \"sprint\": 1, \"mf_s\": 2.706369059072542, \"time_hrs\": 4.3308333333333335, \"predictions\": 3.724133141762452}, {\"age\": 28, \"bmi\": 22.0347538, \"female\": 0, \"footwear\": 2, \"group\": 1, \"injury\": 1, \"mf_d\": 42195, \"mf_di\": 4, \"mf_ti\": 17185, \"max\": 32.0, \"sprint\": 1, \"mf_s\": 2.455338958393948, \"time_hrs\": 4.773611111111111, \"predictions\": 4.216985153256704}, {\"age\": 59, \"bmi\": 23.24191475, \"female\": 0, \"footwear\": 2, \"group\": 2, \"injury\": 1, \"mf_d\": 42195, \"mf_di\": 3, \"mf_ti\": 14785, \"max\": 56.0, \"sprint\": 1, \"mf_s\": 2.8539059857964157, \"time_hrs\": 4.106944444444444, \"predictions\": 3.592777777777778}, {\"age\": 38, \"bmi\": 22.37248611, \"female\": 1, \"footwear\": 2, \"group\": 1, \"injury\": 2, \"mf_d\": 42195, \"mf_di\": 3, \"mf_ti\": 12420, \"max\": 60.0, \"sprint\": 1, \"mf_s\": 3.3973429951690823, \"time_hrs\": 3.45, \"predictions\": 3.5166403256704983}, {\"age\": 30, \"bmi\": 22.01950264, \"female\": 0, \"footwear\": 1, \"group\": 1, \"injury\": 1, \"mf_d\": 42195, \"mf_di\": 4, \"mf_ti\": 14115, \"max\": 40.0, \"sprint\": 0, \"mf_s\": 2.989373007438895, \"time_hrs\": 3.920833333333333, \"predictions\": 4.159741379310345}, {\"age\": 35, \"bmi\": 19.64085388, \"female\": 0, \"footwear\": 2, \"group\": 2, \"injury\": 1, \"mf_d\": 42195, \"mf_di\": 3, \"mf_ti\": 13111, \"max\": 52.0, \"sprint\": 1, \"mf_s\": 3.218289985508352, \"time_hrs\": 3.641944444444445, \"predictions\": 3.6874545019157092}, {\"age\": 54, \"bmi\": 20.44668007, \"female\": 1, \"footwear\": 2, \"group\": 2, \"injury\": 3, \"mf_d\": 42195, \"mf_di\": 2, \"mf_ti\": 14708, \"max\": 42.0, \"sprint\": 1, \"mf_s\": 2.868846886048409, \"time_hrs\": 4.085555555555556, \"predictions\": 4.123378831417624}, {\"age\": 26, \"bmi\": 23.37423897, \"female\": 0, \"footwear\": 2, \"group\": 2, \"injury\": 1, \"mf_d\": 42195, \"mf_di\": 4, \"mf_ti\": 14820, \"max\": 30.0, \"sprint\": 0, \"mf_s\": 2.847165991902834, \"time_hrs\": 4.116666666666666, \"predictions\": 4.217677203065134}, {\"age\": 55, \"bmi\": 24.0420742, \"female\": 0, \"footwear\": 2, \"group\": 2, \"injury\": 1, \"mf_d\": 42195, \"mf_di\": 3, \"mf_ti\": 12741, \"max\": 70.0, \"sprint\": 1, \"mf_s\": 3.3117494702142687, \"time_hrs\": 3.5391666666666666, \"predictions\": 3.2448730842911884}, {\"age\": 38, \"bmi\": 23.90596962, \"female\": 0, \"footwear\": 2, \"group\": 1, \"injury\": 3, \"mf_d\": 42195, \"mf_di\": 2, \"mf_ti\": 13468, \"max\": 55.0, \"sprint\": 0, \"mf_s\": 3.132981882981883, \"time_hrs\": 3.741111111111111, \"predictions\": 3.686264367816092}, {\"age\": 38, \"bmi\": 19.24001694, \"female\": 1, \"footwear\": 2, \"group\": 1, \"injury\": 1, \"mf_d\": 42195, \"mf_di\": 4, \"mf_ti\": 14107, \"max\": 55.0, \"sprint\": 1, \"mf_s\": 2.99106826398242, \"time_hrs\": 3.9186111111111113, \"predictions\": 3.686264367816092}, {\"age\": 33, \"bmi\": 19.88636398, \"female\": 1, \"footwear\": 2, \"group\": 2, \"injury\": 1, \"mf_d\": 42195, \"mf_di\": 2, \"mf_ti\": 11341, \"max\": 60.0, \"sprint\": 0, \"mf_s\": 3.720571378185345, \"time_hrs\": 3.150277777777778, \"predictions\": 3.5166403256704983}, {\"age\": 40, \"bmi\": 22.86775398, \"female\": 1, \"footwear\": 2, \"group\": 2, \"injury\": 1, \"mf_d\": 42195, \"mf_di\": 2, \"mf_ti\": 16440, \"max\": 36.0, \"sprint\": 1, \"mf_s\": 2.5666058394160585, \"time_hrs\": 4.566666666666666, \"predictions\": 4.124861111111111}, {\"age\": 32, \"bmi\": 17.75568008, \"female\": 1, \"footwear\": 1, \"group\": 2, \"injury\": 3, \"mf_d\": 42195, \"mf_di\": 3, \"mf_ti\": 10923, \"max\": 60.0, \"sprint\": 1, \"mf_s\": 3.8629497390826697, \"time_hrs\": 3.0341666666666667, \"predictions\": 3.5166403256704983}, {\"age\": 56, \"bmi\": 24.48979568, \"female\": 0, \"footwear\": 2, \"group\": 1, \"injury\": 1, \"mf_d\": 42195, \"mf_di\": 4, \"mf_ti\": 16440, \"max\": 35.0, \"sprint\": 1, \"mf_s\": 2.5666058394160585, \"time_hrs\": 4.566666666666666, \"predictions\": 4.160141283524904}, {\"age\": 31, \"bmi\": 19.97483444, \"female\": 1, \"footwear\": 2, \"group\": 1, \"injury\": 1, \"mf_d\": 42195, \"mf_di\": 2, \"mf_ti\": 11302, \"max\": 80.0, \"sprint\": 0, \"mf_s\": 3.7334100159263848, \"time_hrs\": 3.1394444444444445, \"predictions\": 3.111103927203065}, {\"age\": 41, \"bmi\": 25.97402573, \"female\": 0, \"footwear\": 2, \"group\": 3, \"injury\": 2, \"mf_d\": 42195, \"mf_di\": 3, \"mf_ti\": 14820, \"max\": 42.0, \"sprint\": 0, \"mf_s\": 2.847165991902834, \"time_hrs\": 4.116666666666666, \"predictions\": 4.123378831417624}, {\"age\": 53, \"bmi\": 21.70465088, \"female\": 1, \"footwear\": 2, \"group\": 2, \"injury\": 1, \"mf_d\": 42195, \"mf_di\": 3, \"mf_ti\": 16500, \"max\": 50.0, \"sprint\": 1, \"mf_s\": 2.557272727272727, \"time_hrs\": 4.583333333333333, \"predictions\": 3.724133141762452}, {\"age\": 57, \"bmi\": 23.74768066, \"female\": 0, \"footwear\": 2, \"group\": 3, \"injury\": 1, \"mf_d\": 42195, \"mf_di\": 2, \"mf_ti\": 17100, \"max\": 45.0, \"sprint\": 0, \"mf_s\": 2.4675438596491226, \"time_hrs\": 4.75, \"predictions\": 4.001913314176246}, {\"age\": 28, \"bmi\": 23.64960861, \"female\": 1, \"footwear\": 2, \"group\": 1, \"injury\": 1, \"mf_d\": 42195, \"mf_di\": 4, \"mf_ti\": 16586, \"max\": 45.0, \"sprint\": 0, \"mf_s\": 2.5440130230314724, \"time_hrs\": 4.607222222222222, \"predictions\": 4.001913314176246}, {\"age\": 32, \"bmi\": 22.80591202, \"female\": 1, \"footwear\": 2, \"group\": 1, \"injury\": 2, \"mf_d\": 42195, \"mf_di\": 3, \"mf_ti\": 15473, \"max\": 62.0, \"sprint\": 1, \"mf_s\": 2.7270083371033413, \"time_hrs\": 4.298055555555555, \"predictions\": 3.3822006704980847}, {\"age\": 32, \"bmi\": 23.78989792, \"female\": 0, \"footwear\": 2, \"group\": 3, \"injury\": 1, \"mf_d\": 42195, \"mf_di\": 2, \"mf_ti\": 11384, \"max\": 75.0, \"sprint\": 1, \"mf_s\": 3.7065179198875615, \"time_hrs\": 3.162222222222222, \"predictions\": 3.175766283524904}, {\"age\": 53, \"bmi\": 23.16774559, \"female\": 0, \"footwear\": 2, \"group\": 1, \"injury\": 1, \"mf_d\": 42195, \"mf_di\": 3, \"mf_ti\": 10875, \"max\": 45.0, \"sprint\": 1, \"mf_s\": 3.88, \"time_hrs\": 3.020833333333333, \"predictions\": 4.001913314176246}, {\"age\": 50, \"bmi\": 20.24147606, \"female\": 1, \"footwear\": 2, \"group\": 1, \"injury\": 2, \"mf_d\": 42195, \"mf_di\": 4, \"mf_ti\": 12211, \"max\": 69.0, \"sprint\": 0, \"mf_s\": 3.4554909507820817, \"time_hrs\": 3.391944444444445, \"predictions\": 3.2535512452107285}, {\"age\": 31, \"bmi\": 18.69939232, \"female\": 1, \"footwear\": 2, \"group\": 1, \"injury\": 1, \"mf_d\": 42195, \"mf_di\": 3, \"mf_ti\": 16497, \"max\": 56.0, \"sprint\": 0, \"mf_s\": 2.557737770503728, \"time_hrs\": 4.5825, \"predictions\": 3.592777777777778}, {\"age\": 36, \"bmi\": 24.34137344, \"female\": 0, \"footwear\": 2, \"group\": 3, \"injury\": 1, \"mf_d\": 42195, \"mf_di\": 3, \"mf_ti\": 13530, \"max\": 51.0, \"sprint\": 1, \"mf_s\": 3.1186252771618626, \"time_hrs\": 3.758333333333333, \"predictions\": 3.717646072796935}, {\"age\": 28, \"bmi\": 23.45410728, \"female\": 1, \"footwear\": 2, \"group\": 2, \"injury\": 1, \"mf_d\": 42195, \"mf_di\": 4, \"mf_ti\": 13396, \"max\": 50.0, \"sprint\": 0, \"mf_s\": 3.1498208420424008, \"time_hrs\": 3.721111111111112, \"predictions\": 3.724133141762452}, {\"age\": 41, \"bmi\": 22.90478325, \"female\": 1, \"footwear\": 2, \"group\": 1, \"injury\": 1, \"mf_d\": 42195, \"mf_di\": 2, \"mf_ti\": 14940, \"max\": 35.0, \"sprint\": 1, \"mf_s\": 2.82429718875502, \"time_hrs\": 4.15, \"predictions\": 4.160141283524904}, {\"age\": 40, \"bmi\": 27.15151405, \"female\": 0, \"footwear\": 2, \"group\": 2, \"injury\": 1, \"mf_d\": 42195, \"mf_di\": 2, \"mf_ti\": 17623, \"max\": 21.0, \"sprint\": 1, \"mf_s\": 2.394314248425353, \"time_hrs\": 4.895277777777777, \"predictions\": 4.230174808429118}, {\"age\": 36, \"bmi\": 26.61252975, \"female\": 0, \"footwear\": 1, \"group\": 2, \"injury\": 1, \"mf_d\": 42195, \"mf_di\": 2, \"mf_ti\": 13560, \"max\": 20.0, \"sprint\": 0, \"mf_s\": 3.1117256637168142, \"time_hrs\": 3.7666666666666666, \"predictions\": 4.230174808429118}, {\"age\": 47, \"bmi\": 25.23407936, \"female\": 0, \"footwear\": 2, \"group\": 2, \"injury\": 1, \"mf_d\": 42195, \"mf_di\": 3, \"mf_ti\": 11620, \"max\": 62.0, \"sprint\": 1, \"mf_s\": 3.6312392426850257, \"time_hrs\": 3.2277777777777774, \"predictions\": 3.3822006704980847}, {\"age\": 37, \"bmi\": 23.27125931, \"female\": 1, \"footwear\": 2, \"group\": 2, \"injury\": 2, \"mf_d\": 42195, \"mf_di\": 4, \"mf_ti\": 12826, \"max\": 50.0, \"sprint\": 1, \"mf_s\": 3.289801964759083, \"time_hrs\": 3.562777777777778, \"predictions\": 3.724133141762452}, {\"age\": 37, \"bmi\": 20.55757523, \"female\": 0, \"footwear\": 1, \"group\": 3, \"injury\": 1, \"mf_d\": 42195, \"mf_di\": 4, \"mf_ti\": 9468, \"max\": 90.0, \"sprint\": 1, \"mf_s\": 4.4565906210392905, \"time_hrs\": 2.6300000000000003, \"predictions\": 3.063972701149425}, {\"age\": 44, \"bmi\": 31.16883087, \"female\": 0, \"footwear\": 2, \"group\": 3, \"injury\": 1, \"mf_d\": 42195, \"mf_di\": 3, \"mf_ti\": 14942, \"max\": 45.0, \"sprint\": 1, \"mf_s\": 2.8239191540623745, \"time_hrs\": 4.150555555555555, \"predictions\": 4.001913314176246}, {\"age\": 41, \"bmi\": 26.7320137, \"female\": 0, \"footwear\": 2, \"group\": 1, \"injury\": 1, \"mf_d\": 42195, \"mf_di\": 4, \"mf_ti\": 11294, \"max\": 64.0, \"sprint\": 1, \"mf_s\": 3.736054542234815, \"time_hrs\": 3.137222222222222, \"predictions\": 3.3497461685823757}, {\"age\": 37, \"bmi\": 24.04452515, \"female\": 0, \"footwear\": 2, \"group\": 3, \"injury\": 1, \"mf_d\": 42195, \"mf_di\": 2, \"mf_ti\": 10480, \"max\": 60.0, \"sprint\": 0, \"mf_s\": 4.026240458015267, \"time_hrs\": 2.911111111111111, \"predictions\": 3.5166403256704983}, {\"age\": 31, \"bmi\": 23.00573349, \"female\": 1, \"footwear\": 2, \"group\": 3, \"injury\": 1, \"mf_d\": 42195, \"mf_di\": 2, \"mf_ti\": 12731, \"max\": 35.0, \"sprint\": 1, \"mf_s\": 3.3143507972665147, \"time_hrs\": 3.536388888888889, \"predictions\": 4.160141283524904}, {\"age\": 39, \"bmi\": 22.51969719, \"female\": 0, \"footwear\": 2, \"group\": 1, \"injury\": 2, \"mf_d\": 42195, \"mf_di\": 4, \"mf_ti\": 15420, \"max\": 40.0, \"sprint\": 0, \"mf_s\": 2.7363813229571985, \"time_hrs\": 4.283333333333333, \"predictions\": 4.159741379310345}, {\"age\": 62, \"bmi\": 24.56541252, \"female\": 0, \"footwear\": 2, \"group\": 1, \"injury\": 1, \"mf_d\": 42195, \"mf_di\": 3, \"mf_ti\": 17607, \"max\": 42.0, \"sprint\": 0, \"mf_s\": 2.396490032373488, \"time_hrs\": 4.890833333333333, \"predictions\": 4.123378831417624}, {\"age\": 34, \"bmi\": 22.4551754, \"female\": 0, \"footwear\": 2, \"group\": 3, \"injury\": 1, \"mf_d\": 42195, \"mf_di\": 3, \"mf_ti\": 9696, \"max\": 20.0, \"sprint\": 1, \"mf_s\": 4.351794554455446, \"time_hrs\": 2.6933333333333334, \"predictions\": 4.230174808429118}, {\"age\": 51, \"bmi\": 32.36148453, \"female\": 1, \"footwear\": 2, \"group\": 1, \"injury\": 2, \"mf_d\": 42195, \"mf_di\": 3, \"mf_ti\": 22333, \"max\": 42.0, \"sprint\": 0, \"mf_s\": 1.8893565575605609, \"time_hrs\": 6.203611111111111, \"predictions\": 4.123378831417624}, {\"age\": 34, \"bmi\": 21.74523163, \"female\": 1, \"footwear\": 2, \"group\": 1, \"injury\": 2, \"mf_d\": 42195, \"mf_di\": 3, \"mf_ti\": 14050, \"max\": 50.0, \"sprint\": 1, \"mf_s\": 3.003202846975089, \"time_hrs\": 3.9027777777777777, \"predictions\": 3.724133141762452}, {\"age\": 44, \"bmi\": 20.03506279, \"female\": 1, \"footwear\": 2, \"group\": 3, \"injury\": 1, \"mf_d\": 42195, \"mf_di\": 2, \"mf_ti\": 15440, \"max\": 45.0, \"sprint\": 1, \"mf_s\": 2.732836787564767, \"time_hrs\": 4.288888888888889, \"predictions\": 4.001913314176246}, {\"age\": 28, \"bmi\": 23.74768066, \"female\": 1, \"footwear\": 2, \"group\": 2, \"injury\": 3, \"mf_d\": 42195, \"mf_di\": 4, \"mf_ti\": 22623, \"max\": 40.0, \"sprint\": 0, \"mf_s\": 1.865137249701631, \"time_hrs\": 6.284166666666667, \"predictions\": 4.159741379310345}, {\"age\": 50, \"bmi\": 24.02800179, \"female\": 1, \"footwear\": 2, \"group\": 1, \"injury\": 1, \"mf_d\": 42195, \"mf_di\": 3, \"mf_ti\": 14362, \"max\": 33.0, \"sprint\": 1, \"mf_s\": 2.937961286728868, \"time_hrs\": 3.989444444444445, \"predictions\": 4.216362547892721}, {\"age\": 45, \"bmi\": 27.5420742, \"female\": 0, \"footwear\": 2, \"group\": 2, \"injury\": 1, \"mf_d\": 42195, \"mf_di\": 2, \"mf_ti\": 15720, \"max\": 50.0, \"sprint\": 1, \"mf_s\": 2.6841603053435112, \"time_hrs\": 4.366666666666666, \"predictions\": 3.724133141762452}, {\"age\": 39, \"bmi\": 27.1192646, \"female\": 1, \"footwear\": 2, \"group\": 2, \"injury\": 1, \"mf_d\": 42195, \"mf_di\": 2, \"mf_ti\": 15420, \"max\": 40.0, \"sprint\": 1, \"mf_s\": 2.7363813229571985, \"time_hrs\": 4.283333333333333, \"predictions\": 4.159741379310345}, {\"age\": 26, \"bmi\": 30.05259323, \"female\": 1, \"footwear\": 2, \"group\": 1, \"injury\": 1, \"mf_d\": 42195, \"mf_di\": 2, \"mf_ti\": 15743, \"max\": 32.0, \"sprint\": 1, \"mf_s\": 2.6802388363082006, \"time_hrs\": 4.373055555555555, \"predictions\": 4.216985153256704}, {\"age\": 45, \"bmi\": 26.6554451, \"female\": 0, \"footwear\": 2, \"group\": 2, \"injury\": 3, \"mf_d\": 42195, \"mf_di\": 2, \"mf_ti\": 15600, \"max\": 29.0, \"sprint\": 0, \"mf_s\": 2.704807692307692, \"time_hrs\": 4.333333333333333, \"predictions\": 4.24025622605364}, {\"age\": 29, \"bmi\": 17.86459732, \"female\": 1, \"footwear\": 2, \"group\": 2, \"injury\": 1, \"mf_d\": 42195, \"mf_di\": 2, \"mf_ti\": 14238, \"max\": 50.0, \"sprint\": 1, \"mf_s\": 2.9635482511588704, \"time_hrs\": 3.955, \"predictions\": 3.724133141762452}, {\"age\": 54, \"bmi\": 29.26304436, \"female\": 1, \"footwear\": 2, \"group\": 2, \"injury\": 1, \"mf_d\": 42195, \"mf_di\": 2, \"mf_ti\": 15840, \"max\": 54.0, \"sprint\": 0, \"mf_s\": 2.663825757575758, \"time_hrs\": 4.4, \"predictions\": 3.7049928160919543}, {\"age\": 33, \"bmi\": 22.91344261, \"female\": 0, \"footwear\": 2, \"group\": 2, \"injury\": 1, \"mf_d\": 42195, \"mf_di\": 4, \"mf_ti\": 10769, \"max\": 65.0, \"sprint\": 1, \"mf_s\": 3.918191104095088, \"time_hrs\": 2.991388888888889, \"predictions\": 3.3246743295019154}, {\"age\": 32, \"bmi\": 19.37938118, \"female\": 0, \"footwear\": 3, \"group\": 2, \"injury\": 1, \"mf_d\": 42195, \"mf_di\": 3, \"mf_ti\": 12158, \"max\": 35.0, \"sprint\": 0, \"mf_s\": 3.4705543674946537, \"time_hrs\": 3.377222222222222, \"predictions\": 4.160141283524904}, {\"age\": 47, \"bmi\": 22.49134827, \"female\": 0, \"footwear\": 2, \"group\": 1, \"injury\": 1, \"mf_d\": 42195, \"mf_di\": 4, \"mf_ti\": 12312, \"max\": 40.0, \"sprint\": 1, \"mf_s\": 3.4271442495126707, \"time_hrs\": 3.42, \"predictions\": 4.159741379310345}, {\"age\": 33, \"bmi\": 25.87862206, \"female\": 1, \"footwear\": 2, \"group\": 3, \"injury\": 3, \"mf_d\": 42195, \"mf_di\": 4, \"mf_ti\": 21300, \"max\": 20.0, \"sprint\": 0, \"mf_s\": 1.9809859154929577, \"time_hrs\": 5.916666666666667, \"predictions\": 4.230174808429118}, {\"age\": 37, \"bmi\": 24.22145271, \"female\": 0, \"footwear\": 2, \"group\": 1, \"injury\": 2, \"mf_d\": 42195, \"mf_di\": 4, \"mf_ti\": 10558, \"max\": 65.0, \"sprint\": 0, \"mf_s\": 3.996495548399318, \"time_hrs\": 2.932777777777778, \"predictions\": 3.3246743295019154}, {\"age\": 40, \"bmi\": 20.3689785, \"female\": 1, \"footwear\": 2, \"group\": 3, \"injury\": 2, \"mf_d\": 42195, \"mf_di\": 3, \"mf_ti\": 16097, \"max\": 45.0, \"sprint\": 0, \"mf_s\": 2.6212958936447786, \"time_hrs\": 4.47138888888889, \"predictions\": 4.001913314176246}, {\"age\": 47, \"bmi\": 24.48979568, \"female\": 0, \"footwear\": 2, \"group\": 1, \"injury\": 1, \"mf_d\": 42195, \"mf_di\": 3, \"mf_ti\": 12111, \"max\": 55.0, \"sprint\": 1, \"mf_s\": 3.484022789199901, \"time_hrs\": 3.3641666666666667, \"predictions\": 3.686264367816092}, {\"age\": 35, \"bmi\": 22.70362473, \"female\": 1, \"footwear\": 1, \"group\": 3, \"injury\": 1, \"mf_d\": 42195, \"mf_di\": 3, \"mf_ti\": 15028, \"max\": 50.0, \"sprint\": 1, \"mf_s\": 2.807758850146393, \"time_hrs\": 4.174444444444444, \"predictions\": 3.724133141762452}, {\"age\": 33, \"bmi\": 21.75764084, \"female\": 1, \"footwear\": 2, \"group\": 3, \"injury\": 2, \"mf_d\": 42195, \"mf_di\": 3, \"mf_ti\": 13337, \"max\": 120.0, \"sprint\": 0, \"mf_s\": 3.1637549673839693, \"time_hrs\": 3.7047222222222222, \"predictions\": 3.0299521072796933}, {\"age\": 32, \"bmi\": 26.11717224, \"female\": 0, \"footwear\": 1, \"group\": 3, \"injury\": 2, \"mf_d\": 42195, \"mf_di\": 4, \"mf_ti\": 8950, \"max\": 36.0, \"sprint\": 0, \"mf_s\": 4.714525139664804, \"time_hrs\": 2.486111111111111, \"predictions\": 4.124861111111111}, {\"age\": 30, \"bmi\": 22.68170738, \"female\": 1, \"footwear\": 2, \"group\": 1, \"injury\": 1, \"mf_d\": 42195, \"mf_di\": 3, \"mf_ti\": 12753, \"max\": 51.0, \"sprint\": 1, \"mf_s\": 3.308633262761703, \"time_hrs\": 3.5425, \"predictions\": 3.717646072796935}, {\"age\": 34, \"bmi\": 25.53605843, \"female\": 0, \"footwear\": 2, \"group\": 3, \"injury\": 2, \"mf_d\": 42195, \"mf_di\": 3, \"mf_ti\": 12900, \"max\": 55.0, \"sprint\": 1, \"mf_s\": 3.27093023255814, \"time_hrs\": 3.583333333333333, \"predictions\": 3.686264367816092}, {\"age\": 26, \"bmi\": 24.17777824, \"female\": 0, \"footwear\": 2, \"group\": 1, \"injury\": 1, \"mf_d\": 42195, \"mf_di\": 2, \"mf_ti\": 14332, \"max\": 42.0, \"sprint\": 0, \"mf_s\": 2.9441110801004746, \"time_hrs\": 3.9811111111111113, \"predictions\": 4.123378831417624}, {\"age\": 40, \"bmi\": 23.61009026, \"female\": 0, \"footwear\": 2, \"group\": 2, \"injury\": 1, \"mf_d\": 42195, \"mf_di\": 4, \"mf_ti\": 10627, \"max\": 85.0, \"sprint\": 1, \"mf_s\": 3.970546720617296, \"time_hrs\": 2.9519444444444445, \"predictions\": 3.101120689655173}, {\"age\": 37, \"bmi\": 22.90478325, \"female\": 1, \"footwear\": 2, \"group\": 1, \"injury\": 1, \"mf_d\": 42195, \"mf_di\": 2, \"mf_ti\": 11627, \"max\": 51.0, \"sprint\": 1, \"mf_s\": 3.629053066139159, \"time_hrs\": 3.229722222222222, \"predictions\": 3.717646072796935}, {\"age\": 32, \"bmi\": 22.53944397, \"female\": 1, \"footwear\": 2, \"group\": 3, \"injury\": 1, \"mf_d\": 42195, \"mf_di\": 4, \"mf_ti\": 12774, \"max\": 43.0, \"sprint\": 1, \"mf_s\": 3.3031939877876937, \"time_hrs\": 3.5483333333333333, \"predictions\": 4.045763888888889}, {\"age\": 34, \"bmi\": 26.42340279, \"female\": 0, \"footwear\": 2, \"group\": 3, \"injury\": 2, \"mf_d\": 42195, \"mf_di\": 3, \"mf_ti\": 11790, \"max\": 68.0, \"sprint\": 1, \"mf_s\": 3.578880407124682, \"time_hrs\": 3.275, \"predictions\": 3.2529837164750957}, {\"age\": 50, \"bmi\": 19.17613602, \"female\": 1, \"footwear\": 2, \"group\": 2, \"injury\": 1, \"mf_d\": 42195, \"mf_di\": 2, \"mf_ti\": 10718, \"max\": 80.0, \"sprint\": 1, \"mf_s\": 3.936835230453443, \"time_hrs\": 2.977222222222222, \"predictions\": 3.111103927203065}, {\"age\": 22, \"bmi\": 21.5213356, \"female\": 0, \"footwear\": 2, \"group\": 1, \"injury\": 1, \"mf_d\": 42195, \"mf_di\": 3, \"mf_ti\": 11841, \"max\": 50.0, \"sprint\": 0, \"mf_s\": 3.563465923486192, \"time_hrs\": 3.2891666666666666, \"predictions\": 3.724133141762452}, {\"age\": 27, \"bmi\": 22.51829529, \"female\": 0, \"footwear\": 2, \"group\": 1, \"injury\": 2, \"mf_d\": 42195, \"mf_di\": 4, \"mf_ti\": 10846, \"max\": 61.0, \"sprint\": 1, \"mf_s\": 3.890374331550802, \"time_hrs\": 3.012777777777778, \"predictions\": 3.402133620689655}, {\"age\": 24, \"bmi\": 21.98859215, \"female\": 1, \"footwear\": 1, \"group\": 3, \"injury\": 1, \"mf_d\": 42195, \"mf_di\": 4, \"mf_ti\": 15284, \"max\": 20.0, \"sprint\": 0, \"mf_s\": 2.760730175346768, \"time_hrs\": 4.245555555555556, \"predictions\": 4.230174808429118}, {\"age\": 41, \"bmi\": 27.45825768, \"female\": 0, \"footwear\": 2, \"group\": 3, \"injury\": 1, \"mf_d\": 42195, \"mf_di\": 3, \"mf_ti\": 15570, \"max\": 30.0, \"sprint\": 0, \"mf_s\": 2.710019267822736, \"time_hrs\": 4.325, \"predictions\": 4.217677203065134}, {\"age\": 35, \"bmi\": 21.70465088, \"female\": 1, \"footwear\": 2, \"group\": 1, \"injury\": 1, \"mf_d\": 42195, \"mf_di\": 3, \"mf_ti\": 13484, \"max\": 50.0, \"sprint\": 0, \"mf_s\": 3.12926431326016, \"time_hrs\": 3.7455555555555553, \"predictions\": 3.724133141762452}, {\"age\": 30, \"bmi\": 24.18745041, \"female\": 1, \"footwear\": 2, \"group\": 2, \"injury\": 1, \"mf_d\": 42195, \"mf_di\": 2, \"mf_ti\": 11940, \"max\": 65.0, \"sprint\": 1, \"mf_s\": 3.5339195979899496, \"time_hrs\": 3.316666666666667, \"predictions\": 3.3246743295019154}, {\"age\": 40, \"bmi\": 17.84652138, \"female\": 0, \"footwear\": 2, \"group\": 3, \"injury\": 1, \"mf_d\": 42195, \"mf_di\": 4, \"mf_ti\": 12518, \"max\": 60.0, \"sprint\": 1, \"mf_s\": 3.370746125579166, \"time_hrs\": 3.477222222222222, \"predictions\": 3.5166403256704983}, {\"age\": 34, \"bmi\": 20.19801331, \"female\": 0, \"footwear\": 2, \"group\": 1, \"injury\": 1, \"mf_d\": 42195, \"mf_di\": 3, \"mf_ti\": 11453, \"max\": 70.0, \"sprint\": 1, \"mf_s\": 3.684187549113769, \"time_hrs\": 3.181388888888889, \"predictions\": 3.2448730842911884}, {\"age\": 35, \"bmi\": 22.01950264, \"female\": 1, \"footwear\": 2, \"group\": 1, \"injury\": 2, \"mf_d\": 42195, \"mf_di\": 4, \"mf_ti\": 13090, \"max\": 38.0, \"sprint\": 1, \"mf_s\": 3.2234530175706646, \"time_hrs\": 3.636111111111111, \"predictions\": 4.119810823754789}, {\"age\": 35, \"bmi\": 20.31658554, \"female\": 0, \"footwear\": 2, \"group\": 3, \"injury\": 3, \"mf_d\": 42195, \"mf_di\": 3, \"mf_ti\": 10424, \"max\": 63.0, \"sprint\": 1, \"mf_s\": 4.047870299309286, \"time_hrs\": 2.895555555555555, \"predictions\": 3.366381704980843}, {\"age\": 32, \"bmi\": 18.19851494, \"female\": 1, \"footwear\": 1, \"group\": 3, \"injury\": 2, \"mf_d\": 42195, \"mf_di\": 4, \"mf_ti\": 12530, \"max\": 60.0, \"sprint\": 1, \"mf_s\": 3.367517956903432, \"time_hrs\": 3.480555555555556, \"predictions\": 3.5166403256704983}, {\"age\": 32, \"bmi\": 20.03710556, \"female\": 0, \"footwear\": 2, \"group\": 1, \"injury\": 1, \"mf_d\": 42195, \"mf_di\": 4, \"mf_ti\": 11031, \"max\": 30.0, \"sprint\": 0, \"mf_s\": 3.8251291813978794, \"time_hrs\": 3.0641666666666665, \"predictions\": 4.217677203065134}, {\"age\": 32, \"bmi\": 22.19567108, \"female\": 0, \"footwear\": 1, \"group\": 2, \"injury\": 1, \"mf_d\": 42195, \"mf_di\": 2, \"mf_ti\": 10764, \"max\": 102.0, \"sprint\": 1, \"mf_s\": 3.920011148272018, \"time_hrs\": 2.99, \"predictions\": 3.0457255747126437}, {\"age\": 44, \"bmi\": 22.33406639, \"female\": 0, \"footwear\": 2, \"group\": 2, \"injury\": 2, \"mf_d\": 42195, \"mf_di\": 2, \"mf_ti\": 10685, \"max\": 70.0, \"sprint\": 1, \"mf_s\": 3.9489939167056622, \"time_hrs\": 2.968055555555556, \"predictions\": 3.2448730842911884}, {\"age\": 28, \"bmi\": 20.86985588, \"female\": 1, \"footwear\": 2, \"group\": 3, \"injury\": 1, \"mf_d\": 42195, \"mf_di\": 4, \"mf_ti\": 15627, \"max\": 45.0, \"sprint\": 0, \"mf_s\": 2.7001343827990016, \"time_hrs\": 4.340833333333333, \"predictions\": 4.001913314176246}, {\"age\": 38, \"bmi\": 22.26345062, \"female\": 0, \"footwear\": 1, \"group\": 3, \"injury\": 2, \"mf_d\": 42195, \"mf_di\": 3, \"mf_ti\": 11220, \"max\": 70.0, \"sprint\": 1, \"mf_s\": 3.760695187165776, \"time_hrs\": 3.1166666666666667, \"predictions\": 3.2448730842911884}, {\"age\": 51, \"bmi\": 23.84960938, \"female\": 0, \"footwear\": 1, \"group\": 3, \"injury\": 1, \"mf_d\": 42195, \"mf_di\": 4, \"mf_ti\": 12648, \"max\": 58.0, \"sprint\": 1, \"mf_s\": 3.336100569259962, \"time_hrs\": 3.5133333333333336, \"predictions\": 3.56000478927203}, {\"age\": 27, \"bmi\": 25.74573708, \"female\": 0, \"footwear\": 1, \"group\": 1, \"injury\": 1, \"mf_d\": 42195, \"mf_di\": 4, \"mf_ti\": 11058, \"max\": 45.0, \"sprint\": 1, \"mf_s\": 3.8157894736842106, \"time_hrs\": 3.0716666666666668, \"predictions\": 4.001913314176246}, {\"age\": 31, \"bmi\": 21.03681564, \"female\": 1, \"footwear\": 2, \"group\": 1, \"injury\": 1, \"mf_d\": 42195, \"mf_di\": 2, \"mf_ti\": 12500, \"max\": 51.0, \"sprint\": 0, \"mf_s\": 3.3756, \"time_hrs\": 3.4722222222222223, \"predictions\": 3.717646072796935}, {\"age\": 34, \"bmi\": 27.51718903, \"female\": 0, \"footwear\": 2, \"group\": 2, \"injury\": 1, \"mf_d\": 42195, \"mf_di\": 3, \"mf_ti\": 14939, \"max\": 43.0, \"sprint\": 0, \"mf_s\": 2.824486244059174, \"time_hrs\": 4.149722222222222, \"predictions\": 4.045763888888889}, {\"age\": 28, \"bmi\": 23.56902504, \"female\": 0, \"footwear\": 2, \"group\": 2, \"injury\": 2, \"mf_d\": 42195, \"mf_di\": 2, \"mf_ti\": 13680, \"max\": 60.0, \"sprint\": 0, \"mf_s\": 3.084429824561404, \"time_hrs\": 3.8, \"predictions\": 3.5166403256704983}, {\"age\": 42, \"bmi\": 23.83880615, \"female\": 1, \"footwear\": 2, \"group\": 2, \"injury\": 1, \"mf_d\": 42195, \"mf_di\": 2, \"mf_ti\": 14091, \"max\": 30.0, \"sprint\": 1, \"mf_s\": 2.994464551841601, \"time_hrs\": 3.9141666666666666, \"predictions\": 4.217677203065134}, {\"age\": 44, \"bmi\": 24.23761749, \"female\": 0, \"footwear\": 2, \"group\": 3, \"injury\": 1, \"mf_d\": 42195, \"mf_di\": 2, \"mf_ti\": 12289, \"max\": 63.0, \"sprint\": 1, \"mf_s\": 3.433558466921637, \"time_hrs\": 3.413611111111111, \"predictions\": 3.366381704980843}, {\"age\": 34, \"bmi\": 21.87164688, \"female\": 1, \"footwear\": 1, \"group\": 1, \"injury\": 2, \"mf_d\": 42195, \"mf_di\": 3, \"mf_ti\": 12255, \"max\": 46.0, \"sprint\": 0, \"mf_s\": 3.4430844553243576, \"time_hrs\": 3.404166666666667, \"predictions\": 3.86819683908046}, {\"age\": 35, \"bmi\": 24.34137344, \"female\": 0, \"footwear\": 2, \"group\": 3, \"injury\": 1, \"mf_d\": 42195, \"mf_di\": 3, \"mf_ti\": 12055, \"max\": 30.0, \"sprint\": 0, \"mf_s\": 3.5002073828287017, \"time_hrs\": 3.348611111111111, \"predictions\": 4.217677203065134}, {\"age\": 49, \"bmi\": 24.48979568, \"female\": 0, \"footwear\": 2, \"group\": 2, \"injury\": 1, \"mf_d\": 42195, \"mf_di\": 3, \"mf_ti\": 13080, \"max\": 100.0, \"sprint\": 0, \"mf_s\": 3.2259174311926606, \"time_hrs\": 3.633333333333333, \"predictions\": 3.0483524904214554}, {\"age\": 32, \"bmi\": 19.92143822, \"female\": 0, \"footwear\": 2, \"group\": 2, \"injury\": 2, \"mf_d\": 42195, \"mf_di\": 3, \"mf_ti\": 10080, \"max\": 67.0, \"sprint\": 1, \"mf_s\": 4.186011904761905, \"time_hrs\": 2.8, \"predictions\": 3.2708548850574712}, {\"age\": 32, \"bmi\": 31.38913918, \"female\": 0, \"footwear\": 2, \"group\": 1, \"injury\": 1, \"mf_d\": 42195, \"mf_di\": 2, \"mf_ti\": 14896, \"max\": 60.0, \"sprint\": 1, \"mf_s\": 2.8326396348012888, \"time_hrs\": 4.137777777777778, \"predictions\": 3.5166403256704983}, {\"age\": 43, \"bmi\": 22.50635719, \"female\": 0, \"footwear\": 2, \"group\": 1, \"injury\": 1, \"mf_d\": 42195, \"mf_di\": 4, \"mf_ti\": 12274, \"max\": 52.0, \"sprint\": 1, \"mf_s\": 3.437754603226332, \"time_hrs\": 3.4094444444444445, \"predictions\": 3.6874545019157092}, {\"age\": 29, \"bmi\": 23.08238602, \"female\": 1, \"footwear\": 2, \"group\": 2, \"injury\": 1, \"mf_d\": 42195, \"mf_di\": 3, \"mf_ti\": 13162, \"max\": 60.0, \"sprint\": 1, \"mf_s\": 3.2058197842273213, \"time_hrs\": 3.656111111111111, \"predictions\": 3.5166403256704983}, {\"age\": 26, \"bmi\": 20.03710556, \"female\": 0, \"footwear\": 1, \"group\": 1, \"injury\": 1, \"mf_d\": 42195, \"mf_di\": 3, \"mf_ti\": 10822, \"max\": 65.0, \"sprint\": 0, \"mf_s\": 3.899002032895953, \"time_hrs\": 3.006111111111111, \"predictions\": 3.3246743295019154}, {\"age\": 32, \"bmi\": 25.89813232, \"female\": 0, \"footwear\": 2, \"group\": 2, \"injury\": 1, \"mf_d\": 42195, \"mf_di\": 3, \"mf_ti\": 12075, \"max\": 57.0, \"sprint\": 1, \"mf_s\": 3.4944099378881988, \"time_hrs\": 3.3541666666666665, \"predictions\": 3.5725550766283525}, {\"age\": 26, \"bmi\": 25.04382706, \"female\": 0, \"footwear\": 2, \"group\": 2, \"injury\": 1, \"mf_d\": 42195, \"mf_di\": 4, \"mf_ti\": 12000, \"max\": 40.0, \"sprint\": 0, \"mf_s\": 3.51625, \"time_hrs\": 3.333333333333333, \"predictions\": 4.159741379310345}, {\"age\": 60, \"bmi\": 22.44668961, \"female\": 0, \"footwear\": 2, \"group\": 1, \"injury\": 1, \"mf_d\": 42195, \"mf_di\": 2, \"mf_ti\": 13890, \"max\": 40.0, \"sprint\": 1, \"mf_s\": 3.037796976241901, \"time_hrs\": 3.858333333333333, \"predictions\": 4.159741379310345}, {\"age\": 28, \"bmi\": 21.640728, \"female\": 0, \"footwear\": 2, \"group\": 2, \"injury\": 2, \"mf_d\": 42195, \"mf_di\": 4, \"mf_ti\": 8242, \"max\": 130.0, \"sprint\": 1, \"mf_s\": 5.11950982771172, \"time_hrs\": 2.2894444444444444, \"predictions\": 3.0299521072796933}, {\"age\": 32, \"bmi\": 25.8121376, \"female\": 0, \"footwear\": 2, \"group\": 2, \"injury\": 2, \"mf_d\": 42195, \"mf_di\": 2, \"mf_ti\": 14459, \"max\": 43.0, \"sprint\": 0, \"mf_s\": 2.9182516079950203, \"time_hrs\": 4.016388888888889, \"predictions\": 4.045763888888889}, {\"age\": 24, \"bmi\": 21.70493698, \"female\": 1, \"footwear\": 2, \"group\": 3, \"injury\": 2, \"mf_d\": 42195, \"mf_di\": 2, \"mf_ti\": 12701, \"max\": 50.0, \"sprint\": 1, \"mf_s\": 3.322179355956224, \"time_hrs\": 3.5280555555555555, \"predictions\": 3.724133141762452}, {\"age\": 50, \"bmi\": 25.04382706, \"female\": 0, \"footwear\": 2, \"group\": 1, \"injury\": 2, \"mf_d\": 42195, \"mf_di\": 3, \"mf_ti\": 11961, \"max\": 47.0, \"sprint\": 1, \"mf_s\": 3.527715073990469, \"time_hrs\": 3.3225, \"predictions\": 3.7892840038314173}, {\"age\": 34, \"bmi\": 23.00556564, \"female\": 0, \"footwear\": 2, \"group\": 3, \"injury\": 1, \"mf_d\": 42195, \"mf_di\": 4, \"mf_ti\": 10750, \"max\": 75.0, \"sprint\": 0, \"mf_s\": 3.9251162790697673, \"time_hrs\": 2.986111111111111, \"predictions\": 3.175766283524904}, {\"age\": 47, \"bmi\": 23.20066833, \"female\": 0, \"footwear\": 2, \"group\": 2, \"injury\": 2, \"mf_d\": 42195, \"mf_di\": 3, \"mf_ti\": 12840, \"max\": 3.0, \"sprint\": 1, \"mf_s\": 3.286214953271028, \"time_hrs\": 3.566666666666667, \"predictions\": 4.21658764367816}, {\"age\": 28, \"bmi\": 21.17267418, \"female\": 1, \"footwear\": 1, \"group\": 2, \"injury\": 2, \"mf_d\": 42195, \"mf_di\": 2, \"mf_ti\": 18600, \"max\": 30.0, \"sprint\": 0, \"mf_s\": 2.268548387096774, \"time_hrs\": 5.166666666666667, \"predictions\": 4.217677203065134}, {\"age\": 32, \"bmi\": 24.70283508, \"female\": 0, \"footwear\": 1, \"group\": 3, \"injury\": 3, \"mf_d\": 42195, \"mf_di\": 2, \"mf_ti\": 11296, \"max\": 42.0, \"sprint\": 1, \"mf_s\": 3.735393059490085, \"time_hrs\": 3.137777777777778, \"predictions\": 4.123378831417624}, {\"age\": 27, \"bmi\": 21.30681801, \"female\": 1, \"footwear\": 2, \"group\": 2, \"injury\": 2, \"mf_d\": 42195, \"mf_di\": 3, \"mf_ti\": 15965, \"max\": 35.0, \"sprint\": 0, \"mf_s\": 2.642968994675853, \"time_hrs\": 4.434722222222222, \"predictions\": 4.160141283524904}, {\"age\": 31, \"bmi\": 23.00573349, \"female\": 1, \"footwear\": 2, \"group\": 2, \"injury\": 1, \"mf_d\": 42195, \"mf_di\": 2, \"mf_ti\": 12817, \"max\": 56.0, \"sprint\": 1, \"mf_s\": 3.292112038698604, \"time_hrs\": 3.560277777777778, \"predictions\": 3.592777777777778}, {\"age\": 47, \"bmi\": 21.5194149, \"female\": 1, \"footwear\": 2, \"group\": 2, \"injury\": 2, \"mf_d\": 42195, \"mf_di\": 3, \"mf_ti\": 17778, \"max\": 32.0, \"sprint\": 0, \"mf_s\": 2.373439082011475, \"time_hrs\": 4.9383333333333335, \"predictions\": 4.216985153256704}]}}, {\"mode\": \"vega-lite\"});\n",
       "</script>"
      ],
      "text/plain": [
       "alt.LayerChart(...)"
      ]
     },
     "execution_count": 84,
     "metadata": {},
     "output_type": "execute_result"
    }
   ],
   "source": [
    "np.random.seed(2019) # DO NOT CHANGE\n",
    "\n",
    "# marathon_preds = ____.assign(\n",
    "#     predictions= _____.predict(____)\n",
    "# )\n",
    "# marathon_plot = ___\n",
    "\n",
    "# your code here\n",
    "\n",
    "marathon_preds = marathon_training.assign(\n",
    "    predictions = marathon_tuned.predict(X_train)\n",
    ")\n",
    "\n",
    "marathon_plot = alt.Chart(marathon_preds).mark_circle(opacity=0.4).encode(\n",
    "    x = alt.X('max').title(\"Max Distance\"),\n",
    "    y = alt.Y('time_hrs').title(\"Time (hrs)\")\n",
    ") + alt.Chart(marathon_preds).mark_line(color='black').encode(\n",
    "    x=alt.X('max'),\n",
    "    y=alt.Y('predictions').title(\"Predictions\")\n",
    ")\n",
    "\n",
    "marathon_plot\n",
    "# Success on binder, but not locally when not using Docker"
   ]
  },
  {
   "cell_type": "code",
   "execution_count": 85,
   "metadata": {
    "deletable": false,
    "editable": false,
    "nbgrader": {
     "cell_type": "code",
     "checksum": "9f0ddf3900639f940123875be5a35cfa",
     "grade": true,
     "grade_id": "cell-5eff9c974a058bdf",
     "locked": true,
     "points": 1,
     "schema_version": 3,
     "solution": false
    }
   },
   "outputs": [
    {
     "ename": "AssertionError",
     "evalue": "value of sum(marathon_preds.predictions) is not correct (rounded to 2 decimal places)",
     "output_type": "error",
     "traceback": [
      "\u001b[1;31m---------------------------------------------------------------------------\u001b[0m",
      "\u001b[1;31mAssertionError\u001b[0m                            Traceback (most recent call last)",
      "Cell \u001b[1;32mIn[85], line 16\u001b[0m\n\u001b[0;32m     13\u001b[0m \u001b[38;5;28;01massert\u001b[39;00m sha1(\u001b[38;5;28mstr\u001b[39m(\u001b[38;5;124m\"\u001b[39m\u001b[38;5;124mpredictions\u001b[39m\u001b[38;5;124m\"\u001b[39m \u001b[38;5;129;01min\u001b[39;00m marathon_preds\u001b[38;5;241m.\u001b[39mcolumns)\u001b[38;5;241m.\u001b[39mencode(\u001b[38;5;124m\"\u001b[39m\u001b[38;5;124mutf-8\u001b[39m\u001b[38;5;124m\"\u001b[39m)\u001b[38;5;241m+\u001b[39m\u001b[38;5;124mb\u001b[39m\u001b[38;5;124m\"\u001b[39m\u001b[38;5;124mf1a2d3a788b55fef\u001b[39m\u001b[38;5;124m\"\u001b[39m)\u001b[38;5;241m.\u001b[39mhexdigest() \u001b[38;5;241m==\u001b[39m \u001b[38;5;124m\"\u001b[39m\u001b[38;5;124m78accb0f50744a4c06a13c104524bde5fe021967\u001b[39m\u001b[38;5;124m\"\u001b[39m, \u001b[38;5;124m\"\u001b[39m\u001b[38;5;124mboolean value of \u001b[39m\u001b[38;5;130;01m\\\"\u001b[39;00m\u001b[38;5;124mpredictions\u001b[39m\u001b[38;5;130;01m\\\"\u001b[39;00m\u001b[38;5;124m in marathon_preds.columns is not correct\u001b[39m\u001b[38;5;124m\"\u001b[39m\n\u001b[0;32m     15\u001b[0m \u001b[38;5;28;01massert\u001b[39;00m sha1(\u001b[38;5;28mstr\u001b[39m(\u001b[38;5;28mtype\u001b[39m(\u001b[38;5;28msum\u001b[39m(marathon_preds\u001b[38;5;241m.\u001b[39mpredictions)))\u001b[38;5;241m.\u001b[39mencode(\u001b[38;5;124m\"\u001b[39m\u001b[38;5;124mutf-8\u001b[39m\u001b[38;5;124m\"\u001b[39m)\u001b[38;5;241m+\u001b[39m\u001b[38;5;124mb\u001b[39m\u001b[38;5;124m\"\u001b[39m\u001b[38;5;124m2e8721b7959b5a68\u001b[39m\u001b[38;5;124m\"\u001b[39m)\u001b[38;5;241m.\u001b[39mhexdigest() \u001b[38;5;241m==\u001b[39m \u001b[38;5;124m\"\u001b[39m\u001b[38;5;124m4b4636a694779233317dc27fea45d778c054c819\u001b[39m\u001b[38;5;124m\"\u001b[39m, \u001b[38;5;124m\"\u001b[39m\u001b[38;5;124mtype of sum(marathon_preds.predictions) is not float. Please make sure it is float and not np.float64, etc. You can cast your value into a float using float()\u001b[39m\u001b[38;5;124m\"\u001b[39m\n\u001b[1;32m---> 16\u001b[0m \u001b[38;5;28;01massert\u001b[39;00m sha1(\u001b[38;5;28mstr\u001b[39m(\u001b[38;5;28mround\u001b[39m(\u001b[38;5;28msum\u001b[39m(marathon_preds\u001b[38;5;241m.\u001b[39mpredictions), \u001b[38;5;241m2\u001b[39m))\u001b[38;5;241m.\u001b[39mencode(\u001b[38;5;124m\"\u001b[39m\u001b[38;5;124mutf-8\u001b[39m\u001b[38;5;124m\"\u001b[39m)\u001b[38;5;241m+\u001b[39m\u001b[38;5;124mb\u001b[39m\u001b[38;5;124m\"\u001b[39m\u001b[38;5;124m2e8721b7959b5a68\u001b[39m\u001b[38;5;124m\"\u001b[39m)\u001b[38;5;241m.\u001b[39mhexdigest() \u001b[38;5;241m==\u001b[39m \u001b[38;5;124m\"\u001b[39m\u001b[38;5;124m91639de6a16f4870f45ca229eb8555ead27ddb27\u001b[39m\u001b[38;5;124m\"\u001b[39m, \u001b[38;5;124m\"\u001b[39m\u001b[38;5;124mvalue of sum(marathon_preds.predictions) is not correct (rounded to 2 decimal places)\u001b[39m\u001b[38;5;124m\"\u001b[39m\n\u001b[0;32m     18\u001b[0m \u001b[38;5;28;01massert\u001b[39;00m sha1(\u001b[38;5;28mstr\u001b[39m(\u001b[38;5;28mtype\u001b[39m(\u001b[38;5;28msum\u001b[39m(marathon_preds\u001b[38;5;241m.\u001b[39mtime_hrs)))\u001b[38;5;241m.\u001b[39mencode(\u001b[38;5;124m\"\u001b[39m\u001b[38;5;124mutf-8\u001b[39m\u001b[38;5;124m\"\u001b[39m)\u001b[38;5;241m+\u001b[39m\u001b[38;5;124mb\u001b[39m\u001b[38;5;124m\"\u001b[39m\u001b[38;5;124m2656f4a74b893014\u001b[39m\u001b[38;5;124m\"\u001b[39m)\u001b[38;5;241m.\u001b[39mhexdigest() \u001b[38;5;241m==\u001b[39m \u001b[38;5;124m\"\u001b[39m\u001b[38;5;124m765b036888255343788fed59aae59efaaf9c80fb\u001b[39m\u001b[38;5;124m\"\u001b[39m, \u001b[38;5;124m\"\u001b[39m\u001b[38;5;124mtype of sum(marathon_preds.time_hrs) is not float. Please make sure it is float and not np.float64, etc. You can cast your value into a float using float()\u001b[39m\u001b[38;5;124m\"\u001b[39m\n\u001b[0;32m     19\u001b[0m \u001b[38;5;28;01massert\u001b[39;00m sha1(\u001b[38;5;28mstr\u001b[39m(\u001b[38;5;28mround\u001b[39m(\u001b[38;5;28msum\u001b[39m(marathon_preds\u001b[38;5;241m.\u001b[39mtime_hrs), \u001b[38;5;241m2\u001b[39m))\u001b[38;5;241m.\u001b[39mencode(\u001b[38;5;124m\"\u001b[39m\u001b[38;5;124mutf-8\u001b[39m\u001b[38;5;124m\"\u001b[39m)\u001b[38;5;241m+\u001b[39m\u001b[38;5;124mb\u001b[39m\u001b[38;5;124m\"\u001b[39m\u001b[38;5;124m2656f4a74b893014\u001b[39m\u001b[38;5;124m\"\u001b[39m)\u001b[38;5;241m.\u001b[39mhexdigest() \u001b[38;5;241m==\u001b[39m \u001b[38;5;124m\"\u001b[39m\u001b[38;5;124me27609be0a42ec27a1f43f27616626d6d078b3f5\u001b[39m\u001b[38;5;124m\"\u001b[39m, \u001b[38;5;124m\"\u001b[39m\u001b[38;5;124mvalue of sum(marathon_preds.time_hrs) is not correct (rounded to 2 decimal places)\u001b[39m\u001b[38;5;124m\"\u001b[39m\n",
      "\u001b[1;31mAssertionError\u001b[0m: value of sum(marathon_preds.predictions) is not correct (rounded to 2 decimal places)"
     ]
    }
   ],
   "source": [
    "from hashlib import sha1\n",
    "assert sha1(str(type(marathon_preds is None)).encode(\"utf-8\")+b\"05085d961712d31b\").hexdigest() == \"bd39760a1f92929743ecb251e02b11ba2c53fabb\", \"type of marathon_preds is None is not bool. marathon_preds is None should be a bool\"\n",
    "assert sha1(str(marathon_preds is None).encode(\"utf-8\")+b\"05085d961712d31b\").hexdigest() == \"7d7ac96fa84e242233b9b1e6ca6fee7ecb41f88c\", \"boolean value of marathon_preds is None is not correct\"\n",
    "\n",
    "assert sha1(str(type(marathon_preds)).encode(\"utf-8\")+b\"ce4f604ca1c1c3a9\").hexdigest() == \"88cf744a262d6844942cb13f98386828326e99a0\", \"type of type(marathon_preds) is not correct\"\n",
    "\n",
    "assert sha1(str(type(marathon_preds.shape)).encode(\"utf-8\")+b\"4fef9ebba6858504\").hexdigest() == \"3c08c1c00d24a06f196bbd26ec81dda5f37fda10\", \"type of marathon_preds.shape is not tuple. marathon_preds.shape should be a tuple\"\n",
    "assert sha1(str(len(marathon_preds.shape)).encode(\"utf-8\")+b\"4fef9ebba6858504\").hexdigest() == \"20dbd56051d97d20c8d997d6ccca3ac5418f4532\", \"length of marathon_preds.shape is not correct\"\n",
    "assert sha1(str(sorted(map(str, marathon_preds.shape))).encode(\"utf-8\")+b\"4fef9ebba6858504\").hexdigest() == \"0f05dec25dd46b0107bf3bb2476b920487a7c5d2\", \"values of marathon_preds.shape are not correct\"\n",
    "assert sha1(str(marathon_preds.shape).encode(\"utf-8\")+b\"4fef9ebba6858504\").hexdigest() == \"79743436ef1e01f5cb76293c4cfb01b2d4de902f\", \"order of elements of marathon_preds.shape is not correct\"\n",
    "\n",
    "assert sha1(str(type(\"predictions\" in marathon_preds.columns)).encode(\"utf-8\")+b\"f1a2d3a788b55fef\").hexdigest() == \"0c4a2d3c7dd5537bfce228364dc0f9d51c873d54\", \"type of \\\"predictions\\\" in marathon_preds.columns is not bool. \\\"predictions\\\" in marathon_preds.columns should be a bool\"\n",
    "assert sha1(str(\"predictions\" in marathon_preds.columns).encode(\"utf-8\")+b\"f1a2d3a788b55fef\").hexdigest() == \"78accb0f50744a4c06a13c104524bde5fe021967\", \"boolean value of \\\"predictions\\\" in marathon_preds.columns is not correct\"\n",
    "\n",
    "assert sha1(str(type(sum(marathon_preds.predictions))).encode(\"utf-8\")+b\"2e8721b7959b5a68\").hexdigest() == \"4b4636a694779233317dc27fea45d778c054c819\", \"type of sum(marathon_preds.predictions) is not float. Please make sure it is float and not np.float64, etc. You can cast your value into a float using float()\"\n",
    "assert sha1(str(round(sum(marathon_preds.predictions), 2)).encode(\"utf-8\")+b\"2e8721b7959b5a68\").hexdigest() == \"91639de6a16f4870f45ca229eb8555ead27ddb27\", \"value of sum(marathon_preds.predictions) is not correct (rounded to 2 decimal places)\"\n",
    "\n",
    "assert sha1(str(type(sum(marathon_preds.time_hrs))).encode(\"utf-8\")+b\"2656f4a74b893014\").hexdigest() == \"765b036888255343788fed59aae59efaaf9c80fb\", \"type of sum(marathon_preds.time_hrs) is not float. Please make sure it is float and not np.float64, etc. You can cast your value into a float using float()\"\n",
    "assert sha1(str(round(sum(marathon_preds.time_hrs), 2)).encode(\"utf-8\")+b\"2656f4a74b893014\").hexdigest() == \"e27609be0a42ec27a1f43f27616626d6d078b3f5\", \"value of sum(marathon_preds.time_hrs) is not correct (rounded to 2 decimal places)\"\n",
    "\n",
    "assert sha1(str(type(marathon_plot is None)).encode(\"utf-8\")+b\"c44cf005cf1ed940\").hexdigest() == \"f3b26f1ab3c362168ae1be2c62bb924b024d864c\", \"type of marathon_plot is None is not bool. marathon_plot is None should be a bool\"\n",
    "assert sha1(str(marathon_plot is None).encode(\"utf-8\")+b\"c44cf005cf1ed940\").hexdigest() == \"0b21f2e018c67dd98debebc711e58c68775a29f9\", \"boolean value of marathon_plot is None is not correct\"\n",
    "\n",
    "assert sha1(str(type(len(marathon_plot.layer))).encode(\"utf-8\")+b\"ff6f7119123bdfb0\").hexdigest() == \"768519d551d4d277a2010f09ae3426fade0629d2\", \"type of len(marathon_plot.layer) is not int. Please make sure it is int and not np.int64, etc. You can cast your value into an int using int()\"\n",
    "assert sha1(str(len(marathon_plot.layer)).encode(\"utf-8\")+b\"ff6f7119123bdfb0\").hexdigest() == \"4f777334178a1c82994cad1a2a80568591a95649\", \"value of len(marathon_plot.layer) is not correct\"\n",
    "\n",
    "assert sha1(str(type(marathon_plot.layer[0].mark)).encode(\"utf-8\")+b\"b2a55c960bee3cc6\").hexdigest() == \"4fa9863dba3a580b19bc3e7bcc5b272d7380451e\", \"type of marathon_plot.layer[0].mark is not correct\"\n",
    "assert sha1(str(marathon_plot.layer[0].mark).encode(\"utf-8\")+b\"b2a55c960bee3cc6\").hexdigest() == \"7ac5cbf2237e00fff9624838472f2dc24bf35824\", \"value of marathon_plot.layer[0].mark is not correct\"\n",
    "\n",
    "assert sha1(str(type(marathon_plot.layer[1].mark)).encode(\"utf-8\")+b\"41200213682f5854\").hexdigest() == \"19ae0ffecb9aa350898fd144ec8dc5a4e7a0971d\", \"type of marathon_plot.layer[1].mark is not correct\"\n",
    "assert sha1(str(marathon_plot.layer[1].mark).encode(\"utf-8\")+b\"41200213682f5854\").hexdigest() == \"51e32ae148e4684abe3aed6ee32d8b90a3796ebe\", \"value of marathon_plot.layer[1].mark is not correct\"\n",
    "\n",
    "assert sha1(str(type(marathon_plot.layer[0].encoding.x['shorthand'])).encode(\"utf-8\")+b\"965b9e5c5b2fbb27\").hexdigest() == \"a29fd88b18432decf31abdde2d22b7b53804622f\", \"type of marathon_plot.layer[0].encoding.x['shorthand'] is not str. marathon_plot.layer[0].encoding.x['shorthand'] should be an str\"\n",
    "assert sha1(str(len(marathon_plot.layer[0].encoding.x['shorthand'])).encode(\"utf-8\")+b\"965b9e5c5b2fbb27\").hexdigest() == \"b3b8f5673574bab4c844264cb1d13b94a9b19723\", \"length of marathon_plot.layer[0].encoding.x['shorthand'] is not correct\"\n",
    "assert sha1(str(marathon_plot.layer[0].encoding.x['shorthand'].lower()).encode(\"utf-8\")+b\"965b9e5c5b2fbb27\").hexdigest() == \"711e0896df5faff39bf1c2c93039cffd5cc52e50\", \"value of marathon_plot.layer[0].encoding.x['shorthand'] is not correct\"\n",
    "assert sha1(str(marathon_plot.layer[0].encoding.x['shorthand']).encode(\"utf-8\")+b\"965b9e5c5b2fbb27\").hexdigest() == \"711e0896df5faff39bf1c2c93039cffd5cc52e50\", \"correct string value of marathon_plot.layer[0].encoding.x['shorthand'] but incorrect case of letters\"\n",
    "\n",
    "assert sha1(str(type(marathon_plot.layer[0].encoding.y['shorthand'])).encode(\"utf-8\")+b\"f2063af07de18610\").hexdigest() == \"7556444824b84fdd8b3e623eba3f222b3324fc35\", \"type of marathon_plot.layer[0].encoding.y['shorthand'] is not str. marathon_plot.layer[0].encoding.y['shorthand'] should be an str\"\n",
    "assert sha1(str(len(marathon_plot.layer[0].encoding.y['shorthand'])).encode(\"utf-8\")+b\"f2063af07de18610\").hexdigest() == \"df261a255260d92bb0042084036d48ab68b5ef5d\", \"length of marathon_plot.layer[0].encoding.y['shorthand'] is not correct\"\n",
    "assert sha1(str(marathon_plot.layer[0].encoding.y['shorthand'].lower()).encode(\"utf-8\")+b\"f2063af07de18610\").hexdigest() == \"2b1a0c036763e1382a95a248e33691bae45d7d41\", \"value of marathon_plot.layer[0].encoding.y['shorthand'] is not correct\"\n",
    "assert sha1(str(marathon_plot.layer[0].encoding.y['shorthand']).encode(\"utf-8\")+b\"f2063af07de18610\").hexdigest() == \"2b1a0c036763e1382a95a248e33691bae45d7d41\", \"correct string value of marathon_plot.layer[0].encoding.y['shorthand'] but incorrect case of letters\"\n",
    "\n",
    "assert sha1(str(type(marathon_plot.layer[1].encoding.y['shorthand'])).encode(\"utf-8\")+b\"506b85e4f2c80277\").hexdigest() == \"e21cb67daf0484d808bcd96e484219b9c52609a0\", \"type of marathon_plot.layer[1].encoding.y['shorthand'] is not str. marathon_plot.layer[1].encoding.y['shorthand'] should be an str\"\n",
    "assert sha1(str(len(marathon_plot.layer[1].encoding.y['shorthand'])).encode(\"utf-8\")+b\"506b85e4f2c80277\").hexdigest() == \"bd6ec2fb1acd67dd460b722f3a6df2901541b626\", \"length of marathon_plot.layer[1].encoding.y['shorthand'] is not correct\"\n",
    "assert sha1(str(marathon_plot.layer[1].encoding.y['shorthand'].lower()).encode(\"utf-8\")+b\"506b85e4f2c80277\").hexdigest() == \"b5b8ecf9e544c48cb07521d1ee741ecd79d889cb\", \"value of marathon_plot.layer[1].encoding.y['shorthand'] is not correct\"\n",
    "assert sha1(str(marathon_plot.layer[1].encoding.y['shorthand']).encode(\"utf-8\")+b\"506b85e4f2c80277\").hexdigest() == \"b5b8ecf9e544c48cb07521d1ee741ecd79d889cb\", \"correct string value of marathon_plot.layer[1].encoding.y['shorthand'] but incorrect case of letters\"\n",
    "\n",
    "assert sha1(str(type(isinstance(marathon_plot.layer[0].encoding.x['title'], str))).encode(\"utf-8\")+b\"208ec2f0eed679de\").hexdigest() == \"c7bdf3ffce9586ba72f2064f0a719dc0ff8cfdd0\", \"type of isinstance(marathon_plot.layer[0].encoding.x['title'], str) is not bool. isinstance(marathon_plot.layer[0].encoding.x['title'], str) should be a bool\"\n",
    "assert sha1(str(isinstance(marathon_plot.layer[0].encoding.x['title'], str)).encode(\"utf-8\")+b\"208ec2f0eed679de\").hexdigest() == \"fe0463a763e68da26c6525aacc9aa23f72ced326\", \"boolean value of isinstance(marathon_plot.layer[0].encoding.x['title'], str) is not correct\"\n",
    "\n",
    "assert sha1(str(type(isinstance(marathon_plot.layer[0].encoding.y['title'], str))).encode(\"utf-8\")+b\"f9f86f1c52781a38\").hexdigest() == \"f355c84390c17d7b84cb39b7628de501a06dae8c\", \"type of isinstance(marathon_plot.layer[0].encoding.y['title'], str) is not bool. isinstance(marathon_plot.layer[0].encoding.y['title'], str) should be a bool\"\n",
    "assert sha1(str(isinstance(marathon_plot.layer[0].encoding.y['title'], str)).encode(\"utf-8\")+b\"f9f86f1c52781a38\").hexdigest() == \"858f7f03240585cf8fc3670f84a14be67d611491\", \"boolean value of isinstance(marathon_plot.layer[0].encoding.y['title'], str) is not correct\"\n",
    "\n",
    "print('Success!')"
   ]
  }
 ],
 "metadata": {
  "jupytext": {
   "encoding": "# -*- coding: utf-8 -*-"
  },
  "kernelspec": {
   "display_name": "Python 3 (ipykernel)",
   "language": "python",
   "name": "python3"
  },
  "language_info": {
   "codemirror_mode": {
    "name": "ipython",
    "version": 3
   },
   "file_extension": ".py",
   "mimetype": "text/x-python",
   "name": "python",
   "nbconvert_exporter": "python",
   "pygments_lexer": "ipython3",
   "version": "3.12.3"
  }
 },
 "nbformat": 4,
 "nbformat_minor": 4
}
