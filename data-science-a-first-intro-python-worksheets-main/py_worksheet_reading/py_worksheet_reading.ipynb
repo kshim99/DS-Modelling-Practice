{
 "cells": [
  {
   "cell_type": "markdown",
   "metadata": {
    "deletable": false,
    "editable": false,
    "nbgrader": {
     "cell_type": "markdown",
     "checksum": "dbe4d4056afc86d4a5e235d0d03118ab",
     "grade": false,
     "grade_id": "cell-b41ef16616efdfa8",
     "locked": true,
     "schema_version": 3,
     "solution": false,
     "task": false
    }
   },
   "source": [
    "# Worksheet 2: Introduction to Reading Data\n",
    "\n",
    "### Lecture and Tutorial Learning Goals:\n",
    "\n",
    "After completing this week's lecture and tutorial work, you will be able to:\n",
    "\n",
    "* define the following:\n",
    "    - absolute file path\n",
    "    - relative file path\n",
    "    - url\n",
    "* read data into Python using a relative path and a url\n",
    "* compare and contrast the following functions:\n",
    "    - `read_csv` \n",
    "    - `read_table`\n",
    "    - `read_excel`\n",
    "* match the following `pandas` `read_*` function arguments to their descriptions:\n",
    "    - `filepath_or_buffer` \n",
    "    - `sep`\n",
    "    - `names`\n",
    "    - `skiprows`\n",
    "* Connect to a database using the `ibis` library's `connect` function.\n",
    "* List the tables in a database using the `ibis` library's `list_tables` function\n",
    "* Create a reference to a database table using the `ibis` library's `table` function\n",
    "* Execute queries to bring data from a database into Python using the `ibis` library's `execute` function\n",
    "* Use `to_csv` to save a data frame to a `.csv` file\n",
    "\n",
    "\n",
    "This worksheet covers parts of [Chapter 2](https://python.datasciencebook.ca/reading.html) of the online textbook. You should read this chapter before attempting the worksheet."
   ]
  },
  {
   "cell_type": "code",
   "execution_count": null,
   "metadata": {
    "deletable": false,
    "editable": false,
    "lines_to_next_cell": 2,
    "nbgrader": {
     "cell_type": "code",
     "checksum": "2fd9f0128759ed1001749851f6eb5a9b",
     "grade": false,
     "grade_id": "cell-f0df10f129a73fe7",
     "locked": true,
     "schema_version": 3,
     "solution": false,
     "task": false
    }
   },
   "outputs": [],
   "source": [
    "### Run this cell before continuing.\n",
    "import os\n",
    "\n",
    "import altair as alt\n",
    "import pandas as pd\n",
    "import numpy as np\n",
    "\n",
    "# Simplify working with large datasets in Altair\n",
    "alt.data_transformers.disable_max_rows();"
   ]
  },
  {
   "cell_type": "code",
   "execution_count": null,
   "metadata": {
    "deletable": false,
    "editable": false,
    "lines_to_next_cell": 2,
    "nbgrader": {
     "cell_type": "code",
     "checksum": "e50874e7fa1bba842c9b93f3fe109c7e",
     "grade": false,
     "grade_id": "cell-a6632ec0f6a1911b",
     "locked": true,
     "schema_version": 3,
     "solution": false,
     "task": false
    }
   },
   "outputs": [],
   "source": [
    "### Run this cell before continuing.\n",
    "try:\n",
    "    os.remove(\"data/delay_data.csv\")\n",
    "except:\n",
    "    None"
   ]
  },
  {
   "cell_type": "markdown",
   "metadata": {
    "deletable": false,
    "editable": false,
    "nbgrader": {
     "cell_type": "markdown",
     "checksum": "e550bcec85654ce3ac3d9a3fe6a9f3f0",
     "grade": false,
     "grade_id": "cell-01937bf399a7f45d",
     "locked": true,
     "schema_version": 3,
     "solution": false,
     "task": false
    }
   },
   "source": [
    "## 1. Comparing Absolute Paths, Relative Paths, and URLs"
   ]
  },
  {
   "cell_type": "markdown",
   "metadata": {
    "deletable": false,
    "editable": false,
    "nbgrader": {
     "cell_type": "markdown",
     "checksum": "0f457118b48d36d823f12788695deec3",
     "grade": false,
     "grade_id": "cell-53313c72991fc35b",
     "locked": true,
     "schema_version": 3,
     "solution": false,
     "task": false
    }
   },
   "source": [
    "**Question 1.1** Multiple Choice:\n",
    "<br> {points: 1}\n",
    "\n",
    "If you needed to read a file using an absolute path, what would be the first symbol in your argument `(___)` when using the `pd.read_csv` function?\n",
    "\n",
    "A. `pd.read_csv(\">___\")`\n",
    "\n",
    "B. `pd.read_csv(\";___\")`\n",
    "\n",
    "C. `pd.read_csv(\"___\")`\n",
    "\n",
    "D. `pd.read_csv(\"/___\")`\n",
    "\n",
    "*Assign your answer to an object called `answer1_1`. Make sure your answer is an uppercase letter and is surrounded by quotation marks (e.g. `\"F\"`).*"
   ]
  },
  {
   "cell_type": "code",
   "execution_count": null,
   "metadata": {
    "deletable": false,
    "nbgrader": {
     "cell_type": "code",
     "checksum": "93f74cea0dc822ed646423205e60c47f",
     "grade": false,
     "grade_id": "cell-31f6bcc763a6c19f",
     "locked": false,
     "schema_version": 3,
     "solution": true,
     "task": false
    }
   },
   "outputs": [],
   "source": [
    "# your code here\n",
    "raise NotImplementedError"
   ]
  },
  {
   "cell_type": "code",
   "execution_count": null,
   "metadata": {
    "deletable": false,
    "editable": false,
    "nbgrader": {
     "cell_type": "code",
     "checksum": "fabf8262d5c4fe9ee67a343cd6f13461",
     "grade": true,
     "grade_id": "cell-0d7a29b2deaf9cfe",
     "locked": true,
     "points": 3,
     "schema_version": 3,
     "solution": false,
     "task": false
    }
   },
   "outputs": [],
   "source": [
    "from hashlib import sha1\n",
    "assert sha1(str(type(answer1_1)).encode(\"utf-8\")+b\"80134d2dcd0ec7c0\").hexdigest() == \"a6493ed2d7c0df4c2a3912684cee6f73a86b5f61\", \"type of answer1_1 is not str. answer1_1 should be an str\"\n",
    "assert sha1(str(len(answer1_1)).encode(\"utf-8\")+b\"80134d2dcd0ec7c0\").hexdigest() == \"dd29e47be3f7bb91c65ec33e72b9f0c918d702dd\", \"length of answer1_1 is not correct\"\n",
    "assert sha1(str(answer1_1.lower()).encode(\"utf-8\")+b\"80134d2dcd0ec7c0\").hexdigest() == \"3d311612f1eaf711ee16e7d4bc27b3171741d56e\", \"value of answer1_1 is not correct\"\n",
    "assert sha1(str(answer1_1).encode(\"utf-8\")+b\"80134d2dcd0ec7c0\").hexdigest() == \"0ace3e9e8766633a7650e26bbd7bbfe1539e6aa0\", \"correct string value of answer1_1 but incorrect case of letters\"\n",
    "\n",
    "print('Success!')"
   ]
  },
  {
   "cell_type": "markdown",
   "metadata": {
    "deletable": false,
    "editable": false,
    "nbgrader": {
     "cell_type": "markdown",
     "checksum": "e5f55656a582ab7fd1c8509055f71558",
     "grade": false,
     "grade_id": "cell-285561d2d852e675",
     "locked": true,
     "schema_version": 3,
     "solution": false,
     "task": false
    }
   },
   "source": [
    "**Question 1.2** True or False: \n",
    "<br> {points: 1}\n",
    "\n",
    "The file argument in the `pd.read_csv` function that uses an absolute path can *never* look like that of a relative path?\n",
    "\n",
    "*Assign your answer to an object called `answer1_2`. Make sure your answer is a boolean (e.g. `True` or `False`).* "
   ]
  },
  {
   "cell_type": "code",
   "execution_count": null,
   "metadata": {
    "deletable": false,
    "nbgrader": {
     "cell_type": "code",
     "checksum": "f46d68720dee0931dd0c9423ea4286cb",
     "grade": false,
     "grade_id": "cell-4e1a9125a5d354ca",
     "locked": false,
     "schema_version": 3,
     "solution": true,
     "task": false
    }
   },
   "outputs": [],
   "source": [
    "# your code here\n",
    "raise NotImplementedError"
   ]
  },
  {
   "cell_type": "code",
   "execution_count": null,
   "metadata": {
    "deletable": false,
    "editable": false,
    "nbgrader": {
     "cell_type": "code",
     "checksum": "e026ed4a3868f6f022d4394be0218032",
     "grade": true,
     "grade_id": "cell-3b1e215bff84eb7b",
     "locked": true,
     "points": 3,
     "schema_version": 3,
     "solution": false,
     "task": false
    }
   },
   "outputs": [],
   "source": [
    "from hashlib import sha1\n",
    "assert sha1(str(type(answer1_2)).encode(\"utf-8\")+b\"258e6d4cc44d9241\").hexdigest() == \"0de0f64103606253115c5ae73a18c782a71539eb\", \"type of answer1_2 is not bool. answer1_2 should be a bool\"\n",
    "assert sha1(str(answer1_2).encode(\"utf-8\")+b\"258e6d4cc44d9241\").hexdigest() == \"1f1cbb30d5a16f579b9c8339286257add6f86770\", \"boolean value of answer1_2 is not correct\"\n",
    "\n",
    "print('Success!')"
   ]
  },
  {
   "cell_type": "markdown",
   "metadata": {
    "deletable": false,
    "editable": false,
    "nbgrader": {
     "cell_type": "markdown",
     "checksum": "5672088845dd830dabba735f872ba9e7",
     "grade": false,
     "grade_id": "cell-f57fc85cb8f2edc5",
     "locked": true,
     "schema_version": 3,
     "solution": false,
     "task": false
    }
   },
   "source": [
    "**Question 1.3** \n",
    "Match the following paths with the correct path type that they represent:\n",
    "<br> {points: 1}\n",
    "\n",
    "*Example Path*\n",
    "\n",
    "A. `/Users/my_user/Desktop/UBC/BIOL363/SciaticNerveLab/sn_trial_1.xlsx`\n",
    "\n",
    "B. `https://www.ubc.ca`\n",
    "\n",
    "C. `file_1.csv`\n",
    "\n",
    "D. `/Users/name/Documents/Course_A/homework/my_first_homework.docx`\n",
    "\n",
    "E. `homework/my_second_homework.docx`\n",
    "\n",
    "F. `https://www.random_website.com`\n",
    "\n",
    "\n",
    "*Path Type*\n",
    "\n",
    "1. absolute\n",
    "2. relative\n",
    "3. URL\n",
    "\n",
    "For every argument, create an object using the letter associated with the example path and assign it the corresponding number from the list of path types. For example: `B = 1`. "
   ]
  },
  {
   "cell_type": "code",
   "execution_count": null,
   "metadata": {
    "deletable": false,
    "nbgrader": {
     "cell_type": "code",
     "checksum": "159c291290642c9a5204daa74e0f6ea1",
     "grade": false,
     "grade_id": "cell-f0b3c00004a32ddd",
     "locked": false,
     "schema_version": 3,
     "solution": true,
     "task": false
    }
   },
   "outputs": [],
   "source": [
    "# your code here\n",
    "raise NotImplementedError"
   ]
  },
  {
   "cell_type": "code",
   "execution_count": null,
   "metadata": {
    "deletable": false,
    "editable": false,
    "nbgrader": {
     "cell_type": "code",
     "checksum": "c99fff7e7f0cff6c5fca5f6892358183",
     "grade": true,
     "grade_id": "cell-81b5979634cdb51d",
     "locked": true,
     "points": 3,
     "schema_version": 3,
     "solution": false,
     "task": false
    }
   },
   "outputs": [],
   "source": [
    "from hashlib import sha1\n",
    "assert sha1(str(type(A)).encode(\"utf-8\")+b\"fc2dd8ceddf21222\").hexdigest() == \"79e03675ccbca8d6c32a9f96fbe7113addc1ab70\", \"type of A is not int. Please make sure it is int and not np.int64, etc. You can cast your value into an int using int()\"\n",
    "assert sha1(str(A).encode(\"utf-8\")+b\"fc2dd8ceddf21222\").hexdigest() == \"6f5d569c4c2bf0134b1656e943e4da5ae95a7b78\", \"value of A is not correct\"\n",
    "\n",
    "assert sha1(str(type(B)).encode(\"utf-8\")+b\"fe0c2069c907d983\").hexdigest() == \"01e345bb0699798287f07e9e64a460972b2869c5\", \"type of B is not int. Please make sure it is int and not np.int64, etc. You can cast your value into an int using int()\"\n",
    "assert sha1(str(B).encode(\"utf-8\")+b\"fe0c2069c907d983\").hexdigest() == \"d8456b70c969258272aaeaa12b69f8fa2071e591\", \"value of B is not correct\"\n",
    "\n",
    "assert sha1(str(type(C)).encode(\"utf-8\")+b\"8869d8e3662e2189\").hexdigest() == \"adc5866f06f97c16d54a8faa61cbc645a847b9ae\", \"type of C is not int. Please make sure it is int and not np.int64, etc. You can cast your value into an int using int()\"\n",
    "assert sha1(str(C).encode(\"utf-8\")+b\"8869d8e3662e2189\").hexdigest() == \"e28ddf684234be2ee73c90dbd928460addb67e7e\", \"value of C is not correct\"\n",
    "\n",
    "assert sha1(str(type(D)).encode(\"utf-8\")+b\"e0ce4ec2f073dded\").hexdigest() == \"73334403214c75a03a033cb28f89cc386f244a95\", \"type of D is not int. Please make sure it is int and not np.int64, etc. You can cast your value into an int using int()\"\n",
    "assert sha1(str(D).encode(\"utf-8\")+b\"e0ce4ec2f073dded\").hexdigest() == \"fe0703673410d6ef12b730d4762bbca0b65555f4\", \"value of D is not correct\"\n",
    "\n",
    "assert sha1(str(type(E)).encode(\"utf-8\")+b\"1ebf7c8dcd370581\").hexdigest() == \"08e619a96da41dc3f49b5ab1c7255f5b6dca872b\", \"type of E is not int. Please make sure it is int and not np.int64, etc. You can cast your value into an int using int()\"\n",
    "assert sha1(str(E).encode(\"utf-8\")+b\"1ebf7c8dcd370581\").hexdigest() == \"f988061409f7b04fde1dd426f6901f815aa5672d\", \"value of E is not correct\"\n",
    "\n",
    "assert sha1(str(type(F)).encode(\"utf-8\")+b\"c2235e33d6ec361e\").hexdigest() == \"6c8ed1c0e3f0ff4085473714f809f13938e39c43\", \"type of F is not int. Please make sure it is int and not np.int64, etc. You can cast your value into an int using int()\"\n",
    "assert sha1(str(F).encode(\"utf-8\")+b\"c2235e33d6ec361e\").hexdigest() == \"90d607447bb5027b6c90fd5d9ad1bfb1d5b2ac95\", \"value of F is not correct\"\n",
    "\n",
    "print('Success!')"
   ]
  },
  {
   "cell_type": "markdown",
   "metadata": {
    "deletable": false,
    "editable": false,
    "nbgrader": {
     "cell_type": "markdown",
     "checksum": "d64b9a26572215d9086ac311ed5ba1b8",
     "grade": false,
     "grade_id": "cell-f99a3b9bb2d39344",
     "locked": true,
     "schema_version": 3,
     "solution": false,
     "task": false
    }
   },
   "source": [
    "**Question 1.4** Multiple Choice:\n",
    "<br> {points: 1}\n",
    "\n",
    "If the absolute path to a data file looks like this: `/Users/my_user/Desktop/UBC/BIOL363/SciaticNerveLab/sn_trial_1.xlsx`\n",
    "\n",
    "What would the relative path look like if the working directory (i.e., where the Jupyter notebook is where you are running your Python code from) is now located in the `UBC` folder?\n",
    "\n",
    "A. `sn_trial_1.xlsx`\n",
    "\n",
    "B. `/SciaticNerveLab/sn_trial_1.xlsx`\n",
    "\n",
    "C. `BIOL363/SciaticNerveLab/sn_trial_1.xlsx`\n",
    "\n",
    "D. `UBC/BIOL363/SciaticNerveLab/sn_trial_1.xlsx`\n",
    "\n",
    "E. `/BIOL363/SciaticNerveLab/sn_trial_1.xlsx`\n",
    "\n",
    "*Assign your answer to an object called `answer1_4`. Make sure your answer is an uppercase letter and is surrounded by quotation marks (e.g. `\"F\"`).* "
   ]
  },
  {
   "cell_type": "code",
   "execution_count": null,
   "metadata": {
    "deletable": false,
    "nbgrader": {
     "cell_type": "code",
     "checksum": "57d6bc1e7faeff7d7f5ff7e2d3173445",
     "grade": false,
     "grade_id": "cell-010c531f8b38479c",
     "locked": false,
     "schema_version": 3,
     "solution": true,
     "task": false
    }
   },
   "outputs": [],
   "source": [
    "# your code here\n",
    "raise NotImplementedError"
   ]
  },
  {
   "cell_type": "code",
   "execution_count": null,
   "metadata": {
    "deletable": false,
    "editable": false,
    "nbgrader": {
     "cell_type": "code",
     "checksum": "3e29f0bcd5e9e824fe1388f6aa65d0c2",
     "grade": true,
     "grade_id": "cell-496ddf4b95dcd6c9",
     "locked": true,
     "points": 3,
     "schema_version": 3,
     "solution": false,
     "task": false
    }
   },
   "outputs": [],
   "source": [
    "from hashlib import sha1\n",
    "assert sha1(str(type(answer1_4)).encode(\"utf-8\")+b\"05075751471fe0c1\").hexdigest() == \"5ba9ed1e00f06d743523c4d8ea331d9bba176d1b\", \"type of answer1_4 is not str. answer1_4 should be an str\"\n",
    "assert sha1(str(len(answer1_4)).encode(\"utf-8\")+b\"05075751471fe0c1\").hexdigest() == \"751db79d1a22396122bc4a65264170514622579b\", \"length of answer1_4 is not correct\"\n",
    "assert sha1(str(answer1_4.lower()).encode(\"utf-8\")+b\"05075751471fe0c1\").hexdigest() == \"e25e8ba505042aaa43572dc4c91f32f428b76c9e\", \"value of answer1_4 is not correct\"\n",
    "assert sha1(str(answer1_4).encode(\"utf-8\")+b\"05075751471fe0c1\").hexdigest() == \"c935114d31a99b2c908bd110096e79e524b62fc0\", \"correct string value of answer1_4 but incorrect case of letters\"\n",
    "\n",
    "print('Success!')"
   ]
  },
  {
   "cell_type": "markdown",
   "metadata": {
    "deletable": false,
    "editable": false,
    "nbgrader": {
     "cell_type": "markdown",
     "checksum": "e3a7ec8c7b6ca5b3e4600ee0f8b83c10",
     "grade": false,
     "grade_id": "cell-0092b78e05e366e8",
     "locked": true,
     "schema_version": 3,
     "solution": false,
     "task": false
    }
   },
   "source": [
    "**Question 1.5**\n",
    "<br> {points: 1}\n",
    "\n",
    "Match the following paths with the most likely kind of data format they contain. \n",
    "\n",
    "*Paths:*\n",
    "\n",
    "1. `https://www.ubc.ca/datasets/data.db`\n",
    "2. `/home/user/downloads/data.xlsx`\n",
    "3. `data.tsv`\n",
    "4. `examples/data/data.csv`\n",
    "5. `https://en.wikipedia.org/wiki/Normal_distribution`\n",
    "\n",
    "*Dataset Types:*\n",
    "\n",
    "A. Excel Spreadsheet\n",
    "\n",
    "B. Database\n",
    "\n",
    "C. HTML file\n",
    "\n",
    "D. Comma-separated values file\n",
    "\n",
    "E. Tab-separated values file\n",
    "\n",
    "For every dataset type, create an object using the letter associated with the example and assign it the corresponding number from the list of paths. For example: `F = 5`\n"
   ]
  },
  {
   "cell_type": "code",
   "execution_count": null,
   "metadata": {
    "deletable": false,
    "nbgrader": {
     "cell_type": "code",
     "checksum": "3fb4ba5bcb309cefe6bae82416006152",
     "grade": false,
     "grade_id": "cell-2b98d9f0abe41b3c",
     "locked": false,
     "schema_version": 3,
     "solution": true,
     "task": false
    }
   },
   "outputs": [],
   "source": [
    "# your code here\n",
    "raise NotImplementedError"
   ]
  },
  {
   "cell_type": "code",
   "execution_count": null,
   "metadata": {
    "deletable": false,
    "editable": false,
    "nbgrader": {
     "cell_type": "code",
     "checksum": "20bb61a0dd8aed8dbe46571b29048626",
     "grade": true,
     "grade_id": "cell-3d1733503218cd62",
     "locked": true,
     "points": 3,
     "schema_version": 3,
     "solution": false,
     "task": false
    }
   },
   "outputs": [],
   "source": [
    "from hashlib import sha1\n",
    "assert sha1(str(type(A)).encode(\"utf-8\")+b\"b4aaa9ff7285a5ef\").hexdigest() == \"222fd0083cb0fb02da6a1227e16fe621c6646bae\", \"type of A is not int. Please make sure it is int and not np.int64, etc. You can cast your value into an int using int()\"\n",
    "assert sha1(str(A).encode(\"utf-8\")+b\"b4aaa9ff7285a5ef\").hexdigest() == \"0f3d494e76026d7a261a5a7b84ee63a31feb46bf\", \"value of A is not correct\"\n",
    "\n",
    "assert sha1(str(type(B)).encode(\"utf-8\")+b\"7ca757efe3de529f\").hexdigest() == \"002f6d4bd6a56e5d728efa1596b1c648f295f661\", \"type of B is not int. Please make sure it is int and not np.int64, etc. You can cast your value into an int using int()\"\n",
    "assert sha1(str(B).encode(\"utf-8\")+b\"7ca757efe3de529f\").hexdigest() == \"a74c0bb117185bd9c67d9b66cd1ae04b52b86f48\", \"value of B is not correct\"\n",
    "\n",
    "assert sha1(str(type(C)).encode(\"utf-8\")+b\"1fd5e0452f49f5cc\").hexdigest() == \"c3ac86ed2980d5e2fa059dc16e0852a686f2dfee\", \"type of C is not int. Please make sure it is int and not np.int64, etc. You can cast your value into an int using int()\"\n",
    "assert sha1(str(C).encode(\"utf-8\")+b\"1fd5e0452f49f5cc\").hexdigest() == \"a8b9d91377c40eed0730ad7d092c1ec32de31100\", \"value of C is not correct\"\n",
    "\n",
    "assert sha1(str(type(D)).encode(\"utf-8\")+b\"15dee80be26f71a5\").hexdigest() == \"9dd73a28d14756352d075fad19b203d64a0e370b\", \"type of D is not int. Please make sure it is int and not np.int64, etc. You can cast your value into an int using int()\"\n",
    "assert sha1(str(D).encode(\"utf-8\")+b\"15dee80be26f71a5\").hexdigest() == \"e7070da62e63ab1375a428f7b55b8c859e2763bc\", \"value of D is not correct\"\n",
    "\n",
    "assert sha1(str(type(E)).encode(\"utf-8\")+b\"50ee604a8519b6c5\").hexdigest() == \"09c7ac4778a27ac2e57c9833a3beb58932a48716\", \"type of E is not int. Please make sure it is int and not np.int64, etc. You can cast your value into an int using int()\"\n",
    "assert sha1(str(E).encode(\"utf-8\")+b\"50ee604a8519b6c5\").hexdigest() == \"ac2f5abd1195787499f487f3eaedf61ffca11bca\", \"value of E is not correct\"\n",
    "\n",
    "print('Success!')"
   ]
  },
  {
   "cell_type": "markdown",
   "metadata": {
    "deletable": false,
    "editable": false,
    "nbgrader": {
     "cell_type": "markdown",
     "checksum": "23b9c53ea715823c838948744c64f475",
     "grade": false,
     "grade_id": "cell-e96ecdf801ee47e8",
     "locked": true,
     "schema_version": 3,
     "solution": false,
     "task": false
    }
   },
   "source": [
    "## 2. Argument Modifications to Read Data\n",
    "Reading files is one of the first steps to wrangling data and consequently `pd.read_csv` is a crucial function in Python. However, despite how effortlessly it has worked so far, it has its limitations.\n",
    "\n",
    "Not all data sets come as perfectly organized like the ones you worked with last week. Time and effort were put into ensuring that the files were arranged with headers, columns were separated by commas, and the beginning excluded metadata. \n",
    "\n",
    "Now that you understand how to read files located outside (or inside) of your working directory, you can begin to learn the tips and tricks necessary to overcoming the setbacks of `read_csv`. "
   ]
  },
  {
   "cell_type": "code",
   "execution_count": null,
   "metadata": {
    "deletable": false,
    "editable": false,
    "nbgrader": {
     "cell_type": "code",
     "checksum": "51ad46d14ba0bbf3e72f55e12142d5b3",
     "grade": false,
     "grade_id": "cell-cc72c20a82574247",
     "locked": true,
     "schema_version": 3,
     "solution": false,
     "task": false
    },
    "tags": []
   },
   "outputs": [],
   "source": [
    "### Run this cell to learn more about the arguments used in pd.read_csv\n",
    "### Reading over the help file will assist with the next question. \n",
    "\n",
    "?pd.read_csv"
   ]
  },
  {
   "cell_type": "markdown",
   "metadata": {
    "deletable": false,
    "editable": false,
    "nbgrader": {
     "cell_type": "markdown",
     "checksum": "6db013c1d917f9ac8700d3ab7da51f5c",
     "grade": false,
     "grade_id": "cell-bafde1ddc023cf35",
     "locked": true,
     "schema_version": 3,
     "solution": false,
     "task": false
    }
   },
   "source": [
    "**Question 2.1** \n",
    "<br> {points: 1}\n",
    "\n",
    "Match the following descriptions with the corresponding arguments used in `pd.read_csv`:\n",
    "\n",
    "*Descriptions*\n",
    "\n",
    "G. Character that separates columns in your file. \n",
    "\n",
    "H. Specifies a list of column names to use when reading in a file.\n",
    "\n",
    "I. This is the file name, path to a file, or URL. \n",
    "\n",
    "J. Specifies the number of lines which must be ignored because they contain metadata. \n",
    "\n",
    "\n",
    "*Arguments*\n",
    "\n",
    "1. `filepath_or_buffer`\n",
    "2. `sep`\n",
    "3. `names`\n",
    "4. `skiprows`\n",
    "\n",
    "For every description, create an object using the letter associated with the description and assign it the corresponding number from the list of functions. For example: `G = 1`"
   ]
  },
  {
   "cell_type": "code",
   "execution_count": null,
   "metadata": {
    "deletable": false,
    "nbgrader": {
     "cell_type": "code",
     "checksum": "03b23714760e989c2e020b02431763e4",
     "grade": false,
     "grade_id": "cell-c6d77501960c676f",
     "locked": false,
     "schema_version": 3,
     "solution": true,
     "task": false
    }
   },
   "outputs": [],
   "source": [
    "# your code here\n",
    "raise NotImplementedError"
   ]
  },
  {
   "cell_type": "code",
   "execution_count": null,
   "metadata": {
    "deletable": false,
    "editable": false,
    "nbgrader": {
     "cell_type": "code",
     "checksum": "f472b81e18e7dc9fe1704e4cbbc87154",
     "grade": true,
     "grade_id": "cell-b9229174ebcf7d2e",
     "locked": true,
     "points": 3,
     "schema_version": 3,
     "solution": false,
     "task": false
    }
   },
   "outputs": [],
   "source": [
    "from hashlib import sha1\n",
    "assert sha1(str(type(G)).encode(\"utf-8\")+b\"71b087eb902ffbfa\").hexdigest() == \"7f8c97251c1c05b4dafed14ac44e279bb2b3abfb\", \"type of G is not int. Please make sure it is int and not np.int64, etc. You can cast your value into an int using int()\"\n",
    "assert sha1(str(G).encode(\"utf-8\")+b\"71b087eb902ffbfa\").hexdigest() == \"35554d9f389d930e408682ec0da59788a724db97\", \"value of G is not correct\"\n",
    "\n",
    "assert sha1(str(type(H)).encode(\"utf-8\")+b\"4e0ffca5b38b1dfc\").hexdigest() == \"61d8f25b53f1b9002e6b3e48c7bc58a841b4bb8e\", \"type of H is not int. Please make sure it is int and not np.int64, etc. You can cast your value into an int using int()\"\n",
    "assert sha1(str(H).encode(\"utf-8\")+b\"4e0ffca5b38b1dfc\").hexdigest() == \"e8a03bfb16337dfbdca73d324fc7296c552a4963\", \"value of H is not correct\"\n",
    "\n",
    "assert sha1(str(type(I)).encode(\"utf-8\")+b\"df389d3c297008df\").hexdigest() == \"c625d0cb24d6926f6f036cea4be35af27e8da9bf\", \"type of I is not int. Please make sure it is int and not np.int64, etc. You can cast your value into an int using int()\"\n",
    "assert sha1(str(I).encode(\"utf-8\")+b\"df389d3c297008df\").hexdigest() == \"9182d52e4709e19118acefdd04002332dd985a5e\", \"value of I is not correct\"\n",
    "\n",
    "assert sha1(str(type(J)).encode(\"utf-8\")+b\"06426a2cd57645ea\").hexdigest() == \"f93ad983ddcd4bbb6067a11309705e4b552666e2\", \"type of J is not int. Please make sure it is int and not np.int64, etc. You can cast your value into an int using int()\"\n",
    "assert sha1(str(J).encode(\"utf-8\")+b\"06426a2cd57645ea\").hexdigest() == \"82808e7509dcfab4846afa48c1efbea337ee3105\", \"value of J is not correct\"\n",
    "\n",
    "print('Success!')"
   ]
  },
  {
   "cell_type": "markdown",
   "metadata": {
    "deletable": false,
    "editable": false,
    "nbgrader": {
     "cell_type": "markdown",
     "checksum": "0cda116cee1476c87e965d01b187a554",
     "grade": false,
     "grade_id": "cell-9c4d459ff0d4eb12",
     "locked": true,
     "schema_version": 3,
     "solution": false,
     "task": false
    }
   },
   "source": [
    "**Question 2.2** True or False:\n",
    "<br> {points: 1}\n",
    "\n",
    "`pd.read_csv` and `pd.read_table` can both be used for reading files that have columns separated by `;`. \n",
    "\n",
    "*Assign your answer to an object called `answer2_2`. Make sure your answer is a boolean (e.g. `True` or `False`).*"
   ]
  },
  {
   "cell_type": "code",
   "execution_count": null,
   "metadata": {
    "deletable": false,
    "nbgrader": {
     "cell_type": "code",
     "checksum": "b4030e34743fb95e3559e78105af2e4f",
     "grade": false,
     "grade_id": "cell-c593b61a9e63214d",
     "locked": false,
     "schema_version": 3,
     "solution": true,
     "task": false
    }
   },
   "outputs": [],
   "source": [
    "# your code here\n",
    "raise NotImplementedError"
   ]
  },
  {
   "cell_type": "code",
   "execution_count": null,
   "metadata": {
    "deletable": false,
    "editable": false,
    "nbgrader": {
     "cell_type": "code",
     "checksum": "ab16e57d93b443da2896cb7071b9f4a9",
     "grade": true,
     "grade_id": "cell-fff66a74bda40e7f",
     "locked": true,
     "points": 3,
     "schema_version": 3,
     "solution": false,
     "task": false
    }
   },
   "outputs": [],
   "source": [
    "from hashlib import sha1\n",
    "assert sha1(str(type(answer2_2)).encode(\"utf-8\")+b\"f990126839bd71b9\").hexdigest() == \"ec6a387cf3dbe010788d5e70f97d4d18660b86e9\", \"type of answer2_2 is not bool. answer2_2 should be a bool\"\n",
    "assert sha1(str(answer2_2).encode(\"utf-8\")+b\"f990126839bd71b9\").hexdigest() == \"cde513aa814cf8a5debff4d1efe7401b66cb1e25\", \"boolean value of answer2_2 is not correct\"\n",
    "\n",
    "print('Success!')"
   ]
  },
  {
   "cell_type": "markdown",
   "metadata": {
    "deletable": false,
    "editable": false,
    "nbgrader": {
     "cell_type": "markdown",
     "checksum": "66cc5038d447efc81f635f220a115365",
     "grade": false,
     "grade_id": "cell-80b368654abb01ac",
     "locked": true,
     "schema_version": 3,
     "solution": false,
     "task": false
    }
   },
   "source": [
    "**Question 2.3** True or False: \n",
    "<br> {points: 1}\n",
    "\n",
    "`pd.read_csv` can be used for files that have columns separated by one or more of the following characters: letters, tabs, semicolons, or commas.\n",
    "\n",
    "*Assign your answer to an object called `answer2_3`. Make sure your answer is a boolean (e.g. `True` or `False`).*"
   ]
  },
  {
   "cell_type": "code",
   "execution_count": null,
   "metadata": {
    "deletable": false,
    "nbgrader": {
     "cell_type": "code",
     "checksum": "17d8f953e09660e4a3ac8c39901057a7",
     "grade": false,
     "grade_id": "cell-870bb80556aab0c3",
     "locked": false,
     "schema_version": 3,
     "solution": true,
     "task": false
    }
   },
   "outputs": [],
   "source": [
    "# your code here\n",
    "raise NotImplementedError"
   ]
  },
  {
   "cell_type": "code",
   "execution_count": null,
   "metadata": {
    "deletable": false,
    "editable": false,
    "nbgrader": {
     "cell_type": "code",
     "checksum": "f3ce75a7ab9e06c83d15ebd2fbd5a96f",
     "grade": true,
     "grade_id": "cell-bc72e3bea9ddf5b5",
     "locked": true,
     "points": 3,
     "schema_version": 3,
     "solution": false,
     "task": false
    }
   },
   "outputs": [],
   "source": [
    "from hashlib import sha1\n",
    "assert sha1(str(type(answer2_3)).encode(\"utf-8\")+b\"924c594f0ad47cd5\").hexdigest() == \"480448b4542ee336a3317ff4c5bb357b862e8da1\", \"type of answer2_3 is not bool. answer2_3 should be a bool\"\n",
    "assert sha1(str(answer2_3).encode(\"utf-8\")+b\"924c594f0ad47cd5\").hexdigest() == \"a93af1d7a5529f515d4d2766267a5e2afb0833e0\", \"boolean value of answer2_3 is not correct\"\n",
    "\n",
    "print('Success!')"
   ]
  },
  {
   "cell_type": "markdown",
   "metadata": {
    "deletable": false,
    "editable": false,
    "nbgrader": {
     "cell_type": "markdown",
     "checksum": "78b8a3239193bb68e4bffc00e9c40727",
     "grade": false,
     "grade_id": "cell-fa798647ffd412f8",
     "locked": true,
     "schema_version": 3,
     "solution": false,
     "task": false
    }
   },
   "source": [
    "## 3. Happiness Report (2017)\n",
    "This data was taken from [Kaggle](https://www.kaggle.com/unsdsn/world-happiness) and ranks countries on happiness based on rationalized factors like economic growth, social support, etc. The data was released by the United Nations at an event celebrating International Day of Happiness.  According to the website, the file contains the following information:\n",
    "\n",
    "* Country = Name of the country.\n",
    "* Region = Region the country belongs to.\n",
    "* Happiness Rank = Rank of the country based on the Happiness Score.\n",
    "* Happiness Score = A metric measured by asking the sampled people the question: \"How would you rate your happiness on a scale of 0 to 10 where 10 is the happiest?\"\n",
    "* Standard Error = The standard error of the happiness score.\n",
    "* Economy (GDP per Capita) = The extent to which GDP contributes to the calculation of the Happiness Score.\n",
    "* Family = The extent to which Family contributes to the calculation of the Happiness Score.\n",
    "* Health (Life Expectancy) = The extent to which Life expectancy contributed to the calculation of the Happiness Score.\n",
    "* Freedom = The extent to which Freedom contributed to the calculation of the Happiness Score.\n",
    "* Trust (Government Corruption) = The extent to which Perception of Corruption contributes to Happiness Score.\n",
    "* Generosity = The extent to which Generosity contributed to the calculation of the Happiness Score.\n",
    "* Dystopia Residual = The extent to which Dystopia Residual contributed to the calculation of the Happiness Score.\n",
    "\n",
    "To clean up the file and make it easier to read, we only kept the country name, happiness score, economy (GDP per capita), life expectancy, and freedom. The happiness scores and rankings use data from the Gallup World Poll, which surveys citizens in countries from around the world.\n",
    "\n",
    "Kaggle stores this information but it is compiled by the *Sustainable Development Solutions Network*. They survey these factors nearly every year (since 2012) and allow global comparisons to optimize political decision making. These landmark surveys are highly recognized and allow countries to learn and grow from one another. One day, they will provide a historical insight on the nature of our time.  "
   ]
  },
  {
   "cell_type": "markdown",
   "metadata": {
    "deletable": false,
    "editable": false,
    "nbgrader": {
     "cell_type": "markdown",
     "checksum": "ed7419617e14886a6f028c6c643860d6",
     "grade": false,
     "grade_id": "cell-6495dcc89ffe6f0a",
     "locked": true,
     "schema_version": 3,
     "solution": false,
     "task": false
    }
   },
   "source": [
    "**Question 3.1** Fill in the Blank: \n",
    "<br> {points: 1}\n",
    "\n",
    "Trust is the extent to which \\_\\_\\_\\_\\_\\_\\_\\_\\_\\_\\_\\_\\_\\_\\_ contributes to Happiness Score. \n",
    "\n",
    "A. Corruption \n",
    "\n",
    "B. Government Intervention \n",
    "\n",
    "C. Perception of Corruption  \n",
    "\n",
    "D. Tax Money Designation \n",
    "\n",
    "*Assign your answer to an object called `answer3_1`. Make sure your answer is an uppercase letter and is surrounded by quotation marks (e.g. `\"F\"`).* "
   ]
  },
  {
   "cell_type": "code",
   "execution_count": null,
   "metadata": {
    "deletable": false,
    "nbgrader": {
     "cell_type": "code",
     "checksum": "b1ecfd76566f61618f604998167a3358",
     "grade": false,
     "grade_id": "cell-f5e4734a364c4ac8",
     "locked": false,
     "schema_version": 3,
     "solution": true,
     "task": false
    }
   },
   "outputs": [],
   "source": [
    "# your code here\n",
    "raise NotImplementedError"
   ]
  },
  {
   "cell_type": "code",
   "execution_count": null,
   "metadata": {
    "deletable": false,
    "editable": false,
    "nbgrader": {
     "cell_type": "code",
     "checksum": "8e24f862d8768d3487f79cb60caadaab",
     "grade": true,
     "grade_id": "cell-0bcf4e7cd22fa393",
     "locked": true,
     "points": 3,
     "schema_version": 3,
     "solution": false,
     "task": false
    }
   },
   "outputs": [],
   "source": [
    "from hashlib import sha1\n",
    "assert sha1(str(type(answer3_1)).encode(\"utf-8\")+b\"442b0c126ec8c5bf\").hexdigest() == \"3fb54ef040d341aec6a7aea1d85b9415edf015f5\", \"type of answer3_1 is not str. answer3_1 should be an str\"\n",
    "assert sha1(str(len(answer3_1)).encode(\"utf-8\")+b\"442b0c126ec8c5bf\").hexdigest() == \"ef80b9745c2b970baa9007e65dd4847f230f18d4\", \"length of answer3_1 is not correct\"\n",
    "assert sha1(str(answer3_1.lower()).encode(\"utf-8\")+b\"442b0c126ec8c5bf\").hexdigest() == \"fbe464ae677eeb8a71c9c5b5e3579177bd66f92e\", \"value of answer3_1 is not correct\"\n",
    "assert sha1(str(answer3_1).encode(\"utf-8\")+b\"442b0c126ec8c5bf\").hexdigest() == \"17d81927707e1f375d8e8ffeaf866e4256b57000\", \"correct string value of answer3_1 but incorrect case of letters\"\n",
    "\n",
    "print('Success!')"
   ]
  },
  {
   "cell_type": "markdown",
   "metadata": {
    "deletable": false,
    "editable": false,
    "nbgrader": {
     "cell_type": "markdown",
     "checksum": "677864fdd53fbac92d55d83cd1625d58",
     "grade": false,
     "grade_id": "cell-838e271dab9da39a",
     "locked": true,
     "schema_version": 3,
     "solution": false,
     "task": false
    }
   },
   "source": [
    "**Question 3.2** Multiple Choice: \n",
    "<br> {points: 1}\n",
    "\n",
    "What is the happiness report?\n",
    "\n",
    "A. Study conducted by the governments of multiple countries. \n",
    "\n",
    "B. Independent survey of citizens from multiple countries.\n",
    "\n",
    "C. Study conducted by the UN. \n",
    "\n",
    "D. Survey given to international students by UBC's psychology department. \n",
    "\n",
    "*Assign your answer to an object called `answer3_2`. Make sure your answer is an uppercase letter and is surrounded by quotation marks (e.g. `\"F\"`).* "
   ]
  },
  {
   "cell_type": "code",
   "execution_count": null,
   "metadata": {
    "deletable": false,
    "nbgrader": {
     "cell_type": "code",
     "checksum": "be5b96bf0038bdec059376de0fe2d4e1",
     "grade": false,
     "grade_id": "cell-70bcf03b219a7e20",
     "locked": false,
     "schema_version": 3,
     "solution": true,
     "task": false
    }
   },
   "outputs": [],
   "source": [
    "# your code here\n",
    "raise NotImplementedError"
   ]
  },
  {
   "cell_type": "code",
   "execution_count": null,
   "metadata": {
    "deletable": false,
    "editable": false,
    "nbgrader": {
     "cell_type": "code",
     "checksum": "5dba298cc1d96b8997e191550d02a55a",
     "grade": true,
     "grade_id": "cell-e7d4bdc58a1398fe",
     "locked": true,
     "points": 3,
     "schema_version": 3,
     "solution": false,
     "task": false
    }
   },
   "outputs": [],
   "source": [
    "from hashlib import sha1\n",
    "assert sha1(str(type(answer3_2)).encode(\"utf-8\")+b\"d6cf3997b4eed36c\").hexdigest() == \"1f2e36e02a9e26243b6238abad8e7c10ea7269b9\", \"type of answer3_2 is not str. answer3_2 should be an str\"\n",
    "assert sha1(str(len(answer3_2)).encode(\"utf-8\")+b\"d6cf3997b4eed36c\").hexdigest() == \"9ee37568bbbe99d9c333406c5b29aed87117e8b5\", \"length of answer3_2 is not correct\"\n",
    "assert sha1(str(answer3_2.lower()).encode(\"utf-8\")+b\"d6cf3997b4eed36c\").hexdigest() == \"dd761c1274cb7f89d24cddf8b73910464b78999d\", \"value of answer3_2 is not correct\"\n",
    "assert sha1(str(answer3_2).encode(\"utf-8\")+b\"d6cf3997b4eed36c\").hexdigest() == \"60c6ffaa1f469bfbeffa47a28a8dfe487ac5abaa\", \"correct string value of answer3_2 but incorrect case of letters\"\n",
    "\n",
    "print('Success!')"
   ]
  },
  {
   "cell_type": "markdown",
   "metadata": {
    "deletable": false,
    "editable": false,
    "nbgrader": {
     "cell_type": "markdown",
     "checksum": "4797c7177a7333946fa1154f93564d48",
     "grade": false,
     "grade_id": "cell-5a8a233fd251ad76",
     "locked": true,
     "schema_version": 3,
     "solution": false,
     "task": false
    }
   },
   "source": [
    "**Question 3.3** Fill in the Blanks (of the Table):\n",
    "<br> {points: 1}\n",
    "\n",
    "It is often a good idea to try to \"inspect\" your data to see what it looks like before trying to load it into Python. This will help you figure out the right function to call and what arguments to use. When your data are stored as plain text, you can do this easily with Jupyter (or any text editor). \n",
    "\n",
    "Open all the files named `happiness_report...` in the `data` folder with the plain text editor in your working directory (the `worksheet_02` directory) using Jupyter (**Right click the file -> Open With -> Editor**). This will allow you to visualize the files and the organization of your data. Based on your findings, fill in the missing items A-F in the table below. This table will be very useful to refer back to in the coming weeks. \n",
    "\n",
    "*You'll notice that trying to open one of the files gives you an error (`File Load Error ... is not UTF-8 encoded`). This means that this data is not stored as human-readable plain text. For this special file, just fill in the* `read_*` *function entry, the other columns will be left blank.*"
   ]
  },
  {
   "cell_type": "markdown",
   "metadata": {
    "deletable": false,
    "editable": false,
    "nbgrader": {
     "cell_type": "markdown",
     "checksum": "46d9c14d8ab74209d2df98b00f8a8ab1",
     "grade": false,
     "grade_id": "cell-f45eda526a4ab070",
     "locked": true,
     "schema_version": 3,
     "solution": false,
     "task": false
    }
   },
   "source": [
    "|File Name                       | delim      | Header | Metadata | skip               | read_*   |\n",
    "|--------------------------------|------------|--------|----------|--------------------|----------|\n",
    "|`_.csv`                         |`\";\"`, `\",\"`, `\"\\\"`, or `\"tab\"`|`\"yes\"`or `\"no\"`|`\"yes\"`or `\"no\"`|`NA` or # of lines|`pd.read_*`|\n",
    "|`happiness_report.csv`          |,           |**A**     |no        |`NA`                  |`pd.read_csv`  |\n",
    "|`happiness_report_semicolon.csv`|;           |yes     |no        |`NA`                  |**B** |\n",
    "|`happiness_report.tsv`          |**C**         |yes     |no        |`NA`                  |`pd.read_table` or `pd.read_csv`  |\n",
    "|`happiness_report_metadata.csv` |,           |yes     |**D**       |2                   |`pd.read_csv`  |\n",
    "|`happiness_report_no_header.csv`|,           |**E**      |no      |`NA`                  |`pd.read_csv`  |\n",
    "|`happiness_report.xlsx`         |            |        |          |                    |**F**|\n",
    "\n",
    "For the missing items (labelled A to F) in the table above, create an object using the letter and assign it the corresponding missing value.\n",
    "\n",
    "For example: `A = \"yes\"`. The possible options for each column are given in the first row of the table. "
   ]
  },
  {
   "cell_type": "code",
   "execution_count": null,
   "metadata": {
    "deletable": false,
    "nbgrader": {
     "cell_type": "code",
     "checksum": "260a23f836b3dabee6859a44f7c9fea2",
     "grade": false,
     "grade_id": "cell-5351cf56f2b43768",
     "locked": false,
     "schema_version": 3,
     "solution": true,
     "task": false
    }
   },
   "outputs": [],
   "source": [
    "# your code here\n",
    "raise NotImplementedError"
   ]
  },
  {
   "cell_type": "code",
   "execution_count": null,
   "metadata": {
    "deletable": false,
    "editable": false,
    "nbgrader": {
     "cell_type": "code",
     "checksum": "33d60330b860a8ebd8b280595fb68a6c",
     "grade": true,
     "grade_id": "cell-aa1c440804c4da54",
     "locked": true,
     "points": 3,
     "schema_version": 3,
     "solution": false,
     "task": false
    }
   },
   "outputs": [],
   "source": [
    "from hashlib import sha1\n",
    "assert sha1(str(type(A)).encode(\"utf-8\")+b\"ce38213068421613\").hexdigest() == \"d69d6446fa2bf77ad153e40ea04395958ebf44d7\", \"type of A is not str. A should be an str\"\n",
    "assert sha1(str(len(A)).encode(\"utf-8\")+b\"ce38213068421613\").hexdigest() == \"59c083566eaabeaa1d2b239d0ec9a46d2d0c3aae\", \"length of A is not correct\"\n",
    "assert sha1(str(A.lower()).encode(\"utf-8\")+b\"ce38213068421613\").hexdigest() == \"b3add4f90a87ef1d44956204205112e149e4b49f\", \"value of A is not correct\"\n",
    "assert sha1(str(A).encode(\"utf-8\")+b\"ce38213068421613\").hexdigest() == \"b3add4f90a87ef1d44956204205112e149e4b49f\", \"correct string value of A but incorrect case of letters\"\n",
    "\n",
    "assert sha1(str(type(B)).encode(\"utf-8\")+b\"4f6ed8c31d4c49d0\").hexdigest() == \"df4ca02c5490f530f6562974f044cba9a4e1c45b\", \"type of B is not str. B should be an str\"\n",
    "assert sha1(str(len(B)).encode(\"utf-8\")+b\"4f6ed8c31d4c49d0\").hexdigest() == \"177d2d87b7cf8e1254eab402c32c914f43ff8023\", \"length of B is not correct\"\n",
    "assert sha1(str(B.lower()).encode(\"utf-8\")+b\"4f6ed8c31d4c49d0\").hexdigest() == \"661c0f59ff1b2e0442d1ec01f3dfdd6e00555f61\", \"value of B is not correct\"\n",
    "assert sha1(str(B).encode(\"utf-8\")+b\"4f6ed8c31d4c49d0\").hexdigest() == \"661c0f59ff1b2e0442d1ec01f3dfdd6e00555f61\", \"correct string value of B but incorrect case of letters\"\n",
    "\n",
    "assert sha1(str(type(C)).encode(\"utf-8\")+b\"5af709bed9d40b8b\").hexdigest() == \"e26129a0de5f009612aa1a9bf2048d58337d170f\", \"type of C is not str. C should be an str\"\n",
    "assert sha1(str(len(C)).encode(\"utf-8\")+b\"5af709bed9d40b8b\").hexdigest() == \"a82f82219b265926add744c83892a7656f159fca\", \"length of C is not correct\"\n",
    "assert sha1(str(C.lower()).encode(\"utf-8\")+b\"5af709bed9d40b8b\").hexdigest() == \"1f43d9f58a803fa2439af487bf1355158dd048ad\", \"value of C is not correct\"\n",
    "assert sha1(str(C).encode(\"utf-8\")+b\"5af709bed9d40b8b\").hexdigest() == \"1f43d9f58a803fa2439af487bf1355158dd048ad\", \"correct string value of C but incorrect case of letters\"\n",
    "\n",
    "assert sha1(str(type(D)).encode(\"utf-8\")+b\"48c6c8fdee02838f\").hexdigest() == \"433a4e8af50517f7ce50408a237ad86e332c567d\", \"type of D is not str. D should be an str\"\n",
    "assert sha1(str(len(D)).encode(\"utf-8\")+b\"48c6c8fdee02838f\").hexdigest() == \"b8b320f9fbc7ceacfa647fc05a3c13f035542a20\", \"length of D is not correct\"\n",
    "assert sha1(str(D.lower()).encode(\"utf-8\")+b\"48c6c8fdee02838f\").hexdigest() == \"c41d55ea7573ffb7fc97179a19a3cfcd8121fbf8\", \"value of D is not correct\"\n",
    "assert sha1(str(D).encode(\"utf-8\")+b\"48c6c8fdee02838f\").hexdigest() == \"c41d55ea7573ffb7fc97179a19a3cfcd8121fbf8\", \"correct string value of D but incorrect case of letters\"\n",
    "\n",
    "assert sha1(str(type(E)).encode(\"utf-8\")+b\"d960f9fbb163533c\").hexdigest() == \"4b8fe17aa3285c6de36ebbef5f1c4a544a0da462\", \"type of E is not str. E should be an str\"\n",
    "assert sha1(str(len(E)).encode(\"utf-8\")+b\"d960f9fbb163533c\").hexdigest() == \"bdc9655bb33d33b08caa220e843aaba8d90bbbd0\", \"length of E is not correct\"\n",
    "assert sha1(str(E.lower()).encode(\"utf-8\")+b\"d960f9fbb163533c\").hexdigest() == \"83e560cbb384212ec69708f41efac9179206def5\", \"value of E is not correct\"\n",
    "assert sha1(str(E).encode(\"utf-8\")+b\"d960f9fbb163533c\").hexdigest() == \"83e560cbb384212ec69708f41efac9179206def5\", \"correct string value of E but incorrect case of letters\"\n",
    "\n",
    "assert sha1(str(type(F)).encode(\"utf-8\")+b\"75e2d893738e5cf0\").hexdigest() == \"df0616547f11d64d38343040b968afe40b1e689c\", \"type of F is not str. F should be an str\"\n",
    "assert sha1(str(len(F)).encode(\"utf-8\")+b\"75e2d893738e5cf0\").hexdigest() == \"38af8e259908cff490744a1a1b6f4600311ae625\", \"length of F is not correct\"\n",
    "assert sha1(str(F.lower()).encode(\"utf-8\")+b\"75e2d893738e5cf0\").hexdigest() == \"5fb47f2c0a8ba292f0ba841f535b5dbc69e85928\", \"value of F is not correct\"\n",
    "assert sha1(str(F).encode(\"utf-8\")+b\"75e2d893738e5cf0\").hexdigest() == \"5fb47f2c0a8ba292f0ba841f535b5dbc69e85928\", \"correct string value of F but incorrect case of letters\"\n",
    "\n",
    "print('Success!')"
   ]
  },
  {
   "cell_type": "markdown",
   "metadata": {
    "deletable": false,
    "editable": false,
    "nbgrader": {
     "cell_type": "markdown",
     "checksum": "0288add9bbe67e362860878d4262a9f8",
     "grade": false,
     "grade_id": "cell-2bf3dca10743194a",
     "locked": true,
     "schema_version": 3,
     "solution": false,
     "task": false
    }
   },
   "source": [
    "**Question 3.4** \n",
    "<br> {points: 1}\n",
    "\n",
    "Read the file `happiness_report.csv` in the `data` folder using the shortest relative path. **Hint:** preview the data using Jupyter (as discussed above) so you know which `pd.read_*` function and arguments to use.\n",
    "\n",
    "*Assign the relative path (the string) to an object named* `happiness_report_path`, *and assign the output of the correct* `pd.read_*` *function you call to an object named* `happiness_report`. "
   ]
  },
  {
   "cell_type": "code",
   "execution_count": null,
   "metadata": {
    "deletable": false,
    "nbgrader": {
     "cell_type": "code",
     "checksum": "9086a0933d4bbbd5619314983030ea1c",
     "grade": false,
     "grade_id": "cell-2a9511095cc19de1",
     "locked": false,
     "schema_version": 3,
     "solution": true,
     "task": false
    }
   },
   "outputs": [],
   "source": [
    "# happiness_report_path = \"___\"\n",
    "# ___ = ___(happiness_report_path)\n",
    "\n",
    "# your code here\n",
    "raise NotImplementedError\n",
    "happiness_report.head(10)  #  print the top 10 lines"
   ]
  },
  {
   "cell_type": "code",
   "execution_count": null,
   "metadata": {
    "deletable": false,
    "editable": false,
    "nbgrader": {
     "cell_type": "code",
     "checksum": "48655a304e6e77f5994d34990185673a",
     "grade": true,
     "grade_id": "cell-266883cbf4d69fc8",
     "locked": true,
     "points": 3,
     "schema_version": 3,
     "solution": false,
     "task": false
    }
   },
   "outputs": [],
   "source": [
    "from hashlib import sha1\n",
    "assert sha1(str(type(happiness_report_path)).encode(\"utf-8\")+b\"4c570510aa8d9778\").hexdigest() == \"32d5ad8876b493fd951ee526fea23000bbd6b0cc\", \"type of type(happiness_report_path) is not correct\"\n",
    "\n",
    "assert sha1(str(type(happiness_report_path.split(\"/\")[-2:])).encode(\"utf-8\")+b\"b583726d18f1a24b\").hexdigest() == \"f3d6f8219e3306e0935bea3ae09838069df2564f\", \"type of happiness_report_path.split(\\\"/\\\")[-2:] is not list. happiness_report_path.split(\\\"/\\\")[-2:] should be a list\"\n",
    "assert sha1(str(len(happiness_report_path.split(\"/\")[-2:])).encode(\"utf-8\")+b\"b583726d18f1a24b\").hexdigest() == \"ad8e3ad32b8662daff90a14d334a44f34a574d36\", \"length of happiness_report_path.split(\\\"/\\\")[-2:] is not correct\"\n",
    "assert sha1(str(sorted(map(str, happiness_report_path.split(\"/\")[-2:]))).encode(\"utf-8\")+b\"b583726d18f1a24b\").hexdigest() == \"69944865a90c54622b177bb35a0627b5e7508867\", \"values of happiness_report_path.split(\\\"/\\\")[-2:] are not correct\"\n",
    "assert sha1(str(happiness_report_path.split(\"/\")[-2:]).encode(\"utf-8\")+b\"b583726d18f1a24b\").hexdigest() == \"69944865a90c54622b177bb35a0627b5e7508867\", \"order of elements of happiness_report_path.split(\\\"/\\\")[-2:] is not correct\"\n",
    "\n",
    "assert sha1(str(type(happiness_report)).encode(\"utf-8\")+b\"dd110e427fe50cf6\").hexdigest() == \"2a8142c2b90578cd57a0fd2ee61d46ab697f7eb8\", \"type of type(happiness_report) is not correct\"\n",
    "\n",
    "assert sha1(str(type(happiness_report.shape)).encode(\"utf-8\")+b\"75794147a92247f5\").hexdigest() == \"310a09dab6412da8dbbdc41df79694302c98d840\", \"type of happiness_report.shape is not tuple. happiness_report.shape should be a tuple\"\n",
    "assert sha1(str(len(happiness_report.shape)).encode(\"utf-8\")+b\"75794147a92247f5\").hexdigest() == \"59f69b131b5195b718f8704b579dfd4bebb21d7e\", \"length of happiness_report.shape is not correct\"\n",
    "assert sha1(str(sorted(map(str, happiness_report.shape))).encode(\"utf-8\")+b\"75794147a92247f5\").hexdigest() == \"2027bedcc97fbce90b3f722e8833e05a1fe5f71e\", \"values of happiness_report.shape are not correct\"\n",
    "assert sha1(str(happiness_report.shape).encode(\"utf-8\")+b\"75794147a92247f5\").hexdigest() == \"3b3585f720f342c89b131f156d886de1f505bd62\", \"order of elements of happiness_report.shape is not correct\"\n",
    "\n",
    "assert sha1(str(type(happiness_report.columns.values)).encode(\"utf-8\")+b\"5df0240cdf843889\").hexdigest() == \"87b4939fce1d5e33575fd5a8deb77fb12a9f97e0\", \"type of happiness_report.columns.values is not correct\"\n",
    "assert sha1(str(happiness_report.columns.values).encode(\"utf-8\")+b\"5df0240cdf843889\").hexdigest() == \"37063e83a3e661bd9738db7923d10c50d3adb8b8\", \"value of happiness_report.columns.values is not correct\"\n",
    "\n",
    "assert sha1(str(type(sum(happiness_report.freedom))).encode(\"utf-8\")+b\"8530d548040bb535\").hexdigest() == \"06c348d822847fa7bb43e09b1351be43a3661f84\", \"type of sum(happiness_report.freedom) is not float. Please make sure it is float and not np.float64, etc. You can cast your value into a float using float()\"\n",
    "assert sha1(str(round(sum(happiness_report.freedom), 2)).encode(\"utf-8\")+b\"8530d548040bb535\").hexdigest() == \"ae6cbc024f70e7e181607b41d0cd523d51529bc2\", \"value of sum(happiness_report.freedom) is not correct (rounded to 2 decimal places)\"\n",
    "\n",
    "print('Success!')"
   ]
  },
  {
   "cell_type": "markdown",
   "metadata": {
    "deletable": false,
    "editable": false,
    "nbgrader": {
     "cell_type": "markdown",
     "checksum": "6d1530ba25f0656a03841ecde50244da",
     "grade": false,
     "grade_id": "cell-339c379f6f9f7a50",
     "locked": true,
     "schema_version": 3,
     "solution": false,
     "task": false
    }
   },
   "source": [
    "**Question 3.5** Multiple Choice:\n",
    "<br> {points: 1}\n",
    "\n",
    "If Norway is in \"first place\" based on the happiness score, at what position is Canada?\n",
    "\n",
    "A. 3rd\n",
    "\n",
    "B. 15th\n",
    "\n",
    "C. 7th\n",
    "\n",
    "D. 28th\n",
    "\n",
    "*Hint: create a new cell and run `happiness_report`.* \n",
    "\n",
    "*Assign your answer to an object called `answer3_5`. Make sure your answer is an uppercase letter and is surrounded by quotation marks (e.g. `\"F\"`).* "
   ]
  },
  {
   "cell_type": "code",
   "execution_count": null,
   "metadata": {
    "deletable": false,
    "nbgrader": {
     "cell_type": "code",
     "checksum": "4d72289f41cff20137de291d2dad4d1a",
     "grade": false,
     "grade_id": "cell-2024e97da21549c5",
     "locked": false,
     "schema_version": 3,
     "solution": true,
     "task": false
    }
   },
   "outputs": [],
   "source": [
    "# your code here\n",
    "raise NotImplementedError"
   ]
  },
  {
   "cell_type": "code",
   "execution_count": null,
   "metadata": {
    "deletable": false,
    "editable": false,
    "nbgrader": {
     "cell_type": "code",
     "checksum": "4bf38b303b0d4ab241fae521cb71e382",
     "grade": true,
     "grade_id": "cell-d780fec46b04aed8",
     "locked": true,
     "points": 3,
     "schema_version": 3,
     "solution": false,
     "task": false
    }
   },
   "outputs": [],
   "source": [
    "from hashlib import sha1\n",
    "assert sha1(str(type(answer3_5)).encode(\"utf-8\")+b\"859aaa91f15dc32e\").hexdigest() == \"569e1e1767ac91630ef619dee9e13c271530f5a3\", \"type of answer3_5 is not str. answer3_5 should be an str\"\n",
    "assert sha1(str(len(answer3_5)).encode(\"utf-8\")+b\"859aaa91f15dc32e\").hexdigest() == \"e5aca0de12b805d263e5db6020092261e5ad9c71\", \"length of answer3_5 is not correct\"\n",
    "assert sha1(str(answer3_5.lower()).encode(\"utf-8\")+b\"859aaa91f15dc32e\").hexdigest() == \"c18b67615644646d1a25132da8ae681e6bebd0fa\", \"value of answer3_5 is not correct\"\n",
    "assert sha1(str(answer3_5).encode(\"utf-8\")+b\"859aaa91f15dc32e\").hexdigest() == \"95ab4c628d1d91de02af11e2e24cfef864b2182e\", \"correct string value of answer3_5 but incorrect case of letters\"\n",
    "\n",
    "print('Success!')"
   ]
  },
  {
   "cell_type": "markdown",
   "metadata": {
    "deletable": false,
    "editable": false,
    "nbgrader": {
     "cell_type": "markdown",
     "checksum": "455262eb678aec49a02df860777102df",
     "grade": false,
     "grade_id": "cell-260c9f66f7b3dad7",
     "locked": true,
     "schema_version": 3,
     "solution": false,
     "task": false
    }
   },
   "source": [
    "**Question 3.6.1**\n",
    "<br> {points: 1}\n",
    "\n",
    "For each question in the ranges 3.6.1 to 3.6.5 and 3.7.1 to 3.7.2, fill in the blank (`___`) in the code given and remove the `raise NotImplementedError` for the questions where you provide an answer. Refer to your table above and don't be afraid to ask for help. Remember you can use `?` help operator to access documentation for a function (e.g. `?pd.read_csv`).\n",
    "\n",
    "Read in the file `happiness_report_semicolon.csv` using `pd.read_csv` and name it `happy_semi_df`"
   ]
  },
  {
   "cell_type": "code",
   "execution_count": null,
   "metadata": {
    "deletable": false,
    "nbgrader": {
     "cell_type": "code",
     "checksum": "3b7938c5c2226909f1059215fe170292",
     "grade": false,
     "grade_id": "cell-0d6b7f409728cc19",
     "locked": false,
     "schema_version": 3,
     "solution": true,
     "task": false
    }
   },
   "outputs": [],
   "source": [
    "# ___ = pd.read_csv(\"data/___\", sep = \"___\")\n",
    "\n",
    "# your code here\n",
    "raise NotImplementedError\n",
    "happy_semi_df"
   ]
  },
  {
   "cell_type": "code",
   "execution_count": null,
   "metadata": {
    "deletable": false,
    "editable": false,
    "nbgrader": {
     "cell_type": "code",
     "checksum": "3fdd7df32d9a3fc50c0b0ef5c21a83eb",
     "grade": true,
     "grade_id": "cell-6f0e14455ddb386f",
     "locked": true,
     "points": 3,
     "schema_version": 3,
     "solution": false,
     "task": false
    }
   },
   "outputs": [],
   "source": [
    "from hashlib import sha1\n",
    "assert sha1(str(type(happy_semi_df)).encode(\"utf-8\")+b\"812ef67cb580eb9a\").hexdigest() == \"b85c82c398b8baf52386aadae655ac500551adb2\", \"type of type(happy_semi_df) is not correct\"\n",
    "\n",
    "assert sha1(str(type(happy_semi_df.shape)).encode(\"utf-8\")+b\"4562534eec38729b\").hexdigest() == \"9321ef6c35a3b0e0bec249f9df993f2953205159\", \"type of happy_semi_df.shape is not tuple. happy_semi_df.shape should be a tuple\"\n",
    "assert sha1(str(len(happy_semi_df.shape)).encode(\"utf-8\")+b\"4562534eec38729b\").hexdigest() == \"8c5d9975e5f1fb17b6e352f9b93da92c634ba3c7\", \"length of happy_semi_df.shape is not correct\"\n",
    "assert sha1(str(sorted(map(str, happy_semi_df.shape))).encode(\"utf-8\")+b\"4562534eec38729b\").hexdigest() == \"e943719f7f7f97433d05843f6fdd9fb24247792c\", \"values of happy_semi_df.shape are not correct\"\n",
    "assert sha1(str(happy_semi_df.shape).encode(\"utf-8\")+b\"4562534eec38729b\").hexdigest() == \"d3ab276fdb9b6b2819419f2a667c3ace96a2099b\", \"order of elements of happy_semi_df.shape is not correct\"\n",
    "\n",
    "assert sha1(str(type(happy_semi_df.columns.values)).encode(\"utf-8\")+b\"8adc57513b677084\").hexdigest() == \"783d3657b264f0a1a3bcfcd5bcb6b23e2bea607e\", \"type of happy_semi_df.columns.values is not correct\"\n",
    "assert sha1(str(happy_semi_df.columns.values).encode(\"utf-8\")+b\"8adc57513b677084\").hexdigest() == \"e3df6734157d25e415022477b27d37a9432e8543\", \"value of happy_semi_df.columns.values is not correct\"\n",
    "\n",
    "assert sha1(str(type(sum(np.array([st.replace(\",\", \".\") for st in happy_semi_df.freedom.astype(str)]).astype(float)))).encode(\"utf-8\")+b\"b066293203b59e6b\").hexdigest() == \"c99ab25f06be0069eddd334c95caf7a94c286281\", \"type of sum(np.array([st.replace(\\\",\\\", \\\".\\\") for st in happy_semi_df.freedom.astype(str)]).astype(float)) is not correct\"\n",
    "assert sha1(str(sum(np.array([st.replace(\",\", \".\") for st in happy_semi_df.freedom.astype(str)]).astype(float))).encode(\"utf-8\")+b\"b066293203b59e6b\").hexdigest() == \"88801b48a46ea6408200d77479503b42bd9aaeca\", \"value of sum(np.array([st.replace(\\\",\\\", \\\".\\\") for st in happy_semi_df.freedom.astype(str)]).astype(float)) is not correct\"\n",
    "\n",
    "print('Success!')"
   ]
  },
  {
   "cell_type": "markdown",
   "metadata": {
    "deletable": false,
    "editable": false,
    "nbgrader": {
     "cell_type": "markdown",
     "checksum": "d7d71edef2b0f9eb3efadc94b442a0fe",
     "grade": false,
     "grade_id": "cell-331cf74e531fdba9",
     "locked": true,
     "schema_version": 3,
     "solution": false,
     "task": false
    }
   },
   "source": [
    "**Question 3.6.2**\n",
    "<br> {points: 1}\n",
    "\n",
    "Read in the file `happiness_report_semicolon.csv` again, but this time use a different `read_*` function than `pd.read_csv`.  **Hint:** take a look at the list of `read_*` functions at the top of this worksheet under the learning goals section. Name the data frame `happy_semi_df2`."
   ]
  },
  {
   "cell_type": "code",
   "execution_count": null,
   "metadata": {
    "deletable": false,
    "nbgrader": {
     "cell_type": "code",
     "checksum": "cca5702317fc14958df4de7a52c7104c",
     "grade": false,
     "grade_id": "cell-9edc42f2fcc7c84b",
     "locked": false,
     "schema_version": 3,
     "solution": true,
     "task": false
    }
   },
   "outputs": [],
   "source": [
    "# ___ = ___(\"___\", sep=\"___\")\n",
    "\n",
    "# your code here\n",
    "raise NotImplementedError\n",
    "happy_semi_df2"
   ]
  },
  {
   "cell_type": "code",
   "execution_count": null,
   "metadata": {
    "deletable": false,
    "editable": false,
    "nbgrader": {
     "cell_type": "code",
     "checksum": "9dfdcffdea0f213894a2286dd1cd0b3a",
     "grade": true,
     "grade_id": "cell-c707e8088f55e65a",
     "locked": true,
     "points": 3,
     "schema_version": 3,
     "solution": false,
     "task": false
    }
   },
   "outputs": [],
   "source": [
    "from hashlib import sha1\n",
    "assert sha1(str(type(happy_semi_df2)).encode(\"utf-8\")+b\"a4a984210cdba7e3\").hexdigest() == \"339fe0d4ab37b3a0cedd4f1c16fa203f0245c5bc\", \"type of type(happy_semi_df2) is not correct\"\n",
    "\n",
    "assert sha1(str(type(happy_semi_df2.shape)).encode(\"utf-8\")+b\"055bf1f43d0a3098\").hexdigest() == \"12a308c0971d96361d53f2924590814a21b64a52\", \"type of happy_semi_df2.shape is not tuple. happy_semi_df2.shape should be a tuple\"\n",
    "assert sha1(str(len(happy_semi_df2.shape)).encode(\"utf-8\")+b\"055bf1f43d0a3098\").hexdigest() == \"ec5cfbdec678e086744e8bcb9ac93a051205f714\", \"length of happy_semi_df2.shape is not correct\"\n",
    "assert sha1(str(sorted(map(str, happy_semi_df2.shape))).encode(\"utf-8\")+b\"055bf1f43d0a3098\").hexdigest() == \"3d21534d8296afc2f2a6d4a80a85528f10b4bf22\", \"values of happy_semi_df2.shape are not correct\"\n",
    "assert sha1(str(happy_semi_df2.shape).encode(\"utf-8\")+b\"055bf1f43d0a3098\").hexdigest() == \"7bab163b63944f4d43a71814a6434956f029ced9\", \"order of elements of happy_semi_df2.shape is not correct\"\n",
    "\n",
    "assert sha1(str(type(happy_semi_df2.columns.values)).encode(\"utf-8\")+b\"b170c5dd7de64f52\").hexdigest() == \"7d56c52eb6a02c45d26b8a69e6e8ce0433b0ab47\", \"type of happy_semi_df2.columns.values is not correct\"\n",
    "assert sha1(str(happy_semi_df2.columns.values).encode(\"utf-8\")+b\"b170c5dd7de64f52\").hexdigest() == \"df769c3bb3d7d1d484049c061083921e75c31506\", \"value of happy_semi_df2.columns.values is not correct\"\n",
    "\n",
    "assert sha1(str(type(sum(np.array([st.replace(\",\", \".\") for st in happy_semi_df2.happiness_score.astype(str)]).astype(float)))).encode(\"utf-8\")+b\"55a5874677dbdbad\").hexdigest() == \"6b2f1aec6f3c81061835278726ac755f6c58c003\", \"type of sum(np.array([st.replace(\\\",\\\", \\\".\\\") for st in happy_semi_df2.happiness_score.astype(str)]).astype(float)) is not correct\"\n",
    "assert sha1(str(sum(np.array([st.replace(\",\", \".\") for st in happy_semi_df2.happiness_score.astype(str)]).astype(float))).encode(\"utf-8\")+b\"55a5874677dbdbad\").hexdigest() == \"44cbc8efa5b0214030aa7cb7a6b668e2691bdb6c\", \"value of sum(np.array([st.replace(\\\",\\\", \\\".\\\") for st in happy_semi_df2.happiness_score.astype(str)]).astype(float)) is not correct\"\n",
    "\n",
    "print('Success!')"
   ]
  },
  {
   "cell_type": "markdown",
   "metadata": {
    "deletable": false,
    "editable": false,
    "nbgrader": {
     "cell_type": "markdown",
     "checksum": "c35f2157a129cb52bca22c0a3b0e7597",
     "grade": false,
     "grade_id": "cell-daeb8b069b857cab",
     "locked": true,
     "schema_version": 3,
     "solution": false,
     "task": false
    }
   },
   "source": [
    "**Question 3.6.3**\n",
    "<br> {points: 1}\n",
    "\n",
    "Read in the file `happiness_report.tsv` using the appropriate `read_*` function and name it `happy_tsv`."
   ]
  },
  {
   "cell_type": "code",
   "execution_count": null,
   "metadata": {
    "deletable": false,
    "nbgrader": {
     "cell_type": "code",
     "checksum": "622756da4ce98f9fe8a4aeaf9681c82e",
     "grade": false,
     "grade_id": "cell-95b5bac9fb43253f",
     "locked": false,
     "schema_version": 3,
     "solution": true,
     "task": false
    }
   },
   "outputs": [],
   "source": [
    "# ___ = ___(\"___\")\n",
    "\n",
    "# your code here\n",
    "raise NotImplementedError\n",
    "happy_tsv"
   ]
  },
  {
   "cell_type": "code",
   "execution_count": null,
   "metadata": {
    "deletable": false,
    "editable": false,
    "nbgrader": {
     "cell_type": "code",
     "checksum": "858820841ed02d59060bbceca94dc49a",
     "grade": true,
     "grade_id": "cell-bdb550f60c65cdb1",
     "locked": true,
     "points": 3,
     "schema_version": 3,
     "solution": false,
     "task": false
    }
   },
   "outputs": [],
   "source": [
    "from hashlib import sha1\n",
    "assert sha1(str(type(happy_tsv)).encode(\"utf-8\")+b\"ee2d7d3dd9faed28\").hexdigest() == \"846012f6a005d98710f1a3817e4591280f15ce56\", \"type of type(happy_tsv) is not correct\"\n",
    "\n",
    "assert sha1(str(type(happy_tsv.shape)).encode(\"utf-8\")+b\"c75df412054ed02a\").hexdigest() == \"aa76ff1d8a09581a7bd466f585a9faff457ed320\", \"type of happy_tsv.shape is not tuple. happy_tsv.shape should be a tuple\"\n",
    "assert sha1(str(len(happy_tsv.shape)).encode(\"utf-8\")+b\"c75df412054ed02a\").hexdigest() == \"ad5f474c5ec9c2d6b579c6f6733e201f3f29c724\", \"length of happy_tsv.shape is not correct\"\n",
    "assert sha1(str(sorted(map(str, happy_tsv.shape))).encode(\"utf-8\")+b\"c75df412054ed02a\").hexdigest() == \"222627f8997af326f60f12f14f5274871cbec066\", \"values of happy_tsv.shape are not correct\"\n",
    "assert sha1(str(happy_tsv.shape).encode(\"utf-8\")+b\"c75df412054ed02a\").hexdigest() == \"26915426e855659430b51dbeee441d80583be05e\", \"order of elements of happy_tsv.shape is not correct\"\n",
    "\n",
    "assert sha1(str(type(happy_tsv.columns.values)).encode(\"utf-8\")+b\"dcdb51898b20ed9b\").hexdigest() == \"99e77a39339efda9df573ba64b42e0d2d9ca637b\", \"type of happy_tsv.columns.values is not correct\"\n",
    "assert sha1(str(happy_tsv.columns.values).encode(\"utf-8\")+b\"dcdb51898b20ed9b\").hexdigest() == \"ffa228263d3507939ef00529ca66d2d720410bb7\", \"value of happy_tsv.columns.values is not correct\"\n",
    "\n",
    "assert sha1(str(type(sum(happy_tsv.freedom))).encode(\"utf-8\")+b\"89deda579824751d\").hexdigest() == \"41e03b0a8764c9c62ddc6cfb2073b7495122b9d4\", \"type of sum(happy_tsv.freedom) is not float. Please make sure it is float and not np.float64, etc. You can cast your value into a float using float()\"\n",
    "assert sha1(str(round(sum(happy_tsv.freedom), 2)).encode(\"utf-8\")+b\"89deda579824751d\").hexdigest() == \"6f37bf87d0132d814874a4f0b49378cbd794d98a\", \"value of sum(happy_tsv.freedom) is not correct (rounded to 2 decimal places)\"\n",
    "\n",
    "print('Success!')"
   ]
  },
  {
   "cell_type": "markdown",
   "metadata": {
    "deletable": false,
    "editable": false,
    "nbgrader": {
     "cell_type": "markdown",
     "checksum": "f2143da31921caed4340c3822adfcace",
     "grade": false,
     "grade_id": "cell-6dfce98f770d4afe",
     "locked": true,
     "schema_version": 3,
     "solution": false,
     "task": false
    }
   },
   "source": [
    "**Question 3.6.4**\n",
    "<br> {points: 1}\n",
    "\n",
    "Read in the file `happiness_report_metadata.csv` using the appropriate `read_*` function and name it `happy_metadata`."
   ]
  },
  {
   "cell_type": "code",
   "execution_count": null,
   "metadata": {
    "deletable": false,
    "nbgrader": {
     "cell_type": "code",
     "checksum": "649702e81690c7b8e2f0ed53b239cdd1",
     "grade": false,
     "grade_id": "cell-df90d3d0614c6e49",
     "locked": false,
     "schema_version": 3,
     "solution": true,
     "task": false
    }
   },
   "outputs": [],
   "source": [
    "# ___ = ___(\n",
    "#     \"data/happiness_report_metadata.csv\", skiprows=___\n",
    "# )\n",
    "\n",
    "# your code here\n",
    "raise NotImplementedError\n",
    "happy_metadata"
   ]
  },
  {
   "cell_type": "code",
   "execution_count": null,
   "metadata": {
    "deletable": false,
    "editable": false,
    "nbgrader": {
     "cell_type": "code",
     "checksum": "86999a27a648a7d05d74c838cb6b14b5",
     "grade": true,
     "grade_id": "cell-ed89fc8570b1ff03",
     "locked": true,
     "points": 3,
     "schema_version": 3,
     "solution": false,
     "task": false
    }
   },
   "outputs": [],
   "source": [
    "from hashlib import sha1\n",
    "assert sha1(str(type(happy_metadata)).encode(\"utf-8\")+b\"d588ef09411efa84\").hexdigest() == \"da75c798cf6573363cb750d92965f4c2efc63d81\", \"type of type(happy_metadata) is not correct\"\n",
    "\n",
    "assert sha1(str(type(happy_metadata.shape)).encode(\"utf-8\")+b\"571f6ee9ba74d3dc\").hexdigest() == \"32103cd50ff9063cb4eddbfb66986ddb92a91125\", \"type of happy_metadata.shape is not tuple. happy_metadata.shape should be a tuple\"\n",
    "assert sha1(str(len(happy_metadata.shape)).encode(\"utf-8\")+b\"571f6ee9ba74d3dc\").hexdigest() == \"da4434e36f9aa45569e555de03d5b2b9fc59f472\", \"length of happy_metadata.shape is not correct\"\n",
    "assert sha1(str(sorted(map(str, happy_metadata.shape))).encode(\"utf-8\")+b\"571f6ee9ba74d3dc\").hexdigest() == \"45c22f864bddef5cfed9fe6086f3f223eb0f6fb6\", \"values of happy_metadata.shape are not correct\"\n",
    "assert sha1(str(happy_metadata.shape).encode(\"utf-8\")+b\"571f6ee9ba74d3dc\").hexdigest() == \"fc337ab435a7a70264534432fc1d1217c36b1eb6\", \"order of elements of happy_metadata.shape is not correct\"\n",
    "\n",
    "assert sha1(str(type(happy_metadata.columns.values)).encode(\"utf-8\")+b\"71122dd74cfc75c5\").hexdigest() == \"c8f6e8ff2a755654b8661b1ead6d60a94a070cac\", \"type of happy_metadata.columns.values is not correct\"\n",
    "assert sha1(str(happy_metadata.columns.values).encode(\"utf-8\")+b\"71122dd74cfc75c5\").hexdigest() == \"857d8f82a250bcde48422c9521ced572de4afc98\", \"value of happy_metadata.columns.values is not correct\"\n",
    "\n",
    "assert sha1(str(type(sum(happy_metadata.freedom))).encode(\"utf-8\")+b\"b884327c56eec6a2\").hexdigest() == \"3aff6b7f679e465863db82854caf9b15dcb3ceb1\", \"type of sum(happy_metadata.freedom) is not float. Please make sure it is float and not np.float64, etc. You can cast your value into a float using float()\"\n",
    "assert sha1(str(round(sum(happy_metadata.freedom), 2)).encode(\"utf-8\")+b\"b884327c56eec6a2\").hexdigest() == \"ee1da6b2cfd89c4dc515f0eca637798ebb9658b2\", \"value of sum(happy_metadata.freedom) is not correct (rounded to 2 decimal places)\"\n",
    "\n",
    "print('Success!')"
   ]
  },
  {
   "cell_type": "markdown",
   "metadata": {
    "deletable": false,
    "editable": false,
    "nbgrader": {
     "cell_type": "markdown",
     "checksum": "9188755b2537cedb93cba84ffce0f222",
     "grade": false,
     "grade_id": "cell-d5c62572e23a1854",
     "locked": true,
     "schema_version": 3,
     "solution": false,
     "task": false
    }
   },
   "source": [
    "**Question 3.6.5**\n",
    "<br> {points: 1}\n",
    "\n",
    "Read in the file `happiness_report_no_header.csv` using the appropriate `read_*` function and name it `happy_header`. \n",
    "Note: If the argument `names` is a list, the values will be used as the names of the columns."
   ]
  },
  {
   "cell_type": "code",
   "execution_count": null,
   "metadata": {
    "deletable": false,
    "nbgrader": {
     "cell_type": "code",
     "checksum": "f6c4774dd295ae446d0b31bb7cfcd4a1",
     "grade": false,
     "grade_id": "cell-f3e8559ecb065da0",
     "locked": false,
     "schema_version": 3,
     "solution": true,
     "task": false
    }
   },
   "outputs": [],
   "source": [
    "# ___ = ___(\n",
    "#     \"___\",\n",
    "#     names=[\n",
    "#         \"country\",\n",
    "#         \"happiness_score\",\n",
    "#         \"GDP_per_capita\",\n",
    "#         \"life_expectancy\",\n",
    "#         \"freedom\",\n",
    "#     ],\n",
    "# )\n",
    "\n",
    "# your code here\n",
    "raise NotImplementedError\n",
    "happy_header"
   ]
  },
  {
   "cell_type": "code",
   "execution_count": null,
   "metadata": {
    "deletable": false,
    "editable": false,
    "nbgrader": {
     "cell_type": "code",
     "checksum": "5e57dcef54c4887459b6076dbdfab159",
     "grade": true,
     "grade_id": "cell-f56c16878a516d14",
     "locked": true,
     "points": 3,
     "schema_version": 3,
     "solution": false,
     "task": false
    }
   },
   "outputs": [],
   "source": [
    "from hashlib import sha1\n",
    "assert sha1(str(type(happy_header)).encode(\"utf-8\")+b\"d3435e43afdcf253\").hexdigest() == \"fe8dc3b260a4c9d6da85a68f019cc7c8e8a35aaa\", \"type of type(happy_header) is not correct\"\n",
    "\n",
    "assert sha1(str(type(happy_header.shape)).encode(\"utf-8\")+b\"6240bf06fb79753c\").hexdigest() == \"deaa022f2a85c5f325ff6f626686c54c68a6db55\", \"type of happy_header.shape is not tuple. happy_header.shape should be a tuple\"\n",
    "assert sha1(str(len(happy_header.shape)).encode(\"utf-8\")+b\"6240bf06fb79753c\").hexdigest() == \"4ffe753bdae59d9f64640ac828378b466339e354\", \"length of happy_header.shape is not correct\"\n",
    "assert sha1(str(sorted(map(str, happy_header.shape))).encode(\"utf-8\")+b\"6240bf06fb79753c\").hexdigest() == \"0182497d51c73760ce8d8a9a88c9853128ace406\", \"values of happy_header.shape are not correct\"\n",
    "assert sha1(str(happy_header.shape).encode(\"utf-8\")+b\"6240bf06fb79753c\").hexdigest() == \"5e80b6a9c7197506cf6d713107c9bc796a634418\", \"order of elements of happy_header.shape is not correct\"\n",
    "\n",
    "assert sha1(str(type(happy_header.columns.values)).encode(\"utf-8\")+b\"a867d83ec692dd1b\").hexdigest() == \"f9cc62a53cefdcb36e6f4a9b05785734f8eb3547\", \"type of happy_header.columns.values is not correct\"\n",
    "assert sha1(str(happy_header.columns.values).encode(\"utf-8\")+b\"a867d83ec692dd1b\").hexdigest() == \"c936253f945d28c0bec629f14a5807b2616173d6\", \"value of happy_header.columns.values is not correct\"\n",
    "\n",
    "assert sha1(str(type(sum(happy_header.freedom))).encode(\"utf-8\")+b\"868cb80058219ef5\").hexdigest() == \"b832c4f2ec2f701d5e8a570ad9422b00fa5afc23\", \"type of sum(happy_header.freedom) is not float. Please make sure it is float and not np.float64, etc. You can cast your value into a float using float()\"\n",
    "assert sha1(str(round(sum(happy_header.freedom), 2)).encode(\"utf-8\")+b\"868cb80058219ef5\").hexdigest() == \"a1e819e66fc02095d0967cbae0e33fdb5e171852\", \"value of sum(happy_header.freedom) is not correct (rounded to 2 decimal places)\"\n",
    "\n",
    "print('Success!')"
   ]
  },
  {
   "cell_type": "markdown",
   "metadata": {
    "deletable": false,
    "editable": false,
    "nbgrader": {
     "cell_type": "markdown",
     "checksum": "945f5437f99d8fd8eed6fd245e00d8f8",
     "grade": false,
     "grade_id": "cell-4050684fb738520a",
     "locked": true,
     "schema_version": 3,
     "solution": false,
     "task": false
    }
   },
   "source": [
    "**Question 3.7**\n",
    "<br> {points: 1}\n",
    "\n",
    "Earlier when you tried to open `happiness_report.xlsx` in Jupyter, you received an error message `(File Load Error ... is not UTF-8 encoded)`. This happens because Excel spreadsheet files are not stored in plain text, and so Jupyter can't open them with its default text viewing program. This makes them a bit harder to inspect before trying to open in `Python`.\n",
    "\n",
    "To inspect the data, we will just try to load `happiness_report.xlsx` using the most basic form of the appropriate `read_*` function, passing only the filename as an argument. Assign the output to a variable called `happy_xlsx`.\n",
    "\n",
    "*Note: you can also try to examine `.xlsx` files with Microsoft Excel or Google Sheets before loading into Python.*"
   ]
  },
  {
   "cell_type": "code",
   "execution_count": null,
   "metadata": {
    "deletable": false,
    "nbgrader": {
     "cell_type": "code",
     "checksum": "72bd86dde14e18f7f1d94dc752b9a20c",
     "grade": false,
     "grade_id": "cell-9c2d94b7e4040d98",
     "locked": false,
     "schema_version": 3,
     "solution": true,
     "task": false
    }
   },
   "outputs": [],
   "source": [
    "# ___ = ___(\"___\")\n",
    "\n",
    "# your code here\n",
    "raise NotImplementedError\n",
    "happy_xlsx"
   ]
  },
  {
   "cell_type": "code",
   "execution_count": null,
   "metadata": {
    "deletable": false,
    "editable": false,
    "nbgrader": {
     "cell_type": "code",
     "checksum": "ad424d5125b752fcae84a46073b3f346",
     "grade": true,
     "grade_id": "cell-79c203e0b46e0a51",
     "locked": true,
     "points": 3,
     "schema_version": 3,
     "solution": false,
     "task": false
    }
   },
   "outputs": [],
   "source": [
    "from hashlib import sha1\n",
    "assert sha1(str(type(happy_xlsx)).encode(\"utf-8\")+b\"70dab5fabed75d80\").hexdigest() == \"62b475bf58685e1c933ecfa9d13830f8fae684d5\", \"type of type(happy_xlsx) is not correct\"\n",
    "\n",
    "assert sha1(str(type(happy_xlsx.shape)).encode(\"utf-8\")+b\"003035c8c625ec66\").hexdigest() == \"31ad36b0ee5fffc2d36e72c7ad10e26b6ba8f011\", \"type of happy_xlsx.shape is not tuple. happy_xlsx.shape should be a tuple\"\n",
    "assert sha1(str(len(happy_xlsx.shape)).encode(\"utf-8\")+b\"003035c8c625ec66\").hexdigest() == \"eba22b362b15351196b3217fd8235c53b73ae1a1\", \"length of happy_xlsx.shape is not correct\"\n",
    "assert sha1(str(sorted(map(str, happy_xlsx.shape))).encode(\"utf-8\")+b\"003035c8c625ec66\").hexdigest() == \"07eac683a245656e168d31b41bf2b2da8ea9831f\", \"values of happy_xlsx.shape are not correct\"\n",
    "assert sha1(str(happy_xlsx.shape).encode(\"utf-8\")+b\"003035c8c625ec66\").hexdigest() == \"13faf3425a4d7ad1ff5c563a12916e4ac3932c55\", \"order of elements of happy_xlsx.shape is not correct\"\n",
    "\n",
    "assert sha1(str(type(happy_xlsx.columns.values)).encode(\"utf-8\")+b\"83082bf1092c4131\").hexdigest() == \"42aa9180ec8a19ee9d2d80835044e1298559a653\", \"type of happy_xlsx.columns.values is not correct\"\n",
    "assert sha1(str(happy_xlsx.columns.values).encode(\"utf-8\")+b\"83082bf1092c4131\").hexdigest() == \"b932264c4a06c00ab1f9638a733fbab9cc8917d6\", \"value of happy_xlsx.columns.values is not correct\"\n",
    "\n",
    "assert sha1(str(type(sum(happy_xlsx.freedom))).encode(\"utf-8\")+b\"8645af943e83c1a6\").hexdigest() == \"a766886d4be29c32597b0276dafb751837c8f38e\", \"type of sum(happy_xlsx.freedom) is not float. Please make sure it is float and not np.float64, etc. You can cast your value into a float using float()\"\n",
    "assert sha1(str(round(sum(happy_xlsx.freedom), 2)).encode(\"utf-8\")+b\"8645af943e83c1a6\").hexdigest() == \"6f993532ddb32ddab0f02cfc71a14b25c832a0f4\", \"value of sum(happy_xlsx.freedom) is not correct (rounded to 2 decimal places)\"\n",
    "\n",
    "print('Success!')"
   ]
  },
  {
   "cell_type": "markdown",
   "metadata": {
    "deletable": false,
    "editable": false,
    "nbgrader": {
     "cell_type": "markdown",
     "checksum": "c299fcba078e6e4f161308aa39a637b6",
     "grade": false,
     "grade_id": "cell-c3d1de78c3cb2d90",
     "locked": true,
     "schema_version": 3,
     "solution": false,
     "task": false
    }
   },
   "source": [
    "**Question 3.8** \n",
    "<br> {points: 1}\n",
    "\n",
    "Opening the data on a text editor showed some clear differences. Do all the data sets look the same once reading them on your Python notebook (`\"yes\"` or `\"no\"`)? \n",
    " \n",
    "*Assign your answer to an object called `answer3_8`. Make sure your answer is in lowercase and is surrounded by quotation marks (e.g. `\"yes\"` or `\"no\"`).* "
   ]
  },
  {
   "cell_type": "code",
   "execution_count": null,
   "metadata": {
    "deletable": false,
    "nbgrader": {
     "cell_type": "code",
     "checksum": "22181ecc1415c11f70f9bf1c6eda205e",
     "grade": false,
     "grade_id": "cell-fa296337c8c6c4ff",
     "locked": false,
     "schema_version": 3,
     "solution": true,
     "task": false
    }
   },
   "outputs": [],
   "source": [
    "# your code here\n",
    "raise NotImplementedError"
   ]
  },
  {
   "cell_type": "code",
   "execution_count": null,
   "metadata": {
    "deletable": false,
    "editable": false,
    "nbgrader": {
     "cell_type": "code",
     "checksum": "9f717ed1d4c30761046efa0f79569c21",
     "grade": true,
     "grade_id": "cell-0b8300d53191a02e",
     "locked": true,
     "points": 0,
     "schema_version": 3,
     "solution": false,
     "task": false
    }
   },
   "outputs": [],
   "source": [
    "from hashlib import sha1\n",
    "assert sha1(str(type(answer3_8)).encode(\"utf-8\")+b\"456f34a839e9a4c4\").hexdigest() == \"b577f956efffa751cf9ffa543f5af316d5c5d5c6\", \"type of answer3_8 is not str. answer3_8 should be an str\"\n",
    "assert sha1(str(len(answer3_8)).encode(\"utf-8\")+b\"456f34a839e9a4c4\").hexdigest() == \"1e67e0771503784bd465071f00d781350c46ce2b\", \"length of answer3_8 is not correct\"\n",
    "assert sha1(str(answer3_8.lower()).encode(\"utf-8\")+b\"456f34a839e9a4c4\").hexdigest() == \"97563a08244046da75ff56772eeb5f80c3ee624d\", \"value of answer3_8 is not correct\"\n",
    "assert sha1(str(answer3_8).encode(\"utf-8\")+b\"456f34a839e9a4c4\").hexdigest() == \"97563a08244046da75ff56772eeb5f80c3ee624d\", \"correct string value of answer3_8 but incorrect case of letters\"\n",
    "\n",
    "print('Success!')"
   ]
  },
  {
   "cell_type": "markdown",
   "metadata": {
    "deletable": false,
    "editable": false,
    "nbgrader": {
     "cell_type": "markdown",
     "checksum": "e703fb4c8ef043bb03d5beef063a25d8",
     "grade": false,
     "grade_id": "cell-884c1bd38cf56aaf",
     "locked": true,
     "schema_version": 3,
     "solution": false,
     "task": false
    }
   },
   "source": [
    "**Question 3.9** \n",
    "<br> {points: 1}\n",
    "\n",
    "Using the `happy_header` data set that you read earlier, plot `life_expectancy` vs. `GDP_per_capita`. Note that the statement \"plot A vs. B\" usually means to plot A on the y-axis, and B on the x-axis. Be sure to give your axes human-readable titles.\n",
    "\n",
    "*Assign your answer to an object called `header_plot`.* "
   ]
  },
  {
   "cell_type": "code",
   "execution_count": null,
   "metadata": {
    "deletable": false,
    "nbgrader": {
     "cell_type": "code",
     "checksum": "bc6c138407c7017b81a7fce2f571384a",
     "grade": false,
     "grade_id": "cell-1789a92984f2c9fb",
     "locked": false,
     "schema_version": 3,
     "solution": true,
     "task": false
    }
   },
   "outputs": [],
   "source": [
    "# your code here\n",
    "raise NotImplementedError\n",
    "header_plot"
   ]
  },
  {
   "cell_type": "code",
   "execution_count": null,
   "metadata": {
    "deletable": false,
    "editable": false,
    "nbgrader": {
     "cell_type": "code",
     "checksum": "c4ac4559e9323e8511999a7209f86b33",
     "grade": true,
     "grade_id": "cell-56ebd948b3afe4ab",
     "locked": true,
     "points": 1,
     "schema_version": 3,
     "solution": false,
     "task": false
    }
   },
   "outputs": [],
   "source": [
    "from hashlib import sha1\n",
    "assert sha1(str(type(header_plot.encoding.x['shorthand'])).encode(\"utf-8\")+b\"5bb3b29b6a9d5639\").hexdigest() == \"bdc847525ed58b65ff511d36551fb5e5bda6b709\", \"type of header_plot.encoding.x['shorthand'] is not str. header_plot.encoding.x['shorthand'] should be an str\"\n",
    "assert sha1(str(len(header_plot.encoding.x['shorthand'])).encode(\"utf-8\")+b\"5bb3b29b6a9d5639\").hexdigest() == \"3d9aba8865ca23e85f6614948a7f05a52b97728d\", \"length of header_plot.encoding.x['shorthand'] is not correct\"\n",
    "assert sha1(str(header_plot.encoding.x['shorthand'].lower()).encode(\"utf-8\")+b\"5bb3b29b6a9d5639\").hexdigest() == \"337c0e18475da4e07acd3e98495bc8ac98694ee3\", \"value of header_plot.encoding.x['shorthand'] is not correct\"\n",
    "assert sha1(str(header_plot.encoding.x['shorthand']).encode(\"utf-8\")+b\"5bb3b29b6a9d5639\").hexdigest() == \"3cfd3a074c312c4df576988c798a91ebadb54f20\", \"correct string value of header_plot.encoding.x['shorthand'] but incorrect case of letters\"\n",
    "\n",
    "assert sha1(str(type(header_plot.encoding.y['shorthand'])).encode(\"utf-8\")+b\"9a939c1e203b0155\").hexdigest() == \"23bbdb8fa989024a6fd2ba4bb76dcb09ad41b8a9\", \"type of header_plot.encoding.y['shorthand'] is not str. header_plot.encoding.y['shorthand'] should be an str\"\n",
    "assert sha1(str(len(header_plot.encoding.y['shorthand'])).encode(\"utf-8\")+b\"9a939c1e203b0155\").hexdigest() == \"4fd3061f4a150149265a8dec32faaa1f1f807d0b\", \"length of header_plot.encoding.y['shorthand'] is not correct\"\n",
    "assert sha1(str(header_plot.encoding.y['shorthand'].lower()).encode(\"utf-8\")+b\"9a939c1e203b0155\").hexdigest() == \"651f381292b668cb3372ef06cbec99919ce3b8d2\", \"value of header_plot.encoding.y['shorthand'] is not correct\"\n",
    "assert sha1(str(header_plot.encoding.y['shorthand']).encode(\"utf-8\")+b\"9a939c1e203b0155\").hexdigest() == \"651f381292b668cb3372ef06cbec99919ce3b8d2\", \"correct string value of header_plot.encoding.y['shorthand'] but incorrect case of letters\"\n",
    "\n",
    "assert sha1(str(type(header_plot.mark)).encode(\"utf-8\")+b\"2eda51d1b7de5e2b\").hexdigest() == \"b1354e9b84897e7b88034ae8f80c1305504ba596\", \"type of header_plot.mark is not str. header_plot.mark should be an str\"\n",
    "assert sha1(str(len(header_plot.mark)).encode(\"utf-8\")+b\"2eda51d1b7de5e2b\").hexdigest() == \"570e512c8dc0ae7c4ba5b7cc59f4c7a20cbd646b\", \"length of header_plot.mark is not correct\"\n",
    "assert sha1(str(header_plot.mark.lower()).encode(\"utf-8\")+b\"2eda51d1b7de5e2b\").hexdigest() == \"ecbf406122d3dd1d17215da3bb81584d35d8303c\", \"value of header_plot.mark is not correct\"\n",
    "assert sha1(str(header_plot.mark).encode(\"utf-8\")+b\"2eda51d1b7de5e2b\").hexdigest() == \"ecbf406122d3dd1d17215da3bb81584d35d8303c\", \"correct string value of header_plot.mark but incorrect case of letters\"\n",
    "\n",
    "assert sha1(str(type(isinstance(header_plot.encoding.x['title'], str))).encode(\"utf-8\")+b\"d6b7a3766650847e\").hexdigest() == \"db2c6e59767dbc3188eb60ddc7fa095c5910dc99\", \"type of isinstance(header_plot.encoding.x['title'], str) is not bool. isinstance(header_plot.encoding.x['title'], str) should be a bool\"\n",
    "assert sha1(str(isinstance(header_plot.encoding.x['title'], str)).encode(\"utf-8\")+b\"d6b7a3766650847e\").hexdigest() == \"db075885ee685aad9e07aeb7e12037bc2519b240\", \"boolean value of isinstance(header_plot.encoding.x['title'], str) is not correct\"\n",
    "\n",
    "assert sha1(str(type(isinstance(header_plot.encoding.y['title'], str))).encode(\"utf-8\")+b\"cd2a4f8c6885f6f5\").hexdigest() == \"4f930db2c777ce55196796459e09c4ef17ffb042\", \"type of isinstance(header_plot.encoding.y['title'], str) is not bool. isinstance(header_plot.encoding.y['title'], str) should be a bool\"\n",
    "assert sha1(str(isinstance(header_plot.encoding.y['title'], str)).encode(\"utf-8\")+b\"cd2a4f8c6885f6f5\").hexdigest() == \"25e810bc5243cc65c82c3ef41a475866b778d69b\", \"boolean value of isinstance(header_plot.encoding.y['title'], str) is not correct\"\n",
    "\n",
    "print('Success!')"
   ]
  },
  {
   "cell_type": "markdown",
   "metadata": {
    "deletable": false,
    "editable": false,
    "nbgrader": {
     "cell_type": "markdown",
     "checksum": "05ce16d83c1adc38404c35a339c14240",
     "grade": false,
     "grade_id": "cell-d2de7ca256a685eb",
     "locked": true,
     "schema_version": 3,
     "solution": false,
     "task": false
    }
   },
   "source": [
    "## 4. Reading Data from a Database\n",
    "\n",
    "### Investigating the reliability of flights into and out of Boston Logan International Airport\n",
    "\n",
    "Delays and cancellations seem to be an unavoidable risk of air travel. A missed connection, or hours spent waiting at the departure gate, might make you wonder though: how reliable is air travel, *really*?\n",
    "\n",
    "The US Bureau of Transportation Statistics keeps a continually-updated [Airline On-Time Performance Dataset](https://transtats.bts.gov/DatabaseInfo.asp?DB_ID=120&DB_Name=Airline%20On-Time%20Performance%20Data) that has tracked the scheduled and actual departure / arrival time of flights in the United States from 1987 to the present day. In this section we'll do some exploration of this data to try to answer some of the above questions. The actual data we'll be using was from only the year 2015, and was compiled into the [2015 Kaggle Flight Delays Dataset](https://www.kaggle.com/usdot/flight-delays) from the raw Bureau data. But even that  dataset is too large to handle in this course (5.8 million flights in just one year!), so the data have been filtered down to flights that either depart or arrive at Logan International Airport (`BOS`), resulting in around 209,000 flight records. \n",
    "\n",
    "Our data has the following variables (columns):\n",
    "\n",
    "- year\n",
    "- month\n",
    "- day\n",
    "- day of the week (from 1 - 7.999..., with fractional days based on departure time)\n",
    "- origin airport code\n",
    "- destination airport code\n",
    "- flight distance (miles)\n",
    "- scheduled departure time (local)\n",
    "- departure delay (minutes)\n",
    "- scheduled arrival time (local)\n",
    "- arrival delay (minutes)\n",
    "- diverted? (True/False)\n",
    "- cancelled? (True/False)\n",
    "\n",
    "\n"
   ]
  },
  {
   "cell_type": "markdown",
   "metadata": {
    "deletable": false,
    "editable": false,
    "nbgrader": {
     "cell_type": "markdown",
     "checksum": "56156da0dfb19d3852615383f2724375",
     "grade": false,
     "grade_id": "cell-ae6a468045492d65",
     "locked": true,
     "schema_version": 3,
     "solution": false,
     "task": false
    }
   },
   "source": [
    "**Question 4.1** True or False:\n",
    "<br> {points: 1}\n",
    "\n",
    "We can use our dataset to figure out which airline company was the least likely to experience a flight delay in 2015.\n",
    "\n",
    "*Assign your answer to an object called `answer4_1`. Make sure your answer is a boolean (e.g. `True` or `False`).*"
   ]
  },
  {
   "cell_type": "code",
   "execution_count": null,
   "metadata": {
    "deletable": false,
    "nbgrader": {
     "cell_type": "code",
     "checksum": "b429827fb88028119c4780f387a35c36",
     "grade": false,
     "grade_id": "cell-a617f1c9efd04f99",
     "locked": false,
     "schema_version": 3,
     "solution": true,
     "task": false
    }
   },
   "outputs": [],
   "source": [
    "# your code here\n",
    "raise NotImplementedError"
   ]
  },
  {
   "cell_type": "code",
   "execution_count": null,
   "metadata": {
    "deletable": false,
    "editable": false,
    "nbgrader": {
     "cell_type": "code",
     "checksum": "d772578a5f8ce7fe04482911e97493b6",
     "grade": true,
     "grade_id": "cell-3a25845fbe2a154e",
     "locked": true,
     "points": 3,
     "schema_version": 3,
     "solution": false,
     "task": false
    }
   },
   "outputs": [],
   "source": [
    "from hashlib import sha1\n",
    "assert sha1(str(type(answer4_1)).encode(\"utf-8\")+b\"1f58848ead0ff9eb\").hexdigest() == \"95d354197ede103684d8ad0fec7bef298325611c\", \"type of answer4_1 is not bool. answer4_1 should be a bool\"\n",
    "assert sha1(str(answer4_1).encode(\"utf-8\")+b\"1f58848ead0ff9eb\").hexdigest() == \"bb29119d72aa49dc4b9a5a583ddcabcea644aeb8\", \"boolean value of answer4_1 is not correct\"\n",
    "\n",
    "print('Success!')"
   ]
  },
  {
   "cell_type": "markdown",
   "metadata": {
    "deletable": false,
    "editable": false,
    "nbgrader": {
     "cell_type": "markdown",
     "checksum": "2f9851315cc33e188aa147ede3966dbc",
     "grade": false,
     "grade_id": "cell-8e10ec43a04b5f28",
     "locked": true,
     "schema_version": 3,
     "solution": false,
     "task": false
    }
   },
   "source": [
    "**Question 4.2** Multiple Choice\n",
    "<br> {points: 1}\n",
    "\n",
    "If we're mostly concerned with getting to our destination on time, which variable in our dataset should we use as the y-axis of a plot?\n",
    "\n",
    "A. flight distance\n",
    "\n",
    "B. departure delay\n",
    "\n",
    "C. origin airport code\n",
    "\n",
    "D. arrival delay\n",
    "\n",
    "*Assign your answer as a single character to an object called `answer4_2`. Make sure your answer is an uppercase letter and is surrounded by quotation marks (e.g. `\"F\"`).*"
   ]
  },
  {
   "cell_type": "code",
   "execution_count": null,
   "metadata": {
    "deletable": false,
    "nbgrader": {
     "cell_type": "code",
     "checksum": "5bfd92ca78885f86913d2b4b23421928",
     "grade": false,
     "grade_id": "cell-b0d8a3e66f6ca65f",
     "locked": false,
     "schema_version": 3,
     "solution": true,
     "task": false
    }
   },
   "outputs": [],
   "source": [
    "# your code here\n",
    "raise NotImplementedError"
   ]
  },
  {
   "cell_type": "code",
   "execution_count": null,
   "metadata": {
    "deletable": false,
    "editable": false,
    "nbgrader": {
     "cell_type": "code",
     "checksum": "218fc4b3c9d3031670bf184c241110e6",
     "grade": true,
     "grade_id": "cell-5ef18ca82d1a9b95",
     "locked": true,
     "points": 3,
     "schema_version": 3,
     "solution": false,
     "task": false
    }
   },
   "outputs": [],
   "source": [
    "from hashlib import sha1\n",
    "assert sha1(str(type(answer4_2)).encode(\"utf-8\")+b\"9e80e8d0b0256b4f\").hexdigest() == \"173116457dcce427e90b3bf9c7a20a653daf776c\", \"type of answer4_2 is not str. answer4_2 should be an str\"\n",
    "assert sha1(str(len(answer4_2)).encode(\"utf-8\")+b\"9e80e8d0b0256b4f\").hexdigest() == \"337fc56569bb30b32f376071c967e991dc1b3039\", \"length of answer4_2 is not correct\"\n",
    "assert sha1(str(answer4_2.lower()).encode(\"utf-8\")+b\"9e80e8d0b0256b4f\").hexdigest() == \"333942e6ec04d55ada6051f09f42c4ce12b2166c\", \"value of answer4_2 is not correct\"\n",
    "assert sha1(str(answer4_2).encode(\"utf-8\")+b\"9e80e8d0b0256b4f\").hexdigest() == \"8e385b980136b4b8b0e43f5e0e57033e43e71f24\", \"correct string value of answer4_2 but incorrect case of letters\"\n",
    "\n",
    "print('Success!')"
   ]
  },
  {
   "cell_type": "markdown",
   "metadata": {
    "deletable": false,
    "editable": false,
    "nbgrader": {
     "cell_type": "markdown",
     "checksum": "1113103e768456f8ee3ffa63e0b0552d",
     "grade": false,
     "grade_id": "cell-ece904e30e3c5df3",
     "locked": true,
     "schema_version": 3,
     "solution": false,
     "task": false
    }
   },
   "source": [
    "Let's start exploring our data. The file is stored in `data/flights_filtered.db` in your working directory (still the `py_worksheet_reading` folder). If you try to open the file in Jupyter to inspect its contents, you'll again run into the `File Load Error ... is not UTF-8 encoded` message you got earlier when trying to open an Excel spreadsheet in Jupyter. This is because the file is a *database* (often denoted by the `.db` extension), which are usually not stored in plain text. \n",
    "\n",
    "We'll need more Python packages to help us handle this kind of data: In this course, we will work with the [`ibis` package](https://ibis-project.org/docs/3.2.0/).\n",
    "\n",
    "Let's load that now\n",
    "\n"
   ]
  },
  {
   "cell_type": "code",
   "execution_count": null,
   "metadata": {
    "deletable": false,
    "editable": false,
    "lines_to_next_cell": 2,
    "nbgrader": {
     "cell_type": "code",
     "checksum": "3a78abe8d366a981d6d2b76e9e421c1b",
     "grade": false,
     "grade_id": "cell-1b17f8e1f081d8e4",
     "locked": true,
     "schema_version": 3,
     "solution": false,
     "task": false
    }
   },
   "outputs": [],
   "source": [
    "# Run this cell before continuing.\n",
    "import ibis"
   ]
  },
  {
   "cell_type": "markdown",
   "metadata": {
    "deletable": false,
    "editable": false,
    "nbgrader": {
     "cell_type": "markdown",
     "checksum": "a38aad6cecdcce87f07c672cd9e15333",
     "grade": false,
     "grade_id": "cell-6fc5d146857922ba",
     "locked": true,
     "schema_version": 3,
     "solution": false,
     "task": false
    }
   },
   "source": [
    "In order to open a database in Python, you need to take the following steps:\n",
    "\n",
    "1. Connect to the database. For an SQLite database, we will do that using \n",
    "the `connect` function from the\n",
    "`sqlite` backend in the\n",
    "`ibis` package. This command does not read\n",
    "in the data, but simply tells Python where the database is and opens up a\n",
    "communication channel that Python can use to send SQL commands to the database.\n",
    "2. Check what tables (similar to pandas dataframes, Excel spreadsheets) are in the database using the `list_tables` function\n",
    "3. Once you've picked a table, create a Python object for it using the `table` function from the `conn` object\n",
    "4. You can then interact with this table using familiar commands like `head` or `[]` and don't forget to use `execute` to get back a pandas data frame\n",
    "\n",
    "The next few questions will walk you through this process.\n"
   ]
  },
  {
   "cell_type": "markdown",
   "metadata": {
    "deletable": false,
    "editable": false,
    "nbgrader": {
     "cell_type": "markdown",
     "checksum": "bb81da8d5bcd5a63cebc25fbfa3791d4",
     "grade": false,
     "grade_id": "cell-2263f7b141009a80",
     "locked": true,
     "schema_version": 3,
     "solution": false,
     "task": false
    }
   },
   "source": [
    "**Question 4.3.1** \n",
    "<br> {points: 1}\n",
    "\n",
    "Use the `connect` function from the `sqlite` backend in the `ibis` package to open and connect to the `flights_filtered.db` database in the `data` folder.\n",
    "\n",
    "*Assign the output to a variable named `conn`*."
   ]
  },
  {
   "cell_type": "code",
   "execution_count": null,
   "metadata": {
    "deletable": false,
    "nbgrader": {
     "cell_type": "code",
     "checksum": "6e7611afed5e1bfff23c2567ac3e5d99",
     "grade": false,
     "grade_id": "cell-f7c7606756107e5a",
     "locked": false,
     "schema_version": 3,
     "solution": true,
     "task": false
    }
   },
   "outputs": [],
   "source": [
    "# conn = ibis.sqlite.connect(\"___\")  #replace ___ with the database relative path\n",
    "# \n",
    "\n",
    "# your code here\n",
    "raise NotImplementedError"
   ]
  },
  {
   "cell_type": "code",
   "execution_count": null,
   "metadata": {
    "deletable": false,
    "editable": false,
    "nbgrader": {
     "cell_type": "code",
     "checksum": "7ee75c1c5a624bcd07fd663fcd59a55d",
     "grade": true,
     "grade_id": "cell-10c6061a03204914",
     "locked": true,
     "points": 1,
     "schema_version": 3,
     "solution": false,
     "task": false
    }
   },
   "outputs": [],
   "source": [
    "from hashlib import sha1\n",
    "assert sha1(str(type(type(conn))).encode(\"utf-8\")+b\"56e96f35d1d6fa16\").hexdigest() == \"c8659f382d55db65804ef17471b9945640746f18\", \"type of type(conn) is not correct\"\n",
    "assert sha1(str(type(conn)).encode(\"utf-8\")+b\"56e96f35d1d6fa16\").hexdigest() == \"10f01667aec93c8b8b9955e5a27db075144cdf4f\", \"value of type(conn) is not correct\"\n",
    "\n",
    "assert sha1(str(type(conn.list_tables())).encode(\"utf-8\")+b\"2d75b676205eeb09\").hexdigest() == \"926f2e65a4fdaaac8a9e370b53061641bc9d6d4c\", \"type of conn.list_tables() is not list. conn.list_tables() should be a list\"\n",
    "assert sha1(str(len(conn.list_tables())).encode(\"utf-8\")+b\"2d75b676205eeb09\").hexdigest() == \"27ac0c00838f979ac95ebd729289933718e4918a\", \"length of conn.list_tables() is not correct\"\n",
    "assert sha1(str(sorted(map(str, conn.list_tables()))).encode(\"utf-8\")+b\"2d75b676205eeb09\").hexdigest() == \"9611adf071f86bfe2692f1cd8f137e4d9fc88176\", \"values of conn.list_tables() are not correct\"\n",
    "assert sha1(str(conn.list_tables()).encode(\"utf-8\")+b\"2d75b676205eeb09\").hexdigest() == \"9611adf071f86bfe2692f1cd8f137e4d9fc88176\", \"order of elements of conn.list_tables() is not correct\"\n",
    "\n",
    "print('Success!')"
   ]
  },
  {
   "cell_type": "markdown",
   "metadata": {
    "deletable": false,
    "editable": false,
    "nbgrader": {
     "cell_type": "markdown",
     "checksum": "aca7699a568fdac44fd4d03c6fb2993f",
     "grade": false,
     "grade_id": "cell-3be320fb744223bf",
     "locked": true,
     "schema_version": 3,
     "solution": false,
     "task": false
    }
   },
   "source": [
    "**Question 4.3.2**\n",
    "<br> {points: 1}\n",
    "\n",
    "Use the `list_tables` function to inspect the database stored in the engine to see what tables it contains.\n",
    "\n",
    "*Make a new variable named `flights_table_name` that stores the name of the table with our data in it*"
   ]
  },
  {
   "cell_type": "code",
   "execution_count": null,
   "metadata": {},
   "outputs": [],
   "source": [
    "# Use this cell to figure out how to answer the question\n",
    "# Call the table_names function in this cell and take a look at the output\n",
    "\n",
    "# (___).list_tables() # replace ___ with the right argument\n",
    "\n",
    "\n",
    "# once you've called this and seen the output, insert the output string in the cell below as denoted"
   ]
  },
  {
   "cell_type": "code",
   "execution_count": null,
   "metadata": {
    "deletable": false,
    "nbgrader": {
     "cell_type": "code",
     "checksum": "2dd5d20b7b96e8d63718bfdf09a8bb7c",
     "grade": false,
     "grade_id": "cell-7a521f34b4eacb55",
     "locked": false,
     "schema_version": 3,
     "solution": true,
     "task": false
    }
   },
   "outputs": [],
   "source": [
    "# ___ = '___'\n",
    "\n",
    "# your code here\n",
    "raise NotImplementedError"
   ]
  },
  {
   "cell_type": "code",
   "execution_count": null,
   "metadata": {
    "deletable": false,
    "editable": false,
    "nbgrader": {
     "cell_type": "code",
     "checksum": "4f9abfeae3b49f1d29cbee0c8df45c7f",
     "grade": true,
     "grade_id": "cell-0cdbe210a4acaec3",
     "locked": true,
     "points": 1,
     "schema_version": 3,
     "solution": false,
     "task": false
    }
   },
   "outputs": [],
   "source": [
    "from hashlib import sha1\n",
    "assert sha1(str(type(flights_table_name)).encode(\"utf-8\")+b\"35b993b57e541eec\").hexdigest() == \"bd1ffe855e27fe2b2b0e1ea27ea6dd043fc2f049\", \"type of flights_table_name is not str. flights_table_name should be an str\"\n",
    "assert sha1(str(len(flights_table_name)).encode(\"utf-8\")+b\"35b993b57e541eec\").hexdigest() == \"9b22610fe34906bd6073cbbd585014aa381f9b54\", \"length of flights_table_name is not correct\"\n",
    "assert sha1(str(flights_table_name.lower()).encode(\"utf-8\")+b\"35b993b57e541eec\").hexdigest() == \"4116e1db18109612f3b18d8902e2729939f3d25d\", \"value of flights_table_name is not correct\"\n",
    "assert sha1(str(flights_table_name).encode(\"utf-8\")+b\"35b993b57e541eec\").hexdigest() == \"4116e1db18109612f3b18d8902e2729939f3d25d\", \"correct string value of flights_table_name but incorrect case of letters\"\n",
    "\n",
    "print('Success!')"
   ]
  },
  {
   "cell_type": "markdown",
   "metadata": {
    "deletable": false,
    "editable": false,
    "nbgrader": {
     "cell_type": "markdown",
     "checksum": "79130959eef46533e3ed6557bea9b1ff",
     "grade": false,
     "grade_id": "cell-2cea3627425a277f",
     "locked": true,
     "schema_version": 3,
     "solution": false,
     "task": false
    }
   },
   "source": [
    "**Question 4.3.3**\n",
    "<br> {points: 1}\n",
    "\n",
    "Use the `table` function from the `conn` object to create a Python reference to the table and call this `flight_data`\n",
    "\n",
    "*Make a new variable named `flight_data`.*"
   ]
  },
  {
   "cell_type": "code",
   "execution_count": null,
   "metadata": {
    "deletable": false,
    "nbgrader": {
     "cell_type": "code",
     "checksum": "1a1eeb072bb181318240062763a3ec75",
     "grade": false,
     "grade_id": "cell-ce6208974728270f",
     "locked": false,
     "schema_version": 3,
     "solution": true,
     "task": false
    }
   },
   "outputs": [],
   "source": [
    "# flight_data = conn.table(_____)\n",
    "\n",
    "# your code here\n",
    "raise NotImplementedError\n",
    "flight_data "
   ]
  },
  {
   "cell_type": "code",
   "execution_count": null,
   "metadata": {
    "deletable": false,
    "editable": false,
    "nbgrader": {
     "cell_type": "code",
     "checksum": "9dab264580229bf9ee979a4c97a56889",
     "grade": true,
     "grade_id": "cell-f49edc2edcd86899",
     "locked": true,
     "points": 1,
     "schema_version": 3,
     "solution": false,
     "task": false
    }
   },
   "outputs": [],
   "source": [
    "from hashlib import sha1\n",
    "assert sha1(str(type(type(flight_data))).encode(\"utf-8\")+b\"b0b5890f2308e4be\").hexdigest() == \"7020f3baa6935de0d0f4073004142385477a496f\", \"type of type(flight_data) is not correct\"\n",
    "assert sha1(str(type(flight_data)).encode(\"utf-8\")+b\"b0b5890f2308e4be\").hexdigest() == \"92532a8cb44a5ed02851996f07217f2b49169edc\", \"value of type(flight_data) is not correct\"\n",
    "\n",
    "assert sha1(str(type(flight_data.columns)).encode(\"utf-8\")+b\"d3d5e17a4e2054d2\").hexdigest() == \"c1f890065322b6ceab1ec74e65351c39458618de\", \"type of flight_data.columns is not list. flight_data.columns should be a list\"\n",
    "assert sha1(str(len(flight_data.columns)).encode(\"utf-8\")+b\"d3d5e17a4e2054d2\").hexdigest() == \"1ac7428c40984e89cea3a34e2de88cf72652206e\", \"length of flight_data.columns is not correct\"\n",
    "assert sha1(str(sorted(map(str, flight_data.columns))).encode(\"utf-8\")+b\"d3d5e17a4e2054d2\").hexdigest() == \"17210c97aa9992ef9d1c588e3da31a8f404eb7c3\", \"values of flight_data.columns are not correct\"\n",
    "assert sha1(str(flight_data.columns).encode(\"utf-8\")+b\"d3d5e17a4e2054d2\").hexdigest() == \"dc4a485eeede0e14c0391da1c327073ad2ea4d58\", \"order of elements of flight_data.columns is not correct\"\n",
    "\n",
    "print('Success!')"
   ]
  },
  {
   "cell_type": "markdown",
   "metadata": {
    "deletable": false,
    "editable": false,
    "nbgrader": {
     "cell_type": "markdown",
     "checksum": "913a9da717e1c2a1c627f974c822feaa",
     "grade": false,
     "grade_id": "cell-a7bdf4efaa13a843",
     "locked": true,
     "schema_version": 3,
     "solution": false,
     "task": false
    }
   },
   "source": [
    "Now that we've connected to the database and created an pandas dataframe object, we'll take a look at the first few rows and columns of the flight on-time performance data. So let's try using the `head` function (which allows us to see the first few rows of a dataset) and see what happens:"
   ]
  },
  {
   "cell_type": "code",
   "execution_count": null,
   "metadata": {
    "deletable": false,
    "editable": false,
    "nbgrader": {
     "cell_type": "code",
     "checksum": "5357984a9b310d36ddf9872fa7914629",
     "grade": false,
     "grade_id": "cell-e6e5d21a17b9f654",
     "locked": true,
     "schema_version": 3,
     "solution": false,
     "task": false
    }
   },
   "outputs": [],
   "source": [
    "# Run this cell before continuing.\n",
    "flight_data.head()"
   ]
  },
  {
   "cell_type": "markdown",
   "metadata": {
    "deletable": false,
    "editable": false,
    "nbgrader": {
     "cell_type": "markdown",
     "checksum": "c79aa887b3a06f347f69e2722c19fa0d",
     "grade": false,
     "grade_id": "cell-d7cc224da62342f1",
     "locked": true,
     "schema_version": 3,
     "solution": false,
     "task": false
    }
   },
   "source": [
    "Although it looks like we might have obtained the whole data frame from the database, we didn't!\n",
    "It's a *reference*; the data is still stored only in the SQLite database. The `flight_data` object  \n",
    "is an `AlchemyTable` (`ibis` is using `sqlalchemy` under the hood!), which, when printed, tells\n",
    "you which columns are available in the table. \n",
    "\n",
    "When we\n",
    "write `flight_data.head().execute()` in Python, in the background, the `execute` function is\n",
    "translating the Python code into SQL, sending that SQL to the database, and then translating the\n",
    "response for us."
   ]
  },
  {
   "cell_type": "code",
   "execution_count": null,
   "metadata": {},
   "outputs": [],
   "source": [
    "# Run this cell before continuing.\n",
    "flight_data.head().execute()"
   ]
  },
  {
   "cell_type": "markdown",
   "metadata": {
    "deletable": false,
    "editable": false,
    "nbgrader": {
     "cell_type": "markdown",
     "checksum": "372dd501e50ab9955c345b56a3219180",
     "grade": false,
     "grade_id": "cell-356613f497cc07cb",
     "locked": true,
     "schema_version": 3,
     "solution": false,
     "task": false
    }
   },
   "source": [
    "It works! And---as luck would have it---it also works to use the `[]` and `loc[]` functions you've learned about previously. Just don't forget to add `execute`! "
   ]
  },
  {
   "cell_type": "markdown",
   "metadata": {
    "deletable": false,
    "editable": false,
    "nbgrader": {
     "cell_type": "markdown",
     "checksum": "431811c00f7e539117627db56dc67d09",
     "grade": false,
     "grade_id": "cell-6e081aa11d2799c3",
     "locked": true,
     "schema_version": 3,
     "solution": false,
     "task": false
    }
   },
   "source": [
    "**Question 4.4**\n",
    "<br> {points: 1}\n",
    "\n",
    "Use `[]` to extract the **arrival and departure delay** columns for rows where **the origin airport is BOS.** This is done in two steps, first we filter rows and second, select columns. \n",
    "\n",
    "*Store your answer in a variable called* `delay_data`."
   ]
  },
  {
   "cell_type": "code",
   "execution_count": null,
   "metadata": {
    "deletable": false,
    "nbgrader": {
     "cell_type": "code",
     "checksum": "b446c5c8742a033ba1b8c7cdb4828f4e",
     "grade": false,
     "grade_id": "cell-e9116224f425a610",
     "locked": false,
     "schema_version": 3,
     "solution": true,
     "task": false
    }
   },
   "outputs": [],
   "source": [
    "# fd_bos_origin = flight_data[___ == \"___\"].execute()\n",
    "# delay_data = fd_bos_origin[[___, ___]]\n",
    "\n",
    "# your code here\n",
    "raise NotImplementedError"
   ]
  },
  {
   "cell_type": "code",
   "execution_count": null,
   "metadata": {
    "deletable": false,
    "editable": false,
    "nbgrader": {
     "cell_type": "code",
     "checksum": "b119e7e6398f69ead9a5e6de79ef0229",
     "grade": true,
     "grade_id": "cell-5338b9a6748de0f7",
     "locked": true,
     "points": 1,
     "schema_version": 3,
     "solution": false,
     "task": false
    }
   },
   "outputs": [],
   "source": [
    "from hashlib import sha1\n",
    "assert sha1(str(type(delay_data.shape)).encode(\"utf-8\")+b\"f5905ae42263b878\").hexdigest() == \"6d92b7072e36a43a9cc1315d92b7b7b0f8a73495\", \"type of delay_data.shape is not tuple. delay_data.shape should be a tuple\"\n",
    "assert sha1(str(len(delay_data.shape)).encode(\"utf-8\")+b\"f5905ae42263b878\").hexdigest() == \"c5fb0c1d0cb5615db3c7e162e3b94621ff0e1f43\", \"length of delay_data.shape is not correct\"\n",
    "assert sha1(str(sorted(map(str, delay_data.shape))).encode(\"utf-8\")+b\"f5905ae42263b878\").hexdigest() == \"2603c478351449c73a52fcb4465c3bf4d711c9af\", \"values of delay_data.shape are not correct\"\n",
    "assert sha1(str(delay_data.shape).encode(\"utf-8\")+b\"f5905ae42263b878\").hexdigest() == \"9cd8b49c7908af315bc753222e88c86ef2fd1401\", \"order of elements of delay_data.shape is not correct\"\n",
    "\n",
    "assert sha1(str(type(delay_data.columns.values)).encode(\"utf-8\")+b\"93a3b9bbd6bd2900\").hexdigest() == \"5369ce02c9dc91ea82abd958c90064d935fd2680\", \"type of delay_data.columns.values is not correct\"\n",
    "assert sha1(str(delay_data.columns.values).encode(\"utf-8\")+b\"93a3b9bbd6bd2900\").hexdigest() == \"2a326d91b73e2e22ec5ae1149a74e12ea599d943\", \"value of delay_data.columns.values is not correct\"\n",
    "\n",
    "print('Success!')"
   ]
  },
  {
   "cell_type": "code",
   "execution_count": null,
   "metadata": {
    "deletable": false,
    "editable": false,
    "nbgrader": {
     "cell_type": "code",
     "checksum": "2498ae03a9fec487826daf1cead798c3",
     "grade": false,
     "grade_id": "cell-84aab140cb516617",
     "locked": true,
     "schema_version": 3,
     "solution": false,
     "task": false
    }
   },
   "outputs": [],
   "source": [
    "# Take a look at `delay_data` to make sure it has the two columns we expect.\n",
    "# Run this cell before continuing.\n",
    "delay_data.head()"
   ]
  },
  {
   "cell_type": "markdown",
   "metadata": {
    "deletable": false,
    "editable": false,
    "nbgrader": {
     "cell_type": "markdown",
     "checksum": "0891c03252e63a19a9fa6f563b7e328d",
     "grade": false,
     "grade_id": "cell-303a41d2e27cbc4d",
     "locked": true,
     "schema_version": 3,
     "solution": false,
     "task": false
    }
   },
   "source": [
    "Our next task is to visualize our data to see whether there is a difference in delays for arrivals at and departures from `BOS`. But before we do that, let's figure out just how much data we're working with using the `shape` method."
   ]
  },
  {
   "cell_type": "code",
   "execution_count": null,
   "metadata": {
    "deletable": false,
    "editable": false,
    "nbgrader": {
     "cell_type": "code",
     "checksum": "f63bff9c068e2cdeee037bfd6a82c437",
     "grade": false,
     "grade_id": "cell-09bd61a2b25cb771",
     "locked": true,
     "schema_version": 3,
     "solution": false,
     "task": false
    }
   },
   "outputs": [],
   "source": [
    "# Run this cell before continuing.\n",
    "delay_data.shape"
   ]
  },
  {
   "cell_type": "markdown",
   "metadata": {
    "deletable": false,
    "editable": false,
    "nbgrader": {
     "cell_type": "markdown",
     "checksum": "dd116aa3acfc45e4710882d1bdfe1700",
     "grade": false,
     "grade_id": "cell-4b975655f6f919ed",
     "locked": true,
     "schema_version": 3,
     "solution": false,
     "task": false
    }
   },
   "source": [
    "Yikes---that's a lot of data! If we tried to do a scatter plot of these, we probably wouldn't be able to see anything useful; all the points would be mushed together. Let's try using a *histogram* instead. A histogram helps us visualize how a particular variable is distributed in a dataset. It does this by separating the data into *bins*, and then plotting vertical bars showing how many data points fell in each bin.\n",
    "\n",
    "For example, we could use a histogram to visualize the distribution of IMDB ratings of different movies with the `mark_bar`."
   ]
  },
  {
   "cell_type": "code",
   "execution_count": null,
   "metadata": {
    "deletable": false,
    "editable": false,
    "nbgrader": {
     "cell_type": "code",
     "checksum": "2b20c0be186e5c4877c4761439bae9c8",
     "grade": false,
     "grade_id": "cell-9c2880fd80fb47e8",
     "locked": true,
     "schema_version": 3,
     "solution": false,
     "task": false
    }
   },
   "outputs": [],
   "source": [
    "happiness_data = pd.read_csv(\n",
    "    \"data/happiness_report_metadata.csv\", skiprows=2\n",
    ")\n",
    "\n",
    "alt.Chart(happiness_data).mark_bar().encode(\n",
    "    x=alt.X(\"happiness_score\").bin(),\n",
    "    y=\"count()\",\n",
    ")"
   ]
  },
  {
   "cell_type": "markdown",
   "metadata": {
    "deletable": false,
    "editable": false,
    "nbgrader": {
     "cell_type": "markdown",
     "checksum": "4d706cca4095a79a316b8159bc684323",
     "grade": false,
     "grade_id": "cell-b55f33f294252032",
     "locked": true,
     "schema_version": 3,
     "solution": false,
     "task": false
    }
   },
   "source": [
    "We'll use histograms to visualize the departure delay times and arrival delay times separately."
   ]
  },
  {
   "cell_type": "markdown",
   "metadata": {
    "deletable": false,
    "editable": false,
    "nbgrader": {
     "cell_type": "markdown",
     "checksum": "4feadcccadc736cdbdc32b235fff3a32",
     "grade": false,
     "grade_id": "cell-d8475f9acda08a6f",
     "locked": true,
     "schema_version": 3,
     "solution": false,
     "task": false
    }
   },
   "source": [
    "**Question 4.5**\n",
    "<br> {points: 1}\n",
    "\n",
    "Plot the **arrival** delay time data as a histogram. You will plot the delay (in hours) separated into 15-minute-wide bins on the x axis. The y axis will show the percentage of flights departing BOS that had that amount of delay during 2015.\n",
    "\n",
    "The plotting code is provided below, however, you would need to finish the data wrangling part for the plot by filling `___` with the correct code. Please note that we would want the delay in hours on X axis but the delay data in the dataset is in minutes. To create this new column, we use the `assign` function in Pandas.\n",
    "\n",
    "*Assign the output of altair plot to an object called* `arrival_delay_plot`."
   ]
  },
  {
   "cell_type": "code",
   "execution_count": null,
   "metadata": {
    "deletable": false,
    "nbgrader": {
     "cell_type": "code",
     "checksum": "21f835cf67c05a43cb0682e7cc5fb26b",
     "grade": false,
     "grade_id": "cell-cb0371528dff7979",
     "locked": false,
     "schema_version": 3,
     "solution": true,
     "task": false
    }
   },
   "outputs": [],
   "source": [
    "# Replace each ___ with the correct item in the list above.\n",
    "\n",
    "# delay_data = delay_data.assign(\n",
    "#     ARRIVAL_DELAY_hr=___\n",
    "# )\n",
    "#\n",
    "# ___ = alt.Chart(delay_data, title='Arrival delays').transform_joinaggregate(\n",
    "#     total=\"count(ARRIVAL_DELAY_hr)\"\n",
    "# ).transform_calculate(\n",
    "#     pct=\"1 / datum.total\"\n",
    "# ).mark_bar().encode(\n",
    "#     alt.X(\"ARRIVAL_DELAY_hr:Q\")\n",
    "#         .bin(step=0.25)\n",
    "#         .scale(domain=[-2, 5])\n",
    "#         .title(\"Delay (hours)\"),\n",
    "#     alt.Y(\"sum(pct):Q\")\n",
    "#         .axis(format=\"%\")\n",
    "#         .title(\"% of Flights\")\n",
    "# )\n",
    "\n",
    "# your code here\n",
    "raise NotImplementedError\n",
    "arrival_delay_plot"
   ]
  },
  {
   "cell_type": "code",
   "execution_count": null,
   "metadata": {
    "deletable": false,
    "editable": false,
    "nbgrader": {
     "cell_type": "code",
     "checksum": "ae7e139288c8ff187dbb167a73f03bee",
     "grade": true,
     "grade_id": "cell-c7ffba55e40ac67a",
     "locked": true,
     "points": 1,
     "schema_version": 3,
     "solution": false,
     "task": false
    }
   },
   "outputs": [],
   "source": [
    "from hashlib import sha1\n",
    "assert sha1(str(type(arrival_delay_plot.mark)).encode(\"utf-8\")+b\"96809b268a57fc76\").hexdigest() == \"e6c5740e37b57415a9e0038ccd2649f78af16664\", \"type of arrival_delay_plot.mark is not str. arrival_delay_plot.mark should be an str\"\n",
    "assert sha1(str(len(arrival_delay_plot.mark)).encode(\"utf-8\")+b\"96809b268a57fc76\").hexdigest() == \"8607f791dfb9d21a429d28cb92e47ccb35527de3\", \"length of arrival_delay_plot.mark is not correct\"\n",
    "assert sha1(str(arrival_delay_plot.mark.lower()).encode(\"utf-8\")+b\"96809b268a57fc76\").hexdigest() == \"ed9c723cb67e0df51c48e3583a843c2b3e49bfc9\", \"value of arrival_delay_plot.mark is not correct\"\n",
    "assert sha1(str(arrival_delay_plot.mark).encode(\"utf-8\")+b\"96809b268a57fc76\").hexdigest() == \"ed9c723cb67e0df51c48e3583a843c2b3e49bfc9\", \"correct string value of arrival_delay_plot.mark but incorrect case of letters\"\n",
    "\n",
    "assert sha1(str(type(arrival_delay_plot.encoding.x['title'])).encode(\"utf-8\")+b\"3faccbb8edf5e762\").hexdigest() == \"46b9677fa195ceb8aee9ad31d0b43a5db7c8f87e\", \"type of arrival_delay_plot.encoding.x['title'] is not str. arrival_delay_plot.encoding.x['title'] should be an str\"\n",
    "assert sha1(str(len(arrival_delay_plot.encoding.x['title'])).encode(\"utf-8\")+b\"3faccbb8edf5e762\").hexdigest() == \"5ff38526748dfd344dd1208f8f3a181bc83c3bd4\", \"length of arrival_delay_plot.encoding.x['title'] is not correct\"\n",
    "assert sha1(str(arrival_delay_plot.encoding.x['title'].lower()).encode(\"utf-8\")+b\"3faccbb8edf5e762\").hexdigest() == \"9336ed4d3591813fb7416de0e968ed1ad665b8c1\", \"value of arrival_delay_plot.encoding.x['title'] is not correct\"\n",
    "assert sha1(str(arrival_delay_plot.encoding.x['title']).encode(\"utf-8\")+b\"3faccbb8edf5e762\").hexdigest() == \"6c8f7a723b52bab582b4dfd105738a1316f450c6\", \"correct string value of arrival_delay_plot.encoding.x['title'] but incorrect case of letters\"\n",
    "\n",
    "assert sha1(str(type(arrival_delay_plot.encoding.y['title'])).encode(\"utf-8\")+b\"fe7b5b02fac34a67\").hexdigest() == \"f7a85634dce612fde30db76ff303fb8f4126a0e5\", \"type of arrival_delay_plot.encoding.y['title'] is not str. arrival_delay_plot.encoding.y['title'] should be an str\"\n",
    "assert sha1(str(len(arrival_delay_plot.encoding.y['title'])).encode(\"utf-8\")+b\"fe7b5b02fac34a67\").hexdigest() == \"828787b94df8981a025c4c2a7ddf265066d3e274\", \"length of arrival_delay_plot.encoding.y['title'] is not correct\"\n",
    "assert sha1(str(arrival_delay_plot.encoding.y['title'].lower()).encode(\"utf-8\")+b\"fe7b5b02fac34a67\").hexdigest() == \"90ab3ffd892339de73d74a39eafe95c51507c15e\", \"value of arrival_delay_plot.encoding.y['title'] is not correct\"\n",
    "assert sha1(str(arrival_delay_plot.encoding.y['title']).encode(\"utf-8\")+b\"fe7b5b02fac34a67\").hexdigest() == \"2d68cf1ab7bd745edad21ac4151f03fe0e8ab344\", \"correct string value of arrival_delay_plot.encoding.y['title'] but incorrect case of letters\"\n",
    "\n",
    "assert sha1(str(type(arrival_delay_plot.encoding.x['shorthand'])).encode(\"utf-8\")+b\"01a9d92e99fbb83a\").hexdigest() == \"162e68812ff99bea77c374dc05a7799a81fe301d\", \"type of arrival_delay_plot.encoding.x['shorthand'] is not str. arrival_delay_plot.encoding.x['shorthand'] should be an str\"\n",
    "assert sha1(str(len(arrival_delay_plot.encoding.x['shorthand'])).encode(\"utf-8\")+b\"01a9d92e99fbb83a\").hexdigest() == \"0fcdc83dcf241d32661624d39b7440a27ca702aa\", \"length of arrival_delay_plot.encoding.x['shorthand'] is not correct\"\n",
    "assert sha1(str(arrival_delay_plot.encoding.x['shorthand'].lower()).encode(\"utf-8\")+b\"01a9d92e99fbb83a\").hexdigest() == \"d91c1d7c22f6dd7e922ab0e1e760bdfb179736fe\", \"value of arrival_delay_plot.encoding.x['shorthand'] is not correct\"\n",
    "assert sha1(str(arrival_delay_plot.encoding.x['shorthand']).encode(\"utf-8\")+b\"01a9d92e99fbb83a\").hexdigest() == \"baaac7502886700bfabfaea13a23b6385fe4ed08\", \"correct string value of arrival_delay_plot.encoding.x['shorthand'] but incorrect case of letters\"\n",
    "\n",
    "assert sha1(str(type(arrival_delay_plot.encoding.y['shorthand'])).encode(\"utf-8\")+b\"1b88137eb3aef8f6\").hexdigest() == \"e8add31c01adcca3924e13aba2a6ef4b4ea84240\", \"type of arrival_delay_plot.encoding.y['shorthand'] is not str. arrival_delay_plot.encoding.y['shorthand'] should be an str\"\n",
    "assert sha1(str(len(arrival_delay_plot.encoding.y['shorthand'])).encode(\"utf-8\")+b\"1b88137eb3aef8f6\").hexdigest() == \"6b2eb57fc92b310d2d6a8d6ca6843d8e081120b2\", \"length of arrival_delay_plot.encoding.y['shorthand'] is not correct\"\n",
    "assert sha1(str(arrival_delay_plot.encoding.y['shorthand'].lower()).encode(\"utf-8\")+b\"1b88137eb3aef8f6\").hexdigest() == \"7eca3d0a3a673db90caa5ec48395226ea4a2b6e6\", \"value of arrival_delay_plot.encoding.y['shorthand'] is not correct\"\n",
    "assert sha1(str(arrival_delay_plot.encoding.y['shorthand']).encode(\"utf-8\")+b\"1b88137eb3aef8f6\").hexdigest() == \"dd13e4f7712a328b33b83ee753e8e55da22d7e1e\", \"correct string value of arrival_delay_plot.encoding.y['shorthand'] but incorrect case of letters\"\n",
    "\n",
    "print('Success!')"
   ]
  },
  {
   "cell_type": "markdown",
   "metadata": {
    "deletable": false,
    "editable": false,
    "nbgrader": {
     "cell_type": "markdown",
     "checksum": "cb3145e18d9024bcda96909fc6e92e01",
     "grade": false,
     "grade_id": "cell-86568c7e0a844a14",
     "locked": true,
     "schema_version": 3,
     "solution": false,
     "task": false
    }
   },
   "source": [
    "**Question 4.6**\n",
    "<br> {points: 1}\n",
    "\n",
    "Plot the **departure** delay time data as a histogram with the same format as the previous plot. **Hint:** copy and paste your code from the previous block! The only thing that will change is column from `delay_data` that you use for the x-axis.\n",
    "\n",
    "*Assign the output of altair plot to an object called* `departure_delay_plot`."
   ]
  },
  {
   "cell_type": "code",
   "execution_count": null,
   "metadata": {
    "deletable": false,
    "nbgrader": {
     "cell_type": "code",
     "checksum": "4a0396a260a551bcfc3f4afc99c31174",
     "grade": false,
     "grade_id": "cell-806e4299bc42a0fd",
     "locked": false,
     "schema_version": 3,
     "solution": true,
     "task": false
    }
   },
   "outputs": [],
   "source": [
    "# delay_data = delay_data.assign(\n",
    "#     DEPARTURE_DELAY_hr = ___\n",
    "# )\n",
    "# departure_delay_plot = ___ \n",
    "\n",
    "# your code here\n",
    "raise NotImplementedError\n",
    "departure_delay_plot"
   ]
  },
  {
   "cell_type": "code",
   "execution_count": null,
   "metadata": {
    "deletable": false,
    "editable": false,
    "nbgrader": {
     "cell_type": "code",
     "checksum": "8d502ad1a4f1891b7ce4dbff14ec8002",
     "grade": true,
     "grade_id": "cell-1389a9deb7b3bcce",
     "locked": true,
     "points": 1,
     "schema_version": 3,
     "solution": false,
     "task": false
    }
   },
   "outputs": [],
   "source": [
    "from hashlib import sha1\n",
    "assert sha1(str(type(departure_delay_plot.mark)).encode(\"utf-8\")+b\"17e74b4ce6b12e7d\").hexdigest() == \"20ba83b3b6501942513c2d7ccd189dbc4614b5e1\", \"type of departure_delay_plot.mark is not str. departure_delay_plot.mark should be an str\"\n",
    "assert sha1(str(len(departure_delay_plot.mark)).encode(\"utf-8\")+b\"17e74b4ce6b12e7d\").hexdigest() == \"703f0d2c0999848c0c641b01cec931702542ad26\", \"length of departure_delay_plot.mark is not correct\"\n",
    "assert sha1(str(departure_delay_plot.mark.lower()).encode(\"utf-8\")+b\"17e74b4ce6b12e7d\").hexdigest() == \"2d5da2dfeccd59ef9ea08a1e9faa9344c3ca3c7e\", \"value of departure_delay_plot.mark is not correct\"\n",
    "assert sha1(str(departure_delay_plot.mark).encode(\"utf-8\")+b\"17e74b4ce6b12e7d\").hexdigest() == \"2d5da2dfeccd59ef9ea08a1e9faa9344c3ca3c7e\", \"correct string value of departure_delay_plot.mark but incorrect case of letters\"\n",
    "\n",
    "assert sha1(str(type(departure_delay_plot.encoding.x['title'])).encode(\"utf-8\")+b\"7a4dc29b05412371\").hexdigest() == \"33bcd429da6cb33db8cd2a023cd26cd297515175\", \"type of departure_delay_plot.encoding.x['title'] is not str. departure_delay_plot.encoding.x['title'] should be an str\"\n",
    "assert sha1(str(len(departure_delay_plot.encoding.x['title'])).encode(\"utf-8\")+b\"7a4dc29b05412371\").hexdigest() == \"b0ee99b2fc3b3cc1ac3d182160e3aa498ec90587\", \"length of departure_delay_plot.encoding.x['title'] is not correct\"\n",
    "assert sha1(str(departure_delay_plot.encoding.x['title'].lower()).encode(\"utf-8\")+b\"7a4dc29b05412371\").hexdigest() == \"e415a49c9d4cc75e143faebf68cbef41e7e7d922\", \"value of departure_delay_plot.encoding.x['title'] is not correct\"\n",
    "assert sha1(str(departure_delay_plot.encoding.x['title']).encode(\"utf-8\")+b\"7a4dc29b05412371\").hexdigest() == \"e65ce986b0c5cd16fa99d1ccb0967f38c7e97003\", \"correct string value of departure_delay_plot.encoding.x['title'] but incorrect case of letters\"\n",
    "\n",
    "assert sha1(str(type(departure_delay_plot.encoding.y['title'])).encode(\"utf-8\")+b\"8f775bb78d7cdafd\").hexdigest() == \"5b0d4a299895bc5f0bfcb50528b8bda812bdaa63\", \"type of departure_delay_plot.encoding.y['title'] is not str. departure_delay_plot.encoding.y['title'] should be an str\"\n",
    "assert sha1(str(len(departure_delay_plot.encoding.y['title'])).encode(\"utf-8\")+b\"8f775bb78d7cdafd\").hexdigest() == \"525399821d1e739fbf41a307e13013414cf7ad82\", \"length of departure_delay_plot.encoding.y['title'] is not correct\"\n",
    "assert sha1(str(departure_delay_plot.encoding.y['title'].lower()).encode(\"utf-8\")+b\"8f775bb78d7cdafd\").hexdigest() == \"e1e101be28db70637ac17206ce02678a1d39046f\", \"value of departure_delay_plot.encoding.y['title'] is not correct\"\n",
    "assert sha1(str(departure_delay_plot.encoding.y['title']).encode(\"utf-8\")+b\"8f775bb78d7cdafd\").hexdigest() == \"92b14ae98406460fe52b89d83d672f45fd12e404\", \"correct string value of departure_delay_plot.encoding.y['title'] but incorrect case of letters\"\n",
    "\n",
    "assert sha1(str(type(departure_delay_plot.encoding.x['shorthand'])).encode(\"utf-8\")+b\"0573283ffb5b16b5\").hexdigest() == \"568cbb4c88816d28d61a5080b426559c57a74a5f\", \"type of departure_delay_plot.encoding.x['shorthand'] is not str. departure_delay_plot.encoding.x['shorthand'] should be an str\"\n",
    "assert sha1(str(len(departure_delay_plot.encoding.x['shorthand'])).encode(\"utf-8\")+b\"0573283ffb5b16b5\").hexdigest() == \"3b976d9d860b80683fe8bab629b2976f1ec487b9\", \"length of departure_delay_plot.encoding.x['shorthand'] is not correct\"\n",
    "assert sha1(str(departure_delay_plot.encoding.x['shorthand'].lower()).encode(\"utf-8\")+b\"0573283ffb5b16b5\").hexdigest() == \"e9570fcd918d45ee9d9f63a9b82e3b4954baf023\", \"value of departure_delay_plot.encoding.x['shorthand'] is not correct\"\n",
    "assert sha1(str(departure_delay_plot.encoding.x['shorthand']).encode(\"utf-8\")+b\"0573283ffb5b16b5\").hexdigest() == \"c1c5fb905af5aaab568b7699e8bd16ce4e1b0611\", \"correct string value of departure_delay_plot.encoding.x['shorthand'] but incorrect case of letters\"\n",
    "\n",
    "assert sha1(str(type(departure_delay_plot.encoding.y['shorthand'])).encode(\"utf-8\")+b\"22418c87e33d8049\").hexdigest() == \"c9dd3ea41bc46346d6326d19dfbf1195206ac6a7\", \"type of departure_delay_plot.encoding.y['shorthand'] is not str. departure_delay_plot.encoding.y['shorthand'] should be an str\"\n",
    "assert sha1(str(len(departure_delay_plot.encoding.y['shorthand'])).encode(\"utf-8\")+b\"22418c87e33d8049\").hexdigest() == \"3add7c97d1155e2df699890bee4b5dc6ddb2c345\", \"length of departure_delay_plot.encoding.y['shorthand'] is not correct\"\n",
    "assert sha1(str(departure_delay_plot.encoding.y['shorthand'].lower()).encode(\"utf-8\")+b\"22418c87e33d8049\").hexdigest() == \"c5218d7cd618b8d314b9b0e8d4f12eea3ee56d66\", \"value of departure_delay_plot.encoding.y['shorthand'] is not correct\"\n",
    "assert sha1(str(departure_delay_plot.encoding.y['shorthand']).encode(\"utf-8\")+b\"22418c87e33d8049\").hexdigest() == \"ac5b955bb75127051375c22fee7dc85e89d23d4f\", \"correct string value of departure_delay_plot.encoding.y['shorthand'] but incorrect case of letters\"\n",
    "\n",
    "print('Success!')"
   ]
  },
  {
   "cell_type": "markdown",
   "metadata": {
    "deletable": false,
    "editable": false,
    "nbgrader": {
     "cell_type": "markdown",
     "checksum": "b88cdb584585fa695b2e5be0ffcdf3f6",
     "grade": false,
     "grade_id": "cell-6657febeb798f228",
     "locked": true,
     "schema_version": 3,
     "solution": false,
     "task": false
    }
   },
   "source": [
    "**Question 4.7**\n",
    "<br> {points: 1}\n",
    "\n",
    "Look at the two plots you generated. Are departures from or arrivals to `BOS` more likely to be on time? Note that \"on time\" is defined as being at most 15 minutes ahead or behind the scheduled time.\n",
    "\n",
    "*Hint: Remember that each bin is 15 min (0.25 hours) wide.*\n",
    "\n",
    "_Assign your answer (either `\"departures\"` or `\"arrivals\"`) to an object called `answer4_7`._"
   ]
  },
  {
   "cell_type": "code",
   "execution_count": null,
   "metadata": {
    "deletable": false,
    "nbgrader": {
     "cell_type": "code",
     "checksum": "7348f9f672762e039ba7015bd9e220c1",
     "grade": false,
     "grade_id": "cell-2abe63d9b3bb7dd0",
     "locked": false,
     "schema_version": 3,
     "solution": true,
     "task": false
    }
   },
   "outputs": [],
   "source": [
    "# your code here\n",
    "raise NotImplementedError"
   ]
  },
  {
   "cell_type": "code",
   "execution_count": null,
   "metadata": {
    "deletable": false,
    "editable": false,
    "nbgrader": {
     "cell_type": "code",
     "checksum": "6baa357d8537cde9ff83f2eefd14d123",
     "grade": true,
     "grade_id": "cell-5e0e102e3ce475fd",
     "locked": true,
     "points": 1,
     "schema_version": 3,
     "solution": false,
     "task": false
    }
   },
   "outputs": [],
   "source": [
    "from hashlib import sha1\n",
    "assert sha1(str(type(answer4_7)).encode(\"utf-8\")+b\"4f83f43300b2d70f\").hexdigest() == \"de662bb36de500e56dd70fcde9cfb427f562cfd0\", \"type of answer4_7 is not str. answer4_7 should be an str\"\n",
    "assert sha1(str(len(answer4_7)).encode(\"utf-8\")+b\"4f83f43300b2d70f\").hexdigest() == \"41fe322e552574f04f831a1a6b5c44f3ded44804\", \"length of answer4_7 is not correct\"\n",
    "assert sha1(str(answer4_7.lower()).encode(\"utf-8\")+b\"4f83f43300b2d70f\").hexdigest() == \"db330556acf0fd1707336bac666aae8b631f164c\", \"value of answer4_7 is not correct\"\n",
    "assert sha1(str(answer4_7).encode(\"utf-8\")+b\"4f83f43300b2d70f\").hexdigest() == \"db330556acf0fd1707336bac666aae8b631f164c\", \"correct string value of answer4_7 but incorrect case of letters\"\n",
    "\n",
    "print('Success!')"
   ]
  },
  {
   "cell_type": "markdown",
   "metadata": {
    "deletable": false,
    "editable": false,
    "nbgrader": {
     "cell_type": "markdown",
     "checksum": "627c42d67032f5364fd38c1a1484d573",
     "grade": false,
     "grade_id": "cell-c35956f1f27af2ea",
     "locked": true,
     "schema_version": 3,
     "solution": false,
     "task": false
    }
   },
   "source": [
    "**Question 4.8**\n",
    "<br>{points: 1}\n",
    "\n",
    "Use the `to_csv` method to write the dataframe to a file called `delay_data.csv`. Save the file in the `data/` folder and specify `index=False` to avoid including the numerical index in the file.\n",
    "\n",
    "*Note: there are many possible ways to use `to_csv` to customize the output. Just use the defaults here!*"
   ]
  },
  {
   "cell_type": "code",
   "execution_count": null,
   "metadata": {
    "lines_to_next_cell": 2
   },
   "outputs": [],
   "source": [
    "# If you don't know how to call collect or write_csv, use this cell to\n",
    "# check the documentation by calling ?pd.DataFrame.to_csv"
   ]
  },
  {
   "cell_type": "code",
   "execution_count": null,
   "metadata": {
    "deletable": false,
    "nbgrader": {
     "cell_type": "code",
     "checksum": "9df8c65029a49ff7f5af6b3b6b25d2ee",
     "grade": false,
     "grade_id": "cell-317f2b694425e7ad",
     "locked": false,
     "schema_version": 3,
     "solution": true,
     "task": false
    }
   },
   "outputs": [],
   "source": [
    "# pd.DataFrame.to_csv(___, ___)\n",
    "\n",
    "# your code here\n",
    "raise NotImplementedError"
   ]
  },
  {
   "cell_type": "code",
   "execution_count": null,
   "metadata": {
    "deletable": false,
    "editable": false,
    "nbgrader": {
     "cell_type": "code",
     "checksum": "ab53dd9713279a758690d616638c2ed3",
     "grade": true,
     "grade_id": "cell-ba229a7094676d0f",
     "locked": true,
     "points": 1,
     "schema_version": 3,
     "solution": false,
     "task": false
    }
   },
   "outputs": [],
   "source": [
    "from hashlib import sha1\n",
    "assert sha1(str(type(os.path.exists('data/delay_data.csv'))).encode(\"utf-8\")+b\"ea4e6987437e9877\").hexdigest() == \"4e9cf443d206860e142611094744e16d80bc1a75\", \"type of os.path.exists('data/delay_data.csv') is not bool. os.path.exists('data/delay_data.csv') should be a bool\"\n",
    "assert sha1(str(os.path.exists('data/delay_data.csv')).encode(\"utf-8\")+b\"ea4e6987437e9877\").hexdigest() == \"5ab053cd0fac8656bc1aa69f0596573edbd50328\", \"boolean value of os.path.exists('data/delay_data.csv') is not correct\"\n",
    "\n",
    "assert sha1(str(type(pd.read_csv('data/delay_data.csv').sum())).encode(\"utf-8\")+b\"0dda0f1dc9b3f080\").hexdigest() == \"955db28ba6835745b00058d753e42e06159d8094\", \"type of pd.read_csv('data/delay_data.csv').sum() is not correct\"\n",
    "assert sha1(str(pd.read_csv('data/delay_data.csv').sum()).encode(\"utf-8\")+b\"0dda0f1dc9b3f080\").hexdigest() == \"8ef94898d1dcbd6ebcd9a46df3d6087ff16ef27b\", \"value of pd.read_csv('data/delay_data.csv').sum() is not correct\"\n",
    "\n",
    "print('Success!')"
   ]
  },
  {
   "cell_type": "code",
   "execution_count": null,
   "metadata": {
    "deletable": false,
    "editable": false,
    "nbgrader": {
     "cell_type": "code",
     "checksum": "4d626e753b69e3979d687c8886190667",
     "grade": false,
     "grade_id": "cell-deef0dceb7f4c945",
     "locked": true,
     "schema_version": 3,
     "solution": false,
     "task": false
    }
   },
   "outputs": [],
   "source": [
    "try:\n",
    "    os.remove(\"data/delay_data.csv\")\n",
    "except:\n",
    "    None"
   ]
  },
  {
   "cell_type": "markdown",
   "metadata": {
    "deletable": false,
    "editable": false,
    "nbgrader": {
     "cell_type": "markdown",
     "checksum": "059b3c88eb9be3ddc6a5cef0d125b3e5",
     "grade": false,
     "grade_id": "cell-f038e8a1f963597e",
     "locked": true,
     "schema_version": 3,
     "solution": false,
     "task": false
    }
   },
   "source": [
    "## 5 (Optional). Reading Data from the Internet\n",
    "\n",
    "### How has the World Gross Domestic product changed throughout history?\n",
    "\n",
    "\n",
    "As defined on Wikipedia, the \"Gross world product (GWP) is the combined gross national product of all the countries in the world.\" Living in our modern age with our roaring (sometimes up and sometimes down) economies, one might wonder how the world economy has changed over history. To answer this question we will scrape data from the [Wikipedia Gross world product page](https://en.wikipedia.org/wiki/Gross_world_product).\n",
    "\n",
    "Your data set will include the following columns: \n",
    "* `year`\n",
    "* `gwp_value`\n",
    "\n",
    "Specifically we will scrape the 2 columns named \"Year\" and \"Real GWP\" in the table under the header \"Historical and prehistorical estimates\". **The end goal of this exercise is to create a line plot with year on the x-axis and GWP value on the y-axis.**"
   ]
  },
  {
   "cell_type": "markdown",
   "metadata": {
    "deletable": false,
    "editable": false,
    "nbgrader": {
     "cell_type": "markdown",
     "checksum": "43ec8d7f2f6c7630560993a2c8dfc60c",
     "grade": false,
     "grade_id": "cell-f2713fa0d78ca175",
     "locked": true,
     "schema_version": 3,
     "solution": false,
     "task": false
    }
   },
   "source": [
    "**Question 5.1.0** Multiple Choice: \n",
    "<br> {points: 0}\n",
    "\n",
    "Under which of the following headers in the table will we scrape from on the [Wikipedia Gross world product page](https://en.wikipedia.org/wiki/Gross_world_product)?\n",
    "\n",
    "A. Gross world product\n",
    "\n",
    "B. Recent growth\n",
    "\n",
    "C. Historical and prehistorical estimates\n",
    "\n",
    "D. See also\n",
    "\n",
    "*Assign your answer to an object called `answer5_1_0`. Make sure your answer is an uppercase letter and is surrounded by quotation marks (e.g. `\"F\"`).* "
   ]
  },
  {
   "cell_type": "code",
   "execution_count": null,
   "metadata": {
    "deletable": false,
    "nbgrader": {
     "cell_type": "code",
     "checksum": "4c1f9b352553e4037c03f15b8c58eb98",
     "grade": false,
     "grade_id": "cell-9014b8f73a269598",
     "locked": false,
     "schema_version": 3,
     "solution": true,
     "task": false
    }
   },
   "outputs": [],
   "source": [
    "# your code here\n",
    "raise NotImplementedError"
   ]
  },
  {
   "cell_type": "code",
   "execution_count": null,
   "metadata": {
    "deletable": false,
    "editable": false,
    "nbgrader": {
     "cell_type": "code",
     "checksum": "605e28f716c323abafeb16095b5c1fee",
     "grade": true,
     "grade_id": "cell-23f53baed109b8c8",
     "locked": true,
     "points": 0,
     "schema_version": 3,
     "solution": false,
     "task": false
    }
   },
   "outputs": [],
   "source": [
    "from hashlib import sha1\n",
    "assert sha1(str(type(answer5_1_0)).encode(\"utf-8\")+b\"b529065606ac49bb\").hexdigest() == \"eeec10079965e1ee3b14c8b3d78a0a15644205ad\", \"type of answer5_1_0 is not str. answer5_1_0 should be an str\"\n",
    "assert sha1(str(len(answer5_1_0)).encode(\"utf-8\")+b\"b529065606ac49bb\").hexdigest() == \"71d80dddbe58b7ab2586eee0319a7edad836826c\", \"length of answer5_1_0 is not correct\"\n",
    "assert sha1(str(answer5_1_0.lower()).encode(\"utf-8\")+b\"b529065606ac49bb\").hexdigest() == \"53a6d587cf770316ab1b4a217ae182945e988f3c\", \"value of answer5_1_0 is not correct\"\n",
    "assert sha1(str(answer5_1_0).encode(\"utf-8\")+b\"b529065606ac49bb\").hexdigest() == \"a42b00afa95fa3187fbf9670ee08c696250dfd4f\", \"correct string value of answer5_1_0 but incorrect case of letters\"\n",
    "\n",
    "print('Success!')"
   ]
  },
  {
   "cell_type": "markdown",
   "metadata": {
    "deletable": false,
    "editable": false,
    "nbgrader": {
     "cell_type": "markdown",
     "checksum": "c2b639e8e104edcaa04474a14d98a4a3",
     "grade": false,
     "grade_id": "cell-f920cb84f6e8944d",
     "locked": true,
     "schema_version": 3,
     "solution": false,
     "task": false
    }
   },
   "source": [
    "**Question 5.1.1** Multiple Choice: \n",
    "<br> {points: 0}\n",
    "\n",
    "What is going to be the x-axis of the scatter plot we create?\n",
    "\n",
    "A. compound annual growth rate\n",
    "\n",
    "B. the value of the gross world product\n",
    "\n",
    "C. year\n",
    "\n",
    "*Assign your answer to an object called `answer5_1_1`. Make sure your answer is an uppercase letter and is surrounded by quotation marks (e.g. `\"F\"`).* "
   ]
  },
  {
   "cell_type": "code",
   "execution_count": null,
   "metadata": {
    "deletable": false,
    "nbgrader": {
     "cell_type": "code",
     "checksum": "b1fe5be98b34ca81ddfde3d48a63a99a",
     "grade": false,
     "grade_id": "cell-09fc2b26ac527015",
     "locked": false,
     "schema_version": 3,
     "solution": true,
     "task": false
    }
   },
   "outputs": [],
   "source": [
    "# your code here\n",
    "raise NotImplementedError"
   ]
  },
  {
   "cell_type": "code",
   "execution_count": null,
   "metadata": {
    "deletable": false,
    "editable": false,
    "nbgrader": {
     "cell_type": "code",
     "checksum": "dcf658660ce4abfda90b311adfe50144",
     "grade": true,
     "grade_id": "cell-3e8412c02d763ddf",
     "locked": true,
     "points": 0,
     "schema_version": 3,
     "solution": false,
     "task": false
    }
   },
   "outputs": [],
   "source": [
    "from hashlib import sha1\n",
    "assert sha1(str(type(answer5_1_1)).encode(\"utf-8\")+b\"cf7818d7be55b2cb\").hexdigest() == \"d02e4e6ec774612670ea2b934b48a816ea2c6b1a\", \"type of answer5_1_1 is not str. answer5_1_1 should be an str\"\n",
    "assert sha1(str(len(answer5_1_1)).encode(\"utf-8\")+b\"cf7818d7be55b2cb\").hexdigest() == \"3bfb77f10c2692b85878b4f10b7cfe8debf5e2e1\", \"length of answer5_1_1 is not correct\"\n",
    "assert sha1(str(answer5_1_1.lower()).encode(\"utf-8\")+b\"cf7818d7be55b2cb\").hexdigest() == \"f043d8665007c5847b34e4d09c486055f36abbea\", \"value of answer5_1_1 is not correct\"\n",
    "assert sha1(str(answer5_1_1).encode(\"utf-8\")+b\"cf7818d7be55b2cb\").hexdigest() == \"e893cb69171dd51b46225135dc271342879c7279\", \"correct string value of answer5_1_1 but incorrect case of letters\"\n",
    "\n",
    "print('Success!')"
   ]
  },
  {
   "cell_type": "markdown",
   "metadata": {
    "deletable": false,
    "editable": false,
    "nbgrader": {
     "cell_type": "markdown",
     "checksum": "371079d4c01b24ed14ca1265959ff8b5",
     "grade": false,
     "grade_id": "cell-98dab9f796764883",
     "locked": true,
     "schema_version": 3,
     "solution": false,
     "task": false
    }
   },
   "source": [
    "We need to now load the `BeautifulSoup` and `requests` package to begin our web scraping!"
   ]
  },
  {
   "cell_type": "code",
   "execution_count": null,
   "metadata": {
    "deletable": false,
    "editable": false,
    "nbgrader": {
     "cell_type": "code",
     "checksum": "c3a691ab0db6376fc3918f12efd89736",
     "grade": false,
     "grade_id": "cell-5c4120dd33e96704",
     "locked": true,
     "schema_version": 3,
     "solution": false,
     "task": false
    }
   },
   "outputs": [],
   "source": [
    "# Run this cell\n",
    "import requests\n",
    "from bs4 import BeautifulSoup"
   ]
  },
  {
   "cell_type": "markdown",
   "metadata": {
    "deletable": false,
    "editable": false,
    "nbgrader": {
     "cell_type": "markdown",
     "checksum": "366acf04d7b28d534bf3ffb313d1c8d9",
     "grade": false,
     "grade_id": "cell-2e1088d94c071532",
     "locked": true,
     "schema_version": 3,
     "solution": false,
     "task": false
    }
   },
   "source": [
    "**Question 5.2**\n",
    "<br> {points: 0}\n",
    "\n",
    "To download information from the URL, we should create a `BeautifulSoup` object using the url given in the cell below. We need to use the `.get` function from `request` package to get the url and then pass it into `BeautifulSoup` function.\n",
    "\n",
    "*Assign your answer to an object called `gwp`.*"
   ]
  },
  {
   "cell_type": "code",
   "execution_count": null,
   "metadata": {
    "deletable": false,
    "nbgrader": {
     "cell_type": "code",
     "checksum": "1a2f138948eb19fb04a947cef0c4578f",
     "grade": false,
     "grade_id": "cell-ac271e91bb5e69e8",
     "locked": false,
     "schema_version": 3,
     "solution": true,
     "task": false
    }
   },
   "outputs": [],
   "source": [
    "url = \"https://en.wikipedia.org/wiki/Gross_world_product\"\n",
    "\n",
    "# your code here\n",
    "raise NotImplementedError"
   ]
  },
  {
   "cell_type": "code",
   "execution_count": null,
   "metadata": {
    "deletable": false,
    "editable": false,
    "nbgrader": {
     "cell_type": "code",
     "checksum": "51a4eeb9c0d461c6f3a0f904516eefb0",
     "grade": true,
     "grade_id": "cell-70aac0a17c2d3ce8",
     "locked": true,
     "points": 0,
     "schema_version": 3,
     "solution": false,
     "task": false
    }
   },
   "outputs": [],
   "source": [
    "from hashlib import sha1\n",
    "assert sha1(str(type(gwp.__module__ == 'bs4')).encode(\"utf-8\")+b\"1aed16c152336cce\").hexdigest() == \"a494419bc8ab47f6cd52ac346e7f65d121bb0823\", \"type of gwp.__module__ == 'bs4' is not bool. gwp.__module__ == 'bs4' should be a bool\"\n",
    "assert sha1(str(gwp.__module__ == 'bs4').encode(\"utf-8\")+b\"1aed16c152336cce\").hexdigest() == \"f4460571f1dec9dc03404f21108edc09dcee2835\", \"boolean value of gwp.__module__ == 'bs4' is not correct\"\n",
    "\n",
    "assert sha1(str(type(len(gwp.find_all(\"table\")))).encode(\"utf-8\")+b\"0785c62b63420074\").hexdigest() == \"efb7babb3846d141d96c15560f2de08af82a4042\", \"type of len(gwp.find_all(\\\"table\\\")) is not int. Please make sure it is int and not np.int64, etc. You can cast your value into an int using int()\"\n",
    "assert sha1(str(len(gwp.find_all(\"table\"))).encode(\"utf-8\")+b\"0785c62b63420074\").hexdigest() == \"4e7d8726b71b6d8f2a7f88cb6a2aa0e8303fe98a\", \"value of len(gwp.find_all(\\\"table\\\")) is not correct\"\n",
    "\n",
    "print('Success!')"
   ]
  },
  {
   "cell_type": "markdown",
   "metadata": {
    "deletable": false,
    "editable": false,
    "nbgrader": {
     "cell_type": "markdown",
     "checksum": "7129ffcaa9747d97df7ddc768a9793bd",
     "grade": false,
     "grade_id": "cell-2234b2d30087a603",
     "locked": true,
     "schema_version": 3,
     "solution": false,
     "task": false
    }
   },
   "source": [
    "**Question 5.3**\n",
    "\n",
    "Run the cell below to create the first column of your data set (the year from the table under the \"Historical and prehistorical estimates\" header). The node was obtained using `CSS selector`. "
   ]
  },
  {
   "cell_type": "code",
   "execution_count": null,
   "metadata": {
    "deletable": false,
    "editable": false,
    "nbgrader": {
     "cell_type": "code",
     "checksum": "27673aa65cce5131b39c42ee34be25a6",
     "grade": false,
     "grade_id": "cell-d58e889638d61873",
     "locked": true,
     "schema_version": 3,
     "solution": false,
     "task": false
    }
   },
   "outputs": [],
   "source": [
    "# Run this cell to create the first column for your data set.\n",
    "\n",
    "year = pd.DataFrame(\n",
    "    [\n",
    "        row.get_text()  # get the content of each rows that extracted from the table\n",
    "        for row in gwp.select(\n",
    "            \".wikitable tbody:nth-child(1) td:nth-child(1)\"\n",
    "        )  # get each rows in the table\n",
    "    ],\n",
    "    columns=[\"year\"],  # set the column name\n",
    ")\n",
    "year.head()"
   ]
  },
  {
   "cell_type": "markdown",
   "metadata": {
    "deletable": false,
    "editable": false,
    "nbgrader": {
     "cell_type": "markdown",
     "checksum": "195a0921842635898d51ce4a677915b7",
     "grade": false,
     "grade_id": "cell-5017ed82d1225440",
     "locked": true,
     "schema_version": 3,
     "solution": false,
     "task": false
    }
   },
   "source": [
    "We can see that although we want numbers for the year, the data we scraped includes the characters `CE` and `\\n` (a newline character). We will have to do some string manipulation and then convert the years from characters to numbers. \n",
    "\n",
    "First we use the `replace` function to match the regex representation for string `\" CE\\n\"` and replace it with nothing `\"\"`:"
   ]
  },
  {
   "cell_type": "code",
   "execution_count": null,
   "metadata": {
    "deletable": false,
    "editable": false,
    "nbgrader": {
     "cell_type": "code",
     "checksum": "68aa45a86df89a3798b3e39c26ea5452",
     "grade": false,
     "grade_id": "cell-6ec2fdfaf8589ac4",
     "locked": true,
     "schema_version": 3,
     "solution": false,
     "task": false
    }
   },
   "outputs": [],
   "source": [
    "year = year.replace(\" CE\\n\", \"\", regex=True)\n",
    "year.head()"
   ]
  },
  {
   "cell_type": "markdown",
   "metadata": {
    "deletable": false,
    "editable": false,
    "nbgrader": {
     "cell_type": "markdown",
     "checksum": "eac779bbba085dcccbdbcc710e74de99",
     "grade": false,
     "grade_id": "cell-a59dce30f27441db",
     "locked": true,
     "schema_version": 3,
     "solution": false,
     "task": false
    }
   },
   "source": [
    "When we print year, we can see we were able to remove `\" CE\\n\"`, but we missed that there is also `\" BCE\\n\"` on the earliest years! There are also commas (`\",\"`) in the large BC years that we will have to remove. We also need to put a `-` sign in front of the BC numbers so we don't confuse them with the AD numbers after we convert everything to numbers. To do this we will need to use a similar strategy to clean this all up! \n",
    "\n",
    "This week we will provide you the code to do this cleaning, next week you will learn to do these kinds of things yourself. After we do all the string/text manipulation then we use the `astype(int)` function to convert the text to integers."
   ]
  },
  {
   "cell_type": "code",
   "execution_count": null,
   "metadata": {
    "deletable": false,
    "editable": false,
    "nbgrader": {
     "cell_type": "code",
     "checksum": "7b050eda7cf9284fe8d6cd3baad88d88",
     "grade": false,
     "grade_id": "cell-5f56ac2571cf0dea",
     "locked": true,
     "schema_version": 3,
     "solution": false,
     "task": false
    }
   },
   "outputs": [],
   "source": [
    "# select the lines containing \" BC\\n\" and put a - at the beginning of them.\n",
    "\n",
    "year[year[\"year\"].str.contains(\" BCE\\n\", regex=True)] = \"-\" + year[\n",
    "    year[\"year\"].str.contains(\" BCE\\n\", regex=True)\n",
    "].replace(\" BCE\\n\", \"\", regex=True)\n",
    "\n",
    "\n",
    "year"
   ]
  },
  {
   "cell_type": "code",
   "execution_count": null,
   "metadata": {
    "deletable": false,
    "editable": false,
    "nbgrader": {
     "cell_type": "code",
     "checksum": "bf7616f5e6287931174970c316783417",
     "grade": false,
     "grade_id": "cell-17f4637ad6306778",
     "locked": true,
     "schema_version": 3,
     "solution": false,
     "task": false
    }
   },
   "outputs": [],
   "source": [
    "# Replace all commas with nothing and change them to integers\n",
    "year = year.replace(\",\", \"\", regex=True).astype(int)\n",
    "year"
   ]
  },
  {
   "cell_type": "markdown",
   "metadata": {
    "deletable": false,
    "editable": false,
    "nbgrader": {
     "cell_type": "markdown",
     "checksum": "828f3454c4524fb8b7c9b7e71cd06b3b",
     "grade": false,
     "grade_id": "cell-5534fe310273b2d8",
     "locked": true,
     "schema_version": 3,
     "solution": false,
     "task": false
    }
   },
   "source": [
    "**Question 5.4**\n",
    "<br> {points: 0}\n",
    "\n",
    "Create a new column for the gross world product (GWP) from the table we are scraping. Don't forget to use `CCS selector` to obtain the CSS selector needed to scrape the GWP values from the table we are scraping. Assign your answer to an object called `gwp_value`. \n",
    "\n",
    "Fill in the `___` in the cell below. \n",
    "\n",
    "Refer to **Question 5.3** and don't be afraid to ask for help. "
   ]
  },
  {
   "cell_type": "code",
   "execution_count": null,
   "metadata": {
    "deletable": false,
    "nbgrader": {
     "cell_type": "code",
     "checksum": "e54186b65d73ec48765e6855014a0bd3",
     "grade": false,
     "grade_id": "cell-86deddef163bcc73",
     "locked": false,
     "schema_version": 3,
     "solution": true,
     "task": false
    }
   },
   "outputs": [],
   "source": [
    "# ___ = pd.DataFrame(\n",
    "#     [\n",
    "#         row.get_text()\n",
    "#         for row in gwp.select(___)\n",
    "#     ],\n",
    "#     columns=[___],\n",
    "# )\n",
    "\n",
    "# your code here\n",
    "raise NotImplementedError\n",
    "gwp_value.head()"
   ]
  },
  {
   "cell_type": "code",
   "execution_count": null,
   "metadata": {
    "deletable": false,
    "editable": false,
    "nbgrader": {
     "cell_type": "code",
     "checksum": "fe4158f0552a63e1c5769b03523c3501",
     "grade": true,
     "grade_id": "cell-438addc1687e3917",
     "locked": true,
     "points": 0,
     "schema_version": 3,
     "solution": false,
     "task": false
    }
   },
   "outputs": [],
   "source": [
    "from hashlib import sha1\n",
    "assert sha1(str(type(gwp_value.dtypes)).encode(\"utf-8\")+b\"1b6742780efe92bc\").hexdigest() == \"defefaa06258fae6e8033199c22bb1681c947041\", \"type of gwp_value.dtypes is not correct\"\n",
    "assert sha1(str(gwp_value.dtypes).encode(\"utf-8\")+b\"1b6742780efe92bc\").hexdigest() == \"320e0190ce9a0f4f9a006ed9a74e5f762b37de37\", \"value of gwp_value.dtypes is not correct\"\n",
    "\n",
    "print('Success!')"
   ]
  },
  {
   "cell_type": "markdown",
   "metadata": {
    "deletable": false,
    "editable": false,
    "nbgrader": {
     "cell_type": "markdown",
     "checksum": "f2da4861b74815f6816c643958aa5f18",
     "grade": false,
     "grade_id": "cell-e1b4a2d4eaaf451c",
     "locked": true,
     "schema_version": 3,
     "solution": false,
     "task": false
    }
   },
   "source": [
    "Again, looking at the output of `gwp_value.head()` we see we have some cleaning and type conversions to do. We need to remove the commas, the extraneous trailing information in the first 3 columns, and the `\"\\n\"` character again. We provide the code to do this below:"
   ]
  },
  {
   "cell_type": "code",
   "execution_count": null,
   "metadata": {
    "deletable": false,
    "editable": false,
    "nbgrader": {
     "cell_type": "code",
     "checksum": "64d0f6b670e3ecc83fc4a6c27f3b68c2",
     "grade": false,
     "grade_id": "cell-aae7d3c8f4ba3865",
     "locked": true,
     "schema_version": 3,
     "solution": false,
     "task": false
    }
   },
   "outputs": [],
   "source": [
    "# Run this cell to clean up the year data and convert it to a number.\n",
    "\n",
    "# Replace all commas with nothing\n",
    "gwp_value = gwp_value.replace(\",\", \"\", regex=True)\n",
    "\n",
    "# Extract numerics and change strings to numeric.\n",
    "gwp_value[\"gwp_value\"] = gwp_value[\"gwp_value\"].str.extract(r\"([0-9.]+)\").astype(float)\n",
    "\n",
    "gwp_value.head()"
   ]
  },
  {
   "cell_type": "markdown",
   "metadata": {
    "deletable": false,
    "editable": false,
    "nbgrader": {
     "cell_type": "markdown",
     "checksum": "c5699cc6c3107bee59357b9f26ba3cbc",
     "grade": false,
     "grade_id": "cell-09d2f7df73b5e750",
     "locked": true,
     "schema_version": 3,
     "solution": false,
     "task": false
    }
   },
   "source": [
    "**Question 5.5**\n",
    "<br> {points: 0}\n",
    "\n",
    "Use the `pandas` `concat` function to create a data frame named `gwp` with `year` and `gwp_value` as columns. The general form for the creating data frames from dataframes horizontally using the `concat` function is as follows (`axis=1` means we are doing the concatenation horizontally):\n",
    "\n",
    "```pd.concat([COLUMN1_NAME, COLUMN2_NAME, COLUMN3_NAME, ...], axis=1)```\n"
   ]
  },
  {
   "cell_type": "code",
   "execution_count": null,
   "metadata": {
    "deletable": false,
    "nbgrader": {
     "cell_type": "code",
     "checksum": "7ceaea6486f897d9c6a00e3c63984069",
     "grade": false,
     "grade_id": "cell-0bc1cb6696cf0426",
     "locked": false,
     "schema_version": 3,
     "solution": true,
     "task": false
    }
   },
   "outputs": [],
   "source": [
    "# ___ = pd.concat(___, axis=1)\n",
    "\n",
    "# your code here\n",
    "raise NotImplementedError\n",
    "gwp.head()"
   ]
  },
  {
   "cell_type": "code",
   "execution_count": null,
   "metadata": {
    "deletable": false,
    "editable": false,
    "nbgrader": {
     "cell_type": "code",
     "checksum": "f135953d38e9d16f600f915a44942f0e",
     "grade": true,
     "grade_id": "cell-3cba4415a994f8a4",
     "locked": true,
     "points": 0,
     "schema_version": 3,
     "solution": false,
     "task": false
    }
   },
   "outputs": [],
   "source": [
    "from hashlib import sha1\n",
    "assert sha1(str(type(gwp)).encode(\"utf-8\")+b\"b76a7e57e68e3c6c\").hexdigest() == \"2fcf83f31863b8e31f9e23a79d4eb72518a591ad\", \"type of type(gwp) is not correct\"\n",
    "\n",
    "assert sha1(str(type(\"year\" in gwp.columns)).encode(\"utf-8\")+b\"01a085e3a40476fd\").hexdigest() == \"0f929880f2dbd5c7b64b0203bd5cc7ad6de5566d\", \"type of \\\"year\\\" in gwp.columns is not bool. \\\"year\\\" in gwp.columns should be a bool\"\n",
    "assert sha1(str(\"year\" in gwp.columns).encode(\"utf-8\")+b\"01a085e3a40476fd\").hexdigest() == \"3a5ac9f74d6aa807b49da210433af9cfac17ec7d\", \"boolean value of \\\"year\\\" in gwp.columns is not correct\"\n",
    "\n",
    "assert sha1(str(type(\"gwp_value\" in gwp.columns)).encode(\"utf-8\")+b\"87bcd30be69a9abd\").hexdigest() == \"25c4d11605e07f6fc60959be6894c59f77914abf\", \"type of \\\"gwp_value\\\" in gwp.columns is not bool. \\\"gwp_value\\\" in gwp.columns should be a bool\"\n",
    "assert sha1(str(\"gwp_value\" in gwp.columns).encode(\"utf-8\")+b\"87bcd30be69a9abd\").hexdigest() == \"cb9e9ec296baea18d86a834166d0d26747ae326d\", \"boolean value of \\\"gwp_value\\\" in gwp.columns is not correct\"\n",
    "\n",
    "print('Success!')"
   ]
  },
  {
   "cell_type": "markdown",
   "metadata": {
    "deletable": false,
    "editable": false,
    "nbgrader": {
     "cell_type": "markdown",
     "checksum": "8578008b017e683d780578ab6e158b8e",
     "grade": false,
     "grade_id": "cell-503877c2d6e4925b",
     "locked": true,
     "schema_version": 3,
     "solution": false,
     "task": false
    }
   },
   "source": [
    "One last piece of data transformation/wrangling we will do before we get to data visualization is to create another column called `sqrt_year` which scales the year values so that they will be more informative when we plot them (if you look at our year data we have a lot of years in the recent past, and fewer and fewer as we go back in time). Often times you can just transform the scale within `altair` (for example see what we do with the `gwp_value` later on), but the year value is tricky for scaling because it contains negative values. So we need to first make everything positive, then take the square root, and then re-transform the values that should be negative to negative again! We provide the code to do this below."
   ]
  },
  {
   "cell_type": "markdown",
   "metadata": {
    "deletable": false,
    "editable": false,
    "nbgrader": {
     "cell_type": "markdown",
     "checksum": "4d7fd45b3294f0846ac355c8854fa1bd",
     "grade": false,
     "grade_id": "cell-5fa1e339bd0afeb2",
     "locked": true,
     "schema_version": 3,
     "solution": false,
     "task": false
    }
   },
   "source": [
    "To get the square root for a dataframe, we could use the `np.sqrt` function from the `numpy` package. And we could use `np.where` function from the `numpy` package to wrangle the data based on its values. Therefore, we would need to import the `numpy` package first. "
   ]
  },
  {
   "cell_type": "code",
   "execution_count": null,
   "metadata": {
    "deletable": false,
    "editable": false,
    "nbgrader": {
     "cell_type": "code",
     "checksum": "c108b40fa9034c4d81c36a6264d996b9",
     "grade": false,
     "grade_id": "cell-0b4d2b2a6677aab2",
     "locked": true,
     "schema_version": 3,
     "solution": false,
     "task": false
    }
   },
   "outputs": [],
   "source": [
    "import numpy as np"
   ]
  },
  {
   "cell_type": "code",
   "execution_count": null,
   "metadata": {
    "deletable": false,
    "editable": false,
    "nbgrader": {
     "cell_type": "code",
     "checksum": "28e4a12cc2e9649552edc18d2ac6e0e2",
     "grade": false,
     "grade_id": "cell-44ac8d8ce7b36e58",
     "locked": true,
     "schema_version": 3,
     "solution": false,
     "task": false
    }
   },
   "outputs": [],
   "source": [
    "gwp = gwp.assign(\n",
    "    sqrt_year=np.where(year < 0, np.sqrt(abs(year)) * -1, np.sqrt(abs(year)))\n",
    ")\n",
    "gwp.head()"
   ]
  },
  {
   "cell_type": "markdown",
   "metadata": {
    "deletable": false,
    "editable": false,
    "nbgrader": {
     "cell_type": "markdown",
     "checksum": "6bfc60c076a6425a22f48e63cf8cd790",
     "grade": false,
     "grade_id": "cell-1833f7c5bde23c49",
     "locked": true,
     "schema_version": 3,
     "solution": false,
     "task": false
    }
   },
   "source": [
    "**Question 5.6**\n",
    "<br> {points: 0}\n",
    "\n",
    "Create a line plot using the `gwp` data frame where `sqrt_year` is on the x-axis and `gwp_value` is on the y-axis. Name your plot object `gwp_historical`. To make a line plot instead of a scatter plot you should use the `mark_line` function instead of the `mark_point` function. *Note that we provide the plot code to relabel the x-axis with the human understandable years instead of the tranformed ones we plot.*"
   ]
  },
  {
   "cell_type": "code",
   "execution_count": null,
   "metadata": {
    "deletable": false,
    "nbgrader": {
     "cell_type": "code",
     "checksum": "d219d60604ee0524e4ccc4d7dd49b402",
     "grade": false,
     "grade_id": "cell-8cee40703d450fc0",
     "locked": false,
     "schema_version": 3,
     "solution": true,
     "task": false
    }
   },
   "outputs": [],
   "source": [
    "# ___ = alt.Chart(gwp).mark_line().encode(\n",
    "#     x=alt.X(\"___\").\n",
    "#         .title(\"___\")\n",
    "#         .axis(values=[-1000, -750, -500, -250, -77.7, 0, 38.7]),\n",
    "#     y=alt.Y(\"___\")\n",
    "#         .scale(type=\"log\", base=10),\n",
    "#         .title(\"Gross World Domestic Product ($ billions)\")\n",
    "# )\n",
    "\n",
    "# your code here\n",
    "raise NotImplementedError\n",
    "\n",
    "gwp_historical"
   ]
  },
  {
   "cell_type": "code",
   "execution_count": null,
   "metadata": {
    "deletable": false,
    "editable": false,
    "nbgrader": {
     "cell_type": "code",
     "checksum": "f0e6abef9784e26e5483aebad3cbb9a0",
     "grade": true,
     "grade_id": "cell-777c68035ed0cf31",
     "locked": true,
     "points": 0,
     "schema_version": 3,
     "solution": false,
     "task": false
    }
   },
   "outputs": [],
   "source": [
    "from hashlib import sha1\n",
    "assert sha1(str(type(gwp_historical.mark)).encode(\"utf-8\")+b\"b6813862709ca50c\").hexdigest() == \"71a963e58a9759827e1bf38352098f02f3adff26\", \"type of gwp_historical.mark is not str. gwp_historical.mark should be an str\"\n",
    "assert sha1(str(len(gwp_historical.mark)).encode(\"utf-8\")+b\"b6813862709ca50c\").hexdigest() == \"c354252e6ed9ef67a0bea1e73509537352061fe0\", \"length of gwp_historical.mark is not correct\"\n",
    "assert sha1(str(gwp_historical.mark.lower()).encode(\"utf-8\")+b\"b6813862709ca50c\").hexdigest() == \"f69bc00bdb4a57362c6cd76cd4703dabd15974c3\", \"value of gwp_historical.mark is not correct\"\n",
    "assert sha1(str(gwp_historical.mark).encode(\"utf-8\")+b\"b6813862709ca50c\").hexdigest() == \"f69bc00bdb4a57362c6cd76cd4703dabd15974c3\", \"correct string value of gwp_historical.mark but incorrect case of letters\"\n",
    "\n",
    "assert sha1(str(type(isinstance(gwp_historical.encoding.x['title'], str))).encode(\"utf-8\")+b\"42240ad9ef8e1d9d\").hexdigest() == \"2a47a20adcd9375a1e945b7e526b56d75431af4c\", \"type of isinstance(gwp_historical.encoding.x['title'], str) is not bool. isinstance(gwp_historical.encoding.x['title'], str) should be a bool\"\n",
    "assert sha1(str(isinstance(gwp_historical.encoding.x['title'], str)).encode(\"utf-8\")+b\"42240ad9ef8e1d9d\").hexdigest() == \"e34402c0daa21d06bfe81aa913b33509786d971e\", \"boolean value of isinstance(gwp_historical.encoding.x['title'], str) is not correct\"\n",
    "\n",
    "assert sha1(str(type(isinstance(gwp_historical.encoding.y['title'], str))).encode(\"utf-8\")+b\"e197d43707ed2195\").hexdigest() == \"3202dc22709a623b1b1b0c476c5161d7758157f2\", \"type of isinstance(gwp_historical.encoding.y['title'], str) is not bool. isinstance(gwp_historical.encoding.y['title'], str) should be a bool\"\n",
    "assert sha1(str(isinstance(gwp_historical.encoding.y['title'], str)).encode(\"utf-8\")+b\"e197d43707ed2195\").hexdigest() == \"d39cea2922d8fc3725b2c0c592f4e604a52decd0\", \"boolean value of isinstance(gwp_historical.encoding.y['title'], str) is not correct\"\n",
    "\n",
    "print('Success!')"
   ]
  },
  {
   "cell_type": "markdown",
   "metadata": {
    "deletable": false,
    "editable": false,
    "nbgrader": {
     "cell_type": "markdown",
     "checksum": "ddfce3f64ae303089d813894eeb0f952",
     "grade": false,
     "grade_id": "cell-9fad67ebf88a44dc",
     "locked": true,
     "schema_version": 3,
     "solution": false,
     "task": false
    }
   },
   "source": [
    "**Question 5.7** \n",
    "<br> {points: 0}\n",
    "\n",
    "Looking at the line plot, when does the Gross World Domestic Product first start to more rapidly increase (i.e., when does the slope of the line first change)? \n",
    "\n",
    "A. roughly around year -1,000,000\n",
    "\n",
    "B. roughly around year -250,000\n",
    "\n",
    "C. roughly around year -5000\n",
    "\n",
    "D. roughly around year 1500\n",
    "\n",
    "\n",
    "*Assign your answer to an object called `answer5_7`. Make sure your answer is an uppercase letter and is surrounded by quotation marks (e.g. `\"F\"`).*"
   ]
  },
  {
   "cell_type": "code",
   "execution_count": null,
   "metadata": {
    "deletable": false,
    "nbgrader": {
     "cell_type": "code",
     "checksum": "c7de244efa32574a6b8f41b0d036c189",
     "grade": false,
     "grade_id": "cell-f5b7b1abc10c4c10",
     "locked": false,
     "schema_version": 3,
     "solution": true,
     "task": false
    }
   },
   "outputs": [],
   "source": [
    "# your code here\n",
    "raise NotImplementedError"
   ]
  },
  {
   "cell_type": "code",
   "execution_count": null,
   "metadata": {
    "deletable": false,
    "editable": false,
    "nbgrader": {
     "cell_type": "code",
     "checksum": "c795ebc0ee935a40fbd585a82a647dde",
     "grade": true,
     "grade_id": "cell-1f98d6f7bb212ed9",
     "locked": true,
     "points": 0,
     "schema_version": 3,
     "solution": false,
     "task": false
    }
   },
   "outputs": [],
   "source": [
    "from hashlib import sha1\n",
    "assert sha1(str(type(answer5_7)).encode(\"utf-8\")+b\"d67a9b44e1472528\").hexdigest() == \"9a940aa10e455aa6c243552386f52301928e1fab\", \"type of answer5_7 is not str. answer5_7 should be an str\"\n",
    "assert sha1(str(len(answer5_7)).encode(\"utf-8\")+b\"d67a9b44e1472528\").hexdigest() == \"7bf7c06c1c1b37d603ebe82127117518d6ac9eba\", \"length of answer5_7 is not correct\"\n",
    "assert sha1(str(answer5_7.lower()).encode(\"utf-8\")+b\"d67a9b44e1472528\").hexdigest() == \"81ab17eb5a4d41daf3fafa9f0f953308450e9855\", \"value of answer5_7 is not correct\"\n",
    "assert sha1(str(answer5_7).encode(\"utf-8\")+b\"d67a9b44e1472528\").hexdigest() == \"f49d3094e4c896ec2ecc74b39facdfa59d227a2c\", \"correct string value of answer5_7 but incorrect case of letters\"\n",
    "\n",
    "print('Success!')"
   ]
  },
  {
   "cell_type": "code",
   "execution_count": null,
   "metadata": {
    "deletable": false,
    "editable": false,
    "nbgrader": {
     "cell_type": "code",
     "checksum": "d0cf259c209162aeb29fdbf01cf45d80",
     "grade": false,
     "grade_id": "cell-e46f0ec8bbd820d5",
     "locked": true,
     "schema_version": 3,
     "solution": false,
     "task": false
    }
   },
   "outputs": [],
   "source": [
    "try:\n",
    "    os.remove(\"data/delay_data.csv\")\n",
    "except:\n",
    "    None"
   ]
  }
 ],
 "metadata": {
  "kernelspec": {
   "display_name": "Python 3 (ipykernel)",
   "language": "python",
   "name": "python3"
  },
  "language_info": {
   "codemirror_mode": {
    "name": "ipython",
    "version": 3
   },
   "file_extension": ".py",
   "mimetype": "text/x-python",
   "name": "python",
   "nbconvert_exporter": "python",
   "pygments_lexer": "ipython3",
   "version": "3.11.4"
  }
 },
 "nbformat": 4,
 "nbformat_minor": 4
}
