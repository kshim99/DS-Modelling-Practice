{
 "cells": [
  {
   "cell_type": "markdown",
   "metadata": {
    "deletable": false,
    "editable": false,
    "nbgrader": {
     "cell_type": "markdown",
     "checksum": "c0a79a0f27081b90e3c0785746e41019",
     "grade": false,
     "grade_id": "cell-d7dff6881e80c256",
     "locked": true,
     "schema_version": 3,
     "solution": false,
     "task": false
    }
   },
   "source": [
    "# Worksheet 4: Effective Data Visualization \n",
    "\n",
    "\n",
    "### Lecture and Tutorial Learning Goals:\n",
    "\n",
    "Expand your data visualization knowledge and tool set beyond what we have seen and practiced so far. We will move beyond scatter plots and learn other effective ways to visualize data, as well as some general rules of thumb to follow when creating visualizations. All visualization tasks this week will be applied to real world data sets.\n",
    "\n",
    "\n",
    "After completing this week's lecture and tutorial work, you will be able to:\n",
    "\n",
    "- Describe when to use the following kinds of visualizations:\n",
    "    - scatter plots\n",
    "    - line plots\n",
    "    - bar plots\n",
    "- Given a dataset and a question, select from the above plot types to create a visualization that best answers the question\n",
    "- Given a visualization and a question, evaluate the effectiveness of the visualization and suggest improvements to better answer the question\n",
    "- Identify rules of thumb for creating effective visualizations\n",
    "- Define the two key aspects of altair objects:\n",
    "    - mark objects\n",
    "    - encodings\n",
    "- Use the `altair` library in Python to create and refine the above visualizations using:\n",
    "    - mark objects: `mark_point`, `mark_line`, `mark_bar`\n",
    "    - encodings : `x`, `y`, `color`, `shape`\n",
    "    - subplots: `facet`\n",
    "- Describe the difference in raster and vector output formats\n",
    "- Use `save` to save visualizations in `png` and `svg` formats\n",
    "\n",
    "This worksheet covers parts of [Chapter 4](https://python.datasciencebook.ca/viz.html) of the online textbook. You should read this chapter before attempting the worksheet.\n",
    "Any place you see `___`, you must fill in the function, variable, or data to complete the code. Substitute the `raise NotImplementedError` with your completed code and answers then proceed to run the cell!"
   ]
  },
  {
   "cell_type": "code",
   "execution_count": null,
   "metadata": {
    "deletable": false,
    "editable": false,
    "nbgrader": {
     "cell_type": "code",
     "checksum": "ab9016317260f86695723e8a05abffcf",
     "grade": false,
     "grade_id": "cell-1fdb1939e17b5421",
     "locked": true,
     "schema_version": 3,
     "solution": false,
     "task": false
    }
   },
   "outputs": [],
   "source": [
    "### Run this cell before continuing.\n",
    "import altair as alt\n",
    "import pandas as pd\n",
    "\n",
    "# Simplify working with large datasets in Altair\n",
    "alt.data_transformers.disable_max_rows()"
   ]
  },
  {
   "cell_type": "markdown",
   "metadata": {
    "deletable": false,
    "editable": false,
    "nbgrader": {
     "cell_type": "markdown",
     "checksum": "c3d3f2feb135bd29afd976588f7efc5d",
     "grade": false,
     "grade_id": "cell-3c378af00356c0f3",
     "locked": true,
     "schema_version": 3,
     "solution": false
    }
   },
   "source": [
    "**Question 0.1** True or False: \n",
    "<br> {points: 1}\n",
    "\n",
    "For each of the items below, which are encodings in `altair`? \n",
    "\n",
    "A. `color` <br>\n",
    "B. `scale` <br>\n",
    "C. `x` <br>\n",
    "D. `fill` <br>\n",
    "E. `type`\n",
    "\n",
    "*Assign either `True` or `False` for each to an object called `answer0_1_L` where `L` should be replaced by the letter corresponding to the question. For example, if above we had E. `type`, we would set `answer0_1_E = True`.*"
   ]
  },
  {
   "cell_type": "code",
   "execution_count": null,
   "metadata": {
    "deletable": false,
    "nbgrader": {
     "cell_type": "code",
     "checksum": "83dccd22df663b9ebdc461f955a6dfdd",
     "grade": false,
     "grade_id": "cell-d42b5b5cadd02544",
     "locked": false,
     "schema_version": 3,
     "solution": true
    }
   },
   "outputs": [],
   "source": [
    "# your code here\n",
    "raise NotImplementedError"
   ]
  },
  {
   "cell_type": "code",
   "execution_count": null,
   "metadata": {
    "deletable": false,
    "editable": false,
    "nbgrader": {
     "cell_type": "code",
     "checksum": "5de27930df39cec92416f19ac74cda47",
     "grade": true,
     "grade_id": "cell-65573b490f8813ec",
     "locked": true,
     "points": 1,
     "schema_version": 3,
     "solution": false
    }
   },
   "outputs": [],
   "source": [
    "from hashlib import sha1\n",
    "assert sha1(str(type(answer0_1_A)).encode(\"utf-8\")+b\"ff72bc3f4ed2f9f3\").hexdigest() == \"7bfed23aebbe2a8f9c98afd604a219fea41ecce0\", \"type of answer0_1_A is not bool. answer0_1_A should be a bool\"\n",
    "assert sha1(str(answer0_1_A).encode(\"utf-8\")+b\"ff72bc3f4ed2f9f3\").hexdigest() == \"6d2e87769fc0d3d9934b2c4dcda4c6bd3ed12e17\", \"boolean value of answer0_1_A is not correct\"\n",
    "\n",
    "assert sha1(str(type(answer0_1_B)).encode(\"utf-8\")+b\"745d41c864f468ed\").hexdigest() == \"aba84543d2e46561f3f5394281acdfa6e3f66d75\", \"type of answer0_1_B is not bool. answer0_1_B should be a bool\"\n",
    "assert sha1(str(answer0_1_B).encode(\"utf-8\")+b\"745d41c864f468ed\").hexdigest() == \"15a01bd199c656a1fe547daa49f84925b366d529\", \"boolean value of answer0_1_B is not correct\"\n",
    "\n",
    "assert sha1(str(type(answer0_1_C)).encode(\"utf-8\")+b\"931d361d3d2a26a2\").hexdigest() == \"11acbc92879afa27455c5f32c71623ce01359df8\", \"type of answer0_1_C is not bool. answer0_1_C should be a bool\"\n",
    "assert sha1(str(answer0_1_C).encode(\"utf-8\")+b\"931d361d3d2a26a2\").hexdigest() == \"88b46517c511971e0edde864e860a06a6270ea60\", \"boolean value of answer0_1_C is not correct\"\n",
    "\n",
    "assert sha1(str(type(answer0_1_D)).encode(\"utf-8\")+b\"f71543bcc364d9e3\").hexdigest() == \"4453e4df7a644f9c7cf9d274a8c58a29625ab265\", \"type of answer0_1_D is not bool. answer0_1_D should be a bool\"\n",
    "assert sha1(str(answer0_1_D).encode(\"utf-8\")+b\"f71543bcc364d9e3\").hexdigest() == \"d50d05b2e0809ba7cfa35b75465cca15b76633d8\", \"boolean value of answer0_1_D is not correct\"\n",
    "\n",
    "assert sha1(str(type(answer0_1_E)).encode(\"utf-8\")+b\"56965164c36b9862\").hexdigest() == \"ac9eed1fcfef31d1233982a2a67bb2e3ef7607a4\", \"type of answer0_1_E is not bool. answer0_1_E should be a bool\"\n",
    "assert sha1(str(answer0_1_E).encode(\"utf-8\")+b\"56965164c36b9862\").hexdigest() == \"8669852a47790ed92758bfb24aa0bf7072ef21fc\", \"boolean value of answer0_1_E is not correct\"\n",
    "\n",
    "print('Success!')"
   ]
  },
  {
   "cell_type": "markdown",
   "metadata": {
    "deletable": false,
    "editable": false,
    "nbgrader": {
     "cell_type": "markdown",
     "checksum": "bab60a5b1f7e4f0f5ccc2b355e758d2c",
     "grade": false,
     "grade_id": "cell-a7dfc6e8e27d0615",
     "locked": true,
     "schema_version": 3,
     "solution": false
    }
   },
   "source": [
    "**Question 0.2** Multiple Choice:\n",
    "<br> {points: 1}\n",
    "\n",
    "When deciding on the size of your visualization we recommend that you: \n",
    "\n",
    "A. Make the plot as small as possible to save space\n",
    "\n",
    "B. Make it as big as your screen allows to make it easier to see\n",
    "\n",
    "C. Use the default chart size in most cases, and resize when needed to ensure clear visualization\n",
    "\n",
    "*Assign your answer to an object called `answer0_2`. Make sure your answer is an uppercase letter and is surrounded by quotation marks (e.g. `\"F\"`).*"
   ]
  },
  {
   "cell_type": "code",
   "execution_count": null,
   "metadata": {
    "deletable": false,
    "nbgrader": {
     "cell_type": "code",
     "checksum": "8be46bf98f19a10eac0507b7b0c1f23c",
     "grade": false,
     "grade_id": "cell-46cbbfc18df2f1a2",
     "locked": false,
     "schema_version": 3,
     "solution": true
    }
   },
   "outputs": [],
   "source": [
    "# your code here\n",
    "raise NotImplementedError"
   ]
  },
  {
   "cell_type": "code",
   "execution_count": null,
   "metadata": {
    "deletable": false,
    "editable": false,
    "nbgrader": {
     "cell_type": "code",
     "checksum": "8174143696a855d062849b34f9ca7b68",
     "grade": true,
     "grade_id": "cell-165bb2f307f14e34",
     "locked": true,
     "points": 1,
     "schema_version": 3,
     "solution": false
    }
   },
   "outputs": [],
   "source": [
    "from hashlib import sha1\n",
    "assert sha1(str(type(answer0_2)).encode(\"utf-8\")+b\"e4d8d861053a84c2\").hexdigest() == \"27b31e025441467f95fced3a85fe270a3ec750f3\", \"type of answer0_2 is not str. answer0_2 should be an str\"\n",
    "assert sha1(str(len(answer0_2)).encode(\"utf-8\")+b\"e4d8d861053a84c2\").hexdigest() == \"ba02203abb374f3d9b4b23b55b90e7450bb0af71\", \"length of answer0_2 is not correct\"\n",
    "assert sha1(str(answer0_2.lower()).encode(\"utf-8\")+b\"e4d8d861053a84c2\").hexdigest() == \"2b5e4625af42de53c6f489134641688c121cfdf4\", \"value of answer0_2 is not correct\"\n",
    "assert sha1(str(answer0_2).encode(\"utf-8\")+b\"e4d8d861053a84c2\").hexdigest() == \"d89429b1815921e611973f2c40f2721ecaa9158f\", \"correct string value of answer0_2 but incorrect case of letters\"\n",
    "\n",
    "print('Success!')"
   ]
  },
  {
   "cell_type": "markdown",
   "metadata": {
    "deletable": false,
    "editable": false,
    "nbgrader": {
     "cell_type": "markdown",
     "checksum": "dd6827ddf5b4f38ded4e154456d53739",
     "grade": false,
     "grade_id": "cell-a64e6788a027a69c",
     "locked": true,
     "schema_version": 3,
     "solution": false
    }
   },
   "source": [
    "**Question 0.3** Multiple Choice:\n",
    "<br> {points: 1}\n",
    "\n",
    "Under what circumstance would you use a static (non-interactive) 3D plot?\n",
    "\n",
    "A. Anytime you have more than two variables that you want to show the relationship between\n",
    "\n",
    "B. When you want to emphasize the large difference between groups\n",
    "\n",
    "C. When you need to grab attention of your audience\n",
    "\n",
    "D. Rarely, we avoid 3D plots as it is difficult to visualize 3D information on a screen or on paper\n",
    "\n",
    "*Assign your answer to an object called `answer0_3`. Make sure your answer is an uppercase letter and is surrounded by quotation marks (e.g. `\"F\"`).*"
   ]
  },
  {
   "cell_type": "code",
   "execution_count": null,
   "metadata": {
    "deletable": false,
    "nbgrader": {
     "cell_type": "code",
     "checksum": "9c7b0b0c887e3c7398e94256b07bfb4e",
     "grade": false,
     "grade_id": "cell-e3a98de134b6b2f0",
     "locked": false,
     "schema_version": 3,
     "solution": true
    }
   },
   "outputs": [],
   "source": [
    "# your code here\n",
    "raise NotImplementedError"
   ]
  },
  {
   "cell_type": "code",
   "execution_count": null,
   "metadata": {
    "deletable": false,
    "editable": false,
    "nbgrader": {
     "cell_type": "code",
     "checksum": "42fe80838a6c40011eeaa2c4451a3eaa",
     "grade": true,
     "grade_id": "cell-521dc123937db46d",
     "locked": true,
     "points": 1,
     "schema_version": 3,
     "solution": false
    }
   },
   "outputs": [],
   "source": [
    "from hashlib import sha1\n",
    "assert sha1(str(type(answer0_3)).encode(\"utf-8\")+b\"2e3b4335dbabb0a5\").hexdigest() == \"9b5b76d3a38f8078593371ec019d91c5843df708\", \"type of answer0_3 is not str. answer0_3 should be an str\"\n",
    "assert sha1(str(len(answer0_3)).encode(\"utf-8\")+b\"2e3b4335dbabb0a5\").hexdigest() == \"cdba57ee65e45d48d6ee9d4bf08c090f4137030d\", \"length of answer0_3 is not correct\"\n",
    "assert sha1(str(answer0_3.lower()).encode(\"utf-8\")+b\"2e3b4335dbabb0a5\").hexdigest() == \"3d165a3ea93f15789d8dfad0821d0c12e665327c\", \"value of answer0_3 is not correct\"\n",
    "assert sha1(str(answer0_3).encode(\"utf-8\")+b\"2e3b4335dbabb0a5\").hexdigest() == \"3b4317b7cadbee42d6835a935bf0fbd735fa6e98\", \"correct string value of answer0_3 but incorrect case of letters\"\n",
    "\n",
    "print('Success!')"
   ]
  },
  {
   "cell_type": "markdown",
   "metadata": {
    "deletable": false,
    "editable": false,
    "nbgrader": {
     "cell_type": "markdown",
     "checksum": "1f2a939153e7d3122c65406e79df639c",
     "grade": false,
     "grade_id": "cell-7148c0706bcb2d4b",
     "locked": true,
     "schema_version": 3,
     "solution": false
    }
   },
   "source": [
    "**Question 0.4** Multiple Choice:\n",
    "<br> {points: 1}\n",
    "\n",
    "What is the symbol used to add a new layer to an `altair` chart?\n",
    "\n",
    "A. `<-`\n",
    "\n",
    "B. `>`\n",
    "\n",
    "C. `&`\n",
    "\n",
    "D. `+`\n",
    "\n",
    "*Assign your answer to an object called `answer0_4`. Make sure your answer is an uppercase letter and is surrounded by quotation marks (e.g. `\"F\"`).*"
   ]
  },
  {
   "cell_type": "code",
   "execution_count": null,
   "metadata": {
    "deletable": false,
    "nbgrader": {
     "cell_type": "code",
     "checksum": "d3d30e3d237755e0de706770d2b95925",
     "grade": false,
     "grade_id": "cell-ea7ba4f1243e667d",
     "locked": false,
     "schema_version": 3,
     "solution": true
    }
   },
   "outputs": [],
   "source": [
    "# your code here\n",
    "raise NotImplementedError"
   ]
  },
  {
   "cell_type": "code",
   "execution_count": null,
   "metadata": {
    "deletable": false,
    "editable": false,
    "nbgrader": {
     "cell_type": "code",
     "checksum": "b876415427ddff1a4a420ce76d3dfed5",
     "grade": true,
     "grade_id": "cell-5c15ea7ab4b4655e",
     "locked": true,
     "points": 1,
     "schema_version": 3,
     "solution": false
    }
   },
   "outputs": [],
   "source": [
    "from hashlib import sha1\n",
    "assert sha1(str(type(answer0_4)).encode(\"utf-8\")+b\"312e1f518aaa5e60\").hexdigest() == \"85e82fbc90be181d8830a2acf7c963b42ec0e110\", \"type of answer0_4 is not str. answer0_4 should be an str\"\n",
    "assert sha1(str(len(answer0_4)).encode(\"utf-8\")+b\"312e1f518aaa5e60\").hexdigest() == \"65bad813fbbf13dd9a3ceaf3f8622dbbb383896a\", \"length of answer0_4 is not correct\"\n",
    "assert sha1(str(answer0_4.lower()).encode(\"utf-8\")+b\"312e1f518aaa5e60\").hexdigest() == \"2334961d656654120a55e57c0ce2bcccdd4fe88f\", \"value of answer0_4 is not correct\"\n",
    "assert sha1(str(answer0_4).encode(\"utf-8\")+b\"312e1f518aaa5e60\").hexdigest() == \"4e76b383022574e95eb7110f12c3fe38c9809ef4\", \"correct string value of answer0_4 but incorrect case of letters\"\n",
    "\n",
    "print('Success!')"
   ]
  },
  {
   "cell_type": "markdown",
   "metadata": {
    "deletable": false,
    "editable": false,
    "nbgrader": {
     "cell_type": "markdown",
     "checksum": "09d5b8a1e178a7eca20abfc8f7823941",
     "grade": false,
     "grade_id": "cell-d33780730eef352c",
     "locked": true,
     "schema_version": 3,
     "solution": false,
     "task": false
    }
   },
   "source": [
    "**Question 0.5** Item Arrangement\n",
    "<br> {points: 1}\n",
    "\n",
    "Match the following graphical marks to their corresponding visualization purposes.\n",
    "\n",
    "1. `mark_point`\n",
    "2. `mark_line`\n",
    "3. `mark_bar`\n",
    "\n",
    "A. Comparing amounts  <br>\n",
    "B. Showing a trend with respect to an independent quantity  <br>\n",
    "C. Visualizing the relationship between two variables in two dimensions  <br>\n",
    "\n",
    "*Assign each single character answer (e.g. \"D\") to an object called `answer0_5_#` where `#` should be \n",
    "replaced by the number corresponding to the item. For example, if we wanted to match 1 to F, we would\n",
    "set `answer0_5_1 = \"F\"`.*"
   ]
  },
  {
   "cell_type": "code",
   "execution_count": null,
   "metadata": {
    "deletable": false,
    "nbgrader": {
     "cell_type": "code",
     "checksum": "bd622061e6c5fe3deed764e19932ea8d",
     "grade": false,
     "grade_id": "cell-3f32a93753a230e1",
     "locked": false,
     "schema_version": 3,
     "solution": true,
     "task": false
    }
   },
   "outputs": [],
   "source": [
    "# your code here\n",
    "raise NotImplementedError"
   ]
  },
  {
   "cell_type": "code",
   "execution_count": null,
   "metadata": {
    "deletable": false,
    "editable": false,
    "nbgrader": {
     "cell_type": "code",
     "checksum": "6bf7fe53ab97e946bcd2025a6aa8375d",
     "grade": true,
     "grade_id": "cell-7b95a04e22cfd223",
     "locked": true,
     "points": 1,
     "schema_version": 3,
     "solution": false,
     "task": false
    }
   },
   "outputs": [],
   "source": [
    "from hashlib import sha1\n",
    "assert sha1(str(type(answer0_5_1)).encode(\"utf-8\")+b\"700615109d0e40fd\").hexdigest() == \"196d9900bcd28e38a8c0d35a952334858885e973\", \"type of answer0_5_1 is not str. answer0_5_1 should be an str\"\n",
    "assert sha1(str(len(answer0_5_1)).encode(\"utf-8\")+b\"700615109d0e40fd\").hexdigest() == \"33baf034e6ed41a404c02019f5634949e33ab356\", \"length of answer0_5_1 is not correct\"\n",
    "assert sha1(str(answer0_5_1.lower()).encode(\"utf-8\")+b\"700615109d0e40fd\").hexdigest() == \"d62aaba0be4800fe324347ee32b4b01a222f085d\", \"value of answer0_5_1 is not correct\"\n",
    "assert sha1(str(answer0_5_1).encode(\"utf-8\")+b\"700615109d0e40fd\").hexdigest() == \"93165705f6754f64010ce77007e3c97a38ae1375\", \"correct string value of answer0_5_1 but incorrect case of letters\"\n",
    "\n",
    "assert sha1(str(type(answer0_5_2)).encode(\"utf-8\")+b\"badcd70058f1ae06\").hexdigest() == \"62eee5f3fc00889bf22305e80a0cb7a053fa0b02\", \"type of answer0_5_2 is not str. answer0_5_2 should be an str\"\n",
    "assert sha1(str(len(answer0_5_2)).encode(\"utf-8\")+b\"badcd70058f1ae06\").hexdigest() == \"43980b00b3223187f3ea3297f4f408d25f93ca58\", \"length of answer0_5_2 is not correct\"\n",
    "assert sha1(str(answer0_5_2.lower()).encode(\"utf-8\")+b\"badcd70058f1ae06\").hexdigest() == \"d057631ff31ad40390c809144c42450e62e499bb\", \"value of answer0_5_2 is not correct\"\n",
    "assert sha1(str(answer0_5_2).encode(\"utf-8\")+b\"badcd70058f1ae06\").hexdigest() == \"a0b3fc6b8f878bc52398c19306852a41b2af9291\", \"correct string value of answer0_5_2 but incorrect case of letters\"\n",
    "\n",
    "assert sha1(str(type(answer0_5_3)).encode(\"utf-8\")+b\"5440aee755dae803\").hexdigest() == \"804f3586285d869b037dbc3b0b4ec599a18f6663\", \"type of answer0_5_3 is not str. answer0_5_3 should be an str\"\n",
    "assert sha1(str(len(answer0_5_3)).encode(\"utf-8\")+b\"5440aee755dae803\").hexdigest() == \"f689fb517730a87ac39edaf1e2b3ed966aac6323\", \"length of answer0_5_3 is not correct\"\n",
    "assert sha1(str(answer0_5_3.lower()).encode(\"utf-8\")+b\"5440aee755dae803\").hexdigest() == \"2161299364a7a4b76a430581e02ff7a802a06b6a\", \"value of answer0_5_3 is not correct\"\n",
    "assert sha1(str(answer0_5_3).encode(\"utf-8\")+b\"5440aee755dae803\").hexdigest() == \"8ae8a09b8ebb3bd3d62faa2813aa3188e047d802\", \"correct string value of answer0_5_3 but incorrect case of letters\"\n",
    "\n",
    "print('Success!')"
   ]
  },
  {
   "cell_type": "markdown",
   "metadata": {
    "deletable": false,
    "editable": false,
    "nbgrader": {
     "cell_type": "markdown",
     "checksum": "5f66540df0550f6bce458b3273d5d302",
     "grade": false,
     "grade_id": "cell-603e82af426c3ceb",
     "locked": true,
     "schema_version": 3,
     "solution": false,
     "task": false
    }
   },
   "source": [
    "## 1. World Vaccination Trends\n",
    "\n",
    "Data scientists find work in all sectors of the economy and all types of organizations. Some work in collaboration with public sector organizations to solve problems that affect society, both at local and global scales. Today we will be looking at a global problem with real data from the [World Health Organization](https://www.who.int/) (WHO). According to WHO, Polio is a disease that affects mostly children younger than 5 years old, and to date there is no cure. However, when given a vaccine, children can develop sufficient antibodies in their system to be immune to the disease. Another disease, Hepatitis B, is also known to affect infants but in a chronic manner. There is also a vaccine for Hepatitis B available. \n",
    "\n",
    "The columns in the dataset are:\n",
    "\n",
    "- `who_region` - The WHO region of the world\n",
    "- `yr` - The year\n",
    "- `pct_vaccinated` - Estimated percentage of people vaccinated in the region\n",
    "- `vaccine` - Whether it's the `polio` or the `hepatitis_b` vaccine\n",
    "\n",
    "We want to know two things. First, has there been a change in Polio or Hepatitis B vaccination patterns throughout the years? And if so, what is that pattern? Second, have the vaccination patterns for one of these diseases changed more than the other? **The goal for today is to produce a plot of the estimated percentage of people vaccinated per year**. To do this, you will follow the steps outlined below.\n",
    "\n",
    "The original datasets are available here:\n",
    "   - Polio: http://apps.who.int/gho/data/view.main.81605?lang=en\n",
    "   - Hepatitis B: http://apps.who.int/gho/data/view.main.81300?lang=en\n",
    "   \n",
    "The data set we will work with for this worksheet however is named `world_vaccination.csv` and it lives in the `worksheet_04/data` directory."
   ]
  },
  {
   "cell_type": "markdown",
   "metadata": {
    "deletable": false,
    "editable": false,
    "nbgrader": {
     "cell_type": "markdown",
     "checksum": "3b503c9c084b1ee40cd79de5e4a071a4",
     "grade": false,
     "grade_id": "cell-6767e740b3c9df90",
     "locked": true,
     "schema_version": 3,
     "solution": false
    }
   },
   "source": [
    "**Question 1.0** Multiple Choice:\n",
    "<br> {points: 1}\n",
    "\n",
    "Consider the columns/variables `yr` and `pct_vaccinated`. These variables are:\n",
    "\n",
    "A. both quantitative (e.g., numerical).\n",
    "\n",
    "B. both categorical\n",
    "\n",
    "C. one is categorical and one is quantitative\n",
    "\n",
    "D. None of the above. \n",
    "\n",
    "*Assign your answer to an object called `answer1_0`. Make sure your answer is an uppercase letter and is surrounded by quotation marks (e.g. `\"F\"`).*"
   ]
  },
  {
   "cell_type": "code",
   "execution_count": null,
   "metadata": {
    "deletable": false,
    "nbgrader": {
     "cell_type": "code",
     "checksum": "8e815ada8ad9ac3ab3bb2b8a10f8e0a6",
     "grade": false,
     "grade_id": "cell-eeda947331564185",
     "locked": false,
     "schema_version": 3,
     "solution": true
    }
   },
   "outputs": [],
   "source": [
    "# your code here\n",
    "raise NotImplementedError"
   ]
  },
  {
   "cell_type": "code",
   "execution_count": null,
   "metadata": {
    "deletable": false,
    "editable": false,
    "nbgrader": {
     "cell_type": "code",
     "checksum": "88b1c5f56cc50d5e2c26ae7c5cb5f798",
     "grade": true,
     "grade_id": "cell-abc8ab4c34c2959d",
     "locked": true,
     "points": 1,
     "schema_version": 3,
     "solution": false
    }
   },
   "outputs": [],
   "source": [
    "from hashlib import sha1\n",
    "assert sha1(str(type(answer1_0)).encode(\"utf-8\")+b\"014061b7655150bd\").hexdigest() == \"61104dd0c10196aeef4faf362e4059cec6346244\", \"type of answer1_0 is not str. answer1_0 should be an str\"\n",
    "assert sha1(str(len(answer1_0)).encode(\"utf-8\")+b\"014061b7655150bd\").hexdigest() == \"fa8714b2886fb01e9defdd1d9c02a62681c63ea7\", \"length of answer1_0 is not correct\"\n",
    "assert sha1(str(answer1_0.lower()).encode(\"utf-8\")+b\"014061b7655150bd\").hexdigest() == \"c73f67a0453dcaeb5331b8327749806b244dc16a\", \"value of answer1_0 is not correct\"\n",
    "assert sha1(str(answer1_0).encode(\"utf-8\")+b\"014061b7655150bd\").hexdigest() == \"ea5fb2d91bb4a83b5b84a518029644efd0cfe17f\", \"correct string value of answer1_0 but incorrect case of letters\"\n",
    "\n",
    "print('Success!')"
   ]
  },
  {
   "cell_type": "markdown",
   "metadata": {
    "deletable": false,
    "editable": false,
    "nbgrader": {
     "cell_type": "markdown",
     "checksum": "09a6ba9973928692aedf8a56a554b1d7",
     "grade": false,
     "grade_id": "cell-cfc4be1132bff6c2",
     "locked": true,
     "schema_version": 3,
     "solution": false,
     "task": false
    }
   },
   "source": [
    "**Question 1.1** \n",
    "<br> {points: 1}\n",
    "\n",
    "Read the `world_vaccination.csv` file. We want to filter out the `(WHO) Global` region as it is just the average of the other regions (e.g. we want all of the columns except `(WHO) Global`). Also, Filter the data so that we don't have any NA's in the `pct_vaccinated` column. Assign your filtered data to an object called `world_vaccination`.\n",
    "\n",
    "*Hint: Remember that when you want to filter for rows that aren't equal to something you can use the `!=` operator.*"
   ]
  },
  {
   "cell_type": "code",
   "execution_count": null,
   "metadata": {
    "deletable": false,
    "nbgrader": {
     "cell_type": "code",
     "checksum": "5cba5503cd9a87b64795ff50b522b322",
     "grade": false,
     "grade_id": "cell-4f35092c147ceab5",
     "locked": false,
     "schema_version": 3,
     "solution": true
    }
   },
   "outputs": [],
   "source": [
    "# ___ = pd.___(___)\n",
    "# ___ = ___[___[___] != ___]\n",
    "\n",
    "# your code here\n",
    "raise NotImplementedError\n",
    "world_vaccination"
   ]
  },
  {
   "cell_type": "code",
   "execution_count": null,
   "metadata": {
    "deletable": false,
    "editable": false,
    "nbgrader": {
     "cell_type": "code",
     "checksum": "1dcd6da180abeba9c05d8ee57d60e9d3",
     "grade": true,
     "grade_id": "cell-4f295963a61ad122",
     "locked": true,
     "points": 1,
     "schema_version": 3,
     "solution": false
    }
   },
   "outputs": [],
   "source": [
    "from hashlib import sha1\n",
    "assert sha1(str(type(world_vaccination is None)).encode(\"utf-8\")+b\"d03c60c5f85269aa\").hexdigest() == \"8cf2f57f2b656aa87b621b01e5afc7137461bf11\", \"type of world_vaccination is None is not bool. world_vaccination is None should be a bool\"\n",
    "assert sha1(str(world_vaccination is None).encode(\"utf-8\")+b\"d03c60c5f85269aa\").hexdigest() == \"aad2d42ed3d870401f2f9e1e485f9bbd51b30022\", \"boolean value of world_vaccination is None is not correct\"\n",
    "\n",
    "assert sha1(str(type(world_vaccination)).encode(\"utf-8\")+b\"da807ae07268b97b\").hexdigest() == \"d94e54828ac31625b119a7fce6b9e29c0ff8c239\", \"type of type(world_vaccination) is not correct\"\n",
    "\n",
    "assert sha1(str(type(world_vaccination.isna().sum().values)).encode(\"utf-8\")+b\"b5e5e8dd2c028e7a\").hexdigest() == \"2fa376c362d950c0af5ad0efd62fae41dd0edbe4\", \"type of world_vaccination.isna().sum().values is not correct\"\n",
    "assert sha1(str(world_vaccination.isna().sum().values).encode(\"utf-8\")+b\"b5e5e8dd2c028e7a\").hexdigest() == \"68e7ea1c4e60da775b0708fbb7703303b08e3a02\", \"value of world_vaccination.isna().sum().values is not correct\"\n",
    "\n",
    "assert sha1(str(type(world_vaccination.shape)).encode(\"utf-8\")+b\"d8c0773c4152cb36\").hexdigest() == \"6eb662841c0f0e76bc8ffe94d8fb20490c7c1856\", \"type of world_vaccination.shape is not tuple. world_vaccination.shape should be a tuple\"\n",
    "assert sha1(str(len(world_vaccination.shape)).encode(\"utf-8\")+b\"d8c0773c4152cb36\").hexdigest() == \"6cb2c4d2b66de928d1a633e3a8b759d684d2fd0c\", \"length of world_vaccination.shape is not correct\"\n",
    "assert sha1(str(sorted(map(str, world_vaccination.shape))).encode(\"utf-8\")+b\"d8c0773c4152cb36\").hexdigest() == \"b3f4e74d2c786c445c4375c7b6e1cc550a47c92d\", \"values of world_vaccination.shape are not correct\"\n",
    "assert sha1(str(world_vaccination.shape).encode(\"utf-8\")+b\"d8c0773c4152cb36\").hexdigest() == \"308b69c86f36773dba5ba0abf7ffd96e2c6afbc5\", \"order of elements of world_vaccination.shape is not correct\"\n",
    "\n",
    "assert sha1(str(type(round(sum(world_vaccination.yr), 2))).encode(\"utf-8\")+b\"f19f183f7a20837a\").hexdigest() == \"7a47c7b5da60aaf0954272fb65b068a172a18aec\", \"type of round(sum(world_vaccination.yr), 2) is not int. Please make sure it is int and not np.int64, etc. You can cast your value into an int using int()\"\n",
    "assert sha1(str(round(sum(world_vaccination.yr), 2)).encode(\"utf-8\")+b\"f19f183f7a20837a\").hexdigest() == \"feb92c3e1d896c3a0c766d3152ef78dc99d50341\", \"value of round(sum(world_vaccination.yr), 2) is not correct\"\n",
    "\n",
    "print('Success!')"
   ]
  },
  {
   "cell_type": "markdown",
   "metadata": {
    "deletable": false,
    "editable": false,
    "nbgrader": {
     "cell_type": "markdown",
     "checksum": "7fd0ffd5c0b4ba62165ca16ed24b0f7a",
     "grade": false,
     "grade_id": "cell-b246d38affa1166f",
     "locked": true,
     "schema_version": 3,
     "solution": false
    }
   },
   "source": [
    "**Question 1.2** \n",
    "<br> {points: 1}\n",
    "\n",
    "Create a scatter plot of the percentage of people vaccinated (y-axis) against year (x-axis) for all the regions in `world_vaccination`. Make sure to label your axes with human readable labels. If you use the `alt.X()` method, you can set `scale=alt.Scale(zero=False)`.\n",
    "\n",
    "*Assign your plot to an object called `world_vacc_plot`*."
   ]
  },
  {
   "cell_type": "code",
   "execution_count": null,
   "metadata": {
    "deletable": false,
    "nbgrader": {
     "cell_type": "code",
     "checksum": "b35ed5d140876e97dc5bf58e011e3577",
     "grade": false,
     "grade_id": "cell-31e847db6b64c666",
     "locked": false,
     "schema_version": 3,
     "solution": true
    }
   },
   "outputs": [],
   "source": [
    "# your code here\n",
    "raise NotImplementedError\n",
    "world_vacc_plot"
   ]
  },
  {
   "cell_type": "code",
   "execution_count": null,
   "metadata": {
    "deletable": false,
    "editable": false,
    "nbgrader": {
     "cell_type": "code",
     "checksum": "5ab9a109c2f642f25e36fa4140fedb40",
     "grade": true,
     "grade_id": "cell-56bc18a4d58208c4",
     "locked": true,
     "points": 1,
     "schema_version": 3,
     "solution": false
    }
   },
   "outputs": [],
   "source": [
    "from hashlib import sha1\n",
    "assert sha1(str(type(world_vacc_plot is None)).encode(\"utf-8\")+b\"b9c1c96cfcbf3405\").hexdigest() == \"399cc1857390207e2257160f2917e5c10181b107\", \"type of world_vacc_plot is None is not bool. world_vacc_plot is None should be a bool\"\n",
    "assert sha1(str(world_vacc_plot is None).encode(\"utf-8\")+b\"b9c1c96cfcbf3405\").hexdigest() == \"cd786101d7a6f96245ecef50272a64079a8dbeec\", \"boolean value of world_vacc_plot is None is not correct\"\n",
    "\n",
    "assert sha1(str(type(world_vacc_plot.encoding.x['shorthand'])).encode(\"utf-8\")+b\"93a9c1457b8316e4\").hexdigest() == \"1186e098449afdf5768a766a1215e8de374e02ea\", \"type of world_vacc_plot.encoding.x['shorthand'] is not str. world_vacc_plot.encoding.x['shorthand'] should be an str\"\n",
    "assert sha1(str(len(world_vacc_plot.encoding.x['shorthand'])).encode(\"utf-8\")+b\"93a9c1457b8316e4\").hexdigest() == \"6030a0eff0b8f825cb29402ccd7180a6e17ebf44\", \"length of world_vacc_plot.encoding.x['shorthand'] is not correct\"\n",
    "assert sha1(str(world_vacc_plot.encoding.x['shorthand'].lower()).encode(\"utf-8\")+b\"93a9c1457b8316e4\").hexdigest() == \"4570fa88134eb07b7c07c35b21e99e222f82ba51\", \"value of world_vacc_plot.encoding.x['shorthand'] is not correct\"\n",
    "assert sha1(str(world_vacc_plot.encoding.x['shorthand']).encode(\"utf-8\")+b\"93a9c1457b8316e4\").hexdigest() == \"4570fa88134eb07b7c07c35b21e99e222f82ba51\", \"correct string value of world_vacc_plot.encoding.x['shorthand'] but incorrect case of letters\"\n",
    "\n",
    "assert sha1(str(type(world_vacc_plot.encoding.y['shorthand'])).encode(\"utf-8\")+b\"df3297ce8984ed00\").hexdigest() == \"2a865f0128b84a2d0ba3b5f4cf7cf33f1a047635\", \"type of world_vacc_plot.encoding.y['shorthand'] is not str. world_vacc_plot.encoding.y['shorthand'] should be an str\"\n",
    "assert sha1(str(len(world_vacc_plot.encoding.y['shorthand'])).encode(\"utf-8\")+b\"df3297ce8984ed00\").hexdigest() == \"4c47760dcd90821fc6f1a371b2fb5610e8a039ba\", \"length of world_vacc_plot.encoding.y['shorthand'] is not correct\"\n",
    "assert sha1(str(world_vacc_plot.encoding.y['shorthand'].lower()).encode(\"utf-8\")+b\"df3297ce8984ed00\").hexdigest() == \"3d0d182b761f1b5c60b44251c9e01966ddb867a8\", \"value of world_vacc_plot.encoding.y['shorthand'] is not correct\"\n",
    "assert sha1(str(world_vacc_plot.encoding.y['shorthand']).encode(\"utf-8\")+b\"df3297ce8984ed00\").hexdigest() == \"3d0d182b761f1b5c60b44251c9e01966ddb867a8\", \"correct string value of world_vacc_plot.encoding.y['shorthand'] but incorrect case of letters\"\n",
    "\n",
    "assert sha1(str(type(world_vacc_plot.mark)).encode(\"utf-8\")+b\"d0b250a315f19445\").hexdigest() == \"c033e3debf551d717a3152195dc5cf222b93f57f\", \"type of world_vacc_plot.mark is not str. world_vacc_plot.mark should be an str\"\n",
    "assert sha1(str(len(world_vacc_plot.mark)).encode(\"utf-8\")+b\"d0b250a315f19445\").hexdigest() == \"2e2d120cf4174b529c88d776e22e66e3a090a7e3\", \"length of world_vacc_plot.mark is not correct\"\n",
    "assert sha1(str(world_vacc_plot.mark.lower()).encode(\"utf-8\")+b\"d0b250a315f19445\").hexdigest() == \"5263dc934179dede619ac1c78df6820b9950a263\", \"value of world_vacc_plot.mark is not correct\"\n",
    "assert sha1(str(world_vacc_plot.mark).encode(\"utf-8\")+b\"d0b250a315f19445\").hexdigest() == \"5263dc934179dede619ac1c78df6820b9950a263\", \"correct string value of world_vacc_plot.mark but incorrect case of letters\"\n",
    "\n",
    "assert sha1(str(type(isinstance(world_vacc_plot.encoding.x['title'], str))).encode(\"utf-8\")+b\"3cfd244e674ebc4f\").hexdigest() == \"075a9c1b61d13e367a58062b4c6e4f04c5899c7d\", \"type of isinstance(world_vacc_plot.encoding.x['title'], str) is not bool. isinstance(world_vacc_plot.encoding.x['title'], str) should be a bool\"\n",
    "assert sha1(str(isinstance(world_vacc_plot.encoding.x['title'], str)).encode(\"utf-8\")+b\"3cfd244e674ebc4f\").hexdigest() == \"54d8aefc56f6693c7800d7e945eeb8cf6a4ae247\", \"boolean value of isinstance(world_vacc_plot.encoding.x['title'], str) is not correct\"\n",
    "\n",
    "assert sha1(str(type(isinstance(world_vacc_plot.encoding.y['title'], str))).encode(\"utf-8\")+b\"a2442dae297561b9\").hexdigest() == \"0bf60ff7039c63ca7df06a518544be0f5f3118a5\", \"type of isinstance(world_vacc_plot.encoding.y['title'], str) is not bool. isinstance(world_vacc_plot.encoding.y['title'], str) should be a bool\"\n",
    "assert sha1(str(isinstance(world_vacc_plot.encoding.y['title'], str)).encode(\"utf-8\")+b\"a2442dae297561b9\").hexdigest() == \"08d80c7ecfdb38b5a0ba8b8f78e20eb16be61271\", \"boolean value of isinstance(world_vacc_plot.encoding.y['title'], str) is not correct\"\n",
    "\n",
    "print('Success!')"
   ]
  },
  {
   "cell_type": "markdown",
   "metadata": {
    "deletable": false,
    "editable": false,
    "nbgrader": {
     "cell_type": "markdown",
     "checksum": "1a9b21e4027dd39dfdd817025788e87b",
     "grade": false,
     "grade_id": "cell-9df6590ba88a1529",
     "locked": true,
     "schema_version": 3,
     "solution": false
    }
   },
   "source": [
    "**Question 1.3** Multiple Choice:\n",
    "<br> {points: 1}\n",
    "\n",
    "Now that we see how the percentage of people vaccinated with each of these vaccines varies over time, we should now start to look if there is a difference between the percentage vaccinated between the two different diseases. What should we do next to compare the differences (if they exist) most effectively?\n",
    "\n",
    "A. Filter the data by the type of vaccine and make two separate plots\n",
    "\n",
    "B. Colour the data by the type of vaccine\n",
    "\n",
    "C. Have a different shaped \"dot\"/point for each type of vaccine\n",
    "\n",
    "D. Colour the data by the type of vaccine, and have a different shaped \"dot\"/point for each type of vaccine\n",
    "\n",
    "*Assign your answer to an object called `answer1_3`. Make sure your answer is an uppercase letter and is surrounded by quotation marks (e.g. `\"F\"`).*"
   ]
  },
  {
   "cell_type": "code",
   "execution_count": null,
   "metadata": {
    "deletable": false,
    "nbgrader": {
     "cell_type": "code",
     "checksum": "1a4ee42773333ed25db09f48d79057cf",
     "grade": false,
     "grade_id": "cell-eff4b83a3aa5ecd4",
     "locked": false,
     "schema_version": 3,
     "solution": true
    }
   },
   "outputs": [],
   "source": [
    "# your code here\n",
    "raise NotImplementedError"
   ]
  },
  {
   "cell_type": "code",
   "execution_count": null,
   "metadata": {
    "deletable": false,
    "editable": false,
    "nbgrader": {
     "cell_type": "code",
     "checksum": "9ec57122a9405fc87c62263b55fbd4b2",
     "grade": true,
     "grade_id": "cell-de1ed1a45f987cbd",
     "locked": true,
     "points": 1,
     "schema_version": 3,
     "solution": false
    }
   },
   "outputs": [],
   "source": [
    "from hashlib import sha1\n",
    "assert sha1(str(type(answer1_3)).encode(\"utf-8\")+b\"4de4c990b68df110\").hexdigest() == \"c87f2e9fe70a7695c68d5df2aec30b482f020ccc\", \"type of answer1_3 is not str. answer1_3 should be an str\"\n",
    "assert sha1(str(len(answer1_3)).encode(\"utf-8\")+b\"4de4c990b68df110\").hexdigest() == \"b4625a715456b5e740cbba6f0a08fa264ee624bb\", \"length of answer1_3 is not correct\"\n",
    "assert sha1(str(answer1_3.lower()).encode(\"utf-8\")+b\"4de4c990b68df110\").hexdigest() == \"b16fc36b11469231fd1fe9c2a1866f3d75b15703\", \"value of answer1_3 is not correct\"\n",
    "assert sha1(str(answer1_3).encode(\"utf-8\")+b\"4de4c990b68df110\").hexdigest() == \"7252fc942bd285bbbe39a30cb5fd9830a46ce9b4\", \"correct string value of answer1_3 but incorrect case of letters\"\n",
    "\n",
    "print('Success!')"
   ]
  },
  {
   "cell_type": "markdown",
   "metadata": {
    "deletable": false,
    "editable": false,
    "nbgrader": {
     "cell_type": "markdown",
     "checksum": "171da237c1b314efaded4395d5e37eb2",
     "grade": false,
     "grade_id": "cell-a0d78ab0948d478b",
     "locked": true,
     "schema_version": 3,
     "solution": false
    }
   },
   "source": [
    "**Question 1.4**\n",
    "<br> {points: 1}\n",
    "\n",
    "Now that we know what to do next to compare the differences effectively, let's do it. Start by copying your code from **Question 1.2**. Next, add a `color` and `shape` encoding objects inside of the `.encode` function to map `vaccine` to colour and shape. Finally, make sure you change *all* the axes and legends so they have nicely formatted, human-readable labels and set the title font size of the axes to 12. \n",
    "\n",
    "\n",
    "*Assign your answer to an object called `compare_vacc_plot` and check the textbook chapter for how to use the `configure_axis` method to adjust the axis title size.*"
   ]
  },
  {
   "cell_type": "code",
   "execution_count": null,
   "metadata": {
    "deletable": false,
    "nbgrader": {
     "cell_type": "code",
     "checksum": "c4d435373b53a1b2e438d7e2f96c7aad",
     "grade": false,
     "grade_id": "cell-374fd332fce06441",
     "locked": false,
     "schema_version": 3,
     "solution": true
    },
    "tags": []
   },
   "outputs": [],
   "source": [
    "# your code here\n",
    "raise NotImplementedError\n",
    "\n",
    "compare_vacc_plot"
   ]
  },
  {
   "cell_type": "code",
   "execution_count": null,
   "metadata": {
    "deletable": false,
    "editable": false,
    "nbgrader": {
     "cell_type": "code",
     "checksum": "e7b77ef7e8e90f6eb25229d969f96f55",
     "grade": true,
     "grade_id": "cell-d644f60d1f60a559",
     "locked": true,
     "points": 1,
     "schema_version": 3,
     "solution": false
    }
   },
   "outputs": [],
   "source": [
    "from hashlib import sha1\n",
    "assert sha1(str(type(compare_vacc_plot is None)).encode(\"utf-8\")+b\"5a426ac0c473e832\").hexdigest() == \"393f686ec6e1dcbcf9beaf46684333ef6e028e38\", \"type of compare_vacc_plot is None is not bool. compare_vacc_plot is None should be a bool\"\n",
    "assert sha1(str(compare_vacc_plot is None).encode(\"utf-8\")+b\"5a426ac0c473e832\").hexdigest() == \"3d1cbfa26f876c0bcb631a5e585711cc0025cf0e\", \"boolean value of compare_vacc_plot is None is not correct\"\n",
    "\n",
    "assert sha1(str(type(compare_vacc_plot.encoding.x['shorthand'])).encode(\"utf-8\")+b\"1acdf3003a5ed451\").hexdigest() == \"97ac55f7db85366b23188e957a125537d66b4e5f\", \"type of compare_vacc_plot.encoding.x['shorthand'] is not str. compare_vacc_plot.encoding.x['shorthand'] should be an str\"\n",
    "assert sha1(str(len(compare_vacc_plot.encoding.x['shorthand'])).encode(\"utf-8\")+b\"1acdf3003a5ed451\").hexdigest() == \"39092076778210df2904fa0e3bbce636434449a0\", \"length of compare_vacc_plot.encoding.x['shorthand'] is not correct\"\n",
    "assert sha1(str(compare_vacc_plot.encoding.x['shorthand'].lower()).encode(\"utf-8\")+b\"1acdf3003a5ed451\").hexdigest() == \"d19b4f79cba876aa7aa844b7f416fc56b2c81761\", \"value of compare_vacc_plot.encoding.x['shorthand'] is not correct\"\n",
    "assert sha1(str(compare_vacc_plot.encoding.x['shorthand']).encode(\"utf-8\")+b\"1acdf3003a5ed451\").hexdigest() == \"d19b4f79cba876aa7aa844b7f416fc56b2c81761\", \"correct string value of compare_vacc_plot.encoding.x['shorthand'] but incorrect case of letters\"\n",
    "\n",
    "assert sha1(str(type(compare_vacc_plot.encoding.y['shorthand'])).encode(\"utf-8\")+b\"c329a7bb3cc7dd6a\").hexdigest() == \"9b0621f03e3fdd78607f882aa379daa749ad8116\", \"type of compare_vacc_plot.encoding.y['shorthand'] is not str. compare_vacc_plot.encoding.y['shorthand'] should be an str\"\n",
    "assert sha1(str(len(compare_vacc_plot.encoding.y['shorthand'])).encode(\"utf-8\")+b\"c329a7bb3cc7dd6a\").hexdigest() == \"ef99153e84a478fc2020fc27002bba30c67fcd59\", \"length of compare_vacc_plot.encoding.y['shorthand'] is not correct\"\n",
    "assert sha1(str(compare_vacc_plot.encoding.y['shorthand'].lower()).encode(\"utf-8\")+b\"c329a7bb3cc7dd6a\").hexdigest() == \"1987a977b0ecd4ec776b5678a15511f7b664e05a\", \"value of compare_vacc_plot.encoding.y['shorthand'] is not correct\"\n",
    "assert sha1(str(compare_vacc_plot.encoding.y['shorthand']).encode(\"utf-8\")+b\"c329a7bb3cc7dd6a\").hexdigest() == \"1987a977b0ecd4ec776b5678a15511f7b664e05a\", \"correct string value of compare_vacc_plot.encoding.y['shorthand'] but incorrect case of letters\"\n",
    "\n",
    "assert sha1(str(type(compare_vacc_plot.encoding.color['shorthand'])).encode(\"utf-8\")+b\"c657d5f76dc3e20c\").hexdigest() == \"61d24d802023dcde54ebc3121ba847a2b385d308\", \"type of compare_vacc_plot.encoding.color['shorthand'] is not str. compare_vacc_plot.encoding.color['shorthand'] should be an str\"\n",
    "assert sha1(str(len(compare_vacc_plot.encoding.color['shorthand'])).encode(\"utf-8\")+b\"c657d5f76dc3e20c\").hexdigest() == \"a71fa81e854d059912aac40d9540ab29e1ebb153\", \"length of compare_vacc_plot.encoding.color['shorthand'] is not correct\"\n",
    "assert sha1(str(compare_vacc_plot.encoding.color['shorthand'].lower()).encode(\"utf-8\")+b\"c657d5f76dc3e20c\").hexdigest() == \"0041e86a28cb3d0395e3f005352334647d121027\", \"value of compare_vacc_plot.encoding.color['shorthand'] is not correct\"\n",
    "assert sha1(str(compare_vacc_plot.encoding.color['shorthand']).encode(\"utf-8\")+b\"c657d5f76dc3e20c\").hexdigest() == \"0041e86a28cb3d0395e3f005352334647d121027\", \"correct string value of compare_vacc_plot.encoding.color['shorthand'] but incorrect case of letters\"\n",
    "\n",
    "assert sha1(str(type(compare_vacc_plot.encoding.shape['shorthand'])).encode(\"utf-8\")+b\"91dc155a4831322f\").hexdigest() == \"7e91822c05652a2cfcea624f495be11330ae9be8\", \"type of compare_vacc_plot.encoding.shape['shorthand'] is not str. compare_vacc_plot.encoding.shape['shorthand'] should be an str\"\n",
    "assert sha1(str(len(compare_vacc_plot.encoding.shape['shorthand'])).encode(\"utf-8\")+b\"91dc155a4831322f\").hexdigest() == \"6dab1f0be33bd84cd12ee41900a9280581b925d8\", \"length of compare_vacc_plot.encoding.shape['shorthand'] is not correct\"\n",
    "assert sha1(str(compare_vacc_plot.encoding.shape['shorthand'].lower()).encode(\"utf-8\")+b\"91dc155a4831322f\").hexdigest() == \"c54c8a5a8a535463bb6f4b89ea491967ea6e12c5\", \"value of compare_vacc_plot.encoding.shape['shorthand'] is not correct\"\n",
    "assert sha1(str(compare_vacc_plot.encoding.shape['shorthand']).encode(\"utf-8\")+b\"91dc155a4831322f\").hexdigest() == \"c54c8a5a8a535463bb6f4b89ea491967ea6e12c5\", \"correct string value of compare_vacc_plot.encoding.shape['shorthand'] but incorrect case of letters\"\n",
    "\n",
    "assert sha1(str(type(compare_vacc_plot.mark)).encode(\"utf-8\")+b\"2a116259f2db14f6\").hexdigest() == \"b0c2fa96e3254ba5dcc418bd310f4b69ab485d4a\", \"type of compare_vacc_plot.mark is not str. compare_vacc_plot.mark should be an str\"\n",
    "assert sha1(str(len(compare_vacc_plot.mark)).encode(\"utf-8\")+b\"2a116259f2db14f6\").hexdigest() == \"21a17af1bf39c4e40dde80b7d721edf5a5703ea6\", \"length of compare_vacc_plot.mark is not correct\"\n",
    "assert sha1(str(compare_vacc_plot.mark.lower()).encode(\"utf-8\")+b\"2a116259f2db14f6\").hexdigest() == \"6710abc3ea9e2bce60af3d4c562521575108f4a7\", \"value of compare_vacc_plot.mark is not correct\"\n",
    "assert sha1(str(compare_vacc_plot.mark).encode(\"utf-8\")+b\"2a116259f2db14f6\").hexdigest() == \"6710abc3ea9e2bce60af3d4c562521575108f4a7\", \"correct string value of compare_vacc_plot.mark but incorrect case of letters\"\n",
    "\n",
    "assert sha1(str(type(isinstance(compare_vacc_plot.encoding.x['title'], str))).encode(\"utf-8\")+b\"c2ba9581dd680295\").hexdigest() == \"b273249a75b0cd25a1b7053c1e661f166cc85514\", \"type of isinstance(compare_vacc_plot.encoding.x['title'], str) is not bool. isinstance(compare_vacc_plot.encoding.x['title'], str) should be a bool\"\n",
    "assert sha1(str(isinstance(compare_vacc_plot.encoding.x['title'], str)).encode(\"utf-8\")+b\"c2ba9581dd680295\").hexdigest() == \"49b02c033e5b0f010c3ae9ba7097ac227b06b67c\", \"boolean value of isinstance(compare_vacc_plot.encoding.x['title'], str) is not correct\"\n",
    "\n",
    "assert sha1(str(type(isinstance(compare_vacc_plot.encoding.y['title'], str))).encode(\"utf-8\")+b\"0e3253eb73b13d97\").hexdigest() == \"1380177328cbb9ce51c42c4dd6cd19126e36b749\", \"type of isinstance(compare_vacc_plot.encoding.y['title'], str) is not bool. isinstance(compare_vacc_plot.encoding.y['title'], str) should be a bool\"\n",
    "assert sha1(str(isinstance(compare_vacc_plot.encoding.y['title'], str)).encode(\"utf-8\")+b\"0e3253eb73b13d97\").hexdigest() == \"dba4dd943a5fa8f1b2da00ad066edc2fc985f9f6\", \"boolean value of isinstance(compare_vacc_plot.encoding.y['title'], str) is not correct\"\n",
    "\n",
    "assert sha1(str(type(compare_vacc_plot.config.axis.titleFontSize)).encode(\"utf-8\")+b\"e9383748f0e712c0\").hexdigest() == \"befee590ec0b6edf26aabb1f910d35b71b632570\", \"type of compare_vacc_plot.config.axis.titleFontSize is not int. Please make sure it is int and not np.int64, etc. You can cast your value into an int using int()\"\n",
    "assert sha1(str(compare_vacc_plot.config.axis.titleFontSize).encode(\"utf-8\")+b\"e9383748f0e712c0\").hexdigest() == \"1239ae6226b5f667a4da9fa1f26b4b33da205e17\", \"value of compare_vacc_plot.config.axis.titleFontSize is not correct\"\n",
    "\n",
    "print('Success!')"
   ]
  },
  {
   "cell_type": "markdown",
   "metadata": {
    "deletable": false,
    "editable": false,
    "nbgrader": {
     "cell_type": "markdown",
     "checksum": "3d5bcb3e1ed0481bb9388217b23d2490",
     "grade": false,
     "grade_id": "cell-f4cb0b4284167707",
     "locked": true,
     "schema_version": 3,
     "solution": false,
     "task": false
    }
   },
   "source": [
    "Now we see that although the dates where the percentage vaccinated became > 0 for each vaccine type started out in different years, they both increased at similar rates and are currently resting at about the same amount of percentage vaccinated. There is some variation that still exists in the data however, and perhaps that could be attributed to geographical region? Let's create some more visualizations to see if that is indeed the case!\n",
    "\n",
    "To get started, let's focus on the Polio vaccine data, and then we'll look at both together."
   ]
  },
  {
   "cell_type": "markdown",
   "metadata": {
    "deletable": false,
    "editable": false,
    "nbgrader": {
     "cell_type": "markdown",
     "checksum": "cc86ac034faa2f43086a9ff0f207d3c0",
     "grade": false,
     "grade_id": "cell-88236b86419d60b7",
     "locked": true,
     "schema_version": 3,
     "solution": false
    }
   },
   "source": [
    "**Question 1.5**\n",
    "<br> {points: 1}\n",
    "\n",
    "Create a data frame object named `polio` that contains only the rows where the `vaccine` is `\"polio\"`:"
   ]
  },
  {
   "cell_type": "code",
   "execution_count": null,
   "metadata": {
    "deletable": false,
    "nbgrader": {
     "cell_type": "code",
     "checksum": "c237ccc677406fbf467d4da15478dc12",
     "grade": false,
     "grade_id": "cell-e3ea1eaccfcdb529",
     "locked": false,
     "schema_version": 3,
     "solution": true
    }
   },
   "outputs": [],
   "source": [
    "# your code here\n",
    "raise NotImplementedError\n",
    "polio"
   ]
  },
  {
   "cell_type": "code",
   "execution_count": null,
   "metadata": {
    "deletable": false,
    "editable": false,
    "nbgrader": {
     "cell_type": "code",
     "checksum": "0e09a59479d0c774c4cbac1531fb6b1c",
     "grade": true,
     "grade_id": "cell-96b08ba246959d81",
     "locked": true,
     "points": 1,
     "schema_version": 3,
     "solution": false
    }
   },
   "outputs": [],
   "source": [
    "from hashlib import sha1\n",
    "assert sha1(str(type(polio is None)).encode(\"utf-8\")+b\"10f26c575edcfb33\").hexdigest() == \"bfbf342374f3060c6e14cce56463109ec62a6bfb\", \"type of polio is None is not bool. polio is None should be a bool\"\n",
    "assert sha1(str(polio is None).encode(\"utf-8\")+b\"10f26c575edcfb33\").hexdigest() == \"4e528512c9405a4655206b1c787646a62ecf6c4e\", \"boolean value of polio is None is not correct\"\n",
    "\n",
    "assert sha1(str(type(polio.vaccine.unique()[0])).encode(\"utf-8\")+b\"7691f941b9750d92\").hexdigest() == \"27d441c703b521bc146641519d368074a06fb002\", \"type of polio.vaccine.unique()[0] is not str. polio.vaccine.unique()[0] should be an str\"\n",
    "assert sha1(str(len(polio.vaccine.unique()[0])).encode(\"utf-8\")+b\"7691f941b9750d92\").hexdigest() == \"3d9b4504375cef44497b842e46846e694653d98e\", \"length of polio.vaccine.unique()[0] is not correct\"\n",
    "assert sha1(str(polio.vaccine.unique()[0].lower()).encode(\"utf-8\")+b\"7691f941b9750d92\").hexdigest() == \"b8ef3d9386c923fb8bd7c5f1a7db0751da70f3b7\", \"value of polio.vaccine.unique()[0] is not correct\"\n",
    "assert sha1(str(polio.vaccine.unique()[0]).encode(\"utf-8\")+b\"7691f941b9750d92\").hexdigest() == \"b8ef3d9386c923fb8bd7c5f1a7db0751da70f3b7\", \"correct string value of polio.vaccine.unique()[0] but incorrect case of letters\"\n",
    "\n",
    "assert sha1(str(type(polio.shape)).encode(\"utf-8\")+b\"ddeeea8cedcb0a11\").hexdigest() == \"33142337fc309b6e305ec0fab6ae01ebaae23a4c\", \"type of polio.shape is not tuple. polio.shape should be a tuple\"\n",
    "assert sha1(str(len(polio.shape)).encode(\"utf-8\")+b\"ddeeea8cedcb0a11\").hexdigest() == \"b05d6a73b4c9da603dd9505f186b263961f6a1fb\", \"length of polio.shape is not correct\"\n",
    "assert sha1(str(sorted(map(str, polio.shape))).encode(\"utf-8\")+b\"ddeeea8cedcb0a11\").hexdigest() == \"749fa99c71d8b017fc30d0e9cd11faa67c910d34\", \"values of polio.shape are not correct\"\n",
    "assert sha1(str(polio.shape).encode(\"utf-8\")+b\"ddeeea8cedcb0a11\").hexdigest() == \"b11d1f6b0c8c6f0bdc967fb187ff9a8d71be4707\", \"order of elements of polio.shape is not correct\"\n",
    "\n",
    "assert sha1(str(type(round(sum(polio.pct_vaccinated), 2))).encode(\"utf-8\")+b\"96484675cb389f1b\").hexdigest() == \"0f3a3b06e9df5db7c9c2cb522a2f713bff4bff39\", \"type of round(sum(polio.pct_vaccinated), 2) is not float. Please make sure it is float and not np.float64, etc. You can cast your value into a float using float()\"\n",
    "assert sha1(str(round(round(sum(polio.pct_vaccinated), 2), 2)).encode(\"utf-8\")+b\"96484675cb389f1b\").hexdigest() == \"6a30f71f3917e8eb6e77d8b5f8dd97d549059d8b\", \"value of round(sum(polio.pct_vaccinated), 2) is not correct (rounded to 2 decimal places)\"\n",
    "\n",
    "print('Success!')"
   ]
  },
  {
   "cell_type": "markdown",
   "metadata": {
    "deletable": false,
    "editable": false,
    "nbgrader": {
     "cell_type": "markdown",
     "checksum": "0b1c7e9e092837b4204650c817a9dd0a",
     "grade": false,
     "grade_id": "cell-a76fd8a76737dd65",
     "locked": true,
     "schema_version": 3,
     "solution": false
    }
   },
   "source": [
    "**Question 1.6**\n",
    "<br> {points: 1}\n",
    "\n",
    "Now create a scatter plot using the `polio` data where percentage vaccinated is on the y-axis, year is on the x-axis and each `who_region` has a different colour point, and a different shape. Name it `polio_regions`. Also set the axis title font size to 12 and the overall width of the chart to 500.\n",
    "\n",
    "*Hint: Look in the textbook chapter how to use the `properties` method to change the plot width.*"
   ]
  },
  {
   "cell_type": "code",
   "execution_count": null,
   "metadata": {
    "deletable": false,
    "nbgrader": {
     "cell_type": "code",
     "checksum": "d17512b589e0eac5ebe63e87bc5d096e",
     "grade": false,
     "grade_id": "cell-b8e28cbd972366a7",
     "locked": false,
     "schema_version": 3,
     "solution": true
    }
   },
   "outputs": [],
   "source": [
    "# your code here\n",
    "raise NotImplementedError\n",
    "polio_regions"
   ]
  },
  {
   "cell_type": "code",
   "execution_count": null,
   "metadata": {
    "deletable": false,
    "editable": false,
    "nbgrader": {
     "cell_type": "code",
     "checksum": "c232b1d93c93b7f42343d92e0d21f16c",
     "grade": true,
     "grade_id": "cell-80a368c34a543e78",
     "locked": true,
     "points": 1,
     "schema_version": 3,
     "solution": false
    }
   },
   "outputs": [],
   "source": [
    "from hashlib import sha1\n",
    "assert sha1(str(type(polio_regions is None)).encode(\"utf-8\")+b\"a84d6c15378fb16f\").hexdigest() == \"deec9d3d952467aed17928644580269fcebb70a5\", \"type of polio_regions is None is not bool. polio_regions is None should be a bool\"\n",
    "assert sha1(str(polio_regions is None).encode(\"utf-8\")+b\"a84d6c15378fb16f\").hexdigest() == \"5ef5c6f050f659f81573ea745c036ef59dc5fb3c\", \"boolean value of polio_regions is None is not correct\"\n",
    "\n",
    "assert sha1(str(type(polio_regions.encoding.x['shorthand'])).encode(\"utf-8\")+b\"c330557058c74669\").hexdigest() == \"1702e9e0959b6008e397b523a9dd215361684667\", \"type of polio_regions.encoding.x['shorthand'] is not str. polio_regions.encoding.x['shorthand'] should be an str\"\n",
    "assert sha1(str(len(polio_regions.encoding.x['shorthand'])).encode(\"utf-8\")+b\"c330557058c74669\").hexdigest() == \"eff1da3da7230d58518c39bb2cd31f53a969b8a3\", \"length of polio_regions.encoding.x['shorthand'] is not correct\"\n",
    "assert sha1(str(polio_regions.encoding.x['shorthand'].lower()).encode(\"utf-8\")+b\"c330557058c74669\").hexdigest() == \"a6e99208b90602fa2483bc78ee07a6ef132b68fa\", \"value of polio_regions.encoding.x['shorthand'] is not correct\"\n",
    "assert sha1(str(polio_regions.encoding.x['shorthand']).encode(\"utf-8\")+b\"c330557058c74669\").hexdigest() == \"a6e99208b90602fa2483bc78ee07a6ef132b68fa\", \"correct string value of polio_regions.encoding.x['shorthand'] but incorrect case of letters\"\n",
    "\n",
    "assert sha1(str(type(polio_regions.encoding.y['shorthand'])).encode(\"utf-8\")+b\"dc330371d4dff12f\").hexdigest() == \"d2bfb9d68a711d8740644078d08521a44f1c4765\", \"type of polio_regions.encoding.y['shorthand'] is not str. polio_regions.encoding.y['shorthand'] should be an str\"\n",
    "assert sha1(str(len(polio_regions.encoding.y['shorthand'])).encode(\"utf-8\")+b\"dc330371d4dff12f\").hexdigest() == \"97bb5cf62f4f594aac1de6045ef3a7a25a929fc3\", \"length of polio_regions.encoding.y['shorthand'] is not correct\"\n",
    "assert sha1(str(polio_regions.encoding.y['shorthand'].lower()).encode(\"utf-8\")+b\"dc330371d4dff12f\").hexdigest() == \"7b78ee9505acab24fb129e9bc0059914cae94219\", \"value of polio_regions.encoding.y['shorthand'] is not correct\"\n",
    "assert sha1(str(polio_regions.encoding.y['shorthand']).encode(\"utf-8\")+b\"dc330371d4dff12f\").hexdigest() == \"7b78ee9505acab24fb129e9bc0059914cae94219\", \"correct string value of polio_regions.encoding.y['shorthand'] but incorrect case of letters\"\n",
    "\n",
    "assert sha1(str(type(polio_regions.encoding.color['shorthand'])).encode(\"utf-8\")+b\"e3cbb900ae1d59ee\").hexdigest() == \"6c4fd43656118b09372149f849e3397183192b73\", \"type of polio_regions.encoding.color['shorthand'] is not str. polio_regions.encoding.color['shorthand'] should be an str\"\n",
    "assert sha1(str(len(polio_regions.encoding.color['shorthand'])).encode(\"utf-8\")+b\"e3cbb900ae1d59ee\").hexdigest() == \"ac6ea8c2499d9333d69f16e4cccef7eb7bedcd35\", \"length of polio_regions.encoding.color['shorthand'] is not correct\"\n",
    "assert sha1(str(polio_regions.encoding.color['shorthand'].lower()).encode(\"utf-8\")+b\"e3cbb900ae1d59ee\").hexdigest() == \"d7958c759f7528a9dcba02b2509bba745c30a1de\", \"value of polio_regions.encoding.color['shorthand'] is not correct\"\n",
    "assert sha1(str(polio_regions.encoding.color['shorthand']).encode(\"utf-8\")+b\"e3cbb900ae1d59ee\").hexdigest() == \"d7958c759f7528a9dcba02b2509bba745c30a1de\", \"correct string value of polio_regions.encoding.color['shorthand'] but incorrect case of letters\"\n",
    "\n",
    "assert sha1(str(type(polio_regions.encoding.shape['shorthand'])).encode(\"utf-8\")+b\"b4b5d55498cc1af4\").hexdigest() == \"a0deaa8315df2dc657415089d942ec8c76eae27b\", \"type of polio_regions.encoding.shape['shorthand'] is not str. polio_regions.encoding.shape['shorthand'] should be an str\"\n",
    "assert sha1(str(len(polio_regions.encoding.shape['shorthand'])).encode(\"utf-8\")+b\"b4b5d55498cc1af4\").hexdigest() == \"6353a6e7eb4c301acd81b72373439ffd0876b18a\", \"length of polio_regions.encoding.shape['shorthand'] is not correct\"\n",
    "assert sha1(str(polio_regions.encoding.shape['shorthand'].lower()).encode(\"utf-8\")+b\"b4b5d55498cc1af4\").hexdigest() == \"0273e50b3768fb4ae9c61f4c7d4cfd0f3f5b128f\", \"value of polio_regions.encoding.shape['shorthand'] is not correct\"\n",
    "assert sha1(str(polio_regions.encoding.shape['shorthand']).encode(\"utf-8\")+b\"b4b5d55498cc1af4\").hexdigest() == \"0273e50b3768fb4ae9c61f4c7d4cfd0f3f5b128f\", \"correct string value of polio_regions.encoding.shape['shorthand'] but incorrect case of letters\"\n",
    "\n",
    "assert sha1(str(type(polio_regions.mark)).encode(\"utf-8\")+b\"bc069c51f8ce96c6\").hexdigest() == \"ab9101654a36729abcff747ac8a699a9b997a168\", \"type of polio_regions.mark is not str. polio_regions.mark should be an str\"\n",
    "assert sha1(str(len(polio_regions.mark)).encode(\"utf-8\")+b\"bc069c51f8ce96c6\").hexdigest() == \"074954f7c819254e6541819665b92b7bc8baa53c\", \"length of polio_regions.mark is not correct\"\n",
    "assert sha1(str(polio_regions.mark.lower()).encode(\"utf-8\")+b\"bc069c51f8ce96c6\").hexdigest() == \"e8e0fbb666c4612915e604986cb53cf76140c842\", \"value of polio_regions.mark is not correct\"\n",
    "assert sha1(str(polio_regions.mark).encode(\"utf-8\")+b\"bc069c51f8ce96c6\").hexdigest() == \"e8e0fbb666c4612915e604986cb53cf76140c842\", \"correct string value of polio_regions.mark but incorrect case of letters\"\n",
    "\n",
    "assert sha1(str(type(isinstance(polio_regions.encoding.x['title'], str))).encode(\"utf-8\")+b\"4698cd20f6795e52\").hexdigest() == \"e754dcb776d3137f5267c82c533ef4558f0a0273\", \"type of isinstance(polio_regions.encoding.x['title'], str) is not bool. isinstance(polio_regions.encoding.x['title'], str) should be a bool\"\n",
    "assert sha1(str(isinstance(polio_regions.encoding.x['title'], str)).encode(\"utf-8\")+b\"4698cd20f6795e52\").hexdigest() == \"f191a6cb004bd23f9b03c5a89c7dae0650db2aaa\", \"boolean value of isinstance(polio_regions.encoding.x['title'], str) is not correct\"\n",
    "\n",
    "assert sha1(str(type(isinstance(polio_regions.encoding.y['title'], str))).encode(\"utf-8\")+b\"39d01574d2769d7e\").hexdigest() == \"ffe030b5bb9e316429ffb272c9776c7c271cf3a1\", \"type of isinstance(polio_regions.encoding.y['title'], str) is not bool. isinstance(polio_regions.encoding.y['title'], str) should be a bool\"\n",
    "assert sha1(str(isinstance(polio_regions.encoding.y['title'], str)).encode(\"utf-8\")+b\"39d01574d2769d7e\").hexdigest() == \"31baf017a300e4c656d9e95658045085dcd62832\", \"boolean value of isinstance(polio_regions.encoding.y['title'], str) is not correct\"\n",
    "\n",
    "assert sha1(str(type(polio_regions.config.axis.titleFontSize)).encode(\"utf-8\")+b\"fee693e77638d976\").hexdigest() == \"59465b79dc54e6972c793a0f369e0ba44b7e91ce\", \"type of polio_regions.config.axis.titleFontSize is not int. Please make sure it is int and not np.int64, etc. You can cast your value into an int using int()\"\n",
    "assert sha1(str(polio_regions.config.axis.titleFontSize).encode(\"utf-8\")+b\"fee693e77638d976\").hexdigest() == \"39bb3d8cf37e1ad86da7b40420ba817720a2d167\", \"value of polio_regions.config.axis.titleFontSize is not correct\"\n",
    "\n",
    "assert sha1(str(type(polio_regions.config.axis.titleFontSize)).encode(\"utf-8\")+b\"7cbb4d234120b1de\").hexdigest() == \"65d2aeecd6dbf2c598c26f4a441fff421173a0df\", \"type of polio_regions.config.axis.titleFontSize is not int. Please make sure it is int and not np.int64, etc. You can cast your value into an int using int()\"\n",
    "assert sha1(str(polio_regions.config.axis.titleFontSize).encode(\"utf-8\")+b\"7cbb4d234120b1de\").hexdigest() == \"c08e85e1b8c35094b5c38c98b9e23adfa2c8c4f8\", \"value of polio_regions.config.axis.titleFontSize is not correct\"\n",
    "\n",
    "assert sha1(str(type(polio_regions.width)).encode(\"utf-8\")+b\"fd2d2b499c92a453\").hexdigest() == \"ad831d905c6cd37e672f21332229434fa256a803\", \"type of polio_regions.width is not int. Please make sure it is int and not np.int64, etc. You can cast your value into an int using int()\"\n",
    "assert sha1(str(polio_regions.width).encode(\"utf-8\")+b\"fd2d2b499c92a453\").hexdigest() == \"ad48c091abfcf2327c03613f52a425916bfae87b\", \"value of polio_regions.width is not correct\"\n",
    "\n",
    "print('Success!')"
   ]
  },
  {
   "cell_type": "markdown",
   "metadata": {
    "deletable": false,
    "editable": false,
    "nbgrader": {
     "cell_type": "markdown",
     "checksum": "0ed80e3d83719e2a0ec75cda6024077f",
     "grade": false,
     "grade_id": "cell-78cdf142395d1696",
     "locked": true,
     "schema_version": 3,
     "solution": false
    }
   },
   "source": [
    "**Question 1.7**\n",
    "<br> {points: 1}\n",
    "\n",
    "Although when we have multiple groups, it's easier for us to see the differences when we change point colour and shape, at some point there are too many groups to keep things straight. We are approaching that on the plot above, and so we need to do something different. One thing we could try is to change the point to a line to reduce the noise/chaos of the plot above. We would also not have a shape encoding in the line plot, but keep the rest of the code the same. Do that in the cell below and name the plot object `polio_regions_line`."
   ]
  },
  {
   "cell_type": "code",
   "execution_count": null,
   "metadata": {
    "deletable": false,
    "nbgrader": {
     "cell_type": "code",
     "checksum": "31ea5e2ddd1de94aca76593791261a1d",
     "grade": false,
     "grade_id": "cell-c803221869b8ae00",
     "locked": false,
     "schema_version": 3,
     "solution": true
    }
   },
   "outputs": [],
   "source": [
    "# your code here\n",
    "raise NotImplementedError\n",
    "polio_regions_line"
   ]
  },
  {
   "cell_type": "code",
   "execution_count": null,
   "metadata": {
    "deletable": false,
    "editable": false,
    "nbgrader": {
     "cell_type": "code",
     "checksum": "0c13ebed8ad4750b8dc05fc8a3964c73",
     "grade": true,
     "grade_id": "cell-9bc60c906bcd60b3",
     "locked": true,
     "points": 1,
     "schema_version": 3,
     "solution": false
    }
   },
   "outputs": [],
   "source": [
    "from hashlib import sha1\n",
    "assert sha1(str(type(polio_regions_line is None)).encode(\"utf-8\")+b\"bab6e4991d45950f\").hexdigest() == \"a74fcf47672993599326c2ae9a7da75888f3104a\", \"type of polio_regions_line is None is not bool. polio_regions_line is None should be a bool\"\n",
    "assert sha1(str(polio_regions_line is None).encode(\"utf-8\")+b\"bab6e4991d45950f\").hexdigest() == \"2d18a25fc15667459df54a823951313f133dea1f\", \"boolean value of polio_regions_line is None is not correct\"\n",
    "\n",
    "assert sha1(str(type(polio_regions_line.encoding.x['shorthand'])).encode(\"utf-8\")+b\"8344f9834e0f2d5e\").hexdigest() == \"d7a5c0eaa49b8bacbffbeac5397b565372b1281f\", \"type of polio_regions_line.encoding.x['shorthand'] is not str. polio_regions_line.encoding.x['shorthand'] should be an str\"\n",
    "assert sha1(str(len(polio_regions_line.encoding.x['shorthand'])).encode(\"utf-8\")+b\"8344f9834e0f2d5e\").hexdigest() == \"a5366cbd4aa3f410dd3d24ecdd4fdef53bf0afbe\", \"length of polio_regions_line.encoding.x['shorthand'] is not correct\"\n",
    "assert sha1(str(polio_regions_line.encoding.x['shorthand'].lower()).encode(\"utf-8\")+b\"8344f9834e0f2d5e\").hexdigest() == \"e46543013d1c740b6226bfb0e5c41b683f1078c3\", \"value of polio_regions_line.encoding.x['shorthand'] is not correct\"\n",
    "assert sha1(str(polio_regions_line.encoding.x['shorthand']).encode(\"utf-8\")+b\"8344f9834e0f2d5e\").hexdigest() == \"e46543013d1c740b6226bfb0e5c41b683f1078c3\", \"correct string value of polio_regions_line.encoding.x['shorthand'] but incorrect case of letters\"\n",
    "\n",
    "assert sha1(str(type(polio_regions_line.encoding.y['shorthand'])).encode(\"utf-8\")+b\"2bdabeac24a84bba\").hexdigest() == \"5571355750eaada0d33f0a4af49affcb93de4e83\", \"type of polio_regions_line.encoding.y['shorthand'] is not str. polio_regions_line.encoding.y['shorthand'] should be an str\"\n",
    "assert sha1(str(len(polio_regions_line.encoding.y['shorthand'])).encode(\"utf-8\")+b\"2bdabeac24a84bba\").hexdigest() == \"8ec57eefd00b7d6155c1b11410f16ecee9a89a6c\", \"length of polio_regions_line.encoding.y['shorthand'] is not correct\"\n",
    "assert sha1(str(polio_regions_line.encoding.y['shorthand'].lower()).encode(\"utf-8\")+b\"2bdabeac24a84bba\").hexdigest() == \"00fb269019df9a02568dce8933690320e8eddb50\", \"value of polio_regions_line.encoding.y['shorthand'] is not correct\"\n",
    "assert sha1(str(polio_regions_line.encoding.y['shorthand']).encode(\"utf-8\")+b\"2bdabeac24a84bba\").hexdigest() == \"00fb269019df9a02568dce8933690320e8eddb50\", \"correct string value of polio_regions_line.encoding.y['shorthand'] but incorrect case of letters\"\n",
    "\n",
    "assert sha1(str(type(polio_regions_line.encoding.color['shorthand'])).encode(\"utf-8\")+b\"1fdca0facff6aec8\").hexdigest() == \"0f034d4c4c88af417e48348986fbf4b2855ec9d0\", \"type of polio_regions_line.encoding.color['shorthand'] is not str. polio_regions_line.encoding.color['shorthand'] should be an str\"\n",
    "assert sha1(str(len(polio_regions_line.encoding.color['shorthand'])).encode(\"utf-8\")+b\"1fdca0facff6aec8\").hexdigest() == \"3f20994276df35a45587cdf34dbf03b524cce847\", \"length of polio_regions_line.encoding.color['shorthand'] is not correct\"\n",
    "assert sha1(str(polio_regions_line.encoding.color['shorthand'].lower()).encode(\"utf-8\")+b\"1fdca0facff6aec8\").hexdigest() == \"29d263480e3aa55a1106e1b62a85341a80264575\", \"value of polio_regions_line.encoding.color['shorthand'] is not correct\"\n",
    "assert sha1(str(polio_regions_line.encoding.color['shorthand']).encode(\"utf-8\")+b\"1fdca0facff6aec8\").hexdigest() == \"29d263480e3aa55a1106e1b62a85341a80264575\", \"correct string value of polio_regions_line.encoding.color['shorthand'] but incorrect case of letters\"\n",
    "\n",
    "assert sha1(str(type(polio_regions_line.mark)).encode(\"utf-8\")+b\"532b40fe2342132f\").hexdigest() == \"c51ec748359389aff407bc8e0eb86bf8626090a3\", \"type of polio_regions_line.mark is not str. polio_regions_line.mark should be an str\"\n",
    "assert sha1(str(len(polio_regions_line.mark)).encode(\"utf-8\")+b\"532b40fe2342132f\").hexdigest() == \"feebf3c50ef6f51c57bd4d659d78ccf66fb635d7\", \"length of polio_regions_line.mark is not correct\"\n",
    "assert sha1(str(polio_regions_line.mark.lower()).encode(\"utf-8\")+b\"532b40fe2342132f\").hexdigest() == \"ca70cacdbb166badc772d561b731ba0ac63beaab\", \"value of polio_regions_line.mark is not correct\"\n",
    "assert sha1(str(polio_regions_line.mark).encode(\"utf-8\")+b\"532b40fe2342132f\").hexdigest() == \"ca70cacdbb166badc772d561b731ba0ac63beaab\", \"correct string value of polio_regions_line.mark but incorrect case of letters\"\n",
    "\n",
    "assert sha1(str(type(isinstance(polio_regions_line.encoding.x['title'], str))).encode(\"utf-8\")+b\"d55a06a94554150d\").hexdigest() == \"b4b883a6c4e56a11a7366b4d1f0e64049cf5ab12\", \"type of isinstance(polio_regions_line.encoding.x['title'], str) is not bool. isinstance(polio_regions_line.encoding.x['title'], str) should be a bool\"\n",
    "assert sha1(str(isinstance(polio_regions_line.encoding.x['title'], str)).encode(\"utf-8\")+b\"d55a06a94554150d\").hexdigest() == \"ecdc5ecf08a9ff5f2b6d5a53ad43ffeb2864045d\", \"boolean value of isinstance(polio_regions_line.encoding.x['title'], str) is not correct\"\n",
    "\n",
    "assert sha1(str(type(isinstance(polio_regions_line.encoding.y['title'], str))).encode(\"utf-8\")+b\"913b0b8d8f69b3d4\").hexdigest() == \"34cb0d2a6b7315fe31068ed370eddead26cbfcd1\", \"type of isinstance(polio_regions_line.encoding.y['title'], str) is not bool. isinstance(polio_regions_line.encoding.y['title'], str) should be a bool\"\n",
    "assert sha1(str(isinstance(polio_regions_line.encoding.y['title'], str)).encode(\"utf-8\")+b\"913b0b8d8f69b3d4\").hexdigest() == \"889283b0a5b7acb3de38b89a1673270e409258df\", \"boolean value of isinstance(polio_regions_line.encoding.y['title'], str) is not correct\"\n",
    "\n",
    "assert sha1(str(type(polio_regions_line.config.axis.titleFontSize)).encode(\"utf-8\")+b\"5ac0fb7759e66063\").hexdigest() == \"31900d1c48538b29ae9155d961ca45739b473b77\", \"type of polio_regions_line.config.axis.titleFontSize is not int. Please make sure it is int and not np.int64, etc. You can cast your value into an int using int()\"\n",
    "assert sha1(str(polio_regions_line.config.axis.titleFontSize).encode(\"utf-8\")+b\"5ac0fb7759e66063\").hexdigest() == \"2d56939c565cd54e631ff95c701f1a776d0ad74c\", \"value of polio_regions_line.config.axis.titleFontSize is not correct\"\n",
    "\n",
    "assert sha1(str(type(polio_regions_line.config.axis.titleFontSize)).encode(\"utf-8\")+b\"ed7d6f1e47a26dd7\").hexdigest() == \"a041d446e7cb0fa19e622e23d1c9908f03664a74\", \"type of polio_regions_line.config.axis.titleFontSize is not int. Please make sure it is int and not np.int64, etc. You can cast your value into an int using int()\"\n",
    "assert sha1(str(polio_regions_line.config.axis.titleFontSize).encode(\"utf-8\")+b\"ed7d6f1e47a26dd7\").hexdigest() == \"9cc160949d46842a2326c2b0399c509b5a5e945b\", \"value of polio_regions_line.config.axis.titleFontSize is not correct\"\n",
    "\n",
    "assert sha1(str(type(polio_regions_line.width)).encode(\"utf-8\")+b\"c5218f9017bea8d5\").hexdigest() == \"d96f31ba7c3ddf22916ea6f2476d8c1c0a6f3ada\", \"type of polio_regions_line.width is not int. Please make sure it is int and not np.int64, etc. You can cast your value into an int using int()\"\n",
    "assert sha1(str(polio_regions_line.width).encode(\"utf-8\")+b\"c5218f9017bea8d5\").hexdigest() == \"3ff6fbaf20ccedbac70123807c5a62b34aaeeb8d\", \"value of polio_regions_line.width is not correct\"\n",
    "\n",
    "print('Success!')"
   ]
  },
  {
   "cell_type": "markdown",
   "metadata": {
    "deletable": false,
    "editable": false,
    "nbgrader": {
     "cell_type": "markdown",
     "checksum": "d970c40d0ca81d47671c9891b9420afd",
     "grade": false,
     "grade_id": "cell-99db863d291c52b2",
     "locked": true,
     "schema_version": 3,
     "solution": false
    }
   },
   "source": [
    "**Question 1.8**\n",
    "<br> {points: 1}\n",
    "\n",
    "Now that we know how to effectively plot the percentage vaccinated against Polio over time for each region, how might we compare this to what we see for each region for the percentage vaccinated against Hepatitis B? In this case we would like two plots next to each other, which we can get using a technique called \"facetting\". We saw facetting last week, and now we will take some time to learn it.\n",
    "\n",
    "The basic syntax for the `altair` facet function is the following:\n",
    "\n",
    "```\n",
    "# Creates horizontally arranged side by side plots for each category in COLUMN_X\n",
    "facet('COLUMN_X')\n",
    "```\n",
    "\n",
    "or \n",
    "\n",
    "```\n",
    "# Creates a single column of vertically arranged plots for each category in COLUMN_X\n",
    "facet('COLUMN_X', columns=1)\n",
    "```\n",
    "\n",
    "Create a plot like the one named `polio_regions_line` but instead of using the `polio` data frame, use the `world_vaccination` data frame, and facet on the column `vaccine` so that the two plots are side-by-side. Name this plot object `side_by_side_world`. Use the default chart width to make sure the plot size fit well within the worksheet."
   ]
  },
  {
   "cell_type": "code",
   "execution_count": null,
   "metadata": {
    "deletable": false,
    "nbgrader": {
     "cell_type": "code",
     "checksum": "08ad77abe846c4cb319a49f1c8181796",
     "grade": false,
     "grade_id": "cell-1703a03640493439",
     "locked": false,
     "schema_version": 3,
     "solution": true
    }
   },
   "outputs": [],
   "source": [
    "# ___ = alt.Chart(___).___().encode(\n",
    "#     x=alt.X(___)\n",
    "#         .title(___)\n",
    "#         .scale(zero=False),\n",
    "#     y=alt.Y(___)\n",
    "#         .title(___),\n",
    "#     color=alt.Color(___).title(___)\n",
    "# ).facet(\n",
    "#     ___\n",
    "# ).configure_axis(\n",
    "#     ___\n",
    "# )\n",
    "\n",
    "# your code here\n",
    "raise NotImplementedError\n",
    "side_by_side_world"
   ]
  },
  {
   "cell_type": "code",
   "execution_count": null,
   "metadata": {
    "deletable": false,
    "editable": false,
    "nbgrader": {
     "cell_type": "code",
     "checksum": "996ddf6d2e92922399542c2687fd9600",
     "grade": true,
     "grade_id": "cell-da960eda0165bd94",
     "locked": true,
     "points": 1,
     "schema_version": 3,
     "solution": false
    }
   },
   "outputs": [],
   "source": [
    "from hashlib import sha1\n",
    "assert sha1(str(type(side_by_side_world is None)).encode(\"utf-8\")+b\"126bbec37e8974e3\").hexdigest() == \"d6c8333e7b8163c6cea34f30d02b4768903f58d1\", \"type of side_by_side_world is None is not bool. side_by_side_world is None should be a bool\"\n",
    "assert sha1(str(side_by_side_world is None).encode(\"utf-8\")+b\"126bbec37e8974e3\").hexdigest() == \"dfe060c545ce0a34e936fef4de7683fbf6aabd5f\", \"boolean value of side_by_side_world is None is not correct\"\n",
    "\n",
    "assert sha1(str(type(side_by_side_world.facet)).encode(\"utf-8\")+b\"e7ecc4225bdc0e62\").hexdigest() == \"cf6e2baf22d8fec821dbec96715ea9fc007d7a8a\", \"type of side_by_side_world.facet is not correct\"\n",
    "assert sha1(str(side_by_side_world.facet).encode(\"utf-8\")+b\"e7ecc4225bdc0e62\").hexdigest() == \"5811db80b00b6b71bf1c92d55780fd7554703092\", \"value of side_by_side_world.facet is not correct\"\n",
    "\n",
    "print('Success!')"
   ]
  },
  {
   "cell_type": "markdown",
   "metadata": {
    "deletable": false,
    "editable": false,
    "nbgrader": {
     "cell_type": "markdown",
     "checksum": "66c6d3e0d581923223136355139a3e04",
     "grade": false,
     "grade_id": "cell-bf8e150751b134f6",
     "locked": true,
     "schema_version": 3,
     "solution": false
    }
   },
   "source": [
    "**Question 1.9.1**\n",
    "<br> {points: 1}\n",
    "\n",
    "Now use `facet` to arrange the same two plots vertically (i.e. a single column). Name this plot `vertical_world`."
   ]
  },
  {
   "cell_type": "code",
   "execution_count": null,
   "metadata": {
    "deletable": false,
    "nbgrader": {
     "cell_type": "code",
     "checksum": "9b0c41f975cfa919523b03189b2d2e0a",
     "grade": false,
     "grade_id": "cell-55bbd1d0a2ea4a40",
     "locked": false,
     "schema_version": 3,
     "solution": true
    }
   },
   "outputs": [],
   "source": [
    "# your code here\n",
    "raise NotImplementedError\n",
    "vertical_world"
   ]
  },
  {
   "cell_type": "code",
   "execution_count": null,
   "metadata": {
    "deletable": false,
    "editable": false,
    "nbgrader": {
     "cell_type": "code",
     "checksum": "c7c2fda965aec561c5362c3d90eeb682",
     "grade": true,
     "grade_id": "cell-2a2384fca721cc8a",
     "locked": true,
     "points": 1,
     "schema_version": 3,
     "solution": false
    }
   },
   "outputs": [],
   "source": [
    "from hashlib import sha1\n",
    "assert sha1(str(type(vertical_world is None)).encode(\"utf-8\")+b\"6f47c8bcd625b33b\").hexdigest() == \"c84a00bdedaf401cc90354d7f77b5feaa1505a5b\", \"type of vertical_world is None is not bool. vertical_world is None should be a bool\"\n",
    "assert sha1(str(vertical_world is None).encode(\"utf-8\")+b\"6f47c8bcd625b33b\").hexdigest() == \"7d5cc1da1d3b9456ea1b612d1e7c561e4e6655e8\", \"boolean value of vertical_world is None is not correct\"\n",
    "\n",
    "assert sha1(str(type(vertical_world.columns)).encode(\"utf-8\")+b\"24bd48c81ac85376\").hexdigest() == \"b028add59744887b7c06554d2509e80fc804df92\", \"type of vertical_world.columns is not int. Please make sure it is int and not np.int64, etc. You can cast your value into an int using int()\"\n",
    "assert sha1(str(vertical_world.columns).encode(\"utf-8\")+b\"24bd48c81ac85376\").hexdigest() == \"78c7406f775f17732d3a6d3b18cab74d45bcce3a\", \"value of vertical_world.columns is not correct\"\n",
    "\n",
    "assert sha1(str(type(vertical_world.facet)).encode(\"utf-8\")+b\"43f693dc8ab7bfec\").hexdigest() == \"79b24bdc041458ae22f32c27cb8f7eca58c893b3\", \"type of vertical_world.facet is not correct\"\n",
    "assert sha1(str(vertical_world.facet).encode(\"utf-8\")+b\"43f693dc8ab7bfec\").hexdigest() == \"c1228a58d970ff79bdff56ba486998c3be0a7a15\", \"value of vertical_world.facet is not correct\"\n",
    "\n",
    "print('Success!')"
   ]
  },
  {
   "cell_type": "markdown",
   "metadata": {
    "deletable": false,
    "editable": false,
    "nbgrader": {
     "cell_type": "markdown",
     "checksum": "87c62d43656c57cce3f8c39b53ac89fb",
     "grade": false,
     "grade_id": "cell-8cba902e440bfbf8",
     "locked": true,
     "schema_version": 3,
     "solution": false,
     "task": false
    }
   },
   "source": [
    "Which arrangement is better? Depends on what you are asking! If you are interested in comparing the rate at which things changed over time (exact location on the x-axis), then the vertical arrangement is more effective. However, if you are interested in comparing the exact percentage values between the lines across facets (exact location on the y-axis) at certain points in time then the side-by-side arrangement is more effective."
   ]
  },
  {
   "cell_type": "markdown",
   "metadata": {
    "deletable": false,
    "editable": false,
    "nbgrader": {
     "cell_type": "markdown",
     "checksum": "fa67020d3aafa34b64ee55af0fe320c5",
     "grade": false,
     "grade_id": "cell-6e7d28492998c804",
     "locked": true,
     "schema_version": 3,
     "solution": false
    }
   },
   "source": [
    "**Question 1.9.2** Multiple Choice:\n",
    "<br> {points: 1}\n",
    "\n",
    "Which WHO region had the greatest progress in the shortest period of time in either Hepatitis B and in Polio (using the data we plotted above)?\n",
    "\n",
    "\n",
    "A. Americas\n",
    "\n",
    "B. Eastern Mediterranean\n",
    "\n",
    "C. Europe\n",
    "\n",
    "D. Western Pacific\n",
    "\n",
    "*Assign your answer to an object called `answer1_9_2`. Make sure your answer is an uppercase letter and is surrounded by quotation marks (e.g. `\"F\"`).*"
   ]
  },
  {
   "cell_type": "code",
   "execution_count": null,
   "metadata": {
    "deletable": false,
    "nbgrader": {
     "cell_type": "code",
     "checksum": "76d3652fb9236545f6bc846328fbbf96",
     "grade": false,
     "grade_id": "cell-2f8d6a1dce2d67ae",
     "locked": false,
     "schema_version": 3,
     "solution": true
    }
   },
   "outputs": [],
   "source": [
    "# your code here\n",
    "raise NotImplementedError"
   ]
  },
  {
   "cell_type": "code",
   "execution_count": null,
   "metadata": {
    "deletable": false,
    "editable": false,
    "nbgrader": {
     "cell_type": "code",
     "checksum": "3f5b61167f710df397315ee56ab455fe",
     "grade": true,
     "grade_id": "cell-a69f9766adab9544",
     "locked": true,
     "points": 1,
     "schema_version": 3,
     "solution": false
    }
   },
   "outputs": [],
   "source": [
    "from hashlib import sha1\n",
    "assert sha1(str(type(answer1_9_2)).encode(\"utf-8\")+b\"dac94eea30c8293b\").hexdigest() == \"3eea7cf54d2a510aa52885bfb0bfc9c0402e15c3\", \"type of answer1_9_2 is not str. answer1_9_2 should be an str\"\n",
    "assert sha1(str(len(answer1_9_2)).encode(\"utf-8\")+b\"dac94eea30c8293b\").hexdigest() == \"ff8049f652a6bed8d5bae2746addf64268690adc\", \"length of answer1_9_2 is not correct\"\n",
    "assert sha1(str(answer1_9_2.lower()).encode(\"utf-8\")+b\"dac94eea30c8293b\").hexdigest() == \"5fdeb1fa9a657e40969642b733715c34da488c7d\", \"value of answer1_9_2 is not correct\"\n",
    "assert sha1(str(answer1_9_2).encode(\"utf-8\")+b\"dac94eea30c8293b\").hexdigest() == \"fe9ed6673360eaf12d2b60412bd7f0b353d61f2e\", \"correct string value of answer1_9_2 but incorrect case of letters\"\n",
    "\n",
    "print('Success!')"
   ]
  },
  {
   "cell_type": "markdown",
   "metadata": {
    "deletable": false,
    "editable": false,
    "nbgrader": {
     "cell_type": "markdown",
     "checksum": "d44f5db0fc14b57fbf099cd8f5b94579",
     "grade": false,
     "grade_id": "cell-5ded190fc1855d5b",
     "locked": true,
     "schema_version": 3,
     "solution": false,
     "task": false
    }
   },
   "source": [
    "## 2. Fast-Food Chains in the United States\n",
    "\n",
    "With their cheap meals and convenient drive-thrus, fast food restaurants are a growing demand in many countries. Despite their questionable ingredients and nutritional value, most Americans count on fast food in their daily lives (they are often delicious and so hard to resist...). \n",
    "\n",
    "<img src=\"https://media.giphy.com/media/NS6SKs3Lt8cPHhe0es/giphy.gif\" width = \"400\"/>\n",
    "\n",
    "Source: https://media.giphy.com/media/NS6SKs3Lt8cPHhe0es/giphy.gif\n",
    "\n",
    "According to Wikipedia,\n",
    ">  Fast food was originally created as a commercial strategy to accommodate the larger numbers of busy commuters, travelers and wage workers who often didn't have the time to sit down at a public house or diner and wait the normal way for their food to be cooked. By making speed of service the priority, this ensured that customers with strictly limited time (a commuter stopping to procure dinner to bring home to their family, for example, or an hourly laborer on a short lunch break) were not inconvenienced by waiting for their food to be cooked on-the-spot (as is expected from a traditional \"sit down\" restaurant). For those with no time to spare, fast food became a multi-billion dollar industry.\n",
    "\n",
    "Currently, fast food is the norm and lots of businesses are investing in advertisement as well as new ideas to make their chain stand out in the sea of restaurants. In fact, one business is hiring you. They want to know the layout of the landscape:\n",
    "\n",
    "1) Which is the most prevalent franchise on the west coast of the US? \n",
    "\n",
    "2) Which state has the highest number of fast-food restuarants? \n",
    "\n",
    "3) Is the most dominant franchise consistent across the west coast?\n",
    "\n",
    "In this assignment, you will pretend to assist in the opening of a new restaurant somewhere on the west coast of the United States (California, Oregon, or Washington). Your goal is to figure out which fast food chain to recommend and figure out which state would be the least competitive.\n",
    "\n",
    "The columns in the dataset are:\n",
    "\n",
    "- `name` - The name of the restaurant\n",
    "- `st` - State"
   ]
  },
  {
   "cell_type": "markdown",
   "metadata": {
    "deletable": false,
    "editable": false,
    "nbgrader": {
     "cell_type": "markdown",
     "checksum": "b2f571f033a07018dee699e0533800f0",
     "grade": false,
     "grade_id": "cell-1d4483955210a104",
     "locked": true,
     "schema_version": 3,
     "solution": false
    }
   },
   "source": [
    "**Question 2.1** Multiple Choice:\n",
    "<br> {points: 1}\n",
    "\n",
    "From the list below, what are you *not* trying to determine:\n",
    "\n",
    "A. The west coast frachise with the greatest prevalence\n",
    "\n",
    "B. The least dominant franchise consistent across the west coast\n",
    "\n",
    "C. The state on the west coast with the greatest number of fast-food restuarants\n",
    "\n",
    "*Assign your answer to an object called `answer2_1`. Make sure your answer is an uppercase letter and is surrounded by quotation marks (e.g. `\"F\"`).*"
   ]
  },
  {
   "cell_type": "code",
   "execution_count": null,
   "metadata": {
    "deletable": false,
    "nbgrader": {
     "cell_type": "code",
     "checksum": "ef477bd25d540eded7b3d5e4e2e13682",
     "grade": false,
     "grade_id": "cell-ee7c5c9ca8b83d19",
     "locked": false,
     "schema_version": 3,
     "solution": true
    }
   },
   "outputs": [],
   "source": [
    "# your code here\n",
    "raise NotImplementedError"
   ]
  },
  {
   "cell_type": "code",
   "execution_count": null,
   "metadata": {
    "deletable": false,
    "editable": false,
    "nbgrader": {
     "cell_type": "code",
     "checksum": "d21d32cf3ef07437cd0c467f3f4db858",
     "grade": true,
     "grade_id": "cell-22af5054ff59eadd",
     "locked": true,
     "points": 1,
     "schema_version": 3,
     "solution": false
    }
   },
   "outputs": [],
   "source": [
    "from hashlib import sha1\n",
    "assert sha1(str(type(answer2_1)).encode(\"utf-8\")+b\"004b69d28ba54825\").hexdigest() == \"ace12ab83043b9265cf4bdc4c44cd51b69125752\", \"type of answer2_1 is not str. answer2_1 should be an str\"\n",
    "assert sha1(str(len(answer2_1)).encode(\"utf-8\")+b\"004b69d28ba54825\").hexdigest() == \"eded0b6e1f28218fd4e444d4414334a9571deb23\", \"length of answer2_1 is not correct\"\n",
    "assert sha1(str(answer2_1.lower()).encode(\"utf-8\")+b\"004b69d28ba54825\").hexdigest() == \"5e92e7a19e7ebb8dd6fd9547f7abaf85c8948879\", \"value of answer2_1 is not correct\"\n",
    "assert sha1(str(answer2_1).encode(\"utf-8\")+b\"004b69d28ba54825\").hexdigest() == \"90d5d6ae7c2f8ac000ef971691776ae2ccb317e5\", \"correct string value of answer2_1 but incorrect case of letters\"\n",
    "\n",
    "print('Success!')"
   ]
  },
  {
   "cell_type": "markdown",
   "metadata": {
    "deletable": false,
    "editable": false,
    "nbgrader": {
     "cell_type": "markdown",
     "checksum": "aa85db0f0538a8727cf7b54727473a6c",
     "grade": false,
     "grade_id": "cell-2a0d906c102c421a",
     "locked": true,
     "schema_version": 3,
     "solution": false
    }
   },
   "source": [
    "**Question 2.2**\n",
    "<br> {points: 1}\n",
    "\n",
    "Read the `fast_food.csv` file (found in the `data` directory) and assign it to an object called `fast_food`."
   ]
  },
  {
   "cell_type": "code",
   "execution_count": null,
   "metadata": {
    "deletable": false,
    "nbgrader": {
     "cell_type": "code",
     "checksum": "239828ab95e408029def1ca051c2a652",
     "grade": false,
     "grade_id": "cell-84ec1117f0f1e0d4",
     "locked": false,
     "schema_version": 3,
     "solution": true
    }
   },
   "outputs": [],
   "source": [
    "# your code here\n",
    "raise NotImplementedError\n",
    "fast_food"
   ]
  },
  {
   "cell_type": "code",
   "execution_count": null,
   "metadata": {
    "deletable": false,
    "editable": false,
    "nbgrader": {
     "cell_type": "code",
     "checksum": "6da49b630f1cdbb2ad0dc5566552c005",
     "grade": true,
     "grade_id": "cell-f61886d392c4a00a",
     "locked": true,
     "points": 1,
     "schema_version": 3,
     "solution": false
    }
   },
   "outputs": [],
   "source": [
    "from hashlib import sha1\n",
    "assert sha1(str(type(fast_food is None)).encode(\"utf-8\")+b\"adbcb70b5284c509\").hexdigest() == \"3f90b7883e8664887266348811b5156087e3791f\", \"type of fast_food is None is not bool. fast_food is None should be a bool\"\n",
    "assert sha1(str(fast_food is None).encode(\"utf-8\")+b\"adbcb70b5284c509\").hexdigest() == \"fb049d91a115efcaa8b073d956cb64e962acb817\", \"boolean value of fast_food is None is not correct\"\n",
    "\n",
    "assert sha1(str(type(fast_food.shape)).encode(\"utf-8\")+b\"563354b9c23e189c\").hexdigest() == \"b9e5a9397309401f265af655832a64d7bf2e2e43\", \"type of fast_food.shape is not tuple. fast_food.shape should be a tuple\"\n",
    "assert sha1(str(len(fast_food.shape)).encode(\"utf-8\")+b\"563354b9c23e189c\").hexdigest() == \"966157bf4354e489afd8b1b372ddec2a575d4e79\", \"length of fast_food.shape is not correct\"\n",
    "assert sha1(str(sorted(map(str, fast_food.shape))).encode(\"utf-8\")+b\"563354b9c23e189c\").hexdigest() == \"3188b32af7d486728d4b5fa8aacc081a222d0525\", \"values of fast_food.shape are not correct\"\n",
    "assert sha1(str(fast_food.shape).encode(\"utf-8\")+b\"563354b9c23e189c\").hexdigest() == \"dabba664c856785d0a074408fcd6cfa3a63c244a\", \"order of elements of fast_food.shape is not correct\"\n",
    "\n",
    "assert sha1(str(type(fast_food.iloc[2, 0])).encode(\"utf-8\")+b\"cdbfa864122a0bac\").hexdigest() == \"4b9b474bd7134877a135d786aca9f676c1dbea42\", \"type of fast_food.iloc[2, 0] is not str. fast_food.iloc[2, 0] should be an str\"\n",
    "assert sha1(str(len(fast_food.iloc[2, 0])).encode(\"utf-8\")+b\"cdbfa864122a0bac\").hexdigest() == \"be99598e632930e13d8e95b80cc000980bc647f6\", \"length of fast_food.iloc[2, 0] is not correct\"\n",
    "assert sha1(str(fast_food.iloc[2, 0].lower()).encode(\"utf-8\")+b\"cdbfa864122a0bac\").hexdigest() == \"0594a51b82860cc4cf3cbb2b2a10ac447469bc76\", \"value of fast_food.iloc[2, 0] is not correct\"\n",
    "assert sha1(str(fast_food.iloc[2, 0]).encode(\"utf-8\")+b\"cdbfa864122a0bac\").hexdigest() == \"287952a8b594aee3ba54b021663c06afdad058a6\", \"correct string value of fast_food.iloc[2, 0] but incorrect case of letters\"\n",
    "\n",
    "assert sha1(str(type(fast_food.iloc[3, 1])).encode(\"utf-8\")+b\"f205b4602b4d11a3\").hexdigest() == \"bb28566e49dde332129790031ce85b31ec26b4c7\", \"type of fast_food.iloc[3, 1] is not str. fast_food.iloc[3, 1] should be an str\"\n",
    "assert sha1(str(len(fast_food.iloc[3, 1])).encode(\"utf-8\")+b\"f205b4602b4d11a3\").hexdigest() == \"1eba51f4143728a57fcc25c15ff8109aaa28e0f0\", \"length of fast_food.iloc[3, 1] is not correct\"\n",
    "assert sha1(str(fast_food.iloc[3, 1].lower()).encode(\"utf-8\")+b\"f205b4602b4d11a3\").hexdigest() == \"e0952710abaf0a8902e3e5ee56560311bce337b6\", \"value of fast_food.iloc[3, 1] is not correct\"\n",
    "assert sha1(str(fast_food.iloc[3, 1]).encode(\"utf-8\")+b\"f205b4602b4d11a3\").hexdigest() == \"3a8c63c50f7e271045cb88e927c589563187b842\", \"correct string value of fast_food.iloc[3, 1] but incorrect case of letters\"\n",
    "\n",
    "print('Success!')"
   ]
  },
  {
   "cell_type": "markdown",
   "metadata": {
    "deletable": false,
    "editable": false,
    "nbgrader": {
     "cell_type": "markdown",
     "checksum": "d865e8ca139f00d3d978512805cb813b",
     "grade": false,
     "grade_id": "cell-b752f228aa364c90",
     "locked": true,
     "schema_version": 3,
     "solution": false,
     "task": false
    }
   },
   "source": [
    "**Question 2.2.1** Multiple Choice:\n",
    "<br> {points: 1}\n",
    "\n",
    "What does each row in the dataset represent?\n",
    "\n",
    "A. The number of branches from a given franchise and state\n",
    "\n",
    "B. A unique branch of a given franchise in a given state\n",
    "\n",
    "C. An indicator of whether a given franchise is present in a given state\n",
    "\n",
    "*Assign your answer to an object called `answer2_2_1`. Make sure your answer is an uppercase letter and is surrounded by quotation marks (e.g. `\"F\"`).*"
   ]
  },
  {
   "cell_type": "code",
   "execution_count": null,
   "metadata": {
    "deletable": false,
    "nbgrader": {
     "cell_type": "code",
     "checksum": "e29b6e4a6c2546e97da764cbaa11927f",
     "grade": false,
     "grade_id": "cell-3b610030c80671d3",
     "locked": false,
     "schema_version": 3,
     "solution": true,
     "task": false
    }
   },
   "outputs": [],
   "source": [
    "# your code here\n",
    "raise NotImplementedError"
   ]
  },
  {
   "cell_type": "code",
   "execution_count": null,
   "metadata": {
    "deletable": false,
    "editable": false,
    "nbgrader": {
     "cell_type": "code",
     "checksum": "3cd418c796280e4b30d37791820f200c",
     "grade": true,
     "grade_id": "cell-d5c80de7a7a08e65",
     "locked": true,
     "points": 1,
     "schema_version": 3,
     "solution": false,
     "task": false
    }
   },
   "outputs": [],
   "source": [
    "from hashlib import sha1\n",
    "assert sha1(str(type(answer2_2_1)).encode(\"utf-8\")+b\"7c830d0f7ee3cf91\").hexdigest() == \"8d60d50a0e8f6b7327214d8b1f2ad91f7ae28b03\", \"type of answer2_2_1 is not str. answer2_2_1 should be an str\"\n",
    "assert sha1(str(len(answer2_2_1)).encode(\"utf-8\")+b\"7c830d0f7ee3cf91\").hexdigest() == \"44e178f850c213b1c52613f6319b8b528ebc5a59\", \"length of answer2_2_1 is not correct\"\n",
    "assert sha1(str(answer2_2_1.lower()).encode(\"utf-8\")+b\"7c830d0f7ee3cf91\").hexdigest() == \"fa0d0ffd56a42a1402427224bac8c030da6676d4\", \"value of answer2_2_1 is not correct\"\n",
    "assert sha1(str(answer2_2_1).encode(\"utf-8\")+b\"7c830d0f7ee3cf91\").hexdigest() == \"8c497d89c7f79c12984153f1cc60325750389a92\", \"correct string value of answer2_2_1 but incorrect case of letters\"\n",
    "\n",
    "print('Success!')"
   ]
  },
  {
   "cell_type": "markdown",
   "metadata": {
    "deletable": false,
    "editable": false,
    "nbgrader": {
     "cell_type": "markdown",
     "checksum": "17279d8fcb2520cd558a5a3595c9af0a",
     "grade": false,
     "grade_id": "cell-0df97ab2333937cb",
     "locked": true,
     "schema_version": 3,
     "solution": false
    }
   },
   "source": [
    "**Question 2.3** \n",
    "<br> {points: 1}\n",
    "\n",
    "Next, find the top 9 restaurants (in terms of number of locations) on the west coast (in the states \"CA\", \"WA\" or \"OR\") and name them `top_restaurants`.\n",
    "\n",
    "Fill in the `___` in the cell below.\n",
    "\n",
    "*Assign your answer to an object called `top_restaurants`. Note that for the line that reads `___(9)` there are two possible correct answers and you can choose either one of them.*"
   ]
  },
  {
   "cell_type": "code",
   "execution_count": null,
   "metadata": {
    "deletable": false,
    "nbgrader": {
     "cell_type": "code",
     "checksum": "97e27334456656754ae07a95bf5e1cf5",
     "grade": false,
     "grade_id": "cell-5c06ffd85d7fa572",
     "locked": false,
     "schema_version": 3,
     "solution": true
    }
   },
   "outputs": [],
   "source": [
    "# ___ = (\n",
    "#     fast_food[fast_food[___].isin(___)]\n",
    "#     .value_counts(___)\n",
    "#     .___(9)\n",
    "#     .reset_index()\n",
    "# )\n",
    "\n",
    "# your code here\n",
    "raise NotImplementedError\n",
    "top_restaurants"
   ]
  },
  {
   "cell_type": "code",
   "execution_count": null,
   "metadata": {
    "deletable": false,
    "editable": false,
    "nbgrader": {
     "cell_type": "code",
     "checksum": "21d0b80fd1fb36dd422cc32234d48300",
     "grade": true,
     "grade_id": "cell-f2aa06843158a15e",
     "locked": true,
     "points": 1,
     "schema_version": 3,
     "solution": false
    }
   },
   "outputs": [],
   "source": [
    "from hashlib import sha1\n",
    "assert sha1(str(type(top_restaurants is None)).encode(\"utf-8\")+b\"b29d4eef07faed39\").hexdigest() == \"a77ce0f73d92461191f1bd0d705f1afd5ff91087\", \"type of top_restaurants is None is not bool. top_restaurants is None should be a bool\"\n",
    "assert sha1(str(top_restaurants is None).encode(\"utf-8\")+b\"b29d4eef07faed39\").hexdigest() == \"fc0865f1df5574246c97225cde5a3d461e7527b0\", \"boolean value of top_restaurants is None is not correct\"\n",
    "\n",
    "assert sha1(str(type(top_restaurants.shape)).encode(\"utf-8\")+b\"d191c42522b0da13\").hexdigest() == \"b2dac76f11579146f92841e4112a955545d88ea7\", \"type of top_restaurants.shape is not tuple. top_restaurants.shape should be a tuple\"\n",
    "assert sha1(str(len(top_restaurants.shape)).encode(\"utf-8\")+b\"d191c42522b0da13\").hexdigest() == \"a38415e5a624908dafd66a9fbfd05367dd9c75de\", \"length of top_restaurants.shape is not correct\"\n",
    "assert sha1(str(sorted(map(str, top_restaurants.shape))).encode(\"utf-8\")+b\"d191c42522b0da13\").hexdigest() == \"28939fd3ce4c664b1554cd63949ffe0561efcb67\", \"values of top_restaurants.shape are not correct\"\n",
    "assert sha1(str(top_restaurants.shape).encode(\"utf-8\")+b\"d191c42522b0da13\").hexdigest() == \"b9bd8aa336da627e780ed87dc38d03672a84db60\", \"order of elements of top_restaurants.shape is not correct\"\n",
    "\n",
    "assert sha1(str(type(sum(top_restaurants['count']))).encode(\"utf-8\")+b\"6410e2c747a47bce\").hexdigest() == \"2167c94a564376760a862a830d6f9ed3aa6e13a3\", \"type of sum(top_restaurants['count']) is not int. Please make sure it is int and not np.int64, etc. You can cast your value into an int using int()\"\n",
    "assert sha1(str(sum(top_restaurants['count'])).encode(\"utf-8\")+b\"6410e2c747a47bce\").hexdigest() == \"7b33b738cb2a8f42c44fa9aca81a3e0bb5379e9b\", \"value of sum(top_restaurants['count']) is not correct\"\n",
    "\n",
    "print('Success!')"
   ]
  },
  {
   "cell_type": "markdown",
   "metadata": {
    "deletable": false,
    "editable": false,
    "nbgrader": {
     "cell_type": "markdown",
     "checksum": "2805058d4f45bb9d4d654ff154ffd8df",
     "grade": false,
     "grade_id": "cell-49f4f43165cf12c8",
     "locked": true,
     "schema_version": 3,
     "solution": false
    }
   },
   "source": [
    "**Question 2.4** \n",
    "<br> {points: 1}\n",
    "\n",
    "Even though we can use the table above to answer the question: \"(1) Which is the most prevalent franchise on the west coast of the US?\" A table is not always the clearest way of showing information (although sometimes it might be). In our case a bar plot could be more helpful, so let's create one!\n",
    "\n",
    "Plot the counts for the top 9 fast food restaurants on the west coast as a bar chart using `mark_bar` with the `top_restaurants` dataframe. The number of restaurants should be on the y-axis and the restaurant names should be on the x-axis. \n",
    "\n",
    "To do this fill in the `___` in the cell below. Make sure to label your axes and choose an appropriate figure size using `properties`.\n",
    "\n",
    "*Assign your answer to an object called `count_bar_chart`.*"
   ]
  },
  {
   "cell_type": "code",
   "execution_count": null,
   "metadata": {
    "deletable": false,
    "nbgrader": {
     "cell_type": "code",
     "checksum": "897a659a9ac543dc1fbae50902335460",
     "grade": false,
     "grade_id": "cell-7fa524ccd31a0eb3",
     "locked": false,
     "schema_version": 3,
     "solution": true
    }
   },
   "outputs": [],
   "source": [
    "# ___ = alt.Chart(___).mark_bar().encode(\n",
    "#     x=alt.X(___).title(___),\n",
    "#     y=alt.Y(___).title(___)\n",
    "# )\n",
    "\n",
    "# your code here\n",
    "raise NotImplementedError\n",
    "count_bar_chart"
   ]
  },
  {
   "cell_type": "code",
   "execution_count": null,
   "metadata": {
    "deletable": false,
    "editable": false,
    "nbgrader": {
     "cell_type": "code",
     "checksum": "411812c9a6628719b895921fe754e7ab",
     "grade": true,
     "grade_id": "cell-75b9ba0facc9e21e",
     "locked": true,
     "points": 1,
     "schema_version": 3,
     "solution": false
    }
   },
   "outputs": [],
   "source": [
    "from hashlib import sha1\n",
    "assert sha1(str(type(count_bar_chart is None)).encode(\"utf-8\")+b\"4d7aa66878eb40be\").hexdigest() == \"8abd63ace295ebbaa6becb680df20453e20c4e6e\", \"type of count_bar_chart is None is not bool. count_bar_chart is None should be a bool\"\n",
    "assert sha1(str(count_bar_chart is None).encode(\"utf-8\")+b\"4d7aa66878eb40be\").hexdigest() == \"33bdef14145aea87294de67fde9236b2f523e4c4\", \"boolean value of count_bar_chart is None is not correct\"\n",
    "\n",
    "assert sha1(str(type(count_bar_chart.encoding.x['shorthand'])).encode(\"utf-8\")+b\"9e20b0c12eca2b05\").hexdigest() == \"951aba324898663f9a880ba0c71c5ce051eb8e14\", \"type of count_bar_chart.encoding.x['shorthand'] is not str. count_bar_chart.encoding.x['shorthand'] should be an str\"\n",
    "assert sha1(str(len(count_bar_chart.encoding.x['shorthand'])).encode(\"utf-8\")+b\"9e20b0c12eca2b05\").hexdigest() == \"f81288946313b9cb6596c3b67cced3cbf15a3d85\", \"length of count_bar_chart.encoding.x['shorthand'] is not correct\"\n",
    "assert sha1(str(count_bar_chart.encoding.x['shorthand'].lower()).encode(\"utf-8\")+b\"9e20b0c12eca2b05\").hexdigest() == \"18dbaad5fa4ed6197f406f0ed403ba9bc915215f\", \"value of count_bar_chart.encoding.x['shorthand'] is not correct\"\n",
    "assert sha1(str(count_bar_chart.encoding.x['shorthand']).encode(\"utf-8\")+b\"9e20b0c12eca2b05\").hexdigest() == \"18dbaad5fa4ed6197f406f0ed403ba9bc915215f\", \"correct string value of count_bar_chart.encoding.x['shorthand'] but incorrect case of letters\"\n",
    "\n",
    "assert sha1(str(type(count_bar_chart.encoding.y['shorthand'])).encode(\"utf-8\")+b\"f16c5ccfa4ce184b\").hexdigest() == \"be98c4d1234a0c59048df8c4e097b926e9d2f0a7\", \"type of count_bar_chart.encoding.y['shorthand'] is not str. count_bar_chart.encoding.y['shorthand'] should be an str\"\n",
    "assert sha1(str(len(count_bar_chart.encoding.y['shorthand'])).encode(\"utf-8\")+b\"f16c5ccfa4ce184b\").hexdigest() == \"fe60a6da3790fcffd1889b78ae9dae100ef5cc01\", \"length of count_bar_chart.encoding.y['shorthand'] is not correct\"\n",
    "assert sha1(str(count_bar_chart.encoding.y['shorthand'].lower()).encode(\"utf-8\")+b\"f16c5ccfa4ce184b\").hexdigest() == \"7022a18375f6f061debb52837a14f478e3494bf6\", \"value of count_bar_chart.encoding.y['shorthand'] is not correct\"\n",
    "assert sha1(str(count_bar_chart.encoding.y['shorthand']).encode(\"utf-8\")+b\"f16c5ccfa4ce184b\").hexdigest() == \"7022a18375f6f061debb52837a14f478e3494bf6\", \"correct string value of count_bar_chart.encoding.y['shorthand'] but incorrect case of letters\"\n",
    "\n",
    "assert sha1(str(type(count_bar_chart.mark)).encode(\"utf-8\")+b\"a59e7828259d43ad\").hexdigest() == \"ec80681ecb2ad98675039ad46c90f20b07dd12b8\", \"type of count_bar_chart.mark is not str. count_bar_chart.mark should be an str\"\n",
    "assert sha1(str(len(count_bar_chart.mark)).encode(\"utf-8\")+b\"a59e7828259d43ad\").hexdigest() == \"b8cd96f21f495f9028b26243155d71b6962d7bff\", \"length of count_bar_chart.mark is not correct\"\n",
    "assert sha1(str(count_bar_chart.mark.lower()).encode(\"utf-8\")+b\"a59e7828259d43ad\").hexdigest() == \"7ac2f551d7fd72934661d3461530287832a66d73\", \"value of count_bar_chart.mark is not correct\"\n",
    "assert sha1(str(count_bar_chart.mark).encode(\"utf-8\")+b\"a59e7828259d43ad\").hexdigest() == \"7ac2f551d7fd72934661d3461530287832a66d73\", \"correct string value of count_bar_chart.mark but incorrect case of letters\"\n",
    "\n",
    "assert sha1(str(type(isinstance(count_bar_chart.encoding.x['title'], str))).encode(\"utf-8\")+b\"a5f0075d95839d06\").hexdigest() == \"cd63b5303906b52db4520008e983ee2082aff57c\", \"type of isinstance(count_bar_chart.encoding.x['title'], str) is not bool. isinstance(count_bar_chart.encoding.x['title'], str) should be a bool\"\n",
    "assert sha1(str(isinstance(count_bar_chart.encoding.x['title'], str)).encode(\"utf-8\")+b\"a5f0075d95839d06\").hexdigest() == \"05a24a1e54c6b182cbb16d5e5b9f35547b725dd5\", \"boolean value of isinstance(count_bar_chart.encoding.x['title'], str) is not correct\"\n",
    "\n",
    "assert sha1(str(type(isinstance(count_bar_chart.encoding.y['title'], str))).encode(\"utf-8\")+b\"77f782e7b81ed563\").hexdigest() == \"2f8890f4c668f7dfaf41bfed20c8118002beb4b6\", \"type of isinstance(count_bar_chart.encoding.y['title'], str) is not bool. isinstance(count_bar_chart.encoding.y['title'], str) should be a bool\"\n",
    "assert sha1(str(isinstance(count_bar_chart.encoding.y['title'], str)).encode(\"utf-8\")+b\"77f782e7b81ed563\").hexdigest() == \"530707ba59b86d6949c56549c6b3379ec4d3e54e\", \"boolean value of isinstance(count_bar_chart.encoding.y['title'], str) is not correct\"\n",
    "\n",
    "print('Success!')"
   ]
  },
  {
   "cell_type": "markdown",
   "metadata": {
    "deletable": false,
    "editable": false,
    "nbgrader": {
     "cell_type": "markdown",
     "checksum": "7add420a487054dc979c913212f84279",
     "grade": false,
     "grade_id": "cell-7a9798d1a03634b9",
     "locked": true,
     "schema_version": 3,
     "solution": false,
     "task": false
    }
   },
   "source": [
    "**Question 2.5**\n",
    "<br> {points: 1}\n",
    "\n",
    "The x-axes labels are rotated vertically which makes them hard to read; what can we do? There is a good solution to this problem.\n",
    "\n",
    "**Part A:** We can use the `configure_axis` function to rotate the labels. Choose an angle that you think is appropriate. Choose something between -35 and -55 for the `angle` argument. If you ust want to rotate the labels for only your X axis or Y axis, use `configure_axisX` or `configure_axisY` respectively. Remember that you don't need to recreate the entire chart but can build off the `count_bar_chart` you created in the previous question.\n",
    "\n",
    "*Name the resulting plot count_bar_chart_A.*\n",
    "\n",
    "**Part B:** We can also simply swap the x and the y encoding in the plot, make `n` the X axis and `name` the Y axis.\n",
    "\n",
    "*Name the resulting plot count_bar_chart_B.*"
   ]
  },
  {
   "cell_type": "code",
   "execution_count": null,
   "metadata": {
    "deletable": false,
    "nbgrader": {
     "cell_type": "code",
     "checksum": "c47d354e39a7836fe45590357705555b",
     "grade": false,
     "grade_id": "cell-74b1fc82a7200158",
     "locked": false,
     "schema_version": 3,
     "solution": true
    }
   },
   "outputs": [],
   "source": [
    "# PART A\n",
    "# ___ = ___.configure____(labelAngle=___)\n",
    "\n",
    "# your code here\n",
    "raise NotImplementedError\n",
    "count_bar_chart_A.display()\n",
    "# `display()` is needed to show a chart that is not at the bottom of the notebook cell\n",
    "\n",
    "\n",
    "# PART B\n",
    "# ___ = ___\n",
    "\n",
    "# your code here\n",
    "raise NotImplementedError\n",
    "count_bar_chart_B"
   ]
  },
  {
   "cell_type": "code",
   "execution_count": null,
   "metadata": {
    "deletable": false,
    "editable": false,
    "nbgrader": {
     "cell_type": "code",
     "checksum": "3dc391d08685bb38314292a7fd8a417c",
     "grade": true,
     "grade_id": "cell-6fc37492ce4c8caf",
     "locked": true,
     "points": 1,
     "schema_version": 3,
     "solution": false
    }
   },
   "outputs": [],
   "source": [
    "from hashlib import sha1\n",
    "assert sha1(str(type(count_bar_chart_A is None)).encode(\"utf-8\")+b\"f1812185fb44258f\").hexdigest() == \"1c204726bbbeb8102bb9fbd17295e64995e549d0\", \"type of count_bar_chart_A is None is not bool. count_bar_chart_A is None should be a bool\"\n",
    "assert sha1(str(count_bar_chart_A is None).encode(\"utf-8\")+b\"f1812185fb44258f\").hexdigest() == \"103119832a15de3b87500133ca55ceccb739c9bc\", \"boolean value of count_bar_chart_A is None is not correct\"\n",
    "\n",
    "assert sha1(str(type(count_bar_chart_A.encoding.x['shorthand'])).encode(\"utf-8\")+b\"a1b23a11535bc8b2\").hexdigest() == \"beae8d3a5194b188f6ddd2db94feee146101ce1c\", \"type of count_bar_chart_A.encoding.x['shorthand'] is not str. count_bar_chart_A.encoding.x['shorthand'] should be an str\"\n",
    "assert sha1(str(len(count_bar_chart_A.encoding.x['shorthand'])).encode(\"utf-8\")+b\"a1b23a11535bc8b2\").hexdigest() == \"8a9d7ea39aff137c2fe2a3e4088c40e72dde3836\", \"length of count_bar_chart_A.encoding.x['shorthand'] is not correct\"\n",
    "assert sha1(str(count_bar_chart_A.encoding.x['shorthand'].lower()).encode(\"utf-8\")+b\"a1b23a11535bc8b2\").hexdigest() == \"4ae2cf9625ee48abf2a98f2e46e3cf204422b894\", \"value of count_bar_chart_A.encoding.x['shorthand'] is not correct\"\n",
    "assert sha1(str(count_bar_chart_A.encoding.x['shorthand']).encode(\"utf-8\")+b\"a1b23a11535bc8b2\").hexdigest() == \"4ae2cf9625ee48abf2a98f2e46e3cf204422b894\", \"correct string value of count_bar_chart_A.encoding.x['shorthand'] but incorrect case of letters\"\n",
    "\n",
    "assert sha1(str(type(count_bar_chart_A.encoding.y['shorthand'])).encode(\"utf-8\")+b\"608aef7b79dc1288\").hexdigest() == \"58a04c12a7f31ae6afc7c2247c4b578b8f13121b\", \"type of count_bar_chart_A.encoding.y['shorthand'] is not str. count_bar_chart_A.encoding.y['shorthand'] should be an str\"\n",
    "assert sha1(str(len(count_bar_chart_A.encoding.y['shorthand'])).encode(\"utf-8\")+b\"608aef7b79dc1288\").hexdigest() == \"984f5925ce631f4f30188aeaea3f23df47e5fb9c\", \"length of count_bar_chart_A.encoding.y['shorthand'] is not correct\"\n",
    "assert sha1(str(count_bar_chart_A.encoding.y['shorthand'].lower()).encode(\"utf-8\")+b\"608aef7b79dc1288\").hexdigest() == \"ae394ba5b2632e149d29af3bc62a1f1622833d83\", \"value of count_bar_chart_A.encoding.y['shorthand'] is not correct\"\n",
    "assert sha1(str(count_bar_chart_A.encoding.y['shorthand']).encode(\"utf-8\")+b\"608aef7b79dc1288\").hexdigest() == \"ae394ba5b2632e149d29af3bc62a1f1622833d83\", \"correct string value of count_bar_chart_A.encoding.y['shorthand'] but incorrect case of letters\"\n",
    "\n",
    "assert sha1(str(type(count_bar_chart_A.mark)).encode(\"utf-8\")+b\"81a28941c44403a1\").hexdigest() == \"f680b23e02a90bdef00a9852682fa1a94f8c2948\", \"type of count_bar_chart_A.mark is not str. count_bar_chart_A.mark should be an str\"\n",
    "assert sha1(str(len(count_bar_chart_A.mark)).encode(\"utf-8\")+b\"81a28941c44403a1\").hexdigest() == \"9d445b0bb9150033a4446edc9ce739accaae65cd\", \"length of count_bar_chart_A.mark is not correct\"\n",
    "assert sha1(str(count_bar_chart_A.mark.lower()).encode(\"utf-8\")+b\"81a28941c44403a1\").hexdigest() == \"110e98cfef08fc58a60c9c1cd2f71182b0ba306e\", \"value of count_bar_chart_A.mark is not correct\"\n",
    "assert sha1(str(count_bar_chart_A.mark).encode(\"utf-8\")+b\"81a28941c44403a1\").hexdigest() == \"110e98cfef08fc58a60c9c1cd2f71182b0ba306e\", \"correct string value of count_bar_chart_A.mark but incorrect case of letters\"\n",
    "\n",
    "assert sha1(str(type(isinstance(count_bar_chart_A.encoding.x['title'], str))).encode(\"utf-8\")+b\"fb90de7427d4113b\").hexdigest() == \"38140c1c5ec0d7f12a2bee65407c1f0c26fbaa51\", \"type of isinstance(count_bar_chart_A.encoding.x['title'], str) is not bool. isinstance(count_bar_chart_A.encoding.x['title'], str) should be a bool\"\n",
    "assert sha1(str(isinstance(count_bar_chart_A.encoding.x['title'], str)).encode(\"utf-8\")+b\"fb90de7427d4113b\").hexdigest() == \"f31302dbf8588e7a917c93177b3b2b9d8ba39b81\", \"boolean value of isinstance(count_bar_chart_A.encoding.x['title'], str) is not correct\"\n",
    "\n",
    "assert sha1(str(type(isinstance(count_bar_chart_A.encoding.y['title'], str))).encode(\"utf-8\")+b\"7add4cf5cabf3cd2\").hexdigest() == \"2f8ae119fbc3011921f63ee9ed06cbf844a82bcf\", \"type of isinstance(count_bar_chart_A.encoding.y['title'], str) is not bool. isinstance(count_bar_chart_A.encoding.y['title'], str) should be a bool\"\n",
    "assert sha1(str(isinstance(count_bar_chart_A.encoding.y['title'], str)).encode(\"utf-8\")+b\"7add4cf5cabf3cd2\").hexdigest() == \"a74c900930307b3902cd5b78d466901be47cc315\", \"boolean value of isinstance(count_bar_chart_A.encoding.y['title'], str) is not correct\"\n",
    "\n",
    "\n",
    "assert sha1(str(type(count_bar_chart_B is None)).encode(\"utf-8\")+b\"4d1f2d96c6c697de\").hexdigest() == \"88dd0a8bafdc61a968a9eeeebae1419079657988\", \"type of count_bar_chart_B is None is not bool. count_bar_chart_B is None should be a bool\"\n",
    "assert sha1(str(count_bar_chart_B is None).encode(\"utf-8\")+b\"4d1f2d96c6c697de\").hexdigest() == \"0f81eba3eb09fad1ac52682e3e5cf70e0d3f241f\", \"boolean value of count_bar_chart_B is None is not correct\"\n",
    "\n",
    "assert sha1(str(type(count_bar_chart_B.encoding.x['shorthand'])).encode(\"utf-8\")+b\"cb5082dac891cecb\").hexdigest() == \"11e9e906c1760737be772d36cf9102ca54db1236\", \"type of count_bar_chart_B.encoding.x['shorthand'] is not str. count_bar_chart_B.encoding.x['shorthand'] should be an str\"\n",
    "assert sha1(str(len(count_bar_chart_B.encoding.x['shorthand'])).encode(\"utf-8\")+b\"cb5082dac891cecb\").hexdigest() == \"702c776744327152555affb18714db94668e2842\", \"length of count_bar_chart_B.encoding.x['shorthand'] is not correct\"\n",
    "assert sha1(str(count_bar_chart_B.encoding.x['shorthand'].lower()).encode(\"utf-8\")+b\"cb5082dac891cecb\").hexdigest() == \"dda3422c156ff78679bf6cee80a54cf123623b83\", \"value of count_bar_chart_B.encoding.x['shorthand'] is not correct\"\n",
    "assert sha1(str(count_bar_chart_B.encoding.x['shorthand']).encode(\"utf-8\")+b\"cb5082dac891cecb\").hexdigest() == \"dda3422c156ff78679bf6cee80a54cf123623b83\", \"correct string value of count_bar_chart_B.encoding.x['shorthand'] but incorrect case of letters\"\n",
    "\n",
    "assert sha1(str(type(count_bar_chart_B.encoding.y['shorthand'])).encode(\"utf-8\")+b\"3c35b7c801d6679e\").hexdigest() == \"7b824fb6e59264fe91ecd2de856c5a5bd125e5e4\", \"type of count_bar_chart_B.encoding.y['shorthand'] is not str. count_bar_chart_B.encoding.y['shorthand'] should be an str\"\n",
    "assert sha1(str(len(count_bar_chart_B.encoding.y['shorthand'])).encode(\"utf-8\")+b\"3c35b7c801d6679e\").hexdigest() == \"5b9f7e9c643ca39dfb2240ecf5071f359e51b1b4\", \"length of count_bar_chart_B.encoding.y['shorthand'] is not correct\"\n",
    "assert sha1(str(count_bar_chart_B.encoding.y['shorthand'].lower()).encode(\"utf-8\")+b\"3c35b7c801d6679e\").hexdigest() == \"e305b8f335e68e5f9df054b4113460786f0f4c30\", \"value of count_bar_chart_B.encoding.y['shorthand'] is not correct\"\n",
    "assert sha1(str(count_bar_chart_B.encoding.y['shorthand']).encode(\"utf-8\")+b\"3c35b7c801d6679e\").hexdigest() == \"e305b8f335e68e5f9df054b4113460786f0f4c30\", \"correct string value of count_bar_chart_B.encoding.y['shorthand'] but incorrect case of letters\"\n",
    "\n",
    "assert sha1(str(type(count_bar_chart_B.mark)).encode(\"utf-8\")+b\"33fbb3dd09f82359\").hexdigest() == \"12962853e312333d373163ed70ddcfffb66d7e6a\", \"type of count_bar_chart_B.mark is not str. count_bar_chart_B.mark should be an str\"\n",
    "assert sha1(str(len(count_bar_chart_B.mark)).encode(\"utf-8\")+b\"33fbb3dd09f82359\").hexdigest() == \"6909ef6e4f54728056f2df702f7aa99c33936826\", \"length of count_bar_chart_B.mark is not correct\"\n",
    "assert sha1(str(count_bar_chart_B.mark.lower()).encode(\"utf-8\")+b\"33fbb3dd09f82359\").hexdigest() == \"6a8709052a8664c0eae9f7b4f97b47563ba56321\", \"value of count_bar_chart_B.mark is not correct\"\n",
    "assert sha1(str(count_bar_chart_B.mark).encode(\"utf-8\")+b\"33fbb3dd09f82359\").hexdigest() == \"6a8709052a8664c0eae9f7b4f97b47563ba56321\", \"correct string value of count_bar_chart_B.mark but incorrect case of letters\"\n",
    "\n",
    "assert sha1(str(type(isinstance(count_bar_chart_B.encoding.x['title'], str))).encode(\"utf-8\")+b\"3516c2418091ca98\").hexdigest() == \"cbf1aaddd93245d80dc19edd71b0861ec3ba3079\", \"type of isinstance(count_bar_chart_B.encoding.x['title'], str) is not bool. isinstance(count_bar_chart_B.encoding.x['title'], str) should be a bool\"\n",
    "assert sha1(str(isinstance(count_bar_chart_B.encoding.x['title'], str)).encode(\"utf-8\")+b\"3516c2418091ca98\").hexdigest() == \"330c549816e9e50cbc2b0ca8d888479d0ca1fe4c\", \"boolean value of isinstance(count_bar_chart_B.encoding.x['title'], str) is not correct\"\n",
    "\n",
    "assert sha1(str(type(isinstance(count_bar_chart_B.encoding.y['title'], str))).encode(\"utf-8\")+b\"e290be29fbec85a9\").hexdigest() == \"5eab4e9d8dc47131bb8e74226c257f23f0085b75\", \"type of isinstance(count_bar_chart_B.encoding.y['title'], str) is not bool. isinstance(count_bar_chart_B.encoding.y['title'], str) should be a bool\"\n",
    "assert sha1(str(isinstance(count_bar_chart_B.encoding.y['title'], str)).encode(\"utf-8\")+b\"e290be29fbec85a9\").hexdigest() == \"a2c72734428d7b2e15b15346b49e1d908e913c22\", \"boolean value of isinstance(count_bar_chart_B.encoding.y['title'], str) is not correct\"\n",
    "\n",
    "print('Success!')"
   ]
  },
  {
   "cell_type": "markdown",
   "metadata": {
    "deletable": false,
    "editable": false,
    "nbgrader": {
     "cell_type": "markdown",
     "checksum": "724b26bc82c520bd53bfe57f1b987f34",
     "grade": false,
     "grade_id": "cell-09a3f2ba6c0c15e4",
     "locked": true,
     "schema_version": 3,
     "solution": false
    }
   },
   "source": [
    "**Question 2.6**\n",
    "<br> {points: 1}\n",
    "\n",
    "Which is the most prevalent franchise on the west coast? Save your answer as `answer2_6` and be sure to surround the restuarant name with quotations. Pay attention to case and punctuation when answering."
   ]
  },
  {
   "cell_type": "code",
   "execution_count": null,
   "metadata": {
    "deletable": false,
    "nbgrader": {
     "cell_type": "code",
     "checksum": "9d0dfcb5f6e84964d73eb5168ac175d4",
     "grade": false,
     "grade_id": "cell-4b5e9ae3b501ff80",
     "locked": false,
     "schema_version": 3,
     "solution": true
    }
   },
   "outputs": [],
   "source": [
    "# your code here\n",
    "raise NotImplementedError"
   ]
  },
  {
   "cell_type": "code",
   "execution_count": null,
   "metadata": {
    "deletable": false,
    "editable": false,
    "nbgrader": {
     "cell_type": "code",
     "checksum": "5809550df1e510179bf5a294c4ca64bd",
     "grade": true,
     "grade_id": "cell-7e1f5a0036666e46",
     "locked": true,
     "points": 1,
     "schema_version": 3,
     "solution": false
    }
   },
   "outputs": [],
   "source": [
    "from hashlib import sha1\n",
    "assert sha1(str(type(answer2_6)).encode(\"utf-8\")+b\"80d9815043c207f3\").hexdigest() == \"18ed923a5659abce9aff0682c1b0e64f0342f751\", \"type of answer2_6 is not str. answer2_6 should be an str\"\n",
    "assert sha1(str(len(answer2_6)).encode(\"utf-8\")+b\"80d9815043c207f3\").hexdigest() == \"2cfa96e033f906f86fb895ac1e54c89ad12dce86\", \"length of answer2_6 is not correct\"\n",
    "assert sha1(str(answer2_6.lower()).encode(\"utf-8\")+b\"80d9815043c207f3\").hexdigest() == \"8392a07658f8a2526a7ded0073a912158e630a5d\", \"value of answer2_6 is not correct\"\n",
    "assert sha1(str(answer2_6).encode(\"utf-8\")+b\"80d9815043c207f3\").hexdigest() == \"2a35e9024db4e8c9d0301c7764d860f5f15ca6c8\", \"correct string value of answer2_6 but incorrect case of letters\"\n",
    "\n",
    "print('Success!')"
   ]
  },
  {
   "cell_type": "markdown",
   "metadata": {
    "deletable": false,
    "editable": false,
    "nbgrader": {
     "cell_type": "markdown",
     "checksum": "fef97a75f009548a1ada275e803e0fbe",
     "grade": false,
     "grade_id": "cell-21bc1492a7923acd",
     "locked": true,
     "schema_version": 3,
     "solution": false
    }
   },
   "source": [
    "**Question 2.7** \n",
    "<br> {points: 1}\n",
    "\n",
    "Next, let's find which state on the west coast has the highest number of those top 9 fast-food restuarants we found earlier. To do this we need to use the names in `top_restaurants` to get the counts of each restaurant in each of the 3 states from the `fast_food` data frame. You will need to use `isin` to filter out the names of the restaurants that are not in the `top_restaurants` list. We can use the same method to do the filtering for the states as well. Name this data frame `state_counts`."
   ]
  },
  {
   "cell_type": "code",
   "execution_count": null,
   "metadata": {
    "deletable": false,
    "nbgrader": {
     "cell_type": "code",
     "checksum": "c000550a755dbbac5fa9b9c722376ef4",
     "grade": false,
     "grade_id": "cell-fdd4333a78788519",
     "locked": false,
     "schema_version": 3,
     "solution": true
    }
   },
   "outputs": [],
   "source": [
    "# state_counts = (\n",
    "#     ___[\n",
    "#         fast_food[___].isin(top_restaurants[\"name\"])\n",
    "#         & fast_food[___].isin([\"CA\", \"WA\", \"OR\"])\n",
    "#     ]\n",
    "#     .___('st')\n",
    "#     .reset_index()\n",
    "# )\n",
    "\n",
    "# your code here\n",
    "raise NotImplementedError\n",
    "state_counts"
   ]
  },
  {
   "cell_type": "code",
   "execution_count": null,
   "metadata": {
    "deletable": false,
    "editable": false,
    "nbgrader": {
     "cell_type": "code",
     "checksum": "0adac6a8bf841f89a91909ae1ec82f7a",
     "grade": true,
     "grade_id": "cell-53713f7578969f5c",
     "locked": true,
     "points": 1,
     "schema_version": 3,
     "solution": false
    }
   },
   "outputs": [],
   "source": [
    "from hashlib import sha1\n",
    "assert sha1(str(type(state_counts is None)).encode(\"utf-8\")+b\"5c7ea85af1c58f52\").hexdigest() == \"74dce5d02070f239a98b7acfa39583311270abd7\", \"type of state_counts is None is not bool. state_counts is None should be a bool\"\n",
    "assert sha1(str(state_counts is None).encode(\"utf-8\")+b\"5c7ea85af1c58f52\").hexdigest() == \"f2ab62dcd3956595b3ce22f7e63926d1c1cca8f7\", \"boolean value of state_counts is None is not correct\"\n",
    "\n",
    "assert sha1(str(type(state_counts.st.values)).encode(\"utf-8\")+b\"0eed8d5d2601176b\").hexdigest() == \"47f54f91d20874c2395c494adb7bfcd97838d0a0\", \"type of state_counts.st.values is not correct\"\n",
    "assert sha1(str(state_counts.st.values).encode(\"utf-8\")+b\"0eed8d5d2601176b\").hexdigest() == \"2aadd82194feefa53bd29c951c9d2ba0a6409098\", \"value of state_counts.st.values is not correct\"\n",
    "\n",
    "assert sha1(str(type(state_counts.shape)).encode(\"utf-8\")+b\"43d796b5e6b49806\").hexdigest() == \"238e2d384ff872988e1f15ff516f81bca16956f5\", \"type of state_counts.shape is not tuple. state_counts.shape should be a tuple\"\n",
    "assert sha1(str(len(state_counts.shape)).encode(\"utf-8\")+b\"43d796b5e6b49806\").hexdigest() == \"18c22cae6a332bbe988497aaaa8944dda5ca19bd\", \"length of state_counts.shape is not correct\"\n",
    "assert sha1(str(sorted(map(str, state_counts.shape))).encode(\"utf-8\")+b\"43d796b5e6b49806\").hexdigest() == \"79715c21f46e689f351741de10ad92c89216221f\", \"values of state_counts.shape are not correct\"\n",
    "assert sha1(str(state_counts.shape).encode(\"utf-8\")+b\"43d796b5e6b49806\").hexdigest() == \"0286e36e0af57df5ec86ebe0f1f46b4cb889cb5f\", \"order of elements of state_counts.shape is not correct\"\n",
    "\n",
    "assert sha1(str(type(sum(state_counts['count']))).encode(\"utf-8\")+b\"73923ec9a493eb2e\").hexdigest() == \"cb48a79deb1811e187ae02066ffb8c072d298b48\", \"type of sum(state_counts['count']) is not int. Please make sure it is int and not np.int64, etc. You can cast your value into an int using int()\"\n",
    "assert sha1(str(sum(state_counts['count'])).encode(\"utf-8\")+b\"73923ec9a493eb2e\").hexdigest() == \"d3d542197535fadbe3761001154a2b4c74968bcf\", \"value of sum(state_counts['count']) is not correct\"\n",
    "\n",
    "print('Success!')"
   ]
  },
  {
   "cell_type": "markdown",
   "metadata": {
    "deletable": false,
    "editable": false,
    "nbgrader": {
     "cell_type": "markdown",
     "checksum": "70a25f8e5b2a071eb5f9c2544390a8cb",
     "grade": false,
     "grade_id": "cell-d7ee2bd6b5df79ae",
     "locked": true,
     "schema_version": 3,
     "solution": false
    }
   },
   "source": [
    "**Question 2.8**\n",
    "<br> {points: 1}\n",
    "\n",
    "Now, create a bar plot that has restaurant count on the y-axis and US state on the x-axis. Name the plot `state_counts_plot` and title the axes appropriately."
   ]
  },
  {
   "cell_type": "code",
   "execution_count": null,
   "metadata": {
    "deletable": false,
    "nbgrader": {
     "cell_type": "code",
     "checksum": "00a29aa3c9ea88f1e4875f3a7e24a1dd",
     "grade": false,
     "grade_id": "cell-b7d101d1906d201c",
     "locked": false,
     "schema_version": 3,
     "solution": true
    }
   },
   "outputs": [],
   "source": [
    "# ___ = ___\n",
    "\n",
    "# your code here\n",
    "raise NotImplementedError\n",
    "state_counts_plot"
   ]
  },
  {
   "cell_type": "code",
   "execution_count": null,
   "metadata": {
    "deletable": false,
    "editable": false,
    "nbgrader": {
     "cell_type": "code",
     "checksum": "10138d67cab46c706ab9a554cf3338df",
     "grade": true,
     "grade_id": "cell-3ee58280015e1838",
     "locked": true,
     "points": 1,
     "schema_version": 3,
     "solution": false
    }
   },
   "outputs": [],
   "source": [
    "from hashlib import sha1\n",
    "assert sha1(str(type(state_counts_plot is None)).encode(\"utf-8\")+b\"5671e19da1e72788\").hexdigest() == \"e8d0250093a876fc8a2ed677c24d297c6b6c8e80\", \"type of state_counts_plot is None is not bool. state_counts_plot is None should be a bool\"\n",
    "assert sha1(str(state_counts_plot is None).encode(\"utf-8\")+b\"5671e19da1e72788\").hexdigest() == \"09611a5ec0e82918e03d7fe6025dd8e838029d61\", \"boolean value of state_counts_plot is None is not correct\"\n",
    "\n",
    "assert sha1(str(type(state_counts_plot.encoding.x['shorthand'])).encode(\"utf-8\")+b\"0c443e9333dcefe1\").hexdigest() == \"241d4061d07191195b2f2d9ebaef74b64809aef6\", \"type of state_counts_plot.encoding.x['shorthand'] is not str. state_counts_plot.encoding.x['shorthand'] should be an str\"\n",
    "assert sha1(str(len(state_counts_plot.encoding.x['shorthand'])).encode(\"utf-8\")+b\"0c443e9333dcefe1\").hexdigest() == \"78a1f08b22d2cbb5f510504aadde53fcd531b001\", \"length of state_counts_plot.encoding.x['shorthand'] is not correct\"\n",
    "assert sha1(str(state_counts_plot.encoding.x['shorthand'].lower()).encode(\"utf-8\")+b\"0c443e9333dcefe1\").hexdigest() == \"c4d18c7c9a7c715f414ae48cdfbd4f01867a588e\", \"value of state_counts_plot.encoding.x['shorthand'] is not correct\"\n",
    "assert sha1(str(state_counts_plot.encoding.x['shorthand']).encode(\"utf-8\")+b\"0c443e9333dcefe1\").hexdigest() == \"c4d18c7c9a7c715f414ae48cdfbd4f01867a588e\", \"correct string value of state_counts_plot.encoding.x['shorthand'] but incorrect case of letters\"\n",
    "\n",
    "assert sha1(str(type(state_counts_plot.encoding.y['shorthand'])).encode(\"utf-8\")+b\"943a792dcd4b62fd\").hexdigest() == \"cfb47318739a6fa71911b9bc2fb279780904b94e\", \"type of state_counts_plot.encoding.y['shorthand'] is not str. state_counts_plot.encoding.y['shorthand'] should be an str\"\n",
    "assert sha1(str(len(state_counts_plot.encoding.y['shorthand'])).encode(\"utf-8\")+b\"943a792dcd4b62fd\").hexdigest() == \"d94b357b94daa78477941525b5bbe38d96631e68\", \"length of state_counts_plot.encoding.y['shorthand'] is not correct\"\n",
    "assert sha1(str(state_counts_plot.encoding.y['shorthand'].lower()).encode(\"utf-8\")+b\"943a792dcd4b62fd\").hexdigest() == \"6fe7c4cde1259cbb025ec750cc82e2b6f39ec934\", \"value of state_counts_plot.encoding.y['shorthand'] is not correct\"\n",
    "assert sha1(str(state_counts_plot.encoding.y['shorthand']).encode(\"utf-8\")+b\"943a792dcd4b62fd\").hexdigest() == \"6fe7c4cde1259cbb025ec750cc82e2b6f39ec934\", \"correct string value of state_counts_plot.encoding.y['shorthand'] but incorrect case of letters\"\n",
    "\n",
    "assert sha1(str(type(state_counts_plot.mark)).encode(\"utf-8\")+b\"902d07c887daa44f\").hexdigest() == \"f70399355e151150127dc7344c100e63785b64e3\", \"type of state_counts_plot.mark is not str. state_counts_plot.mark should be an str\"\n",
    "assert sha1(str(len(state_counts_plot.mark)).encode(\"utf-8\")+b\"902d07c887daa44f\").hexdigest() == \"61e0219c99c82c3fde4b8f0df8bca9e850af2885\", \"length of state_counts_plot.mark is not correct\"\n",
    "assert sha1(str(state_counts_plot.mark.lower()).encode(\"utf-8\")+b\"902d07c887daa44f\").hexdigest() == \"5f799b3ee391a0eee818f9aba076e4223ef3efec\", \"value of state_counts_plot.mark is not correct\"\n",
    "assert sha1(str(state_counts_plot.mark).encode(\"utf-8\")+b\"902d07c887daa44f\").hexdigest() == \"5f799b3ee391a0eee818f9aba076e4223ef3efec\", \"correct string value of state_counts_plot.mark but incorrect case of letters\"\n",
    "\n",
    "assert sha1(str(type(isinstance(state_counts_plot.encoding.x['title'], str))).encode(\"utf-8\")+b\"1dc1d72aba8d7e01\").hexdigest() == \"e938ec20fe1866aee0f3643293928c851c3386f5\", \"type of isinstance(state_counts_plot.encoding.x['title'], str) is not bool. isinstance(state_counts_plot.encoding.x['title'], str) should be a bool\"\n",
    "assert sha1(str(isinstance(state_counts_plot.encoding.x['title'], str)).encode(\"utf-8\")+b\"1dc1d72aba8d7e01\").hexdigest() == \"4d742cd5ac383f701fd9e451ed11337e64bf5065\", \"boolean value of isinstance(state_counts_plot.encoding.x['title'], str) is not correct\"\n",
    "\n",
    "assert sha1(str(type(isinstance(state_counts_plot.encoding.y['title'], str))).encode(\"utf-8\")+b\"8ddfacd427adaf17\").hexdigest() == \"9e3408778bddac79403ca9fd8f61514e2a9fdc47\", \"type of isinstance(state_counts_plot.encoding.y['title'], str) is not bool. isinstance(state_counts_plot.encoding.y['title'], str) should be a bool\"\n",
    "assert sha1(str(isinstance(state_counts_plot.encoding.y['title'], str)).encode(\"utf-8\")+b\"8ddfacd427adaf17\").hexdigest() == \"6163b39c139a2961209e75060f357b816bc1cdea\", \"boolean value of isinstance(state_counts_plot.encoding.y['title'], str) is not correct\"\n",
    "\n",
    "print('Success!')"
   ]
  },
  {
   "cell_type": "markdown",
   "metadata": {
    "deletable": false,
    "editable": false,
    "nbgrader": {
     "cell_type": "markdown",
     "checksum": "721e65a87691d1956f2844f8845c89a3",
     "grade": false,
     "grade_id": "cell-b50e50c135e6d682",
     "locked": true,
     "schema_version": 3,
     "solution": false
    }
   },
   "source": [
    "**Question 2.9.0**\n",
    "<br> {points: 1}\n",
    "\n",
    "Which state (CA, OR, WA) has the highest number of fast-food restuarants? Save your answer as `answer2_9_0` and be sure to surround the state initialism with quotations (e.g. `\"NY\"`). Pay attention to case and punctuation when answering."
   ]
  },
  {
   "cell_type": "code",
   "execution_count": null,
   "metadata": {
    "deletable": false,
    "nbgrader": {
     "cell_type": "code",
     "checksum": "8a7859ec3c4200bd96a50f2de05da2c1",
     "grade": false,
     "grade_id": "cell-3808cf146c117d12",
     "locked": false,
     "schema_version": 3,
     "solution": true
    }
   },
   "outputs": [],
   "source": [
    "# your code here\n",
    "raise NotImplementedError"
   ]
  },
  {
   "cell_type": "code",
   "execution_count": null,
   "metadata": {
    "deletable": false,
    "editable": false,
    "nbgrader": {
     "cell_type": "code",
     "checksum": "acdc59eb98c50c3c274ee2a22a9b4377",
     "grade": true,
     "grade_id": "cell-a17cc0ffac7cd795",
     "locked": true,
     "points": 1,
     "schema_version": 3,
     "solution": false
    }
   },
   "outputs": [],
   "source": [
    "from hashlib import sha1\n",
    "assert sha1(str(type(answer2_9_0)).encode(\"utf-8\")+b\"5ef1bdf48d724e09\").hexdigest() == \"ed387bee7d0b368097f576db27cb9325e673a998\", \"type of answer2_9_0 is not str. answer2_9_0 should be an str\"\n",
    "assert sha1(str(len(answer2_9_0)).encode(\"utf-8\")+b\"5ef1bdf48d724e09\").hexdigest() == \"2bfde7836e98ae9da74b9145aabd5e2b75869e91\", \"length of answer2_9_0 is not correct\"\n",
    "assert sha1(str(answer2_9_0.lower()).encode(\"utf-8\")+b\"5ef1bdf48d724e09\").hexdigest() == \"e2f8cec1d7065a0faf407413131d3eb6bc50bbcf\", \"value of answer2_9_0 is not correct\"\n",
    "assert sha1(str(answer2_9_0).encode(\"utf-8\")+b\"5ef1bdf48d724e09\").hexdigest() == \"c2745ef0b9348f00c766f7cce737f24d0d0836b6\", \"correct string value of answer2_9_0 but incorrect case of letters\"\n",
    "\n",
    "print('Success!')"
   ]
  },
  {
   "cell_type": "markdown",
   "metadata": {
    "deletable": false,
    "editable": false,
    "nbgrader": {
     "cell_type": "markdown",
     "checksum": "18fbe3367ad55765d5a741e82d5bdfc1",
     "grade": false,
     "grade_id": "cell-d202e7ffd51f7ed6",
     "locked": true,
     "schema_version": 3,
     "solution": false,
     "task": false
    }
   },
   "source": [
    "Consider the populations of California (39.512 million), Oregon (4.217 million) and Washington (7.615 million) (source: [United States Census Bureau](https://www.census.gov/data/tables/time-series/demo/popest/2010s-state-total.html), visited on April 2020). Discuss with your neighbour about whether using the raw restaurant count for each state is the best measure of competition? Would restaurant per capita be a better alternative?"
   ]
  },
  {
   "cell_type": "markdown",
   "metadata": {
    "deletable": false,
    "editable": false,
    "nbgrader": {
     "cell_type": "markdown",
     "checksum": "0178a29d3a421429330e4dbf0caf3e4e",
     "grade": false,
     "grade_id": "cell-f1cdfd674e10939c",
     "locked": true,
     "schema_version": 3,
     "solution": false,
     "task": false
    }
   },
   "source": [
    "Calculate the restaurant per capita for the states on the west coast by uncommenting and filling in the `___` in the code below."
   ]
  },
  {
   "cell_type": "code",
   "execution_count": null,
   "metadata": {},
   "outputs": [],
   "source": [
    "# population = [39.512, 4.217, 7.615]\n",
    "\n",
    "# state_counts[\"n_per_capita\"] = ___ / population"
   ]
  },
  {
   "cell_type": "markdown",
   "metadata": {
    "deletable": false,
    "editable": false,
    "nbgrader": {
     "cell_type": "markdown",
     "checksum": "865aff7902ea6bdc8ae9ade34a4bcf14",
     "grade": false,
     "grade_id": "cell-81dda6467a7fbc87",
     "locked": true,
     "schema_version": 3,
     "solution": false,
     "task": false
    }
   },
   "source": [
    "**Question 2.9.1** Multiple Choice:\n",
    "<br> {points: 1}\n",
    "\n",
    "Which state has the highest number of fast food restaurants per capita?\n",
    "\n",
    "A. Washington\n",
    "\n",
    "B. California\n",
    "\n",
    "C. Oregon\n",
    "\n",
    "*Assign your answer to an object called `answer2_9_1`. Make sure your answer is an uppercase letter and is surrounded by quotation marks (e.g. `\"F\"`).*"
   ]
  },
  {
   "cell_type": "code",
   "execution_count": null,
   "metadata": {
    "deletable": false,
    "nbgrader": {
     "cell_type": "code",
     "checksum": "5bfdccb35dbd2f485a2f493fda1f82b2",
     "grade": false,
     "grade_id": "cell-7df84a13da5e51bc",
     "locked": false,
     "schema_version": 3,
     "solution": true,
     "task": false
    }
   },
   "outputs": [],
   "source": [
    "# your code here\n",
    "raise NotImplementedError"
   ]
  },
  {
   "cell_type": "code",
   "execution_count": null,
   "metadata": {
    "deletable": false,
    "editable": false,
    "nbgrader": {
     "cell_type": "code",
     "checksum": "d0311196853e10252cd9c34a36646098",
     "grade": true,
     "grade_id": "cell-caee5ba3ec18fa8c",
     "locked": true,
     "points": 1,
     "schema_version": 3,
     "solution": false,
     "task": false
    }
   },
   "outputs": [],
   "source": [
    "from hashlib import sha1\n",
    "assert sha1(str(type(answer2_9_1)).encode(\"utf-8\")+b\"62eef1866c72f72a\").hexdigest() == \"63852409fb64d45dfcdb7a337017d36f50fa0c27\", \"type of answer2_9_1 is not str. answer2_9_1 should be an str\"\n",
    "assert sha1(str(len(answer2_9_1)).encode(\"utf-8\")+b\"62eef1866c72f72a\").hexdigest() == \"fee5982771eec23e0dd54d66025f30045bd8224d\", \"length of answer2_9_1 is not correct\"\n",
    "assert sha1(str(answer2_9_1.lower()).encode(\"utf-8\")+b\"62eef1866c72f72a\").hexdigest() == \"777e1427c51918fbfcf35c09f125b4a65c37cbf1\", \"value of answer2_9_1 is not correct\"\n",
    "assert sha1(str(answer2_9_1).encode(\"utf-8\")+b\"62eef1866c72f72a\").hexdigest() == \"f18f3e0291eb601f9032dc35688215e8c3017357\", \"correct string value of answer2_9_1 but incorrect case of letters\"\n",
    "\n",
    "print('Success!')"
   ]
  },
  {
   "cell_type": "markdown",
   "metadata": {
    "deletable": false,
    "editable": false,
    "nbgrader": {
     "cell_type": "markdown",
     "checksum": "ec30bbcdd926832720a886c9fed4bc60",
     "grade": false,
     "grade_id": "cell-6ae4fef0681d6b96",
     "locked": true,
     "schema_version": 3,
     "solution": false,
     "task": false
    }
   },
   "source": [
    "**Question 2.9.2** \n",
    "<br> {points: 1}\n",
    "\n",
    "Is the most dominant/top franchise consistent across different states along the west coast? To answer this question we need a data frame that has three columns: `name` (restaurant), `st` (state) and `count` (restaurant count). We can use the same code from Q2.7 for this, but we will need to count the combinations of `st` and `name` instead of just `st` alone. We can do this by passing a list of the two columns to the `value_counts()` method as in the scaffolded code below."
   ]
  },
  {
   "cell_type": "code",
   "execution_count": null,
   "metadata": {
    "deletable": false,
    "nbgrader": {
     "cell_type": "code",
     "checksum": "eb8d7e447636cf5ebf95990889cdd661",
     "grade": false,
     "grade_id": "cell-fa13c7c54d724542",
     "locked": false,
     "schema_version": 3,
     "solution": true
    }
   },
   "outputs": [],
   "source": [
    "# ___ = (\n",
    "#     fast_food[\n",
    "#         ___\n",
    "#         & ___\n",
    "#     ]\n",
    "#     .___(['st', 'name'])\n",
    "#     .___()\n",
    "# )\n",
    "\n",
    "# your code here\n",
    "raise NotImplementedError\n",
    "top_n_state"
   ]
  },
  {
   "cell_type": "code",
   "execution_count": null,
   "metadata": {
    "deletable": false,
    "editable": false,
    "nbgrader": {
     "cell_type": "code",
     "checksum": "666f62e102add7d9eb3f1d48dfa9c2cc",
     "grade": true,
     "grade_id": "cell-58b0fb2c06951419",
     "locked": true,
     "points": 1,
     "schema_version": 3,
     "solution": false
    }
   },
   "outputs": [],
   "source": [
    "from hashlib import sha1\n",
    "assert sha1(str(type(top_n_state is None)).encode(\"utf-8\")+b\"268c23298ac1b2ea\").hexdigest() == \"4cc12e20ff735ad10a5e5e374ede8d1e8618590d\", \"type of top_n_state is None is not bool. top_n_state is None should be a bool\"\n",
    "assert sha1(str(top_n_state is None).encode(\"utf-8\")+b\"268c23298ac1b2ea\").hexdigest() == \"081ac227f03d91a2060b392afaf3161b50095f2b\", \"boolean value of top_n_state is None is not correct\"\n",
    "\n",
    "assert sha1(str(type(top_n_state.st.unique())).encode(\"utf-8\")+b\"90f406ff6cc19ad5\").hexdigest() == \"add14aca967a7fdaef9c58839ba5eac48983fab6\", \"type of top_n_state.st.unique() is not correct\"\n",
    "assert sha1(str(top_n_state.st.unique()).encode(\"utf-8\")+b\"90f406ff6cc19ad5\").hexdigest() == \"bc9b3a6a8095e2643a4b8b7fe4e8ad0387766376\", \"value of top_n_state.st.unique() is not correct\"\n",
    "\n",
    "assert sha1(str(type(top_n_state.shape)).encode(\"utf-8\")+b\"e958235b475016e5\").hexdigest() == \"b76796bf7994619874d749f518027464fefab798\", \"type of top_n_state.shape is not tuple. top_n_state.shape should be a tuple\"\n",
    "assert sha1(str(len(top_n_state.shape)).encode(\"utf-8\")+b\"e958235b475016e5\").hexdigest() == \"c9f928449e52b4d2e3fbea2939bbd46c96c7631c\", \"length of top_n_state.shape is not correct\"\n",
    "assert sha1(str(sorted(map(str, top_n_state.shape))).encode(\"utf-8\")+b\"e958235b475016e5\").hexdigest() == \"c5e0542e2aeffd99425493357d59591c72f5c5ae\", \"values of top_n_state.shape are not correct\"\n",
    "assert sha1(str(top_n_state.shape).encode(\"utf-8\")+b\"e958235b475016e5\").hexdigest() == \"2b6ab390d9a916a8f27f93de689ed30330ac1e1a\", \"order of elements of top_n_state.shape is not correct\"\n",
    "\n",
    "assert sha1(str(type(sum(top_n_state['count'].dropna()))).encode(\"utf-8\")+b\"e37311c8529abe42\").hexdigest() == \"2663c54e87e581302aaeb27ed27df6a6873c683f\", \"type of sum(top_n_state['count'].dropna()) is not int. Please make sure it is int and not np.int64, etc. You can cast your value into an int using int()\"\n",
    "assert sha1(str(sum(top_n_state['count'].dropna())).encode(\"utf-8\")+b\"e37311c8529abe42\").hexdigest() == \"fd9bb87017bfaa4d88f054ecc5b06c442219b155\", \"value of sum(top_n_state['count'].dropna()) is not correct\"\n",
    "\n",
    "print('Success!')"
   ]
  },
  {
   "cell_type": "markdown",
   "metadata": {
    "deletable": false,
    "editable": false,
    "nbgrader": {
     "cell_type": "markdown",
     "checksum": "3f3966723c970befcdcfaa410b20473f",
     "grade": false,
     "grade_id": "cell-fbbbd065920901d2",
     "locked": true,
     "schema_version": 3,
     "solution": false
    }
   },
   "source": [
    "**Question 2.9.3** \n",
    "<br> {points: 1}\n",
    "\n",
    "Plot the top 9 fast food restaurants as a stacked bar chart. The state name should be on the x-axis and the restaurant name should be encoded as the color. The y-axis will be the percentage of the stacked bars which we can get by using `stack(\"normalize)\"` on the Y encoding as in the scaffolded code below. Assign appropriate titles to the axes and the legend.\n",
    "\n",
    "*Assign your answer to an object called `top_n_state_plot2`*."
   ]
  },
  {
   "cell_type": "code",
   "execution_count": null,
   "metadata": {
    "deletable": false,
    "nbgrader": {
     "cell_type": "code",
     "checksum": "6e942a4363b98db996d2caea4dec64ff",
     "grade": false,
     "grade_id": "cell-8d848ab3e4d34d85",
     "locked": false,
     "schema_version": 3,
     "solution": true
    }
   },
   "outputs": [],
   "source": [
    "# ___ = alt.Chart(___).mark_bar().encode(\n",
    "#     y=alt.Y(___)\n",
    "#         .stack(\"normalize\")\n",
    "#         .title(___),\n",
    "#     x=alt.X(___).title(___),\n",
    "#     color=alt.Color(___).title(___)\n",
    "# )\n",
    "\n",
    "# your code here\n",
    "raise NotImplementedError\n",
    "top_n_state_plot2"
   ]
  },
  {
   "cell_type": "code",
   "execution_count": null,
   "metadata": {
    "deletable": false,
    "editable": false,
    "nbgrader": {
     "cell_type": "code",
     "checksum": "10c8bf96aafda1b7e91dbbc8a0701304",
     "grade": true,
     "grade_id": "cell-b90d158867cf1c27",
     "locked": true,
     "points": 1,
     "schema_version": 3,
     "solution": false
    }
   },
   "outputs": [],
   "source": [
    "from hashlib import sha1\n",
    "assert sha1(str(type(top_n_state_plot2 is None)).encode(\"utf-8\")+b\"1b699096cd8d09ee\").hexdigest() == \"961eacdb8a68eafecdd2dbccb24a63772bfa8d37\", \"type of top_n_state_plot2 is None is not bool. top_n_state_plot2 is None should be a bool\"\n",
    "assert sha1(str(top_n_state_plot2 is None).encode(\"utf-8\")+b\"1b699096cd8d09ee\").hexdigest() == \"3dd7f0f7e3eee3fb9efd0bdfdcaffc7eeafeeed7\", \"boolean value of top_n_state_plot2 is None is not correct\"\n",
    "\n",
    "assert sha1(str(type(top_n_state_plot2.encoding.x['shorthand'])).encode(\"utf-8\")+b\"aa4d5fdcc40bd6e7\").hexdigest() == \"c27f9067fccbcd3c95b39f6cd24521d0a4fa8c5b\", \"type of top_n_state_plot2.encoding.x['shorthand'] is not str. top_n_state_plot2.encoding.x['shorthand'] should be an str\"\n",
    "assert sha1(str(len(top_n_state_plot2.encoding.x['shorthand'])).encode(\"utf-8\")+b\"aa4d5fdcc40bd6e7\").hexdigest() == \"9960300763d7dd0c89118ea823d2d9a8c5db78c8\", \"length of top_n_state_plot2.encoding.x['shorthand'] is not correct\"\n",
    "assert sha1(str(top_n_state_plot2.encoding.x['shorthand'].lower()).encode(\"utf-8\")+b\"aa4d5fdcc40bd6e7\").hexdigest() == \"2fa424de04a587f3286c396395214d799c2ed6be\", \"value of top_n_state_plot2.encoding.x['shorthand'] is not correct\"\n",
    "assert sha1(str(top_n_state_plot2.encoding.x['shorthand']).encode(\"utf-8\")+b\"aa4d5fdcc40bd6e7\").hexdigest() == \"2fa424de04a587f3286c396395214d799c2ed6be\", \"correct string value of top_n_state_plot2.encoding.x['shorthand'] but incorrect case of letters\"\n",
    "\n",
    "assert sha1(str(type(top_n_state_plot2.encoding.y['shorthand'])).encode(\"utf-8\")+b\"d5507cd8e6eb822a\").hexdigest() == \"b570ea1690741f7144b3954c2b1119730df9a4d3\", \"type of top_n_state_plot2.encoding.y['shorthand'] is not str. top_n_state_plot2.encoding.y['shorthand'] should be an str\"\n",
    "assert sha1(str(len(top_n_state_plot2.encoding.y['shorthand'])).encode(\"utf-8\")+b\"d5507cd8e6eb822a\").hexdigest() == \"598a4c24d1b6d0e2a24f1ca0a7d3d2d75b31a7fd\", \"length of top_n_state_plot2.encoding.y['shorthand'] is not correct\"\n",
    "assert sha1(str(top_n_state_plot2.encoding.y['shorthand'].lower()).encode(\"utf-8\")+b\"d5507cd8e6eb822a\").hexdigest() == \"8aa0dc4925220098a0b3f2a460e7deec19471de5\", \"value of top_n_state_plot2.encoding.y['shorthand'] is not correct\"\n",
    "assert sha1(str(top_n_state_plot2.encoding.y['shorthand']).encode(\"utf-8\")+b\"d5507cd8e6eb822a\").hexdigest() == \"8aa0dc4925220098a0b3f2a460e7deec19471de5\", \"correct string value of top_n_state_plot2.encoding.y['shorthand'] but incorrect case of letters\"\n",
    "\n",
    "assert sha1(str(type(top_n_state_plot2.encoding.color['shorthand'])).encode(\"utf-8\")+b\"0cb1b29c9f240fc4\").hexdigest() == \"f6ab0f5c136de0d1d95068d7e70d1d66c75cbe67\", \"type of top_n_state_plot2.encoding.color['shorthand'] is not str. top_n_state_plot2.encoding.color['shorthand'] should be an str\"\n",
    "assert sha1(str(len(top_n_state_plot2.encoding.color['shorthand'])).encode(\"utf-8\")+b\"0cb1b29c9f240fc4\").hexdigest() == \"b843dc780a30f845d65a23a506b49a371cce6ab5\", \"length of top_n_state_plot2.encoding.color['shorthand'] is not correct\"\n",
    "assert sha1(str(top_n_state_plot2.encoding.color['shorthand'].lower()).encode(\"utf-8\")+b\"0cb1b29c9f240fc4\").hexdigest() == \"907d5940b0ff9f9db34037a94d999a2150dc20c2\", \"value of top_n_state_plot2.encoding.color['shorthand'] is not correct\"\n",
    "assert sha1(str(top_n_state_plot2.encoding.color['shorthand']).encode(\"utf-8\")+b\"0cb1b29c9f240fc4\").hexdigest() == \"907d5940b0ff9f9db34037a94d999a2150dc20c2\", \"correct string value of top_n_state_plot2.encoding.color['shorthand'] but incorrect case of letters\"\n",
    "\n",
    "assert sha1(str(type(top_n_state_plot2.mark)).encode(\"utf-8\")+b\"b46e498c2d14cd46\").hexdigest() == \"a56a0941864f9a30b995f482b53dcda7de33bc84\", \"type of top_n_state_plot2.mark is not str. top_n_state_plot2.mark should be an str\"\n",
    "assert sha1(str(len(top_n_state_plot2.mark)).encode(\"utf-8\")+b\"b46e498c2d14cd46\").hexdigest() == \"919dd9e258788ef2e345b276fe72bf40e34e6db6\", \"length of top_n_state_plot2.mark is not correct\"\n",
    "assert sha1(str(top_n_state_plot2.mark.lower()).encode(\"utf-8\")+b\"b46e498c2d14cd46\").hexdigest() == \"89297ce8647f53b0e3ce13601938a6c142c1b301\", \"value of top_n_state_plot2.mark is not correct\"\n",
    "assert sha1(str(top_n_state_plot2.mark).encode(\"utf-8\")+b\"b46e498c2d14cd46\").hexdigest() == \"89297ce8647f53b0e3ce13601938a6c142c1b301\", \"correct string value of top_n_state_plot2.mark but incorrect case of letters\"\n",
    "\n",
    "assert sha1(str(type(isinstance(top_n_state_plot2.encoding.x['title'], str))).encode(\"utf-8\")+b\"21cd3ff9229dc69c\").hexdigest() == \"602136f6e0dac5543d9227b0c6e1eb15e32987c5\", \"type of isinstance(top_n_state_plot2.encoding.x['title'], str) is not bool. isinstance(top_n_state_plot2.encoding.x['title'], str) should be a bool\"\n",
    "assert sha1(str(isinstance(top_n_state_plot2.encoding.x['title'], str)).encode(\"utf-8\")+b\"21cd3ff9229dc69c\").hexdigest() == \"4c6394e1708e1e359ebcc10955ca02a465043262\", \"boolean value of isinstance(top_n_state_plot2.encoding.x['title'], str) is not correct\"\n",
    "\n",
    "assert sha1(str(type(isinstance(top_n_state_plot2.encoding.y['title'], str))).encode(\"utf-8\")+b\"b8a44b3126212a49\").hexdigest() == \"ee8487067a2f2680b7f2a3038a7d24208764a5a4\", \"type of isinstance(top_n_state_plot2.encoding.y['title'], str) is not bool. isinstance(top_n_state_plot2.encoding.y['title'], str) should be a bool\"\n",
    "assert sha1(str(isinstance(top_n_state_plot2.encoding.y['title'], str)).encode(\"utf-8\")+b\"b8a44b3126212a49\").hexdigest() == \"13354efb6b346e33549a8a2834876bef70b373e3\", \"boolean value of isinstance(top_n_state_plot2.encoding.y['title'], str) is not correct\"\n",
    "\n",
    "assert sha1(str(type(isinstance(top_n_state_plot2.encoding.color['title'], str))).encode(\"utf-8\")+b\"3e45f987e098806a\").hexdigest() == \"3a42eb106d2408ae3f026c6f5b8401e5f6a255ae\", \"type of isinstance(top_n_state_plot2.encoding.color['title'], str) is not bool. isinstance(top_n_state_plot2.encoding.color['title'], str) should be a bool\"\n",
    "assert sha1(str(isinstance(top_n_state_plot2.encoding.color['title'], str)).encode(\"utf-8\")+b\"3e45f987e098806a\").hexdigest() == \"2c14181f260881155ea9fa683a35ff87017b522f\", \"boolean value of isinstance(top_n_state_plot2.encoding.color['title'], str) is not correct\"\n",
    "\n",
    "print('Success!')"
   ]
  },
  {
   "cell_type": "markdown",
   "metadata": {
    "deletable": false,
    "editable": false,
    "nbgrader": {
     "cell_type": "markdown",
     "checksum": "998b3807a5af09b047397c8d4219ca7e",
     "grade": false,
     "grade_id": "cell-ff61d705f3a66bac",
     "locked": true,
     "schema_version": 3,
     "solution": false,
     "task": false
    }
   },
   "source": [
    "How easy is it to compare the restaurants and states to answer our question: Is the most dominant/top franchise consistent across the West-Coast? If we carefully look at this plot we can pick answer this question, but it takes us a while to process this. If we instead visualize this as a side-by-side bar chart we might be able to do this comparison easier (making it a more effective visualization)."
   ]
  },
  {
   "cell_type": "markdown",
   "metadata": {
    "deletable": false,
    "editable": false,
    "nbgrader": {
     "cell_type": "markdown",
     "checksum": "f98f0f21f0648fbbdd89c4f5b85130e8",
     "grade": false,
     "grade_id": "cell-bc917b8d65a605c2",
     "locked": true,
     "schema_version": 3,
     "solution": false
    }
   },
   "source": [
    "**Question 2.9.4** \n",
    "<br> {points: 1}\n",
    "\n",
    "Plot the counts (y-axis) for the top 9 fast food restaurants (x-axis) on the west coast, per US State, as a bar chart using `mark_bar`. Color the bars by the restaurant's by name and also use the name for the x-axis encoding. Facet the bar chart by state.\n",
    "\n",
    "To do this fill in the `___` in the cell below.  Make sure to label your axes.\n",
    "\n",
    "*Assign your answer to an object called `top_n_state_plot`.*"
   ]
  },
  {
   "cell_type": "code",
   "execution_count": null,
   "metadata": {
    "deletable": false,
    "nbgrader": {
     "cell_type": "code",
     "checksum": "821ff4933aedd3c61be104dc7a451f72",
     "grade": false,
     "grade_id": "cell-e76e0bf48a0e8854",
     "locked": false,
     "schema_version": 3,
     "solution": true
    }
   },
   "outputs": [],
   "source": [
    "# ___ = alt.Chart(___).mark_bar().encode(\n",
    "#     x=alt.X(___).title(None),\n",
    "#     y=alt.Y(___).title(___),\n",
    "#     color=alt.Color(___).title(___)\n",
    "# ).facet(\n",
    "#     ___\n",
    "# )\n",
    "\n",
    "# your code here\n",
    "raise NotImplementedError\n",
    "top_n_state_plot"
   ]
  },
  {
   "cell_type": "code",
   "execution_count": null,
   "metadata": {
    "deletable": false,
    "editable": false,
    "nbgrader": {
     "cell_type": "code",
     "checksum": "3d031f8cdf732f8369dda1f3ddc05123",
     "grade": true,
     "grade_id": "cell-ed385a60b4c8a6d0",
     "locked": true,
     "points": 1,
     "schema_version": 3,
     "solution": false
    }
   },
   "outputs": [],
   "source": [
    "from hashlib import sha1\n",
    "assert sha1(str(type(top_n_state_plot is None)).encode(\"utf-8\")+b\"106ffd468a57bc40\").hexdigest() == \"ad886a9cf66b09703c52c916ecb2bc97811045d4\", \"type of top_n_state_plot is None is not bool. top_n_state_plot is None should be a bool\"\n",
    "assert sha1(str(top_n_state_plot is None).encode(\"utf-8\")+b\"106ffd468a57bc40\").hexdigest() == \"2ee73cad3901b686e707031c7c500669e83ec314\", \"boolean value of top_n_state_plot is None is not correct\"\n",
    "\n",
    "assert sha1(str(type(top_n_state_plot.spec.encoding.x['shorthand'])).encode(\"utf-8\")+b\"34ef0641fc79d087\").hexdigest() == \"92a16744fe2cbce0a0cd44f66845501cf7c4b889\", \"type of top_n_state_plot.spec.encoding.x['shorthand'] is not str. top_n_state_plot.spec.encoding.x['shorthand'] should be an str\"\n",
    "assert sha1(str(len(top_n_state_plot.spec.encoding.x['shorthand'])).encode(\"utf-8\")+b\"34ef0641fc79d087\").hexdigest() == \"aefb40f105bc1b1d080e45cb985380bc372779a8\", \"length of top_n_state_plot.spec.encoding.x['shorthand'] is not correct\"\n",
    "assert sha1(str(top_n_state_plot.spec.encoding.x['shorthand'].lower()).encode(\"utf-8\")+b\"34ef0641fc79d087\").hexdigest() == \"d355bc6e8657ff30c5879d4dfac9b3c1dcae3f2c\", \"value of top_n_state_plot.spec.encoding.x['shorthand'] is not correct\"\n",
    "assert sha1(str(top_n_state_plot.spec.encoding.x['shorthand']).encode(\"utf-8\")+b\"34ef0641fc79d087\").hexdigest() == \"d355bc6e8657ff30c5879d4dfac9b3c1dcae3f2c\", \"correct string value of top_n_state_plot.spec.encoding.x['shorthand'] but incorrect case of letters\"\n",
    "\n",
    "assert sha1(str(type(top_n_state_plot.spec.encoding.y['shorthand'])).encode(\"utf-8\")+b\"abb67af6e9aaf4d2\").hexdigest() == \"2f6c104f2b3b2fba2d75f30c5b5a712f212957ad\", \"type of top_n_state_plot.spec.encoding.y['shorthand'] is not str. top_n_state_plot.spec.encoding.y['shorthand'] should be an str\"\n",
    "assert sha1(str(len(top_n_state_plot.spec.encoding.y['shorthand'])).encode(\"utf-8\")+b\"abb67af6e9aaf4d2\").hexdigest() == \"a5dd1eddab47ef571e422c91d16181ff6bda7e78\", \"length of top_n_state_plot.spec.encoding.y['shorthand'] is not correct\"\n",
    "assert sha1(str(top_n_state_plot.spec.encoding.y['shorthand'].lower()).encode(\"utf-8\")+b\"abb67af6e9aaf4d2\").hexdigest() == \"0f1ee59aef79972d3bf8c24accbd9ff5cefcf9eb\", \"value of top_n_state_plot.spec.encoding.y['shorthand'] is not correct\"\n",
    "assert sha1(str(top_n_state_plot.spec.encoding.y['shorthand']).encode(\"utf-8\")+b\"abb67af6e9aaf4d2\").hexdigest() == \"0f1ee59aef79972d3bf8c24accbd9ff5cefcf9eb\", \"correct string value of top_n_state_plot.spec.encoding.y['shorthand'] but incorrect case of letters\"\n",
    "\n",
    "assert sha1(str(type(top_n_state_plot.spec.encoding.color['shorthand'])).encode(\"utf-8\")+b\"995dedade18e1813\").hexdigest() == \"fdca5a8bb585497c52f5ab58b420fb2e0ae84d6e\", \"type of top_n_state_plot.spec.encoding.color['shorthand'] is not str. top_n_state_plot.spec.encoding.color['shorthand'] should be an str\"\n",
    "assert sha1(str(len(top_n_state_plot.spec.encoding.color['shorthand'])).encode(\"utf-8\")+b\"995dedade18e1813\").hexdigest() == \"56c11b866103ba9e6744c3c001c61cd49b339470\", \"length of top_n_state_plot.spec.encoding.color['shorthand'] is not correct\"\n",
    "assert sha1(str(top_n_state_plot.spec.encoding.color['shorthand'].lower()).encode(\"utf-8\")+b\"995dedade18e1813\").hexdigest() == \"2a00e7981b94dbd3192a16dd80250afb370f523b\", \"value of top_n_state_plot.spec.encoding.color['shorthand'] is not correct\"\n",
    "assert sha1(str(top_n_state_plot.spec.encoding.color['shorthand']).encode(\"utf-8\")+b\"995dedade18e1813\").hexdigest() == \"2a00e7981b94dbd3192a16dd80250afb370f523b\", \"correct string value of top_n_state_plot.spec.encoding.color['shorthand'] but incorrect case of letters\"\n",
    "\n",
    "assert sha1(str(type(isinstance(top_n_state_plot.spec.encoding.y['title'], str))).encode(\"utf-8\")+b\"6284f2046f9b11ca\").hexdigest() == \"2876a5dbd450825ecdca0ae086d5251153ff9bd7\", \"type of isinstance(top_n_state_plot.spec.encoding.y['title'], str) is not bool. isinstance(top_n_state_plot.spec.encoding.y['title'], str) should be a bool\"\n",
    "assert sha1(str(isinstance(top_n_state_plot.spec.encoding.y['title'], str)).encode(\"utf-8\")+b\"6284f2046f9b11ca\").hexdigest() == \"01ce36e0cb8d887b3d5f420595ee95ab75aa22ba\", \"boolean value of isinstance(top_n_state_plot.spec.encoding.y['title'], str) is not correct\"\n",
    "\n",
    "assert sha1(str(type(isinstance(top_n_state_plot.spec.encoding.color['title'], str))).encode(\"utf-8\")+b\"46521336fd6cf9e0\").hexdigest() == \"f313238ef21b8c31f3b77d9b7672212753e46a1e\", \"type of isinstance(top_n_state_plot.spec.encoding.color['title'], str) is not bool. isinstance(top_n_state_plot.spec.encoding.color['title'], str) should be a bool\"\n",
    "assert sha1(str(isinstance(top_n_state_plot.spec.encoding.color['title'], str)).encode(\"utf-8\")+b\"46521336fd6cf9e0\").hexdigest() == \"176cae68bee55d1eb38683bcdefdef49a799e38d\", \"boolean value of isinstance(top_n_state_plot.spec.encoding.color['title'], str) is not correct\"\n",
    "\n",
    "assert sha1(str(type(top_n_state_plot.facet)).encode(\"utf-8\")+b\"4de8e771c6bc8357\").hexdigest() == \"77f7de005c97e6ef445980a20b44446df6cb8c70\", \"type of top_n_state_plot.facet is not correct\"\n",
    "assert sha1(str(top_n_state_plot.facet).encode(\"utf-8\")+b\"4de8e771c6bc8357\").hexdigest() == \"fd34acc94216d0c5131a6345a174a4f3ea4fa367\", \"value of top_n_state_plot.facet is not correct\"\n",
    "\n",
    "assert sha1(str(type(top_n_state_plot.spec.mark)).encode(\"utf-8\")+b\"19c796cd6a798a30\").hexdigest() == \"4c3aed94f92b62d799c7a1ec050e63b54a543539\", \"type of top_n_state_plot.spec.mark is not str. top_n_state_plot.spec.mark should be an str\"\n",
    "assert sha1(str(len(top_n_state_plot.spec.mark)).encode(\"utf-8\")+b\"19c796cd6a798a30\").hexdigest() == \"116f8f8b294621637a3febbcc8a6c273a20b3c74\", \"length of top_n_state_plot.spec.mark is not correct\"\n",
    "assert sha1(str(top_n_state_plot.spec.mark.lower()).encode(\"utf-8\")+b\"19c796cd6a798a30\").hexdigest() == \"d540bd6f2b17d9410ac475a99254e98885ad59f8\", \"value of top_n_state_plot.spec.mark is not correct\"\n",
    "assert sha1(str(top_n_state_plot.spec.mark).encode(\"utf-8\")+b\"19c796cd6a798a30\").hexdigest() == \"d540bd6f2b17d9410ac475a99254e98885ad59f8\", \"correct string value of top_n_state_plot.spec.mark but incorrect case of letters\"\n",
    "\n",
    "print('Success!')"
   ]
  },
  {
   "cell_type": "markdown",
   "metadata": {
    "deletable": false,
    "editable": false,
    "nbgrader": {
     "cell_type": "markdown",
     "checksum": "a23bdb6a6715b4e0ed42cadde701421e",
     "grade": false,
     "grade_id": "cell-18024b55d0ecc8f0",
     "locked": true,
     "schema_version": 3,
     "solution": false
    }
   },
   "source": [
    "**Question 2.9.5** \n",
    "<br> {points: 1}\n",
    "\n",
    "Is the most dominant franchise consistent across the three west coast states? Answer `\"yes\"` or `\"no\"`. Save your answer as `answer2_9_5` and be sure to surround the answer with quotations. Pay attention to case and punctuation when answering."
   ]
  },
  {
   "cell_type": "code",
   "execution_count": null,
   "metadata": {
    "deletable": false,
    "nbgrader": {
     "cell_type": "code",
     "checksum": "5ccdf44bdb0132bc34a5fd2c31fa9205",
     "grade": false,
     "grade_id": "cell-84b61b1043757d6f",
     "locked": false,
     "schema_version": 3,
     "solution": true
    }
   },
   "outputs": [],
   "source": [
    "# your code here\n",
    "raise NotImplementedError"
   ]
  },
  {
   "cell_type": "code",
   "execution_count": null,
   "metadata": {
    "deletable": false,
    "editable": false,
    "nbgrader": {
     "cell_type": "code",
     "checksum": "6e9352a479309826884536a200e37b3e",
     "grade": true,
     "grade_id": "cell-0eb8e20187b2bfa2",
     "locked": true,
     "points": 1,
     "schema_version": 3,
     "solution": false
    }
   },
   "outputs": [],
   "source": [
    "from hashlib import sha1\n",
    "assert sha1(str(type(answer2_9_5)).encode(\"utf-8\")+b\"48482b5b60848080\").hexdigest() == \"7a7f6d277031766c6e5b518a48d24eb10f69e1be\", \"type of answer2_9_5 is not str. answer2_9_5 should be an str\"\n",
    "assert sha1(str(len(answer2_9_5)).encode(\"utf-8\")+b\"48482b5b60848080\").hexdigest() == \"73dd05ab1d038d5ded1c6d692972df0ab4a17fd8\", \"length of answer2_9_5 is not correct\"\n",
    "assert sha1(str(answer2_9_5.lower()).encode(\"utf-8\")+b\"48482b5b60848080\").hexdigest() == \"c237d7da0d083f1a2fa3d09703c12e23eecba7fe\", \"value of answer2_9_5 is not correct\"\n",
    "assert sha1(str(answer2_9_5).encode(\"utf-8\")+b\"48482b5b60848080\").hexdigest() == \"c237d7da0d083f1a2fa3d09703c12e23eecba7fe\", \"correct string value of answer2_9_5 but incorrect case of letters\"\n",
    "\n",
    "print('Success!')"
   ]
  },
  {
   "cell_type": "markdown",
   "metadata": {
    "deletable": false,
    "editable": false,
    "nbgrader": {
     "cell_type": "markdown",
     "checksum": "eff34d9c7f0409fbef10447703d44d7c",
     "grade": false,
     "grade_id": "cell-ed421b97dac101b5",
     "locked": true,
     "schema_version": 3,
     "solution": false,
     "task": false
    }
   },
   "source": [
    "We are just scratching the surface of how to create effective visualizations in Python. For example, we haven't covered how to change from the default colors palette `altair` provides. We'll learn more in the tutorial, but it's a big world out there; to learn more, visit the links in the reading and practice, practice, practice! Go forth and make beautiful and effective plots!"
   ]
  }
 ],
 "metadata": {
  "kernelspec": {
   "display_name": "Python 3 (ipykernel)",
   "language": "python",
   "name": "python3"
  },
  "language_info": {
   "codemirror_mode": {
    "name": "ipython",
    "version": 3
   },
   "file_extension": ".py",
   "mimetype": "text/x-python",
   "name": "python",
   "nbconvert_exporter": "python",
   "pygments_lexer": "ipython3",
   "version": "3.11.4"
  }
 },
 "nbformat": 4,
 "nbformat_minor": 4
}
