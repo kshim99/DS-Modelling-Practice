{
 "cells": [
  {
   "cell_type": "markdown",
   "metadata": {
    "deletable": false,
    "editable": false,
    "nbgrader": {
     "cell_type": "markdown",
     "checksum": "f86784d2fe71c351a739bee2a41aff2b",
     "grade": false,
     "grade_id": "cell-f9cd89ad16c3393f",
     "locked": true,
     "schema_version": 3,
     "solution": false,
     "task": false
    }
   },
   "source": [
    "# Worksheet 11 - Introduction to Statistical Inference\n",
    "\n",
    "### Lecture and Tutorial Learning Goals:\n",
    "\n",
    "After completing this week's lecture and tutorial work, you will be able to:\n",
    "- Describe real world examples of questions that can be answered with the statistical inference methods.\n",
    "- Name common population parameters (e.g., mean, proportion, median, variance, standard deviation) that are often estimated using sample data, and use computation to estimate these.\n",
    "- Define the following statistical sampling terms (population, sample, population parameter, point estimate, sampling distribution).\n",
    "- Explain the difference between a population parameter and sample point estimate.\n",
    "- Use computation to draw random samples from a finite population.\n",
    "- Use computation to create a sampling distribution from a finite population.\n",
    "- Describe how sample size influences the sampling distribution.\n",
    "\n",
    "This worksheet covers parts of [Chapter 10](https://python.datasciencebook.ca/inference) of the online textbook. You should read this chapter before attempting this assignment. Any place you see `___`, you must fill in the function, variable, or data to complete the code. Substitute the `raise NotImplementedError` with your completed code and answers then proceed to run the cell."
   ]
  },
  {
   "cell_type": "code",
   "execution_count": null,
   "metadata": {
    "deletable": false,
    "editable": false,
    "nbgrader": {
     "cell_type": "code",
     "checksum": "7cff5a9d7398423f797d5ad228095433",
     "grade": false,
     "grade_id": "cell-5e46ba6301dcd126",
     "locked": true,
     "schema_version": 3,
     "solution": false,
     "task": false
    }
   },
   "outputs": [],
   "source": [
    "### Run this cell before continuing.\n",
    "import altair as alt\n",
    "import numpy as np\n",
    "import pandas as pd\n",
    "\n",
    "# Simplify working with large datasets in Altair\n",
    "alt.data_transformers.disable_max_rows()"
   ]
  },
  {
   "cell_type": "markdown",
   "metadata": {
    "deletable": false,
    "editable": false,
    "nbgrader": {
     "cell_type": "markdown",
     "checksum": "e28b6a1ee32f91671a08e244208af2cb",
     "grade": false,
     "grade_id": "cell-45228c253c917b4f",
     "locked": true,
     "schema_version": 3,
     "solution": false,
     "task": false
    }
   },
   "source": [
    "**Question 1.0** Multiple Choice:\n",
    "<br> {points: 1}\n",
    "\n",
    "In which of the following questions would inferential methods (e.g., estimation or hypothesis testing) be appropriate?\n",
    "\n",
    "A. Does treating a corn crop with Roundup cause greater yields compared to corn crops that are not treated with pesticides in Saskatchewan?\n",
    "\n",
    "B. Are yields of corn crops which are treated with Roundup different than corn crops which are not treated with pesticides in Saskatchewan?\n",
    "\n",
    "C. What will be the yield of a corn crop in Saskatchewan if we treat it with Roundup next year?\n",
    "\n",
    "D. Are yields of corn crops which are treated with Roundup different than corn crops which are not treated with pesticides in the data set collected from the Rural Municipality of Cymri No. 36 in Saskatchewan?\n",
    "\n",
    "*Assign your answer to an object called `answer1_0`. Your answer should be a single character surrounded by quotes.*"
   ]
  },
  {
   "cell_type": "code",
   "execution_count": null,
   "metadata": {
    "deletable": false,
    "nbgrader": {
     "cell_type": "code",
     "checksum": "7516bea6ea02340597018ace4f996f1f",
     "grade": false,
     "grade_id": "cell-577c4e36954dca80",
     "locked": false,
     "schema_version": 3,
     "solution": true,
     "task": false
    }
   },
   "outputs": [],
   "source": [
    "# your code here\n",
    "raise NotImplementedError"
   ]
  },
  {
   "cell_type": "code",
   "execution_count": null,
   "metadata": {
    "deletable": false,
    "editable": false,
    "nbgrader": {
     "cell_type": "code",
     "checksum": "98265ca60c3c34371c775b6154430d1e",
     "grade": true,
     "grade_id": "cell-d0c5d425485aa846",
     "locked": true,
     "points": 1,
     "schema_version": 3,
     "solution": false,
     "task": false
    }
   },
   "outputs": [],
   "source": [
    "from hashlib import sha1\n",
    "assert sha1(str(type(answer1_0)).encode(\"utf-8\")+b\"40cb449e25941d87\").hexdigest() == \"e08f9d9719a001a9c3b7e1583732d79cd3b5c111\", \"type of answer1_0 is not str. answer1_0 should be an str\"\n",
    "assert sha1(str(len(answer1_0)).encode(\"utf-8\")+b\"40cb449e25941d87\").hexdigest() == \"fe9e7dde2fc7d78381f174ba56c3e6ee1dc64ae0\", \"length of answer1_0 is not correct\"\n",
    "assert sha1(str(answer1_0.lower()).encode(\"utf-8\")+b\"40cb449e25941d87\").hexdigest() == \"5eac2c06bdf67bc73615526bc08bc5e295f30d8c\", \"value of answer1_0 is not correct\"\n",
    "assert sha1(str(answer1_0).encode(\"utf-8\")+b\"40cb449e25941d87\").hexdigest() == \"ffcd087ac7243d98ade17c31c19f41037b2fdd89\", \"correct string value of answer1_0 but incorrect case of letters\"\n",
    "\n",
    "print('Success!')"
   ]
  },
  {
   "cell_type": "markdown",
   "metadata": {
    "deletable": false,
    "editable": false,
    "nbgrader": {
     "cell_type": "markdown",
     "checksum": "01ab7b5c0258210456f4d7b3a5967d28",
     "grade": false,
     "grade_id": "cell-3d0ceca6b0e205c4",
     "locked": true,
     "schema_version": 3,
     "solution": false,
     "task": false
    }
   },
   "source": [
    "**Question 1.1** Matching:\n",
    "<br> {points: 1}\n",
    "\n",
    "Read the mixed up table below and assign the variables in the code cell below a number to match the the term to it's correct definition. Do not put quotations around the number or include words in the answer, we are expecting the assigned values to be numbers.\n",
    "\n",
    "| Terms |  Definitions |\n",
    "|----------------|------------|\n",
    "| <p align=\"left\">point estimate | <p align=\"left\">1. the entire set of entities/objects of interest |\n",
    "| <p align=\"left\">population | <p align=\"left\">2. selecting a subset of observations from a population where each observation is equally likely to be selected at any point during the selection process|\n",
    "| <p align=\"left\">random sampling | <p align=\"left\">3. a numerical summary value about the population |\n",
    "| <p align=\"left\">representative sampling | <p align=\"left\">4. a distribution of point estimates, where each point estimate was calculated from a different random sample from the same population |\n",
    "| <p align=\"left\">population parameter | <p align=\"left\">5. a collection of observations from a population |\n",
    "| <p align=\"left\">sample |  <p align=\"left\">6. a single number calculated from a random sample that estimates an unknown population parameter of interest |\n",
    "| <p align=\"left\">observation | <p align=\"left\">7. selecting a subset of observations from a population where the sample’s characteristics are a good representation of the population’s characteristics |\n",
    "| <p align=\"left\">sampling distribution | <p align=\"left\">8. a quantity or a quality (or set of these) we collect from a given entity/object |"
   ]
  },
  {
   "cell_type": "code",
   "execution_count": null,
   "metadata": {
    "deletable": false,
    "nbgrader": {
     "cell_type": "code",
     "checksum": "5dc9c25ff5639c7622d908eb36f9bc16",
     "grade": false,
     "grade_id": "cell-02ca79301e6453c8",
     "locked": false,
     "schema_version": 3,
     "solution": true,
     "task": false
    }
   },
   "outputs": [],
   "source": [
    "point_estimate = None\n",
    "population = None\n",
    "random_sampling = None\n",
    "representative_sampling = None\n",
    "population_parameter = None\n",
    "sample = None\n",
    "observation = None\n",
    "sampling_distribution = None\n",
    "\n",
    "# your code here\n",
    "raise NotImplementedError"
   ]
  },
  {
   "cell_type": "code",
   "execution_count": null,
   "metadata": {
    "deletable": false,
    "editable": false,
    "nbgrader": {
     "cell_type": "code",
     "checksum": "aa52c3338d87c936e8f675a5a626d8db",
     "grade": true,
     "grade_id": "cell-3e20f546495eda51",
     "locked": true,
     "points": 1,
     "schema_version": 3,
     "solution": false,
     "task": false
    }
   },
   "outputs": [],
   "source": [
    "from hashlib import sha1\n",
    "assert sha1(str(type(point_estimate)).encode(\"utf-8\")+b\"403cc74e64846df3\").hexdigest() == \"97c59031040430b48b53369004a0ab6020a01d93\", \"type of point_estimate is not int. Please make sure it is int and not np.int64, etc. You can cast your value into an int using int()\"\n",
    "assert sha1(str(point_estimate).encode(\"utf-8\")+b\"403cc74e64846df3\").hexdigest() == \"0eb662a5545f9f40d6d422c00343a63a047a66a0\", \"value of point_estimate is not correct\"\n",
    "\n",
    "assert sha1(str(type(population)).encode(\"utf-8\")+b\"c7afc9dec31169ac\").hexdigest() == \"e6cfd085bf5fa6d0434b52aead053cc456e29714\", \"type of population is not int. Please make sure it is int and not np.int64, etc. You can cast your value into an int using int()\"\n",
    "assert sha1(str(population).encode(\"utf-8\")+b\"c7afc9dec31169ac\").hexdigest() == \"6c0384f4561a148e40de73cbd50fa79ad34f298e\", \"value of population is not correct\"\n",
    "\n",
    "assert sha1(str(type(random_sampling)).encode(\"utf-8\")+b\"4f7ed76c51519a75\").hexdigest() == \"789af25795abcb39f24ae2f803faeb12963df008\", \"type of random_sampling is not int. Please make sure it is int and not np.int64, etc. You can cast your value into an int using int()\"\n",
    "assert sha1(str(random_sampling).encode(\"utf-8\")+b\"4f7ed76c51519a75\").hexdigest() == \"0032ec73b78b93001ef9db70282239ea330e79a5\", \"value of random_sampling is not correct\"\n",
    "\n",
    "assert sha1(str(type(representative_sampling)).encode(\"utf-8\")+b\"6dcb82cec67c033b\").hexdigest() == \"4935ca1313432c2da5c8630c3b3e87d91acb5c0a\", \"type of representative_sampling is not int. Please make sure it is int and not np.int64, etc. You can cast your value into an int using int()\"\n",
    "assert sha1(str(representative_sampling).encode(\"utf-8\")+b\"6dcb82cec67c033b\").hexdigest() == \"282cceeaafadddabde8c32d012a0b9cf55c20624\", \"value of representative_sampling is not correct\"\n",
    "\n",
    "assert sha1(str(type(population_parameter)).encode(\"utf-8\")+b\"3452a0af41cc9754\").hexdigest() == \"7cc4e2216720a082b8f780071f108d0c4f813134\", \"type of population_parameter is not int. Please make sure it is int and not np.int64, etc. You can cast your value into an int using int()\"\n",
    "assert sha1(str(population_parameter).encode(\"utf-8\")+b\"3452a0af41cc9754\").hexdigest() == \"baeae52a4a823b48a9f738ac9bfd8f4012453aba\", \"value of population_parameter is not correct\"\n",
    "\n",
    "assert sha1(str(type(sample)).encode(\"utf-8\")+b\"5a5475deafd52c43\").hexdigest() == \"6c1e85a652c59c2a6ac167c8e33334fe1f7f956b\", \"type of sample is not int. Please make sure it is int and not np.int64, etc. You can cast your value into an int using int()\"\n",
    "assert sha1(str(sample).encode(\"utf-8\")+b\"5a5475deafd52c43\").hexdigest() == \"6c18db3ff4839e0f44bde82ee9d31720de6dd8bd\", \"value of sample is not correct\"\n",
    "\n",
    "assert sha1(str(type(observation)).encode(\"utf-8\")+b\"b1488c41cb63c663\").hexdigest() == \"0bd24641c67220d6a5254aa45d3dd6116039c8b5\", \"type of observation is not int. Please make sure it is int and not np.int64, etc. You can cast your value into an int using int()\"\n",
    "assert sha1(str(observation).encode(\"utf-8\")+b\"b1488c41cb63c663\").hexdigest() == \"b3ca0bfaf57cf9fa405d45e627af54a408b46d05\", \"value of observation is not correct\"\n",
    "\n",
    "assert sha1(str(type(sampling_distribution)).encode(\"utf-8\")+b\"b4cebba56bfb1de9\").hexdigest() == \"44a455b96a01a5e9fc6f9d701b22e7e2ddf6d116\", \"type of sampling_distribution is not int. Please make sure it is int and not np.int64, etc. You can cast your value into an int using int()\"\n",
    "assert sha1(str(sampling_distribution).encode(\"utf-8\")+b\"b4cebba56bfb1de9\").hexdigest() == \"7bff6660a9a1660eab3ecfd11f0208d1de9e8021\", \"value of sampling_distribution is not correct\"\n",
    "\n",
    "print('Success!')"
   ]
  },
  {
   "cell_type": "markdown",
   "metadata": {
    "deletable": false,
    "editable": false,
    "nbgrader": {
     "cell_type": "markdown",
     "checksum": "9f3458bf152319c6d7b6223890087f3b",
     "grade": false,
     "grade_id": "cell-4b8df8ad154a3900",
     "locked": true,
     "schema_version": 3,
     "solution": false,
     "task": false
    }
   },
   "source": [
    "###  Virtual sampling simulation\n",
    "\n",
    "In real life, we rarely, if ever, have measurements for our entire population. Here, however, we will pretend that we somehow were able to ask every single Candian senior what their age is. We will do this so that we can experiment to learn about sampling and how this relates to estimation.\n",
    "\n",
    "Here we make a simulated dataset of ages for our population (all Canadian seniors) bounded by realistic values ($\\geq$ 65 and $\\leq$ 118):"
   ]
  },
  {
   "cell_type": "code",
   "execution_count": null,
   "metadata": {
    "deletable": false,
    "editable": false,
    "nbgrader": {
     "cell_type": "code",
     "checksum": "30c4084bcf609cf54d3d50a740f38a04",
     "grade": false,
     "grade_id": "cell-40ed1f5c6c055f97",
     "locked": true,
     "schema_version": 3,
     "solution": false,
     "task": false
    }
   },
   "outputs": [],
   "source": [
    "# Run this cell to simulate a large finite population\n",
    "# Don't change the seed!\n",
    "np.random.seed(4321)\n",
    "\n",
    "can_seniors = pd.DataFrame({\n",
    "    'age': np.random.exponential(1 / 0.1, 2000000) ** 2 + 65,\n",
    "}).query(\n",
    "    \"65 <= age <= 118\"\n",
    ")\n",
    "\n",
    "can_seniors"
   ]
  },
  {
   "cell_type": "markdown",
   "metadata": {
    "deletable": false,
    "editable": false,
    "nbgrader": {
     "cell_type": "markdown",
     "checksum": "6f351cf5dbd0feef0b41991dc0fdecca",
     "grade": false,
     "grade_id": "cell-9b660b53ec2a2962",
     "locked": true,
     "schema_version": 3,
     "solution": false,
     "task": false
    }
   },
   "source": [
    "**Question 1.2** \n",
    "<br> {points: 1}\n",
    "\n",
    "A distribution defines all the possible values (or intervals) of the data and how often they occur. Visualize the distribution of the population (`can_seniors`) that was just created by plotting a histogram using `maxbins=30` in the `alt.Bin` argument. *Name the plot `pop_dist` and give the x-axis a descriptive label.*"
   ]
  },
  {
   "cell_type": "code",
   "execution_count": null,
   "metadata": {
    "deletable": false,
    "nbgrader": {
     "cell_type": "code",
     "checksum": "1a48a4fde2ac7fd8bb61cd1370400bc6",
     "grade": false,
     "grade_id": "cell-986bdfedad27901f",
     "locked": false,
     "schema_version": 3,
     "solution": true,
     "task": false
    }
   },
   "outputs": [],
   "source": [
    "# ___ = alt.Chart(___, title='Population distribution').mark_bar().encode(\n",
    "#     x=alt.X(___)\n",
    "#         .title(___)\n",
    "#         .bin(___=30),\n",
    "#     y=___\n",
    "# )\n",
    "\n",
    "# your code here\n",
    "raise NotImplementedError\n",
    "pop_dist"
   ]
  },
  {
   "cell_type": "code",
   "execution_count": null,
   "metadata": {
    "deletable": false,
    "editable": false,
    "nbgrader": {
     "cell_type": "code",
     "checksum": "073708aa6133ee49c0ed4dc1a7cf0d77",
     "grade": true,
     "grade_id": "cell-9e86388006978a3c",
     "locked": true,
     "points": 1,
     "schema_version": 3,
     "solution": false,
     "task": false
    }
   },
   "outputs": [],
   "source": [
    "from hashlib import sha1\n",
    "assert sha1(str(type(pop_dist.mark)).encode(\"utf-8\")+b\"cbdcd5a97c5fea7e\").hexdigest() == \"50ea41872363ce874daf90afa343625169fc70bb\", \"type of pop_dist.mark is not str. pop_dist.mark should be an str\"\n",
    "assert sha1(str(len(pop_dist.mark)).encode(\"utf-8\")+b\"cbdcd5a97c5fea7e\").hexdigest() == \"24c10b554793af5570021ffa4760f38511750e19\", \"length of pop_dist.mark is not correct\"\n",
    "assert sha1(str(pop_dist.mark.lower()).encode(\"utf-8\")+b\"cbdcd5a97c5fea7e\").hexdigest() == \"2bae1e6221a5dc11ebfbe55cdd608fd8555c72d7\", \"value of pop_dist.mark is not correct\"\n",
    "assert sha1(str(pop_dist.mark).encode(\"utf-8\")+b\"cbdcd5a97c5fea7e\").hexdigest() == \"2bae1e6221a5dc11ebfbe55cdd608fd8555c72d7\", \"correct string value of pop_dist.mark but incorrect case of letters\"\n",
    "\n",
    "assert sha1(str(type(pop_dist.encoding['x']['shorthand'])).encode(\"utf-8\")+b\"1b5c052d8fcf4839\").hexdigest() == \"c3cb685e50b16711711c74bcedda305add5a7ff4\", \"type of pop_dist.encoding['x']['shorthand'] is not str. pop_dist.encoding['x']['shorthand'] should be an str\"\n",
    "assert sha1(str(len(pop_dist.encoding['x']['shorthand'])).encode(\"utf-8\")+b\"1b5c052d8fcf4839\").hexdigest() == \"3642408124f990b189288cd4805e5f514e672d18\", \"length of pop_dist.encoding['x']['shorthand'] is not correct\"\n",
    "assert sha1(str(pop_dist.encoding['x']['shorthand'].lower()).encode(\"utf-8\")+b\"1b5c052d8fcf4839\").hexdigest() == \"6e57fa42ad64317e1b18dcda46ce592efe064b81\", \"value of pop_dist.encoding['x']['shorthand'] is not correct\"\n",
    "assert sha1(str(pop_dist.encoding['x']['shorthand']).encode(\"utf-8\")+b\"1b5c052d8fcf4839\").hexdigest() == \"6e57fa42ad64317e1b18dcda46ce592efe064b81\", \"correct string value of pop_dist.encoding['x']['shorthand'] but incorrect case of letters\"\n",
    "\n",
    "assert sha1(str(type(pop_dist.encoding['y']['shorthand'])).encode(\"utf-8\")+b\"721792ceb7988d28\").hexdigest() == \"deef807915eb75e3622b7448f719dc3d55a03f06\", \"type of pop_dist.encoding['y']['shorthand'] is not str. pop_dist.encoding['y']['shorthand'] should be an str\"\n",
    "assert sha1(str(len(pop_dist.encoding['y']['shorthand'])).encode(\"utf-8\")+b\"721792ceb7988d28\").hexdigest() == \"d4b2a5e1bb42a8f05656a939a35583a9afe1e653\", \"length of pop_dist.encoding['y']['shorthand'] is not correct\"\n",
    "assert sha1(str(pop_dist.encoding['y']['shorthand'].lower()).encode(\"utf-8\")+b\"721792ceb7988d28\").hexdigest() == \"1a366d76471aef5347bed74a6becd262587318b8\", \"value of pop_dist.encoding['y']['shorthand'] is not correct\"\n",
    "assert sha1(str(pop_dist.encoding['y']['shorthand']).encode(\"utf-8\")+b\"721792ceb7988d28\").hexdigest() == \"1a366d76471aef5347bed74a6becd262587318b8\", \"correct string value of pop_dist.encoding['y']['shorthand'] but incorrect case of letters\"\n",
    "\n",
    "assert sha1(str(type(isinstance(pop_dist.encoding.x['title'], str))).encode(\"utf-8\")+b\"ccc3c99b5bb423cb\").hexdigest() == \"45416eac82b6ea436fb5092884e1802289b5a496\", \"type of isinstance(pop_dist.encoding.x['title'], str) is not bool. isinstance(pop_dist.encoding.x['title'], str) should be a bool\"\n",
    "assert sha1(str(isinstance(pop_dist.encoding.x['title'], str)).encode(\"utf-8\")+b\"ccc3c99b5bb423cb\").hexdigest() == \"ed956a72644374842e77b5d299283476e6600d6d\", \"boolean value of isinstance(pop_dist.encoding.x['title'], str) is not correct\"\n",
    "\n",
    "assert sha1(str(type(pop_dist.data.equals(can_seniors))).encode(\"utf-8\")+b\"338d1cd98b5f162b\").hexdigest() == \"3bebcb9e953ee48ce9bad4033abd9293625fb6c3\", \"type of pop_dist.data.equals(can_seniors) is not bool. pop_dist.data.equals(can_seniors) should be a bool\"\n",
    "assert sha1(str(pop_dist.data.equals(can_seniors)).encode(\"utf-8\")+b\"338d1cd98b5f162b\").hexdigest() == \"1a1e9fff346dbc2fdf6517bc9753e9b9c86d2470\", \"boolean value of pop_dist.data.equals(can_seniors) is not correct\"\n",
    "\n",
    "print('Success!')"
   ]
  },
  {
   "cell_type": "markdown",
   "metadata": {
    "deletable": false,
    "editable": false,
    "nbgrader": {
     "cell_type": "markdown",
     "checksum": "2171a72c9d5737b662b688616fc575bc",
     "grade": false,
     "grade_id": "cell-a6d7523259c0ec45",
     "locked": true,
     "schema_version": 3,
     "solution": false,
     "task": false
    }
   },
   "source": [
    "**Question 1.3** \n",
    "<br> {points: 1}\n",
    "\n",
    "We often want to represent distributions by a single value or small number of values. Common values used for this include the mean, median, standard deviation, etc). \n",
    "\n",
    "Use the `agg` method to calculate the following population parameters from the `can_seniors` population:\n",
    "\n",
    "- mean (`mean`)\n",
    "- median (`median`)\n",
    "- standard deviation (`std`)\n",
    "\n",
    "*Name the resulting data frame `pop_parameters` (it should have one only column, called `age`, and one population parameter per row)*"
   ]
  },
  {
   "cell_type": "code",
   "execution_count": null,
   "metadata": {
    "deletable": false,
    "nbgrader": {
     "cell_type": "code",
     "checksum": "089c536643aa3d554e16b60a043d7a49",
     "grade": false,
     "grade_id": "cell-e351a7d3e55d1948",
     "locked": false,
     "schema_version": 3,
     "solution": true,
     "task": false
    }
   },
   "outputs": [],
   "source": [
    "# your code here\n",
    "raise NotImplementedError\n",
    "pop_parameters"
   ]
  },
  {
   "cell_type": "code",
   "execution_count": null,
   "metadata": {
    "deletable": false,
    "editable": false,
    "nbgrader": {
     "cell_type": "code",
     "checksum": "0c4e8a3c73bbed76da730549096dfec9",
     "grade": true,
     "grade_id": "cell-ebeb7e12fd1b5f86",
     "locked": true,
     "points": 1,
     "schema_version": 3,
     "solution": false,
     "task": false
    }
   },
   "outputs": [],
   "source": [
    "from hashlib import sha1\n",
    "assert sha1(str(type(pop_parameters.shape[0])).encode(\"utf-8\")+b\"d7f24dd3bdda68e5\").hexdigest() == \"c6486943c3867322beeac3ee052d1195c998f6d2\", \"type of pop_parameters.shape[0] is not int. Please make sure it is int and not np.int64, etc. You can cast your value into an int using int()\"\n",
    "assert sha1(str(pop_parameters.shape[0]).encode(\"utf-8\")+b\"d7f24dd3bdda68e5\").hexdigest() == \"450e0e37851b509a07894aec54a4aaa892c2e3ae\", \"value of pop_parameters.shape[0] is not correct\"\n",
    "\n",
    "assert sha1(str(type(pop_parameters.shape[1])).encode(\"utf-8\")+b\"3a8dc60241c010eb\").hexdigest() == \"c3103c8a54efe22705f62940f75dc1bc509975ae\", \"type of pop_parameters.shape[1] is not int. Please make sure it is int and not np.int64, etc. You can cast your value into an int using int()\"\n",
    "assert sha1(str(pop_parameters.shape[1]).encode(\"utf-8\")+b\"3a8dc60241c010eb\").hexdigest() == \"8494b6bc1cd76ac431f1b56af244f2fea659099f\", \"value of pop_parameters.shape[1] is not correct\"\n",
    "\n",
    "assert sha1(str(type(\"\".join(pop_parameters.columns.values))).encode(\"utf-8\")+b\"a927a0ba660ced22\").hexdigest() == \"1353f9444ea9ffe3d02fae5391e8c5c9344bc89f\", \"type of \\\"\\\".join(pop_parameters.columns.values) is not str. \\\"\\\".join(pop_parameters.columns.values) should be an str\"\n",
    "assert sha1(str(len(\"\".join(pop_parameters.columns.values))).encode(\"utf-8\")+b\"a927a0ba660ced22\").hexdigest() == \"bad77106b74fa7b2ae227b44c2dd7451f22f3cef\", \"length of \\\"\\\".join(pop_parameters.columns.values) is not correct\"\n",
    "assert sha1(str(\"\".join(pop_parameters.columns.values).lower()).encode(\"utf-8\")+b\"a927a0ba660ced22\").hexdigest() == \"2a22e9505613e393c09a8ee44c8f8f4181a6a0e5\", \"value of \\\"\\\".join(pop_parameters.columns.values) is not correct\"\n",
    "assert sha1(str(\"\".join(pop_parameters.columns.values)).encode(\"utf-8\")+b\"a927a0ba660ced22\").hexdigest() == \"2a22e9505613e393c09a8ee44c8f8f4181a6a0e5\", \"correct string value of \\\"\\\".join(pop_parameters.columns.values) but incorrect case of letters\"\n",
    "\n",
    "print('Success!')"
   ]
  },
  {
   "cell_type": "markdown",
   "metadata": {
    "deletable": false,
    "editable": false,
    "nbgrader": {
     "cell_type": "markdown",
     "checksum": "c4a78cb4ccf4a144ea260fa4cb97d65c",
     "grade": false,
     "grade_id": "cell-f06bf6c52b4b30be",
     "locked": true,
     "schema_version": 3,
     "solution": false,
     "task": false
    }
   },
   "source": [
    "**Question 1.4** \n",
    "<br> {points: 1}\n",
    "\n",
    "In real life, we usually are able to only collect a single sample from the population. We use that sample to try to infer what the population looks like.\n",
    "\n",
    "Take a single random sample of 40 observations using `sample` from the Canadian seniors population (`can_seniors`). Name it `sample_1`. Use 4321 as your `random_state`."
   ]
  },
  {
   "cell_type": "code",
   "execution_count": null,
   "metadata": {
    "deletable": false,
    "nbgrader": {
     "cell_type": "code",
     "checksum": "32a5c27c0f488dee531fc06dababd9fc",
     "grade": false,
     "grade_id": "cell-d8e06640ab5ea386",
     "locked": false,
     "schema_version": 3,
     "solution": true,
     "task": false
    }
   },
   "outputs": [],
   "source": [
    "# ___ = ___.sample(___, random_state=4321)\n",
    "\n",
    "# your code here\n",
    "raise NotImplementedError\n",
    "sample_1.head()"
   ]
  },
  {
   "cell_type": "code",
   "execution_count": null,
   "metadata": {
    "deletable": false,
    "editable": false,
    "nbgrader": {
     "cell_type": "code",
     "checksum": "6273bcec08f63bb88b094677584d69de",
     "grade": true,
     "grade_id": "cell-e494fbea71d264cc",
     "locked": true,
     "points": 1,
     "schema_version": 3,
     "solution": false,
     "task": false
    }
   },
   "outputs": [],
   "source": [
    "from hashlib import sha1\n",
    "assert sha1(str(type(sample_1.shape[0])).encode(\"utf-8\")+b\"85cd21ef6cdf59ad\").hexdigest() == \"b8ec6ca14b8b212eeb2f83b815c2474ba56cd8f1\", \"type of sample_1.shape[0] is not int. Please make sure it is int and not np.int64, etc. You can cast your value into an int using int()\"\n",
    "assert sha1(str(sample_1.shape[0]).encode(\"utf-8\")+b\"85cd21ef6cdf59ad\").hexdigest() == \"e4c72790a905072ecf855c29d3cc95a6e7ad8e11\", \"value of sample_1.shape[0] is not correct\"\n",
    "\n",
    "assert sha1(str(type(sample_1.shape[1])).encode(\"utf-8\")+b\"7391ac3bdaf4f87d\").hexdigest() == \"27b3bccfd9f66e358a202b2e63f942bee0decb2f\", \"type of sample_1.shape[1] is not int. Please make sure it is int and not np.int64, etc. You can cast your value into an int using int()\"\n",
    "assert sha1(str(sample_1.shape[1]).encode(\"utf-8\")+b\"7391ac3bdaf4f87d\").hexdigest() == \"acbfdd6f3407a2918660da8717f66e7b58ada3c5\", \"value of sample_1.shape[1] is not correct\"\n",
    "\n",
    "assert sha1(str(type(\"\".join(sample_1.columns.values))).encode(\"utf-8\")+b\"f995c55b9bd7b5ed\").hexdigest() == \"ec48a834e4423ebc12753a1a3e3d1197474c8d20\", \"type of \\\"\\\".join(sample_1.columns.values) is not str. \\\"\\\".join(sample_1.columns.values) should be an str\"\n",
    "assert sha1(str(len(\"\".join(sample_1.columns.values))).encode(\"utf-8\")+b\"f995c55b9bd7b5ed\").hexdigest() == \"b8d7dd671f59f5ad6340c853598956822f3d6d67\", \"length of \\\"\\\".join(sample_1.columns.values) is not correct\"\n",
    "assert sha1(str(\"\".join(sample_1.columns.values).lower()).encode(\"utf-8\")+b\"f995c55b9bd7b5ed\").hexdigest() == \"9ebe921f9c50426818a2cc02798412dc8aaede7c\", \"value of \\\"\\\".join(sample_1.columns.values) is not correct\"\n",
    "assert sha1(str(\"\".join(sample_1.columns.values)).encode(\"utf-8\")+b\"f995c55b9bd7b5ed\").hexdigest() == \"9ebe921f9c50426818a2cc02798412dc8aaede7c\", \"correct string value of \\\"\\\".join(sample_1.columns.values) but incorrect case of letters\"\n",
    "\n",
    "print('Success!')"
   ]
  },
  {
   "cell_type": "markdown",
   "metadata": {
    "deletable": false,
    "editable": false,
    "nbgrader": {
     "cell_type": "markdown",
     "checksum": "bb4f86e406480d3acef08b874812f6da",
     "grade": false,
     "grade_id": "cell-752cc4982153643f",
     "locked": true,
     "schema_version": 3,
     "solution": false,
     "task": false
    }
   },
   "source": [
    "**Question 1.5** \n",
    "<br> {points: 1}\n",
    "\n",
    "Visualize the distribution of the random sample you just took (`sample_1`) by plotting a histogram using `maxbins=30`. Just as in the population histogram we created above, give the plot a title; a suitable choice could be `\"Sample 1 distribution\"`.\n",
    "\n",
    "*Name the plot `sample_1_dist` and give the plot and the x-axis a descriptive label.*"
   ]
  },
  {
   "cell_type": "code",
   "execution_count": null,
   "metadata": {
    "deletable": false,
    "nbgrader": {
     "cell_type": "code",
     "checksum": "5660b496e256541335348bd83a78c999",
     "grade": false,
     "grade_id": "cell-826dafd6cb26adeb",
     "locked": false,
     "schema_version": 3,
     "solution": true,
     "task": false
    }
   },
   "outputs": [],
   "source": [
    "# your code here\n",
    "raise NotImplementedError\n",
    "sample_1_dist"
   ]
  },
  {
   "cell_type": "code",
   "execution_count": null,
   "metadata": {
    "deletable": false,
    "editable": false,
    "nbgrader": {
     "cell_type": "code",
     "checksum": "676ba77a125ed696fd67b6a0d9083238",
     "grade": true,
     "grade_id": "cell-170ce4a2c9de09e4",
     "locked": true,
     "points": 1,
     "schema_version": 3,
     "solution": false,
     "task": false
    }
   },
   "outputs": [],
   "source": [
    "from hashlib import sha1\n",
    "assert sha1(str(type(sample_1_dist.mark)).encode(\"utf-8\")+b\"41b33124cd047740\").hexdigest() == \"0793a1388cdbcd00062a91f6bf2d26e8dc6ae07f\", \"type of sample_1_dist.mark is not str. sample_1_dist.mark should be an str\"\n",
    "assert sha1(str(len(sample_1_dist.mark)).encode(\"utf-8\")+b\"41b33124cd047740\").hexdigest() == \"d8075ec5ae39222f549267264da9301913b98c8b\", \"length of sample_1_dist.mark is not correct\"\n",
    "assert sha1(str(sample_1_dist.mark.lower()).encode(\"utf-8\")+b\"41b33124cd047740\").hexdigest() == \"a3825d644e96f6dba1af06bf9f7de3cd398d970d\", \"value of sample_1_dist.mark is not correct\"\n",
    "assert sha1(str(sample_1_dist.mark).encode(\"utf-8\")+b\"41b33124cd047740\").hexdigest() == \"a3825d644e96f6dba1af06bf9f7de3cd398d970d\", \"correct string value of sample_1_dist.mark but incorrect case of letters\"\n",
    "\n",
    "assert sha1(str(type(sample_1_dist.encoding.x['shorthand'])).encode(\"utf-8\")+b\"dede79b297619fdc\").hexdigest() == \"2650a24211936d8be6d98c103175fd0902a9b7ca\", \"type of sample_1_dist.encoding.x['shorthand'] is not str. sample_1_dist.encoding.x['shorthand'] should be an str\"\n",
    "assert sha1(str(len(sample_1_dist.encoding.x['shorthand'])).encode(\"utf-8\")+b\"dede79b297619fdc\").hexdigest() == \"1e7e7001c9c896b6f31014959ccd2c9e9d2e5a71\", \"length of sample_1_dist.encoding.x['shorthand'] is not correct\"\n",
    "assert sha1(str(sample_1_dist.encoding.x['shorthand'].lower()).encode(\"utf-8\")+b\"dede79b297619fdc\").hexdigest() == \"dbb3a5ce3027a573a4760d5ea9bf6be4bfa071d7\", \"value of sample_1_dist.encoding.x['shorthand'] is not correct\"\n",
    "assert sha1(str(sample_1_dist.encoding.x['shorthand']).encode(\"utf-8\")+b\"dede79b297619fdc\").hexdigest() == \"dbb3a5ce3027a573a4760d5ea9bf6be4bfa071d7\", \"correct string value of sample_1_dist.encoding.x['shorthand'] but incorrect case of letters\"\n",
    "\n",
    "assert sha1(str(type(sample_1_dist.encoding.y['shorthand'])).encode(\"utf-8\")+b\"05aa7c2a1a786d96\").hexdigest() == \"6684f9869b75f51641c8a8d00b7ab97cf099583f\", \"type of sample_1_dist.encoding.y['shorthand'] is not str. sample_1_dist.encoding.y['shorthand'] should be an str\"\n",
    "assert sha1(str(len(sample_1_dist.encoding.y['shorthand'])).encode(\"utf-8\")+b\"05aa7c2a1a786d96\").hexdigest() == \"b9b34b06c1dc6cf78347282222982d9d3ff6003b\", \"length of sample_1_dist.encoding.y['shorthand'] is not correct\"\n",
    "assert sha1(str(sample_1_dist.encoding.y['shorthand'].lower()).encode(\"utf-8\")+b\"05aa7c2a1a786d96\").hexdigest() == \"ae3d5474daa9e901c851d48793f1bfdf9a4cb4e1\", \"value of sample_1_dist.encoding.y['shorthand'] is not correct\"\n",
    "assert sha1(str(sample_1_dist.encoding.y['shorthand']).encode(\"utf-8\")+b\"05aa7c2a1a786d96\").hexdigest() == \"ae3d5474daa9e901c851d48793f1bfdf9a4cb4e1\", \"correct string value of sample_1_dist.encoding.y['shorthand'] but incorrect case of letters\"\n",
    "\n",
    "assert sha1(str(type(isinstance(sample_1_dist.encoding.x['title'], str))).encode(\"utf-8\")+b\"bec2a5c1b59ff875\").hexdigest() == \"0cca016939f1a62faa1b51d70b1f1044d50951bb\", \"type of isinstance(sample_1_dist.encoding.x['title'], str) is not bool. isinstance(sample_1_dist.encoding.x['title'], str) should be a bool\"\n",
    "assert sha1(str(isinstance(sample_1_dist.encoding.x['title'], str)).encode(\"utf-8\")+b\"bec2a5c1b59ff875\").hexdigest() == \"05f1380251cd515793fa92c08f3d7d91ac7c68bb\", \"boolean value of isinstance(sample_1_dist.encoding.x['title'], str) is not correct\"\n",
    "\n",
    "assert sha1(str(type(sample_1_dist.data.equals(sample_1))).encode(\"utf-8\")+b\"53c974765930454e\").hexdigest() == \"20519a7df5b3d58a02deb636d3c47ba1aa45fb21\", \"type of sample_1_dist.data.equals(sample_1) is not bool. sample_1_dist.data.equals(sample_1) should be a bool\"\n",
    "assert sha1(str(sample_1_dist.data.equals(sample_1)).encode(\"utf-8\")+b\"53c974765930454e\").hexdigest() == \"37abe6d07f0e7f374d8679e00d74e7aa9460c841\", \"boolean value of sample_1_dist.data.equals(sample_1) is not correct\"\n",
    "\n",
    "print('Success!')"
   ]
  },
  {
   "cell_type": "markdown",
   "metadata": {
    "deletable": false,
    "editable": false,
    "nbgrader": {
     "cell_type": "markdown",
     "checksum": "79d37c9e7c50840b6eeefa0da77c8f96",
     "grade": false,
     "grade_id": "cell-3c4b35ed554cb337",
     "locked": true,
     "schema_version": 3,
     "solution": false,
     "task": false
    }
   },
   "source": [
    "**Question 1.6** \n",
    "<br> {points: 1}\n",
    "\n",
    "Use `agg` to calculate the following point estimates from the random sample you just took (`sample_1`):\n",
    "\n",
    "- mean \n",
    "- median \n",
    "- standard deviation \n",
    "\n",
    "*Name this data frame `sample_1_estimates`.*"
   ]
  },
  {
   "cell_type": "code",
   "execution_count": null,
   "metadata": {
    "deletable": false,
    "nbgrader": {
     "cell_type": "code",
     "checksum": "ee89489afa5f06b1b46f34e87825ba85",
     "grade": false,
     "grade_id": "cell-fe9efdbe457ea8e7",
     "locked": false,
     "schema_version": 3,
     "solution": true,
     "task": false
    }
   },
   "outputs": [],
   "source": [
    "# your code here\n",
    "raise NotImplementedError\n",
    "sample_1_estimates"
   ]
  },
  {
   "cell_type": "code",
   "execution_count": null,
   "metadata": {
    "deletable": false,
    "editable": false,
    "nbgrader": {
     "cell_type": "code",
     "checksum": "1bb1563d3751bc7da2f1f1fcdad463c6",
     "grade": true,
     "grade_id": "cell-021bf21e4a9b93ae",
     "locked": true,
     "points": 1,
     "schema_version": 3,
     "solution": false,
     "task": false
    }
   },
   "outputs": [],
   "source": [
    "from hashlib import sha1\n",
    "assert sha1(str(type(sample_1_estimates.shape[0])).encode(\"utf-8\")+b\"1deb4bdf49f73175\").hexdigest() == \"fbd32e06a3eb2a1a8f5c334819c87072e362394e\", \"type of sample_1_estimates.shape[0] is not int. Please make sure it is int and not np.int64, etc. You can cast your value into an int using int()\"\n",
    "assert sha1(str(sample_1_estimates.shape[0]).encode(\"utf-8\")+b\"1deb4bdf49f73175\").hexdigest() == \"9112a0db2e6ff1a73ec705928337a3927a9a74e7\", \"value of sample_1_estimates.shape[0] is not correct\"\n",
    "\n",
    "assert sha1(str(type(sample_1_estimates.shape[1])).encode(\"utf-8\")+b\"ae201b3555d4e608\").hexdigest() == \"24dfb134a62652728d42c7cf69d964f740944ae1\", \"type of sample_1_estimates.shape[1] is not int. Please make sure it is int and not np.int64, etc. You can cast your value into an int using int()\"\n",
    "assert sha1(str(sample_1_estimates.shape[1]).encode(\"utf-8\")+b\"ae201b3555d4e608\").hexdigest() == \"fe7005249ac004c90e0e931c67886e1fa4e94d54\", \"value of sample_1_estimates.shape[1] is not correct\"\n",
    "\n",
    "assert sha1(str(type(sample_1_estimates.columns.values)).encode(\"utf-8\")+b\"92e7fad6ced8bfb2\").hexdigest() == \"95ee68acf48824abc2aa9970d5c8cde0329a06a9\", \"type of sample_1_estimates.columns.values is not correct\"\n",
    "assert sha1(str(sample_1_estimates.columns.values).encode(\"utf-8\")+b\"92e7fad6ced8bfb2\").hexdigest() == \"1a832e219846eea586ac831110919796bf401d13\", \"value of sample_1_estimates.columns.values is not correct\"\n",
    "\n",
    "print('Success!')"
   ]
  },
  {
   "cell_type": "markdown",
   "metadata": {
    "deletable": false,
    "editable": false,
    "nbgrader": {
     "cell_type": "markdown",
     "checksum": "380e99bbae62ec6f6e6c2454b38a4464",
     "grade": false,
     "grade_id": "cell-ad24cb4b28616d3c",
     "locked": true,
     "schema_version": 3,
     "solution": false,
     "task": false
    }
   },
   "source": [
    "Let's now compare our random sample to the population from which it was drawn. In `altair`, it is possible to display multiple charts together by using the concatenation operators. We can use the `&` operator to concatenate charts vertically and `|` to concatenate horizontally. Since we want to compare the distributions' shape and position on the x-axis, it is most effective to concatenate these charts vertically."
   ]
  },
  {
   "cell_type": "code",
   "execution_count": null,
   "metadata": {
    "deletable": false,
    "editable": false,
    "nbgrader": {
     "cell_type": "code",
     "checksum": "c687dea1b7485ac21af2be94f7ca43b2",
     "grade": false,
     "grade_id": "cell-604e99e0db84fe98",
     "locked": true,
     "schema_version": 3,
     "solution": false,
     "task": false
    }
   },
   "outputs": [],
   "source": [
    "# run this code cell\n",
    "pop_dist & sample_1_dist"
   ]
  },
  {
   "cell_type": "markdown",
   "metadata": {
    "deletable": false,
    "editable": false,
    "nbgrader": {
     "cell_type": "markdown",
     "checksum": "96b62573abeb50fe420efa6aa0d70ecd",
     "grade": false,
     "grade_id": "cell-19718631d33c85a5",
     "locked": true,
     "schema_version": 3,
     "solution": false,
     "task": false
    }
   },
   "source": [
    "And now let's compare the point estimates (mean, median and standard deviation) with the true population parameters we were trying to estimate:"
   ]
  },
  {
   "cell_type": "code",
   "execution_count": null,
   "metadata": {
    "deletable": false,
    "editable": false,
    "nbgrader": {
     "cell_type": "code",
     "checksum": "5e04f5c0a18816e08944274286e5800c",
     "grade": false,
     "grade_id": "cell-ce56a190681ef9e9",
     "locked": true,
     "schema_version": 3,
     "solution": false,
     "task": false
    }
   },
   "outputs": [],
   "source": [
    "# run this cell\n",
    "pop_parameters"
   ]
  },
  {
   "cell_type": "code",
   "execution_count": null,
   "metadata": {
    "deletable": false,
    "editable": false,
    "nbgrader": {
     "cell_type": "code",
     "checksum": "9be9dfe6d055fa4d0584f603c775b52f",
     "grade": false,
     "grade_id": "cell-a1d668a937ee44d7",
     "locked": true,
     "schema_version": 3,
     "solution": false,
     "task": false
    }
   },
   "outputs": [],
   "source": [
    "# run this cell\n",
    "sample_1_estimates"
   ]
  },
  {
   "cell_type": "markdown",
   "metadata": {
    "deletable": false,
    "editable": false,
    "nbgrader": {
     "cell_type": "markdown",
     "checksum": "9cb6a3de45ef951799eeb63a512322d9",
     "grade": false,
     "grade_id": "cell-bb9b0aefa59610ab",
     "locked": true,
     "schema_version": 3,
     "solution": false,
     "task": false
    }
   },
   "source": [
    "**Question 1.7** Multiple Choice\n",
    "<br> {points: 1}\n",
    "\n",
    "After comparing the population and sample distributions above, and the true population parameters and the sample point estimates, which statement below **is not** correct:\n",
    "\n",
    "A. The sample point estimates are close to the values for the true population parameters we are trying to estimate\n",
    "\n",
    "B. The sample distribution is of a similar shape to the population distribution\n",
    "\n",
    "C. The sample point estimates are identical to the values for the true population parameters we are trying to estimate\n",
    "\n",
    "*Assign your answer to an object called `answer1_7`. Your answer should be a single character surrounded by quotes.*"
   ]
  },
  {
   "cell_type": "code",
   "execution_count": null,
   "metadata": {
    "deletable": false,
    "nbgrader": {
     "cell_type": "code",
     "checksum": "8b6888579d4e9d48cb6ed4133373e0a4",
     "grade": false,
     "grade_id": "cell-8ff972ce63d3c314",
     "locked": false,
     "schema_version": 3,
     "solution": true,
     "task": false
    }
   },
   "outputs": [],
   "source": [
    "# your code here\n",
    "raise NotImplementedError"
   ]
  },
  {
   "cell_type": "code",
   "execution_count": null,
   "metadata": {
    "deletable": false,
    "editable": false,
    "nbgrader": {
     "cell_type": "code",
     "checksum": "33c55235bb2e2da28fa4ff24dfbd4ffd",
     "grade": true,
     "grade_id": "cell-d5cee0eb7c6aebc8",
     "locked": true,
     "points": 1,
     "schema_version": 3,
     "solution": false,
     "task": false
    }
   },
   "outputs": [],
   "source": [
    "from hashlib import sha1\n",
    "assert sha1(str(type(answer1_7)).encode(\"utf-8\")+b\"0c44197a5b13d62b\").hexdigest() == \"3e5f42329289fadf8a5eff9bb12b1dfa64e6063b\", \"type of answer1_7 is not str. answer1_7 should be an str\"\n",
    "assert sha1(str(len(answer1_7)).encode(\"utf-8\")+b\"0c44197a5b13d62b\").hexdigest() == \"8f936a89d040b0b7d016c459f54933404015a5e5\", \"length of answer1_7 is not correct\"\n",
    "assert sha1(str(answer1_7.lower()).encode(\"utf-8\")+b\"0c44197a5b13d62b\").hexdigest() == \"cdc59cfdf512c7c2907d10ed0305a99c036451dc\", \"value of answer1_7 is not correct\"\n",
    "assert sha1(str(answer1_7).encode(\"utf-8\")+b\"0c44197a5b13d62b\").hexdigest() == \"f53ba18bc101851724e0203e45079d4c1cfef0a4\", \"correct string value of answer1_7 but incorrect case of letters\"\n",
    "\n",
    "print('Success!')"
   ]
  },
  {
   "cell_type": "markdown",
   "metadata": {
    "deletable": false,
    "editable": false,
    "nbgrader": {
     "cell_type": "markdown",
     "checksum": "65f0d1ff1fe358838041fd0b4f576144",
     "grade": false,
     "grade_id": "cell-8babcf95fe04cfa6",
     "locked": true,
     "schema_version": 3,
     "solution": false,
     "task": false
    }
   },
   "source": [
    "**Question 1.8.0** \n",
    "<br> {points: 1}\n",
    "\n",
    "What if we took another sample? What would we expect? Let's try! Take another random sample of size 40 from population (using the different random seed `2020` so that you get a different sample), visualize its distribution with the title `\"Sample 2 distribution\"`, and calculate the point estimates for the sample mean, median, and standard deviation.\n",
    "\n",
    "*Name your random sample of data `sample_2`, name your visualization  `sample_2_dist`, and finally name your estimates `sample_2_estimates`.*"
   ]
  },
  {
   "cell_type": "code",
   "execution_count": null,
   "metadata": {
    "deletable": false,
    "nbgrader": {
     "cell_type": "code",
     "checksum": "166c18234b9139ef08a38d6c280ef284",
     "grade": false,
     "grade_id": "cell-716cd961bf3e0e5c",
     "locked": false,
     "schema_version": 3,
     "solution": true,
     "task": false
    }
   },
   "outputs": [],
   "source": [
    "# your code here\n",
    "raise NotImplementedError\n",
    "sample_2_dist"
   ]
  },
  {
   "cell_type": "code",
   "execution_count": null,
   "metadata": {
    "deletable": false,
    "editable": false,
    "nbgrader": {
     "cell_type": "code",
     "checksum": "26b9321b3e49701eec94ffebca399afe",
     "grade": false,
     "grade_id": "cell-9d59db83b2d9334a",
     "locked": true,
     "schema_version": 3,
     "solution": false,
     "task": false
    }
   },
   "outputs": [],
   "source": [
    "# Run this cell\n",
    "sample_2_estimates"
   ]
  },
  {
   "cell_type": "code",
   "execution_count": null,
   "metadata": {
    "deletable": false,
    "editable": false,
    "nbgrader": {
     "cell_type": "code",
     "checksum": "aee00518166cc14b285a125d72be1b14",
     "grade": true,
     "grade_id": "cell-87ae342a039c4eb0",
     "locked": true,
     "points": 1,
     "schema_version": 3,
     "solution": false,
     "task": false
    }
   },
   "outputs": [],
   "source": [
    "from hashlib import sha1\n",
    "assert sha1(str(type(sample_2.shape[0])).encode(\"utf-8\")+b\"a891d245099ed1b0\").hexdigest() == \"faec8ea49c8081f91f5377ee79d8231f834e2698\", \"type of sample_2.shape[0] is not int. Please make sure it is int and not np.int64, etc. You can cast your value into an int using int()\"\n",
    "assert sha1(str(sample_2.shape[0]).encode(\"utf-8\")+b\"a891d245099ed1b0\").hexdigest() == \"19f467e9ae724423f0c1aa9a2e0d1b78a711f17d\", \"value of sample_2.shape[0] is not correct\"\n",
    "\n",
    "assert sha1(str(type(sample_2.shape[1])).encode(\"utf-8\")+b\"11b790f602266020\").hexdigest() == \"2b65f31756a3d1243f6f5f31829b3b97e568ffdc\", \"type of sample_2.shape[1] is not int. Please make sure it is int and not np.int64, etc. You can cast your value into an int using int()\"\n",
    "assert sha1(str(sample_2.shape[1]).encode(\"utf-8\")+b\"11b790f602266020\").hexdigest() == \"f22bf902bcc92f679ba5493788c52d18d5a3aaba\", \"value of sample_2.shape[1] is not correct\"\n",
    "\n",
    "assert sha1(str(type(\"\".join(sample_2.columns.values))).encode(\"utf-8\")+b\"5dac17a4c85d2401\").hexdigest() == \"cc4052fe95f788cd87c831deadbb587a4e4510c8\", \"type of \\\"\\\".join(sample_2.columns.values) is not str. \\\"\\\".join(sample_2.columns.values) should be an str\"\n",
    "assert sha1(str(len(\"\".join(sample_2.columns.values))).encode(\"utf-8\")+b\"5dac17a4c85d2401\").hexdigest() == \"d4928866aa825aafb99715094ecaf5f4acf6cec5\", \"length of \\\"\\\".join(sample_2.columns.values) is not correct\"\n",
    "assert sha1(str(\"\".join(sample_2.columns.values).lower()).encode(\"utf-8\")+b\"5dac17a4c85d2401\").hexdigest() == \"022ceebcdd34b36916b6d73baeaf032aaeaaa806\", \"value of \\\"\\\".join(sample_2.columns.values) is not correct\"\n",
    "assert sha1(str(\"\".join(sample_2.columns.values)).encode(\"utf-8\")+b\"5dac17a4c85d2401\").hexdigest() == \"022ceebcdd34b36916b6d73baeaf032aaeaaa806\", \"correct string value of \\\"\\\".join(sample_2.columns.values) but incorrect case of letters\"\n",
    "\n",
    "assert sha1(str(type(sample_2_estimates.shape[0])).encode(\"utf-8\")+b\"002d8c8cf3158909\").hexdigest() == \"9d0f34b5815c1665fbd4c41a8ab005dea27df368\", \"type of sample_2_estimates.shape[0] is not int. Please make sure it is int and not np.int64, etc. You can cast your value into an int using int()\"\n",
    "assert sha1(str(sample_2_estimates.shape[0]).encode(\"utf-8\")+b\"002d8c8cf3158909\").hexdigest() == \"2460e28481bb401a909cf9a8a9ebb19e83b5789e\", \"value of sample_2_estimates.shape[0] is not correct\"\n",
    "\n",
    "assert sha1(str(type(sample_2_estimates.shape[1])).encode(\"utf-8\")+b\"c1261e386d0820e8\").hexdigest() == \"d98215c6d5772b9446ec97cda90040128aa468fa\", \"type of sample_2_estimates.shape[1] is not int. Please make sure it is int and not np.int64, etc. You can cast your value into an int using int()\"\n",
    "assert sha1(str(sample_2_estimates.shape[1]).encode(\"utf-8\")+b\"c1261e386d0820e8\").hexdigest() == \"6c31227b9c8f0ab67a020a41c57877f5b1985614\", \"value of sample_2_estimates.shape[1] is not correct\"\n",
    "\n",
    "assert sha1(str(type(sample_2_estimates.columns.values)).encode(\"utf-8\")+b\"89727e8dfe1916f2\").hexdigest() == \"209dc4926ad5fde53b905901809e2b38aa04fb10\", \"type of sample_2_estimates.columns.values is not correct\"\n",
    "assert sha1(str(sample_2_estimates.columns.values).encode(\"utf-8\")+b\"89727e8dfe1916f2\").hexdigest() == \"240ebdf15463891a6bd4519928034a6e373e4462\", \"value of sample_2_estimates.columns.values is not correct\"\n",
    "\n",
    "assert sha1(str(type(sample_2_dist.mark)).encode(\"utf-8\")+b\"53f821365bb733ce\").hexdigest() == \"0e63d6f1aacabaa03d6cf990c9b7d406e0fff298\", \"type of sample_2_dist.mark is not str. sample_2_dist.mark should be an str\"\n",
    "assert sha1(str(len(sample_2_dist.mark)).encode(\"utf-8\")+b\"53f821365bb733ce\").hexdigest() == \"36aac1c2e6bf4d707e104b7719ba38f889ff388b\", \"length of sample_2_dist.mark is not correct\"\n",
    "assert sha1(str(sample_2_dist.mark.lower()).encode(\"utf-8\")+b\"53f821365bb733ce\").hexdigest() == \"f72a75ec176c97c35e2e43859fa97fb5676a54ac\", \"value of sample_2_dist.mark is not correct\"\n",
    "assert sha1(str(sample_2_dist.mark).encode(\"utf-8\")+b\"53f821365bb733ce\").hexdigest() == \"f72a75ec176c97c35e2e43859fa97fb5676a54ac\", \"correct string value of sample_2_dist.mark but incorrect case of letters\"\n",
    "\n",
    "assert sha1(str(type(sample_2_dist.encoding.x['shorthand'])).encode(\"utf-8\")+b\"3807432e11ab8148\").hexdigest() == \"25fa2b9773a0559f9ba1be3c4ea0729dc4d45700\", \"type of sample_2_dist.encoding.x['shorthand'] is not str. sample_2_dist.encoding.x['shorthand'] should be an str\"\n",
    "assert sha1(str(len(sample_2_dist.encoding.x['shorthand'])).encode(\"utf-8\")+b\"3807432e11ab8148\").hexdigest() == \"a724176b068219c99feac03dd78b4bb031cbf233\", \"length of sample_2_dist.encoding.x['shorthand'] is not correct\"\n",
    "assert sha1(str(sample_2_dist.encoding.x['shorthand'].lower()).encode(\"utf-8\")+b\"3807432e11ab8148\").hexdigest() == \"dcc78f88819180f6bcbdad0e203e0d4c607880b8\", \"value of sample_2_dist.encoding.x['shorthand'] is not correct\"\n",
    "assert sha1(str(sample_2_dist.encoding.x['shorthand']).encode(\"utf-8\")+b\"3807432e11ab8148\").hexdigest() == \"dcc78f88819180f6bcbdad0e203e0d4c607880b8\", \"correct string value of sample_2_dist.encoding.x['shorthand'] but incorrect case of letters\"\n",
    "\n",
    "assert sha1(str(type(sample_2_dist.encoding.y['shorthand'])).encode(\"utf-8\")+b\"6e6d669989901da3\").hexdigest() == \"79dbfcb8bc8a4cda6d9c9c1070d1804a8a557934\", \"type of sample_2_dist.encoding.y['shorthand'] is not str. sample_2_dist.encoding.y['shorthand'] should be an str\"\n",
    "assert sha1(str(len(sample_2_dist.encoding.y['shorthand'])).encode(\"utf-8\")+b\"6e6d669989901da3\").hexdigest() == \"fdf9fc6a861550d77e4f744adeda0dbf60bb6d1c\", \"length of sample_2_dist.encoding.y['shorthand'] is not correct\"\n",
    "assert sha1(str(sample_2_dist.encoding.y['shorthand'].lower()).encode(\"utf-8\")+b\"6e6d669989901da3\").hexdigest() == \"0eb7abef69ecdae34a846257105afbb0f3ab8fb7\", \"value of sample_2_dist.encoding.y['shorthand'] is not correct\"\n",
    "assert sha1(str(sample_2_dist.encoding.y['shorthand']).encode(\"utf-8\")+b\"6e6d669989901da3\").hexdigest() == \"0eb7abef69ecdae34a846257105afbb0f3ab8fb7\", \"correct string value of sample_2_dist.encoding.y['shorthand'] but incorrect case of letters\"\n",
    "\n",
    "assert sha1(str(type(isinstance(sample_2_dist.encoding.x['title'], str))).encode(\"utf-8\")+b\"93db8e626aafaa26\").hexdigest() == \"ab1e0bb009af12fd8730c3970aff0295c2c2042b\", \"type of isinstance(sample_2_dist.encoding.x['title'], str) is not bool. isinstance(sample_2_dist.encoding.x['title'], str) should be a bool\"\n",
    "assert sha1(str(isinstance(sample_2_dist.encoding.x['title'], str)).encode(\"utf-8\")+b\"93db8e626aafaa26\").hexdigest() == \"ad3cd54d25040e24deca310ca5ce02b5de97f19d\", \"boolean value of isinstance(sample_2_dist.encoding.x['title'], str) is not correct\"\n",
    "\n",
    "assert sha1(str(type(sample_2_dist.data.equals(sample_2))).encode(\"utf-8\")+b\"0b318c5121361a47\").hexdigest() == \"dc4485a048654627c3e6208bca5f4e280a17a8cb\", \"type of sample_2_dist.data.equals(sample_2) is not bool. sample_2_dist.data.equals(sample_2) should be a bool\"\n",
    "assert sha1(str(sample_2_dist.data.equals(sample_2)).encode(\"utf-8\")+b\"0b318c5121361a47\").hexdigest() == \"8b9314bc59a119218fb18ff0936b01ded3d0a2d1\", \"boolean value of sample_2_dist.data.equals(sample_2) is not correct\"\n",
    "\n",
    "print('Success!')"
   ]
  },
  {
   "cell_type": "markdown",
   "metadata": {
    "deletable": false,
    "editable": false,
    "nbgrader": {
     "cell_type": "markdown",
     "checksum": "6d47e311d897fe18622c261d3a0b5212",
     "grade": false,
     "grade_id": "cell-84562b964d37b15f",
     "locked": true,
     "schema_version": 3,
     "solution": false,
     "task": false
    }
   },
   "source": [
    "**Question 1.8.1** \n",
    "<br> {points: 1}\n",
    "\n",
    "After comparing the distribution and point estimates of this second random sample from the population with that of the first random sample and the population, which of the following statements below **is not** correct:\n",
    "\n",
    "A. The sample distributions from different random samples are of a similar shape to the population distribution, but they vary a bit depending which values are captured in the sample\n",
    "\n",
    "B. The sample point estimates from different random samples are close to the values for the true population parameters we are trying to estimate, but they vary a bit depending which values are captured in the sample\n",
    "\n",
    "C. Every random sample from the same population should have an identical set of values and yield identical point estimates.\n",
    "\n",
    "*Assign your answer to an object called `answer1_8_1`. Your answer should be a single character surrounded by quotes.*"
   ]
  },
  {
   "cell_type": "code",
   "execution_count": null,
   "metadata": {
    "deletable": false,
    "nbgrader": {
     "cell_type": "code",
     "checksum": "28566dd40b14a2437485e373c4b8c336",
     "grade": false,
     "grade_id": "cell-17f98eceba8ee494",
     "locked": false,
     "schema_version": 3,
     "solution": true,
     "task": false
    }
   },
   "outputs": [],
   "source": [
    "# your code here\n",
    "raise NotImplementedError"
   ]
  },
  {
   "cell_type": "code",
   "execution_count": null,
   "metadata": {
    "deletable": false,
    "editable": false,
    "nbgrader": {
     "cell_type": "code",
     "checksum": "528f57497f1f973d7d8ec1597beff107",
     "grade": true,
     "grade_id": "cell-00564a8c56afa5c2",
     "locked": true,
     "points": 1,
     "schema_version": 3,
     "solution": false,
     "task": false
    }
   },
   "outputs": [],
   "source": [
    "from hashlib import sha1\n",
    "assert sha1(str(type(answer1_8_1)).encode(\"utf-8\")+b\"c0738a295a21d63d\").hexdigest() == \"9db93e6ab81ea06efc3c5d5ec6936c08218ec900\", \"type of answer1_8_1 is not str. answer1_8_1 should be an str\"\n",
    "assert sha1(str(len(answer1_8_1)).encode(\"utf-8\")+b\"c0738a295a21d63d\").hexdigest() == \"27143576e400b2cf62e2f6783bf08b978bd3c416\", \"length of answer1_8_1 is not correct\"\n",
    "assert sha1(str(answer1_8_1.lower()).encode(\"utf-8\")+b\"c0738a295a21d63d\").hexdigest() == \"d1b7b2d5551bc9ee52f9c9bb2b00b575cd1652fb\", \"value of answer1_8_1 is not correct\"\n",
    "assert sha1(str(answer1_8_1).encode(\"utf-8\")+b\"c0738a295a21d63d\").hexdigest() == \"23cb30525eabe4b07ff421cc44d88902f0f93280\", \"correct string value of answer1_8_1 but incorrect case of letters\"\n",
    "\n",
    "print('Success!')"
   ]
  },
  {
   "cell_type": "markdown",
   "metadata": {
    "deletable": false,
    "editable": false,
    "nbgrader": {
     "cell_type": "markdown",
     "checksum": "a0ff84b3060f360c30a4e4cdc84444d9",
     "grade": false,
     "grade_id": "cell-d1e256c58e03abb7",
     "locked": true,
     "schema_version": 3,
     "solution": false,
     "task": false
    }
   },
   "source": [
    "### Exploring the sampling distribution of an estimate\n",
    "\n",
    "Just how much should we expect the point estimates of our random samples to vary? To build an intuition for this, let's experiment a little more with our population of Canadian seniors. To do this we will take 1000 random samples, and then calculate the point estimate we are interested in (let's choose the mean for this example) for each sample. Finally, we will visualize the distribution of the sample point estimates. This distribution will tell us how much we would expect the point estimates of our random samples to vary for this population for samples of size 40 (the size of our samples)."
   ]
  },
  {
   "cell_type": "markdown",
   "metadata": {
    "deletable": false,
    "editable": false,
    "nbgrader": {
     "cell_type": "markdown",
     "checksum": "5335d39f692d764354e6b4b63b038618",
     "grade": false,
     "grade_id": "cell-2f445a196c50749f",
     "locked": true,
     "schema_version": 3,
     "solution": false,
     "task": false
    }
   },
   "source": [
    "**Question 1.9** \n",
    "<br> {points: 1}\n",
    "\n",
    "Draw 1000 random samples from our population of Canadian seniors (`can_seniors`). Each sample should have 40 observations. Use a list comprehension wrapped in `pd.concat` as in the textbook, and name the resulting data frame `samples`."
   ]
  },
  {
   "cell_type": "code",
   "execution_count": null,
   "metadata": {
    "deletable": false,
    "nbgrader": {
     "cell_type": "code",
     "checksum": "3d29806d46312e9f33ad514571c52b72",
     "grade": false,
     "grade_id": "cell-695ac307a193414a",
     "locked": false,
     "schema_version": 3,
     "solution": true,
     "task": false
    }
   },
   "outputs": [],
   "source": [
    "np.random.seed(4321) # DO NOT CHANGE\n",
    "\n",
    "# ___ = pd.concat([\n",
    "#     can_seniors.sample(___).assign(replicate=___)\n",
    "#     for n in range(___)\n",
    "# ])\n",
    "\n",
    "# your code here\n",
    "raise NotImplementedError\n",
    "samples"
   ]
  },
  {
   "cell_type": "code",
   "execution_count": null,
   "metadata": {
    "deletable": false,
    "editable": false,
    "nbgrader": {
     "cell_type": "code",
     "checksum": "f9ab9b7d73fb5ae9725aac9ea26c903f",
     "grade": true,
     "grade_id": "cell-c58c6bf8b51e07c5",
     "locked": true,
     "points": 1,
     "schema_version": 3,
     "solution": false,
     "task": false
    }
   },
   "outputs": [],
   "source": [
    "from hashlib import sha1\n",
    "assert sha1(str(type(samples.shape[0])).encode(\"utf-8\")+b\"59a681eb44740aa5\").hexdigest() == \"a60f7849f5b090a4f627ef363655de8d70f12465\", \"type of samples.shape[0] is not int. Please make sure it is int and not np.int64, etc. You can cast your value into an int using int()\"\n",
    "assert sha1(str(samples.shape[0]).encode(\"utf-8\")+b\"59a681eb44740aa5\").hexdigest() == \"abd020941639d3fb9394cb72e6e98e0c494b1b3f\", \"value of samples.shape[0] is not correct\"\n",
    "\n",
    "assert sha1(str(type(samples.shape[1])).encode(\"utf-8\")+b\"e6361ea914d94cd6\").hexdigest() == \"e74faa6c1d812d8729a02864f79564b03bf2e8d7\", \"type of samples.shape[1] is not int. Please make sure it is int and not np.int64, etc. You can cast your value into an int using int()\"\n",
    "assert sha1(str(samples.shape[1]).encode(\"utf-8\")+b\"e6361ea914d94cd6\").hexdigest() == \"502eefbbb70ae1f754f1c406eb2d76a0d38da498\", \"value of samples.shape[1] is not correct\"\n",
    "\n",
    "assert sha1(str(type(\"\".join(samples.columns.values))).encode(\"utf-8\")+b\"e119024a846ddacb\").hexdigest() == \"ddd0a2542d6f840d8b9738f4a797db603d16dd4a\", \"type of \\\"\\\".join(samples.columns.values) is not str. \\\"\\\".join(samples.columns.values) should be an str\"\n",
    "assert sha1(str(len(\"\".join(samples.columns.values))).encode(\"utf-8\")+b\"e119024a846ddacb\").hexdigest() == \"1df4104e6e148272ca2f23a1d2b52da14bc14a35\", \"length of \\\"\\\".join(samples.columns.values) is not correct\"\n",
    "assert sha1(str(\"\".join(samples.columns.values).lower()).encode(\"utf-8\")+b\"e119024a846ddacb\").hexdigest() == \"2ed6aeaaa81fed87b57c5e01b5b7cce9b6004385\", \"value of \\\"\\\".join(samples.columns.values) is not correct\"\n",
    "assert sha1(str(\"\".join(samples.columns.values)).encode(\"utf-8\")+b\"e119024a846ddacb\").hexdigest() == \"2ed6aeaaa81fed87b57c5e01b5b7cce9b6004385\", \"correct string value of \\\"\\\".join(samples.columns.values) but incorrect case of letters\"\n",
    "\n",
    "print('Success!')"
   ]
  },
  {
   "cell_type": "markdown",
   "metadata": {
    "deletable": false,
    "editable": false,
    "nbgrader": {
     "cell_type": "markdown",
     "checksum": "8f9512df4b99304c04b6e84ba7ea0ba9",
     "grade": false,
     "grade_id": "cell-54d3669aec34e1c1",
     "locked": true,
     "schema_version": 3,
     "solution": false,
     "task": false
    }
   },
   "source": [
    "**Question 2.0** \n",
    "<br> {points: 1}\n",
    "\n",
    "Group by the sample replicate number, and then for each sample, calculate the mean as the point estimate. Name the data frame `sample_estimates`. Use `reset_index` and `rename(columns=___)`, so that the final data frame has the column names `replicate` and `mean_age`."
   ]
  },
  {
   "cell_type": "code",
   "execution_count": null,
   "metadata": {
    "deletable": false,
    "nbgrader": {
     "cell_type": "code",
     "checksum": "0a4b4f0c2cd85bdbd61ece17dc1d4dfa",
     "grade": false,
     "grade_id": "cell-db790cf4f047972a",
     "locked": false,
     "schema_version": 3,
     "solution": true,
     "task": false
    }
   },
   "outputs": [],
   "source": [
    "# your code here\n",
    "raise NotImplementedError\n",
    "sample_estimates"
   ]
  },
  {
   "cell_type": "code",
   "execution_count": null,
   "metadata": {
    "deletable": false,
    "editable": false,
    "nbgrader": {
     "cell_type": "code",
     "checksum": "014f5d07354e86f3c7bc5301d8e88c1c",
     "grade": true,
     "grade_id": "cell-009a8fb2b91b528c",
     "locked": true,
     "points": 1,
     "schema_version": 3,
     "solution": false,
     "task": false
    }
   },
   "outputs": [],
   "source": [
    "from hashlib import sha1\n",
    "assert sha1(str(type(sample_estimates.shape[0])).encode(\"utf-8\")+b\"b1bc056b9f18cfab\").hexdigest() == \"66696b5b2e16a37d6e3f2e6a8e05ecd5aebb757a\", \"type of sample_estimates.shape[0] is not int. Please make sure it is int and not np.int64, etc. You can cast your value into an int using int()\"\n",
    "assert sha1(str(sample_estimates.shape[0]).encode(\"utf-8\")+b\"b1bc056b9f18cfab\").hexdigest() == \"7f4ae68c745f2e5fed8246dbcb415c4294ca1811\", \"value of sample_estimates.shape[0] is not correct\"\n",
    "\n",
    "assert sha1(str(type(sample_estimates.shape[1])).encode(\"utf-8\")+b\"aa581e6c8295aa35\").hexdigest() == \"dc6fbb522e4701cc41f57036c4fcc71b3c39d460\", \"type of sample_estimates.shape[1] is not int. Please make sure it is int and not np.int64, etc. You can cast your value into an int using int()\"\n",
    "assert sha1(str(sample_estimates.shape[1]).encode(\"utf-8\")+b\"aa581e6c8295aa35\").hexdigest() == \"3c863680548322b78233afd2aed7455447ae2432\", \"value of sample_estimates.shape[1] is not correct\"\n",
    "\n",
    "assert sha1(str(type(\"\".join(sample_estimates.columns.values))).encode(\"utf-8\")+b\"bdfee114ac80f765\").hexdigest() == \"d20abacb98c469f1d8550c05390b80e44e699efd\", \"type of \\\"\\\".join(sample_estimates.columns.values) is not str. \\\"\\\".join(sample_estimates.columns.values) should be an str\"\n",
    "assert sha1(str(len(\"\".join(sample_estimates.columns.values))).encode(\"utf-8\")+b\"bdfee114ac80f765\").hexdigest() == \"9e1ce67b9fccfd66f69cd25ca66a5d1c015e251a\", \"length of \\\"\\\".join(sample_estimates.columns.values) is not correct\"\n",
    "assert sha1(str(\"\".join(sample_estimates.columns.values).lower()).encode(\"utf-8\")+b\"bdfee114ac80f765\").hexdigest() == \"cb28948f4a98198bc1d3d01211c49e5ab5b09bf8\", \"value of \\\"\\\".join(sample_estimates.columns.values) is not correct\"\n",
    "assert sha1(str(\"\".join(sample_estimates.columns.values)).encode(\"utf-8\")+b\"bdfee114ac80f765\").hexdigest() == \"cb28948f4a98198bc1d3d01211c49e5ab5b09bf8\", \"correct string value of \\\"\\\".join(sample_estimates.columns.values) but incorrect case of letters\"\n",
    "\n",
    "print('Success!')"
   ]
  },
  {
   "cell_type": "markdown",
   "metadata": {
    "deletable": false,
    "editable": false,
    "nbgrader": {
     "cell_type": "markdown",
     "checksum": "e05e58a923d6b93f38c2c9b530f38421",
     "grade": false,
     "grade_id": "cell-b37ce66b7bf8e8bf",
     "locked": true,
     "schema_version": 3,
     "solution": false,
     "task": false
    }
   },
   "source": [
    "**Question 2.1** \n",
    "<br> {points: 1}\n",
    "\n",
    "Visualize the distribution of the sample estimates (`sample_estimates`) you just calculated by plotting a histogram using `maxbins=30`. Name the plot `sampling_distribution`, title the plot `\"Sampling distribution of the sample means\"` and give the x-axis a descriptive label."
   ]
  },
  {
   "cell_type": "code",
   "execution_count": null,
   "metadata": {
    "deletable": false,
    "nbgrader": {
     "cell_type": "code",
     "checksum": "ec695bf1aa653e8496e6a10d3214f989",
     "grade": false,
     "grade_id": "cell-cc60d0afb72d45c2",
     "locked": false,
     "schema_version": 3,
     "solution": true,
     "task": false
    }
   },
   "outputs": [],
   "source": [
    "# your code here\n",
    "raise NotImplementedError\n",
    "sampling_distribution"
   ]
  },
  {
   "cell_type": "code",
   "execution_count": null,
   "metadata": {
    "deletable": false,
    "editable": false,
    "nbgrader": {
     "cell_type": "code",
     "checksum": "8501b79de2b3a7175ae429aa4e1f5ced",
     "grade": true,
     "grade_id": "cell-63a57e1040dc4a79",
     "locked": true,
     "points": 1,
     "schema_version": 3,
     "solution": false,
     "task": false
    }
   },
   "outputs": [],
   "source": [
    "from hashlib import sha1\n",
    "assert sha1(str(type(sampling_distribution.mark)).encode(\"utf-8\")+b\"f2f8487e4762ae6d\").hexdigest() == \"a115da924a326a46da2a2b6c4710752d45644033\", \"type of sampling_distribution.mark is not str. sampling_distribution.mark should be an str\"\n",
    "assert sha1(str(len(sampling_distribution.mark)).encode(\"utf-8\")+b\"f2f8487e4762ae6d\").hexdigest() == \"3a38b53590a5d27c8f6efe384cafa20f7841e5ce\", \"length of sampling_distribution.mark is not correct\"\n",
    "assert sha1(str(sampling_distribution.mark.lower()).encode(\"utf-8\")+b\"f2f8487e4762ae6d\").hexdigest() == \"6744f4e9235d3ee7c0306be58b9c7fc19b409ab8\", \"value of sampling_distribution.mark is not correct\"\n",
    "assert sha1(str(sampling_distribution.mark).encode(\"utf-8\")+b\"f2f8487e4762ae6d\").hexdigest() == \"6744f4e9235d3ee7c0306be58b9c7fc19b409ab8\", \"correct string value of sampling_distribution.mark but incorrect case of letters\"\n",
    "\n",
    "assert sha1(str(type(sampling_distribution.encoding.x['shorthand'])).encode(\"utf-8\")+b\"8ee9986c89c8924e\").hexdigest() == \"2b74b59c728631311cf56e7394b7d966fedf0cc1\", \"type of sampling_distribution.encoding.x['shorthand'] is not str. sampling_distribution.encoding.x['shorthand'] should be an str\"\n",
    "assert sha1(str(len(sampling_distribution.encoding.x['shorthand'])).encode(\"utf-8\")+b\"8ee9986c89c8924e\").hexdigest() == \"96f6534e99898bd7acaf6b6b0a9c1012199663b8\", \"length of sampling_distribution.encoding.x['shorthand'] is not correct\"\n",
    "assert sha1(str(sampling_distribution.encoding.x['shorthand'].lower()).encode(\"utf-8\")+b\"8ee9986c89c8924e\").hexdigest() == \"0f4de867ce24660bb34f8c62372a1f59238bd317\", \"value of sampling_distribution.encoding.x['shorthand'] is not correct\"\n",
    "assert sha1(str(sampling_distribution.encoding.x['shorthand']).encode(\"utf-8\")+b\"8ee9986c89c8924e\").hexdigest() == \"0f4de867ce24660bb34f8c62372a1f59238bd317\", \"correct string value of sampling_distribution.encoding.x['shorthand'] but incorrect case of letters\"\n",
    "\n",
    "assert sha1(str(type(sampling_distribution.encoding.y['shorthand'])).encode(\"utf-8\")+b\"aa710a345329c8e4\").hexdigest() == \"44722bb8f0b6034e3105fd9c0128f075c125c69d\", \"type of sampling_distribution.encoding.y['shorthand'] is not str. sampling_distribution.encoding.y['shorthand'] should be an str\"\n",
    "assert sha1(str(len(sampling_distribution.encoding.y['shorthand'])).encode(\"utf-8\")+b\"aa710a345329c8e4\").hexdigest() == \"56b7d46b52f465141a3573e771b9cc9d2e9b2a3e\", \"length of sampling_distribution.encoding.y['shorthand'] is not correct\"\n",
    "assert sha1(str(sampling_distribution.encoding.y['shorthand'].lower()).encode(\"utf-8\")+b\"aa710a345329c8e4\").hexdigest() == \"3fcd28905a92de255939c93eb0f4646e07646ef6\", \"value of sampling_distribution.encoding.y['shorthand'] is not correct\"\n",
    "assert sha1(str(sampling_distribution.encoding.y['shorthand']).encode(\"utf-8\")+b\"aa710a345329c8e4\").hexdigest() == \"3fcd28905a92de255939c93eb0f4646e07646ef6\", \"correct string value of sampling_distribution.encoding.y['shorthand'] but incorrect case of letters\"\n",
    "\n",
    "assert sha1(str(type(isinstance(sampling_distribution.encoding.x['title'], str))).encode(\"utf-8\")+b\"35307c5692bbf015\").hexdigest() == \"c1b93deb44c04282a0a788657e129812e8e6da43\", \"type of isinstance(sampling_distribution.encoding.x['title'], str) is not bool. isinstance(sampling_distribution.encoding.x['title'], str) should be a bool\"\n",
    "assert sha1(str(isinstance(sampling_distribution.encoding.x['title'], str)).encode(\"utf-8\")+b\"35307c5692bbf015\").hexdigest() == \"a90d916cdf4eeb0c8a083db4804e3088ebfa2ea7\", \"boolean value of isinstance(sampling_distribution.encoding.x['title'], str) is not correct\"\n",
    "\n",
    "assert sha1(str(type(sampling_distribution.data.equals(sample_estimates))).encode(\"utf-8\")+b\"93fb04fd0c377f10\").hexdigest() == \"a814d48224fe3517d9e660f8d8cbf66ecc0a22da\", \"type of sampling_distribution.data.equals(sample_estimates) is not bool. sampling_distribution.data.equals(sample_estimates) should be a bool\"\n",
    "assert sha1(str(sampling_distribution.data.equals(sample_estimates)).encode(\"utf-8\")+b\"93fb04fd0c377f10\").hexdigest() == \"0538b460420741b0839482e9378ecd1e1d836aa2\", \"boolean value of sampling_distribution.data.equals(sample_estimates) is not correct\"\n",
    "\n",
    "print('Success!')"
   ]
  },
  {
   "cell_type": "markdown",
   "metadata": {
    "deletable": false,
    "editable": false,
    "nbgrader": {
     "cell_type": "markdown",
     "checksum": "8bf5d3f29fd9fb89a8aaa73afcb7e592",
     "grade": false,
     "grade_id": "cell-e1b528491ee83745",
     "locked": true,
     "schema_version": 3,
     "solution": false,
     "task": false
    }
   },
   "source": [
    "**Question 2.2** \n",
    "<br> {points: 1}\n",
    "\n",
    "Let's refresh our memories: what is the mean age of the whole population (we calculated this above)? *Assign your answer to an object called `answer2_2`. Your answer should be a single number reported to two decimal places.*\n"
   ]
  },
  {
   "cell_type": "code",
   "execution_count": null,
   "metadata": {
    "deletable": false,
    "nbgrader": {
     "cell_type": "code",
     "checksum": "d8c73ae9e4d42f7bdd0d4a6669287013",
     "grade": false,
     "grade_id": "cell-b3dc0d016c0b2fa0",
     "locked": false,
     "schema_version": 3,
     "solution": true,
     "task": false
    }
   },
   "outputs": [],
   "source": [
    "# your code here\n",
    "raise NotImplementedError\n",
    "answer2_2"
   ]
  },
  {
   "cell_type": "code",
   "execution_count": null,
   "metadata": {
    "deletable": false,
    "editable": false,
    "nbgrader": {
     "cell_type": "code",
     "checksum": "cd8e08c8cad92c1edcd607359993b4f9",
     "grade": true,
     "grade_id": "cell-859e93c62242915f",
     "locked": true,
     "points": 1,
     "schema_version": 3,
     "solution": false,
     "task": false
    }
   },
   "outputs": [],
   "source": [
    "from hashlib import sha1\n",
    "assert sha1(str(type(round(answer2_2, 1))).encode(\"utf-8\")+b\"48f395892d4cdd7b\").hexdigest() == \"45172be4b4dcf521ff15e363144ed3414dd83edc\", \"type of round(answer2_2, 1) is not float. Please make sure it is float and not np.float64, etc. You can cast your value into a float using float()\"\n",
    "assert sha1(str(round(round(answer2_2, 1), 2)).encode(\"utf-8\")+b\"48f395892d4cdd7b\").hexdigest() == \"94b5e3b78baedee15495919cbf0e2a20a747ccf0\", \"value of round(answer2_2, 1) is not correct (rounded to 2 decimal places)\"\n",
    "\n",
    "print('Success!')"
   ]
  },
  {
   "cell_type": "markdown",
   "metadata": {
    "deletable": false,
    "editable": false,
    "nbgrader": {
     "cell_type": "markdown",
     "checksum": "e2315357d7ccec90ff2e7c6247c55e24",
     "grade": false,
     "grade_id": "cell-cd211c77f0a630b0",
     "locked": true,
     "schema_version": 3,
     "solution": false,
     "task": false
    }
   },
   "source": [
    "**Question 2.3** Multiple Choice\n",
    "<br> {points: 1}\n",
    "\n",
    "Considering the true value for the population mean, and the sampling distribution you created and visualized in **question 2.1**, which of the following statements below **is not** correct:\n",
    "\n",
    "A. The sampling distribution is centered at the true population mean\n",
    "\n",
    "B. All the sample means are the same value as the true population mean\n",
    "\n",
    "C. Most sample means are at or very near the same value as the true population mean\n",
    "\n",
    "D. A few sample means are far away from the same value as the true population mean\n",
    "\n",
    "*Assign your answer to an object called `answer2_3`. Your answer should be a single character surrounded by quotes.*"
   ]
  },
  {
   "cell_type": "code",
   "execution_count": null,
   "metadata": {
    "deletable": false,
    "nbgrader": {
     "cell_type": "code",
     "checksum": "af9778a8adc19f941ac92d8c9dc852aa",
     "grade": false,
     "grade_id": "cell-aee3630dbf16cba9",
     "locked": false,
     "schema_version": 3,
     "solution": true,
     "task": false
    }
   },
   "outputs": [],
   "source": [
    "# your code here\n",
    "raise NotImplementedError\n",
    "answer2_3"
   ]
  },
  {
   "cell_type": "code",
   "execution_count": null,
   "metadata": {
    "deletable": false,
    "editable": false,
    "nbgrader": {
     "cell_type": "code",
     "checksum": "afdbd2675401ce949d5159bb3952e5d2",
     "grade": true,
     "grade_id": "cell-d79f9703b99565f3",
     "locked": true,
     "points": 1,
     "schema_version": 3,
     "solution": false,
     "task": false
    }
   },
   "outputs": [],
   "source": [
    "from hashlib import sha1\n",
    "assert sha1(str(type(answer2_3)).encode(\"utf-8\")+b\"872f070c85b795ac\").hexdigest() == \"48a16f89913d286c4f5aaccbc5682d2cc24fd0e6\", \"type of answer2_3 is not str. answer2_3 should be an str\"\n",
    "assert sha1(str(len(answer2_3)).encode(\"utf-8\")+b\"872f070c85b795ac\").hexdigest() == \"03e1560c1253cd881cf2e628c992a511781f53a1\", \"length of answer2_3 is not correct\"\n",
    "assert sha1(str(answer2_3.lower()).encode(\"utf-8\")+b\"872f070c85b795ac\").hexdigest() == \"b5cabc97c47f98eab9d18dc005b049c9763f213c\", \"value of answer2_3 is not correct\"\n",
    "assert sha1(str(answer2_3).encode(\"utf-8\")+b\"872f070c85b795ac\").hexdigest() == \"a7723193c8b1f0ad82aba2c26e6c69714ee4e046\", \"correct string value of answer2_3 but incorrect case of letters\"\n",
    "\n",
    "print('Success!')"
   ]
  },
  {
   "cell_type": "markdown",
   "metadata": {
    "deletable": false,
    "editable": false,
    "nbgrader": {
     "cell_type": "markdown",
     "checksum": "2a9f46f2027d9a82372419b30b9afcfd",
     "grade": false,
     "grade_id": "cell-e77dc5e07d87e667",
     "locked": true,
     "schema_version": 3,
     "solution": false,
     "task": false
    }
   },
   "source": [
    "**Question 2.4** True/False\n",
    "<br> {points: 1}\n",
    "\n",
    "Taking a random sample and calculating a point estimate is a good way to get a \"best guess\" of the population parameter you are interested in. True or False?\n",
    "\n",
    "*Assign your answer to an object called `answer2_4`. Your answer should be a boolean. i.e. `True` or `False`*"
   ]
  },
  {
   "cell_type": "code",
   "execution_count": null,
   "metadata": {
    "deletable": false,
    "nbgrader": {
     "cell_type": "code",
     "checksum": "9cd5a8b7240bef055ad2944192efecae",
     "grade": false,
     "grade_id": "cell-6f8050a70cec0677",
     "locked": false,
     "schema_version": 3,
     "solution": true,
     "task": false
    }
   },
   "outputs": [],
   "source": [
    "# your code here\n",
    "raise NotImplementedError\n",
    "answer2_4"
   ]
  },
  {
   "cell_type": "code",
   "execution_count": null,
   "metadata": {
    "deletable": false,
    "editable": false,
    "nbgrader": {
     "cell_type": "code",
     "checksum": "91faa9ce62fe0e8804ab7a9b0a0ae3e0",
     "grade": true,
     "grade_id": "cell-83c05f5c808126c1",
     "locked": true,
     "points": 1,
     "schema_version": 3,
     "solution": false,
     "task": false
    }
   },
   "outputs": [],
   "source": [
    "from hashlib import sha1\n",
    "assert sha1(str(type(answer2_4)).encode(\"utf-8\")+b\"2e30d2101adabff0\").hexdigest() == \"062d56e96de6195e29e1ff6addef3d4fdb356683\", \"type of answer2_4 is not bool. answer2_4 should be a bool\"\n",
    "assert sha1(str(answer2_4).encode(\"utf-8\")+b\"2e30d2101adabff0\").hexdigest() == \"d76d380715bff7f93823b92a535ade479fbd0734\", \"boolean value of answer2_4 is not correct\"\n",
    "\n",
    "print('Success!')"
   ]
  },
  {
   "cell_type": "markdown",
   "metadata": {
    "deletable": false,
    "editable": false,
    "nbgrader": {
     "cell_type": "markdown",
     "checksum": "7126f8ab1f7737176325c9e27b5e68bb",
     "grade": false,
     "grade_id": "cell-2465e27157c638d7",
     "locked": true,
     "schema_version": 3,
     "solution": false,
     "task": false
    }
   },
   "source": [
    "### The influence of sample size on the sampling distribution\n",
    "\n",
    "What happens to our point estimate when we change the sample size? Let's answer this question by experimenting! We will create 3 different sampling distributions of sample means, each using a different sample size. As we did above, we will draw samples from our Canadian seniors population. We will visualize these sampling distributions and see if we can see a pattern when we vary the sample size."
   ]
  },
  {
   "cell_type": "markdown",
   "metadata": {
    "deletable": false,
    "editable": false,
    "nbgrader": {
     "cell_type": "markdown",
     "checksum": "2fc66ee660a0456f86a6d94fba76d3b3",
     "grade": false,
     "grade_id": "cell-34e0ccb715d582e3",
     "locked": true,
     "schema_version": 3,
     "solution": false,
     "task": false
    }
   },
   "source": [
    "**Question 2.5** \n",
    "<br> {points: 1}\n",
    "\n",
    "Using the same strategy as you did above, draw 1000 random samples from the Canadian seniors population (`can_seniors`), each of size **20**. For each sample, calculate the mean age and assign this data frame to an object called `sample_estimates_20`. As previously, make sure you use `reset_index` so that the data frame has the columns `replicate` and `mean_age`. \n",
    "\n",
    "Then, visualize the distribution of the sample estimates (means) you just calculated by plotting a histogram using `maxbins=30`. Name the plot variable `sampling_distribution_20` and give the x-axis a descriptive label. Give the plot the title `\"n = 20\"`."
   ]
  },
  {
   "cell_type": "code",
   "execution_count": null,
   "metadata": {
    "deletable": false,
    "nbgrader": {
     "cell_type": "code",
     "checksum": "4ac8b1888d46361739d4f55bd057feb1",
     "grade": false,
     "grade_id": "cell-b749043da4922d58",
     "locked": false,
     "schema_version": 3,
     "solution": true,
     "task": false
    }
   },
   "outputs": [],
   "source": [
    "np.random.seed(4321)  # DO NOT CHANGE\n",
    "\n",
    "# your code here\n",
    "raise NotImplementedError\n",
    "sampling_distribution_20"
   ]
  },
  {
   "cell_type": "code",
   "execution_count": null,
   "metadata": {
    "deletable": false,
    "editable": false,
    "nbgrader": {
     "cell_type": "code",
     "checksum": "2b8e637c08f13f4298392485f7ec8daa",
     "grade": true,
     "grade_id": "cell-fae3123c38b31ad8",
     "locked": true,
     "points": 1,
     "schema_version": 3,
     "solution": false,
     "task": false
    }
   },
   "outputs": [],
   "source": [
    "from hashlib import sha1\n",
    "assert sha1(str(type(sampling_distribution_20.mark)).encode(\"utf-8\")+b\"61357c5fe90abcd6\").hexdigest() == \"d3c5a7231b27b6362187b568c7d81fe950e0f020\", \"type of sampling_distribution_20.mark is not str. sampling_distribution_20.mark should be an str\"\n",
    "assert sha1(str(len(sampling_distribution_20.mark)).encode(\"utf-8\")+b\"61357c5fe90abcd6\").hexdigest() == \"3842ea55848df0270dd0f5010afdbabe02987cae\", \"length of sampling_distribution_20.mark is not correct\"\n",
    "assert sha1(str(sampling_distribution_20.mark.lower()).encode(\"utf-8\")+b\"61357c5fe90abcd6\").hexdigest() == \"d332c6e5402a761922a0e766ba216987604c7e3f\", \"value of sampling_distribution_20.mark is not correct\"\n",
    "assert sha1(str(sampling_distribution_20.mark).encode(\"utf-8\")+b\"61357c5fe90abcd6\").hexdigest() == \"d332c6e5402a761922a0e766ba216987604c7e3f\", \"correct string value of sampling_distribution_20.mark but incorrect case of letters\"\n",
    "\n",
    "assert sha1(str(type(sampling_distribution_20.encoding.x['shorthand'])).encode(\"utf-8\")+b\"06a520850b92f529\").hexdigest() == \"f43516b2038f69d87b11ce311cbecc948c050258\", \"type of sampling_distribution_20.encoding.x['shorthand'] is not str. sampling_distribution_20.encoding.x['shorthand'] should be an str\"\n",
    "assert sha1(str(len(sampling_distribution_20.encoding.x['shorthand'])).encode(\"utf-8\")+b\"06a520850b92f529\").hexdigest() == \"c2b844d3ba02ce0d2145931346f90c2aa5c24e61\", \"length of sampling_distribution_20.encoding.x['shorthand'] is not correct\"\n",
    "assert sha1(str(sampling_distribution_20.encoding.x['shorthand'].lower()).encode(\"utf-8\")+b\"06a520850b92f529\").hexdigest() == \"43d7c34f1d66c6f67a6e9ad8e058cb1ee14f63ed\", \"value of sampling_distribution_20.encoding.x['shorthand'] is not correct\"\n",
    "assert sha1(str(sampling_distribution_20.encoding.x['shorthand']).encode(\"utf-8\")+b\"06a520850b92f529\").hexdigest() == \"43d7c34f1d66c6f67a6e9ad8e058cb1ee14f63ed\", \"correct string value of sampling_distribution_20.encoding.x['shorthand'] but incorrect case of letters\"\n",
    "\n",
    "assert sha1(str(type(sampling_distribution_20.encoding.y['shorthand'])).encode(\"utf-8\")+b\"aadf2ee561b75f49\").hexdigest() == \"68aaeb6c7904b6d71474e473d2de71519e735e76\", \"type of sampling_distribution_20.encoding.y['shorthand'] is not str. sampling_distribution_20.encoding.y['shorthand'] should be an str\"\n",
    "assert sha1(str(len(sampling_distribution_20.encoding.y['shorthand'])).encode(\"utf-8\")+b\"aadf2ee561b75f49\").hexdigest() == \"b764d56320aef40185662ec974b3071d288dd846\", \"length of sampling_distribution_20.encoding.y['shorthand'] is not correct\"\n",
    "assert sha1(str(sampling_distribution_20.encoding.y['shorthand'].lower()).encode(\"utf-8\")+b\"aadf2ee561b75f49\").hexdigest() == \"44f096eb38334f75b5be04be10fd4ee11a21cd34\", \"value of sampling_distribution_20.encoding.y['shorthand'] is not correct\"\n",
    "assert sha1(str(sampling_distribution_20.encoding.y['shorthand']).encode(\"utf-8\")+b\"aadf2ee561b75f49\").hexdigest() == \"44f096eb38334f75b5be04be10fd4ee11a21cd34\", \"correct string value of sampling_distribution_20.encoding.y['shorthand'] but incorrect case of letters\"\n",
    "\n",
    "assert sha1(str(type(isinstance(sampling_distribution_20.encoding.x['title'], str))).encode(\"utf-8\")+b\"2ba430fcbd840054\").hexdigest() == \"9d00748615af8c6f18476966d2c866bc6792ed8c\", \"type of isinstance(sampling_distribution_20.encoding.x['title'], str) is not bool. isinstance(sampling_distribution_20.encoding.x['title'], str) should be a bool\"\n",
    "assert sha1(str(isinstance(sampling_distribution_20.encoding.x['title'], str)).encode(\"utf-8\")+b\"2ba430fcbd840054\").hexdigest() == \"5fffc99b73e1c7fd9e94b3f2f93a9c9b2808d73c\", \"boolean value of isinstance(sampling_distribution_20.encoding.x['title'], str) is not correct\"\n",
    "\n",
    "assert sha1(str(type(sampling_distribution_20.data.equals(sample_estimates_20))).encode(\"utf-8\")+b\"9904605f29bc7e8b\").hexdigest() == \"9607730a5774673d7a371968909f64d688d2c122\", \"type of sampling_distribution_20.data.equals(sample_estimates_20) is not bool. sampling_distribution_20.data.equals(sample_estimates_20) should be a bool\"\n",
    "assert sha1(str(sampling_distribution_20.data.equals(sample_estimates_20)).encode(\"utf-8\")+b\"9904605f29bc7e8b\").hexdigest() == \"1e43b48d916ae87d6644e113169fbb748061e5cb\", \"boolean value of sampling_distribution_20.data.equals(sample_estimates_20) is not correct\"\n",
    "\n",
    "print('Success!')"
   ]
  },
  {
   "cell_type": "markdown",
   "metadata": {
    "deletable": false,
    "editable": false,
    "nbgrader": {
     "cell_type": "markdown",
     "checksum": "50174e8bd5a76a154f91601924bd6ee7",
     "grade": false,
     "grade_id": "cell-54728427a6fc9f21",
     "locked": true,
     "schema_version": 3,
     "solution": false,
     "task": false
    }
   },
   "source": [
    "**Question 2.6** \n",
    "<br> {points: 1}\n",
    "\n",
    "Using the same strategy as you did above, draw 1000 random samples from the Canadian seniors population (`can_seniors`), each of size **100**. For each sample, calculate the mean age and assign this data frame to an object called `sample_estimates_100`. As previously, make sure you use `reset_index` so that the data frame has the columns `replicate` and `mean_age`. \n",
    "\n",
    "Then, visualize the distribution of the sample estimates (means) you just calculated by plotting a histogram using `maxbins=30`. Name the plot variable `sampling_distribution_100` and give the x-axis a descriptive label. Give the plot the title `\"n = 100\"`."
   ]
  },
  {
   "cell_type": "code",
   "execution_count": null,
   "metadata": {
    "deletable": false,
    "nbgrader": {
     "cell_type": "code",
     "checksum": "ab50b4e962c4c4505227c87d16c5fe21",
     "grade": false,
     "grade_id": "cell-417f5129afaf8a43",
     "locked": false,
     "schema_version": 3,
     "solution": true,
     "task": false
    }
   },
   "outputs": [],
   "source": [
    "np.random.seed(4321)  # DO NOT CHANGE\n",
    "\n",
    "# your code here\n",
    "raise NotImplementedError\n",
    "sampling_distribution_100"
   ]
  },
  {
   "cell_type": "code",
   "execution_count": null,
   "metadata": {
    "deletable": false,
    "editable": false,
    "nbgrader": {
     "cell_type": "code",
     "checksum": "17ecaf76186aaede3009bd0581070b67",
     "grade": true,
     "grade_id": "cell-5cc24d62254b5bc5",
     "locked": true,
     "points": 1,
     "schema_version": 3,
     "solution": false,
     "task": false
    }
   },
   "outputs": [],
   "source": [
    "from hashlib import sha1\n",
    "assert sha1(str(type(sampling_distribution_100.mark)).encode(\"utf-8\")+b\"0eab918807e6b019\").hexdigest() == \"6f1bbc03b4b74b555ee44ba88616ce8b027a7391\", \"type of sampling_distribution_100.mark is not str. sampling_distribution_100.mark should be an str\"\n",
    "assert sha1(str(len(sampling_distribution_100.mark)).encode(\"utf-8\")+b\"0eab918807e6b019\").hexdigest() == \"dde8d5cf126cc3dcdf15d95ed6c376b5d597e355\", \"length of sampling_distribution_100.mark is not correct\"\n",
    "assert sha1(str(sampling_distribution_100.mark.lower()).encode(\"utf-8\")+b\"0eab918807e6b019\").hexdigest() == \"a873e1d6f4c6688a003177a573b602e373d30c1d\", \"value of sampling_distribution_100.mark is not correct\"\n",
    "assert sha1(str(sampling_distribution_100.mark).encode(\"utf-8\")+b\"0eab918807e6b019\").hexdigest() == \"a873e1d6f4c6688a003177a573b602e373d30c1d\", \"correct string value of sampling_distribution_100.mark but incorrect case of letters\"\n",
    "\n",
    "assert sha1(str(type(sampling_distribution_100.encoding.x['shorthand'])).encode(\"utf-8\")+b\"ab01681cdd177107\").hexdigest() == \"7a8f7ed83b8d8d8edd03c4da3e387787b2335cf6\", \"type of sampling_distribution_100.encoding.x['shorthand'] is not str. sampling_distribution_100.encoding.x['shorthand'] should be an str\"\n",
    "assert sha1(str(len(sampling_distribution_100.encoding.x['shorthand'])).encode(\"utf-8\")+b\"ab01681cdd177107\").hexdigest() == \"b441556b43f4ae9b06e026668e720ebe96972bc4\", \"length of sampling_distribution_100.encoding.x['shorthand'] is not correct\"\n",
    "assert sha1(str(sampling_distribution_100.encoding.x['shorthand'].lower()).encode(\"utf-8\")+b\"ab01681cdd177107\").hexdigest() == \"e13fd83eb36030a498e72d0d1ec0df3f0d908242\", \"value of sampling_distribution_100.encoding.x['shorthand'] is not correct\"\n",
    "assert sha1(str(sampling_distribution_100.encoding.x['shorthand']).encode(\"utf-8\")+b\"ab01681cdd177107\").hexdigest() == \"e13fd83eb36030a498e72d0d1ec0df3f0d908242\", \"correct string value of sampling_distribution_100.encoding.x['shorthand'] but incorrect case of letters\"\n",
    "\n",
    "assert sha1(str(type(sampling_distribution_100.encoding.y['shorthand'])).encode(\"utf-8\")+b\"6ed742334d286f4b\").hexdigest() == \"0f9405393ea45355bcc40eef1356e4cd8091f53b\", \"type of sampling_distribution_100.encoding.y['shorthand'] is not str. sampling_distribution_100.encoding.y['shorthand'] should be an str\"\n",
    "assert sha1(str(len(sampling_distribution_100.encoding.y['shorthand'])).encode(\"utf-8\")+b\"6ed742334d286f4b\").hexdigest() == \"107a3fd95c2c27c47bd016a5b0b6572c20c3517c\", \"length of sampling_distribution_100.encoding.y['shorthand'] is not correct\"\n",
    "assert sha1(str(sampling_distribution_100.encoding.y['shorthand'].lower()).encode(\"utf-8\")+b\"6ed742334d286f4b\").hexdigest() == \"ed07483718d25ea5072ad149230f96e8bea9f8d2\", \"value of sampling_distribution_100.encoding.y['shorthand'] is not correct\"\n",
    "assert sha1(str(sampling_distribution_100.encoding.y['shorthand']).encode(\"utf-8\")+b\"6ed742334d286f4b\").hexdigest() == \"ed07483718d25ea5072ad149230f96e8bea9f8d2\", \"correct string value of sampling_distribution_100.encoding.y['shorthand'] but incorrect case of letters\"\n",
    "\n",
    "assert sha1(str(type(isinstance(sampling_distribution_100.encoding.x['title'], str))).encode(\"utf-8\")+b\"4e50c8be530a5d54\").hexdigest() == \"f4dfac08e0aadec501b6b9d87e8ae8db74dfa3ba\", \"type of isinstance(sampling_distribution_100.encoding.x['title'], str) is not bool. isinstance(sampling_distribution_100.encoding.x['title'], str) should be a bool\"\n",
    "assert sha1(str(isinstance(sampling_distribution_100.encoding.x['title'], str)).encode(\"utf-8\")+b\"4e50c8be530a5d54\").hexdigest() == \"0ad7b470ed101aa7f8dc39cd0a841d373a9a5657\", \"boolean value of isinstance(sampling_distribution_100.encoding.x['title'], str) is not correct\"\n",
    "\n",
    "assert sha1(str(type(sampling_distribution_100.data.equals(sample_estimates_100))).encode(\"utf-8\")+b\"e0eb8c597e49b73d\").hexdigest() == \"a912eb03dc1343ac4900a47173a5f032bab30f3b\", \"type of sampling_distribution_100.data.equals(sample_estimates_100) is not bool. sampling_distribution_100.data.equals(sample_estimates_100) should be a bool\"\n",
    "assert sha1(str(sampling_distribution_100.data.equals(sample_estimates_100)).encode(\"utf-8\")+b\"e0eb8c597e49b73d\").hexdigest() == \"a9456290d8299566a8aae53e08c00864c9ff30a0\", \"boolean value of sampling_distribution_100.data.equals(sample_estimates_100) is not correct\"\n",
    "\n",
    "print('Success!')"
   ]
  },
  {
   "cell_type": "markdown",
   "metadata": {
    "deletable": false,
    "editable": false,
    "nbgrader": {
     "cell_type": "markdown",
     "checksum": "1c8fb8616fe5e213e723b6d2d7287ef8",
     "grade": false,
     "grade_id": "cell-617a34d8b1bfc6fb",
     "locked": true,
     "schema_version": 3,
     "solution": false,
     "task": false
    }
   },
   "source": [
    "**Question 2.7** \n",
    "<br> {points: 1}\n",
    "\n",
    "Next, let's compare the three sampling distributions together. To do this more effectively we need to change the histograms x-axes to span the same range. We have previously seen how to change the axis range using `domain`, but since we also want the histogram bins to be recalculated with the new axis range, we need to use a slightly different method here where we change the `extent` over which the bins are created. We have already done this in the cell below, where we also change the title of our initial chart to indicate the sample size we used there.\n",
    "\n",
    "You task is to fill in the name of the variables for the charts that we are concatenating vertically. Start with the one with the smallest `n` on top, and put the one with the largest `n` on the bottom. Name the final panel figure `sampling_distribution_panel`."
   ]
  },
  {
   "cell_type": "code",
   "execution_count": null,
   "metadata": {
    "deletable": false,
    "nbgrader": {
     "cell_type": "code",
     "checksum": "063c6b241dc2027a15b6544934093d0b",
     "grade": false,
     "grade_id": "cell-ae896640d6da399c",
     "locked": false,
     "schema_version": 3,
     "solution": true,
     "task": false
    }
   },
   "outputs": [],
   "source": [
    "# Change the range of the x-axis to be the same for all charts\n",
    "sampling_distribution.title = \"n = 40\"\n",
    "sampling_distribution.encoding.x['bin']['extent'] = (70, 92)\n",
    "sampling_distribution_20.encoding.x['bin']['extent'] = (70, 92)\n",
    "sampling_distribution_100.encoding.x['bin']['extent'] = (70, 92)\n",
    "\n",
    "# ___ = (\n",
    "#     ___.properties(height=150)\n",
    "#     & ___.properties(height=150)\n",
    "#     & ___.properties(height=150)\n",
    "# ).resolve_scale(\n",
    "#     y='shared'  # Set the same y-axis range for all charts\n",
    "# )\n",
    "\n",
    "# your code here\n",
    "raise NotImplementedError\n",
    "sampling_distribution_panel"
   ]
  },
  {
   "cell_type": "code",
   "execution_count": null,
   "metadata": {
    "deletable": false,
    "editable": false,
    "nbgrader": {
     "cell_type": "code",
     "checksum": "fa334b5cb2214cebdfdcd1ad1f3abe72",
     "grade": true,
     "grade_id": "cell-ed03c64897c5640f",
     "locked": true,
     "points": 1,
     "schema_version": 3,
     "solution": false,
     "task": false
    }
   },
   "outputs": [],
   "source": [
    "from hashlib import sha1\n",
    "assert sha1(str(type(sampling_distribution_panel)).encode(\"utf-8\")+b\"e881778058ea90fe\").hexdigest() == \"3d89e441e82beb49c64b2a998b1d746dd630565d\", \"type of type(sampling_distribution_panel) is not correct\"\n",
    "\n",
    "assert sha1(str(type(sampling_distribution_panel.vconcat[0]['title'])).encode(\"utf-8\")+b\"e0e69539b2d070fc\").hexdigest() == \"2837a80d44f5756db9e587ff50d80017808605d0\", \"type of sampling_distribution_panel.vconcat[0]['title'] is not str. sampling_distribution_panel.vconcat[0]['title'] should be an str\"\n",
    "assert sha1(str(len(sampling_distribution_panel.vconcat[0]['title'])).encode(\"utf-8\")+b\"e0e69539b2d070fc\").hexdigest() == \"ca64a14ff67e12d4327d7ce73eba9cbf169ab454\", \"length of sampling_distribution_panel.vconcat[0]['title'] is not correct\"\n",
    "assert sha1(str(sampling_distribution_panel.vconcat[0]['title'].lower()).encode(\"utf-8\")+b\"e0e69539b2d070fc\").hexdigest() == \"6268b68e9625a6cc3eb58069724fa2d1a394218a\", \"value of sampling_distribution_panel.vconcat[0]['title'] is not correct\"\n",
    "assert sha1(str(sampling_distribution_panel.vconcat[0]['title']).encode(\"utf-8\")+b\"e0e69539b2d070fc\").hexdigest() == \"6268b68e9625a6cc3eb58069724fa2d1a394218a\", \"correct string value of sampling_distribution_panel.vconcat[0]['title'] but incorrect case of letters\"\n",
    "\n",
    "assert sha1(str(type(sampling_distribution_panel.vconcat[1]['title'])).encode(\"utf-8\")+b\"cc9b0fe7a118affb\").hexdigest() == \"4b82994c572004a3bba869de6ed5573a4d217875\", \"type of sampling_distribution_panel.vconcat[1]['title'] is not str. sampling_distribution_panel.vconcat[1]['title'] should be an str\"\n",
    "assert sha1(str(len(sampling_distribution_panel.vconcat[1]['title'])).encode(\"utf-8\")+b\"cc9b0fe7a118affb\").hexdigest() == \"aa2f69c54adb820503e60b261d3e546a261a670a\", \"length of sampling_distribution_panel.vconcat[1]['title'] is not correct\"\n",
    "assert sha1(str(sampling_distribution_panel.vconcat[1]['title'].lower()).encode(\"utf-8\")+b\"cc9b0fe7a118affb\").hexdigest() == \"c9d181dbd75002533cbef095b381ae2ac2053cbd\", \"value of sampling_distribution_panel.vconcat[1]['title'] is not correct\"\n",
    "assert sha1(str(sampling_distribution_panel.vconcat[1]['title']).encode(\"utf-8\")+b\"cc9b0fe7a118affb\").hexdigest() == \"c9d181dbd75002533cbef095b381ae2ac2053cbd\", \"correct string value of sampling_distribution_panel.vconcat[1]['title'] but incorrect case of letters\"\n",
    "\n",
    "assert sha1(str(type(sampling_distribution_panel.vconcat[2]['title'])).encode(\"utf-8\")+b\"f53a263221a8972f\").hexdigest() == \"351d664d4395ec903bd767ce85d69ba1b5aa8174\", \"type of sampling_distribution_panel.vconcat[2]['title'] is not str. sampling_distribution_panel.vconcat[2]['title'] should be an str\"\n",
    "assert sha1(str(len(sampling_distribution_panel.vconcat[2]['title'])).encode(\"utf-8\")+b\"f53a263221a8972f\").hexdigest() == \"71518169f06127cc7823c31f8885ff595aa55e34\", \"length of sampling_distribution_panel.vconcat[2]['title'] is not correct\"\n",
    "assert sha1(str(sampling_distribution_panel.vconcat[2]['title'].lower()).encode(\"utf-8\")+b\"f53a263221a8972f\").hexdigest() == \"2883816a843144c29e0b1d7ae0d6ee061d52c74c\", \"value of sampling_distribution_panel.vconcat[2]['title'] is not correct\"\n",
    "assert sha1(str(sampling_distribution_panel.vconcat[2]['title']).encode(\"utf-8\")+b\"f53a263221a8972f\").hexdigest() == \"2883816a843144c29e0b1d7ae0d6ee061d52c74c\", \"correct string value of sampling_distribution_panel.vconcat[2]['title'] but incorrect case of letters\"\n",
    "\n",
    "assert sha1(str(type(len(sampling_distribution_panel.vconcat))).encode(\"utf-8\")+b\"44c7b2368f054b06\").hexdigest() == \"cf0931571446b696d9ae37acff7d6c9b5ac33b91\", \"type of len(sampling_distribution_panel.vconcat) is not int. Please make sure it is int and not np.int64, etc. You can cast your value into an int using int()\"\n",
    "assert sha1(str(len(sampling_distribution_panel.vconcat)).encode(\"utf-8\")+b\"44c7b2368f054b06\").hexdigest() == \"cd5a50b28600f1329f76cd9853f3fec802b55f60\", \"value of len(sampling_distribution_panel.vconcat) is not correct\"\n",
    "\n",
    "print('Success!')"
   ]
  },
  {
   "cell_type": "markdown",
   "metadata": {
    "deletable": false,
    "editable": false,
    "nbgrader": {
     "cell_type": "markdown",
     "checksum": "16a2470b9838ebd9f2c7b83769fc6a35",
     "grade": false,
     "grade_id": "cell-05e3eccb230d6deb",
     "locked": true,
     "schema_version": 3,
     "solution": false,
     "task": false
    }
   },
   "source": [
    "**Question 2.8** Multiple Choice\n",
    "<br> {points: 1}\n",
    "\n",
    "Considering the panel figure you created above in **question 2.7**, which of the following statements below **is not** correct:\n",
    "\n",
    "A. As the sample size increases, the sampling distribution of the point estimate becomes narrower.\n",
    "\n",
    "B. As the sample size increases, more sample point estimates are closer to the true population mean.\n",
    "\n",
    "C. As the sample size decreses, the sample point estimates become more variable.\n",
    "\n",
    "D. As the sample size increases, the sample point estimates become more variable.\n",
    "\n",
    "*Assign your answer to an object called `answer2_8`. Your answer should be a single character surrounded by quotes.*"
   ]
  },
  {
   "cell_type": "code",
   "execution_count": null,
   "metadata": {
    "deletable": false,
    "nbgrader": {
     "cell_type": "code",
     "checksum": "0687acaae590df768cfeb8e0ef62ea0c",
     "grade": false,
     "grade_id": "cell-8f9319a3b3411ed5",
     "locked": false,
     "schema_version": 3,
     "solution": true,
     "task": false
    }
   },
   "outputs": [],
   "source": [
    "# your code here\n",
    "raise NotImplementedError\n",
    "answer2_8"
   ]
  },
  {
   "cell_type": "code",
   "execution_count": null,
   "metadata": {
    "deletable": false,
    "editable": false,
    "nbgrader": {
     "cell_type": "code",
     "checksum": "9cf58f73f60e082c413f1023dd430ae8",
     "grade": true,
     "grade_id": "cell-4bd59f7910e865dc",
     "locked": true,
     "points": 1,
     "schema_version": 3,
     "solution": false,
     "task": false
    }
   },
   "outputs": [],
   "source": [
    "from hashlib import sha1\n",
    "assert sha1(str(type(answer2_8)).encode(\"utf-8\")+b\"bf6fdd29f748e6c3\").hexdigest() == \"bf671ab87fdfe0baf232b8ed935698baaabd652a\", \"type of answer2_8 is not str. answer2_8 should be an str\"\n",
    "assert sha1(str(len(answer2_8)).encode(\"utf-8\")+b\"bf6fdd29f748e6c3\").hexdigest() == \"13ccecabb3ffc0f9fcd6a0e753e4d14a9a74658d\", \"length of answer2_8 is not correct\"\n",
    "assert sha1(str(answer2_8.lower()).encode(\"utf-8\")+b\"bf6fdd29f748e6c3\").hexdigest() == \"967196286f0fe7837db9db8f781d4c9bb1187e58\", \"value of answer2_8 is not correct\"\n",
    "assert sha1(str(answer2_8).encode(\"utf-8\")+b\"bf6fdd29f748e6c3\").hexdigest() == \"06cfdd66739a6c21b348efec346bef5112cc3cb5\", \"correct string value of answer2_8 but incorrect case of letters\"\n",
    "\n",
    "print('Success!')"
   ]
  },
  {
   "cell_type": "markdown",
   "metadata": {
    "deletable": false,
    "editable": false,
    "nbgrader": {
     "cell_type": "markdown",
     "checksum": "cc08a1f58f4dd868e7fb106d037343ca",
     "grade": false,
     "grade_id": "cell-4622783ca69e105d",
     "locked": true,
     "schema_version": 3,
     "solution": false,
     "task": false
    }
   },
   "source": [
    "**Question 2.9** True/False\n",
    "<br> {points: 1}\n",
    "\n",
    "Given what you observed above, and considering the real life scenario where you will only have one sample, answer the True/False question below:\n",
    "\n",
    "The smaller your random sample, the better your sample point estimate reflect the true population parameter you are trying to estimate. True or False?\n",
    "\n",
    "*Assign your answer to an object called `answer2_9`. Your answer should be a boolean. i.e. `True` or `False`.*"
   ]
  },
  {
   "cell_type": "code",
   "execution_count": null,
   "metadata": {
    "deletable": false,
    "nbgrader": {
     "cell_type": "code",
     "checksum": "e3b62b190d93cd3b6533906c3489fa10",
     "grade": false,
     "grade_id": "cell-3c587e58178a0614",
     "locked": false,
     "schema_version": 3,
     "solution": true,
     "task": false
    }
   },
   "outputs": [],
   "source": [
    "# your code here\n",
    "raise NotImplementedError\n",
    "answer2_9"
   ]
  },
  {
   "cell_type": "code",
   "execution_count": null,
   "metadata": {
    "deletable": false,
    "editable": false,
    "nbgrader": {
     "cell_type": "code",
     "checksum": "0f6c5a29ffce0aa5ddaa37cf4b15f8f4",
     "grade": true,
     "grade_id": "cell-d346c550b654bff1",
     "locked": true,
     "points": 1,
     "schema_version": 3,
     "solution": false,
     "task": false
    }
   },
   "outputs": [],
   "source": [
    "from hashlib import sha1\n",
    "assert sha1(str(type(answer2_9)).encode(\"utf-8\")+b\"0bb9919405a22986\").hexdigest() == \"5f93e86965174baa7251b4324aacc8451429f249\", \"type of answer2_9 is not bool. answer2_9 should be a bool\"\n",
    "assert sha1(str(answer2_9).encode(\"utf-8\")+b\"0bb9919405a22986\").hexdigest() == \"eeb690609d79a15649c147d7d793d94ab94b94ae\", \"boolean value of answer2_9 is not correct\"\n",
    "\n",
    "print('Success!')"
   ]
  }
 ],
 "metadata": {
  "jupytext": {
   "encoding": "# -*- coding: utf-8 -*-"
  },
  "kernelspec": {
   "display_name": "Python 3 (ipykernel)",
   "language": "python",
   "name": "python3"
  },
  "language_info": {
   "codemirror_mode": {
    "name": "ipython",
    "version": 3
   },
   "file_extension": ".py",
   "mimetype": "text/x-python",
   "name": "python",
   "nbconvert_exporter": "python",
   "pygments_lexer": "ipython3",
   "version": "3.11.4"
  }
 },
 "nbformat": 4,
 "nbformat_minor": 4
}
