{
 "cells": [
  {
   "cell_type": "markdown",
   "metadata": {
    "deletable": false,
    "editable": false,
    "nbgrader": {
     "cell_type": "markdown",
     "checksum": "d79f41ef0204beaa753e32623c9017e4",
     "grade": false,
     "grade_id": "cell-f863750069537ead",
     "locked": true,
     "schema_version": 3,
     "solution": false,
     "task": false
    }
   },
   "source": [
    "# Worksheet 12 - The Bootstrap\n",
    "\n",
    "### Lecture and Tutorial Learning Goals:\n",
    "\n",
    "After completing this week's lecture and tutorial work, you will be able to:\n",
    "- Explain why we don't have a sampling distribution in practice/real life.\n",
    "- Define bootstrapping.\n",
    "- Use Python to create a bootstrap distribution to approximate a sampling distribution.\n",
    "- Contrast bootstrap and sampling distributions.\n",
    "\n",
    "This worksheet covers parts of [Chapter 10](https://python.datasciencebook.ca/inference) of the online textbook. You should read this chapter before attempting this assignment. Any place you see `___`, you must fill in the function, variable, or data to complete the code. Substitute the `raise NotImplementedError` with your completed code and answers then proceed to run the cell."
   ]
  },
  {
   "cell_type": "code",
   "execution_count": null,
   "metadata": {
    "deletable": false,
    "editable": false,
    "nbgrader": {
     "cell_type": "code",
     "checksum": "f5492ab327f894773a7e522f3ef0e51d",
     "grade": false,
     "grade_id": "cell-55b5050a0a343a4f",
     "locked": true,
     "schema_version": 3,
     "solution": false,
     "task": false
    }
   },
   "outputs": [],
   "source": [
    "### Run this cell before continuing.\n",
    "import altair as alt\n",
    "import numpy as np\n",
    "import pandas as pd\n",
    "\n",
    "# Simplify working with large datasets in Altair\n",
    "alt.data_transformers.disable_max_rows()"
   ]
  },
  {
   "cell_type": "markdown",
   "metadata": {
    "deletable": false,
    "editable": false,
    "nbgrader": {
     "cell_type": "markdown",
     "checksum": "45827f1d33373e875656a0a097fbe1ef",
     "grade": false,
     "grade_id": "cell-b0098728d66708d2",
     "locked": true,
     "schema_version": 3,
     "solution": false,
     "task": false
    }
   },
   "source": [
    "**Question 1.1** True/False:\n",
    "<br> {points: 1}\n",
    "\n",
    "In real life, we typically take many samples from the population and create a sampling distribution when we perform estimation. True or false?\n",
    "\n",
    "*Assign your answer to an object called `answer1_1`. Your answer should be a boolean. i.e. `True` or `False`.*"
   ]
  },
  {
   "cell_type": "code",
   "execution_count": null,
   "metadata": {
    "deletable": false,
    "nbgrader": {
     "cell_type": "code",
     "checksum": "579b8b2a8396e609a0433b4d4864a97c",
     "grade": false,
     "grade_id": "cell-03cc711477e4baf7",
     "locked": false,
     "schema_version": 3,
     "solution": true,
     "task": false
    }
   },
   "outputs": [],
   "source": [
    "# your code here\n",
    "raise NotImplementedError"
   ]
  },
  {
   "cell_type": "code",
   "execution_count": null,
   "metadata": {
    "deletable": false,
    "editable": false,
    "nbgrader": {
     "cell_type": "code",
     "checksum": "9c6ccd313c05efc407b91f7e56f890f1",
     "grade": true,
     "grade_id": "cell-e8aa24da1ef5f535",
     "locked": true,
     "points": 1,
     "schema_version": 3,
     "solution": false,
     "task": false
    }
   },
   "outputs": [],
   "source": [
    "from hashlib import sha1\n",
    "assert sha1(str(type(answer1_1)).encode(\"utf-8\")+b\"ad23c99d94c4f70b\").hexdigest() == \"74468a53356a373ee4766188a060b6c7c6fb15bb\", \"type of answer1_1 is not bool. answer1_1 should be a bool\"\n",
    "assert sha1(str(answer1_1).encode(\"utf-8\")+b\"ad23c99d94c4f70b\").hexdigest() == \"90d6fbe05fae2e770901a6272cc8b41307ab6bb9\", \"boolean value of answer1_1 is not correct\"\n",
    "\n",
    "print('Success!')"
   ]
  },
  {
   "cell_type": "markdown",
   "metadata": {
    "deletable": false,
    "editable": false,
    "nbgrader": {
     "cell_type": "markdown",
     "checksum": "0210bbb99abf687e877faf85810a29c8",
     "grade": false,
     "grade_id": "cell-05b19510ad97aeb3",
     "locked": true,
     "schema_version": 3,
     "solution": false,
     "task": false
    }
   },
   "source": [
    "**Question 1.2** Ordering\n",
    "<br> {points: 1}\n",
    "\n",
    "Correctly re-order the steps for creating a bootstrap sample from those listed below. \n",
    "\n",
    "1. record the observation's value\n",
    "2. repeat the above the same number of times as there are observations in the original sample \n",
    "3. return the observation to the original sample\n",
    "4. randomly draw an observation from the original sample (which was drawn from the population)\n",
    "\n",
    "Create your answer by reordering values below in the `answer1_2` list with the correct order for the steps above for creating a bootstrap sample."
   ]
  },
  {
   "cell_type": "code",
   "execution_count": null,
   "metadata": {
    "deletable": false,
    "nbgrader": {
     "cell_type": "code",
     "checksum": "5524eabbbbec4190912c0d4962f5eebc",
     "grade": false,
     "grade_id": "cell-dbdb7facfc6bda43",
     "locked": false,
     "schema_version": 3,
     "solution": true,
     "task": false
    }
   },
   "outputs": [],
   "source": [
    "answer1_2 = [1, 2, 3, 4]  # reorder the values!\n",
    "# your code here\n",
    "raise NotImplementedError"
   ]
  },
  {
   "cell_type": "code",
   "execution_count": null,
   "metadata": {
    "deletable": false,
    "editable": false,
    "nbgrader": {
     "cell_type": "code",
     "checksum": "6c0118aabab9950f286c8091aacf154c",
     "grade": true,
     "grade_id": "cell-8a257d7535ce46fe",
     "locked": true,
     "points": 1,
     "schema_version": 3,
     "solution": false,
     "task": false
    }
   },
   "outputs": [],
   "source": [
    "from hashlib import sha1\n",
    "assert sha1(str(type(\"\".join(map(str, answer1_2)))).encode(\"utf-8\")+b\"c90054188c11293f\").hexdigest() == \"e1bb5c071e8fc2ee7878a568ec102d8674d1d1b6\", \"type of \\\"\\\".join(map(str, answer1_2)) is not str. \\\"\\\".join(map(str, answer1_2)) should be an str\"\n",
    "assert sha1(str(len(\"\".join(map(str, answer1_2)))).encode(\"utf-8\")+b\"c90054188c11293f\").hexdigest() == \"882a96be0c8f0051ba23c8be73b63f17dcc1cdc9\", \"length of \\\"\\\".join(map(str, answer1_2)) is not correct\"\n",
    "assert sha1(str(\"\".join(map(str, answer1_2)).lower()).encode(\"utf-8\")+b\"c90054188c11293f\").hexdigest() == \"813444c98fc003381f7e04433266b0728b076bc2\", \"value of \\\"\\\".join(map(str, answer1_2)) is not correct\"\n",
    "assert sha1(str(\"\".join(map(str, answer1_2))).encode(\"utf-8\")+b\"c90054188c11293f\").hexdigest() == \"813444c98fc003381f7e04433266b0728b076bc2\", \"correct string value of \\\"\\\".join(map(str, answer1_2)) but incorrect case of letters\"\n",
    "\n",
    "print('Success!')"
   ]
  },
  {
   "cell_type": "markdown",
   "metadata": {
    "deletable": false,
    "editable": false,
    "nbgrader": {
     "cell_type": "markdown",
     "checksum": "83650d768909b0827002ccde84fb13c7",
     "grade": false,
     "grade_id": "cell-a612ade2b8ba83fc",
     "locked": true,
     "schema_version": 3,
     "solution": false,
     "task": false
    }
   },
   "source": [
    "**Question 1.3** Multiple choice\n",
    "<br> {points: 1}\n",
    "\n",
    "From the list below, choose the correct description of a bootstrap distribution for a point estimate:\n",
    "\n",
    "A. a list of point estimates calculated from many samples drawn with replacement from the population\n",
    "\n",
    "B. a list of point estimates calculated from many samples drawn without replacement from the population\n",
    "\n",
    "C. a list of point estimates calculated from bootstrap samples drawn with replacement from a single sample (that was drawn from the population)\n",
    "\n",
    "D. a list of point estimates calculated from bootstrap samples drawn without replacement from a single sample (that was drawn from the population)\n",
    "\n",
    "*Assign your answer to an object called `answer1_3`. Your answer should be an uppercase letter and is surrounded by quotes. (e.g. `\"F\"`)*"
   ]
  },
  {
   "cell_type": "code",
   "execution_count": null,
   "metadata": {
    "deletable": false,
    "nbgrader": {
     "cell_type": "code",
     "checksum": "2b5e205723a8c4fce7632c22a3fd7766",
     "grade": false,
     "grade_id": "cell-fe8959defed4a439",
     "locked": false,
     "schema_version": 3,
     "solution": true,
     "task": false
    }
   },
   "outputs": [],
   "source": [
    "# your code here\n",
    "raise NotImplementedError"
   ]
  },
  {
   "cell_type": "code",
   "execution_count": null,
   "metadata": {
    "deletable": false,
    "editable": false,
    "nbgrader": {
     "cell_type": "code",
     "checksum": "8be310fdb94ebb7fbc2d058e2c0f0079",
     "grade": true,
     "grade_id": "cell-59dbb6a427a133c5",
     "locked": true,
     "points": 1,
     "schema_version": 3,
     "solution": false,
     "task": false
    }
   },
   "outputs": [],
   "source": [
    "from hashlib import sha1\n",
    "assert sha1(str(type(answer1_3)).encode(\"utf-8\")+b\"2d7b5284427dcb32\").hexdigest() == \"12e543895b61e6ed3e25f5550fc60fdfc8457486\", \"type of answer1_3 is not str. answer1_3 should be an str\"\n",
    "assert sha1(str(len(answer1_3)).encode(\"utf-8\")+b\"2d7b5284427dcb32\").hexdigest() == \"e342b7dcc2815316590501b234acea536ff2a9d3\", \"length of answer1_3 is not correct\"\n",
    "assert sha1(str(answer1_3.lower()).encode(\"utf-8\")+b\"2d7b5284427dcb32\").hexdigest() == \"50132999762bf2ab11b42b60eea691de3f458113\", \"value of answer1_3 is not correct\"\n",
    "assert sha1(str(answer1_3).encode(\"utf-8\")+b\"2d7b5284427dcb32\").hexdigest() == \"10e35d4a1c4b9c5336134c7925589e4e4cbcedf0\", \"correct string value of answer1_3 but incorrect case of letters\"\n",
    "\n",
    "print('Success!')"
   ]
  },
  {
   "cell_type": "markdown",
   "metadata": {
    "deletable": false,
    "editable": false,
    "nbgrader": {
     "cell_type": "markdown",
     "checksum": "027e1dbd9f5d9eae8827885d72bfcecb",
     "grade": false,
     "grade_id": "cell-1df2a1ba39ccc80d",
     "locked": true,
     "schema_version": 3,
     "solution": false,
     "task": false
    }
   },
   "source": [
    "**Question 1.4** Multiple choice\n",
    "<br> {points: 1}\n",
    "\n",
    "From the list below, choose the correct explanation of why, when performing estimation, we want to report a plausible **range** for the true population quantity we are trying to estimate along with the point estimate:\n",
    "\n",
    "A. The point estimate is our best guess at the true population quantity we are trying to estimate\n",
    "\n",
    "B. The point estimate will often not be the exact value of the true population quantity we are trying to estimate\n",
    "\n",
    "C. The value of a point estimate from one sample might very well be different than the value of a point estimate from another sample.\n",
    "\n",
    "D. B & C\n",
    "\n",
    "F. A & C\n",
    "\n",
    "E. None of the above\n",
    "\n",
    "*Assign your answer to an object called `answer1_4`. Your answer should be an uppercase letter and is surrounded by quotes (e.g. `\"F\"`).*"
   ]
  },
  {
   "cell_type": "code",
   "execution_count": null,
   "metadata": {
    "deletable": false,
    "nbgrader": {
     "cell_type": "code",
     "checksum": "2637a738c7a900e4e9c741a57d77c698",
     "grade": false,
     "grade_id": "cell-fd7e89338bbb71ca",
     "locked": false,
     "schema_version": 3,
     "solution": true,
     "task": false
    }
   },
   "outputs": [],
   "source": [
    "# your code here\n",
    "raise NotImplementedError"
   ]
  },
  {
   "cell_type": "code",
   "execution_count": null,
   "metadata": {
    "deletable": false,
    "editable": false,
    "nbgrader": {
     "cell_type": "code",
     "checksum": "aa85956d467545b0e295982dc33ce306",
     "grade": true,
     "grade_id": "cell-9448b3731eccbe8c",
     "locked": true,
     "points": 1,
     "schema_version": 3,
     "solution": false,
     "task": false
    }
   },
   "outputs": [],
   "source": [
    "from hashlib import sha1\n",
    "assert sha1(str(type(answer1_4)).encode(\"utf-8\")+b\"f726159d6f88bac1\").hexdigest() == \"122ec4d1677d9cf30c567476b1cb2e740dec2add\", \"type of answer1_4 is not str. answer1_4 should be an str\"\n",
    "assert sha1(str(len(answer1_4)).encode(\"utf-8\")+b\"f726159d6f88bac1\").hexdigest() == \"ff7bc79bd7114f6146f7f22da8244da210d6ec4e\", \"length of answer1_4 is not correct\"\n",
    "assert sha1(str(answer1_4.lower()).encode(\"utf-8\")+b\"f726159d6f88bac1\").hexdigest() == \"15222f2f7f75b1a4e14a5a568b1fe7938b61b974\", \"value of answer1_4 is not correct\"\n",
    "assert sha1(str(answer1_4).encode(\"utf-8\")+b\"f726159d6f88bac1\").hexdigest() == \"2e2567b1683b402ee7d728d1c4dc3d8450123967\", \"correct string value of answer1_4 but incorrect case of letters\"\n",
    "\n",
    "print('Success!')"
   ]
  },
  {
   "cell_type": "markdown",
   "metadata": {
    "deletable": false,
    "editable": false,
    "nbgrader": {
     "cell_type": "markdown",
     "checksum": "0a40a5c35842025d17e27bb17bb691e8",
     "grade": false,
     "grade_id": "cell-76363f7f1f56807e",
     "locked": true,
     "schema_version": 3,
     "solution": false,
     "task": false
    }
   },
   "source": [
    "###  Continuing with our virtual population of Canadian seniors from last worksheet\n",
    "\n",
    "Here we re-create the virtual population (ages of all Canadian seniors) we used in the last worksheet. It was bounded by realistic values ($\\geq$ 65 and $\\leq$ 118):"
   ]
  },
  {
   "cell_type": "code",
   "execution_count": null,
   "metadata": {
    "deletable": false,
    "editable": false,
    "nbgrader": {
     "cell_type": "code",
     "checksum": "be29c9e37a8fd4060ff21b414be3e106",
     "grade": false,
     "grade_id": "cell-522aafd1e9430ef3",
     "locked": true,
     "schema_version": 3,
     "solution": false,
     "task": false
    }
   },
   "outputs": [],
   "source": [
    "# Run this cell to simulate a large finite population\n",
    "# Don't change the seed!\n",
    "np.random.seed(4321)\n",
    "\n",
    "can_seniors = pd.DataFrame({\n",
    "    'age': np.random.exponential(1 / 0.1, 2000000) ** 2 + 65,\n",
    "}).query(\n",
    "    \"65 <= age <= 118\"\n",
    ")\n",
    "can_seniors"
   ]
  },
  {
   "cell_type": "markdown",
   "metadata": {
    "deletable": false,
    "editable": false,
    "nbgrader": {
     "cell_type": "markdown",
     "checksum": "5561245d433c1e817a99ae2a8ba5d19c",
     "grade": false,
     "grade_id": "cell-557951d5cb618c2c",
     "locked": true,
     "schema_version": 3,
     "solution": false,
     "task": false
    }
   },
   "source": [
    "Let's remind ourselves of what this population looks like:"
   ]
  },
  {
   "cell_type": "code",
   "execution_count": null,
   "metadata": {
    "deletable": false,
    "editable": false,
    "nbgrader": {
     "cell_type": "code",
     "checksum": "ba419372cc1f1da4c4107ab41ed8772d",
     "grade": false,
     "grade_id": "cell-ac4865a9c4709bbb",
     "locked": true,
     "schema_version": 3,
     "solution": false,
     "task": false
    }
   },
   "outputs": [],
   "source": [
    "# Run this cell\n",
    "pop_dist = alt.Chart(can_seniors, title='Population distribution').mark_bar().encode(\n",
    "    x=alt.X(\"age\")\n",
    "        .title(\"Age (years)\")\n",
    "        .bin(maxbins=30),\n",
    "    y=\"count()\"\n",
    ")\n",
    "pop_dist"
   ]
  },
  {
   "cell_type": "markdown",
   "metadata": {
    "deletable": false,
    "editable": false,
    "nbgrader": {
     "cell_type": "markdown",
     "checksum": "80ca92fd78203ba5c6755adb306bb512",
     "grade": false,
     "grade_id": "cell-f2e798c845edc3ee",
     "locked": true,
     "schema_version": 3,
     "solution": false,
     "task": false
    }
   },
   "source": [
    "### Estimate the mean age of Canadian Seniors\n",
    "\n",
    "Let's say we are interested in estimating the mean age of Canadian Seniors. Given that we have the population (we created it) we could just calculate the mean age from this population data. However in real life, we usually only have one small-ish sample from the population. Also, from our experimentation with sampling distributions, we know that different random samples will give us different point estimates. We also know from these experiments that the point estimates from different random samples will mostly be close to the true population quanitity we are trying to estimate, and how close depends on the sample size.\n",
    "\n",
    "What about in real life though, when we only have one sample? Can we say how close? Or at least give some plausible range of where we would expect the population quanitity we are trying to estimate to fall? Yes! We can do this using a method called bootstrapping! Let's explore how to create a bootstrap distribution from a single sample using Python and then we will discuss how the bootstrap distribution relates to the sampling distribution, and what it can tell us about the true population quantity we are trying to estimate."
   ]
  },
  {
   "cell_type": "markdown",
   "metadata": {
    "deletable": false,
    "editable": false,
    "nbgrader": {
     "cell_type": "markdown",
     "checksum": "5c79b5dab23b2d6c7cf9cf3d3f3ab343",
     "grade": false,
     "grade_id": "cell-9282c2797da1931b",
     "locked": true,
     "schema_version": 3,
     "solution": false,
     "task": false
    }
   },
   "source": [
    "Let's draw a single sample of size 40 from the population and visualize it:"
   ]
  },
  {
   "cell_type": "code",
   "execution_count": null,
   "metadata": {
    "deletable": false,
    "editable": false,
    "nbgrader": {
     "cell_type": "code",
     "checksum": "cd14628713ad4442b4df17a7b5050b85",
     "grade": false,
     "grade_id": "cell-01de9069dec4f4e5",
     "locked": true,
     "schema_version": 3,
     "solution": false,
     "task": false
    }
   },
   "outputs": [],
   "source": [
    "# Run this cell\n",
    "one_sample = can_seniors.sample(40, random_state=12345)\n",
    "one_sample"
   ]
  },
  {
   "cell_type": "code",
   "execution_count": null,
   "metadata": {
    "deletable": false,
    "editable": false,
    "nbgrader": {
     "cell_type": "code",
     "checksum": "bb65312fd841597bc6cf7c912c0c436a",
     "grade": false,
     "grade_id": "cell-1468c684182d5b3b",
     "locked": true,
     "schema_version": 3,
     "solution": false,
     "task": false
    }
   },
   "outputs": [],
   "source": [
    "# Run this cell\n",
    "one_sample_dist = alt.Chart(one_sample, title=\"Distribution of one sample\").mark_bar().encode(\n",
    "    x=alt.X(\"age\")\n",
    "        .title(\"Age (years)\")\n",
    "        .bin(maxbins=30),\n",
    "    y=\"count()\"\n",
    ")\n",
    "one_sample_dist"
   ]
  },
  {
   "cell_type": "markdown",
   "metadata": {
    "deletable": false,
    "editable": false,
    "nbgrader": {
     "cell_type": "markdown",
     "checksum": "d2b8dbe1add87bc2a28074fb65ec08e0",
     "grade": false,
     "grade_id": "cell-aaf103d19b9fba0d",
     "locked": true,
     "schema_version": 3,
     "solution": false,
     "task": false
    }
   },
   "source": [
    "**Question 1.5** \n",
    "<br> {points: 1}\n",
    "\n",
    "Calculate the mean age (our point estimate of interest) from the random sample you just took (`one_sample`). Assign the result to a variable called `one_sample_estimates`."
   ]
  },
  {
   "cell_type": "code",
   "execution_count": null,
   "metadata": {
    "deletable": false,
    "nbgrader": {
     "cell_type": "code",
     "checksum": "f28104353e674cf54cd5099322303646",
     "grade": false,
     "grade_id": "cell-443a7d1dcaf35e9a",
     "locked": false,
     "schema_version": 3,
     "solution": true,
     "task": false
    }
   },
   "outputs": [],
   "source": [
    "# your code here\n",
    "raise NotImplementedError\n",
    "one_sample_estimates"
   ]
  },
  {
   "cell_type": "code",
   "execution_count": null,
   "metadata": {
    "deletable": false,
    "editable": false,
    "nbgrader": {
     "cell_type": "code",
     "checksum": "d417c07a73c668c28dd9a11dd931d908",
     "grade": true,
     "grade_id": "cell-8e9e83895e2967dd",
     "locked": true,
     "points": 1,
     "schema_version": 3,
     "solution": false,
     "task": false
    }
   },
   "outputs": [],
   "source": [
    "from hashlib import sha1\n",
    "assert sha1(str(type(one_sample_estimates.shape[0])).encode(\"utf-8\")+b\"341ecb74ba65f45e\").hexdigest() == \"51c7869b0389c5b0b4c28cf591d2f61e20e6e313\", \"type of one_sample_estimates.shape[0] is not int. Please make sure it is int and not np.int64, etc. You can cast your value into an int using int()\"\n",
    "assert sha1(str(one_sample_estimates.shape[0]).encode(\"utf-8\")+b\"341ecb74ba65f45e\").hexdigest() == \"cbf0f0e4fea314f2f90a8038d46ee92a28ad6053\", \"value of one_sample_estimates.shape[0] is not correct\"\n",
    "\n",
    "assert sha1(str(type(round(one_sample_estimates, 2))).encode(\"utf-8\")+b\"8e6640caa7b42693\").hexdigest() == \"bb4dba71f5d06315cd5cfe313fccb202b57588d1\", \"type of round(one_sample_estimates, 2) is not correct\"\n",
    "assert sha1(str(round(one_sample_estimates, 2)).encode(\"utf-8\")+b\"8e6640caa7b42693\").hexdigest() == \"f1c1edbe689ac0a82f3cd47a90fdbf0b6e9c6930\", \"value of round(one_sample_estimates, 2) is not correct\"\n",
    "\n",
    "print('Success!')"
   ]
  },
  {
   "cell_type": "markdown",
   "metadata": {
    "deletable": false,
    "editable": false,
    "nbgrader": {
     "cell_type": "markdown",
     "checksum": "61586671f8e28198caa1f4ebf885cc74",
     "grade": false,
     "grade_id": "cell-5575d82939196fc9",
     "locked": true,
     "schema_version": 3,
     "solution": false,
     "task": false
    }
   },
   "source": [
    "**Question 1.6** \n",
    "<br> {points: 1}\n",
    "\n",
    "To generate a single bootstrap sample in Python, we can use the `sample` method with `frac=1` to indicate that the bootstrap sample size is the same as the original sample. In contrast to when we created a sampling distribution from a population, we will set `replace=True` to ensure we don't end up with the exact same sample each time when perfroming the bootstrap.\n",
    "\n",
    "Use `sample` to take a single bootstrap sample from the sample you drew from the population. Use 4321 as the `random_state` and name this bootstrap sample `boot1`."
   ]
  },
  {
   "cell_type": "code",
   "execution_count": null,
   "metadata": {
    "deletable": false,
    "nbgrader": {
     "cell_type": "code",
     "checksum": "8b7b9cbb599a436317f9e8d58395cf41",
     "grade": false,
     "grade_id": "cell-239c20c4566f1f3c",
     "locked": false,
     "schema_version": 3,
     "solution": true,
     "task": false
    }
   },
   "outputs": [],
   "source": [
    "# ___ = one_sample.___(frac=___, replace=___, random_state=4321)\n",
    "\n",
    "# your code here\n",
    "raise NotImplementedError\n",
    "boot1"
   ]
  },
  {
   "cell_type": "code",
   "execution_count": null,
   "metadata": {
    "deletable": false,
    "editable": false,
    "nbgrader": {
     "cell_type": "code",
     "checksum": "2ba5efa83f8f8610971cb2e353ac126d",
     "grade": true,
     "grade_id": "cell-af716b8959aee1ac",
     "locked": true,
     "points": 1,
     "schema_version": 3,
     "solution": false,
     "task": false
    }
   },
   "outputs": [],
   "source": [
    "from hashlib import sha1\n",
    "assert sha1(str(type(\"\".join(boot1.columns))).encode(\"utf-8\")+b\"321935f434040271\").hexdigest() == \"9c9ac8dd2d9c61c1ccaef0a6dfa36cb0eb8c67e6\", \"type of \\\"\\\".join(boot1.columns) is not str. \\\"\\\".join(boot1.columns) should be an str\"\n",
    "assert sha1(str(len(\"\".join(boot1.columns))).encode(\"utf-8\")+b\"321935f434040271\").hexdigest() == \"c12683f301de2ee424006988b9f0fa0d26dcae8c\", \"length of \\\"\\\".join(boot1.columns) is not correct\"\n",
    "assert sha1(str(\"\".join(boot1.columns).lower()).encode(\"utf-8\")+b\"321935f434040271\").hexdigest() == \"20287640881934c6e88a079bed3aebe8a660b571\", \"value of \\\"\\\".join(boot1.columns) is not correct\"\n",
    "assert sha1(str(\"\".join(boot1.columns)).encode(\"utf-8\")+b\"321935f434040271\").hexdigest() == \"20287640881934c6e88a079bed3aebe8a660b571\", \"correct string value of \\\"\\\".join(boot1.columns) but incorrect case of letters\"\n",
    "\n",
    "assert sha1(str(type(boot1.shape[0])).encode(\"utf-8\")+b\"8ac01486cfc16b9e\").hexdigest() == \"5fa13c5bfd0a2e6325ed8f5aa21376b9b664990d\", \"type of boot1.shape[0] is not int. Please make sure it is int and not np.int64, etc. You can cast your value into an int using int()\"\n",
    "assert sha1(str(boot1.shape[0]).encode(\"utf-8\")+b\"8ac01486cfc16b9e\").hexdigest() == \"dfb97046a4af270df4a7102953513952e7205461\", \"value of boot1.shape[0] is not correct\"\n",
    "\n",
    "assert sha1(str(type(round(sum(boot1.age), 2))).encode(\"utf-8\")+b\"786c70ba460b4f23\").hexdigest() == \"49ef776c4288203a37f1ba0c34fb8588ae6d558b\", \"type of round(sum(boot1.age), 2) is not float. Please make sure it is float and not np.float64, etc. You can cast your value into a float using float()\"\n",
    "assert sha1(str(round(round(sum(boot1.age), 2), 2)).encode(\"utf-8\")+b\"786c70ba460b4f23\").hexdigest() == \"4f8e58d027907ba242ef4818e4db03076fbc8dcb\", \"value of round(sum(boot1.age), 2) is not correct (rounded to 2 decimal places)\"\n",
    "\n",
    "assert sha1(str(type(sum(range(boot1.shape[0])))).encode(\"utf-8\")+b\"bff42704aedf8c3a\").hexdigest() == \"087d188ae0d4065b075f4cc99edaed74bf0ed89c\", \"type of sum(range(boot1.shape[0])) is not int. Please make sure it is int and not np.int64, etc. You can cast your value into an int using int()\"\n",
    "assert sha1(str(sum(range(boot1.shape[0]))).encode(\"utf-8\")+b\"bff42704aedf8c3a\").hexdigest() == \"2b6deb77b590d7db89027d326ee6dfe074e8f7d0\", \"value of sum(range(boot1.shape[0])) is not correct\"\n",
    "\n",
    "print('Success!')"
   ]
  },
  {
   "cell_type": "markdown",
   "metadata": {
    "deletable": false,
    "editable": false,
    "nbgrader": {
     "cell_type": "markdown",
     "checksum": "6b31a0ff4438ccff63a746d6d0600cb2",
     "grade": false,
     "grade_id": "cell-7760b102574e0887",
     "locked": true,
     "schema_version": 3,
     "solution": false,
     "task": false
    }
   },
   "source": [
    "**Question 1.7** Multiple choice\n",
    "<br> {points: 1}\n",
    "\n",
    "Why do we change `replace` to `TRUE`?\n",
    "\n",
    "A. Taking a bootstrap sample involves drawing observations from the original population without replacement\n",
    "\n",
    "B. Taking a bootstrap sample involves drawing observations from the original population with replacement\n",
    "\n",
    "C. Taking a bootstrap sample involves drawing observations from the original sample without replacement\n",
    "\n",
    "D. Taking a bootstrap sample involves drawing observations from the original sample with replacement\n",
    "\n",
    "*Assign your answer to an object called `answer1_7`. Your answer should be an uppercase letter and is surrounded by quotes (e.g. `\"F\"`).*"
   ]
  },
  {
   "cell_type": "code",
   "execution_count": null,
   "metadata": {
    "deletable": false,
    "nbgrader": {
     "cell_type": "code",
     "checksum": "c9a0b9c0c32e57ee03fed8db30f605cd",
     "grade": false,
     "grade_id": "cell-ba91c2de68609fe7",
     "locked": false,
     "schema_version": 3,
     "solution": true,
     "task": false
    }
   },
   "outputs": [],
   "source": [
    "# your code here\n",
    "raise NotImplementedError"
   ]
  },
  {
   "cell_type": "code",
   "execution_count": null,
   "metadata": {
    "deletable": false,
    "editable": false,
    "nbgrader": {
     "cell_type": "code",
     "checksum": "36473d8f7cb439d176f1a9c485741d42",
     "grade": true,
     "grade_id": "cell-1b79e9b905b70215",
     "locked": true,
     "points": 1,
     "schema_version": 3,
     "solution": false,
     "task": false
    }
   },
   "outputs": [],
   "source": [
    "from hashlib import sha1\n",
    "assert sha1(str(type(answer1_7)).encode(\"utf-8\")+b\"8ebf4a3003a27da4\").hexdigest() == \"96998d3b118145e0529c2ecb838514af2b016e35\", \"type of answer1_7 is not str. answer1_7 should be an str\"\n",
    "assert sha1(str(len(answer1_7)).encode(\"utf-8\")+b\"8ebf4a3003a27da4\").hexdigest() == \"bd04158dababec1145691b79d20e1a226587bfcc\", \"length of answer1_7 is not correct\"\n",
    "assert sha1(str(answer1_7.lower()).encode(\"utf-8\")+b\"8ebf4a3003a27da4\").hexdigest() == \"d507611a6c3f3c06dff530130450d55e3d3fa672\", \"value of answer1_7 is not correct\"\n",
    "assert sha1(str(answer1_7).encode(\"utf-8\")+b\"8ebf4a3003a27da4\").hexdigest() == \"7528894d1974b1b484dc7d05a135310f4f76994c\", \"correct string value of answer1_7 but incorrect case of letters\"\n",
    "\n",
    "print('Success!')"
   ]
  },
  {
   "cell_type": "markdown",
   "metadata": {
    "deletable": false,
    "editable": false,
    "nbgrader": {
     "cell_type": "markdown",
     "checksum": "fa0e2f824c4681092e7cb0541d7c9650",
     "grade": false,
     "grade_id": "cell-93ea2b7d26e0e137",
     "locked": true,
     "schema_version": 3,
     "solution": false,
     "task": false
    }
   },
   "source": [
    "**Question 1.8** \n",
    "<br> {points: 1}\n",
    "\n",
    "Visualize the distribution of the bootstrap sample you just took (`boot1`). Set `maxbins=30`, name the plot `boot1_dist`, and give the plot and the x-axis a descriptive title."
   ]
  },
  {
   "cell_type": "code",
   "execution_count": null,
   "metadata": {
    "deletable": false,
    "nbgrader": {
     "cell_type": "code",
     "checksum": "84c2d8fb78a780441b5146d6c17ca260",
     "grade": false,
     "grade_id": "cell-389271affd1fc5af",
     "locked": false,
     "schema_version": 3,
     "solution": true,
     "task": false
    }
   },
   "outputs": [],
   "source": [
    "# your code here\n",
    "raise NotImplementedError\n",
    "boot1_dist"
   ]
  },
  {
   "cell_type": "code",
   "execution_count": null,
   "metadata": {
    "deletable": false,
    "editable": false,
    "nbgrader": {
     "cell_type": "code",
     "checksum": "03f2c9a1b1b70e856eb572e200ccc87b",
     "grade": true,
     "grade_id": "cell-3b7b4b4c4cc4971e",
     "locked": true,
     "points": 1,
     "schema_version": 3,
     "solution": false,
     "task": false
    }
   },
   "outputs": [],
   "source": [
    "from hashlib import sha1\n",
    "assert sha1(str(type(boot1_dist.encoding.x['shorthand'])).encode(\"utf-8\")+b\"3ac684da4e1d4fc3\").hexdigest() == \"e396093f358908dda52b7d574e96fae8fed213d7\", \"type of boot1_dist.encoding.x['shorthand'] is not str. boot1_dist.encoding.x['shorthand'] should be an str\"\n",
    "assert sha1(str(len(boot1_dist.encoding.x['shorthand'])).encode(\"utf-8\")+b\"3ac684da4e1d4fc3\").hexdigest() == \"58e86fc43b3cd59dd9f9394af7ed3aabc6f616e5\", \"length of boot1_dist.encoding.x['shorthand'] is not correct\"\n",
    "assert sha1(str(boot1_dist.encoding.x['shorthand'].lower()).encode(\"utf-8\")+b\"3ac684da4e1d4fc3\").hexdigest() == \"b5552ad72d5f5eca39f99b9da16567e0450edec4\", \"value of boot1_dist.encoding.x['shorthand'] is not correct\"\n",
    "assert sha1(str(boot1_dist.encoding.x['shorthand']).encode(\"utf-8\")+b\"3ac684da4e1d4fc3\").hexdigest() == \"b5552ad72d5f5eca39f99b9da16567e0450edec4\", \"correct string value of boot1_dist.encoding.x['shorthand'] but incorrect case of letters\"\n",
    "\n",
    "assert sha1(str(type(boot1_dist.encoding.y['shorthand'])).encode(\"utf-8\")+b\"b7eff062cad2f7ba\").hexdigest() == \"acf5a3f5af3696a7f96e8309379498bb036e14db\", \"type of boot1_dist.encoding.y['shorthand'] is not str. boot1_dist.encoding.y['shorthand'] should be an str\"\n",
    "assert sha1(str(len(boot1_dist.encoding.y['shorthand'])).encode(\"utf-8\")+b\"b7eff062cad2f7ba\").hexdigest() == \"6c9e7c8a4d9e85385eca751c17b04ecb5db75ca6\", \"length of boot1_dist.encoding.y['shorthand'] is not correct\"\n",
    "assert sha1(str(boot1_dist.encoding.y['shorthand'].lower()).encode(\"utf-8\")+b\"b7eff062cad2f7ba\").hexdigest() == \"98886ea005fc3d9ccaa31eedbc543af8f5f12a79\", \"value of boot1_dist.encoding.y['shorthand'] is not correct\"\n",
    "assert sha1(str(boot1_dist.encoding.y['shorthand']).encode(\"utf-8\")+b\"b7eff062cad2f7ba\").hexdigest() == \"98886ea005fc3d9ccaa31eedbc543af8f5f12a79\", \"correct string value of boot1_dist.encoding.y['shorthand'] but incorrect case of letters\"\n",
    "\n",
    "assert sha1(str(type(boot1_dist.mark)).encode(\"utf-8\")+b\"6b3889cefc5ca388\").hexdigest() == \"1d39d87d214372e01a2802d8fe68d0b65b03c838\", \"type of boot1_dist.mark is not str. boot1_dist.mark should be an str\"\n",
    "assert sha1(str(len(boot1_dist.mark)).encode(\"utf-8\")+b\"6b3889cefc5ca388\").hexdigest() == \"73c213cf92131eca98bb10a595d463f6683d4d57\", \"length of boot1_dist.mark is not correct\"\n",
    "assert sha1(str(boot1_dist.mark.lower()).encode(\"utf-8\")+b\"6b3889cefc5ca388\").hexdigest() == \"c99cf40ffa7554884430d6cfe7c8aca8dc339c09\", \"value of boot1_dist.mark is not correct\"\n",
    "assert sha1(str(boot1_dist.mark).encode(\"utf-8\")+b\"6b3889cefc5ca388\").hexdigest() == \"c99cf40ffa7554884430d6cfe7c8aca8dc339c09\", \"correct string value of boot1_dist.mark but incorrect case of letters\"\n",
    "\n",
    "assert sha1(str(type(boot1_dist.data.shape[0])).encode(\"utf-8\")+b\"8ac7e92a598a6afc\").hexdigest() == \"f000a79dd9ac9ca76171d5959114ce1824a0f84e\", \"type of boot1_dist.data.shape[0] is not int. Please make sure it is int and not np.int64, etc. You can cast your value into an int using int()\"\n",
    "assert sha1(str(boot1_dist.data.shape[0]).encode(\"utf-8\")+b\"8ac7e92a598a6afc\").hexdigest() == \"73d0bf620389158c87b679884dae64af809fde31\", \"value of boot1_dist.data.shape[0] is not correct\"\n",
    "\n",
    "assert sha1(str(type(round(boot1_dist.data.sum(), 2))).encode(\"utf-8\")+b\"9cc0db4e6fd95c04\").hexdigest() == \"9aaf518f46f6c2fc9336c747df2aacc059b7493d\", \"type of round(boot1_dist.data.sum(), 2) is not correct\"\n",
    "assert sha1(str(round(boot1_dist.data.sum(), 2)).encode(\"utf-8\")+b\"9cc0db4e6fd95c04\").hexdigest() == \"a827ef9db4f689c798f8d7597a9e6251b2c792ad\", \"value of round(boot1_dist.data.sum(), 2) is not correct\"\n",
    "\n",
    "assert sha1(str(type(isinstance(boot1_dist.encoding.x['title'], str))).encode(\"utf-8\")+b\"1d7fdfe16143b359\").hexdigest() == \"b374841ee49b437fb51601103fe75372b2985a6b\", \"type of isinstance(boot1_dist.encoding.x['title'], str) is not bool. isinstance(boot1_dist.encoding.x['title'], str) should be a bool\"\n",
    "assert sha1(str(isinstance(boot1_dist.encoding.x['title'], str)).encode(\"utf-8\")+b\"1d7fdfe16143b359\").hexdigest() == \"263ac86a15c444480a3e18e14c6891c822bee421\", \"boolean value of isinstance(boot1_dist.encoding.x['title'], str) is not correct\"\n",
    "\n",
    "assert sha1(str(type(isinstance(boot1_dist.encoding.y['title'], str))).encode(\"utf-8\")+b\"81a4c9c74732fb0e\").hexdigest() == \"0881a1f2bcdbaa6fc3ae9a88aaa0087fe44468d1\", \"type of isinstance(boot1_dist.encoding.y['title'], str) is not bool. isinstance(boot1_dist.encoding.y['title'], str) should be a bool\"\n",
    "assert sha1(str(isinstance(boot1_dist.encoding.y['title'], str)).encode(\"utf-8\")+b\"81a4c9c74732fb0e\").hexdigest() == \"8d81581fd4166ce38695d5808d5314b2132dcd8d\", \"boolean value of isinstance(boot1_dist.encoding.y['title'], str) is not correct\"\n",
    "\n",
    "assert sha1(str(type(boot1_dist.title is not None)).encode(\"utf-8\")+b\"44b674a031a81ff7\").hexdigest() == \"8634298eb4ca23cd83cc0074f1c4a85e5d15776d\", \"type of boot1_dist.title is not None is not bool. boot1_dist.title is not None should be a bool\"\n",
    "assert sha1(str(boot1_dist.title is not None).encode(\"utf-8\")+b\"44b674a031a81ff7\").hexdigest() == \"a6e78d3a02df5ecbabffa08450d67f3528d57f0b\", \"boolean value of boot1_dist.title is not None is not correct\"\n",
    "\n",
    "print('Success!')"
   ]
  },
  {
   "cell_type": "markdown",
   "metadata": {
    "deletable": false,
    "editable": false,
    "nbgrader": {
     "cell_type": "markdown",
     "checksum": "c691f81e9028349e41fe15d875710e53",
     "grade": false,
     "grade_id": "cell-84ed6755705e4eee",
     "locked": true,
     "schema_version": 3,
     "solution": false,
     "task": false
    }
   },
   "source": [
    "Let's now compare our bootstrap sample to the original random sample that we drew from the population:"
   ]
  },
  {
   "cell_type": "code",
   "execution_count": null,
   "metadata": {
    "deletable": false,
    "editable": false,
    "nbgrader": {
     "cell_type": "code",
     "checksum": "b01b59bf18198c2762c01fd12f2171fe",
     "grade": false,
     "grade_id": "cell-afd154dc6f0c3e39",
     "locked": true,
     "schema_version": 3,
     "solution": false,
     "task": false
    }
   },
   "outputs": [],
   "source": [
    "# Run this code cell\n",
    "one_sample_dist & boot1_dist"
   ]
  },
  {
   "cell_type": "markdown",
   "metadata": {
    "deletable": false,
    "editable": false,
    "nbgrader": {
     "cell_type": "markdown",
     "checksum": "47f3c85bb420a44735999d664286e765",
     "grade": false,
     "grade_id": "cell-fa64eb1f98987c99",
     "locked": true,
     "schema_version": 3,
     "solution": false,
     "task": false
    }
   },
   "source": [
    "Earlier we calculate the mean of our original sample to be about 79.6 years. What is the mean of our bootstrap sample?"
   ]
  },
  {
   "cell_type": "code",
   "execution_count": null,
   "metadata": {
    "deletable": false,
    "editable": false,
    "nbgrader": {
     "cell_type": "code",
     "checksum": "d1a518041a9676d4efadd284fb7ae750",
     "grade": false,
     "grade_id": "cell-77b326e307cf1cf6",
     "locked": true,
     "schema_version": 3,
     "solution": false,
     "task": false
    }
   },
   "outputs": [],
   "source": [
    "# Run this cell\n",
    "boot1.mean()"
   ]
  },
  {
   "cell_type": "markdown",
   "metadata": {
    "deletable": false,
    "editable": false,
    "nbgrader": {
     "cell_type": "markdown",
     "checksum": "a6a6f6afe4ff8ff4ffe61ab9de6af88b",
     "grade": false,
     "grade_id": "cell-c33dd58cb3c572af",
     "locked": true,
     "schema_version": 3,
     "solution": false,
     "task": false
    }
   },
   "source": [
    "We see that original sample distrbution and the bootstrap sample distribution are of similar shape, but not identical. They also have different means. The difference of the frequency of the values in the bootstrap sample (and the difference of the value of the mean) comes from sampling from the original sample with replacement. Why sample with replacement? If we didn't we would end up with the original sample again. What we are trying to do with bootstrapping is to mimic drawing another sample from the population, without actually doing that. \n",
    "\n",
    "Why are we doing this? As mentioned earlier, in real life we typically only have one sample and thus we cannot create a sampling distribution that we can use to tell us about how we might expect our point estimate to behave if we took another sample. What we can do instead, is to use our sample as an estimate of our population, and sample from that with replacement (i.e., bootstrapping) many times to create many bootstrap samples. We can then calculate point estimates for each bootstrap sample and create a bootstrap distribution of our point estimates and use this as a proxy for a sampling distribution. We can finally use this bootstrap distribution of our point estimates to suggest how we might expected our point estimate to behave if we took another sample."
   ]
  },
  {
   "cell_type": "markdown",
   "metadata": {
    "deletable": false,
    "editable": false,
    "nbgrader": {
     "cell_type": "markdown",
     "checksum": "b8d7a4a6b1c82473537c091b8fedb5dc",
     "grade": false,
     "grade_id": "cell-f5b5d685693ffe7f",
     "locked": true,
     "schema_version": 3,
     "solution": false,
     "task": false
    }
   },
   "source": [
    "**Question 1.9** \n",
    "<br> {points: 1}\n",
    "\n",
    "What do 6 different bootstrap samples look like? Use the `sample` method to create a single data frame with 6 bootstrap samples drawn from the original sample we drew from the population, `one_sample`. Assign a new column called `replicate` to mark the sample number `(from 0 to 5)`. Name the data frame `boot6`.\n",
    "\n",
    "Set the seed as `1234`."
   ]
  },
  {
   "cell_type": "code",
   "execution_count": null,
   "metadata": {
    "deletable": false,
    "nbgrader": {
     "cell_type": "code",
     "checksum": "cb7b5423e04df399831cce7bc0ce223d",
     "grade": false,
     "grade_id": "cell-6607b2dec92a2913",
     "locked": false,
     "schema_version": 3,
     "solution": true,
     "task": false
    }
   },
   "outputs": [],
   "source": [
    "np.random.seed(1234)  # DO NOT CHANGE!\n",
    "# your code here\n",
    "raise NotImplementedError\n",
    "boot6"
   ]
  },
  {
   "cell_type": "code",
   "execution_count": null,
   "metadata": {
    "deletable": false,
    "editable": false,
    "nbgrader": {
     "cell_type": "code",
     "checksum": "3a29d703fd634b37b4a33e980789a4e1",
     "grade": true,
     "grade_id": "cell-e57717e45df34f9a",
     "locked": true,
     "points": 1,
     "schema_version": 3,
     "solution": false,
     "task": false
    }
   },
   "outputs": [],
   "source": [
    "from hashlib import sha1\n",
    "assert sha1(str(type(\"\".join(boot6.columns))).encode(\"utf-8\")+b\"4a424a930e1771ce\").hexdigest() == \"a3a139f0c5ba297fa0c1f2ddefbb9e5eff55f669\", \"type of \\\"\\\".join(boot6.columns) is not str. \\\"\\\".join(boot6.columns) should be an str\"\n",
    "assert sha1(str(len(\"\".join(boot6.columns))).encode(\"utf-8\")+b\"4a424a930e1771ce\").hexdigest() == \"b90575ccb36feda7b2ba25dd8785a2ec702d19e2\", \"length of \\\"\\\".join(boot6.columns) is not correct\"\n",
    "assert sha1(str(\"\".join(boot6.columns).lower()).encode(\"utf-8\")+b\"4a424a930e1771ce\").hexdigest() == \"1496bfda1768eaddfa40d8a29e71a107a2ccaa25\", \"value of \\\"\\\".join(boot6.columns) is not correct\"\n",
    "assert sha1(str(\"\".join(boot6.columns)).encode(\"utf-8\")+b\"4a424a930e1771ce\").hexdigest() == \"1496bfda1768eaddfa40d8a29e71a107a2ccaa25\", \"correct string value of \\\"\\\".join(boot6.columns) but incorrect case of letters\"\n",
    "\n",
    "assert sha1(str(type(boot6.shape[0])).encode(\"utf-8\")+b\"cd356122549048bc\").hexdigest() == \"b01795ce316857b330edc361dfc497f82d3f9754\", \"type of boot6.shape[0] is not int. Please make sure it is int and not np.int64, etc. You can cast your value into an int using int()\"\n",
    "assert sha1(str(boot6.shape[0]).encode(\"utf-8\")+b\"cd356122549048bc\").hexdigest() == \"c809fd98d7834dfdb069768b5b779d913a1689f8\", \"value of boot6.shape[0] is not correct\"\n",
    "\n",
    "assert sha1(str(type(round(sum(boot6.age), 2))).encode(\"utf-8\")+b\"49be53a805816f5c\").hexdigest() == \"ac237c7a7ca781ec7cd6a83e6e07c7af9a3fd77c\", \"type of round(sum(boot6.age), 2) is not float. Please make sure it is float and not np.float64, etc. You can cast your value into a float using float()\"\n",
    "assert sha1(str(round(round(sum(boot6.age), 2), 2)).encode(\"utf-8\")+b\"49be53a805816f5c\").hexdigest() == \"4398de4f5ff652c7f32cb39b7ba4c864a9fab287\", \"value of round(sum(boot6.age), 2) is not correct (rounded to 2 decimal places)\"\n",
    "\n",
    "assert sha1(str(type(sum(boot6.replicate.unique()))).encode(\"utf-8\")+b\"266c20581e7e569a\").hexdigest() == \"59ee68edde2f3ea4530c7bfa23d6f27f439e98f4\", \"type of sum(boot6.replicate.unique()) is not correct\"\n",
    "assert sha1(str(sum(boot6.replicate.unique())).encode(\"utf-8\")+b\"266c20581e7e569a\").hexdigest() == \"146342279c410e5b5eda0d3292a1240e2dd8f48c\", \"value of sum(boot6.replicate.unique()) is not correct\"\n",
    "\n",
    "print('Success!')"
   ]
  },
  {
   "cell_type": "markdown",
   "metadata": {
    "deletable": false,
    "editable": false,
    "nbgrader": {
     "cell_type": "markdown",
     "checksum": "b33288b01f7520dc423fb584d6d1e9b3",
     "grade": false,
     "grade_id": "cell-558b102565ddf4ae",
     "locked": true,
     "schema_version": 3,
     "solution": false,
     "task": false
    }
   },
   "source": [
    "**Question 2.0** \n",
    "<br> {points: 1}\n",
    "\n",
    "Now visualize the six bootstrap sample distributions from `boot6` by faceting the `replicate` column. To facilitate comparing the distribution, lay the plots out in a single column and set each plot's height to 100. Name the plot object `boot6_dist` and give the plot and the x-axis a descriptive title."
   ]
  },
  {
   "cell_type": "code",
   "execution_count": null,
   "metadata": {
    "deletable": false,
    "nbgrader": {
     "cell_type": "code",
     "checksum": "ad477d6f7ba270038b1d49988251c079",
     "grade": false,
     "grade_id": "cell-d1d36a4806776c6c",
     "locked": false,
     "schema_version": 3,
     "solution": true,
     "task": false
    }
   },
   "outputs": [],
   "source": [
    "# ___ = alt.Chart(___, title=___).___().___(\n",
    "#     x=alt.X(___)\n",
    "#         .title(___)\n",
    "#         .___(maxbins=30),\n",
    "#     y=___\n",
    "# ).___(\n",
    "#     ___=100\n",
    "# ).facet(\n",
    "#     ___,\n",
    "#     ___=1\n",
    "# )\n",
    "\n",
    "# your code here\n",
    "raise NotImplementedError\n",
    "boot6_dist"
   ]
  },
  {
   "cell_type": "code",
   "execution_count": null,
   "metadata": {
    "deletable": false,
    "editable": false,
    "nbgrader": {
     "cell_type": "code",
     "checksum": "96880b1a32a7e93574ccb1661a090065",
     "grade": true,
     "grade_id": "cell-38e6f9e544c5ce17",
     "locked": true,
     "points": 1,
     "schema_version": 3,
     "solution": false,
     "task": false
    }
   },
   "outputs": [],
   "source": [
    "from hashlib import sha1\n",
    "assert sha1(str(type(boot6_dist.facet['shorthand'])).encode(\"utf-8\")+b\"7840f0a8ba1ca416\").hexdigest() == \"a7467ed4ec0a8d03b177cf7cdb482ec60f5eb2b7\", \"type of boot6_dist.facet['shorthand'] is not str. boot6_dist.facet['shorthand'] should be an str\"\n",
    "assert sha1(str(len(boot6_dist.facet['shorthand'])).encode(\"utf-8\")+b\"7840f0a8ba1ca416\").hexdigest() == \"999a28b56681541c0e6ea2bf004d222a36addeae\", \"length of boot6_dist.facet['shorthand'] is not correct\"\n",
    "assert sha1(str(boot6_dist.facet['shorthand'].lower()).encode(\"utf-8\")+b\"7840f0a8ba1ca416\").hexdigest() == \"b4f362dfd38f21571be1f570c6e0bd1fe4392234\", \"value of boot6_dist.facet['shorthand'] is not correct\"\n",
    "assert sha1(str(boot6_dist.facet['shorthand']).encode(\"utf-8\")+b\"7840f0a8ba1ca416\").hexdigest() == \"b4f362dfd38f21571be1f570c6e0bd1fe4392234\", \"correct string value of boot6_dist.facet['shorthand'] but incorrect case of letters\"\n",
    "\n",
    "assert sha1(str(type(boot6_dist.data.shape[0])).encode(\"utf-8\")+b\"19a48ed66b92868d\").hexdigest() == \"67695ff01378844eb583abb67ae738ace4c6e1d7\", \"type of boot6_dist.data.shape[0] is not int. Please make sure it is int and not np.int64, etc. You can cast your value into an int using int()\"\n",
    "assert sha1(str(boot6_dist.data.shape[0]).encode(\"utf-8\")+b\"19a48ed66b92868d\").hexdigest() == \"a4756fa0cf5fae0cc9d0b0b443e54236bf976076\", \"value of boot6_dist.data.shape[0] is not correct\"\n",
    "\n",
    "assert sha1(str(type(boot6_dist.title is not None)).encode(\"utf-8\")+b\"6278fbadb610e512\").hexdigest() == \"51d04e181dceececeff33087f883df3126713b83\", \"type of boot6_dist.title is not None is not bool. boot6_dist.title is not None should be a bool\"\n",
    "assert sha1(str(boot6_dist.title is not None).encode(\"utf-8\")+b\"6278fbadb610e512\").hexdigest() == \"80e0903cac64b86cc96b0e7c3862d2d70b40420d\", \"boolean value of boot6_dist.title is not None is not correct\"\n",
    "\n",
    "print('Success!')"
   ]
  },
  {
   "cell_type": "markdown",
   "metadata": {
    "deletable": false,
    "editable": false,
    "nbgrader": {
     "cell_type": "markdown",
     "checksum": "f61883754408e8b6af7f9c50916d6f83",
     "grade": false,
     "grade_id": "cell-8c48012a69725219",
     "locked": true,
     "schema_version": 3,
     "solution": false,
     "task": false
    }
   },
   "source": [
    "**Question 2.1** \n",
    "<br> {points: 1}\n",
    "\n",
    "Calculate the mean of these 6 bootstrap samples using `groupby` and `mean` and save result into a column called `mean_age`. Use `reset_index` so that the resulting data frame has two columns: `replicate` and `mean`. Name the data frame `boot6_means`."
   ]
  },
  {
   "cell_type": "code",
   "execution_count": null,
   "metadata": {
    "deletable": false,
    "nbgrader": {
     "cell_type": "code",
     "checksum": "91b998b77bcff788c3cf6af2a828a988",
     "grade": false,
     "grade_id": "cell-b9692d80805c724a",
     "locked": false,
     "schema_version": 3,
     "solution": true,
     "task": false
    }
   },
   "outputs": [],
   "source": [
    "# your code here\n",
    "raise NotImplementedError\n",
    "boot6_means"
   ]
  },
  {
   "cell_type": "code",
   "execution_count": null,
   "metadata": {
    "deletable": false,
    "editable": false,
    "nbgrader": {
     "cell_type": "code",
     "checksum": "532a202f7075563faa1dca8fd41e96cb",
     "grade": true,
     "grade_id": "cell-f2cfe994fece602d",
     "locked": true,
     "points": 1,
     "schema_version": 3,
     "solution": false,
     "task": false
    }
   },
   "outputs": [],
   "source": [
    "from hashlib import sha1\n",
    "assert sha1(str(type(boot6_means.shape[0])).encode(\"utf-8\")+b\"fee6d7e7d3ff3ee8\").hexdigest() == \"0742403d3d325d185a68f2bb32d6ac430e8babe7\", \"type of boot6_means.shape[0] is not int. Please make sure it is int and not np.int64, etc. You can cast your value into an int using int()\"\n",
    "assert sha1(str(boot6_means.shape[0]).encode(\"utf-8\")+b\"fee6d7e7d3ff3ee8\").hexdigest() == \"294750ad25f8b987571a0561bf864683842f2b11\", \"value of boot6_means.shape[0] is not correct\"\n",
    "\n",
    "assert sha1(str(type(boot6_means.shape[1])).encode(\"utf-8\")+b\"d35ad7b2d5859bae\").hexdigest() == \"01479148023e8ae6b5a72618a78e6bec6c4ef555\", \"type of boot6_means.shape[1] is not int. Please make sure it is int and not np.int64, etc. You can cast your value into an int using int()\"\n",
    "assert sha1(str(boot6_means.shape[1]).encode(\"utf-8\")+b\"d35ad7b2d5859bae\").hexdigest() == \"8a0cd598f3578fa7919ff2c1f24959ed7316bb90\", \"value of boot6_means.shape[1] is not correct\"\n",
    "\n",
    "assert sha1(str(type(\"\".join(boot6_means.columns))).encode(\"utf-8\")+b\"d0baf2878f1b2012\").hexdigest() == \"adcfb3c8d8fded2a6682912c0c04f7322c12de1b\", \"type of \\\"\\\".join(boot6_means.columns) is not str. \\\"\\\".join(boot6_means.columns) should be an str\"\n",
    "assert sha1(str(len(\"\".join(boot6_means.columns))).encode(\"utf-8\")+b\"d0baf2878f1b2012\").hexdigest() == \"68b4d11f67c47fd5f814fde6d9a4033bba6413a9\", \"length of \\\"\\\".join(boot6_means.columns) is not correct\"\n",
    "assert sha1(str(\"\".join(boot6_means.columns).lower()).encode(\"utf-8\")+b\"d0baf2878f1b2012\").hexdigest() == \"85b7f063b8f87621fd7f27b8f57e46422ee69e72\", \"value of \\\"\\\".join(boot6_means.columns) is not correct\"\n",
    "assert sha1(str(\"\".join(boot6_means.columns)).encode(\"utf-8\")+b\"d0baf2878f1b2012\").hexdigest() == \"85b7f063b8f87621fd7f27b8f57e46422ee69e72\", \"correct string value of \\\"\\\".join(boot6_means.columns) but incorrect case of letters\"\n",
    "\n",
    "assert sha1(str(type(round(boot6_means[\"mean_age\"][0], 2))).encode(\"utf-8\")+b\"71f17e361909b26c\").hexdigest() == \"48b1eda3b392fa0fe363ab74bc8d1ec230aff4f7\", \"type of round(boot6_means[\\\"mean_age\\\"][0], 2) is not correct\"\n",
    "assert sha1(str(round(boot6_means[\"mean_age\"][0], 2)).encode(\"utf-8\")+b\"71f17e361909b26c\").hexdigest() == \"a43bc830d674f3a38895d65c58bef7ec2244cf87\", \"value of round(boot6_means[\\\"mean_age\\\"][0], 2) is not correct\"\n",
    "\n",
    "print('Success!')"
   ]
  },
  {
   "cell_type": "markdown",
   "metadata": {
    "deletable": false,
    "editable": false,
    "nbgrader": {
     "cell_type": "markdown",
     "checksum": "5671e699c3e31960d4415c123aaf7e31",
     "grade": false,
     "grade_id": "cell-00909da5655c00a5",
     "locked": true,
     "schema_version": 3,
     "solution": false,
     "task": false
    }
   },
   "source": [
    "**Question 2.2** \n",
    "<br> {points: 1}\n",
    "\n",
    "Let's now take 1000 bootstrap samples from the original sample we drew from the population (`one_sample`). As previously, assign a new column called `replicate` to mark the sample number `(from 0 to 999)`. Name the data frame `boot1000`.\n",
    "\n",
    "Set the seed as `1234`."
   ]
  },
  {
   "cell_type": "code",
   "execution_count": null,
   "metadata": {
    "deletable": false,
    "nbgrader": {
     "cell_type": "code",
     "checksum": "9c086d48ca156ab2e246c0d47b45f47c",
     "grade": false,
     "grade_id": "cell-cd89ca0c9e456e1b",
     "locked": false,
     "schema_version": 3,
     "solution": true,
     "task": false
    }
   },
   "outputs": [],
   "source": [
    "np.random.seed(1234)  # DO NOT CHANGE!\n",
    "# your code here\n",
    "raise NotImplementedError\n",
    "boot1000"
   ]
  },
  {
   "cell_type": "code",
   "execution_count": null,
   "metadata": {
    "deletable": false,
    "editable": false,
    "nbgrader": {
     "cell_type": "code",
     "checksum": "82fbd69b703321dd80da55b141a1ac9a",
     "grade": true,
     "grade_id": "cell-343d880b6f801822",
     "locked": true,
     "points": 1,
     "schema_version": 3,
     "solution": false,
     "task": false
    }
   },
   "outputs": [],
   "source": [
    "from hashlib import sha1\n",
    "assert sha1(str(type(\"\".join(boot1000.columns))).encode(\"utf-8\")+b\"63ea4e07561ddf09\").hexdigest() == \"b01ec271521d6df183bfc2a779592eff17481240\", \"type of \\\"\\\".join(boot1000.columns) is not str. \\\"\\\".join(boot1000.columns) should be an str\"\n",
    "assert sha1(str(len(\"\".join(boot1000.columns))).encode(\"utf-8\")+b\"63ea4e07561ddf09\").hexdigest() == \"3bb3f30a50b4f5a9cde6a6e85234b412cb36c1dd\", \"length of \\\"\\\".join(boot1000.columns) is not correct\"\n",
    "assert sha1(str(\"\".join(boot1000.columns).lower()).encode(\"utf-8\")+b\"63ea4e07561ddf09\").hexdigest() == \"aeb7c6b6b021583a6c75d4a04b3124745ea1b495\", \"value of \\\"\\\".join(boot1000.columns) is not correct\"\n",
    "assert sha1(str(\"\".join(boot1000.columns)).encode(\"utf-8\")+b\"63ea4e07561ddf09\").hexdigest() == \"aeb7c6b6b021583a6c75d4a04b3124745ea1b495\", \"correct string value of \\\"\\\".join(boot1000.columns) but incorrect case of letters\"\n",
    "\n",
    "assert sha1(str(type(boot1000.shape[0])).encode(\"utf-8\")+b\"3ea327557f6eab73\").hexdigest() == \"48da29bd7a46007a274c21ada92c85974e458eb9\", \"type of boot1000.shape[0] is not int. Please make sure it is int and not np.int64, etc. You can cast your value into an int using int()\"\n",
    "assert sha1(str(boot1000.shape[0]).encode(\"utf-8\")+b\"3ea327557f6eab73\").hexdigest() == \"2071cc49e555e315e8c3fc08c44a0a620d8ecb13\", \"value of boot1000.shape[0] is not correct\"\n",
    "\n",
    "assert sha1(str(type(round(sum(boot1000.age), 2))).encode(\"utf-8\")+b\"31c88848d898e601\").hexdigest() == \"7596397603fe220139e0fe69b56d2e516d885cf1\", \"type of round(sum(boot1000.age), 2) is not float. Please make sure it is float and not np.float64, etc. You can cast your value into a float using float()\"\n",
    "assert sha1(str(round(round(sum(boot1000.age), 2), 2)).encode(\"utf-8\")+b\"31c88848d898e601\").hexdigest() == \"852ef783bf8397129afa3aecf87017431a503ff9\", \"value of round(sum(boot1000.age), 2) is not correct (rounded to 2 decimal places)\"\n",
    "\n",
    "assert sha1(str(type(sum([x for x in range(boot1000.shape[0])]))).encode(\"utf-8\")+b\"1b92d85d10a9e979\").hexdigest() == \"c37bf45cc5c9c133920b082cc2382825a40c714b\", \"type of sum([x for x in range(boot1000.shape[0])]) is not int. Please make sure it is int and not np.int64, etc. You can cast your value into an int using int()\"\n",
    "assert sha1(str(sum([x for x in range(boot1000.shape[0])])).encode(\"utf-8\")+b\"1b92d85d10a9e979\").hexdigest() == \"b5ecd16717565d4481cf4f39cc9bae49c5d88682\", \"value of sum([x for x in range(boot1000.shape[0])]) is not correct\"\n",
    "\n",
    "print('Success!')"
   ]
  },
  {
   "cell_type": "markdown",
   "metadata": {
    "deletable": false,
    "editable": false,
    "nbgrader": {
     "cell_type": "markdown",
     "checksum": "2b364a8e7e238bbd65754aec737f6305",
     "grade": false,
     "grade_id": "cell-85473b296ef14d1c",
     "locked": true,
     "schema_version": 3,
     "solution": false,
     "task": false
    }
   },
   "source": [
    "**Question 2.3** \n",
    "<br> {points: 1}\n",
    "Calculate the mean of these 1000 bootstrap samples using `groupby` and `mean` and save result into a column called `mean_age`. Use `reset_index` so that the resulting data frame has two columns: `replicate` and `mean`. Name the data frame `boot1000_means`."
   ]
  },
  {
   "cell_type": "code",
   "execution_count": null,
   "metadata": {
    "deletable": false,
    "nbgrader": {
     "cell_type": "code",
     "checksum": "dcc7c1d09050e40ec4b40ee6316c5b02",
     "grade": false,
     "grade_id": "cell-51d5f2afbb677369",
     "locked": false,
     "schema_version": 3,
     "solution": true,
     "task": false
    }
   },
   "outputs": [],
   "source": [
    "# your code here\n",
    "raise NotImplementedError\n",
    "boot1000_means"
   ]
  },
  {
   "cell_type": "code",
   "execution_count": null,
   "metadata": {
    "deletable": false,
    "editable": false,
    "nbgrader": {
     "cell_type": "code",
     "checksum": "7833e6a3adf92183c05b55876e034bba",
     "grade": true,
     "grade_id": "cell-bcf16788d57cef52",
     "locked": true,
     "points": 1,
     "schema_version": 3,
     "solution": false,
     "task": false
    }
   },
   "outputs": [],
   "source": [
    "from hashlib import sha1\n",
    "assert sha1(str(type(boot1000_means.shape[0])).encode(\"utf-8\")+b\"3674122a6d8854c8\").hexdigest() == \"28a76771c0b951ef3b034a3ed6b550b87bd66946\", \"type of boot1000_means.shape[0] is not int. Please make sure it is int and not np.int64, etc. You can cast your value into an int using int()\"\n",
    "assert sha1(str(boot1000_means.shape[0]).encode(\"utf-8\")+b\"3674122a6d8854c8\").hexdigest() == \"d77231498d483051818598673d885d07daf16aa0\", \"value of boot1000_means.shape[0] is not correct\"\n",
    "\n",
    "assert sha1(str(type(boot1000_means.shape[1])).encode(\"utf-8\")+b\"540c96d6113009ae\").hexdigest() == \"4921a207aa1fecad4551b22ed2c922fae7aa7c26\", \"type of boot1000_means.shape[1] is not int. Please make sure it is int and not np.int64, etc. You can cast your value into an int using int()\"\n",
    "assert sha1(str(boot1000_means.shape[1]).encode(\"utf-8\")+b\"540c96d6113009ae\").hexdigest() == \"527c1570d667354d15c8cbe7c36fa15afe7a2e8b\", \"value of boot1000_means.shape[1] is not correct\"\n",
    "\n",
    "assert sha1(str(type(\"\".join(boot1000_means.columns))).encode(\"utf-8\")+b\"6264e31c8bda0d24\").hexdigest() == \"904c03056201d4d45ae371079ea0dcfdd1c28dd7\", \"type of \\\"\\\".join(boot1000_means.columns) is not str. \\\"\\\".join(boot1000_means.columns) should be an str\"\n",
    "assert sha1(str(len(\"\".join(boot1000_means.columns))).encode(\"utf-8\")+b\"6264e31c8bda0d24\").hexdigest() == \"d827aa18ecec8547aa032abe14c68af2933ebb34\", \"length of \\\"\\\".join(boot1000_means.columns) is not correct\"\n",
    "assert sha1(str(\"\".join(boot1000_means.columns).lower()).encode(\"utf-8\")+b\"6264e31c8bda0d24\").hexdigest() == \"50ecfe8571c3eee96997bb1211b7d58b0695c316\", \"value of \\\"\\\".join(boot1000_means.columns) is not correct\"\n",
    "assert sha1(str(\"\".join(boot1000_means.columns)).encode(\"utf-8\")+b\"6264e31c8bda0d24\").hexdigest() == \"50ecfe8571c3eee96997bb1211b7d58b0695c316\", \"correct string value of \\\"\\\".join(boot1000_means.columns) but incorrect case of letters\"\n",
    "\n",
    "assert sha1(str(type(round(boot1000_means[\"mean_age\"][0], 2))).encode(\"utf-8\")+b\"07f7ca853d7cf586\").hexdigest() == \"324d1f74eba722006a41d18f94611a7b52aa54a8\", \"type of round(boot1000_means[\\\"mean_age\\\"][0], 2) is not correct\"\n",
    "assert sha1(str(round(boot1000_means[\"mean_age\"][0], 2)).encode(\"utf-8\")+b\"07f7ca853d7cf586\").hexdigest() == \"1ff94d78cd163c085c8fefc9c810354acf499920\", \"value of round(boot1000_means[\\\"mean_age\\\"][0], 2) is not correct\"\n",
    "\n",
    "print('Success!')"
   ]
  },
  {
   "cell_type": "markdown",
   "metadata": {
    "deletable": false,
    "editable": false,
    "nbgrader": {
     "cell_type": "markdown",
     "checksum": "311960132a0be6d70c880f89e552da80",
     "grade": false,
     "grade_id": "cell-75683253957d46bd",
     "locked": true,
     "schema_version": 3,
     "solution": false,
     "task": false
    }
   },
   "source": [
    "**Question 2.4** \n",
    "<br> {points: 1}\n",
    "\n",
    "Visualize the distribution of the bootstrap sample point estimates (`boot1000_means`) you just calculated by plotting a histogram with `maxbins=30`. Name the plot `boot_est_dist` and give the plot and the x-axis a descriptive title."
   ]
  },
  {
   "cell_type": "code",
   "execution_count": null,
   "metadata": {
    "deletable": false,
    "nbgrader": {
     "cell_type": "code",
     "checksum": "d7c4aceb49dfc4585495e7454c8ced30",
     "grade": false,
     "grade_id": "cell-21f093a752cc5d8c",
     "locked": false,
     "schema_version": 3,
     "solution": true,
     "task": false
    }
   },
   "outputs": [],
   "source": [
    "# your code here\n",
    "raise NotImplementedError\n",
    "boot_est_dist"
   ]
  },
  {
   "cell_type": "code",
   "execution_count": null,
   "metadata": {
    "deletable": false,
    "editable": false,
    "nbgrader": {
     "cell_type": "code",
     "checksum": "f27d5cf930f67e627928d5b4ff434eb5",
     "grade": true,
     "grade_id": "cell-13a4f6d6fbcd8cbb",
     "locked": true,
     "points": 1,
     "schema_version": 3,
     "solution": false,
     "task": false
    }
   },
   "outputs": [],
   "source": [
    "from hashlib import sha1\n",
    "assert sha1(str(type(boot_est_dist.encoding.x.field)).encode(\"utf-8\")+b\"e1ae5db11524e510\").hexdigest() == \"2c5a25b9e120d0defe18f47dfefc7386eae4882c\", \"type of boot_est_dist.encoding.x.field is not correct\"\n",
    "assert sha1(str(boot_est_dist.encoding.x.field).encode(\"utf-8\")+b\"e1ae5db11524e510\").hexdigest() == \"aec24360d1624d42df526d785e46a01efd273bef\", \"value of boot_est_dist.encoding.x.field is not correct\"\n",
    "\n",
    "assert sha1(str(type(boot_est_dist.mark)).encode(\"utf-8\")+b\"a797208c2c3dd03a\").hexdigest() == \"ab501753fb06f3c4205999f3b9eff9ec56194614\", \"type of boot_est_dist.mark is not str. boot_est_dist.mark should be an str\"\n",
    "assert sha1(str(len(boot_est_dist.mark)).encode(\"utf-8\")+b\"a797208c2c3dd03a\").hexdigest() == \"5703bb20fb240e8c980564d69e18f23f006519b6\", \"length of boot_est_dist.mark is not correct\"\n",
    "assert sha1(str(boot_est_dist.mark.lower()).encode(\"utf-8\")+b\"a797208c2c3dd03a\").hexdigest() == \"21a4c0f0e2111658883a05f6529baaf477247aa6\", \"value of boot_est_dist.mark is not correct\"\n",
    "assert sha1(str(boot_est_dist.mark).encode(\"utf-8\")+b\"a797208c2c3dd03a\").hexdigest() == \"21a4c0f0e2111658883a05f6529baaf477247aa6\", \"correct string value of boot_est_dist.mark but incorrect case of letters\"\n",
    "\n",
    "assert sha1(str(type(boot_est_dist.data.shape[0])).encode(\"utf-8\")+b\"434f41bc420f7bd2\").hexdigest() == \"4a7022d9e530bdfadc84417a861aa42b25fd02d9\", \"type of boot_est_dist.data.shape[0] is not int. Please make sure it is int and not np.int64, etc. You can cast your value into an int using int()\"\n",
    "assert sha1(str(boot_est_dist.data.shape[0]).encode(\"utf-8\")+b\"434f41bc420f7bd2\").hexdigest() == \"a2f5a706cb8d3bb8db6e3a44c7c4900c2ed9afa1\", \"value of boot_est_dist.data.shape[0] is not correct\"\n",
    "\n",
    "assert sha1(str(type(round(sum(boot_est_dist.data.sum()), 2))).encode(\"utf-8\")+b\"8b6ca1f486f46b6e\").hexdigest() == \"7f275bc6ccf20168f73385911160ee6918541cc7\", \"type of round(sum(boot_est_dist.data.sum()), 2) is not float. Please make sure it is float and not np.float64, etc. You can cast your value into a float using float()\"\n",
    "assert sha1(str(round(round(sum(boot_est_dist.data.sum()), 2), 2)).encode(\"utf-8\")+b\"8b6ca1f486f46b6e\").hexdigest() == \"ef18739285b1b9c432684ee6777e2db901ea5db1\", \"value of round(sum(boot_est_dist.data.sum()), 2) is not correct (rounded to 2 decimal places)\"\n",
    "\n",
    "assert sha1(str(type(boot_est_dist.encoding.x.field != boot_est_dist.encoding.x.title)).encode(\"utf-8\")+b\"336cb3d6102af7cb\").hexdigest() == \"1b848c0593112ad816dfa04a8c0299a60b5fff2d\", \"type of boot_est_dist.encoding.x.field != boot_est_dist.encoding.x.title is not bool. boot_est_dist.encoding.x.field != boot_est_dist.encoding.x.title should be a bool\"\n",
    "assert sha1(str(boot_est_dist.encoding.x.field != boot_est_dist.encoding.x.title).encode(\"utf-8\")+b\"336cb3d6102af7cb\").hexdigest() == \"7bbd880f3f14181189f0c7cdb38a3e0fb46b83bf\", \"boolean value of boot_est_dist.encoding.x.field != boot_est_dist.encoding.x.title is not correct\"\n",
    "\n",
    "assert sha1(str(type(boot_est_dist.title is not None)).encode(\"utf-8\")+b\"6cce87db33c09439\").hexdigest() == \"7c84e15e94c14d8955c2e5659bdedaf36c87908d\", \"type of boot_est_dist.title is not None is not bool. boot_est_dist.title is not None should be a bool\"\n",
    "assert sha1(str(boot_est_dist.title is not None).encode(\"utf-8\")+b\"6cce87db33c09439\").hexdigest() == \"c17848957d745c692e48f5a67344ebe1d9e3cfea\", \"boolean value of boot_est_dist.title is not None is not correct\"\n",
    "\n",
    "print('Success!')"
   ]
  },
  {
   "cell_type": "markdown",
   "metadata": {
    "deletable": false,
    "editable": false,
    "nbgrader": {
     "cell_type": "markdown",
     "checksum": "ab6b0dcf3ba1c60460060f2f68a0dc2e",
     "grade": false,
     "grade_id": "cell-16863c73a0e61db1",
     "locked": true,
     "schema_version": 3,
     "solution": false,
     "task": false
    }
   },
   "source": [
    "How does the bootstrap distribution above compare to the sampling distribution? Let's visualize them side by side:"
   ]
  },
  {
   "cell_type": "code",
   "execution_count": null,
   "metadata": {
    "deletable": false,
    "editable": false,
    "nbgrader": {
     "cell_type": "code",
     "checksum": "5b344d5534b7b7b5ac9cf3a699883f46",
     "grade": false,
     "grade_id": "cell-a86b551fb1260606",
     "locked": true,
     "schema_version": 3,
     "solution": false,
     "task": false
    }
   },
   "outputs": [],
   "source": [
    "# Run this cell\n",
    "\n",
    "# Create sampling distribution from the population\n",
    "np.random.seed(4321)\n",
    "samples = pd.concat([\n",
    "    can_seniors.sample(40).assign(replicate=n)\n",
    "    for n in range(1000)\n",
    "])\n",
    "\n",
    "sample_estimates = (\n",
    "    samples.groupby(\"replicate\")\n",
    "    .mean()\n",
    "    .reset_index()\n",
    "    .rename(columns={\"age\": \"mean_age\"})\n",
    ")"
   ]
  },
  {
   "cell_type": "code",
   "execution_count": null,
   "metadata": {
    "deletable": false,
    "editable": false,
    "nbgrader": {
     "cell_type": "code",
     "checksum": "d68f12822b5d6097131fa4fd9f658d3f",
     "grade": false,
     "grade_id": "cell-a86b551fb126060d6",
     "locked": true,
     "schema_version": 3,
     "solution": false,
     "task": false
    }
   },
   "outputs": [],
   "source": [
    "# Visualize the sampling distribution\n",
    "sampling_dist = alt.Chart(\n",
    "    sample_estimates,\n",
    "    title=[\n",
    "        \"Sampling distribution\",\n",
    "        f'mean = {sample_estimates[\"mean_age\"].mean().round(1)}'\n",
    "    ]\n",
    ").mark_bar().encode(\n",
    "    x=alt.X(\"mean_age\")\n",
    "        .title(\"Sample mean age (years)\")\n",
    "        .bin(maxbins=30, extent=(72, 94)),\n",
    "    y=\"count()\"\n",
    ").properties(\n",
    "    height=150\n",
    ")\n",
    "\n",
    "# Plot both distribution\n",
    "boot_est_dist.encoding.x['bin']['extent'] = (72, 94)\n",
    "sampling_dist & boot_est_dist.properties(\n",
    "    height=150,\n",
    "    title=[\n",
    "        \"Bootstrap distribution\",\n",
    "        f'mean = {boot1000_means[\"mean_age\"].mean().round(1)}'\n",
    "    ]\n",
    ")"
   ]
  },
  {
   "cell_type": "markdown",
   "metadata": {
    "deletable": false,
    "editable": false,
    "nbgrader": {
     "cell_type": "markdown",
     "checksum": "a913f796caa5374e7ae4202485969829",
     "grade": false,
     "grade_id": "cell-2529f74ae181fd44",
     "locked": true,
     "schema_version": 3,
     "solution": false,
     "task": false
    }
   },
   "source": [
    "Reminder: the true population quantity we are trying to estimate, the population mean, is about 79 years. We know this because we created this population and calculated this value. In real life we wouldn't know this value."
   ]
  },
  {
   "cell_type": "markdown",
   "metadata": {
    "deletable": false,
    "editable": false,
    "nbgrader": {
     "cell_type": "markdown",
     "checksum": "1c4e3184a599f5341cb5e56a83fc2bf3",
     "grade": false,
     "grade_id": "cell-15147e6c224ccb72",
     "locked": true,
     "schema_version": 3,
     "solution": false,
     "task": false
    }
   },
   "source": [
    "**Question 2.5** True/False\n",
    "<br> {points: 1}\n",
    "\n",
    "The mean of the bootstrap distribution is the same value as the mean of the sampling distribution of the sample means. True or false?\n",
    "\n",
    "*Assign your answer to an object called `answer2_5`. Your answer should be a boolean. i.e. `True` or `False`.*"
   ]
  },
  {
   "cell_type": "code",
   "execution_count": null,
   "metadata": {
    "deletable": false,
    "nbgrader": {
     "cell_type": "code",
     "checksum": "361feba52b818934ec4c11328ddd8630",
     "grade": false,
     "grade_id": "cell-0e3ed3ca2495a0bc",
     "locked": false,
     "schema_version": 3,
     "solution": true,
     "task": false
    }
   },
   "outputs": [],
   "source": [
    "# your code here\n",
    "raise NotImplementedError"
   ]
  },
  {
   "cell_type": "code",
   "execution_count": null,
   "metadata": {
    "deletable": false,
    "editable": false,
    "nbgrader": {
     "cell_type": "code",
     "checksum": "82c9d736f9b9f47af98962c632b7c9a1",
     "grade": true,
     "grade_id": "cell-3ea212ad593b9f57",
     "locked": true,
     "points": 1,
     "schema_version": 3,
     "solution": false,
     "task": false
    }
   },
   "outputs": [],
   "source": [
    "from hashlib import sha1\n",
    "assert sha1(str(type(answer2_5)).encode(\"utf-8\")+b\"333109d573571c48\").hexdigest() == \"d618314225389beb0290bfb10d387a32cd60d128\", \"type of answer2_5 is not bool. answer2_5 should be a bool\"\n",
    "assert sha1(str(answer2_5).encode(\"utf-8\")+b\"333109d573571c48\").hexdigest() == \"a59fe9c410208efa31f91b58e1c553bedc1e3aa6\", \"boolean value of answer2_5 is not correct\"\n",
    "\n",
    "print('Success!')"
   ]
  },
  {
   "cell_type": "markdown",
   "metadata": {
    "deletable": false,
    "editable": false,
    "nbgrader": {
     "cell_type": "markdown",
     "checksum": "36a16be1a9d202d096b583e4d1c8a6b6",
     "grade": false,
     "grade_id": "cell-8f170c7bb0c58227",
     "locked": true,
     "schema_version": 3,
     "solution": false,
     "task": false
    }
   },
   "source": [
    "**Question 2.6** True/False\n",
    "<br> {points: 1}\n",
    "\n",
    "The mean of the bootstrap distribution is not the same value as the mean of the sampling distribution because the bootstrap distribution was created from samples drawn from a single sample, whereas the sampling distribution was created from samples drawn from the population. True or false?\n",
    "\n",
    "*Assign your answer to an object called `answer2_6`. Your answer should be a boolean. i.e. `True` or `False`.*"
   ]
  },
  {
   "cell_type": "code",
   "execution_count": null,
   "metadata": {
    "deletable": false,
    "nbgrader": {
     "cell_type": "code",
     "checksum": "f5c5ee6c8148592a4abd673e7a34c1bf",
     "grade": false,
     "grade_id": "cell-230cf28d4590a63d",
     "locked": false,
     "schema_version": 3,
     "solution": true,
     "task": false
    }
   },
   "outputs": [],
   "source": [
    "# your code here\n",
    "raise NotImplementedError"
   ]
  },
  {
   "cell_type": "code",
   "execution_count": null,
   "metadata": {
    "deletable": false,
    "editable": false,
    "nbgrader": {
     "cell_type": "code",
     "checksum": "e5a4ff746589d886bfb3472a4641ba8b",
     "grade": true,
     "grade_id": "cell-b167494acba2816d",
     "locked": true,
     "points": 1,
     "schema_version": 3,
     "solution": false,
     "task": false
    }
   },
   "outputs": [],
   "source": [
    "from hashlib import sha1\n",
    "assert sha1(str(type(answer2_6)).encode(\"utf-8\")+b\"a894b33697ac9a10\").hexdigest() == \"e9b4b2abef496dc57a308a7475f233297be3c714\", \"type of answer2_6 is not bool. answer2_6 should be a bool\"\n",
    "assert sha1(str(answer2_6).encode(\"utf-8\")+b\"a894b33697ac9a10\").hexdigest() == \"9a21d707cf0fb5353389b8e11284f8e181e822e1\", \"boolean value of answer2_6 is not correct\"\n",
    "\n",
    "print('Success!')"
   ]
  },
  {
   "cell_type": "markdown",
   "metadata": {
    "deletable": false,
    "editable": false,
    "nbgrader": {
     "cell_type": "markdown",
     "checksum": "b246e1122d1314010929999e97df9ab0",
     "grade": false,
     "grade_id": "cell-c569dabb88890bfc",
     "locked": true,
     "schema_version": 3,
     "solution": false,
     "task": false
    }
   },
   "source": [
    "**Question 2.7** True/False\n",
    "<br> {points: 1}\n",
    "\n",
    "The shape and spread (i.e. width) of the distribution of the bootstrap sample means is a poor approximation of the shape and spread of the sampling distribution of the sample means. True or false?\n",
    "\n",
    "*Assign your answer to an object called `answer2_7`. Your answer should be a boolean. i.e. `True` or `False`.*"
   ]
  },
  {
   "cell_type": "code",
   "execution_count": null,
   "metadata": {
    "deletable": false,
    "nbgrader": {
     "cell_type": "code",
     "checksum": "34f45cda41591164dc4e6557b14fc030",
     "grade": false,
     "grade_id": "cell-f82d46022821b073",
     "locked": false,
     "schema_version": 3,
     "solution": true,
     "task": false
    }
   },
   "outputs": [],
   "source": [
    "# your code here\n",
    "raise NotImplementedError"
   ]
  },
  {
   "cell_type": "code",
   "execution_count": null,
   "metadata": {
    "deletable": false,
    "editable": false,
    "nbgrader": {
     "cell_type": "code",
     "checksum": "e7c5bb659e05302ff758831d7e312ef2",
     "grade": true,
     "grade_id": "cell-2ab1350547ae451d",
     "locked": true,
     "points": 1,
     "schema_version": 3,
     "solution": false,
     "task": false
    }
   },
   "outputs": [],
   "source": [
    "from hashlib import sha1\n",
    "assert sha1(str(type(answer2_7)).encode(\"utf-8\")+b\"bdbc82c0515a9d0b\").hexdigest() == \"cc0f0c1808e5fde91662e9fc5185cafe398a610b\", \"type of answer2_7 is not bool. answer2_7 should be a bool\"\n",
    "assert sha1(str(answer2_7).encode(\"utf-8\")+b\"bdbc82c0515a9d0b\").hexdigest() == \"06fe92e661e89166e8952db2c3dfddbd0aa9d533\", \"boolean value of answer2_7 is not correct\"\n",
    "\n",
    "print('Success!')"
   ]
  },
  {
   "cell_type": "markdown",
   "metadata": {
    "deletable": false,
    "editable": false,
    "nbgrader": {
     "cell_type": "markdown",
     "checksum": "8101b7b2097db5050f2c8b58c975ef53",
     "grade": false,
     "grade_id": "cell-8399b964d743f33c",
     "locked": true,
     "schema_version": 3,
     "solution": false,
     "task": false
    }
   },
   "source": [
    "**Question 2.8** True/False\n",
    "<br> {points: 1}\n",
    "\n",
    "In real life, where we only have one sample and cannot create a sampling distribution, the distribution of the bootstrap sample estimates (here means) can suggest how we might expect our point estimate to behave if we took another sample. True or false?\n",
    "\n",
    "*Assign your answer to an object called `answer2_8`. Your answer should be a boolean. i.e. `True` or `False`.*"
   ]
  },
  {
   "cell_type": "code",
   "execution_count": null,
   "metadata": {
    "deletable": false,
    "nbgrader": {
     "cell_type": "code",
     "checksum": "1a27c57aaadcd38d1347724ed72004f8",
     "grade": false,
     "grade_id": "cell-59cfd94899e457a7",
     "locked": false,
     "schema_version": 3,
     "solution": true,
     "task": false
    }
   },
   "outputs": [],
   "source": [
    "# your code here\n",
    "raise NotImplementedError"
   ]
  },
  {
   "cell_type": "code",
   "execution_count": null,
   "metadata": {
    "deletable": false,
    "editable": false,
    "nbgrader": {
     "cell_type": "code",
     "checksum": "f1bc15bcefa42075a545f2af6ac3c85f",
     "grade": true,
     "grade_id": "cell-4d2a0325f4fd2406",
     "locked": true,
     "points": 1,
     "schema_version": 3,
     "solution": false,
     "task": false
    }
   },
   "outputs": [],
   "source": [
    "from hashlib import sha1\n",
    "assert sha1(str(type(answer2_8)).encode(\"utf-8\")+b\"1371c1dcf5207cb7\").hexdigest() == \"193b81d90fa1297e597dafe9dbff63d1a145d14b\", \"type of answer2_8 is not bool. answer2_8 should be a bool\"\n",
    "assert sha1(str(answer2_8).encode(\"utf-8\")+b\"1371c1dcf5207cb7\").hexdigest() == \"33dd7313ca3d23098f3f2b3be236b1c14fbe67fd\", \"boolean value of answer2_8 is not correct\"\n",
    "\n",
    "print('Success!')"
   ]
  },
  {
   "cell_type": "markdown",
   "metadata": {
    "deletable": false,
    "editable": false,
    "nbgrader": {
     "cell_type": "markdown",
     "checksum": "e1922c201ead42beb140513403972276",
     "grade": false,
     "grade_id": "cell-3af745f41b79a813",
     "locked": true,
     "schema_version": 3,
     "solution": false,
     "task": false
    }
   },
   "source": [
    "### Using the bootstrap distribution to calculate a plausible range for point estimates\n",
    "\n",
    "Once we have created a bootstrap distribution, we can use it to suggest a plausible range where we might expect the true population quantity to lie. One formal name for a commonly used plausible range is called a confidence interval. Confidence intervals can be set at different levels, an example of a commonly used level is 95%. When we report a point estimate with a 95% confidence interval as the plausible range, formally we are saying that if we repeated this process of building confidence intervals more times with more samples, we’d expect ~ 95% of them to contain the value of the population quantity.\n",
    "\n",
    "> How do you choose a level for a confidence interval? You have to consider the downstream application of your estimation and what the cost/consequence of an incorrect estimate would be. The higher the cost/consequence, the higher a confidence level you would want to use. You will learn more about this in later Statistics courses.\n",
    "\n",
    "To calculate an approximate 95% confidence interval using bootstrapping, we essentially order the values in our bootstrap distribution and then take the value at the 2.5th percentile as the lower bound of the plausible range, and the 97.5th percentile as the upper bound of the plausible range. "
   ]
  },
  {
   "cell_type": "code",
   "execution_count": null,
   "metadata": {
    "deletable": false,
    "editable": false,
    "nbgrader": {
     "cell_type": "code",
     "checksum": "bdbc007791e1f87fe97a94e313fb0633",
     "grade": false,
     "grade_id": "cell-4e8bd702d14d0973",
     "locked": true,
     "schema_version": 3,
     "solution": false,
     "task": false
    }
   },
   "outputs": [],
   "source": [
    "# Run this cell\n",
    "# A \"quantile\" is a at 100th of a percentile (similar to a proportion vs a percentage)\n",
    "boot1000_means[\"mean_age\"].quantile([0.025, 0.975])"
   ]
  },
  {
   "cell_type": "markdown",
   "metadata": {
    "deletable": false,
    "editable": false,
    "nbgrader": {
     "cell_type": "markdown",
     "checksum": "43aedf483265e87632ac48a7a8d93fb9",
     "grade": false,
     "grade_id": "cell-671ea52cb570ec80",
     "locked": true,
     "schema_version": 3,
     "solution": false,
     "task": false
    }
   },
   "source": [
    "Thus, to finish our estimation of the population quantity that we are trying to estimate, we would report the point estimate and the lower and upper bounds of our confidence interval. We would say something like this:\n",
    "\n",
    "Our sample mean age for Canadian seniors was measured to be 83.7 years, and we’re 95% \"confident\" that the true population mean for Canadian seniors is between 78.8 and 89.2. \n",
    "\n",
    "Here our 95% confidence interval does contain the true population mean for Canadian seniors, 79 years - pretty neat! However, in real life we would never be able to know this because we only have observations from a single sample, not the whole population."
   ]
  },
  {
   "cell_type": "markdown",
   "metadata": {
    "deletable": false,
    "editable": false,
    "nbgrader": {
     "cell_type": "markdown",
     "checksum": "1b0d85f0084376db3746016fb9f6bba4",
     "grade": false,
     "grade_id": "cell-9453844511483837",
     "locked": true,
     "schema_version": 3,
     "solution": false,
     "task": false
    }
   },
   "source": [
    "**Question 2.9** True/False\n",
    "<br> {points: 1}\n",
    "\n",
    "For any sample we take, if we use bootstrapping to calculate the 95% confidence intervals, the true population quantity we are trying to estimate would always fall within the lower and upper bounds of the confidence interval. True or false?\n",
    "\n",
    "*Assign your answer to an object called `answer2_9`. Your answer should be a boolean. i.e. `True` or `False`.*"
   ]
  },
  {
   "cell_type": "code",
   "execution_count": null,
   "metadata": {
    "deletable": false,
    "nbgrader": {
     "cell_type": "code",
     "checksum": "9b1b0ef7046e443eb9ddc1b4a1931b5d",
     "grade": false,
     "grade_id": "cell-91e462917a53edad",
     "locked": false,
     "schema_version": 3,
     "solution": true,
     "task": false
    }
   },
   "outputs": [],
   "source": [
    "# your code here\n",
    "raise NotImplementedError"
   ]
  },
  {
   "cell_type": "code",
   "execution_count": null,
   "metadata": {
    "deletable": false,
    "editable": false,
    "nbgrader": {
     "cell_type": "code",
     "checksum": "0d479a1e9790a37739ffd793cbe76e0d",
     "grade": true,
     "grade_id": "cell-e0a24858ef65cea9",
     "locked": true,
     "points": 1,
     "schema_version": 3,
     "solution": false,
     "task": false
    }
   },
   "outputs": [],
   "source": [
    "from hashlib import sha1\n",
    "assert sha1(str(type(answer2_9)).encode(\"utf-8\")+b\"2f9650a96fd69a6e\").hexdigest() == \"1e705bec67edddd3e0c1c67873a1cb4408ceefa5\", \"type of answer2_9 is not bool. answer2_9 should be a bool\"\n",
    "assert sha1(str(answer2_9).encode(\"utf-8\")+b\"2f9650a96fd69a6e\").hexdigest() == \"0f98b3a0d6530b7653ec812b3140431b5c7376c8\", \"boolean value of answer2_9 is not correct\"\n",
    "\n",
    "print('Success!')"
   ]
  }
 ],
 "metadata": {
  "jupytext": {
   "encoding": "# -*- coding: utf-8 -*-"
  },
  "kernelspec": {
   "display_name": "Python 3 (ipykernel)",
   "language": "python",
   "name": "python3"
  },
  "language_info": {
   "codemirror_mode": {
    "name": "ipython",
    "version": 3
   },
   "file_extension": ".py",
   "mimetype": "text/x-python",
   "name": "python",
   "nbconvert_exporter": "python",
   "pygments_lexer": "ipython3",
   "version": "3.11.5"
  }
 },
 "nbformat": 4,
 "nbformat_minor": 4
}
